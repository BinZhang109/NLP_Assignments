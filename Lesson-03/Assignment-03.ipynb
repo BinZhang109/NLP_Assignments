{
 "cells": [
  {
   "cell_type": "markdown",
   "metadata": {},
   "source": [
    "## Lecture-03 Gradient Descent and Dymanic Programming"
   ]
  },
  {
   "cell_type": "markdown",
   "metadata": {},
   "source": [
    "In this week, we need complete following tasks:\n",
    "+ Re-review the course online programming; \n",
    "+ Choose 1 - 2 books which you interested and keep reading; \n",
    "+ Answer the review questions\n",
    "+ Prepare the basic requirement of our 1st project. "
   ]
  },
  {
   "cell_type": "markdown",
   "metadata": {},
   "source": [
    "### Part I Review the online programming. "
   ]
  },
  {
   "cell_type": "markdown",
   "metadata": {},
   "source": [
    "### Part 2: change loss function from $loss = \\frac{1}{n}\\sum{(y_i - \\hat(y_i))^2}$ to $loss = \\frac{1}{n}\\sum{|y_i - \\hat{y_i}|}$, and using your mathmatical knowledge to get the right partial formual. Implemen the gradient descent code."
   ]
  },
  {
   "cell_type": "code",
   "execution_count": 5,
   "metadata": {},
   "outputs": [],
   "source": [
    "from sklearn.datasets import load_boston"
   ]
  },
  {
   "cell_type": "code",
   "execution_count": 6,
   "metadata": {},
   "outputs": [],
   "source": [
    "data = load_boston()"
   ]
  },
  {
   "cell_type": "code",
   "execution_count": 7,
   "metadata": {},
   "outputs": [],
   "source": [
    "x, y = data['data'], data['target']"
   ]
  },
  {
   "cell_type": "code",
   "execution_count": 8,
   "metadata": {},
   "outputs": [
    {
     "data": {
      "text/plain": [
       "array([2.7310e-02, 0.0000e+00, 7.0700e+00, 0.0000e+00, 4.6900e-01,\n",
       "       6.4210e+00, 7.8900e+01, 4.9671e+00, 2.0000e+00, 2.4200e+02,\n",
       "       1.7800e+01, 3.9690e+02, 9.1400e+00])"
      ]
     },
     "execution_count": 8,
     "metadata": {},
     "output_type": "execute_result"
    }
   ],
   "source": [
    "x[1]"
   ]
  },
  {
   "cell_type": "code",
   "execution_count": 9,
   "metadata": {},
   "outputs": [
    {
     "data": {
      "text/plain": [
       "21.6"
      ]
     },
     "execution_count": 9,
     "metadata": {},
     "output_type": "execute_result"
    }
   ],
   "source": [
    "y[1]"
   ]
  },
  {
   "cell_type": "code",
   "execution_count": 10,
   "metadata": {},
   "outputs": [],
   "source": [
    "%matplotlib inline"
   ]
  },
  {
   "cell_type": "code",
   "execution_count": 11,
   "metadata": {},
   "outputs": [],
   "source": [
    "import matplotlib.pylab as plt"
   ]
  },
  {
   "cell_type": "code",
   "execution_count": 20,
   "metadata": {},
   "outputs": [],
   "source": [
    "x_rm = x[:, 5]"
   ]
  },
  {
   "cell_type": "code",
   "execution_count": 21,
   "metadata": {},
   "outputs": [],
   "source": [
    "def draw_rm_and_price():\n",
    "    plt.scatter(x_rm, y)"
   ]
  },
  {
   "cell_type": "code",
   "execution_count": 22,
   "metadata": {},
   "outputs": [
    {
     "data": {
      "image/png": "[encoded data removed]",
      "text/plain": [
       "<Figure size 432x288 with 1 Axes>"
      ]
     },
     "metadata": {
      "needs_background": "light"
     },
     "output_type": "display_data"
    }
   ],
   "source": [
    "draw_rm_and_price()"
   ]
  },
  {
   "cell_type": "markdown",
   "metadata": {},
   "source": [
    "## loss\n",
    "\n",
    "$$ loss = \\frac{1}{n}\\sum{|y_i - \\hat{y_i}|}$$"
   ]
  },
  {
   "cell_type": "markdown",
   "metadata": {},
   "source": [
    "$$ loss = \\frac{1}{n}\\sum{|y_i - (kx_i + b)|}$$"
   ]
  },
  {
   "cell_type": "markdown",
   "metadata": {},
   "source": [
    "$yi > \\hat{y_i}:$ $$   \\frac{\\partial{loss}}{\\partial{k}} = -\\frac{1}{n}\\sum x_i$$"
   ]
  },
  {
   "cell_type": "markdown",
   "metadata": {},
   "source": [
    "$yi < \\hat{y_i}:$ $$   \\frac{\\partial{loss}}{\\partial{k}} = \\frac{1}{n}\\sum x_i $$"
   ]
  },
  {
   "cell_type": "markdown",
   "metadata": {},
   "source": [
    "$yi > \\hat{y_i}:$ $$   \\frac{\\partial{loss}}{\\partial{b}} = \\frac{1}{n}\\sum -1$$"
   ]
  },
  {
   "cell_type": "markdown",
   "metadata": {},
   "source": [
    "$yi > \\hat{y_i}:$ $$   \\frac{\\partial{loss}}{\\partial{b}} = \\frac{1}{n}\\sum 1$$"
   ]
  },
  {
   "cell_type": "code",
   "execution_count": 41,
   "metadata": {},
   "outputs": [],
   "source": [
    "def loss(y, y_hat):\n",
    "    return sum(abs(y_i - y_hat_i) for y_i, y_hat_i in zip(list(y), list(y_hat))) / len(list(y))"
   ]
  },
  {
   "cell_type": "code",
   "execution_count": 23,
   "metadata": {},
   "outputs": [],
   "source": [
    "def price(rm, k, b):\n",
    "    return k * rm + b"
   ]
  },
  {
   "cell_type": "code",
   "execution_count": 29,
   "metadata": {},
   "outputs": [],
   "source": [
    "def patial_k(x, y, y_hat):\n",
    "    n = len(y)    \n",
    "    gardient = 0\n",
    "    for x_i, y_i, y_hat_i in zip(list(x), list(y), list(y_hat)):\n",
    "        if y_i > y_hat_i:\n",
    "            gardient -= x_i\n",
    "        else:\n",
    "            gardient += x_i\n",
    "    return 1 / n * gardient\n",
    "\n",
    "def patial_b(x, y, y_hat):\n",
    "    n = len(y)    \n",
    "    gardient = 0\n",
    "    for x_i, y_i, y_hat_i in zip(list(x), list(y), list(y_hat)):\n",
    "        if y_i > y_hat_i:\n",
    "            gardient += -1\n",
    "        else:\n",
    "            gardient -= 1\n",
    "    return 1 / n * gardient\n",
    "    "
   ]
  },
  {
   "cell_type": "code",
   "execution_count": 24,
   "metadata": {},
   "outputs": [],
   "source": [
    "import random"
   ]
  },
  {
   "cell_type": "code",
   "execution_count": 43,
   "metadata": {
    "scrolled": true
   },
   "outputs": [
    {
     "name": "stdout",
     "output_type": "stream",
     "text": [
      "When time is : 0, get best_k : -82.90344514712078 best_b : -78.83207563438339, and the loss is : 622.3827241600214\n",
      "When time is : 500, get best_k : -79.76112795344281 best_b : -78.332075634381, and the loss is : 602.1344094686632\n",
      "When time is : 1000, get best_k : -76.61881075976484 best_b : -77.83207563437861, and the loss is : 581.8860947773061\n",
      "When time is : 1500, get best_k : -73.47649356608687 best_b : -77.33207563437622, and the loss is : 561.6377800859486\n",
      "When time is : 2000, get best_k : -70.3341763724089 best_b : -76.83207563437384, and the loss is : 541.3894653945904\n",
      "When time is : 2500, get best_k : -67.19185917873094 best_b : -76.33207563437145, and the loss is : 521.1411507032328\n",
      "When time is : 3000, get best_k : -64.04954198505297 best_b : -75.83207563436906, and the loss is : 500.89283601187515\n",
      "When time is : 3500, get best_k : -60.9072247913785 best_b : -75.33207563436667, and the loss is : 480.64452132053947\n",
      "When time is : 4000, get best_k : -57.76490759770409 best_b : -74.83207563436429, and the loss is : 460.39620662920413\n",
      "When time is : 4500, get best_k : -54.62259040402967 best_b : -74.3320756343619, and the loss is : 440.14789193786896\n",
      "When time is : 5000, get best_k : -51.48027321035526 best_b : -73.83207563435951, and the loss is : 419.8995772465337\n",
      "When time is : 5500, get best_k : -48.33795601668084 best_b : -73.33207563435712, and the loss is : 399.65126255519834\n",
      "When time is : 6000, get best_k : -45.195638823006426 best_b : -72.83207563435474, and the loss is : 379.4029478638621\n",
      "When time is : 6500, get best_k : -42.05332162933201 best_b : -72.33207563435235, and the loss is : 359.15463317252744\n",
      "When time is : 7000, get best_k : -38.911004435657595 best_b : -71.83207563434996, and the loss is : 338.906318481192\n",
      "When time is : 7500, get best_k : -35.76868724198318 best_b : -71.33207563434758, and the loss is : 318.65800378985665\n",
      "When time is : 8000, get best_k : -32.626370048308765 best_b : -70.83207563434519, and the loss is : 298.4096890985216\n",
      "When time is : 8500, get best_k : -29.484052854632925 best_b : -70.3320756343428, and the loss is : 278.1613744071769\n",
      "When time is : 9000, get best_k : -26.341735660956733 best_b : -69.83207563434041, and the loss is : 257.9130597158307\n",
      "When time is : 9500, get best_k : -23.19941846728054 best_b : -69.33207563433803, and the loss is : 237.66474502448352\n",
      "When time is : 10000, get best_k : -20.05710127360435 best_b : -68.83207563433564, and the loss is : 217.41643033313738\n",
      "When time is : 10500, get best_k : -16.914784079928157 best_b : -68.33207563433325, and the loss is : 197.1681156417907\n",
      "When time is : 11000, get best_k : -13.772466886251966 best_b : -67.83207563433086, and the loss is : 176.91980095044434\n",
      "When time is : 11500, get best_k : -10.630149692575774 best_b : -67.33207563432848, and the loss is : 156.67148625909775\n",
      "When time is : 12000, get best_k : -7.487832498899655 best_b : -66.83207563432609, and the loss is : 136.42317156775175\n",
      "When time is : 12500, get best_k : -4.345515305223907 best_b : -66.3320756343237, and the loss is : 116.17485687640787\n",
      "When time is : 13000, get best_k : -1.2031981115479897 best_b : -65.83207563432131, and the loss is : 95.92654218506313\n",
      "When time is : 13500, get best_k : 1.939119082127896 best_b : -65.33207563431893, and the loss is : 75.67822749371857\n",
      "When time is : 14000, get best_k : 5.081436275803787 best_b : -64.83207563431654, and the loss is : 55.42991280237402\n",
      "When time is : 14500, get best_k : 8.223753469479567 best_b : -64.33207563431415, and the loss is : 35.18159811103008\n",
      "When time is : 15000, get best_k : 11.341815497147662 best_b : -63.83207563431296, and the loss is : 15.238201125136593\n",
      "When time is : 15500, get best_k : 13.449025939835437 best_b : -63.33207563431412, and the loss is : 5.077319495379655\n",
      "When time is : 16000, get best_k : 13.625390196752384 best_b : -62.83207563431529, and the loss is : 4.873537154723595\n",
      "When time is : 16500, get best_k : 13.54890385287923 best_b : -62.33207563431645, and the loss is : 4.855609606816268\n",
      "When time is : 17000, get best_k : 13.467187509005702 best_b : -61.83207563431762, and the loss is : 4.837364967631593\n",
      "When time is : 17500, get best_k : 13.386468769875064 best_b : -61.332075634318784, and the loss is : 4.819946374705547\n",
      "When time is : 18000, get best_k : 13.304062643392482 best_b : -60.83207563431995, and the loss is : 4.802412266171925\n",
      "When time is : 18500, get best_k : 13.224461931929735 best_b : -60.332075634321114, and the loss is : 4.785403560149319\n",
      "When time is : 19000, get best_k : 13.145712793589402 best_b : -59.83207563432228, and the loss is : 4.768803661478914\n",
      "When time is : 19500, get best_k : 13.065496675012332 best_b : -59.332075634323445, and the loss is : 4.752514602668464\n"
     ]
    }
   ],
   "source": [
    "trying_times = 20000\n",
    "\n",
    "min_loss = float('inf')\n",
    "\n",
    "current_k = random.random() * 200 - 100\n",
    "current_b = random.random() * 200 - 100\n",
    "\n",
    "learning_rate = 1e-03\n",
    "\n",
    "for i in range(trying_times):\n",
    "    \n",
    "    price_by_k_and_b = [price(r, current_k, current_b) for r in x_rm]\n",
    "    \n",
    "    current_loss = loss(y, price_by_k_and_b)\n",
    "    \n",
    "    if current_loss < min_loss:\n",
    "        min_loss = current_loss\n",
    "        \n",
    "        if i % 500 == 0:\n",
    "            print('When time is : {}, get best_k : {} best_b : {}, and the loss is : {}'.format(i, current_k, current_b, current_loss))\n",
    "            \n",
    "    k_gradient = patial_k(x_rm, y, price_by_k_and_b)\n",
    "    b_gradient = patial_b(x_rm, y, price_by_k_and_b)\n",
    "    \n",
    "    current_k = current_k + ( -1 * k_gradient) * learning_rate\n",
    "    current_b = current_b + ( -1 * b_gradient) * learning_rate\n",
    "    \n"
   ]
  },
  {
   "cell_type": "code",
   "execution_count": 44,
   "metadata": {},
   "outputs": [
    {
     "data": {
      "text/plain": [
       "<matplotlib.collections.PathCollection at 0x19128717518>"
      ]
     },
     "execution_count": 44,
     "metadata": {},
     "output_type": "execute_result"
    },
    {
     "data": {
      "image/png": "[encoded data removed]",
      "text/plain": [
       "<Figure size 432x288 with 1 Axes>"
      ]
     },
     "metadata": {
      "needs_background": "light"
     },
     "output_type": "display_data"
    }
   ],
   "source": [
    "k = 13.065496675012332\n",
    "b = -59.33207563432344\n",
    "price_by_random_k_and_b = [price(r, k, b) for r in x_rm]\n",
    "\n",
    "draw_rm_and_price()\n",
    "plt.scatter(x_rm, price_by_random_k_and_b)"
   ]
  },
  {
   "cell_type": "markdown",
   "metadata": {},
   "source": [
    "### Part 3: Finish the Solution Parse Part of Edit-Distance"
   ]
  },
  {
   "cell_type": "markdown",
   "metadata": {},
   "source": [
    "参考自https://www.jianshu.com/p/a617d20162cf\n",
    "其中指示函数和第二行（index = 1）推导有误"
   ]
  },
  {
   "cell_type": "code",
   "execution_count": 11,
   "metadata": {},
   "outputs": [],
   "source": [
    "def Edit_Distance(str1, str2):\n",
    "    \"\"\"\n",
    "    计算字符串 str1 和 str2 的编辑距离\n",
    "    :param str1\n",
    "    :param str2\n",
    "    :return:\n",
    "    \"\"\"\n",
    "    # i+j的原因主要是为了记录0行0列的数据，其他的都会在后面替换成正确的值\n",
    "    matrix = [[ i + j for j in range(len(str2) + 1)] for i in range(len(str1) + 1)]\n",
    "\n",
    "    for i in range(1, len(str1)+1):\n",
    "        for j in range(1, len(str2)+1):\n",
    "            if(str1[i-1] == str2[j-1]):\n",
    "                d = 0\n",
    "            else:\n",
    "                d = 1\n",
    "            \n",
    "            matrix[i][j] = min(matrix[i-1][j]+1, matrix[i][j-1]+1, matrix[i-1][j-1]+d)\n",
    "\n",
    "    return matrix[len(str1)][len(str2)]\n"
   ]
  },
  {
   "cell_type": "code",
   "execution_count": 12,
   "metadata": {
    "scrolled": true
   },
   "outputs": [
    {
     "name": "stdout",
     "output_type": "stream",
     "text": [
      "[[0, 1, 2, 3, 4], [1, 2, 3, 4, 5], [2, 3, 4, 5, 6], [3, 4, 5, 6, 7], [4, 5, 6, 7, 8], [5, 6, 7, 8, 9]]\n"
     ]
    },
    {
     "data": {
      "text/plain": [
       "3"
      ]
     },
     "execution_count": 12,
     "metadata": {},
     "output_type": "execute_result"
    }
   ],
   "source": [
    "Edit_Distance('ahfds', 'fhdj')"
   ]
  },
  {
   "cell_type": "markdown",
   "metadata": {},
   "source": [
    "老师的原代码"
   ]
  },
  {
   "cell_type": "code",
   "execution_count": 52,
   "metadata": {},
   "outputs": [],
   "source": [
    "solution = {}"
   ]
  },
  {
   "cell_type": "code",
   "execution_count": 53,
   "metadata": {},
   "outputs": [],
   "source": [
    "from functools import lru_cache"
   ]
  },
  {
   "cell_type": "code",
   "execution_count": 54,
   "metadata": {},
   "outputs": [],
   "source": [
    "i = 0\n",
    "@lru_cache(maxsize=2**10)\n",
    "def edit_distance(string1, string2):\n",
    "    global i\n",
    "    i += 1\n",
    "    \n",
    "    if len(string1) == 0: return len(string2)\n",
    "    if len(string2) == 0: return len(string1)\n",
    "    \n",
    "    tail_s1 = string1[-1]\n",
    "    tail_s2 = string2[-1]\n",
    "    \n",
    "    candidates = [\n",
    "        (edit_distance(string1[:-1], string2) + 1, 'DEL {}'.format(tail_s1)),\n",
    "        # delete tail_s1 for string 1; edit_distance + 1 for each deletion\n",
    "        (edit_distance(string1, string2[:-1]) + 1, 'ADD {}'.format(tail_s2))\n",
    "        # add tail_s2 to string 1; edit_distance + 1 for each addition\n",
    "    ]\n",
    "    \n",
    "    if tail_s1 == tail_s2:\n",
    "        both_forward = (edit_distance(string1[:-1], string2[:-1]) + 0, '')\n",
    "        # no edits\n",
    "    else:\n",
    "        both_forward = (edit_distance(string1[:-1], string2[:-1]) + 1, \n",
    "                        'SUB {} => {}'.format(tail_s1, tail_s2))\n",
    "        # substitute tail_s2 for tail_s1; edit_distance + 1 for each substitution\n",
    "        \n",
    "    candidates.append(both_forward)\n",
    "    \n",
    "    min_distance, operation = min(candidates, key=lambda x: x[0])\n",
    "    # find the minimal edit distance among all possible operations\n",
    "    \n",
    "    solution[(string1, string2)] = operation # store solution to dictionary\n",
    "    \n",
    "    return min_distance   \n"
   ]
  },
  {
   "cell_type": "code",
   "execution_count": 55,
   "metadata": {},
   "outputs": [
    {
     "data": {
      "text/plain": [
       "1"
      ]
     },
     "execution_count": 55,
     "metadata": {},
     "output_type": "execute_result"
    }
   ],
   "source": [
    "edit_distance('ABCD', 'ABCDE')"
   ]
  },
  {
   "cell_type": "code",
   "execution_count": 56,
   "metadata": {},
   "outputs": [
    {
     "data": {
      "text/plain": [
       "30"
      ]
     },
     "execution_count": 56,
     "metadata": {},
     "output_type": "execute_result"
    }
   ],
   "source": [
    "i"
   ]
  },
  {
   "cell_type": "code",
   "execution_count": 57,
   "metadata": {},
   "outputs": [
    {
     "data": {
      "text/plain": [
       "{('A', 'A'): '',\n",
       " ('A', 'AB'): 'ADD B',\n",
       " ('A', 'ABC'): 'ADD C',\n",
       " ('A', 'ABCD'): 'ADD D',\n",
       " ('A', 'ABCDE'): 'ADD E',\n",
       " ('AB', 'A'): 'DEL B',\n",
       " ('AB', 'AB'): '',\n",
       " ('AB', 'ABC'): 'ADD C',\n",
       " ('AB', 'ABCD'): 'ADD D',\n",
       " ('AB', 'ABCDE'): 'ADD E',\n",
       " ('ABC', 'A'): 'DEL C',\n",
       " ('ABC', 'AB'): 'DEL C',\n",
       " ('ABC', 'ABC'): '',\n",
       " ('ABC', 'ABCD'): 'ADD D',\n",
       " ('ABC', 'ABCDE'): 'ADD E',\n",
       " ('ABCD', 'A'): 'DEL D',\n",
       " ('ABCD', 'AB'): 'DEL D',\n",
       " ('ABCD', 'ABC'): 'DEL D',\n",
       " ('ABCD', 'ABCD'): '',\n",
       " ('ABCD', 'ABCDE'): 'ADD E'}"
      ]
     },
     "execution_count": 57,
     "metadata": {},
     "output_type": "execute_result"
    }
   ],
   "source": [
    "solution"
   ]
  },
  {
   "cell_type": "code",
   "execution_count": 80,
   "metadata": {},
   "outputs": [],
   "source": [
    "solution = {}"
   ]
  },
  {
   "cell_type": "markdown",
   "metadata": {},
   "source": [
    "代码优化"
   ]
  },
  {
   "cell_type": "code",
   "execution_count": 81,
   "metadata": {},
   "outputs": [],
   "source": [
    "i = 0\n",
    "@lru_cache(maxsize=2**10)\n",
    "def edit_distance(string1, string2):\n",
    "    global i\n",
    "    i += 1\n",
    "    \n",
    "    if len(string1) == 0: return len(string2)\n",
    "    if len(string2) == 0: return len(string1)\n",
    "    \n",
    "    tail_s1 = string1[-1]\n",
    "    tail_s2 = string2[-1] \n",
    "\n",
    "    \n",
    "    if tail_s1 == tail_s2:\n",
    "        candidates = [(edit_distance(string1[:-1], string2[:-1]) + 0, '')]\n",
    "        # no edits\n",
    "    else:\n",
    "        candidates = [\n",
    "        (edit_distance(string1[:-1], string2) + 1, 'DEL {}'.format(tail_s1)),\n",
    "        # delete tail_s1 for string 1; edit_distance + 1 for each deletion\n",
    "        (edit_distance(string1, string2[:-1]) + 1, 'ADD {}'.format(tail_s2)),\n",
    "        # add tail_s2 to string 1; edit_distance + 1 for each addition\n",
    "        (edit_distance(string1[:-1], string2[:-1]) + 1, \n",
    "                        'SUB {} => {}'.format(tail_s1, tail_s2))\n",
    "    ]\n",
    "\n",
    "    \n",
    "    min_distance, operation = min(candidates, key=lambda x: x[0])\n",
    "    # find the minimal edit distance among all possible operations\n",
    "    \n",
    "    solution[(string1, string2)] = operation # store solution to dictionary\n",
    "    \n",
    "    return min_distance  "
   ]
  },
  {
   "cell_type": "code",
   "execution_count": 60,
   "metadata": {
    "scrolled": true
   },
   "outputs": [
    {
     "data": {
      "text/plain": [
       "1"
      ]
     },
     "execution_count": 60,
     "metadata": {},
     "output_type": "execute_result"
    }
   ],
   "source": [
    "edit_distance('ABCD', 'ABCDE')"
   ]
  },
  {
   "cell_type": "code",
   "execution_count": 61,
   "metadata": {},
   "outputs": [
    {
     "data": {
      "text/plain": [
       "20"
      ]
     },
     "execution_count": 61,
     "metadata": {},
     "output_type": "execute_result"
    }
   ],
   "source": [
    "i"
   ]
  },
  {
   "cell_type": "code",
   "execution_count": 62,
   "metadata": {
    "scrolled": true
   },
   "outputs": [
    {
     "data": {
      "text/plain": [
       "{('A', 'A'): '',\n",
       " ('A', 'AB'): 'ADD B',\n",
       " ('A', 'ABC'): 'ADD C',\n",
       " ('A', 'ABCD'): 'ADD D',\n",
       " ('A', 'ABCDE'): 'ADD E',\n",
       " ('AB', 'AB'): '',\n",
       " ('AB', 'ABC'): 'ADD C',\n",
       " ('AB', 'ABCD'): 'ADD D',\n",
       " ('AB', 'ABCDE'): 'ADD E',\n",
       " ('ABC', 'ABC'): '',\n",
       " ('ABC', 'ABCD'): 'ADD D',\n",
       " ('ABC', 'ABCDE'): 'ADD E',\n",
       " ('ABCD', 'ABCD'): '',\n",
       " ('ABCD', 'ABCDE'): 'ADD E'}"
      ]
     },
     "execution_count": 62,
     "metadata": {},
     "output_type": "execute_result"
    }
   ],
   "source": [
    "solution"
   ]
  },
  {
   "cell_type": "code",
   "execution_count": 76,
   "metadata": {
    "scrolled": true
   },
   "outputs": [
    {
     "data": {
      "text/plain": [
       "4"
      ]
     },
     "execution_count": 76,
     "metadata": {},
     "output_type": "execute_result"
    }
   ],
   "source": [
    "edit_distance('CV', 'ABDE')"
   ]
  },
  {
   "cell_type": "code",
   "execution_count": 79,
   "metadata": {},
   "outputs": [
    {
     "data": {
      "text/plain": [
       "{('C', 'A'): 'SUB C => A',\n",
       " ('C', 'AB'): 'ADD B',\n",
       " ('C', 'ABD'): 'ADD D',\n",
       " ('C', 'ABDE'): 'ADD E',\n",
       " ('CV', 'A'): 'DEL V',\n",
       " ('CV', 'AB'): 'SUB V => B',\n",
       " ('CV', 'ABD'): 'ADD D',\n",
       " ('CV', 'ABDE'): 'ADD E'}"
      ]
     },
     "execution_count": 79,
     "metadata": {},
     "output_type": "execute_result"
    }
   ],
   "source": [
    "solution"
   ]
  },
  {
   "cell_type": "code",
   "execution_count": 82,
   "metadata": {},
   "outputs": [
    {
     "data": {
      "text/plain": [
       "3"
      ]
     },
     "execution_count": 82,
     "metadata": {},
     "output_type": "execute_result"
    }
   ],
   "source": [
    "edit_distance('LHRE', 'ABDE')"
   ]
  },
  {
   "cell_type": "code",
   "execution_count": 83,
   "metadata": {},
   "outputs": [
    {
     "data": {
      "text/plain": [
       "6"
      ]
     },
     "execution_count": 83,
     "metadata": {},
     "output_type": "execute_result"
    }
   ],
   "source": [
    "edit_distance('XGEFAGD', 'AH')"
   ]
  },
  {
   "cell_type": "code",
   "execution_count": 85,
   "metadata": {},
   "outputs": [
    {
     "data": {
      "text/plain": [
       "{('L', 'A'): 'SUB L => A',\n",
       " ('L', 'AB'): 'ADD B',\n",
       " ('L', 'ABD'): 'ADD D',\n",
       " ('LH', 'A'): 'DEL H',\n",
       " ('LH', 'AB'): 'SUB H => B',\n",
       " ('LH', 'ABD'): 'ADD D',\n",
       " ('LHR', 'A'): 'DEL R',\n",
       " ('LHR', 'AB'): 'DEL R',\n",
       " ('LHR', 'ABD'): 'SUB R => D',\n",
       " ('LHRE', 'ABDE'): '',\n",
       " ('X', 'A'): 'SUB X => A',\n",
       " ('X', 'AH'): 'ADD H',\n",
       " ('XG', 'A'): 'DEL G',\n",
       " ('XG', 'AH'): 'SUB G => H',\n",
       " ('XGE', 'A'): 'DEL E',\n",
       " ('XGE', 'AH'): 'DEL E',\n",
       " ('XGEF', 'A'): 'DEL F',\n",
       " ('XGEF', 'AH'): 'DEL F',\n",
       " ('XGEFA', 'A'): '',\n",
       " ('XGEFA', 'AH'): 'DEL A',\n",
       " ('XGEFAG', 'A'): 'DEL G',\n",
       " ('XGEFAG', 'AH'): 'SUB G => H',\n",
       " ('XGEFAGD', 'A'): 'DEL D',\n",
       " ('XGEFAGD', 'AH'): 'DEL D'}"
      ]
     },
     "execution_count": 85,
     "metadata": {},
     "output_type": "execute_result"
    }
   ],
   "source": [
    "solution"
   ]
  },
  {
   "cell_type": "code",
   "execution_count": 96,
   "metadata": {},
   "outputs": [],
   "source": [
    "# to parse the solutions, we need to define the exit condition (\"查表\"过程的终止条件)\n",
    "# in this case, the exit condition is\n",
    "# -- if the two strings are exactly the same, we stop editing\n",
    "\n",
    "def stop_edit(string1, string2): return string1 == string2\n",
    "\n",
    "\n",
    "# now we look for solutions in the \"solution\" dictionary\n",
    "\n",
    "def parse_solution(string1, string2, solution_dic):\n",
    "    \n",
    "    parsed_solutions = [] \n",
    "    \n",
    "    while not stop_edit(string1, string2):       \n",
    "        \n",
    "        if string2 == '':\n",
    "            parsed_solutions.append('DEL {}'.format(string1[-1]))\n",
    "            string1 = string1[:-1]\n",
    "            continue\n",
    "            \n",
    "        if string1 == '':\n",
    "            parsed_solutions.append('ADD {}'.format(string2[-1]))\n",
    "            string2 = string2[:-1]\n",
    "            continue\n",
    "        \n",
    "        operation = solution_dic[(string1, string2)] # \"查表\" 过程\n",
    "        if 'SUB' in operation:\n",
    "            string1, string2 = string1[:-1], string2[:-1] \n",
    "            # if substitution, both forward and compare\n",
    "        elif operation == '':\n",
    "            string1, string2 = string1[:-1], string2[:-1]\n",
    "            # if no edits, both forward and compare\n",
    "        elif 'DEL' in operation:\n",
    "            string1, string2 = string1[:-1], string2 \n",
    "            # delete tail of string1 and then compare\n",
    "        elif 'ADD' in operation:\n",
    "            string1, string2 = string1, string2[:-1] \n",
    "            # delete tail of string2 and then compare\n",
    "#         print(string1, string2)\n",
    "        if operation != '':\n",
    "            parsed_solutions.append(operation)\n",
    "    \n",
    "    return parsed_solutions"
   ]
  },
  {
   "cell_type": "code",
   "execution_count": 97,
   "metadata": {},
   "outputs": [
    {
     "data": {
      "text/plain": [
       "['DEL D', 'SUB G => H', 'DEL F', 'DEL E', 'DEL G', 'DEL X']"
      ]
     },
     "execution_count": 97,
     "metadata": {},
     "output_type": "execute_result"
    }
   ],
   "source": [
    "parse_solution('XGEFAGD', 'AH', solution)"
   ]
  },
  {
   "cell_type": "markdown",
   "metadata": {},
   "source": [
    "### Part 4 Choose 1 - 2 books to keep reading: \n",
    "\n",
    "+ SICP, Structure and Interpretation of Computer Programming. \n",
    "+ Introduction to Algorithms \n",
    "+ Artificial Intelligence A Modern Approach (3rd Edition) \n",
    "+ Code Complete 2 \n",
    "+ Programming Pearls \n",
    "+ Deep Learning\n",
    "+ 黑客与画家\n",
    "+ 数学之美\n",
    "+ Fluent Python\n",
    "+ Hands on Tensorflow\n",
    "+ Conference: NIPS_ ICML_ ICLR_ ACL_ AAAI\n",
    "\n",
    "> most books you may find in our github: https://github.com/Computing-Intelligence/References"
   ]
  },
  {
   "cell_type": "markdown",
   "metadata": {},
   "source": [
    "## Part 5-1: review machine learning"
   ]
  },
  {
   "cell_type": "markdown",
   "metadata": {},
   "source": [
    "1. Why do we use Derivative / Gredient to fit a target function?¶"
   ]
  },
  {
   "cell_type": "markdown",
   "metadata": {},
   "source": [
    "Ans:"
   ]
  },
  {
   "cell_type": "markdown",
   "metadata": {},
   "source": [
    "2. In the words 'Gredient Descent', what's the Gredient and what's the Descent?¶"
   ]
  },
  {
   "cell_type": "markdown",
   "metadata": {},
   "source": [
    "Ans:"
   ]
  },
  {
   "cell_type": "markdown",
   "metadata": {},
   "source": [
    "\n",
    "3. What's the advantages of the 3rd gradient descent method compared to the previous methods?"
   ]
  },
  {
   "cell_type": "markdown",
   "metadata": {},
   "source": [
    "Ans:"
   ]
  },
  {
   "cell_type": "markdown",
   "metadata": {},
   "source": [
    "4. Using the simple words to describe: What's the machine leanring.¶"
   ]
  },
  {
   "cell_type": "markdown",
   "metadata": {},
   "source": [
    "Ans:"
   ]
  },
  {
   "cell_type": "markdown",
   "metadata": {},
   "source": [
    "### Part 5: Answer following questions: "
   ]
  },
  {
   "cell_type": "markdown",
   "metadata": {},
   "source": [
    "1. Why do we need dynamic programming? What's the difference of dynamic programming and previous talked `search` problme? "
   ]
  },
  {
   "cell_type": "markdown",
   "metadata": {},
   "source": [
    "动态规划算法通常用于求解具有某种最优性质的问题。在这类问题中，可能会有许多可行解。每一个解都对应于一个值，我们希望找到具有最优值的解。\n",
    "之前的搜索算法解，建立一个字典，记录着每个节点的连接点，若遇到上课这种木材分割问题，你无法知道给定的是多少木材，无法建立字典，或者说，为了满足需求，需要建立较大的字典，这个时候用动态分割，利用递归思想对其进行分割，便可以方便快捷的解决类似问题。"
   ]
  },
  {
   "cell_type": "markdown",
   "metadata": {},
   "source": [
    "2. Why do we still need dynamic programming? Why not we train a machine learning to fit a function which could get the `right` answer based on inputs?"
   ]
  },
  {
   "cell_type": "markdown",
   "metadata": {},
   "source": [
    "对于特定问题采取最适合、最简单的方法"
   ]
  },
  {
   "cell_type": "markdown",
   "metadata": {},
   "source": [
    "3. Can you catch up at least 3 problems which could solved by Dynamic Programming? "
   ]
  },
  {
   "cell_type": "markdown",
   "metadata": {},
   "source": [
    "最短路线、库存管理、资源分配"
   ]
  },
  {
   "cell_type": "markdown",
   "metadata": {},
   "source": [
    "4. Can you catch up at least 3 problems wich could sloved by Edit Distance? "
   ]
  },
  {
   "cell_type": "markdown",
   "metadata": {},
   "source": [
    "输入错误智能识别、语音识别矫正、抄袭侦测、DNA分析、相似度计算"
   ]
  },
  {
   "cell_type": "markdown",
   "metadata": {},
   "source": [
    "5. Please summarize the three main features of Dynamic Programming, and make a concise explain for each feature. "
   ]
  },
  {
   "cell_type": "markdown",
   "metadata": {},
   "source": [
    "1.最优子结构性质。如果问题的最优解所包含的子问题的解也是最优的，我们就称该问题具有最优子结构性质（即满足最优化原理）。最优子结构性质为动态规划算法解决问题提供了重要线索。\n",
    "2.无后效性。即子问题的解一旦确定，就不再改变，不受在这之后、包含它的更大的问题的求解决策影响。\n",
    "3.子问题重叠性质。子问题重叠性质是指在用递归算法自顶向下对问题进行求解时，每次产生的子问题并不总是新问题，有些子问题会被重复计算多次。动态规划算法正是利用了这种子问题的重叠性质，对每一个子问题只计算一次，然后将其计算结果保存在一个表格中，当再次需要计算已经计算过的子问题时，只是在表格中简单地查看一下结果，从而获得较高的效率。"
   ]
  },
  {
   "cell_type": "markdown",
   "metadata": {},
   "source": [
    "6. What's the disadvantages of Dynamic Programming? (You may need search by yourself in Internet)"
   ]
  },
  {
   "cell_type": "markdown",
   "metadata": {},
   "source": [
    "1. 没有统一的标准模型；\n",
    "2. 数值方法求解时存在维数灾。"
   ]
  },
  {
   "cell_type": "markdown",
   "metadata": {},
   "source": [
    "## Part 6 Preparation of Project-01"
   ]
  },
  {
   "cell_type": "markdown",
   "metadata": {},
   "source": [
    "1. Using python Flask or Bottle to finish your first simple web app:\n",
    "> https://bottlepy.org/\n",
    "\n",
    "2. Learn what's the SQL, and try some simple SQL operations:\n",
    "> https://www.w3schools.com/sql/sql_intro.asp\n",
    "\n",
    "3. Learn what's the HTML ( *ONLY* need to know the basic things)\n",
    "> https://getbootstrap.com/; https://www.w3schools.com/html/"
   ]
  },
  {
   "cell_type": "markdown",
   "metadata": {},
   "source": [
    "### (Optinal) Finish the k-person-salesman problem:"
   ]
  },
  {
   "cell_type": "code",
   "execution_count": 1,
   "metadata": {},
   "outputs": [],
   "source": [
    "import random\n",
    "import matplotlib.pylab as plt"
   ]
  },
  {
   "cell_type": "code",
   "execution_count": 2,
   "metadata": {},
   "outputs": [],
   "source": [
    "latitudes = [random.randint(-100, 100) for _ in range(20)]\n",
    "longitude = [random.randint(-100, 100) for _ in range(20)]"
   ]
  },
  {
   "cell_type": "code",
   "execution_count": 3,
   "metadata": {},
   "outputs": [
    {
     "data": {
      "text/plain": [
       "<matplotlib.collections.PathCollection at 0x1b71e538e10>"
      ]
     },
     "execution_count": 3,
     "metadata": {},
     "output_type": "execute_result"
    },
    {
     "data": {
      "image/png": "[encoded data removed]",
      "text/plain": [
       "<Figure size 432x288 with 1 Axes>"
      ]
     },
     "metadata": {
      "needs_background": "light"
     },
     "output_type": "display_data"
    }
   ],
   "source": [
    "plt.scatter(latitudes, longitude)"
   ]
  },
  {
   "cell_type": "markdown",
   "metadata": {},
   "source": [
    "给定一个初始点 𝑃, 已经 𝑘个车辆，如何从该点出发，经这 k 个车辆经过所以的点全部一次，而且所走过的路程最短?\n",
    "\n",
    "例如："
   ]
  },
  {
   "cell_type": "code",
   "execution_count": 4,
   "metadata": {},
   "outputs": [],
   "source": [
    "chosen_p = (-50, 10)\n",
    "chosen_p2 = (1, 30)\n",
    "chosen_p3 = (99, 15)"
   ]
  },
  {
   "cell_type": "code",
   "execution_count": 5,
   "metadata": {},
   "outputs": [],
   "source": [
    "import matplotlib.pyplot as plt"
   ]
  },
  {
   "cell_type": "code",
   "execution_count": 6,
   "metadata": {
    "scrolled": false
   },
   "outputs": [
    {
     "data": {
      "text/plain": [
       "<matplotlib.collections.PathCollection at 0x1b71e847470>"
      ]
     },
     "execution_count": 6,
     "metadata": {},
     "output_type": "execute_result"
    },
    {
     "data": {
      "image/png": "[encoded data removed]",
      "text/plain": [
       "<Figure size 432x288 with 1 Axes>"
      ]
     },
     "metadata": {
      "needs_background": "light"
     },
     "output_type": "display_data"
    }
   ],
   "source": [
    "plt.scatter(latitudes, longitude)\n",
    "plt.scatter([chosen_p[0]], [chosen_p[1]], color='r')\n",
    "plt.scatter([chosen_p2[0]], [chosen_p2[1]], color='r')\n",
    "plt.scatter([chosen_p3[0]], [chosen_p3[1]], color='r')"
   ]
  },
  {
   "cell_type": "markdown",
   "metadata": {},
   "source": [
    "先解决一个点，一辆车"
   ]
  },
  {
   "cell_type": "code",
   "execution_count": 7,
   "metadata": {},
   "outputs": [],
   "source": [
    "def distance(point1, point2):    \n",
    "    square = (point1[0] - point2[0]) ** 2 + (point1[1] - point2[1]) ** 2\n",
    "#     print(point1[0], point2[0], point1[1], point2[1], square)\n",
    "    return square ** (1/2)"
   ]
  },
  {
   "cell_type": "code",
   "execution_count": 8,
   "metadata": {},
   "outputs": [],
   "source": [
    "point_list = [(x, y) for x, y in zip(latitudes, longitude)]"
   ]
  },
  {
   "cell_type": "code",
   "execution_count": 9,
   "metadata": {
    "scrolled": true
   },
   "outputs": [
    {
     "data": {
      "text/plain": [
       "[(-31, -6),\n",
       " (70, -3),\n",
       " (-13, -97),\n",
       " (-69, 47),\n",
       " (10, 18),\n",
       " (-91, -45),\n",
       " (49, -50),\n",
       " (47, -56),\n",
       " (-28, -61),\n",
       " (17, -88),\n",
       " (-48, -88),\n",
       " (77, 28),\n",
       " (-88, -47),\n",
       " (-67, -64),\n",
       " (25, 59),\n",
       " (24, -13),\n",
       " (60, 43),\n",
       " (-66, 10),\n",
       " (93, -73),\n",
       " (6, -76)]"
      ]
     },
     "execution_count": 9,
     "metadata": {},
     "output_type": "execute_result"
    }
   ],
   "source": [
    "point_list"
   ]
  },
  {
   "cell_type": "code",
   "execution_count": 10,
   "metadata": {},
   "outputs": [],
   "source": [
    "route = [chosen_p]\n",
    "distance_sum = 0\n",
    "\n",
    "def get_route(start, point_list):\n",
    "    if point_list == []: return\n",
    "    min_distance = float('inf')\n",
    "    for point in point_list:\n",
    "#         print(point, distance(start, point))\n",
    "        if distance(start, point) < min_distance:\n",
    "            min_point = point\n",
    "            min_distance = distance(start, point)\n",
    "#     print(point, min_distance)\n",
    "    route.append(min_point)\n",
    "    point_list.remove(min_point)\n",
    "    global distance_sum \n",
    "    distance_sum += min_distance\n",
    "    get_route(min_point, point_list)"
   ]
  },
  {
   "cell_type": "code",
   "execution_count": 11,
   "metadata": {
    "scrolled": true
   },
   "outputs": [],
   "source": [
    "get_route(chosen_p, point_list)"
   ]
  },
  {
   "cell_type": "code",
   "execution_count": 12,
   "metadata": {},
   "outputs": [
    {
     "data": {
      "text/plain": [
       "[(-50, 10),\n",
       " (-66, 10),\n",
       " (-69, 47),\n",
       " (-31, -6),\n",
       " (10, 18),\n",
       " (24, -13),\n",
       " (49, -50),\n",
       " (47, -56),\n",
       " (17, -88),\n",
       " (6, -76),\n",
       " (-13, -97),\n",
       " (-48, -88),\n",
       " (-67, -64),\n",
       " (-88, -47),\n",
       " (-91, -45),\n",
       " (-28, -61),\n",
       " (70, -3),\n",
       " (77, 28),\n",
       " (60, 43),\n",
       " (25, 59),\n",
       " (93, -73)]"
      ]
     },
     "execution_count": 12,
     "metadata": {},
     "output_type": "execute_result"
    }
   ],
   "source": [
    "route"
   ]
  },
  {
   "cell_type": "code",
   "execution_count": 13,
   "metadata": {},
   "outputs": [],
   "source": [
    "distance_sum = distance_sum + distance(route[-1], chosen_p)"
   ]
  },
  {
   "cell_type": "code",
   "execution_count": 14,
   "metadata": {},
   "outputs": [
    {
     "data": {
      "text/plain": [
       "1022.3135352894785"
      ]
     },
     "execution_count": 14,
     "metadata": {},
     "output_type": "execute_result"
    }
   ],
   "source": [
    "distance_sum"
   ]
  },
  {
   "cell_type": "code",
   "execution_count": null,
   "metadata": {},
   "outputs": [],
   "source": [
    "route.append(chosen_p)"
   ]
  },
  {
   "cell_type": "code",
   "execution_count": 15,
   "metadata": {
    "scrolled": false
   },
   "outputs": [
    {
     "data": {
      "text/plain": [
       "[<matplotlib.lines.Line2D at 0x1b71e8bd7f0>]"
      ]
     },
     "execution_count": 15,
     "metadata": {},
     "output_type": "execute_result"
    },
    {
     "data": {
      "image/png": "[encoded data removed]",
      "text/plain": [
       "<Figure size 432x288 with 1 Axes>"
      ]
     },
     "metadata": {
      "needs_background": "light"
     },
     "output_type": "display_data"
    }
   ],
   "source": [
    "plt.scatter(latitudes, longitude)\n",
    "plt.scatter([chosen_p[0]], [chosen_p[1]], color='r')\n",
    "x = [point[0] for point in route]\n",
    "y = [point[1] for point in route]\n",
    "plt.plot(x, y, color='black')"
   ]
  },
  {
   "cell_type": "markdown",
   "metadata": {},
   "source": [
    "很明显，这种方法有问题，下面用向量法试一试"
   ]
  },
  {
   "cell_type": "code",
   "execution_count": 16,
   "metadata": {},
   "outputs": [],
   "source": [
    "import math"
   ]
  },
  {
   "cell_type": "code",
   "execution_count": 17,
   "metadata": {},
   "outputs": [
    {
     "data": {
      "text/plain": [
       "2.0943951023931957"
      ]
     },
     "execution_count": 17,
     "metadata": {},
     "output_type": "execute_result"
    }
   ],
   "source": [
    "math.acos(-1/2)"
   ]
  },
  {
   "cell_type": "code",
   "execution_count": 18,
   "metadata": {},
   "outputs": [
    {
     "data": {
      "text/plain": [
       "43.01162633521314"
      ]
     },
     "execution_count": 18,
     "metadata": {},
     "output_type": "execute_result"
    }
   ],
   "source": [
    "distance((12, -61), (-13, -96))"
   ]
  },
  {
   "cell_type": "code",
   "execution_count": 19,
   "metadata": {},
   "outputs": [
    {
     "data": {
      "text/plain": [
       "60.00000000000001"
      ]
     },
     "execution_count": 19,
     "metadata": {},
     "output_type": "execute_result"
    }
   ],
   "source": [
    "math.degrees(math.acos(1/2))"
   ]
  },
  {
   "cell_type": "code",
   "execution_count": 20,
   "metadata": {},
   "outputs": [
    {
     "data": {
      "text/plain": [
       "3.141592653589793"
      ]
     },
     "execution_count": 20,
     "metadata": {},
     "output_type": "execute_result"
    }
   ],
   "source": [
    "math.pi"
   ]
  },
  {
   "cell_type": "code",
   "execution_count": 21,
   "metadata": {},
   "outputs": [],
   "source": [
    "def angle(chosen_p, point1, point2):\n",
    "    vector1 = (chosen_p[0] - point1[0], chosen_p[1] - point1[1])\n",
    "    vector2 = (point2[0] - point1[0], point2[1] - point1[1])\n",
    "    dot = vector1[0] * vector2[0] + vector1[1] * vector2[1]\n",
    "    size1 = (vector1[0] ** 2 + vector1[1] ** 2) ** (1/2)\n",
    "    size2 = (vector2[0] ** 2 + vector2[1] ** 2) ** (1/2)\n",
    "    return math.acos(dot / size1 / size2)"
   ]
  },
  {
   "cell_type": "code",
   "execution_count": 24,
   "metadata": {},
   "outputs": [],
   "source": [
    "point_list = [(x, y) for x, y in zip(latitudes, longitude)]"
   ]
  },
  {
   "cell_type": "code",
   "execution_count": 25,
   "metadata": {},
   "outputs": [],
   "source": [
    "route = [chosen_p]\n",
    "\n",
    "min_distance = float('inf')\n",
    "for point in point_list:\n",
    "#         print(point, distance(start, point))\n",
    "    if distance(chosen_p, point) < min_distance:\n",
    "        min_distance_point = point\n",
    "        min_distance = distance(chosen_p, point)\n",
    "route.append(min_distance_point)\n",
    "point_list.remove(min_distance_point)\n",
    "distance_sum = distance(min_distance_point, chosen_p)\n",
    "    \n",
    "# 这里就要从min_distance_point开始了\n",
    "def get_route(start, point_list):\n",
    "    if point_list == []: return\n",
    "    max_angle = float('-inf')\n",
    "    for point in point_list:\n",
    "#         print(point, distance(start, point))\n",
    "        if angle(chosen_p, start, point) > max_angle:\n",
    "            max_angle_point = point\n",
    "#     print(point, min_distance)\n",
    "    global distance_sum  \n",
    "    distance_sum += distance(max_angle_point, route[-1])\n",
    "    route.append(max_angle_point)\n",
    "    point_list.remove(max_angle_point)     \n",
    "    get_route(max_angle_point, point_list)\n"
   ]
  },
  {
   "cell_type": "code",
   "execution_count": 26,
   "metadata": {},
   "outputs": [],
   "source": [
    "get_route(min_distance_point, point_list)"
   ]
  },
  {
   "cell_type": "code",
   "execution_count": 27,
   "metadata": {},
   "outputs": [
    {
     "data": {
      "text/plain": [
       "[(-50, 10),\n",
       " (-66, 10),\n",
       " (6, -76),\n",
       " (93, -73),\n",
       " (60, 43),\n",
       " (24, -13),\n",
       " (25, 59),\n",
       " (-67, -64),\n",
       " (-88, -47),\n",
       " (77, 28),\n",
       " (-48, -88),\n",
       " (17, -88),\n",
       " (-28, -61),\n",
       " (47, -56),\n",
       " (49, -50),\n",
       " (-91, -45),\n",
       " (10, 18),\n",
       " (-69, 47),\n",
       " (-13, -97),\n",
       " (70, -3),\n",
       " (-31, -6)]"
      ]
     },
     "execution_count": 27,
     "metadata": {},
     "output_type": "execute_result"
    }
   ],
   "source": [
    "route"
   ]
  },
  {
   "cell_type": "code",
   "execution_count": 28,
   "metadata": {},
   "outputs": [],
   "source": [
    "distance_sum = distance_sum + distance(route[-1], chosen_p)"
   ]
  },
  {
   "cell_type": "code",
   "execution_count": 29,
   "metadata": {},
   "outputs": [
    {
     "data": {
      "text/plain": [
       "1954.831372241694"
      ]
     },
     "execution_count": 29,
     "metadata": {},
     "output_type": "execute_result"
    }
   ],
   "source": [
    "distance_sum"
   ]
  },
  {
   "cell_type": "code",
   "execution_count": null,
   "metadata": {},
   "outputs": [],
   "source": [
    "route.append(chosen_p)"
   ]
  },
  {
   "cell_type": "code",
   "execution_count": 30,
   "metadata": {},
   "outputs": [
    {
     "data": {
      "text/plain": [
       "[<matplotlib.lines.Line2D at 0x1b71e9c8630>]"
      ]
     },
     "execution_count": 30,
     "metadata": {},
     "output_type": "execute_result"
    },
    {
     "data": {
      "image/png": "[encoded data removed]",
      "text/plain": [
       "<Figure size 432x288 with 1 Axes>"
      ]
     },
     "metadata": {
      "needs_background": "light"
     },
     "output_type": "display_data"
    }
   ],
   "source": [
    "plt.scatter(latitudes, longitude)\n",
    "plt.scatter([chosen_p[0]], [chosen_p[1]], color='r')\n",
    "x = [point[0] for point in route]\n",
    "y = [point[1] for point in route]\n",
    "plt.plot(x, y, color='black')"
   ]
  },
  {
   "cell_type": "markdown",
   "metadata": {},
   "source": [
    "这种方法更不行，如果能既考虑具有又考虑角度就好了，随便试一试"
   ]
  },
  {
   "cell_type": "code",
   "execution_count": 48,
   "metadata": {},
   "outputs": [],
   "source": [
    "point_list = [(x, y) for x, y in zip(latitudes, longitude)]"
   ]
  },
  {
   "cell_type": "code",
   "execution_count": 49,
   "metadata": {},
   "outputs": [],
   "source": [
    "max_distance = float('-inf')\n",
    "for point in point_list:\n",
    "#     print(point)\n",
    "    if distance(chosen_p, point) > max_distance:\n",
    "        max_distance = distance(chosen_p, point)"
   ]
  },
  {
   "cell_type": "code",
   "execution_count": 50,
   "metadata": {},
   "outputs": [
    {
     "data": {
      "text/plain": [
       "165.3420696616563"
      ]
     },
     "execution_count": 50,
     "metadata": {},
     "output_type": "execute_result"
    }
   ],
   "source": [
    "max_distance"
   ]
  },
  {
   "cell_type": "code",
   "execution_count": 51,
   "metadata": {},
   "outputs": [
    {
     "data": {
      "text/plain": [
       "[(-31, -6),\n",
       " (70, -3),\n",
       " (-13, -97),\n",
       " (-69, 47),\n",
       " (10, 18),\n",
       " (-91, -45),\n",
       " (49, -50),\n",
       " (47, -56),\n",
       " (-28, -61),\n",
       " (17, -88),\n",
       " (-48, -88),\n",
       " (77, 28),\n",
       " (-88, -47),\n",
       " (-67, -64),\n",
       " (25, 59),\n",
       " (24, -13),\n",
       " (60, 43),\n",
       " (-66, 10),\n",
       " (93, -73),\n",
       " (6, -76)]"
      ]
     },
     "execution_count": 51,
     "metadata": {},
     "output_type": "execute_result"
    }
   ],
   "source": [
    "point_list"
   ]
  },
  {
   "cell_type": "code",
   "execution_count": 52,
   "metadata": {},
   "outputs": [
    {
     "data": {
      "text/plain": [
       "165.3420696616563"
      ]
     },
     "execution_count": 52,
     "metadata": {},
     "output_type": "execute_result"
    }
   ],
   "source": [
    "max_distance"
   ]
  },
  {
   "cell_type": "code",
   "execution_count": 53,
   "metadata": {},
   "outputs": [],
   "source": [
    "route = [chosen_p]\n",
    "\n",
    "min_distance = float('inf')\n",
    "\n",
    "for point in point_list:\n",
    "    if distance(chosen_p, point) < min_distance:\n",
    "        min_distance_point = point\n",
    "        min_distance = distance(chosen_p, point)\n",
    "        \n",
    "route.append(min_distance_point)\n",
    "point_list.remove(min_distance_point)\n",
    "distance_sum = distance(min_distance_point, chosen_p)\n",
    "    \n",
    "# 这里就要从min_distance_point开始了\n",
    "def get_route(start, point_list):\n",
    "    if point_list == []: return    \n",
    "    \n",
    "    indicator = float('inf')\n",
    "    \n",
    "    for point in point_list:\n",
    "        \n",
    "        point_indicator = distance(start, point) - angle(chosen_p, start, point) / math.pi * max_distance\n",
    "\n",
    "        if point_indicator < indicator:\n",
    "            suitable_point = point\n",
    "            indicator = point_indicator\n",
    "    global distance_sum  \n",
    "    distance_sum += distance(suitable_point, route[-1])\n",
    "    route.append(suitable_point)\n",
    "    point_list.remove(suitable_point)     \n",
    "    get_route(suitable_point, point_list)\n"
   ]
  },
  {
   "cell_type": "code",
   "execution_count": 54,
   "metadata": {},
   "outputs": [
    {
     "name": "stdout",
     "output_type": "stream",
     "text": [
      "15.91716863267268\n",
      "131.6043393079723\n",
      "60.94049819305813\n",
      "-49.807596426759176\n",
      "70.90021780027476\n",
      "-44.70921648568865\n",
      "104.40211276021645\n",
      "103.04100754251473\n",
      "23.721812691698233\n",
      "82.73789863955795\n",
      "26.528495541644048\n",
      "137.53831708785776\n",
      "-40.958962746531235\n",
      "-9.375451518309006\n",
      "77.35761958085298\n",
      "79.72435220838179\n",
      "116.76850887369828\n",
      "154.03955730237388\n",
      "66.17381011343423\n",
      "57.445147539488204\n",
      "108.18915335056009\n",
      "149.05800443401057\n",
      "44.967375143018735\n",
      "57.27274089361181\n",
      "131.25923631320987\n",
      "135.64063992857814\n",
      "109.64828540870566\n",
      "155.18109921901257\n",
      "119.7776968651088\n",
      "96.33858423785513\n",
      "60.436758441479576\n",
      "86.99852939545339\n",
      "30.37692034880655\n",
      "83.12705567858836\n",
      "72.99005463596153\n",
      "177.45441274013592\n",
      "140.21195067143162\n",
      "71.01109534659952\n",
      "-8.646909066446455\n",
      "120.92348485112606\n",
      "9.903318832693493\n",
      "147.7848819663188\n",
      "47.991416388624664\n",
      "54.92402625038828\n",
      "100.85876699264313\n",
      "97.86566360699265\n",
      "136.17311555704222\n",
      "-46.051856262986554\n",
      "145.73939486347814\n",
      "135.18581644895073\n",
      "20.5246111668829\n",
      "-73.83393622600147\n",
      "71.23658448174886\n",
      "91.47607585461408\n",
      "92.69699515548622\n",
      "-31.523267139666935\n",
      "115.85379822708967\n",
      "46.83929422165081\n",
      "162.3397646214853\n",
      "32.512886113474536\n",
      "39.389923651547626\n",
      "105.86322477401252\n",
      "87.23741353497044\n",
      "138.73386226934915\n",
      "-89.28071150390075\n",
      "159.80106646477975\n",
      "144.55749612826355\n",
      "29.311109000360815\n",
      "38.684021825862544\n",
      "85.7674170560222\n",
      "104.58370464676602\n",
      "-31.792346043564116\n",
      "111.61054376067304\n",
      "67.35451175986532\n",
      "169.01124564655532\n",
      "25.75117382087997\n",
      "31.988750622793233\n",
      "108.0497880212298\n",
      "80.46029943262812\n",
      "138.57054566273507\n",
      "166.20229579232563\n",
      "148.36863692921736\n",
      "39.764542436475836\n",
      "18.7297410883002\n",
      "82.18975183598033\n",
      "93.80230039986199\n",
      "75.11781788872396\n",
      "51.529095326038515\n",
      "147.27841144854372\n",
      "-14.757360573565606\n",
      "-9.026356841210344\n",
      "80.07244866014943\n",
      "41.162782406723515\n",
      "106.89343102154899\n",
      "144.03846803266492\n",
      "122.24044107549113\n",
      "30.12895617090922\n",
      "-31.37658081479674\n",
      "46.61500041162449\n",
      "139.33726096382114\n",
      "69.28637260964203\n",
      "107.09097255931921\n",
      "166.3881777912665\n",
      "47.32072908999227\n",
      "39.993685869555165\n",
      "99.11807531272416\n",
      "39.53242652340779\n",
      "108.53966517189922\n",
      "162.6886122463704\n",
      "135.53224301732047\n",
      "81.44691181037055\n",
      "57.55959544098679\n",
      "91.32670216222166\n",
      "-35.12809615264435\n",
      "78.14001384269187\n",
      "85.07777295534075\n",
      "-18.717797827041082\n",
      "-27.33633382420092\n",
      "29.811213557268637\n",
      "13.890359895257241\n",
      "81.20379476353521\n",
      "50.89859389902943\n",
      "38.866618141322895\n",
      "8.791519199301938\n",
      "85.51904519453483\n",
      "89.36676044191758\n",
      "59.541641417498575\n",
      "11.746298623572457\n",
      "4.026890838524707\n",
      "35.74389432091514\n",
      "-15.764208727394248\n",
      "55.93609014203458\n",
      "27.005955004276103\n",
      "52.429545326036084\n",
      "-27.908358784208303\n",
      "74.3903390321197\n",
      "61.46920799907769\n",
      "65.81977844547119\n",
      "-34.177381279122685\n",
      "-43.54487423161055\n",
      "6.735764009737856\n",
      "-8.484682979819567\n",
      "61.82768236161393\n",
      "30.261149246970284\n",
      "20.496438580400614\n",
      "91.20686235195488\n",
      "55.90951571950269\n",
      "111.17975199406403\n",
      "-61.83596154306686\n",
      "40.21874381646974\n",
      "51.700684656389164\n",
      "107.35889629602812\n",
      "79.1488128834608\n",
      "23.38790885211953\n",
      "89.09014735894033\n",
      "51.801155052106544\n",
      "113.29190586270751\n",
      "41.6375055172677\n",
      "55.85073223759171\n",
      "109.50894446196979\n",
      "81.84425250451022\n",
      "21.93286490770306\n",
      "46.24640695050083\n",
      "-10.471170160142393\n",
      "89.22583369200068\n",
      "15.675981797224892\n",
      "45.69708666662977\n",
      "85.67554538127078\n",
      "61.57240521635376\n",
      "26.611774537135286\n",
      "96.6617732872532\n",
      "35.565568357836\n",
      "71.48576414604459\n",
      "93.75049894501649\n",
      "76.47173968740634\n",
      "4.391153435096584\n",
      "-67.2925360893764\n",
      "-25.004059667047528\n",
      "0.560575310693693\n",
      "-22.006570833815942\n",
      "11.232693710581941\n",
      "-82.3731533888261\n",
      "6.819250536472758\n",
      "-31.782208226134912\n",
      "20.54959863440152\n",
      "17.668149687208746\n",
      "-3.558719409123757\n",
      "-28.70194336544643\n",
      "-31.721152412668385\n",
      "-79.06548355536415\n"
     ]
    }
   ],
   "source": [
    "get_route(min_distance_point, point_list)"
   ]
  },
  {
   "cell_type": "code",
   "execution_count": 55,
   "metadata": {},
   "outputs": [],
   "source": [
    "distance_sum = distance_sum + distance(route[-1], chosen_p)"
   ]
  },
  {
   "cell_type": "code",
   "execution_count": 56,
   "metadata": {
    "scrolled": true
   },
   "outputs": [
    {
     "data": {
      "text/plain": [
       "848.2450276429377"
      ]
     },
     "execution_count": 56,
     "metadata": {},
     "output_type": "execute_result"
    }
   ],
   "source": [
    "distance_sum"
   ]
  },
  {
   "cell_type": "code",
   "execution_count": null,
   "metadata": {},
   "outputs": [],
   "source": [
    "route.append(chosen_p)"
   ]
  },
  {
   "cell_type": "code",
   "execution_count": 57,
   "metadata": {
    "scrolled": true
   },
   "outputs": [
    {
     "data": {
      "text/plain": [
       "[<matplotlib.lines.Line2D at 0x1b71edf45f8>]"
      ]
     },
     "execution_count": 57,
     "metadata": {},
     "output_type": "execute_result"
    },
    {
     "data": {
      "image/png": "[encoded data removed]",
      "text/plain": [
       "<Figure size 432x288 with 1 Axes>"
      ]
     },
     "metadata": {
      "needs_background": "light"
     },
     "output_type": "display_data"
    }
   ],
   "source": [
    "plt.scatter(latitudes, longitude)\n",
    "plt.scatter([chosen_p[0]], [chosen_p[1]], color='r')\n",
    "x = [point[0] for point in route]\n",
    "y = [point[1] for point in route]\n",
    "plt.plot(x, y, color='black')"
   ]
  },
  {
   "cell_type": "markdown",
   "metadata": {},
   "source": [
    "这种方法有时候比找最短好，有时候又不好，不稳定,可以将两种方法合起来"
   ]
  },
  {
   "cell_type": "markdown",
   "metadata": {},
   "source": [
    "# 动态规划"
   ]
  },
  {
   "cell_type": "code",
   "execution_count": 134,
   "metadata": {},
   "outputs": [],
   "source": [
    "point_list = [(x, y) for x, y in zip(latitudes, longitude)]"
   ]
  },
  {
   "cell_type": "code",
   "execution_count": 135,
   "metadata": {},
   "outputs": [],
   "source": [
    "point_list.insert(0, chosen_p)"
   ]
  },
  {
   "cell_type": "code",
   "execution_count": 136,
   "metadata": {
    "scrolled": false
   },
   "outputs": [
    {
     "data": {
      "text/plain": [
       "[(-50, 10),\n",
       " (-31, -6),\n",
       " (70, -3),\n",
       " (-13, -97),\n",
       " (-69, 47),\n",
       " (10, 18),\n",
       " (-91, -45),\n",
       " (49, -50),\n",
       " (47, -56),\n",
       " (-28, -61),\n",
       " (17, -88),\n",
       " (-48, -88),\n",
       " (77, 28),\n",
       " (-88, -47),\n",
       " (-67, -64),\n",
       " (25, 59),\n",
       " (24, -13),\n",
       " (60, 43),\n",
       " (-66, 10),\n",
       " (93, -73),\n",
       " (6, -76)]"
      ]
     },
     "execution_count": 136,
     "metadata": {},
     "output_type": "execute_result"
    }
   ],
   "source": [
    "point_list"
   ]
  },
  {
   "cell_type": "code",
   "execution_count": 137,
   "metadata": {},
   "outputs": [],
   "source": [
    "import pandas as pd\n",
    "import numpy as np\n",
    "import math\n",
    "import time"
   ]
  },
  {
   "cell_type": "code",
   "execution_count": 138,
   "metadata": {},
   "outputs": [],
   "source": [
    "point_array = np.array(point_list)"
   ]
  },
  {
   "cell_type": "code",
   "execution_count": 189,
   "metadata": {},
   "outputs": [
    {
     "data": {
      "text/plain": [
       "dtype('int32')"
      ]
     },
     "execution_count": 189,
     "metadata": {},
     "output_type": "execute_result"
    }
   ],
   "source": [
    "point_array.dtype"
   ]
  },
  {
   "cell_type": "code",
   "execution_count": 140,
   "metadata": {},
   "outputs": [],
   "source": [
    "dist = np.zeros((point_array.shape[0], point_array.shape[0]))"
   ]
  },
  {
   "cell_type": "code",
   "execution_count": 190,
   "metadata": {},
   "outputs": [
    {
     "data": {
      "text/plain": [
       "dtype('float64')"
      ]
     },
     "execution_count": 190,
     "metadata": {},
     "output_type": "execute_result"
    }
   ],
   "source": [
    "dist.dtype"
   ]
  },
  {
   "cell_type": "code",
   "execution_count": 141,
   "metadata": {},
   "outputs": [],
   "source": [
    "for i in range(point_array.shape[0]):\n",
    "    for j in range(point_array.shape[0]):\n",
    "        dist[i, j] = math.sqrt(np.sum((point_array[i, :] - point_array[j, :]) ** 2))"
   ]
  },
  {
   "cell_type": "code",
   "execution_count": 142,
   "metadata": {},
   "outputs": [
    {
     "data": {
      "text/plain": [
       "array([[  0.        ,  24.8394847 , 120.70211266, 113.21660656,\n",
       "         41.59326869,  60.5309838 ,  68.60029154, 115.76268829,\n",
       "        117.32433678,  74.33034374, 118.71394189,  98.02040604,\n",
       "        128.26924807,  68.50547423,  75.92759709,  89.58794562,\n",
       "         77.49193506, 114.8433716 ,  16.        , 165.34206966,\n",
       "        102.62553289],\n",
       "       [ 24.8394847 ,   0.        , 101.04454463,  92.76313923,\n",
       "         65.21502894,  47.50789408,  71.56116265,  91.30169768,\n",
       "         92.64987858,  55.08175742,  95.01578816,  83.74365648,\n",
       "        113.22543884,  70.21395873,  68.26419266,  85.79627032,\n",
       "         55.4436651 , 103.35376142,  38.48376281, 140.94325099,\n",
       "         79.17701687],\n",
       "       [120.70211266, 101.04454463,   0.        , 125.39936204,\n",
       "        147.71932846,  63.5688603 , 166.38810054,  51.4781507 ,\n",
       "         57.7754273 , 113.87712676, 100.16985575, 145.42695761,\n",
       "         31.78049716, 164.01219467, 149.96666296,  76.6093989 ,\n",
       "         47.07440918,  47.07440918, 136.6199107 ,  73.68174808,\n",
       "         97.08243919],\n",
       "       [113.21660656,  92.76313923, 125.39936204,   0.        ,\n",
       "        154.50566333, 117.27744881,  93.74433316,  77.80102827,\n",
       "         72.6704892 ,  39.        ,  31.32091953,  36.138622  ,\n",
       "        154.02921801,  90.13878189,  63.28506933, 160.56151469,\n",
       "         91.78779875, 157.88920166, 119.40686747, 108.68302535,\n",
       "         28.31960452],\n",
       "       [ 41.59326869,  65.21502894, 147.71932846, 154.50566333,\n",
       "          0.        ,  84.1546196 ,  94.59386872, 152.75143207,\n",
       "        155.1289786 , 115.52056094, 160.06561155, 136.62357044,\n",
       "        147.23111084,  95.90099061, 111.01801656,  94.76286192,\n",
       "        110.67520047, 129.0620006 ,  37.12142239, 201.6035714 ,\n",
       "        144.06248644],\n",
       "       [ 60.5309838 ,  47.50789408,  63.5688603 , 117.27744881,\n",
       "         84.1546196 ,   0.        , 119.03780912,  78.39005039,\n",
       "         82.73451517,  87.66413178, 106.23088063, 120.83045974,\n",
       "         67.74215822, 117.59676866, 112.48555463,  43.65775991,\n",
       "         34.0147027 ,  55.90169944,  76.4198927 , 123.1665539 ,\n",
       "         94.08506789],\n",
       "       [ 68.60029154,  71.56116265, 166.38810054,  93.74433316,\n",
       "         94.59386872, 119.03780912,   0.        , 140.08925726,\n",
       "        138.43771163,  65.        , 116.24543002,  60.81118318,\n",
       "        183.17477992,   3.60555128,  30.61045573, 155.79473675,\n",
       "        119.36917525, 174.77127911,  60.41522987, 186.11824199,\n",
       "        101.83319694],\n",
       "       [115.76268829,  91.30169768,  51.4781507 ,  77.80102827,\n",
       "        152.75143207,  78.39005039, 140.08925726,   0.        ,\n",
       "          6.32455532,  77.78174593,  49.67896939, 104.17773275,\n",
       "         82.87339742, 137.03284278, 116.84177335, 111.61093136,\n",
       "         44.65422712,  93.64827815, 129.71121771,  49.64876635,\n",
       "         50.24937811],\n",
       "       [117.32433678,  92.64987858,  57.7754273 ,  72.6704892 ,\n",
       "        155.1289786 ,  82.73451517, 138.43771163,   6.32455532,\n",
       "          0.        ,  75.16648189,  43.8634244 , 100.24470061,\n",
       "         89.19641248, 135.29966741, 114.28035702, 117.08543889,\n",
       "         48.76474136,  99.84988733, 130.86252328,  49.04079934,\n",
       "         45.61797891],\n",
       "       [ 74.33034374,  55.08175742, 113.87712676,  39.        ,\n",
       "        115.52056094,  87.66413178,  65.        ,  77.78174593,\n",
       "         75.16648189,   0.        ,  52.47856705,  33.60059523,\n",
       "        137.64446956,  61.6116872 ,  39.11521443, 131.18307818,\n",
       "         70.76722405, 136.23509093,  80.5294977 , 121.59358536,\n",
       "         37.16180835],\n",
       "       [118.71394189,  95.01578816, 100.16985575,  31.32091953,\n",
       "        160.06561155, 106.23088063, 116.24543002,  49.67896939,\n",
       "         43.8634244 ,  52.47856705,   0.        ,  65.        ,\n",
       "        130.59862174, 112.72089425,  87.36131867, 147.21752613,\n",
       "         75.32595834, 137.87675656, 128.42507543,  77.46612163,\n",
       "         16.2788206 ],\n",
       "       [ 98.02040604,  83.74365648, 145.42695761,  36.138622  ,\n",
       "        136.62357044, 120.83045974,  60.81118318, 104.17773275,\n",
       "        100.24470061,  33.60059523,  65.        ,   0.        ,\n",
       "        170.53152201,  57.28001397,  30.61045573, 164.12799883,\n",
       "        103.96634071, 169.77926846,  99.63934966, 141.79562758,\n",
       "         55.31726674],\n",
       "       [128.26924807, 113.22543884,  31.78049716, 154.02921801,\n",
       "        147.23111084,  67.74215822, 183.17477992,  82.87339742,\n",
       "         89.19641248, 137.64446956, 130.59862174, 170.53152201,\n",
       "          0.        , 181.2456896 , 170.88007491,  60.53924347,\n",
       "         67.00746227,  22.6715681 , 144.12841496, 102.25947389,\n",
       "        125.9245806 ],\n",
       "       [ 68.50547423,  70.21395873, 164.01219467,  90.13878189,\n",
       "         95.90099061, 117.59676866,   3.60555128, 137.03284278,\n",
       "        135.29966741,  61.6116872 , 112.72089425,  57.28001397,\n",
       "        181.2456896 ,   0.        ,  27.01851217, 154.93547044,\n",
       "        117.04699911, 173.21662738,  61.09828148, 182.8578683 ,\n",
       "         98.37174391],\n",
       "       [ 75.92759709,  68.26419266, 149.96666296,  63.28506933,\n",
       "        111.01801656, 112.48555463,  30.61045573, 116.84177335,\n",
       "        114.28035702,  39.11521443,  87.36131867,  30.61045573,\n",
       "        170.88007491,  27.01851217,   0.        , 153.60013021,\n",
       "        104.31682511, 166.06625184,  74.00675645, 160.25292509,\n",
       "         73.97972695],\n",
       "       [ 89.58794562,  85.79627032,  76.6093989 , 160.56151469,\n",
       "         94.76286192,  43.65775991, 155.79473675, 111.61093136,\n",
       "        117.08543889, 131.18307818, 147.21752613, 164.12799883,\n",
       "         60.53924347, 154.93547044, 153.60013021,   0.        ,\n",
       "         72.00694411,  38.48376281, 103.35376142, 148.48568955,\n",
       "        136.33048082],\n",
       "       [ 77.49193506,  55.4436651 ,  47.07440918,  91.78779875,\n",
       "        110.67520047,  34.0147027 , 119.36917525,  44.65422712,\n",
       "         48.76474136,  70.76722405,  75.32595834, 103.96634071,\n",
       "         67.00746227, 117.04699911, 104.31682511,  72.00694411,\n",
       "          0.        ,  66.57326791,  92.89241088,  91.43850392,\n",
       "         65.520989  ],\n",
       "       [114.8433716 , 103.35376142,  47.07440918, 157.88920166,\n",
       "        129.0620006 ,  55.90169944, 174.77127911,  93.64827815,\n",
       "         99.84988733, 136.23509093, 137.87675656, 169.77926846,\n",
       "         22.6715681 , 173.21662738, 166.06625184,  38.48376281,\n",
       "         66.57326791,   0.        , 130.24976008, 120.60265337,\n",
       "        130.67899602],\n",
       "       [ 16.        ,  38.48376281, 136.6199107 , 119.40686747,\n",
       "         37.12142239,  76.4198927 ,  60.41522987, 129.71121771,\n",
       "        130.86252328,  80.5294977 , 128.42507543,  99.63934966,\n",
       "        144.12841496,  61.09828148,  74.00675645, 103.35376142,\n",
       "         92.89241088, 130.24976008,   0.        , 179.35997324,\n",
       "        112.16059914],\n",
       "       [165.34206966, 140.94325099,  73.68174808, 108.68302535,\n",
       "        201.6035714 , 123.1665539 , 186.11824199,  49.64876635,\n",
       "         49.04079934, 121.59358536,  77.46612163, 141.79562758,\n",
       "        102.25947389, 182.8578683 , 160.25292509, 148.48568955,\n",
       "         91.43850392, 120.60265337, 179.35997324,   0.        ,\n",
       "         87.05170877],\n",
       "       [102.62553289,  79.17701687,  97.08243919,  28.31960452,\n",
       "        144.06248644,  94.08506789, 101.83319694,  50.24937811,\n",
       "         45.61797891,  37.16180835,  16.2788206 ,  55.31726674,\n",
       "        125.9245806 ,  98.37174391,  73.97972695, 136.33048082,\n",
       "         65.520989  , 130.67899602, 112.16059914,  87.05170877,\n",
       "          0.        ]])"
      ]
     },
     "execution_count": 142,
     "metadata": {},
     "output_type": "execute_result"
    }
   ],
   "source": [
    "dist"
   ]
  },
  {
   "cell_type": "code",
   "execution_count": 143,
   "metadata": {},
   "outputs": [
    {
     "data": {
      "text/plain": [
       "'\\nN:计数\\ns:二进制表示，遍历过得城市对应位为0，未遍历为1\\ndp:动态规划的距离数组\\ndist：目的地间距离矩阵\\nsumpath:目前的最小路径总长度\\nDtemp：当前最小距离\\npath:记录下一个应该到达的城市\\n'"
      ]
     },
     "execution_count": 143,
     "metadata": {},
     "output_type": "execute_result"
    }
   ],
   "source": [
    "\"\"\"\n",
    "N:计数\n",
    "s:二进制表示，遍历过得城市对应位为0，未遍历为1\n",
    "dp:动态规划的距离数组\n",
    "dist：目的地间距离矩阵\n",
    "sumpath:目前的最小路径总长度\n",
    "Dtemp：当前最小距离\n",
    "path:记录下一个应该到达的城市\n",
    "\"\"\""
   ]
  },
  {
   "cell_type": "code",
   "execution_count": 233,
   "metadata": {},
   "outputs": [],
   "source": [
    "N = point_array.shape[0]"
   ]
  },
  {
   "cell_type": "code",
   "execution_count": 235,
   "metadata": {},
   "outputs": [],
   "source": [
    "path = np.ones((2 ** N -1, N), dtype=np.int)"
   ]
  },
  {
   "cell_type": "code",
   "execution_count": 240,
   "metadata": {},
   "outputs": [],
   "source": [
    "dp = np.ones((2 ** N - 1, N)) * -1"
   ]
  },
  {
   "cell_type": "code",
   "execution_count": 243,
   "metadata": {},
   "outputs": [
    {
     "name": "stdout",
     "output_type": "stream",
     "text": [
      "2097150\n",
      "[[1 1 1 ... 1 1 1]\n",
      " [1 1 1 ... 1 1 1]\n",
      " [1 1 1 ... 1 1 1]\n",
      " ...\n",
      " [1 1 1 ... 1 1 1]\n",
      " [1 1 1 ... 1 1 1]\n",
      " [1 1 1 ... 1 1 1]]\n",
      "741.9733950919434\n",
      "1\n",
      "16\n",
      "5\n",
      "15\n",
      "17\n",
      "12\n",
      "2\n",
      "19\n",
      "7\n",
      "8\n",
      "10\n",
      "20\n",
      "3\n",
      "9\n",
      "11\n",
      "14\n",
      "13\n",
      "6\n",
      "18\n",
      "4\n",
      "程序的运行时间是：178.06202459335327\n"
     ]
    }
   ],
   "source": [
    "def TSP(s, init):\n",
    "    if dp[s][init] != -1:\n",
    "        return dp[s][init]\n",
    "    \n",
    "    if s == 0: # 成立代表遍历结束\n",
    "        return dist[0][init]\n",
    "    \n",
    "    sumpath = float('inf')\n",
    "\n",
    "    for i in range(N):\n",
    "        if s & (1 << i): # 判断是否遍历过，未遍历则执行\n",
    "            m = TSP(s & (~ (1 << i)), i) + dist[i][init]#s & (~ (1 << i))让遍历过的点的相应位置变0\n",
    "            if m < sumpath:\n",
    "                sumpath = m\n",
    "                path[s][init] = i\n",
    "    dp[s][init] = sumpath\n",
    "    return dp[s][init]\n",
    "\n",
    "init_point = 0\n",
    "s = 0\n",
    "for i in range(1, N):\n",
    "    s = s|(1<<i)\n",
    "\n",
    "start = time.time()\n",
    "distance = TSP(s, init_point)\n",
    "end = time.time()\n",
    "\n",
    "for i in range(1, N):\n",
    "    s = s|(1<<i)\n",
    "init = 0\n",
    "num = 0\n",
    "print(distance)\n",
    "route = [chosen_p]\n",
    "\n",
    "while True:\n",
    "    print(path[s][init])\n",
    "    init = path[s][init]\n",
    "    route.append(point_list[init])\n",
    "    s = s & (~ (1 << init))\n",
    "    num += 1\n",
    "    if num > N-2:\n",
    "        break\n",
    "print(\"程序的运行时间是：%s\" % (end - start))"
   ]
  },
  {
   "cell_type": "code",
   "execution_count": 244,
   "metadata": {},
   "outputs": [],
   "source": [
    "route.append(chosen_p)"
   ]
  },
  {
   "cell_type": "code",
   "execution_count": 245,
   "metadata": {
    "scrolled": true
   },
   "outputs": [
    {
     "data": {
      "text/plain": [
       "[<matplotlib.lines.Line2D at 0x1b72004ec18>]"
      ]
     },
     "execution_count": 245,
     "metadata": {},
     "output_type": "execute_result"
    },
    {
     "data": {
      "image/png": "[encoded data removed]",
      "text/plain": [
       "<Figure size 432x288 with 1 Axes>"
      ]
     },
     "metadata": {
      "needs_background": "light"
     },
     "output_type": "display_data"
    }
   ],
   "source": [
    "plt.scatter(latitudes, longitude)\n",
    "plt.scatter([chosen_p[0]], [chosen_p[1]], color='r')\n",
    "x = [point[0] for point in route]\n",
    "y = [point[1] for point in route]\n",
    "plt.plot(x, y, color='black')"
   ]
  },
  {
   "cell_type": "markdown",
   "metadata": {},
   "source": [
    "k辆车，n个点这种问题感觉应该从实际情况进行区域划分吧"
   ]
  },
  {
   "cell_type": "markdown",
   "metadata": {},
   "source": [
    "以下为上课代码优化，将n改为n//2，因为过了n//2，都是重复计算"
   ]
  },
  {
   "cell_type": "code",
   "execution_count": 13,
   "metadata": {},
   "outputs": [],
   "source": [
    "def memo(f): \n",
    "    memo.already_computed = {}\n",
    "    @wraps(f)\n",
    "    def _wrap(arg):\n",
    "        result = None\n",
    "        \n",
    "        if arg in memo.already_computed: \n",
    "            result = memo.already_computed[arg]\n",
    "        else:\n",
    "            result = f(arg)\n",
    "            memo.already_computed[arg] = result\n",
    "        \n",
    "        return result\n",
    "    \n",
    "    return _wrap"
   ]
  },
  {
   "cell_type": "code",
   "execution_count": 15,
   "metadata": {},
   "outputs": [],
   "source": [
    "from functools import wraps"
   ]
  },
  {
   "cell_type": "code",
   "execution_count": 40,
   "metadata": {},
   "outputs": [],
   "source": [
    "#@get_call_time\n",
    "@memo\n",
    "def r(n):\n",
    "    \"\"\"\n",
    "    Args: n is the iron length\n",
    "    Return: the max revenue \n",
    "    \"\"\"\n",
    "    max_price, max_split = max(\n",
    "        [(price[n], 0)] + [(r(i) + r(n-i), i) for i in range(1, n//2+1)], key=lambda x: x[0]\n",
    "    )\n",
    "\n",
    "    solution[n] = (n - max_split, max_split)\n",
    "    \n",
    "    return max_price"
   ]
  },
  {
   "cell_type": "code",
   "execution_count": 41,
   "metadata": {},
   "outputs": [],
   "source": [
    "original_price = [1, 5, 8, 9, 10, 17, 17, 20, 24, 30, 35]"
   ]
  },
  {
   "cell_type": "code",
   "execution_count": 42,
   "metadata": {},
   "outputs": [],
   "source": [
    "from collections import defaultdict"
   ]
  },
  {
   "cell_type": "code",
   "execution_count": 43,
   "metadata": {},
   "outputs": [],
   "source": [
    "price = defaultdict(int)"
   ]
  },
  {
   "cell_type": "code",
   "execution_count": 44,
   "metadata": {},
   "outputs": [],
   "source": [
    "for i, p in enumerate(original_price): \n",
    "    price[i + 1] = p"
   ]
  },
  {
   "cell_type": "code",
   "execution_count": 46,
   "metadata": {
    "scrolled": true
   },
   "outputs": [
    {
     "data": {
      "text/plain": [
       "1086"
      ]
     },
     "execution_count": 46,
     "metadata": {},
     "output_type": "execute_result"
    }
   ],
   "source": [
    "r(342)"
   ]
  },
  {
   "cell_type": "code",
   "execution_count": 29,
   "metadata": {},
   "outputs": [],
   "source": [
    "solution = {}"
   ]
  },
  {
   "cell_type": "code",
   "execution_count": 47,
   "metadata": {},
   "outputs": [
    {
     "data": {
      "text/plain": [
       "{1: (1, 0),\n",
       " 3: (3, 0),\n",
       " 4: (2, 2),\n",
       " 5: (3, 2),\n",
       " 2: (2, 0),\n",
       " 6: (6, 0),\n",
       " 7: (6, 1),\n",
       " 8: (6, 2),\n",
       " 9: (6, 3),\n",
       " 10: (10, 0),\n",
       " 11: (11, 0),\n",
       " 12: (11, 1),\n",
       " 13: (11, 2),\n",
       " 14: (11, 3),\n",
       " 15: (13, 2),\n",
       " 16: (14, 2),\n",
       " 17: (11, 6),\n",
       " 18: (17, 1),\n",
       " 19: (17, 2),\n",
       " 20: (17, 3),\n",
       " 21: (11, 10),\n",
       " 22: (11, 11),\n",
       " 23: (22, 1),\n",
       " 24: (22, 2),\n",
       " 25: (22, 3),\n",
       " 26: (24, 2),\n",
       " 27: (25, 2),\n",
       " 28: (22, 6),\n",
       " 29: (28, 1),\n",
       " 30: (28, 2),\n",
       " 31: (28, 3),\n",
       " 32: (22, 10),\n",
       " 33: (22, 11),\n",
       " 34: (33, 1),\n",
       " 35: (33, 2),\n",
       " 36: (33, 3),\n",
       " 37: (35, 2),\n",
       " 38: (36, 2),\n",
       " 39: (33, 6),\n",
       " 40: (39, 1),\n",
       " 41: (39, 2),\n",
       " 42: (39, 3),\n",
       " 43: (33, 10),\n",
       " 44: (33, 11),\n",
       " 45: (44, 1),\n",
       " 46: (44, 2),\n",
       " 47: (44, 3),\n",
       " 48: (46, 2),\n",
       " 49: (47, 2),\n",
       " 50: (44, 6),\n",
       " 51: (50, 1),\n",
       " 52: (50, 2),\n",
       " 53: (50, 3),\n",
       " 54: (44, 10),\n",
       " 55: (44, 11),\n",
       " 56: (55, 1),\n",
       " 57: (55, 2),\n",
       " 58: (55, 3),\n",
       " 59: (57, 2),\n",
       " 60: (58, 2),\n",
       " 61: (55, 6),\n",
       " 62: (61, 1),\n",
       " 63: (61, 2),\n",
       " 64: (61, 3),\n",
       " 65: (55, 10),\n",
       " 66: (55, 11),\n",
       " 67: (66, 1),\n",
       " 68: (66, 2),\n",
       " 69: (66, 3),\n",
       " 70: (68, 2),\n",
       " 71: (69, 2),\n",
       " 72: (66, 6),\n",
       " 73: (72, 1),\n",
       " 74: (72, 2),\n",
       " 75: (72, 3),\n",
       " 76: (66, 10),\n",
       " 77: (66, 11),\n",
       " 78: (77, 1),\n",
       " 79: (77, 2),\n",
       " 80: (77, 3),\n",
       " 81: (79, 2),\n",
       " 82: (80, 2),\n",
       " 83: (77, 6),\n",
       " 84: (83, 1),\n",
       " 85: (83, 2),\n",
       " 86: (83, 3),\n",
       " 87: (77, 10),\n",
       " 88: (77, 11),\n",
       " 89: (88, 1),\n",
       " 90: (88, 2),\n",
       " 91: (88, 3),\n",
       " 92: (90, 2),\n",
       " 93: (91, 2),\n",
       " 94: (88, 6),\n",
       " 95: (94, 1),\n",
       " 96: (94, 2),\n",
       " 97: (94, 3),\n",
       " 98: (88, 10),\n",
       " 99: (88, 11),\n",
       " 100: (99, 1),\n",
       " 101: (99, 2),\n",
       " 102: (99, 3),\n",
       " 103: (101, 2),\n",
       " 104: (102, 2),\n",
       " 105: (99, 6),\n",
       " 106: (105, 1),\n",
       " 107: (105, 2),\n",
       " 108: (105, 3),\n",
       " 109: (99, 10),\n",
       " 110: (99, 11),\n",
       " 111: (110, 1),\n",
       " 112: (110, 2),\n",
       " 113: (110, 3),\n",
       " 114: (112, 2),\n",
       " 115: (113, 2),\n",
       " 116: (110, 6),\n",
       " 117: (116, 1),\n",
       " 118: (116, 2),\n",
       " 119: (116, 3),\n",
       " 120: (110, 10),\n",
       " 121: (110, 11),\n",
       " 122: (121, 1),\n",
       " 123: (121, 2),\n",
       " 124: (121, 3),\n",
       " 125: (123, 2),\n",
       " 126: (124, 2),\n",
       " 127: (121, 6),\n",
       " 128: (127, 1),\n",
       " 129: (127, 2),\n",
       " 130: (127, 3),\n",
       " 131: (121, 10),\n",
       " 132: (121, 11),\n",
       " 133: (132, 1),\n",
       " 134: (132, 2),\n",
       " 135: (132, 3),\n",
       " 136: (134, 2),\n",
       " 137: (135, 2),\n",
       " 138: (132, 6),\n",
       " 139: (138, 1),\n",
       " 140: (138, 2),\n",
       " 141: (138, 3),\n",
       " 142: (132, 10),\n",
       " 143: (132, 11),\n",
       " 144: (143, 1),\n",
       " 145: (143, 2),\n",
       " 146: (143, 3),\n",
       " 147: (145, 2),\n",
       " 148: (146, 2),\n",
       " 149: (143, 6),\n",
       " 150: (149, 1),\n",
       " 151: (149, 2),\n",
       " 152: (149, 3),\n",
       " 153: (143, 10),\n",
       " 154: (143, 11),\n",
       " 155: (154, 1),\n",
       " 156: (154, 2),\n",
       " 157: (154, 3),\n",
       " 158: (156, 2),\n",
       " 159: (157, 2),\n",
       " 160: (154, 6),\n",
       " 161: (160, 1),\n",
       " 162: (160, 2),\n",
       " 163: (160, 3),\n",
       " 164: (154, 10),\n",
       " 165: (154, 11),\n",
       " 166: (165, 1),\n",
       " 167: (165, 2),\n",
       " 168: (165, 3),\n",
       " 169: (167, 2),\n",
       " 170: (168, 2),\n",
       " 171: (165, 6),\n",
       " 172: (171, 1),\n",
       " 173: (171, 2),\n",
       " 174: (171, 3),\n",
       " 175: (165, 10),\n",
       " 176: (165, 11),\n",
       " 177: (176, 1),\n",
       " 178: (176, 2),\n",
       " 179: (176, 3),\n",
       " 180: (178, 2),\n",
       " 181: (179, 2),\n",
       " 182: (176, 6),\n",
       " 183: (182, 1),\n",
       " 184: (182, 2),\n",
       " 185: (182, 3),\n",
       " 186: (176, 10),\n",
       " 187: (176, 11),\n",
       " 188: (187, 1),\n",
       " 189: (187, 2),\n",
       " 190: (187, 3),\n",
       " 191: (189, 2),\n",
       " 192: (190, 2),\n",
       " 193: (187, 6),\n",
       " 194: (193, 1),\n",
       " 195: (193, 2),\n",
       " 196: (193, 3),\n",
       " 197: (187, 10),\n",
       " 198: (187, 11),\n",
       " 199: (198, 1),\n",
       " 200: (198, 2),\n",
       " 201: (198, 3),\n",
       " 202: (200, 2),\n",
       " 203: (201, 2),\n",
       " 204: (198, 6),\n",
       " 205: (204, 1),\n",
       " 206: (204, 2),\n",
       " 207: (204, 3),\n",
       " 208: (198, 10),\n",
       " 209: (198, 11),\n",
       " 210: (209, 1),\n",
       " 211: (209, 2),\n",
       " 212: (209, 3),\n",
       " 213: (211, 2),\n",
       " 214: (212, 2),\n",
       " 215: (209, 6),\n",
       " 216: (215, 1),\n",
       " 217: (215, 2),\n",
       " 218: (215, 3),\n",
       " 219: (209, 10),\n",
       " 220: (209, 11),\n",
       " 221: (220, 1),\n",
       " 222: (220, 2),\n",
       " 223: (220, 3),\n",
       " 224: (222, 2),\n",
       " 225: (223, 2),\n",
       " 226: (220, 6),\n",
       " 227: (226, 1),\n",
       " 228: (226, 2),\n",
       " 229: (226, 3),\n",
       " 230: (220, 10),\n",
       " 231: (220, 11),\n",
       " 232: (231, 1),\n",
       " 233: (231, 2),\n",
       " 234: (231, 3),\n",
       " 235: (233, 2),\n",
       " 236: (234, 2),\n",
       " 237: (231, 6),\n",
       " 238: (237, 1),\n",
       " 239: (237, 2),\n",
       " 240: (237, 3),\n",
       " 241: (231, 10),\n",
       " 242: (231, 11),\n",
       " 243: (242, 1),\n",
       " 244: (242, 2),\n",
       " 245: (242, 3),\n",
       " 246: (244, 2),\n",
       " 247: (245, 2),\n",
       " 248: (242, 6),\n",
       " 249: (248, 1),\n",
       " 250: (248, 2),\n",
       " 251: (248, 3),\n",
       " 252: (242, 10),\n",
       " 253: (242, 11),\n",
       " 254: (253, 1),\n",
       " 255: (253, 2),\n",
       " 256: (253, 3),\n",
       " 257: (255, 2),\n",
       " 258: (256, 2),\n",
       " 259: (253, 6),\n",
       " 260: (259, 1),\n",
       " 261: (259, 2),\n",
       " 262: (259, 3),\n",
       " 263: (253, 10),\n",
       " 264: (253, 11),\n",
       " 265: (264, 1),\n",
       " 266: (264, 2),\n",
       " 267: (264, 3),\n",
       " 268: (266, 2),\n",
       " 269: (267, 2),\n",
       " 270: (264, 6),\n",
       " 271: (270, 1),\n",
       " 272: (270, 2),\n",
       " 273: (270, 3),\n",
       " 274: (264, 10),\n",
       " 275: (264, 11),\n",
       " 276: (275, 1),\n",
       " 277: (275, 2),\n",
       " 278: (275, 3),\n",
       " 279: (277, 2),\n",
       " 280: (278, 2),\n",
       " 281: (275, 6),\n",
       " 282: (281, 1),\n",
       " 283: (281, 2),\n",
       " 284: (281, 3),\n",
       " 285: (275, 10),\n",
       " 286: (275, 11),\n",
       " 287: (286, 1),\n",
       " 288: (286, 2),\n",
       " 289: (286, 3),\n",
       " 290: (288, 2),\n",
       " 291: (289, 2),\n",
       " 292: (286, 6),\n",
       " 293: (292, 1),\n",
       " 294: (292, 2),\n",
       " 295: (292, 3),\n",
       " 296: (286, 10),\n",
       " 297: (286, 11),\n",
       " 298: (297, 1),\n",
       " 299: (297, 2),\n",
       " 300: (297, 3),\n",
       " 301: (299, 2),\n",
       " 302: (300, 2),\n",
       " 303: (297, 6),\n",
       " 304: (303, 1),\n",
       " 305: (303, 2),\n",
       " 306: (303, 3),\n",
       " 307: (297, 10),\n",
       " 308: (297, 11),\n",
       " 309: (308, 1),\n",
       " 310: (308, 2),\n",
       " 311: (308, 3),\n",
       " 312: (310, 2),\n",
       " 313: (311, 2),\n",
       " 314: (308, 6),\n",
       " 315: (314, 1),\n",
       " 316: (314, 2),\n",
       " 317: (314, 3),\n",
       " 318: (308, 10),\n",
       " 319: (308, 11),\n",
       " 320: (319, 1),\n",
       " 321: (319, 2),\n",
       " 322: (319, 3),\n",
       " 323: (321, 2),\n",
       " 324: (322, 2),\n",
       " 325: (319, 6),\n",
       " 326: (325, 1),\n",
       " 327: (325, 2),\n",
       " 328: (325, 3),\n",
       " 329: (319, 10),\n",
       " 330: (319, 11),\n",
       " 331: (330, 1),\n",
       " 332: (330, 2),\n",
       " 333: (330, 3),\n",
       " 334: (332, 2),\n",
       " 335: (333, 2),\n",
       " 336: (330, 6),\n",
       " 337: (336, 1),\n",
       " 338: (336, 2),\n",
       " 339: (336, 3),\n",
       " 340: (330, 10),\n",
       " 341: (330, 11),\n",
       " 342: (341, 1)}"
      ]
     },
     "execution_count": 47,
     "metadata": {},
     "output_type": "execute_result"
    }
   ],
   "source": [
    "solution"
   ]
  }
 ],
 "metadata": {
  "kernelspec": {
   "display_name": "Python 3",
   "language": "python",
   "name": "python3"
  },
  "language_info": {
   "codemirror_mode": {
    "name": "ipython",
    "version": 3
   },
   "file_extension": ".py",
   "mimetype": "text/x-python",
   "name": "python",
   "nbconvert_exporter": "python",
   "pygments_lexer": "ipython3",
   "version": "3.7.1"
  }
 },
 "nbformat": 4,
 "nbformat_minor": 2
}
