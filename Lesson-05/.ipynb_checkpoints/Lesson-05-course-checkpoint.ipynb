{
 "cells": [
  {
   "cell_type": "markdown",
   "metadata": {},
   "source": [
    "## Search Tree -> Similar Words"
   ]
  },
  {
   "cell_type": "code",
   "execution_count": 1,
   "metadata": {},
   "outputs": [],
   "source": [
    "csv_path = 'D:\\data\\sqlResult_1558435.csv'"
   ]
  },
  {
   "cell_type": "code",
   "execution_count": 2,
   "metadata": {},
   "outputs": [],
   "source": [
    "import pandas as pd"
   ]
  },
  {
   "cell_type": "code",
   "execution_count": 28,
   "metadata": {},
   "outputs": [],
   "source": [
    "content = pd.read_csv(csv_path, encoding='gb18030')"
   ]
  },
  {
   "cell_type": "code",
   "execution_count": 29,
   "metadata": {},
   "outputs": [],
   "source": [
    "content = content.fillna('')# 填充缺失值"
   ]
  },
  {
   "cell_type": "code",
   "execution_count": 30,
   "metadata": {},
   "outputs": [],
   "source": [
    "news_content = content['content'].tolist()"
   ]
  },
  {
   "cell_type": "code",
   "execution_count": 31,
   "metadata": {},
   "outputs": [],
   "source": [
    "import jieba"
   ]
  },
  {
   "cell_type": "code",
   "execution_count": 32,
   "metadata": {},
   "outputs": [],
   "source": [
    "def cut(string): return ' '.join(jieba.cut(string))"
   ]
  },
  {
   "cell_type": "code",
   "execution_count": 33,
   "metadata": {},
   "outputs": [
    {
     "name": "stderr",
     "output_type": "stream",
     "text": [
      "Building prefix dict from the default dictionary ...\n",
      "Loading model from cache C:\\Users\\RYANWU~1\\AppData\\Local\\Temp\\jieba.cache\n",
      "Loading model cost 0.700 seconds.\n",
      "Prefix dict has been built succesfully.\n"
     ]
    },
    {
     "data": {
      "text/plain": [
       "'这是 一个 测试'"
      ]
     },
     "execution_count": 33,
     "metadata": {},
     "output_type": "execute_result"
    }
   ],
   "source": [
    "cut('这是一个测试')"
   ]
  },
  {
   "cell_type": "code",
   "execution_count": 34,
   "metadata": {},
   "outputs": [],
   "source": [
    "import re"
   ]
  },
  {
   "cell_type": "code",
   "execution_count": 35,
   "metadata": {},
   "outputs": [],
   "source": [
    "def token(string):\n",
    "    return re.findall(r'[\\d|\\w]+', string)"
   ]
  },
  {
   "cell_type": "code",
   "execution_count": 36,
   "metadata": {},
   "outputs": [
    {
     "data": {
      "text/plain": [
       "['这是一个测试']"
      ]
     },
     "execution_count": 36,
     "metadata": {},
     "output_type": "execute_result"
    }
   ],
   "source": [
    "token('这是一个测试\\n\\n\\n')"
   ]
  },
  {
   "cell_type": "code",
   "execution_count": 37,
   "metadata": {},
   "outputs": [],
   "source": [
    "news_content = [token(n) for n in news_content]"
   ]
  },
  {
   "cell_type": "code",
   "execution_count": 38,
   "metadata": {},
   "outputs": [],
   "source": [
    "news_content = [' '.join(n) for n in news_content]"
   ]
  },
  {
   "cell_type": "code",
   "execution_count": 39,
   "metadata": {},
   "outputs": [],
   "source": [
    "news_content = [cut(n) for n in news_content]"
   ]
  },
  {
   "cell_type": "code",
   "execution_count": 40,
   "metadata": {},
   "outputs": [
    {
     "data": {
      "text/plain": [
       "'骁龙 835 作为 唯一 通过 Windows   10 桌面 平台 认证 的 ARM 处理器   高通 强调   不会 因为 只 考虑 性能 而 去 屏蔽掉 小 核心   相反   他们 正 联手 微软   找到 一种 适合 桌面 平台 的   兼顾 性能 和 功耗 的 完美 方案   报道 称   微软 已经 拿到 了 一些 新 的 源码   以便 Windows   10 更好 地 理解 big   little 架构   资料 显示   骁龙 835 作为 一款 集成 了 CPU   GPU   基带   蓝牙   Wi   Fi 的 SoC   比 传统 的 Wintel 方案 可以 节省 至少 30   的 PCB 空间   按计划   今年 Q4   华硕   惠普   联想 将 首发 骁龙 835   Win10 电脑   预计 均 是 二合一 形态 的 产品   当然   高通 骁龙 只是 个 开始   未来 也许 还 能 见到 三星 Exynos   联发科   华为 麒麟   小米 澎湃 等 进入 Windows   10 桌面 平台'"
      ]
     },
     "execution_count": 40,
     "metadata": {},
     "output_type": "execute_result"
    }
   ],
   "source": [
    "news_content[1]"
   ]
  },
  {
   "cell_type": "code",
   "execution_count": 32,
   "metadata": {},
   "outputs": [],
   "source": [
    "with open('news-sentences-cut.txt', 'w', encoding='utf-8') as f:\n",
    "    for n in news_content:\n",
    "        f.write(n + '\\n')"
   ]
  },
  {
   "cell_type": "code",
   "execution_count": 17,
   "metadata": {},
   "outputs": [],
   "source": [
    "from gensim.models import Word2Vec"
   ]
  },
  {
   "cell_type": "code",
   "execution_count": 18,
   "metadata": {},
   "outputs": [],
   "source": [
    "from gensim.models.word2vec import LineSentence"
   ]
  },
  {
   "cell_type": "code",
   "execution_count": 33,
   "metadata": {
    "collapsed": true
   },
   "outputs": [
    {
     "ename": "KeyboardInterrupt",
     "evalue": "",
     "output_type": "error",
     "traceback": [
      "\u001b[1;31m---------------------------------------------------------------------------\u001b[0m",
      "\u001b[1;31mKeyboardInterrupt\u001b[0m                         Traceback (most recent call last)",
      "\u001b[1;32m<ipython-input-33-2ed639d0aa52>\u001b[0m in \u001b[0;36m<module>\u001b[1;34m\u001b[0m\n\u001b[1;32m----> 1\u001b[1;33m \u001b[0mnews_word2ve\u001b[0m\u001b[1;33m=\u001b[0m \u001b[0mWord2Vec\u001b[0m\u001b[1;33m(\u001b[0m\u001b[0mLineSentence\u001b[0m\u001b[1;33m(\u001b[0m\u001b[1;34m'news-sentences-cut.txt'\u001b[0m\u001b[1;33m)\u001b[0m\u001b[1;33m,\u001b[0m \u001b[0msize\u001b[0m\u001b[1;33m=\u001b[0m\u001b[1;36m35\u001b[0m\u001b[1;33m,\u001b[0m \u001b[0mworkers\u001b[0m\u001b[1;33m=\u001b[0m\u001b[1;36m8\u001b[0m\u001b[1;33m)\u001b[0m\u001b[1;33m\u001b[0m\u001b[1;33m\u001b[0m\u001b[0m\n\u001b[0m",
      "\u001b[1;32m~\\Anaconda3\\lib\\site-packages\\gensim\\models\\word2vec.py\u001b[0m in \u001b[0;36m__init__\u001b[1;34m(self, sentences, corpus_file, size, alpha, window, min_count, max_vocab_size, sample, seed, workers, min_alpha, sg, hs, negative, ns_exponent, cbow_mean, hashfxn, iter, null_word, trim_rule, sorted_vocab, batch_words, compute_loss, callbacks, max_final_vocab)\u001b[0m\n\u001b[0;32m    781\u001b[0m             \u001b[0mcallbacks\u001b[0m\u001b[1;33m=\u001b[0m\u001b[0mcallbacks\u001b[0m\u001b[1;33m,\u001b[0m \u001b[0mbatch_words\u001b[0m\u001b[1;33m=\u001b[0m\u001b[0mbatch_words\u001b[0m\u001b[1;33m,\u001b[0m \u001b[0mtrim_rule\u001b[0m\u001b[1;33m=\u001b[0m\u001b[0mtrim_rule\u001b[0m\u001b[1;33m,\u001b[0m \u001b[0msg\u001b[0m\u001b[1;33m=\u001b[0m\u001b[0msg\u001b[0m\u001b[1;33m,\u001b[0m \u001b[0malpha\u001b[0m\u001b[1;33m=\u001b[0m\u001b[0malpha\u001b[0m\u001b[1;33m,\u001b[0m \u001b[0mwindow\u001b[0m\u001b[1;33m=\u001b[0m\u001b[0mwindow\u001b[0m\u001b[1;33m,\u001b[0m\u001b[1;33m\u001b[0m\u001b[1;33m\u001b[0m\u001b[0m\n\u001b[0;32m    782\u001b[0m             \u001b[0mseed\u001b[0m\u001b[1;33m=\u001b[0m\u001b[0mseed\u001b[0m\u001b[1;33m,\u001b[0m \u001b[0mhs\u001b[0m\u001b[1;33m=\u001b[0m\u001b[0mhs\u001b[0m\u001b[1;33m,\u001b[0m \u001b[0mnegative\u001b[0m\u001b[1;33m=\u001b[0m\u001b[0mnegative\u001b[0m\u001b[1;33m,\u001b[0m \u001b[0mcbow_mean\u001b[0m\u001b[1;33m=\u001b[0m\u001b[0mcbow_mean\u001b[0m\u001b[1;33m,\u001b[0m \u001b[0mmin_alpha\u001b[0m\u001b[1;33m=\u001b[0m\u001b[0mmin_alpha\u001b[0m\u001b[1;33m,\u001b[0m \u001b[0mcompute_loss\u001b[0m\u001b[1;33m=\u001b[0m\u001b[0mcompute_loss\u001b[0m\u001b[1;33m,\u001b[0m\u001b[1;33m\u001b[0m\u001b[1;33m\u001b[0m\u001b[0m\n\u001b[1;32m--> 783\u001b[1;33m             fast_version=FAST_VERSION)\n\u001b[0m\u001b[0;32m    784\u001b[0m \u001b[1;33m\u001b[0m\u001b[0m\n\u001b[0;32m    785\u001b[0m     def _do_train_epoch(self, corpus_file, thread_id, offset, cython_vocab, thread_private_mem, cur_epoch,\n",
      "\u001b[1;32m~\\Anaconda3\\lib\\site-packages\\gensim\\models\\base_any2vec.py\u001b[0m in \u001b[0;36m__init__\u001b[1;34m(self, sentences, corpus_file, workers, vector_size, epochs, callbacks, batch_words, trim_rule, sg, alpha, window, seed, hs, negative, ns_exponent, cbow_mean, min_alpha, compute_loss, fast_version, **kwargs)\u001b[0m\n\u001b[0;32m    761\u001b[0m                 \u001b[0msentences\u001b[0m\u001b[1;33m=\u001b[0m\u001b[0msentences\u001b[0m\u001b[1;33m,\u001b[0m \u001b[0mcorpus_file\u001b[0m\u001b[1;33m=\u001b[0m\u001b[0mcorpus_file\u001b[0m\u001b[1;33m,\u001b[0m \u001b[0mtotal_examples\u001b[0m\u001b[1;33m=\u001b[0m\u001b[0mself\u001b[0m\u001b[1;33m.\u001b[0m\u001b[0mcorpus_count\u001b[0m\u001b[1;33m,\u001b[0m\u001b[1;33m\u001b[0m\u001b[1;33m\u001b[0m\u001b[0m\n\u001b[0;32m    762\u001b[0m                 \u001b[0mtotal_words\u001b[0m\u001b[1;33m=\u001b[0m\u001b[0mself\u001b[0m\u001b[1;33m.\u001b[0m\u001b[0mcorpus_total_words\u001b[0m\u001b[1;33m,\u001b[0m \u001b[0mepochs\u001b[0m\u001b[1;33m=\u001b[0m\u001b[0mself\u001b[0m\u001b[1;33m.\u001b[0m\u001b[0mepochs\u001b[0m\u001b[1;33m,\u001b[0m \u001b[0mstart_alpha\u001b[0m\u001b[1;33m=\u001b[0m\u001b[0mself\u001b[0m\u001b[1;33m.\u001b[0m\u001b[0malpha\u001b[0m\u001b[1;33m,\u001b[0m\u001b[1;33m\u001b[0m\u001b[1;33m\u001b[0m\u001b[0m\n\u001b[1;32m--> 763\u001b[1;33m                 end_alpha=self.min_alpha, compute_loss=compute_loss)\n\u001b[0m\u001b[0;32m    764\u001b[0m         \u001b[1;32melse\u001b[0m\u001b[1;33m:\u001b[0m\u001b[1;33m\u001b[0m\u001b[1;33m\u001b[0m\u001b[0m\n\u001b[0;32m    765\u001b[0m             \u001b[1;32mif\u001b[0m \u001b[0mtrim_rule\u001b[0m \u001b[1;32mis\u001b[0m \u001b[1;32mnot\u001b[0m \u001b[1;32mNone\u001b[0m\u001b[1;33m:\u001b[0m\u001b[1;33m\u001b[0m\u001b[1;33m\u001b[0m\u001b[0m\n",
      "\u001b[1;32m~\\Anaconda3\\lib\\site-packages\\gensim\\models\\word2vec.py\u001b[0m in \u001b[0;36mtrain\u001b[1;34m(self, sentences, corpus_file, total_examples, total_words, epochs, start_alpha, end_alpha, word_count, queue_factor, report_delay, compute_loss, callbacks)\u001b[0m\n\u001b[0;32m    908\u001b[0m             \u001b[0msentences\u001b[0m\u001b[1;33m=\u001b[0m\u001b[0msentences\u001b[0m\u001b[1;33m,\u001b[0m \u001b[0mcorpus_file\u001b[0m\u001b[1;33m=\u001b[0m\u001b[0mcorpus_file\u001b[0m\u001b[1;33m,\u001b[0m \u001b[0mtotal_examples\u001b[0m\u001b[1;33m=\u001b[0m\u001b[0mtotal_examples\u001b[0m\u001b[1;33m,\u001b[0m \u001b[0mtotal_words\u001b[0m\u001b[1;33m=\u001b[0m\u001b[0mtotal_words\u001b[0m\u001b[1;33m,\u001b[0m\u001b[1;33m\u001b[0m\u001b[1;33m\u001b[0m\u001b[0m\n\u001b[0;32m    909\u001b[0m             \u001b[0mepochs\u001b[0m\u001b[1;33m=\u001b[0m\u001b[0mepochs\u001b[0m\u001b[1;33m,\u001b[0m \u001b[0mstart_alpha\u001b[0m\u001b[1;33m=\u001b[0m\u001b[0mstart_alpha\u001b[0m\u001b[1;33m,\u001b[0m \u001b[0mend_alpha\u001b[0m\u001b[1;33m=\u001b[0m\u001b[0mend_alpha\u001b[0m\u001b[1;33m,\u001b[0m \u001b[0mword_count\u001b[0m\u001b[1;33m=\u001b[0m\u001b[0mword_count\u001b[0m\u001b[1;33m,\u001b[0m\u001b[1;33m\u001b[0m\u001b[1;33m\u001b[0m\u001b[0m\n\u001b[1;32m--> 910\u001b[1;33m             queue_factor=queue_factor, report_delay=report_delay, compute_loss=compute_loss, callbacks=callbacks)\n\u001b[0m\u001b[0;32m    911\u001b[0m \u001b[1;33m\u001b[0m\u001b[0m\n\u001b[0;32m    912\u001b[0m     \u001b[1;32mdef\u001b[0m \u001b[0mscore\u001b[0m\u001b[1;33m(\u001b[0m\u001b[0mself\u001b[0m\u001b[1;33m,\u001b[0m \u001b[0msentences\u001b[0m\u001b[1;33m,\u001b[0m \u001b[0mtotal_sentences\u001b[0m\u001b[1;33m=\u001b[0m\u001b[0mint\u001b[0m\u001b[1;33m(\u001b[0m\u001b[1;36m1e6\u001b[0m\u001b[1;33m)\u001b[0m\u001b[1;33m,\u001b[0m \u001b[0mchunksize\u001b[0m\u001b[1;33m=\u001b[0m\u001b[1;36m100\u001b[0m\u001b[1;33m,\u001b[0m \u001b[0mqueue_factor\u001b[0m\u001b[1;33m=\u001b[0m\u001b[1;36m2\u001b[0m\u001b[1;33m,\u001b[0m \u001b[0mreport_delay\u001b[0m\u001b[1;33m=\u001b[0m\u001b[1;36m1\u001b[0m\u001b[1;33m)\u001b[0m\u001b[1;33m:\u001b[0m\u001b[1;33m\u001b[0m\u001b[1;33m\u001b[0m\u001b[0m\n",
      "\u001b[1;32m~\\Anaconda3\\lib\\site-packages\\gensim\\models\\base_any2vec.py\u001b[0m in \u001b[0;36mtrain\u001b[1;34m(self, sentences, corpus_file, total_examples, total_words, epochs, start_alpha, end_alpha, word_count, queue_factor, report_delay, compute_loss, callbacks, **kwargs)\u001b[0m\n\u001b[0;32m   1079\u001b[0m             \u001b[0mtotal_words\u001b[0m\u001b[1;33m=\u001b[0m\u001b[0mtotal_words\u001b[0m\u001b[1;33m,\u001b[0m \u001b[0mepochs\u001b[0m\u001b[1;33m=\u001b[0m\u001b[0mepochs\u001b[0m\u001b[1;33m,\u001b[0m \u001b[0mstart_alpha\u001b[0m\u001b[1;33m=\u001b[0m\u001b[0mstart_alpha\u001b[0m\u001b[1;33m,\u001b[0m \u001b[0mend_alpha\u001b[0m\u001b[1;33m=\u001b[0m\u001b[0mend_alpha\u001b[0m\u001b[1;33m,\u001b[0m \u001b[0mword_count\u001b[0m\u001b[1;33m=\u001b[0m\u001b[0mword_count\u001b[0m\u001b[1;33m,\u001b[0m\u001b[1;33m\u001b[0m\u001b[1;33m\u001b[0m\u001b[0m\n\u001b[0;32m   1080\u001b[0m             \u001b[0mqueue_factor\u001b[0m\u001b[1;33m=\u001b[0m\u001b[0mqueue_factor\u001b[0m\u001b[1;33m,\u001b[0m \u001b[0mreport_delay\u001b[0m\u001b[1;33m=\u001b[0m\u001b[0mreport_delay\u001b[0m\u001b[1;33m,\u001b[0m \u001b[0mcompute_loss\u001b[0m\u001b[1;33m=\u001b[0m\u001b[0mcompute_loss\u001b[0m\u001b[1;33m,\u001b[0m \u001b[0mcallbacks\u001b[0m\u001b[1;33m=\u001b[0m\u001b[0mcallbacks\u001b[0m\u001b[1;33m,\u001b[0m\u001b[1;33m\u001b[0m\u001b[1;33m\u001b[0m\u001b[0m\n\u001b[1;32m-> 1081\u001b[1;33m             **kwargs)\n\u001b[0m\u001b[0;32m   1082\u001b[0m \u001b[1;33m\u001b[0m\u001b[0m\n\u001b[0;32m   1083\u001b[0m     \u001b[1;32mdef\u001b[0m \u001b[0m_get_job_params\u001b[0m\u001b[1;33m(\u001b[0m\u001b[0mself\u001b[0m\u001b[1;33m,\u001b[0m \u001b[0mcur_epoch\u001b[0m\u001b[1;33m)\u001b[0m\u001b[1;33m:\u001b[0m\u001b[1;33m\u001b[0m\u001b[1;33m\u001b[0m\u001b[0m\n",
      "\u001b[1;32m~\\Anaconda3\\lib\\site-packages\\gensim\\models\\base_any2vec.py\u001b[0m in \u001b[0;36mtrain\u001b[1;34m(self, data_iterable, corpus_file, epochs, total_examples, total_words, queue_factor, report_delay, callbacks, **kwargs)\u001b[0m\n\u001b[0;32m    551\u001b[0m                 trained_word_count_epoch, raw_word_count_epoch, job_tally_epoch = self._train_epoch(\n\u001b[0;32m    552\u001b[0m                     \u001b[0mdata_iterable\u001b[0m\u001b[1;33m,\u001b[0m \u001b[0mcur_epoch\u001b[0m\u001b[1;33m=\u001b[0m\u001b[0mcur_epoch\u001b[0m\u001b[1;33m,\u001b[0m \u001b[0mtotal_examples\u001b[0m\u001b[1;33m=\u001b[0m\u001b[0mtotal_examples\u001b[0m\u001b[1;33m,\u001b[0m\u001b[1;33m\u001b[0m\u001b[1;33m\u001b[0m\u001b[0m\n\u001b[1;32m--> 553\u001b[1;33m                     total_words=total_words, queue_factor=queue_factor, report_delay=report_delay)\n\u001b[0m\u001b[0;32m    554\u001b[0m             \u001b[1;32melse\u001b[0m\u001b[1;33m:\u001b[0m\u001b[1;33m\u001b[0m\u001b[1;33m\u001b[0m\u001b[0m\n\u001b[0;32m    555\u001b[0m                 trained_word_count_epoch, raw_word_count_epoch, job_tally_epoch = self._train_epoch_corpusfile(\n",
      "\u001b[1;32m~\\Anaconda3\\lib\\site-packages\\gensim\\models\\base_any2vec.py\u001b[0m in \u001b[0;36m_train_epoch\u001b[1;34m(self, data_iterable, cur_epoch, total_examples, total_words, queue_factor, report_delay)\u001b[0m\n\u001b[0;32m    487\u001b[0m         trained_word_count, raw_word_count, job_tally = self._log_epoch_progress(\n\u001b[0;32m    488\u001b[0m             \u001b[0mprogress_queue\u001b[0m\u001b[1;33m,\u001b[0m \u001b[0mjob_queue\u001b[0m\u001b[1;33m,\u001b[0m \u001b[0mcur_epoch\u001b[0m\u001b[1;33m=\u001b[0m\u001b[0mcur_epoch\u001b[0m\u001b[1;33m,\u001b[0m \u001b[0mtotal_examples\u001b[0m\u001b[1;33m=\u001b[0m\u001b[0mtotal_examples\u001b[0m\u001b[1;33m,\u001b[0m \u001b[0mtotal_words\u001b[0m\u001b[1;33m=\u001b[0m\u001b[0mtotal_words\u001b[0m\u001b[1;33m,\u001b[0m\u001b[1;33m\u001b[0m\u001b[1;33m\u001b[0m\u001b[0m\n\u001b[1;32m--> 489\u001b[1;33m             report_delay=report_delay, is_corpus_file_mode=False)\n\u001b[0m\u001b[0;32m    490\u001b[0m \u001b[1;33m\u001b[0m\u001b[0m\n\u001b[0;32m    491\u001b[0m         \u001b[1;32mreturn\u001b[0m \u001b[0mtrained_word_count\u001b[0m\u001b[1;33m,\u001b[0m \u001b[0mraw_word_count\u001b[0m\u001b[1;33m,\u001b[0m \u001b[0mjob_tally\u001b[0m\u001b[1;33m\u001b[0m\u001b[1;33m\u001b[0m\u001b[0m\n",
      "\u001b[1;32m~\\Anaconda3\\lib\\site-packages\\gensim\\models\\base_any2vec.py\u001b[0m in \u001b[0;36m_log_epoch_progress\u001b[1;34m(self, progress_queue, job_queue, cur_epoch, total_examples, total_words, report_delay, is_corpus_file_mode)\u001b[0m\n\u001b[0;32m    344\u001b[0m \u001b[1;33m\u001b[0m\u001b[0m\n\u001b[0;32m    345\u001b[0m         \u001b[1;32mwhile\u001b[0m \u001b[0munfinished_worker_count\u001b[0m \u001b[1;33m>\u001b[0m \u001b[1;36m0\u001b[0m\u001b[1;33m:\u001b[0m\u001b[1;33m\u001b[0m\u001b[1;33m\u001b[0m\u001b[0m\n\u001b[1;32m--> 346\u001b[1;33m             \u001b[0mreport\u001b[0m \u001b[1;33m=\u001b[0m \u001b[0mprogress_queue\u001b[0m\u001b[1;33m.\u001b[0m\u001b[0mget\u001b[0m\u001b[1;33m(\u001b[0m\u001b[1;33m)\u001b[0m  \u001b[1;31m# blocks if workers too slow\u001b[0m\u001b[1;33m\u001b[0m\u001b[1;33m\u001b[0m\u001b[0m\n\u001b[0m\u001b[0;32m    347\u001b[0m             \u001b[1;32mif\u001b[0m \u001b[0mreport\u001b[0m \u001b[1;32mis\u001b[0m \u001b[1;32mNone\u001b[0m\u001b[1;33m:\u001b[0m  \u001b[1;31m# a thread reporting that it finished\u001b[0m\u001b[1;33m\u001b[0m\u001b[1;33m\u001b[0m\u001b[0m\n\u001b[0;32m    348\u001b[0m                 \u001b[0munfinished_worker_count\u001b[0m \u001b[1;33m-=\u001b[0m \u001b[1;36m1\u001b[0m\u001b[1;33m\u001b[0m\u001b[1;33m\u001b[0m\u001b[0m\n",
      "\u001b[1;32m~\\Anaconda3\\lib\\queue.py\u001b[0m in \u001b[0;36mget\u001b[1;34m(self, block, timeout)\u001b[0m\n\u001b[0;32m    168\u001b[0m             \u001b[1;32melif\u001b[0m \u001b[0mtimeout\u001b[0m \u001b[1;32mis\u001b[0m \u001b[1;32mNone\u001b[0m\u001b[1;33m:\u001b[0m\u001b[1;33m\u001b[0m\u001b[1;33m\u001b[0m\u001b[0m\n\u001b[0;32m    169\u001b[0m                 \u001b[1;32mwhile\u001b[0m \u001b[1;32mnot\u001b[0m \u001b[0mself\u001b[0m\u001b[1;33m.\u001b[0m\u001b[0m_qsize\u001b[0m\u001b[1;33m(\u001b[0m\u001b[1;33m)\u001b[0m\u001b[1;33m:\u001b[0m\u001b[1;33m\u001b[0m\u001b[1;33m\u001b[0m\u001b[0m\n\u001b[1;32m--> 170\u001b[1;33m                     \u001b[0mself\u001b[0m\u001b[1;33m.\u001b[0m\u001b[0mnot_empty\u001b[0m\u001b[1;33m.\u001b[0m\u001b[0mwait\u001b[0m\u001b[1;33m(\u001b[0m\u001b[1;33m)\u001b[0m\u001b[1;33m\u001b[0m\u001b[1;33m\u001b[0m\u001b[0m\n\u001b[0m\u001b[0;32m    171\u001b[0m             \u001b[1;32melif\u001b[0m \u001b[0mtimeout\u001b[0m \u001b[1;33m<\u001b[0m \u001b[1;36m0\u001b[0m\u001b[1;33m:\u001b[0m\u001b[1;33m\u001b[0m\u001b[1;33m\u001b[0m\u001b[0m\n\u001b[0;32m    172\u001b[0m                 \u001b[1;32mraise\u001b[0m \u001b[0mValueError\u001b[0m\u001b[1;33m(\u001b[0m\u001b[1;34m\"'timeout' must be a non-negative number\"\u001b[0m\u001b[1;33m)\u001b[0m\u001b[1;33m\u001b[0m\u001b[1;33m\u001b[0m\u001b[0m\n",
      "\u001b[1;32m~\\Anaconda3\\lib\\threading.py\u001b[0m in \u001b[0;36mwait\u001b[1;34m(self, timeout)\u001b[0m\n\u001b[0;32m    294\u001b[0m         \u001b[1;32mtry\u001b[0m\u001b[1;33m:\u001b[0m    \u001b[1;31m# restore state no matter what (e.g., KeyboardInterrupt)\u001b[0m\u001b[1;33m\u001b[0m\u001b[1;33m\u001b[0m\u001b[0m\n\u001b[0;32m    295\u001b[0m             \u001b[1;32mif\u001b[0m \u001b[0mtimeout\u001b[0m \u001b[1;32mis\u001b[0m \u001b[1;32mNone\u001b[0m\u001b[1;33m:\u001b[0m\u001b[1;33m\u001b[0m\u001b[1;33m\u001b[0m\u001b[0m\n\u001b[1;32m--> 296\u001b[1;33m                 \u001b[0mwaiter\u001b[0m\u001b[1;33m.\u001b[0m\u001b[0macquire\u001b[0m\u001b[1;33m(\u001b[0m\u001b[1;33m)\u001b[0m\u001b[1;33m\u001b[0m\u001b[1;33m\u001b[0m\u001b[0m\n\u001b[0m\u001b[0;32m    297\u001b[0m                 \u001b[0mgotit\u001b[0m \u001b[1;33m=\u001b[0m \u001b[1;32mTrue\u001b[0m\u001b[1;33m\u001b[0m\u001b[1;33m\u001b[0m\u001b[0m\n\u001b[0;32m    298\u001b[0m             \u001b[1;32melse\u001b[0m\u001b[1;33m:\u001b[0m\u001b[1;33m\u001b[0m\u001b[1;33m\u001b[0m\u001b[0m\n",
      "\u001b[1;31mKeyboardInterrupt\u001b[0m: "
     ]
    }
   ],
   "source": [
    "news_word2ve= Word2Vec(LineSentence('news-sentences-cut.txt'), size=35, workers=8)# 使用服务器进行"
   ]
  },
  {
   "cell_type": "code",
   "execution_count": 34,
   "metadata": {},
   "outputs": [],
   "source": [
    "news_word2vec = Word2Vec.load(\"D:\\data\\词向量\\Word2vec_news.w2v\").wv"
   ]
  },
  {
   "cell_type": "code",
   "execution_count": 36,
   "metadata": {},
   "outputs": [
    {
     "data": {
      "text/plain": [
       "[('意大利', 0.8852887153625488),\n",
       " ('克罗地亚', 0.8340622186660767),\n",
       " ('乌拉圭', 0.8308783769607544),\n",
       " ('西班牙', 0.8298821449279785),\n",
       " ('比利时', 0.8241837024688721),\n",
       " ('捷克', 0.8197815418243408),\n",
       " ('摩洛哥', 0.8100118041038513),\n",
       " ('拉脱维亚', 0.8078798651695251),\n",
       " ('苏格兰', 0.8077529072761536),\n",
       " ('奥地利', 0.7931118011474609),\n",
       " ('巴塞罗那', 0.7931040525436401),\n",
       " ('瑞士', 0.786262571811676),\n",
       " ('瑞典', 0.7805559039115906),\n",
       " ('罗马尼亚', 0.7741798162460327),\n",
       " ('科特迪瓦', 0.7718372941017151),\n",
       " ('匈牙利', 0.7714478969573975),\n",
       " ('丹麦', 0.7706612348556519),\n",
       " ('马德里', 0.7661043405532837),\n",
       " ('里斯本', 0.7646021842956543),\n",
       " ('比什凯克', 0.7624377012252808)]"
      ]
     },
     "execution_count": 36,
     "metadata": {},
     "output_type": "execute_result"
    }
   ],
   "source": [
    "news_word2vec.most_similar('葡萄牙', topn=20)"
   ]
  },
  {
   "cell_type": "markdown",
   "metadata": {},
   "source": [
    "## More Date, Better Results"
   ]
  },
  {
   "cell_type": "markdown",
   "metadata": {},
   "source": [
    "1. 分词的问题\n",
    "2. **数据量**，数据越多，效果越好，维基百科加进来，那么同义词就要好很多。"
   ]
  },
  {
   "cell_type": "code",
   "execution_count": 38,
   "metadata": {},
   "outputs": [
    {
     "data": {
      "text/plain": [
       "[('罗马尼亚', 0.8886144161224365),\n",
       " ('奥地利', 0.8777426481246948),\n",
       " ('丹麦', 0.8683875203132629),\n",
       " ('比利时', 0.8504652976989746),\n",
       " ('意大利', 0.8473998308181763),\n",
       " ('斯洛文尼亚', 0.8410307168960571),\n",
       " ('拉脱维亚', 0.8396599888801575),\n",
       " ('匈牙利', 0.837085485458374),\n",
       " ('克罗地亚', 0.8245354294776917),\n",
       " ('立陶宛', 0.8206977844238281),\n",
       " ('葡萄牙', 0.8197815418243408),\n",
       " ('保加利亚', 0.8163983821868896),\n",
       " ('塞内加尔', 0.8078371286392212),\n",
       " ('波兰', 0.7936551570892334),\n",
       " ('白俄罗斯', 0.7921256422996521),\n",
       " ('乌拉圭', 0.7918898463249207),\n",
       " ('南非', 0.7896310091018677),\n",
       " ('斯洛伐克', 0.7808347940444946),\n",
       " ('基辅', 0.7772891521453857),\n",
       " ('爱沙尼亚', 0.7743289470672607)]"
      ]
     },
     "execution_count": 38,
     "metadata": {},
     "output_type": "execute_result"
    }
   ],
   "source": [
    "news_word2vec.most_similar('捷克', topn=20)"
   ]
  },
  {
   "cell_type": "code",
   "execution_count": 39,
   "metadata": {},
   "outputs": [
    {
     "data": {
      "text/plain": [
       "[('表示', 0.9063081741333008),\n",
       " ('认为', 0.8806289434432983),\n",
       " ('指出', 0.8709487318992615),\n",
       " ('看来', 0.8291912078857422),\n",
       " ('坦言', 0.8197647333145142),\n",
       " ('告诉', 0.8110994696617126),\n",
       " ('介绍', 0.7872346639633179),\n",
       " ('明说', 0.7495293617248535),\n",
       " ('称', 0.7377257347106934),\n",
       " ('透露', 0.7272853255271912),\n",
       " ('强调', 0.6999672651290894),\n",
       " ('所说', 0.6885294318199158),\n",
       " ('文说', 0.6663358211517334),\n",
       " ('建议', 0.6630265116691589),\n",
       " ('中说', 0.6477285027503967),\n",
       " ('问', 0.6395455598831177),\n",
       " ('称赞', 0.6342372894287109),\n",
       " ('八面玲珑', 0.6234477758407593),\n",
       " ('提到', 0.6108267307281494),\n",
       " ('解释', 0.6010560393333435),\n",
       " ('对此', 0.6000298857688904),\n",
       " ('时说', 0.5971181392669678),\n",
       " ('相信', 0.5938463807106018),\n",
       " ('伟说', 0.5908620357513428),\n",
       " ('说道', 0.5881237983703613),\n",
       " ('纳说', 0.5826753973960876),\n",
       " ('嚷嚷', 0.5753600001335144),\n",
       " ('如是说', 0.5693569779396057),\n",
       " ('深有体会', 0.569197416305542),\n",
       " ('特别强调', 0.5673129558563232)]"
      ]
     },
     "execution_count": 39,
     "metadata": {},
     "output_type": "execute_result"
    }
   ],
   "source": [
    "news_word2vec.most_similar('说', topn=30)"
   ]
  },
  {
   "cell_type": "code",
   "execution_count": 40,
   "metadata": {},
   "outputs": [
    {
     "data": {
      "text/plain": [
       "[('指出', 0.9093369245529175),\n",
       " ('说', 0.8806289434432983),\n",
       " ('表示', 0.8795573115348816),\n",
       " ('看来', 0.8407139778137207),\n",
       " ('坦言', 0.7838941812515259),\n",
       " ('称', 0.7709749341011047),\n",
       " ('普遍认为', 0.7647619247436523),\n",
       " ('建议', 0.7400081753730774),\n",
       " ('告诉', 0.7350245714187622),\n",
       " ('透露', 0.7247072458267212),\n",
       " ('强调', 0.6941469311714172),\n",
       " ('相信', 0.6682510375976562),\n",
       " ('对此', 0.6678942441940308),\n",
       " ('所说', 0.6537356972694397),\n",
       " ('介绍', 0.6534051895141602),\n",
       " ('事实上', 0.6461942791938782),\n",
       " ('质疑', 0.6275614500045776),\n",
       " ('表明', 0.6247571706771851),\n",
       " ('担心', 0.6186351180076599),\n",
       " ('呼吁', 0.6164993047714233),\n",
       " ('及其', 0.6153807640075684),\n",
       " ('看好', 0.6089246869087219),\n",
       " ('猜测', 0.6070677042007446),\n",
       " ('明说', 0.6036244630813599),\n",
       " ('估计', 0.5976533889770508),\n",
       " ('解释', 0.5945842862129211),\n",
       " ('看法', 0.5934551954269409),\n",
       " ('对', 0.5898755192756653),\n",
       " ('评价', 0.5887594819068909),\n",
       " ('而言', 0.5871273279190063)]"
      ]
     },
     "execution_count": 40,
     "metadata": {},
     "output_type": "execute_result"
    }
   ],
   "source": [
    "news_word2vec.most_similar('认为', topn=30)"
   ]
  },
  {
   "cell_type": "code",
   "execution_count": 41,
   "metadata": {},
   "outputs": [
    {
     "data": {
      "text/plain": [
       "[('认为', 0.7400081753730774),\n",
       " ('指出', 0.7359380722045898),\n",
       " ('表示', 0.6978439092636108),\n",
       " ('强调', 0.6950175762176514),\n",
       " ('要求', 0.684845507144928),\n",
       " ('意见建议', 0.6696916818618774),\n",
       " ('呼吁', 0.6681092977523804),\n",
       " ('说', 0.6630265116691589),\n",
       " ('提醒', 0.6470029354095459),\n",
       " ('采纳', 0.6452909111976624)]"
      ]
     },
     "execution_count": 41,
     "metadata": {},
     "output_type": "execute_result"
    }
   ],
   "source": [
    "news_word2vec.most_similar('建议', topn=10)"
   ]
  },
  {
   "cell_type": "code",
   "execution_count": 42,
   "metadata": {},
   "outputs": [],
   "source": [
    "from collections import defaultdict"
   ]
  },
  {
   "cell_type": "code",
   "execution_count": 55,
   "metadata": {},
   "outputs": [],
   "source": [
    "def get_related_words(initial_words, model):\n",
    "    \"\"\"\n",
    "    @initial_words are initial words we already know\n",
    "    @model is the word2vec model\n",
    "    \"\"\"\n",
    "    \n",
    "    unseen = initial_words\n",
    "    \n",
    "    seen = defaultdict(int)\n",
    "    \n",
    "    max_size = 500  # could be greater\n",
    "    \n",
    "    while unseen and len(seen) < max_size:\n",
    "        if len(seen) % 50 == 0: \n",
    "            print('seen length : {}'.format(len(seen)))\n",
    "            \n",
    "        node = unseen.pop(0)\n",
    "        \n",
    "        \n",
    "        new_expanding = [w for w, s in model.most_similar(node, topn=20)]\n",
    "        \n",
    "        unseen += new_expanding\n",
    "        \n",
    "        seen[node] += 1\n",
    "        \n",
    "        # optimal: 1. score function could be revised\n",
    "        # optimal: 2. using dymanic programming to reduce computing time\n",
    "    \n",
    "    return seen"
   ]
  },
  {
   "cell_type": "code",
   "execution_count": 45,
   "metadata": {},
   "outputs": [
    {
     "name": "stderr",
     "output_type": "stream",
     "text": [
      "C:\\Users\\Mr. Wu\\Anaconda3\\lib\\site-packages\\ipykernel_launcher.py:1: DeprecationWarning: Call to deprecated `wv` (Attribute will be removed in 4.0.0, use self instead).\n",
      "  \"\"\"Entry point for launching an IPython kernel.\n"
     ]
    },
    {
     "data": {
      "text/plain": [
       "97927"
      ]
     },
     "execution_count": 45,
     "metadata": {},
     "output_type": "execute_result"
    }
   ],
   "source": [
    "len(news_word2vec.wv.vocab)"
   ]
  },
  {
   "cell_type": "code",
   "execution_count": 56,
   "metadata": {
    "scrolled": true
   },
   "outputs": [
    {
     "name": "stdout",
     "output_type": "stream",
     "text": [
      "seen length : 0\n",
      "seen length : 50\n",
      "seen length : 100\n",
      "seen length : 150\n",
      "seen length : 200\n",
      "seen length : 200\n",
      "seen length : 200\n",
      "seen length : 200\n",
      "seen length : 200\n",
      "seen length : 250\n",
      "seen length : 300\n",
      "seen length : 350\n",
      "seen length : 400\n",
      "seen length : 400\n",
      "seen length : 450\n",
      "seen length : 450\n"
     ]
    }
   ],
   "source": [
    "related_words = get_related_words(['说', '表示'], news_word2vec)"
   ]
  },
  {
   "cell_type": "code",
   "execution_count": 57,
   "metadata": {},
   "outputs": [
    {
     "data": {
      "text/plain": [
       "[('说', 17),\n",
       " ('表示', 17),\n",
       " ('指出', 17),\n",
       " ('认为', 14),\n",
       " ('坦言', 14),\n",
       " ('透露', 12),\n",
       " ('明说', 10),\n",
       " ('称', 10),\n",
       " ('看来', 9),\n",
       " ('告诉', 9),\n",
       " ('介绍', 9),\n",
       " ('所说', 9),\n",
       " ('提到', 8),\n",
       " ('强调', 7),\n",
       " ('建议', 6),\n",
       " ('中说', 6),\n",
       " ('对此', 5),\n",
       " ('呼吁', 5),\n",
       " ('质疑', 5),\n",
       " ('谈到', 5),\n",
       " ('直言', 5),\n",
       " ('说道', 5),\n",
       " ('感慨', 5),\n",
       " ('八竿子打不着', 5),\n",
       " ('说明', 5),\n",
       " ('八面玲珑', 4),\n",
       " ('普遍认为', 4),\n",
       " ('事实上', 4),\n",
       " ('回答', 4),\n",
       " ('感激', 4),\n",
       " ('谈论', 4),\n",
       " ('判断', 4),\n",
       " ('批评', 4),\n",
       " ('但是', 4),\n",
       " ('但', 4),\n",
       " ('问', 3),\n",
       " ('称赞', 3),\n",
       " ('解释', 3),\n",
       " ('相信', 3),\n",
       " ('表明', 3),\n",
       " ('特别强调', 3),\n",
       " ('眼中', 3),\n",
       " ('而言', 3),\n",
       " ('写信给', 3),\n",
       " ('常务', 3),\n",
       " ('深有体会', 3),\n",
       " ('还称', 3),\n",
       " ('中称', 3),\n",
       " ('知情', 3),\n",
       " ('回应', 3),\n",
       " ('证实', 3),\n",
       " ('声称', 3),\n",
       " ('提及', 3),\n",
       " ('阐述', 3),\n",
       " ('反复强调', 3),\n",
       " ('写道', 3),\n",
       " ('引用', 3),\n",
       " ('正如', 3),\n",
       " ('描述', 3),\n",
       " ('反驳', 3),\n",
       " ('感谢', 3),\n",
       " ('感叹', 3),\n",
       " ('澄清', 3),\n",
       " ('暗示', 3),\n",
       " ('猜测', 3),\n",
       " ('现阶段', 3),\n",
       " ('当然', 3),\n",
       " ('实际上', 3),\n",
       " ('其实', 3),\n",
       " ('来讲', 3),\n",
       " ('文说', 2),\n",
       " ('时说', 2),\n",
       " ('伟说', 2),\n",
       " ('担心', 2),\n",
       " ('来说', 2),\n",
       " ('值得称赞', 2),\n",
       " ('觉得', 2),\n",
       " ('坦承', 2),\n",
       " ('冯武', 2),\n",
       " ('供图', 2),\n",
       " ('如是说', 2),\n",
       " ('武说', 2),\n",
       " ('黄进', 2),\n",
       " ('西万', 2),\n",
       " ('北京大学医学部', 2),\n",
       " ('说法', 2),\n",
       " ('接受', 2),\n",
       " ('具名', 2),\n",
       " ('重申', 2),\n",
       " ('赞赏', 2),\n",
       " ('确信', 2),\n",
       " ('所指', 2),\n",
       " ('问道', 2),\n",
       " ('财政司', 2),\n",
       " ('政务司', 2),\n",
       " ('海峰', 2),\n",
       " ('这篇大', 2),\n",
       " ('补充', 2),\n",
       " ('希望', 2),\n",
       " ('时称', 2),\n",
       " ('上称', 2),\n",
       " ('谈谈', 2),\n",
       " ('提问', 2),\n",
       " ('请问', 2),\n",
       " ('惊叹', 2),\n",
       " ('非常高兴', 2),\n",
       " ('形容', 2),\n",
       " ('由衷', 2),\n",
       " ('列举', 2),\n",
       " ('给出', 2),\n",
       " ('关注', 2),\n",
       " ('招致', 2),\n",
       " ('看法', 2),\n",
       " ('对', 2),\n",
       " ('指责', 2),\n",
       " ('他称', 2),\n",
       " ('期待', 2),\n",
       " ('不过', 2),\n",
       " ('显然', 2),\n",
       " ('尽管', 2),\n",
       " ('怀疑', 2),\n",
       " ('印证', 2),\n",
       " ('指向', 2),\n",
       " ('因为', 2),\n",
       " ('解读', 2),\n",
       " ('评估', 2),\n",
       " ('宏观', 2),\n",
       " ('本身', 2),\n",
       " ('现在', 2),\n",
       " ('只是', 2),\n",
       " ('而且', 2),\n",
       " ('这方面', 2),\n",
       " ('眼里', 2),\n",
       " ('谈及', 2),\n",
       " ('深感', 2),\n",
       " ('美中', 2),\n",
       " ('反映', 1),\n",
       " ('分析', 1),\n",
       " ('评价', 1),\n",
       " ('资深', 1),\n",
       " ('地说', 1),\n",
       " ('蝉联冠军', 1),\n",
       " ('留意到', 1),\n",
       " ('看到', 1),\n",
       " ('勇对', 1),\n",
       " ('见到', 1),\n",
       " ('李仁虎', 1),\n",
       " ('了解', 1),\n",
       " ('获悉', 1),\n",
       " ('吴越', 1),\n",
       " ('徐明', 1),\n",
       " ('关强', 1),\n",
       " ('中国机电产品进出口商会', 1),\n",
       " ('郭', 1),\n",
       " ('刘', 1),\n",
       " ('通通', 1),\n",
       " ('茂林', 1),\n",
       " ('刘伟', 1),\n",
       " ('魏', 1),\n",
       " ('建中', 1),\n",
       " ('言谈', 1),\n",
       " ('大篇幅', 1),\n",
       " ('并称', 1),\n",
       " ('宣称', 1),\n",
       " ('援引', 1),\n",
       " ('日媒', 1),\n",
       " ('爆料', 1),\n",
       " ('一贯', 1),\n",
       " ('所作', 1),\n",
       " ('提出', 1),\n",
       " ('明确提出', 1),\n",
       " ('高度重视', 1),\n",
       " ('相左', 1),\n",
       " ('恪守', 1),\n",
       " ('财经委', 1),\n",
       " ('听取', 1),\n",
       " ('此行', 1),\n",
       " ('沉得住气', 1),\n",
       " ('承认', 1),\n",
       " ('穆贾', 1),\n",
       " ('科说', 1),\n",
       " ('因斯', 1),\n",
       " ('国际关系学院', 1),\n",
       " ('联席', 1),\n",
       " ('邓', 1),\n",
       " ('南希', 1),\n",
       " ('董', 1),\n",
       " ('斯克', 1),\n",
       " ('常务副', 1),\n",
       " ('客座', 1),\n",
       " ('祁', 1),\n",
       " ('国务院发展研究中心', 1),\n",
       " ('要求', 1),\n",
       " ('意见建议', 1),\n",
       " ('提醒', 1),\n",
       " ('采纳', 1),\n",
       " ('相应', 1),\n",
       " ('必要', 1),\n",
       " ('为此', 1),\n",
       " ('鼓励', 1),\n",
       " ('还应', 1),\n",
       " ('适当', 1),\n",
       " ('努钦称', 1),\n",
       " ('简短', 1),\n",
       " ('推文称', 1),\n",
       " ('发表', 1),\n",
       " ('抛出', 1),\n",
       " ('原话', 1),\n",
       " ('里亚布', 1),\n",
       " ('反问', 1),\n",
       " ('作答', 1),\n",
       " ('吗', 1),\n",
       " ('注意', 1),\n",
       " ('共见', 1),\n",
       " ('高蓓摄', 1),\n",
       " ('谈', 1),\n",
       " ('发问', 1),\n",
       " ('张曼摄', 1),\n",
       " ('敬佩', 1),\n",
       " ('讽刺', 1),\n",
       " ('自豪', 1),\n",
       " ('骄傲', 1),\n",
       " ('惋惜', 1),\n",
       " ('马尔克斯', 1),\n",
       " ('政治处', 1),\n",
       " ('开发部', 1),\n",
       " ('康复科', 1),\n",
       " ('政研室', 1),\n",
       " ('志峰', 1),\n",
       " ('三院', 1),\n",
       " ('延世大学', 1),\n",
       " ('伟力', 1),\n",
       " ('外联部', 1),\n",
       " ('徐洪兰', 1),\n",
       " ('王明', 1),\n",
       " ('医学博士', 1),\n",
       " ('针灸科', 1),\n",
       " ('阿托', 1),\n",
       " ('詹启敏', 1),\n",
       " ('访欧', 1),\n",
       " ('套用', 1),\n",
       " ('佐证', 1),\n",
       " ('的话', 1),\n",
       " ('表述', 1),\n",
       " ('清楚', 1),\n",
       " ('错误', 1),\n",
       " ('属实', 1),\n",
       " ('抵触', 1),\n",
       " ('不近人情', 1),\n",
       " ('辩解', 1),\n",
       " ('热议', 1),\n",
       " ('令', 1),\n",
       " ('全俄', 1),\n",
       " ('看好', 1),\n",
       " ('尚难', 1),\n",
       " ('电影界', 1),\n",
       " ('群后', 1),\n",
       " ('文学界', 1),\n",
       " ('归咎于', 1),\n",
       " ('深表', 1),\n",
       " ('赞同', 1),\n",
       " ('有何', 1),\n",
       " ('动向', 1),\n",
       " ('疑虑', 1),\n",
       " ('对于', 1),\n",
       " ('鉴于', 1),\n",
       " ('公关', 1),\n",
       " ('敦促', 1),\n",
       " ('主张', 1),\n",
       " ('反对', 1),\n",
       " ('毒害', 1),\n",
       " ('抵制', 1),\n",
       " ('对朝', 1),\n",
       " ('干预', 1),\n",
       " ('积极参与', 1),\n",
       " ('反贪', 1),\n",
       " ('谴责', 1),\n",
       " ('不向', 1),\n",
       " ('极力', 1),\n",
       " ('施压', 1),\n",
       " ('不久前', 1),\n",
       " ('公开场合', 1),\n",
       " ('要防', 1),\n",
       " ('意中', 1),\n",
       " ('森访', 1),\n",
       " ('詹福', 1),\n",
       " ('库泰萨', 1),\n",
       " ('秘而不宣', 1),\n",
       " ('大使', 1),\n",
       " ('节骨眼', 1),\n",
       " ('担任', 1),\n",
       " ('兼任', 1),\n",
       " ('兼', 1),\n",
       " ('履新', 1),\n",
       " ('出任', 1),\n",
       " ('副', 1),\n",
       " ('奖学', 1),\n",
       " ('会长', 1),\n",
       " ('作家协会', 1),\n",
       " ('姚', 1),\n",
       " ('接任', 1),\n",
       " ('期望', 1),\n",
       " ('坚信', 1),\n",
       " ('理解', 1),\n",
       " ('或许', 1),\n",
       " ('肯定', 1),\n",
       " ('让', 1),\n",
       " ('设想', 1),\n",
       " ('将来', 1),\n",
       " ('想法', 1),\n",
       " ('能为', 1),\n",
       " ('然而', 1),\n",
       " ('的确', 1),\n",
       " ('并非', 1),\n",
       " ('担忧', 1),\n",
       " ('做法', 1),\n",
       " ('原因', 1),\n",
       " ('确实', 1),\n",
       " ('如此', 1),\n",
       " ('当下', 1),\n",
       " ('似乎', 1),\n",
       " ('言论', 1),\n",
       " ('传言', 1),\n",
       " ('泄密', 1),\n",
       " ('假新闻', 1),\n",
       " ('不满', 1),\n",
       " ('喊话', 1),\n",
       " ('疑问', 1),\n",
       " ('否认', 1),\n",
       " ('表态', 1),\n",
       " ('争议', 1),\n",
       " ('缘由', 1),\n",
       " ('声浪', 1),\n",
       " ('改变', 1),\n",
       " ('促使', 1),\n",
       " ('结论', 1),\n",
       " ('削弱', 1),\n",
       " ('变化', 1),\n",
       " ('自会', 1),\n",
       " ('迄今为止', 1),\n",
       " ('抱怨', 1),\n",
       " ('害怕', 1),\n",
       " ('排斥', 1),\n",
       " ('指望', 1),\n",
       " ('以致', 1),\n",
       " ('恐怕', 1),\n",
       " ('知晓', 1),\n",
       " ('以至于', 1),\n",
       " ('在意', 1),\n",
       " ('过分', 1),\n",
       " ('以为', 1),\n",
       " ('低估', 1),\n",
       " ('诟病', 1),\n",
       " ('重蹈覆辙', 1),\n",
       " ('利欲熏心', 1),\n",
       " ('推波助澜', 1),\n",
       " ('认识', 1),\n",
       " ('闭门造车', 1),\n",
       " ('凸显', 1),\n",
       " ('释放', 1),\n",
       " ('发现', 1),\n",
       " ('针对', 1),\n",
       " ('吸取', 1),\n",
       " ('体现', 1),\n",
       " ('强调指出', 1),\n",
       " ('远远不够', 1),\n",
       " ('对村', 1),\n",
       " ('坚持原则', 1),\n",
       " ('点明', 1),\n",
       " ('试过', 1),\n",
       " ('率性', 1),\n",
       " ('嚷嚷', 1),\n",
       " ('一重', 1),\n",
       " ('原则同意', 1),\n",
       " ('公道', 1),\n",
       " ('办好事', 1),\n",
       " ('访芬', 1),\n",
       " ('切合', 1),\n",
       " ('总开关', 1),\n",
       " ('预测', 1),\n",
       " ('研报', 1),\n",
       " ('研判', 1),\n",
       " ('调查', 1),\n",
       " ('研究', 1),\n",
       " ('民意调查', 1),\n",
       " ('资讯', 1),\n",
       " ('观察', 1),\n",
       " ('显示', 1),\n",
       " ('最新', 1),\n",
       " ('共同社', 1),\n",
       " ('彭博社', 1),\n",
       " ('莫尼塔', 1),\n",
       " ('跟踪', 1),\n",
       " ('调查结果', 1),\n",
       " ('加以分析', 1),\n",
       " ('测评', 1),\n",
       " ('科学性', 1),\n",
       " ('依据', 1),\n",
       " ('评判', 1),\n",
       " ('权威', 1),\n",
       " ('量化', 1),\n",
       " ('可操作性', 1),\n",
       " ('规制', 1),\n",
       " ('尽职', 1),\n",
       " ('自律', 1),\n",
       " ('客观', 1),\n",
       " ('参照', 1),\n",
       " ('考评', 1),\n",
       " ('认可', 1),\n",
       " ('当中', 1),\n",
       " ('还是', 1),\n",
       " ('所以', 1),\n",
       " ('感兴趣', 1),\n",
       " ('毕竟', 1),\n",
       " ('还远', 1),\n",
       " ('常说', 1),\n",
       " ('称之为', 1),\n",
       " ('口中', 1),\n",
       " ('心中', 1),\n",
       " ('长寿', 1),\n",
       " ('高佑思', 1),\n",
       " ('出身', 1),\n",
       " ('赞叹', 1),\n",
       " ('打动', 1),\n",
       " ('远去', 1),\n",
       " ('情结', 1),\n",
       " ('熟知', 1),\n",
       " ('深知', 1),\n",
       " ('最辣', 1),\n",
       " ('因此', 1),\n",
       " ('显而易见', 1),\n",
       " ('众所周知', 1),\n",
       " ('另一方面', 1),\n",
       " ('以往', 1),\n",
       " ('李义东', 1),\n",
       " ('充满信心', 1),\n",
       " ('回顾', 1),\n",
       " ('感到高兴', 1),\n",
       " ('宝贵机会', 1),\n",
       " ('极好', 1),\n",
       " ('佩帅', 1),\n",
       " ('言', 1),\n",
       " ('干将', 1),\n",
       " ('意料', 1),\n",
       " ('问过', 1),\n",
       " ('周琦说', 1),\n",
       " ('想必', 1),\n",
       " ('恭喜', 1),\n",
       " ('调侃', 1),\n",
       " ('要说', 1),\n",
       " ('出乎', 1),\n",
       " ('老帅', 1),\n",
       " ('知名', 1),\n",
       " ('施普林', 1),\n",
       " ('主管', 1),\n",
       " ('CEO', 1),\n",
       " ('创始人', 1),\n",
       " ('理事长', 1),\n",
       " ('协会会长', 1),\n",
       " ('商界', 1),\n",
       " ('政', 1),\n",
       " ('布鲁金斯', 1),\n",
       " ('工程院', 1),\n",
       " ('顾问', 1),\n",
       " ('舍恩', 1),\n",
       " ('大学教授', 1),\n",
       " ('总监', 1),\n",
       " ('主编', 1),\n",
       " ('协会主席', 1),\n",
       " ('学者', 1),\n",
       " ('金融系', 1),\n",
       " ('沃伦', 1),\n",
       " ('大势所趋', 1),\n",
       " ('欧中', 1),\n",
       " ('展望未来', 1),\n",
       " ('世界大国', 1),\n",
       " ('成绩斐然', 1),\n",
       " ('成败', 1),\n",
       " ('英中', 1),\n",
       " ('国际足坛', 1),\n",
       " ('相互依赖', 1),\n",
       " ('实用主义', 1),\n",
       " ('扮演着', 1),\n",
       " ('功不可没', 1),\n",
       " ('芬中', 1),\n",
       " ('中拉', 1),\n",
       " ('有所作为', 1),\n",
       " ('不断进步', 1),\n",
       " ('谈起', 1),\n",
       " ('感触', 1),\n",
       " ('回忆', 1),\n",
       " ('说起', 1),\n",
       " ('倍感', 1),\n",
       " ('溢于言表', 1),\n",
       " ('往事', 1),\n",
       " ('回忆起', 1),\n",
       " ('从不', 1),\n",
       " ('无比', 1),\n",
       " ('心里', 1),\n",
       " ('语气', 1)]"
      ]
     },
     "execution_count": 57,
     "metadata": {},
     "output_type": "execute_result"
    }
   ],
   "source": [
    "sorted(related_words.items(), key=lambda x: x[1], reverse=True)"
   ]
  },
  {
   "cell_type": "markdown",
   "metadata": {},
   "source": [
    "## TFIDF Key words"
   ]
  },
  {
   "cell_type": "code",
   "execution_count": 41,
   "metadata": {
    "scrolled": true
   },
   "outputs": [
    {
     "data": {
      "text/plain": [
       "'此外   自 本周   6 月 12 日   起   除 小米 手机 6 等 15 款 机型 外   其余 机型 已 暂停 更新 发布   含 开发 版   体验版 内测   稳定版 暂不受 影响   以 确保 工程师 可以 集中 全部 精力 进行 系统优化 工作   有人 猜测 这 也 是 将 精力 主要 用到 MIUI   9 的 研发 之中   MIUI   8 去年 5 月 发布   距今已有 一年 有余   也 是 时候 更新换代 了   当然   关于 MIUI   9 的 确切 信息   我们 还是 等待 官方消息'"
      ]
     },
     "execution_count": 41,
     "metadata": {},
     "output_type": "execute_result"
    }
   ],
   "source": [
    "news_content[0]"
   ]
  },
  {
   "cell_type": "code",
   "execution_count": 42,
   "metadata": {},
   "outputs": [],
   "source": [
    "def document_frequency(word): \n",
    "    return sum(1 for n in news_content if word in n)"
   ]
  },
  {
   "cell_type": "code",
   "execution_count": 43,
   "metadata": {},
   "outputs": [
    {
     "data": {
      "text/plain": [
       "70342"
      ]
     },
     "execution_count": 43,
     "metadata": {},
     "output_type": "execute_result"
    }
   ],
   "source": [
    "document_frequency('的')"
   ]
  },
  {
   "cell_type": "code",
   "execution_count": 44,
   "metadata": {},
   "outputs": [
    {
     "data": {
      "text/plain": [
       "101"
      ]
     },
     "execution_count": 44,
     "metadata": {},
     "output_type": "execute_result"
    }
   ],
   "source": [
    "document_frequency('小米')"
   ]
  },
  {
   "cell_type": "code",
   "execution_count": 45,
   "metadata": {},
   "outputs": [],
   "source": [
    "import math"
   ]
  },
  {
   "cell_type": "code",
   "execution_count": 46,
   "metadata": {},
   "outputs": [],
   "source": [
    "def idf(word):\n",
    "    \"\"\"Gets the inversed document frequency\"\"\"\n",
    "    return math.log10(len(news_content) / document_frequency(word))"
   ]
  },
  {
   "cell_type": "code",
   "execution_count": 47,
   "metadata": {},
   "outputs": [
    {
     "data": {
      "text/plain": [
       "True"
      ]
     },
     "execution_count": 47,
     "metadata": {},
     "output_type": "execute_result"
    }
   ],
   "source": [
    "idf('的') < idf('小米')"
   ]
  },
  {
   "cell_type": "code",
   "execution_count": 48,
   "metadata": {},
   "outputs": [],
   "source": [
    "def tf(word, document):\n",
    "    \"\"\"\n",
    "    Gets the term frequemcy of a @word in a @document.\n",
    "    \"\"\"\n",
    "    words = document.split()\n",
    "    \n",
    "    return sum(1 for w in words if w == word)"
   ]
  },
  {
   "cell_type": "code",
   "execution_count": 49,
   "metadata": {},
   "outputs": [
    {
     "data": {
      "text/plain": [
       "'巨丰 早评   市场 将 再次 探底   巨丰 观点   周四 大盘 冲高 回落   2500 余 只 个股 下跌   上证 50   沪 深 300 指数 顽强 收红   早盘 大盘 低开 高 走   展开 反弹   沪 指 冲破 120 日 均线 压力 位   午后 大盘 跳水   个股 普跌   盘面 上   保险   电力   银行   民航机场   券商   房地产   人工智能   迪士尼   网络安全 等 板块 涨幅 居前   雄安 新区   福州 新区   医疗器械   丝绸之路 等 跌幅 居前   金融股 全线 大涨   保险 板块 涨 3   新华 保险   中国 太保   中国 人寿 涨 4   中国 平安 涨 2   西水股份   天茂 集团 盘中 大涨 7   以上   银行 板块 涨 2   招商银行 大涨 8   贵阳 银行   兴业银行   浦发银行   兴业银行 等 涨幅 居前   金融股 是 A股 纳入 MSCI 指数 的 受益者   后市 可以 逢 低 关注   盘中 万达 电影   复星 医药 等 白马股 闪崩   导致 午后 市场 出现 大幅 跳水   盘后 消息   银监会 于 6 月 中旬 要求 各家 银行 排查 包括 万达   海航 集团   复星   浙江 罗森 内里 在内 数家 企业 的 授信 及 风险 分析   排查 对象 多 是 近年来 海外投资 比较 凶猛   在 银行业 敞口 较大 的 民营企业 集团   巨丰 投顾 认为 自 5 月 以来   大盘 已经 走出 了 3 重底 的 走势   并 开启 中级 反弹 行情   沪 指 在 上证 50 及 白马股 推动 下 率先 反弹   但 遭遇 60 日   120 日 均线 强 压力 而 出现 调整   MSCI 纳入 A股 后   沪 深 300 指数 创 17 个 月 新高   但 2500 余股 下跌   市场 分化 明显   随着 6 月末 市场 流动性 紧张 的 可能 出现   市场 将 再次出现 探底   建议 投资者 重点 关注 半年报 大幅 预增 的 错 杀 股 和 具备 估值 优势 的 大 蓝筹   天信 投资   尾盘 跳水 原因 揭秘   伏击 的 品种 曝光   周四 市场 点评   沪 深 两市 早盘 纷纷 低开   但是 开盘 之后 权重 板块 崛起   其中 保险 和 银行 表现 尤其 明显   低矮 动 股指 快速 拉升   并 顺势 突破 了 60 日 均线 和 半年线 的 束缚   在 主板 拉升 的 过程 中   市场 的 分化 格局 也 较 明显   题材 板块 和 创业板 表现 相对 较弱   不过 虽然 市场 在 早盘 的 上攻   但是 成交量 萎缩 明教 明显   所以 这种 上涨 比较 虚   果不其然   午后 个股 再度 纷纷 杀跌   同时 股指 也 是 顺势 回落   沪市 的 半年线 得而复失   形成 长长的 上影线   而 创业板 股指 在 回落 的 过程 中 失守 5 日 均线 的 支撑   整体 上周四 市场 全天 保持 宽幅 震荡 走势   尤其 是 沪市 冲高 回落   保险   银行   中 字头   举牌 等 品种 涨幅 居前   钛 金属   区块 链   雄安 新区   民营 医院 等 品种 领跌   今日 市场预测   在 周三 收市 的 评论 中   我们 指出 周四 市场 会 出现 阶段性 的 普涨 行情   而 周四 早盘 三大 股指 齐齐 上涨   即使 创业板 股指 涨幅 较 小   但是 市场 确实 也 给 我们 呈现 的 普涨 格局   但是 午后 的 跳水   包括 创业板 股指 先 下跌   随后 沪 指 尾盘 的 快速 下 杀   使得 市场 从 普涨 瞬间 到 普跌   市场 的 大起大落 来 的 非常 刺激   从三大 股指 周四 呈现 给 大家 的 K 线 组合 来看   预计 今日 市场 齐跌 的 概率 较大   不过 创业板 合格 题材 板块 或 具备 一定 的 抗跌性   短期 行情 判断   从 大 的 环境 上 来看   市场 目前 本身 不 具备 大面积 和 大 空间 的 反弹 基础   因为 目前 无论是 从 宏观 面   货币 基本面 或者 从 国际 经济 和 政治 的 角度 来看   都 不 具备 这样 的 条件   所以 反应 到 市场 中来   只能 是 结构性   局部性 的 投机性 机会   而 最近 半个 月 以来   市场 的 走势 也 确实 符合 局部性   结构性 投机 的 走势   周四 市场 沪 指 形成 带 长长 上影线 的 倒 锤 阴线   创业板 股指 形成 的 是 跌破 5 日 和 10 日 均线 的 中 阴线   这种 类型 的 K 线 形态   几乎 都 是 市场 开始 调整 的 先兆   所以 短期 市场 而言   悲观 的 情绪 或 升温   后市 投资 建议   短期 建议 投资者 一定 要 控制 好 自身 的 仓位   中期 继续 看好 题材 板块 的 崛起   特别 是 次新股   高送 转   重组股 等等 可以 不断 的 去 伏击   依旧 具备 超跌 反弹 的 性质'"
      ]
     },
     "execution_count": 49,
     "metadata": {},
     "output_type": "execute_result"
    }
   ],
   "source": [
    "news_content[11]"
   ]
  },
  {
   "cell_type": "code",
   "execution_count": 50,
   "metadata": {},
   "outputs": [
    {
     "data": {
      "text/plain": [
       "6"
      ]
     },
     "execution_count": 50,
     "metadata": {},
     "output_type": "execute_result"
    }
   ],
   "source": [
    "tf('银行', news_content[11])"
   ]
  },
  {
   "cell_type": "code",
   "execution_count": 51,
   "metadata": {},
   "outputs": [
    {
     "data": {
      "text/plain": [
       "6"
      ]
     },
     "execution_count": 51,
     "metadata": {},
     "output_type": "execute_result"
    }
   ],
   "source": [
    "tf('创业板', news_content[11])"
   ]
  },
  {
   "cell_type": "code",
   "execution_count": 52,
   "metadata": {},
   "outputs": [
    {
     "data": {
      "text/plain": [
       "2.506757120518876"
      ]
     },
     "execution_count": 52,
     "metadata": {},
     "output_type": "execute_result"
    }
   ],
   "source": [
    "idf('创业板')"
   ]
  },
  {
   "cell_type": "code",
   "execution_count": 53,
   "metadata": {},
   "outputs": [
    {
     "data": {
      "text/plain": [
       "1.4550169427748936"
      ]
     },
     "execution_count": 53,
     "metadata": {},
     "output_type": "execute_result"
    }
   ],
   "source": [
    "idf('银行')"
   ]
  },
  {
   "cell_type": "code",
   "execution_count": 54,
   "metadata": {},
   "outputs": [
    {
     "data": {
      "text/plain": [
       "1.9923664854640575"
      ]
     },
     "execution_count": 54,
     "metadata": {},
     "output_type": "execute_result"
    }
   ],
   "source": [
    "idf('短期')"
   ]
  },
  {
   "cell_type": "code",
   "execution_count": 55,
   "metadata": {},
   "outputs": [
    {
     "data": {
      "text/plain": [
       "3"
      ]
     },
     "execution_count": 55,
     "metadata": {},
     "output_type": "execute_result"
    }
   ],
   "source": [
    "tf('短期', news_content[11])"
   ]
  },
  {
   "cell_type": "code",
   "execution_count": 56,
   "metadata": {},
   "outputs": [],
   "source": [
    "def get_keywords_of_a_ducment(document):\n",
    "    words = set(document.split())\n",
    "    \n",
    "    tfidf = [\n",
    "        (w, tf(w, document) * idf(w)) for w in words\n",
    "    ]\n",
    "    \n",
    "    tfidf = sorted(tfidf, key=lambda x: x[1], reverse=True)\n",
    "    \n",
    "    return tfidf"
   ]
  },
  {
   "cell_type": "code",
   "execution_count": 57,
   "metadata": {},
   "outputs": [
    {
     "data": {
      "text/plain": [
       "'此外   自 本周   6 月 12 日   起   除 小米 手机 6 等 15 款 机型 外   其余 机型 已 暂停 更新 发布   含 开发 版   体验版 内测   稳定版 暂不受 影响   以 确保 工程师 可以 集中 全部 精力 进行 系统优化 工作   有人 猜测 这 也 是 将 精力 主要 用到 MIUI   9 的 研发 之中   MIUI   8 去年 5 月 发布   距今已有 一年 有余   也 是 时候 更新换代 了   当然   关于 MIUI   9 的 确切 信息   我们 还是 等待 官方消息'"
      ]
     },
     "execution_count": 57,
     "metadata": {},
     "output_type": "execute_result"
    }
   ],
   "source": [
    "news_content[0]"
   ]
  },
  {
   "cell_type": "code",
   "execution_count": 58,
   "metadata": {},
   "outputs": [
    {
     "data": {
      "text/plain": [
       "'巨丰 早评   市场 将 再次 探底   巨丰 观点   周四 大盘 冲高 回落   2500 余 只 个股 下跌   上证 50   沪 深 300 指数 顽强 收红   早盘 大盘 低开 高 走   展开 反弹   沪 指 冲破 120 日 均线 压力 位   午后 大盘 跳水   个股 普跌   盘面 上   保险   电力   银行   民航机场   券商   房地产   人工智能   迪士尼   网络安全 等 板块 涨幅 居前   雄安 新区   福州 新区   医疗器械   丝绸之路 等 跌幅 居前   金融股 全线 大涨   保险 板块 涨 3   新华 保险   中国 太保   中国 人寿 涨 4   中国 平安 涨 2   西水股份   天茂 集团 盘中 大涨 7   以上   银行 板块 涨 2   招商银行 大涨 8   贵阳 银行   兴业银行   浦发银行   兴业银行 等 涨幅 居前   金融股 是 A股 纳入 MSCI 指数 的 受益者   后市 可以 逢 低 关注   盘中 万达 电影   复星 医药 等 白马股 闪崩   导致 午后 市场 出现 大幅 跳水   盘后 消息   银监会 于 6 月 中旬 要求 各家 银行 排查 包括 万达   海航 集团   复星   浙江 罗森 内里 在内 数家 企业 的 授信 及 风险 分析   排查 对象 多 是 近年来 海外投资 比较 凶猛   在 银行业 敞口 较大 的 民营企业 集团   巨丰 投顾 认为 自 5 月 以来   大盘 已经 走出 了 3 重底 的 走势   并 开启 中级 反弹 行情   沪 指 在 上证 50 及 白马股 推动 下 率先 反弹   但 遭遇 60 日   120 日 均线 强 压力 而 出现 调整   MSCI 纳入 A股 后   沪 深 300 指数 创 17 个 月 新高   但 2500 余股 下跌   市场 分化 明显   随着 6 月末 市场 流动性 紧张 的 可能 出现   市场 将 再次出现 探底   建议 投资者 重点 关注 半年报 大幅 预增 的 错 杀 股 和 具备 估值 优势 的 大 蓝筹   天信 投资   尾盘 跳水 原因 揭秘   伏击 的 品种 曝光   周四 市场 点评   沪 深 两市 早盘 纷纷 低开   但是 开盘 之后 权重 板块 崛起   其中 保险 和 银行 表现 尤其 明显   低矮 动 股指 快速 拉升   并 顺势 突破 了 60 日 均线 和 半年线 的 束缚   在 主板 拉升 的 过程 中   市场 的 分化 格局 也 较 明显   题材 板块 和 创业板 表现 相对 较弱   不过 虽然 市场 在 早盘 的 上攻   但是 成交量 萎缩 明教 明显   所以 这种 上涨 比较 虚   果不其然   午后 个股 再度 纷纷 杀跌   同时 股指 也 是 顺势 回落   沪市 的 半年线 得而复失   形成 长长的 上影线   而 创业板 股指 在 回落 的 过程 中 失守 5 日 均线 的 支撑   整体 上周四 市场 全天 保持 宽幅 震荡 走势   尤其 是 沪市 冲高 回落   保险   银行   中 字头   举牌 等 品种 涨幅 居前   钛 金属   区块 链   雄安 新区   民营 医院 等 品种 领跌   今日 市场预测   在 周三 收市 的 评论 中   我们 指出 周四 市场 会 出现 阶段性 的 普涨 行情   而 周四 早盘 三大 股指 齐齐 上涨   即使 创业板 股指 涨幅 较 小   但是 市场 确实 也 给 我们 呈现 的 普涨 格局   但是 午后 的 跳水   包括 创业板 股指 先 下跌   随后 沪 指 尾盘 的 快速 下 杀   使得 市场 从 普涨 瞬间 到 普跌   市场 的 大起大落 来 的 非常 刺激   从三大 股指 周四 呈现 给 大家 的 K 线 组合 来看   预计 今日 市场 齐跌 的 概率 较大   不过 创业板 合格 题材 板块 或 具备 一定 的 抗跌性   短期 行情 判断   从 大 的 环境 上 来看   市场 目前 本身 不 具备 大面积 和 大 空间 的 反弹 基础   因为 目前 无论是 从 宏观 面   货币 基本面 或者 从 国际 经济 和 政治 的 角度 来看   都 不 具备 这样 的 条件   所以 反应 到 市场 中来   只能 是 结构性   局部性 的 投机性 机会   而 最近 半个 月 以来   市场 的 走势 也 确实 符合 局部性   结构性 投机 的 走势   周四 市场 沪 指 形成 带 长长 上影线 的 倒 锤 阴线   创业板 股指 形成 的 是 跌破 5 日 和 10 日 均线 的 中 阴线   这种 类型 的 K 线 形态   几乎 都 是 市场 开始 调整 的 先兆   所以 短期 市场 而言   悲观 的 情绪 或 升温   后市 投资 建议   短期 建议 投资者 一定 要 控制 好 自身 的 仓位   中期 继续 看好 题材 板块 的 崛起   特别 是 次新股   高送 转   重组股 等等 可以 不断 的 去 伏击   依旧 具备 超跌 反弹 的 性质'"
      ]
     },
     "execution_count": 58,
     "metadata": {},
     "output_type": "execute_result"
    }
   ],
   "source": [
    "news_content[11]"
   ]
  },
  {
   "cell_type": "code",
   "execution_count": 59,
   "metadata": {},
   "outputs": [
    {
     "name": "stdout",
     "output_type": "stream",
     "text": [
      " "
     ]
    }
   ],
   "source": [
    "%prun get_keywords_of_a_ducment(news_content[0])"
   ]
  },
  {
   "cell_type": "code",
   "execution_count": 60,
   "metadata": {},
   "outputs": [],
   "source": [
    "machine_new_keywords = get_keywords_of_a_ducment(news_content[101])"
   ]
  },
  {
   "cell_type": "code",
   "execution_count": 61,
   "metadata": {},
   "outputs": [
    {
     "data": {
      "text/plain": [
       "'中国 经济网 6 月 23 日讯   记者 刘瑾   日前   中国 机械 工业 百强 企业   汽车 三十 强 企业名单 出炉   在 由 中国 机械 工业 联合会   中国汽车工业协会 主办 的   中国 机械 工业 百强 企业   汽车 工业 三十 强 企业 信息 发布会   上   中国 机械 工业 联合会 会长 王瑞祥 指出   入围 企业 总体 呈现 了 持续增长 态势   2016 年 总 规模   平均 规模 均 创新 高   我国 机械 工业 总体 上 呈现 稳中 向 好 的 发展 态势   主要 经济指标 出现 恢复性 增长   同时   王瑞祥 也 表示   机械 工业 长期 积累 的 结构性 矛盾 还 没有 根本性 改变   新 的 发展 业态   发展 模式 远 未 形成   保持 平稳 健康 发展 的 基础 还 不 牢固   产业 升级   新旧 动能 转换   实现 由大 变强 任重道远   相关 数据 显示   2016 年 机械 百强 入围 企业 规模 是 15   4 亿元   比 上年 略 高   总 规模 达到 16992 亿元   平均 规模 169   92 亿元   两项 均 创新 高   相比 前 两年 的 前十强 排名   名单 基本 没有 什么 变化   只是 工程 机械行业 的 徐工   三一 和 中联重科 由于 之前 市场 环境 等 原因   整体 排位 后移 了 一 两位   但 仍 全部 在 十强 之 列   但 考虑 到 工程 机械行业 最近 以来 的 强烈 增长 态势   明年 该 行业 整体 恢复性 可能 较大   中机联 执行 副会长 陈斌 表示   机械 百强 的 年 换位 率 2005 年 曾 高达 32   此后 逐年 下降   2012 年降 至 6   不过 近几年 又 在 上升   2016 年 升至 22   说明 市场 动荡   不 确定 因素 增加   根据 中机联 公布 的 数据   2017 年 1 至 5 月 机械 增加值 增速 好于 去年 但 呈现 逐月 回落 的 态势   比如 1 至 5 月 增速 为 10   7   比 1 至 4 月 回落 0   2 点   此外 利润总额 也 出现 了 同样 的 走势   专家 分析   这是 由于 钢铁 等 原材料 价格 近期 出现 较大 增幅   使得 工业 企业 成本 压力 增大   产量 同比 增长 表现 抢眼 的 是 工程 机械类 产品   已经 有 8 个 月 保持高速 增长   同时   陈斌 也 表示 了 担忧   比如 价格指数 缓慢 回升 但远 低于 工业   原材料 指数   固定资产 投资 增速 仍 较 低迷   增速 在 多年 回落 之后 继续 在 低位 震荡 徘徊   他 表示   行业 经济运行 仍 面临 一定 的 下行 压力   机械行业 主要 服务 的 钢铁   煤炭   电力 及 石油   化工 等 行业 普遍 处于 产业结构 深度 调整期   其 装备 需求 短期 难以 大幅 增长   还有 经过 多年 的 高速 发展   各类 机械 产品 的 社会 保有量 均 达到 了 相当规模   对 现役 设备 的 更新改造 维护 已 成为 需求 中 的 重要 部分   这 增加 了 增量 回升 的 难度'"
      ]
     },
     "execution_count": 61,
     "metadata": {},
     "output_type": "execute_result"
    }
   ],
   "source": [
    "news_content[101]"
   ]
  },
  {
   "cell_type": "code",
   "execution_count": 62,
   "metadata": {},
   "outputs": [
    {
     "data": {
      "text/plain": [
       "[('机械', 19.73268423154147),\n",
       " ('工业', 13.726799287798574),\n",
       " ('百强', 12.218936930008129),\n",
       " ('机械行业', 11.732905915902746),\n",
       " ('王瑞祥', 9.904722647584947),\n",
       " ('中机联', 9.904722647584947),\n",
       " ('增速', 8.057368905265053),\n",
       " ('态势', 7.971371787277902),\n",
       " ('恢复性', 6.867694767829172),\n",
       " ('规模', 6.861746056315247),\n",
       " ('回落', 6.643121992377128),\n",
       " ('增长', 6.604587773896507),\n",
       " ('企业', 6.260042817487905),\n",
       " ('陈斌', 5.9311791790524575),\n",
       " ('呈现', 5.279381611367784),\n",
       " ('原材料', 5.215938100214726),\n",
       " ('但远', 4.9523613237924735),\n",
       " ('16992', 4.9523613237924735),\n",
       " ('刘瑾', 4.651331328128492),\n",
       " ('三十', 4.6438668975349),\n",
       " ('入围', 4.629743188559925),\n",
       " ('钢铁', 4.588699854270723),\n",
       " ('回升', 4.553165964236777),\n",
       " ('联合会', 4.4415451172114695),\n",
       " ('行业', 4.256149034981132),\n",
       " ('前十强', 4.253391319456455),\n",
       " ('后移', 4.253391319456455),\n",
       " ('发展', 4.24347205022841),\n",
       " ('亿元', 4.194707226838383),\n",
       " ('相当规模', 4.17421007340883),\n",
       " ('更新改造', 4.17421007340883),\n",
       " ('机械类', 4.17421007340883),\n",
       " ('年降', 4.107263283778217),\n",
       " ('徐工', 3.9981188143531488),\n",
       " ('工程', 3.9916862993694178),\n",
       " ('出现', 3.7560113879094406),\n",
       " ('中联重科', 3.748241341136549),\n",
       " ('仍', 3.665948565614492),\n",
       " ('较大', 3.65832649752095),\n",
       " ('中国汽车工业协会', 3.6513313281284923),\n",
       " ('变强', 3.6099386429702673),\n",
       " ('总体', 3.591018845444925),\n",
       " ('保持高速', 3.5373879758216558),\n",
       " ('换位', 3.5052032924502545),\n",
       " ('比如', 3.4905315667465113),\n",
       " ('由大', 3.4752400690728114),\n",
       " ('逐月', 3.4752400690728114),\n",
       " ('表示', 3.4536423582977496),\n",
       " ('企业名单', 3.4472113454725677),\n",
       " ('均', 3.413941587967606),\n",
       " ('十强', 3.3960588230251862),\n",
       " ('三一', 3.3503013324645115),\n",
       " ('平均', 3.342655913089492),\n",
       " ('整体', 3.322429124121176),\n",
       " ('调整期', 3.318892868212887),\n",
       " ('压力', 3.305708050183972),\n",
       " ('经济指标', 3.21199863429823),\n",
       " ('汽车', 3.195737446406074),\n",
       " ('保有量', 3.188933330229536),\n",
       " ('经济网', 3.126286521091647),\n",
       " ('利润总额', 3.071547731511682),\n",
       " ('抢眼', 3.007878651642305),\n",
       " ('任重道远', 3.0029713171475607),\n",
       " ('多年', 2.9986978653420366),\n",
       " ('根本性', 2.9885734964469184),\n",
       " ('排位', 2.970090090752905),\n",
       " ('169', 2.948039950009831),\n",
       " ('中国', 2.917491209470893),\n",
       " ('徘徊', 2.9109686386342486),\n",
       " ('新旧', 2.8954564724560012),\n",
       " ('现役', 2.8916634834388617),\n",
       " ('经济运行', 2.884175462046312),\n",
       " ('需求', 2.8632317045459827),\n",
       " ('好于', 2.8519907786749106),\n",
       " ('固定资产', 2.806233288114236),\n",
       " ('至', 2.784114021467203),\n",
       " ('持续增长', 2.762029625622182),\n",
       " ('了', 2.7530014092101593),\n",
       " ('增加值', 2.7375174757447756),\n",
       " ('达到', 2.7333500906799535),\n",
       " ('出炉', 2.7068486559783236),\n",
       " ('增加', 2.665284116361493),\n",
       " ('产业结构', 2.653508247382767),\n",
       " ('副会长', 2.6448652858792605),\n",
       " ('由于', 2.624157388191586),\n",
       " ('增大', 2.617907572641543),\n",
       " ('低位', 2.5925258414525856),\n",
       " ('动荡', 2.5685459578120424),\n",
       " ('创新', 2.5681372266885054),\n",
       " ('增量', 2.5614262166890946),\n",
       " ('牢固', 2.556161976696737),\n",
       " ('2016', 2.5450574183796917),\n",
       " ('价格指数', 2.5258500624278986),\n",
       " ('产品', 2.5209690024662845),\n",
       " ('2005', 2.513028629962211),\n",
       " ('上年', 2.492968836033243),\n",
       " ('逐年', 2.4914634810359257),\n",
       " ('缓慢', 2.488468334806566),\n",
       " ('两项', 2.46948774018372),\n",
       " ('但', 2.4593444283982095),\n",
       " ('稳中', 2.4445054520966427),\n",
       " ('转换', 2.4312232400884373),\n",
       " ('数据', 2.4284304701608277),\n",
       " ('低迷', 2.4273165167556283),\n",
       " ('业态', 2.4021329707373793),\n",
       " ('近几年', 2.362411722466766),\n",
       " ('化工', 2.3546661378669613),\n",
       " ('下行', 2.3503013324645115),\n",
       " ('日讯', 2.3385195019164042),\n",
       " ('增幅', 2.3364112721360724),\n",
       " ('煤炭', 2.3301473008261784),\n",
       " ('升至', 2.318892868212887),\n",
       " ('震荡', 2.304001312811542),\n",
       " ('动能', 2.2849083709025195),\n",
       " ('明年', 2.2473533644591375),\n",
       " ('走势', 2.221579048126084),\n",
       " ('主要', 2.2196289745949174),\n",
       " ('会长', 2.1670314887817064),\n",
       " ('高达', 2.1627806116280484),\n",
       " ('担忧', 2.1585709391016548),\n",
       " ('市场', 2.1353584391728972),\n",
       " ('没有', 2.1292630530088865),\n",
       " ('两位', 2.112255229335716),\n",
       " ('的', 2.102932231028948),\n",
       " ('积累', 2.0992717939406083),\n",
       " ('产量', 2.0962368795501733),\n",
       " ('电力', 2.092622757595327),\n",
       " ('矛盾', 2.09202331722148),\n",
       " ('结构性', 2.0860739847082788),\n",
       " ('石油', 2.0647440234567376),\n",
       " ('平稳', 2.0647440234567376),\n",
       " ('也', 2.035789095863084),\n",
       " ('同时', 2.0271830020187123),\n",
       " ('难度', 2.022431763707886),\n",
       " ('此后', 1.9942754752713885),\n",
       " ('92', 1.9942754752713885),\n",
       " ('短期', 1.9923664854640575),\n",
       " ('使得', 1.968735036667939),\n",
       " ('名单', 1.9655895895262288),\n",
       " ('2012', 1.9655895895262288),\n",
       " ('低于', 1.949763343072565),\n",
       " ('强烈', 1.9074297776433136),\n",
       " ('深度', 1.9027557111975004),\n",
       " ('说明', 1.8996673818675058),\n",
       " ('排名', 1.8663576181740917),\n",
       " ('高速', 1.8628094409060196),\n",
       " ('装备', 1.833105434514537),\n",
       " ('难以', 1.8062332881142356),\n",
       " ('普遍', 1.8031422111370938),\n",
       " ('指数', 1.7780107263130935),\n",
       " ('上升', 1.7662529439792682),\n",
       " ('最近', 1.7496006363992738),\n",
       " ('主办', 1.744188797125352),\n",
       " ('同样', 1.7333009913436124),\n",
       " ('高', 1.7282840637671162),\n",
       " ('同比', 1.7265353323305803),\n",
       " ('各类', 1.7183505062052942),\n",
       " ('下降', 1.70783681222239),\n",
       " ('大幅', 1.7051247742857096),\n",
       " ('处于', 1.6934846944203423),\n",
       " ('因素', 1.6915746551374973),\n",
       " ('维护', 1.6670290961485892),\n",
       " ('相比', 1.6643357884041108),\n",
       " ('两年', 1.6603268877977373),\n",
       " ('只是', 1.6500303951080744),\n",
       " ('考虑', 1.6489492531957317),\n",
       " ('32', 1.636600833126739),\n",
       " ('等', 1.6323131825512693),\n",
       " ('近期', 1.6282847440529873),\n",
       " ('之前', 1.6169034231030894),\n",
       " ('确定', 1.615101784042198),\n",
       " ('成本', 1.6021133054583108),\n",
       " ('改变', 1.6013384712083498),\n",
       " ('设备', 1.6007582513733447),\n",
       " ('表现', 1.5861252000741806),\n",
       " ('发布会', 1.5825890351955108),\n",
       " ('升级', 1.5788976021601047),\n",
       " ('面临', 1.5593128573756954),\n",
       " ('执行', 1.5315807042439082),\n",
       " ('价格', 1.5182716853745828),\n",
       " ('变化', 1.51556281356067),\n",
       " ('原因', 1.4901131084374761),\n",
       " ('一定', 1.489215187066124),\n",
       " ('长期', 1.4777080704304109),\n",
       " ('还', 1.4730246953620385),\n",
       " ('强', 1.4717574528800272),\n",
       " ('模式', 1.471062050459618),\n",
       " ('日前', 1.4650815073494048),\n",
       " ('什么', 1.4632469544135542),\n",
       " ('保持', 1.4515761508750178),\n",
       " ('公布', 1.4443705989727822),\n",
       " ('不过', 1.4431588014613708),\n",
       " ('健康', 1.436355093406426),\n",
       " ('全部', 1.4222897549550955),\n",
       " ('基本', 1.4194796043850764),\n",
       " ('经过', 1.4090384231455615),\n",
       " ('之后', 1.4028676105774605),\n",
       " ('此外', 1.3910213823335724),\n",
       " ('指出', 1.389711651580557),\n",
       " ('分析', 1.388050413831871),\n",
       " ('还有', 1.375559427963561),\n",
       " ('形成', 1.3654366156476532),\n",
       " ('专家', 1.3543372514582839),\n",
       " ('我国', 1.3365164409177714),\n",
       " ('总', 1.327598250797306),\n",
       " ('去年', 1.2942544882860807),\n",
       " ('产业', 1.2508796881715465),\n",
       " ('投资', 1.2463266630781231),\n",
       " ('信息', 1.2461557819105031),\n",
       " ('略', 1.2382831588106176),\n",
       " ('继续', 1.2350237410686098),\n",
       " ('基础', 1.2270215078827365),\n",
       " ('根据', 1.2232775667488618),\n",
       " ('环境', 1.2142946090150044),\n",
       " ('显示', 1.1870653940944171),\n",
       " ('曾', 1.1781364189235546),\n",
       " ('又', 1.1611620772935982),\n",
       " ('远', 1.157664196900475),\n",
       " ('22', 1.1569679888611843),\n",
       " ('可能', 1.1455032942736563),\n",
       " ('以来', 1.1343995192604797),\n",
       " ('部分', 1.121644374355576),\n",
       " ('23', 1.1108141585359204),\n",
       " ('实现', 1.1061479599130863),\n",
       " ('服务', 1.0882657503682263),\n",
       " ('率', 1.0870204181678897),\n",
       " ('社会', 1.0746445229274968),\n",
       " ('已经', 1.0650253933933065),\n",
       " ('相关', 1.059599089176657),\n",
       " ('较', 1.0157973186572078),\n",
       " ('不', 1.0069391592825077),\n",
       " ('列', 0.9869714535773513),\n",
       " ('这是', 0.9835516098796154),\n",
       " ('成为', 0.9830852283035417),\n",
       " ('重要', 0.9685096048010019),\n",
       " ('15', 0.9544509564457302),\n",
       " ('该', 0.9133043057590299),\n",
       " ('未', 0.8997827987478156),\n",
       " ('比', 0.8420969845527588),\n",
       " ('是', 0.8138857280827148),\n",
       " ('10', 0.7960848277894573),\n",
       " ('6', 0.7622602583437212),\n",
       " ('由', 0.7609103093275782),\n",
       " ('向', 0.7486215151586154),\n",
       " ('好', 0.7288653828300791),\n",
       " ('点', 0.7228074598113371),\n",
       " ('他', 0.7074907017272314),\n",
       " ('上', 0.7073166822180775),\n",
       " ('及', 0.6828250310365068),\n",
       " ('已', 0.6788276436411759),\n",
       " ('其', 0.6604599233270064),\n",
       " ('之', 0.5990414795497642),\n",
       " ('8', 0.5787505954795428),\n",
       " ('4', 0.5700969769950187),\n",
       " ('5', 0.5511525867465363),\n",
       " ('到', 0.5374380896146497),\n",
       " ('个', 0.5035468301229501),\n",
       " ('这', 0.5000074536188772),\n",
       " ('对', 0.49485789721916834),\n",
       " ('前', 0.4735784562858743),\n",
       " ('有', 0.44307813505580745),\n",
       " ('为', 0.38692675348471445),\n",
       " ('和', 0.3810835072902879),\n",
       " ('年', 0.3785594723181429),\n",
       " ('1', 0.3482445783310308),\n",
       " ('记者', 0.30906660129308033),\n",
       " ('在', 0.2748809271090362),\n",
       " ('一', 0.23694300119741732),\n",
       " ('2017', 0.2022542388651758),\n",
       " ('月', 0.17435784429986328),\n",
       " ('中', 0.17187119251677352),\n",
       " ('7', 0.15297252207708978),\n",
       " ('0', 0.12495973836320823),\n",
       " ('2', 0.12008239257713019),\n",
       " ('新', 0.031997949117575065)]"
      ]
     },
     "execution_count": 62,
     "metadata": {},
     "output_type": "execute_result"
    }
   ],
   "source": [
    "get_keywords_of_a_ducment(news_content[101])"
   ]
  },
  {
   "cell_type": "markdown",
   "metadata": {},
   "source": [
    "## Wordcloud"
   ]
  },
  {
   "cell_type": "code",
   "execution_count": 63,
   "metadata": {
    "scrolled": true
   },
   "outputs": [
    {
     "name": "stdout",
     "output_type": "stream",
     "text": [
      "Looking in indexes: http://pypi.douban.com/simple\n",
      "Collecting wordcloud\n",
      "  Downloading http://pypi.doubanio.com/packages/23/4e/1254d26ce5d36facdcbb5820e7e434328aed68e99938c75c9d4e2fee5efb/wordcloud-1.5.0-cp37-cp37m-win_amd64.whl (153kB)\n",
      "Requirement already satisfied: numpy>=1.6.1 in c:\\users\\ryan wu\\anaconda3\\lib\\site-packages (from wordcloud) (1.15.4)\n",
      "Requirement already satisfied: pillow in c:\\users\\ryan wu\\anaconda3\\lib\\site-packages (from wordcloud) (5.3.0)\n",
      "Installing collected packages: wordcloud\n",
      "Successfully installed wordcloud-1.5.0\n"
     ]
    }
   ],
   "source": [
    "! pip install wordcloud"
   ]
  },
  {
   "cell_type": "code",
   "execution_count": 64,
   "metadata": {},
   "outputs": [],
   "source": [
    "import wordcloud"
   ]
  },
  {
   "cell_type": "code",
   "execution_count": 65,
   "metadata": {},
   "outputs": [],
   "source": [
    "wc = wordcloud.WordCloud('D:\\data\\SourceHanSerifSC-Regular.otf')\n",
    "# we could download the font from https://github.com/Computing-Intelligence/datasource"
   ]
  },
  {
   "cell_type": "code",
   "execution_count": 66,
   "metadata": {},
   "outputs": [
    {
     "data": {
      "text/plain": [
       "'原 标题   44 岁 女子 跑 深圳 约会 网友 被 拒   暴雨 中 裸身 奔走   深圳 交警 微博称   昨日 清晨 交警 发现 有 一 女子 赤裸 上身   行走 在 南坪 快速 上   期间 还 起 了 轻生 年头   一辅警 发现 后 赶紧 为 其 披上 黄衣   并 一路 劝说 她   那么 事发 时   到底 都 发生 了 些 什么 呢   南 都 记者 带 您 一起 还原 现场   南 都 记者 在 龙岗 大队 坂田 中队 见到 了 辅警 刘青   发现 女生 的 辅警   一位 外表 高大 帅气   说话 略带 些 腼腆 的 90 后 青年   刘青 介绍   6 月 16 日 早上 7 时 36 分   他 正在 环城 南路 附近 值勤   接到 中队 关于 一位 女子 裸身 进入 机动车 可能 有 危险 的 警情   随后 骑着 小 铁骑 开始 沿路 寻找   大概 花 了 十多分钟 在 南坪 大道 坂田 出口 往 龙岗 方向 的 逆行 辅道 上 发现 该 女子   女子 身上 一丝不挂 地逆 车流 而行   时 走时 停   时 坐 时 躺   险象环生   刘青停 好 小 铁骑   和 另外 一名 巡防 员 追 了 上去   发现 女子 的 情绪 很 低落   话 不 多   刘青 尝试 和 女子 交流   劝说 女子 离开   可 女子 并 不 愿意 接受   继续 缓慢 地往 南坪 快速路 的 主干道 上 走 去   此时 路边 上 已经 聚集 了 很 市民 围观   为了 不 刺激 女子 的 情绪   刘青 和 巡防 员 一边 盯 着 女子 一边 驱赶 着 围观 的 群众   现场 还原   从 警方 提供 的 一份 视频 了解 到   16 日 早上 7 时 25 分   女子 出现 在 坂雪岗 大道 与 环城 南路 的 监控 视频 中   此时 女子 还 穿着 白色 的 内裤   正 沿着 坂雪岗 大道 往 南坪 快速 的 方向 缓慢 地 走 着   当时 正值 上班 高峰期   十字路口 的 车流 已经 排起 了 长队   当 女子 出现 时   路上 的 市民 纷纷 驻足 观望   不少 车辆 也 放慢 了 速度   但 女子 并 不 为 市民 观望 停下 脚步   依然 缓慢 走 着   当 女子 行进 到 十字路口 中间 时   一辆 大 货车 挡住 了 镜头   但是 当 女子 再次出现 镜头 时   可以 发现 女子 已经 没 穿 内裤 了   全身 裸露 继续 朝着 南坪 快速 方向 走 去   记者 发现   视频 中 女子 周围 并 没有 人 尾随 或者 上前 劝止 的 市民   一 大清早 路上 看到 这样 的 情况   恐怕 大家 都 没 办法 淡定   面对 这一 情况   刘青 表示   一 开始 根本 不敢 看 她   心里 挺 别扭   感觉 很 尴尬   但 当 刘青 跟随 女子 上 了 南坪 快速路 主干道 时   女子 作出 了 让 人 意想不到 的 举动   她 突然 靠近 护栏 要 从 上面 跳下去   刘青 赶忙 冲上去 拉住 了 女子 的 手   将 其 控制 住 并 远离 护栏   碍于 女子 没有 穿衣服   刘青递 上 衣服   女子 没 接受 还 把 衣服 扔 到 排水沟 里   继续 往前走   没 办法 刘青 只能 紧紧 拉 着 她 的 一只 手 跟 在 后面   刘青 一路上 耐心 地 开导 安慰 她   但 只 听到 她 不断 地 重复 着 一句 话   要是 你 也 遭遇 我 的 事   你 也 会 这样 的   期间 她 还 不时 试图 挣脱 刘青 的 手要 冲向 护栏 往下跳   就 这样   我 被 牵 着 走 了 大概 十多分钟   天 突然 下起 了 大暴雨   雨大 的 连 眼睛 都 睁不开   刘青 继续 说 着   瞬间 他们 就 被 雨 透 了   但 女子 依然 不 愿意 接受 刘青 的 帮助   就 继续 冒 着 大雨 往前走   大概 走 了 有 四十分钟 吧   女子 突然 停下 来说   我 想 回家 了   然后 女子 也 接受 了 刘青 递过来 的 小 黄衣   就 出现 了 深圳 微博上 的 照片   女子 披着 小 黄衣   刘青 小心翼翼 地 在 旁边 走 着 的 场景   从 南平 快速 下来 后   刘青 和 巡防 员 将 女子 带到 了 附近 的 坂田 派出所   那 姑娘 到底 是 遭遇 了 什么样 的 事情   才 会 说   要是 你 也 遭遇 我 的 事   你 也 会 这样   据 警方 透露   该 女子 姓 陈   系 湖北 人   今年 44 岁   据 家属 反映 其有 精神病 史   三天 前   陈某 从 老家 来 深圳 约会 网友   但 约会 受挫 导致 情绪 异常   女子 遂 产生 轻生 念头   目前   陈某 已经 被 送往 深圳 某 精神病 医院 进行 治疗   大大 君 只 希望 姑娘 能 早点 康复   其实 真爱 的 到来 并 不 存在 年龄 的 限制   你们 说 呢   因 善良 的 原因   一众 网友 纷纷 为   交警 暖 男点 ZAN   弓常 yan 桦   就 想 问 这个 小 哥哥 有 女票 吗   原谅 我 这 一辈子 浪荡 不羁 爱 萨摩耶   有 什么 过不去 的 要 轻生 嘛   想想 自己 的 家人   同时 也 感谢 交警 蜀黍   火心 聆听 心灵   点赞 交警   中華云盾   警察   警察 就是 群众 最 需时 申出 援手   Tomchlee   蜀黍 帅   SJ   李赫海 i   这个 交警 很 暖 有 木有   男子 迷奸 网友 拍 418 个 视频   女方 从 20 岁 到 50 岁 不 等   去年 6 月 7 号 上午   淮安市 涟水县 公安局 刑警大队 突然 接到 了 一个 奇怪 的 报警 电话   一名 女子 言语 不清   声称 自己 遭到 了 侵害   女子   被 侵害   言语 不清   几个 关键词 令 接到 电话 的 民警 瞬间 紧张 起来'"
      ]
     },
     "execution_count": 66,
     "metadata": {},
     "output_type": "execute_result"
    }
   ],
   "source": [
    "news_content[4]"
   ]
  },
  {
   "cell_type": "code",
   "execution_count": 67,
   "metadata": {},
   "outputs": [],
   "source": [
    "import matplotlib.pyplot as plt"
   ]
  },
  {
   "cell_type": "code",
   "execution_count": 68,
   "metadata": {},
   "outputs": [],
   "source": [
    "%matplotlib inline"
   ]
  },
  {
   "cell_type": "code",
   "execution_count": 69,
   "metadata": {},
   "outputs": [
    {
     "name": "stdout",
     "output_type": "stream",
     "text": [
      "Help on method generate_from_frequencies in module wordcloud.wordcloud:\n",
      "\n",
      "generate_from_frequencies(frequencies, max_font_size=None) method of wordcloud.wordcloud.WordCloud instance\n",
      "    Create a word_cloud from words and frequencies.\n",
      "    \n",
      "    Parameters\n",
      "    ----------\n",
      "    frequencies : dict from string to float\n",
      "        A contains words and associated frequency.\n",
      "    \n",
      "    max_font_size : int\n",
      "        Use this font-size instead of self.max_font_size\n",
      "    \n",
      "    Returns\n",
      "    -------\n",
      "    self\n",
      "\n"
     ]
    }
   ],
   "source": [
    "help(wc.generate_from_frequencies)"
   ]
  },
  {
   "cell_type": "code",
   "execution_count": 70,
   "metadata": {},
   "outputs": [],
   "source": [
    "machine_new_keywords_dict = {w: score for w, score in machine_new_keywords}"
   ]
  },
  {
   "cell_type": "code",
   "execution_count": 71,
   "metadata": {
    "collapsed": true
   },
   "outputs": [
    {
     "ename": "OSError",
     "evalue": "cannot open resource",
     "output_type": "error",
     "traceback": [
      "\u001b[1;31m---------------------------------------------------------------------------\u001b[0m",
      "\u001b[1;31mOSError\u001b[0m                                   Traceback (most recent call last)",
      "\u001b[1;32m<ipython-input-71-d805e3fab8e9>\u001b[0m in \u001b[0;36m<module>\u001b[1;34m\u001b[0m\n\u001b[1;32m----> 1\u001b[1;33m \u001b[0mplt\u001b[0m\u001b[1;33m.\u001b[0m\u001b[0mimshow\u001b[0m\u001b[1;33m(\u001b[0m\u001b[0mwc\u001b[0m\u001b[1;33m.\u001b[0m\u001b[0mgenerate_from_frequencies\u001b[0m\u001b[1;33m(\u001b[0m\u001b[0mmachine_new_keywords_dict\u001b[0m\u001b[1;33m)\u001b[0m\u001b[1;33m)\u001b[0m\u001b[1;33m\u001b[0m\u001b[1;33m\u001b[0m\u001b[0m\n\u001b[0m",
      "\u001b[1;32m~\\Anaconda3\\lib\\site-packages\\wordcloud\\wordcloud.py\u001b[0m in \u001b[0;36mgenerate_from_frequencies\u001b[1;34m(self, frequencies, max_font_size)\u001b[0m\n\u001b[0;32m    424\u001b[0m             \u001b[1;32melse\u001b[0m\u001b[1;33m:\u001b[0m\u001b[1;33m\u001b[0m\u001b[1;33m\u001b[0m\u001b[0m\n\u001b[0;32m    425\u001b[0m                 self.generate_from_frequencies(dict(frequencies[:2]),\n\u001b[1;32m--> 426\u001b[1;33m                                                max_font_size=self.height)\n\u001b[0m\u001b[0;32m    427\u001b[0m                 \u001b[1;31m# find font sizes\u001b[0m\u001b[1;33m\u001b[0m\u001b[1;33m\u001b[0m\u001b[1;33m\u001b[0m\u001b[0m\n\u001b[0;32m    428\u001b[0m                 \u001b[0msizes\u001b[0m \u001b[1;33m=\u001b[0m \u001b[1;33m[\u001b[0m\u001b[0mx\u001b[0m\u001b[1;33m[\u001b[0m\u001b[1;36m1\u001b[0m\u001b[1;33m]\u001b[0m \u001b[1;32mfor\u001b[0m \u001b[0mx\u001b[0m \u001b[1;32min\u001b[0m \u001b[0mself\u001b[0m\u001b[1;33m.\u001b[0m\u001b[0mlayout_\u001b[0m\u001b[1;33m]\u001b[0m\u001b[1;33m\u001b[0m\u001b[1;33m\u001b[0m\u001b[0m\n",
      "\u001b[1;32m~\\Anaconda3\\lib\\site-packages\\wordcloud\\wordcloud.py\u001b[0m in \u001b[0;36mgenerate_from_frequencies\u001b[1;34m(self, frequencies, max_font_size)\u001b[0m\n\u001b[0;32m    471\u001b[0m             \u001b[1;32mwhile\u001b[0m \u001b[1;32mTrue\u001b[0m\u001b[1;33m:\u001b[0m\u001b[1;33m\u001b[0m\u001b[1;33m\u001b[0m\u001b[0m\n\u001b[0;32m    472\u001b[0m                 \u001b[1;31m# try to find a position\u001b[0m\u001b[1;33m\u001b[0m\u001b[1;33m\u001b[0m\u001b[1;33m\u001b[0m\u001b[0m\n\u001b[1;32m--> 473\u001b[1;33m                 \u001b[0mfont\u001b[0m \u001b[1;33m=\u001b[0m \u001b[0mImageFont\u001b[0m\u001b[1;33m.\u001b[0m\u001b[0mtruetype\u001b[0m\u001b[1;33m(\u001b[0m\u001b[0mself\u001b[0m\u001b[1;33m.\u001b[0m\u001b[0mfont_path\u001b[0m\u001b[1;33m,\u001b[0m \u001b[0mfont_size\u001b[0m\u001b[1;33m)\u001b[0m\u001b[1;33m\u001b[0m\u001b[1;33m\u001b[0m\u001b[0m\n\u001b[0m\u001b[0;32m    474\u001b[0m                 \u001b[1;31m# transpose font optionally\u001b[0m\u001b[1;33m\u001b[0m\u001b[1;33m\u001b[0m\u001b[1;33m\u001b[0m\u001b[0m\n\u001b[0;32m    475\u001b[0m                 transposed_font = ImageFont.TransposedFont(\n",
      "\u001b[1;32m~\\Anaconda3\\lib\\site-packages\\PIL\\ImageFont.py\u001b[0m in \u001b[0;36mtruetype\u001b[1;34m(font, size, index, encoding, layout_engine)\u001b[0m\n\u001b[0;32m    278\u001b[0m \u001b[1;33m\u001b[0m\u001b[0m\n\u001b[0;32m    279\u001b[0m     \u001b[1;32mtry\u001b[0m\u001b[1;33m:\u001b[0m\u001b[1;33m\u001b[0m\u001b[1;33m\u001b[0m\u001b[0m\n\u001b[1;32m--> 280\u001b[1;33m         \u001b[1;32mreturn\u001b[0m \u001b[0mFreeTypeFont\u001b[0m\u001b[1;33m(\u001b[0m\u001b[0mfont\u001b[0m\u001b[1;33m,\u001b[0m \u001b[0msize\u001b[0m\u001b[1;33m,\u001b[0m \u001b[0mindex\u001b[0m\u001b[1;33m,\u001b[0m \u001b[0mencoding\u001b[0m\u001b[1;33m,\u001b[0m \u001b[0mlayout_engine\u001b[0m\u001b[1;33m)\u001b[0m\u001b[1;33m\u001b[0m\u001b[1;33m\u001b[0m\u001b[0m\n\u001b[0m\u001b[0;32m    281\u001b[0m     \u001b[1;32mexcept\u001b[0m \u001b[0mIOError\u001b[0m\u001b[1;33m:\u001b[0m\u001b[1;33m\u001b[0m\u001b[1;33m\u001b[0m\u001b[0m\n\u001b[0;32m    282\u001b[0m         \u001b[0mttf_filename\u001b[0m \u001b[1;33m=\u001b[0m \u001b[0mos\u001b[0m\u001b[1;33m.\u001b[0m\u001b[0mpath\u001b[0m\u001b[1;33m.\u001b[0m\u001b[0mbasename\u001b[0m\u001b[1;33m(\u001b[0m\u001b[0mfont\u001b[0m\u001b[1;33m)\u001b[0m\u001b[1;33m\u001b[0m\u001b[1;33m\u001b[0m\u001b[0m\n",
      "\u001b[1;32m~\\Anaconda3\\lib\\site-packages\\PIL\\ImageFont.py\u001b[0m in \u001b[0;36m__init__\u001b[1;34m(self, font, size, index, encoding, layout_engine)\u001b[0m\n\u001b[0;32m    143\u001b[0m         \u001b[1;32mif\u001b[0m \u001b[0misPath\u001b[0m\u001b[1;33m(\u001b[0m\u001b[0mfont\u001b[0m\u001b[1;33m)\u001b[0m\u001b[1;33m:\u001b[0m\u001b[1;33m\u001b[0m\u001b[1;33m\u001b[0m\u001b[0m\n\u001b[0;32m    144\u001b[0m             self.font = core.getfont(font, size, index, encoding,\n\u001b[1;32m--> 145\u001b[1;33m                                      layout_engine=layout_engine)\n\u001b[0m\u001b[0;32m    146\u001b[0m         \u001b[1;32melse\u001b[0m\u001b[1;33m:\u001b[0m\u001b[1;33m\u001b[0m\u001b[1;33m\u001b[0m\u001b[0m\n\u001b[0;32m    147\u001b[0m             \u001b[0mself\u001b[0m\u001b[1;33m.\u001b[0m\u001b[0mfont_bytes\u001b[0m \u001b[1;33m=\u001b[0m \u001b[0mfont\u001b[0m\u001b[1;33m.\u001b[0m\u001b[0mread\u001b[0m\u001b[1;33m(\u001b[0m\u001b[1;33m)\u001b[0m\u001b[1;33m\u001b[0m\u001b[1;33m\u001b[0m\u001b[0m\n",
      "\u001b[1;31mOSError\u001b[0m: cannot open resource"
     ]
    }
   ],
   "source": [
    "plt.imshow(wc.generate_from_frequencies(machine_new_keywords_dict))"
   ]
  },
  {
   "cell_type": "code",
   "execution_count": null,
   "metadata": {},
   "outputs": [],
   "source": [
    "shenzhen_social_news = get_keywords_of_a_ducment(news_content[4])"
   ]
  },
  {
   "cell_type": "code",
   "execution_count": null,
   "metadata": {},
   "outputs": [],
   "source": [
    "shenzhen_social_news"
   ]
  },
  {
   "cell_type": "code",
   "execution_count": 72,
   "metadata": {},
   "outputs": [],
   "source": [
    "from PIL import Image"
   ]
  },
  {
   "cell_type": "code",
   "execution_count": 73,
   "metadata": {},
   "outputs": [],
   "source": [
    "import numpy as np"
   ]
  },
  {
   "cell_type": "code",
   "execution_count": 74,
   "metadata": {
    "collapsed": true
   },
   "outputs": [
    {
     "ename": "FileNotFoundError",
     "evalue": "[Errno 2] No such file or directory: 'D:\\\\data\\\\cat.png'",
     "output_type": "error",
     "traceback": [
      "\u001b[1;31m---------------------------------------------------------------------------\u001b[0m",
      "\u001b[1;31mFileNotFoundError\u001b[0m                         Traceback (most recent call last)",
      "\u001b[1;32m<ipython-input-74-9e3da6633257>\u001b[0m in \u001b[0;36m<module>\u001b[1;34m\u001b[0m\n\u001b[1;32m----> 1\u001b[1;33m \u001b[0mpolice_mask\u001b[0m \u001b[1;33m=\u001b[0m \u001b[0mnp\u001b[0m\u001b[1;33m.\u001b[0m\u001b[0marray\u001b[0m\u001b[1;33m(\u001b[0m\u001b[0mImage\u001b[0m\u001b[1;33m.\u001b[0m\u001b[0mopen\u001b[0m\u001b[1;33m(\u001b[0m\u001b[1;34mr'D:\\data\\cat.png'\u001b[0m\u001b[1;33m)\u001b[0m\u001b[1;33m)\u001b[0m\u001b[1;33m\u001b[0m\u001b[1;33m\u001b[0m\u001b[0m\n\u001b[0m",
      "\u001b[1;32m~\\Anaconda3\\lib\\site-packages\\PIL\\Image.py\u001b[0m in \u001b[0;36mopen\u001b[1;34m(fp, mode)\u001b[0m\n\u001b[0;32m   2607\u001b[0m \u001b[1;33m\u001b[0m\u001b[0m\n\u001b[0;32m   2608\u001b[0m     \u001b[1;32mif\u001b[0m \u001b[0mfilename\u001b[0m\u001b[1;33m:\u001b[0m\u001b[1;33m\u001b[0m\u001b[1;33m\u001b[0m\u001b[0m\n\u001b[1;32m-> 2609\u001b[1;33m         \u001b[0mfp\u001b[0m \u001b[1;33m=\u001b[0m \u001b[0mbuiltins\u001b[0m\u001b[1;33m.\u001b[0m\u001b[0mopen\u001b[0m\u001b[1;33m(\u001b[0m\u001b[0mfilename\u001b[0m\u001b[1;33m,\u001b[0m \u001b[1;34m\"rb\"\u001b[0m\u001b[1;33m)\u001b[0m\u001b[1;33m\u001b[0m\u001b[1;33m\u001b[0m\u001b[0m\n\u001b[0m\u001b[0;32m   2610\u001b[0m         \u001b[0mexclusive_fp\u001b[0m \u001b[1;33m=\u001b[0m \u001b[1;32mTrue\u001b[0m\u001b[1;33m\u001b[0m\u001b[1;33m\u001b[0m\u001b[0m\n\u001b[0;32m   2611\u001b[0m \u001b[1;33m\u001b[0m\u001b[0m\n",
      "\u001b[1;31mFileNotFoundError\u001b[0m: [Errno 2] No such file or directory: 'D:\\\\data\\\\cat.png'"
     ]
    }
   ],
   "source": [
    "police_mask = np.array(Image.open(r'D:\\data\\cat.png'))"
   ]
  },
  {
   "cell_type": "code",
   "execution_count": 139,
   "metadata": {},
   "outputs": [],
   "source": [
    "wordcloud_with_mask = wordcloud.WordCloud(\n",
    "font_path='D:\\data\\SourceHanSerifSC-Regular.otf', \n",
    "mask=police_mask,\n",
    ")"
   ]
  },
  {
   "cell_type": "code",
   "execution_count": 140,
   "metadata": {},
   "outputs": [
    {
     "data": {
      "text/plain": [
       "<matplotlib.image.AxesImage at 0x26fa772b710>"
      ]
     },
     "execution_count": 140,
     "metadata": {},
     "output_type": "execute_result"
    },
    {
     "data": {
      "image/png": "[encoded data removed]",
      "text/plain": [
       "<Figure size 432x288 with 1 Axes>"
      ]
     },
     "metadata": {
      "needs_background": "light"
     },
     "output_type": "display_data"
    }
   ],
   "source": [
    "plt.imshow(wc.generate_from_frequencies({w:s for w, s in shenzhen_social_news[:20]}))"
   ]
  },
  {
   "cell_type": "code",
   "execution_count": 141,
   "metadata": {
    "scrolled": true
   },
   "outputs": [
    {
     "data": {
      "text/plain": [
       "<matplotlib.image.AxesImage at 0x26fa74a5898>"
      ]
     },
     "execution_count": 141,
     "metadata": {},
     "output_type": "execute_result"
    },
    {
     "data": {
      "image/png": "[encoded data removed]",
      "text/plain": [
       "<Figure size 432x288 with 1 Axes>"
      ]
     },
     "metadata": {
      "needs_background": "light"
     },
     "output_type": "display_data"
    }
   ],
   "source": [
    "plt.imshow(wordcloud_with_mask.generate_from_frequencies({w:s for w, s in shenzhen_social_news[:20]}))"
   ]
  },
  {
   "cell_type": "markdown",
   "metadata": {},
   "source": [
    "## TFIDF Vectorizezd"
   ]
  },
  {
   "cell_type": "code",
   "execution_count": 75,
   "metadata": {},
   "outputs": [],
   "source": [
    "from sklearn.feature_extraction.text import TfidfVectorizer"
   ]
  },
  {
   "cell_type": "markdown",
   "metadata": {},
   "source": [
    "https://www.jianshu.com/p/e2a0aea3630c"
   ]
  },
  {
   "cell_type": "code",
   "execution_count": 76,
   "metadata": {},
   "outputs": [],
   "source": [
    "vectorized = TfidfVectorizer(max_features=10000)"
   ]
  },
  {
   "cell_type": "code",
   "execution_count": 77,
   "metadata": {},
   "outputs": [
    {
     "data": {
      "text/plain": [
       "['此外   自 本周   6 月 12 日   起   除 小米 手机 6 等 15 款 机型 外   其余 机型 已 暂停 更新 发布   含 开发 版   体验版 内测   稳定版 暂不受 影响   以 确保 工程师 可以 集中 全部 精力 进行 系统优化 工作   有人 猜测 这 也 是 将 精力 主要 用到 MIUI   9 的 研发 之中   MIUI   8 去年 5 月 发布   距今已有 一年 有余   也 是 时候 更新换代 了   当然   关于 MIUI   9 的 确切 信息   我们 还是 等待 官方消息',\n",
       " '骁龙 835 作为 唯一 通过 Windows   10 桌面 平台 认证 的 ARM 处理器   高通 强调   不会 因为 只 考虑 性能 而 去 屏蔽掉 小 核心   相反   他们 正 联手 微软   找到 一种 适合 桌面 平台 的   兼顾 性能 和 功耗 的 完美 方案   报道 称   微软 已经 拿到 了 一些 新 的 源码   以便 Windows   10 更好 地 理解 big   little 架构   资料 显示   骁龙 835 作为 一款 集成 了 CPU   GPU   基带   蓝牙   Wi   Fi 的 SoC   比 传统 的 Wintel 方案 可以 节省 至少 30   的 PCB 空间   按计划   今年 Q4   华硕   惠普   联想 将 首发 骁龙 835   Win10 电脑   预计 均 是 二合一 形态 的 产品   当然   高通 骁龙 只是 个 开始   未来 也许 还 能 见到 三星 Exynos   联发科   华为 麒麟   小米 澎湃 等 进入 Windows   10 桌面 平台',\n",
       " '此前 的 一加 3T 搭载 的 是 3400mAh 电池   DashCharge 快充 规格 为 5V   4A   至于 电池 缩水   可能 与 刘作 虎 所说   一加 手机 5 要 做 市面 最 轻薄 大屏 旗舰 的 设定 有关   按照 目前 掌握 的 资料   一加 手机 5 拥有 5   5 寸 1080P 三星 AMOLED 显示屏   6G   8GB   RAM   64GB   128GB   ROM   双 1600 万 摄像头   备货 量   惊喜   根据 京东 泄露 的 信息   一加 5 起 售价 是 xx99 元   应该 是 在 2799   2899   2999 中 的 某个',\n",
       " '这是 6 月 18 日 在 葡萄牙 中部 大 佩德罗 冈 地区 拍摄 的 被 森林 大火 烧毁 的 汽车   新华社 记者 张立 云摄',\n",
       " '原 标题   44 岁 女子 跑 深圳 约会 网友 被 拒   暴雨 中 裸身 奔走   深圳 交警 微博称   昨日 清晨 交警 发现 有 一 女子 赤裸 上身   行走 在 南坪 快速 上   期间 还 起 了 轻生 年头   一辅警 发现 后 赶紧 为 其 披上 黄衣   并 一路 劝说 她   那么 事发 时   到底 都 发生 了 些 什么 呢   南 都 记者 带 您 一起 还原 现场   南 都 记者 在 龙岗 大队 坂田 中队 见到 了 辅警 刘青   发现 女生 的 辅警   一位 外表 高大 帅气   说话 略带 些 腼腆 的 90 后 青年   刘青 介绍   6 月 16 日 早上 7 时 36 分   他 正在 环城 南路 附近 值勤   接到 中队 关于 一位 女子 裸身 进入 机动车 可能 有 危险 的 警情   随后 骑着 小 铁骑 开始 沿路 寻找   大概 花 了 十多分钟 在 南坪 大道 坂田 出口 往 龙岗 方向 的 逆行 辅道 上 发现 该 女子   女子 身上 一丝不挂 地逆 车流 而行   时 走时 停   时 坐 时 躺   险象环生   刘青停 好 小 铁骑   和 另外 一名 巡防 员 追 了 上去   发现 女子 的 情绪 很 低落   话 不 多   刘青 尝试 和 女子 交流   劝说 女子 离开   可 女子 并 不 愿意 接受   继续 缓慢 地往 南坪 快速路 的 主干道 上 走 去   此时 路边 上 已经 聚集 了 很 市民 围观   为了 不 刺激 女子 的 情绪   刘青 和 巡防 员 一边 盯 着 女子 一边 驱赶 着 围观 的 群众   现场 还原   从 警方 提供 的 一份 视频 了解 到   16 日 早上 7 时 25 分   女子 出现 在 坂雪岗 大道 与 环城 南路 的 监控 视频 中   此时 女子 还 穿着 白色 的 内裤   正 沿着 坂雪岗 大道 往 南坪 快速 的 方向 缓慢 地 走 着   当时 正值 上班 高峰期   十字路口 的 车流 已经 排起 了 长队   当 女子 出现 时   路上 的 市民 纷纷 驻足 观望   不少 车辆 也 放慢 了 速度   但 女子 并 不 为 市民 观望 停下 脚步   依然 缓慢 走 着   当 女子 行进 到 十字路口 中间 时   一辆 大 货车 挡住 了 镜头   但是 当 女子 再次出现 镜头 时   可以 发现 女子 已经 没 穿 内裤 了   全身 裸露 继续 朝着 南坪 快速 方向 走 去   记者 发现   视频 中 女子 周围 并 没有 人 尾随 或者 上前 劝止 的 市民   一 大清早 路上 看到 这样 的 情况   恐怕 大家 都 没 办法 淡定   面对 这一 情况   刘青 表示   一 开始 根本 不敢 看 她   心里 挺 别扭   感觉 很 尴尬   但 当 刘青 跟随 女子 上 了 南坪 快速路 主干道 时   女子 作出 了 让 人 意想不到 的 举动   她 突然 靠近 护栏 要 从 上面 跳下去   刘青 赶忙 冲上去 拉住 了 女子 的 手   将 其 控制 住 并 远离 护栏   碍于 女子 没有 穿衣服   刘青递 上 衣服   女子 没 接受 还 把 衣服 扔 到 排水沟 里   继续 往前走   没 办法 刘青 只能 紧紧 拉 着 她 的 一只 手 跟 在 后面   刘青 一路上 耐心 地 开导 安慰 她   但 只 听到 她 不断 地 重复 着 一句 话   要是 你 也 遭遇 我 的 事   你 也 会 这样 的   期间 她 还 不时 试图 挣脱 刘青 的 手要 冲向 护栏 往下跳   就 这样   我 被 牵 着 走 了 大概 十多分钟   天 突然 下起 了 大暴雨   雨大 的 连 眼睛 都 睁不开   刘青 继续 说 着   瞬间 他们 就 被 雨 透 了   但 女子 依然 不 愿意 接受 刘青 的 帮助   就 继续 冒 着 大雨 往前走   大概 走 了 有 四十分钟 吧   女子 突然 停下 来说   我 想 回家 了   然后 女子 也 接受 了 刘青 递过来 的 小 黄衣   就 出现 了 深圳 微博上 的 照片   女子 披着 小 黄衣   刘青 小心翼翼 地 在 旁边 走 着 的 场景   从 南平 快速 下来 后   刘青 和 巡防 员 将 女子 带到 了 附近 的 坂田 派出所   那 姑娘 到底 是 遭遇 了 什么样 的 事情   才 会 说   要是 你 也 遭遇 我 的 事   你 也 会 这样   据 警方 透露   该 女子 姓 陈   系 湖北 人   今年 44 岁   据 家属 反映 其有 精神病 史   三天 前   陈某 从 老家 来 深圳 约会 网友   但 约会 受挫 导致 情绪 异常   女子 遂 产生 轻生 念头   目前   陈某 已经 被 送往 深圳 某 精神病 医院 进行 治疗   大大 君 只 希望 姑娘 能 早点 康复   其实 真爱 的 到来 并 不 存在 年龄 的 限制   你们 说 呢   因 善良 的 原因   一众 网友 纷纷 为   交警 暖 男点 ZAN   弓常 yan 桦   就 想 问 这个 小 哥哥 有 女票 吗   原谅 我 这 一辈子 浪荡 不羁 爱 萨摩耶   有 什么 过不去 的 要 轻生 嘛   想想 自己 的 家人   同时 也 感谢 交警 蜀黍   火心 聆听 心灵   点赞 交警   中華云盾   警察   警察 就是 群众 最 需时 申出 援手   Tomchlee   蜀黍 帅   SJ   李赫海 i   这个 交警 很 暖 有 木有   男子 迷奸 网友 拍 418 个 视频   女方 从 20 岁 到 50 岁 不 等   去年 6 月 7 号 上午   淮安市 涟水县 公安局 刑警大队 突然 接到 了 一个 奇怪 的 报警 电话   一名 女子 言语 不清   声称 自己 遭到 了 侵害   女子   被 侵害   言语 不清   几个 关键词 令 接到 电话 的 民警 瞬间 紧张 起来',\n",
       " '受到 A股 被 纳入 MSCI 指数 的 利好 消息 刺激   A股 市场 从 周三 开始 再度 上演 龙马 行情   周四 上午 金融股 和 白马股 表现 喜人   但是 尾盘 跳水 之后   仅 金融 板块 仍 维系 红盘 状态   分析 人士 认为   金融股 受益 于 MSCI 纳入 A股 和 低 估值 而 重获 资金 青睐   但是 存量 资金 博弈 格局 下   风格 交替 的 震荡 格局 料 延续   流动性 改善   经济 悲观 预期 修正 等 有助于 支撑 板块 继而 大盘 指数 逐步 向 好   一 九   再现   周四   A股 市场 未能 延续 周三 的 上行 态势   两市 成交 小幅 放量   29 个 中信 一级 行业 中   收盘 仅 银行 和 非银行 金融 两个 行业 指数 收红   分别 上涨 1   80   和 0   20   从 二级 行业 来看   股份制 与 城商行 的 涨幅 最高   达到 2   22   国有银行 上涨 0   82   信托 及其 他 上涨 0   64   保险 板块 上涨 0   34   证券 板块 上涨 0   06   银行 板块 25 只 成分股 中   共有 21 只 收红   其中   招商银行 涨幅 最大   上涨 6   66   贵阳 银行 上涨 3   65   上海银行   华夏银行   浦发银行 和 兴业银行 的 涨幅 均 超过 1   50   非银行 金融 板块 44 只 成分股 中   共 17 只 个股 上涨   其中   安信 信托   中国 太保 涨幅 居前 两名   分别 上涨 4   57   和 3   04   西水股份   华安 证券   中国 人寿 和 新华 保险 的 涨幅 也 均 超过 2   相对而言   券商 股多 小幅 下跌   近期   对 A股 市场 消息面 影响 最大 的 就是 MSCI 宣布 从 2018 年 6 月 开始 将 A股 纳入 MSCI 新兴 市场 指数   而 其中   金融股 是 占 比 最大 的 一个 群体   国金 证券 李立峰 团队 指出   最新 方案 中 包含 的 222 只 成分股 中   剔除 了 中等 市值   非 互联互通 可 交易 的 股票 以及 有 停牌 限制 的 标的   由于 纳入 了 很多 大 市值 A H股   A股 在 MSCI   EM 中 的 权重 由 0   5   上升 到 了 0   73   其中   金融 板块 占 比 最高   达到 40   11   泛 消费 次之   占 比 为 24   26   两个 板块 涵盖 了 大部分 权重股   动态 来看   由于 加入 了 很多 是 指 占 比高 的 金融公司   金融 板块 的 权重 增加 了 近一半   其他 大部分 行业 权重 都 受到 了 稀释   尽管 A股 被 纳入 MSCI 这一 利好 事件 对 短期 市场 情绪 有所 提振   对 中长期 海外 增量 资金 预期 升温   但 短期内   市场 量 能 尚 不能 有效 放大   金融股 独 乐乐 情景 也 就 难以 持续   存量 博弈 格局 下   风格 交替   指数 震荡 格局 难 改变   光大 证券 指出   利好 并未 引起 市场 太大 的 热情   两市 指数 和 成交量 均 较为 平淡   但 市场 风格 出现 了 较大 变化   白马股 金融股 上涨 的 同时   成长 股   题材股 全天 低迷   这 表明 市场 增量 资金 依然 很少   存量 资金 在 不同 板块 之间 腾挪   这样 的 跷跷板 格局 使得 指数 难有 突破   市场 中期 依旧 偏空   短期 依旧 可能 维持 震荡 格局',\n",
       " '虽然 至今 夏普 智能手机 在 市场 上 无法 排得 上 号   已经 完全 没落   并 于   2013   年 退出 中国 市场   但是 今年   3   月份 官方 突然 宣布 回归 中国   预示 着 很快 就 有 夏普 新机 在 中国 登场 了   那么   第一款 夏普 手机 什么 时候 登陆 中国 呢   又 会 是 怎么样 的 手机 呢   近日   一款 型号 为   FS8016   的 夏普 神秘 新机 悄然 出现 在   GeekBench   的 跑 分库 上   从 其中 相关 信息 了解 到   这 款 机子 并非 旗舰 定位   所 搭载 的 是 高通 骁龙   660   处理器   配备 有   4GB   的 内存   骁龙   660   是 高通 今年 最受 瞩目 的 芯片 之一   采用   14   纳米 工艺   八个   Kryo   260   核心 设计   集成   Adreno   512   GPU   和   X12   LTE   调制解调器   当前 市面上 只有 一款 机子 采用 了 骁龙   660   处理器   那 就是 已经 上市 销售 的   OPPO   R11   骁龙   660   尽管 并非 旗舰 芯片   但 在 多 核新能 上 比 去年 骁龙   820   强   单核 改进 也 很 明显   所以 放在 今年 仍 可以 让 很多 手机 变成 高端 机   不过   由于   OPPO   与 高通 签署 了 排他性 协议   可以 独占 两三个 月 时间   考虑 到 夏普 既然 开始 测试 新机 了   说明 只要 等 独占 时期 一 过   夏普 就 能 发布 骁龙   660   新品 了   按照 之前 被 曝光 的 渲染 图 了解   夏普 的 新机 核心 竞争 优势 还是 全面 屏   因为 从   2013   年 推出 全球 首款 全面 屏 手机   EDGEST   302SH   至今   夏普 手机 推出 了 多达   28   款 的 全面 屏 手机   在   5   月份 的 媒体 沟通 会上   惠普 罗忠生 表示   我敢 打赌   12   个 月 之后   在座 的 各位 手机 都 会 换掉   因为 全面 屏 时代 的 到来   我们 怀揣 的 手机 都 将 成为 传统 手机',\n",
       " '沙漠 雄鹰   震荡 有利 消化 套牢 筹码   周四 开盘 上证 50 在 银行 券商 大 蓝筹 带动 下 一度 涨近 2   沪 指 也 一度 站上 60 日 与 120 日 均线   但 在   黑天鹅   万达 电影 暴跌 拖累 下   沪深股市 绝大多数 时间 分道扬镳   14 点后 次新股 大幅 跳水 令 各大 指数 全线 收绿   存量 博弈 格局 难改   量 能 久 日 不见 放大 下   蓝筹 行情 并 不可 持续   短线 策略 依然 是 以 题材 为主   次新股 和 区域 经济 概念股 调整 压力 仍然 突出   成长 股 再次 大跌   但 目前 处于 底部   低位 反复 震荡 有助于 夯实 底部   目前 市场 仍属 存量 资金 博弈   短期 蓝筹股 上演 的 指数 行情 令 市场 承压   短期 利好 带动 的 蓝筹股 行情 或 将 告一段落   后期 需要 题材股 接力 来维稳 指数 走向   今日 经财 要闻   一   央行 上海 总部 发布   债券 通   北向 通 境外 投资者 准入 备案 业务 指引   二   我国 信用 法规 和 标准 研究 正在 加快 推进   三   上海 易居 房地产 研究院 发布 的   房贷利率 与 楼市 研究 报告   显示   近期 许多 城市 的 个人 住房贷款 利率 均 有 不同 程度 的 上涨   四   水污染 防治法 修正案 草案 二审   更大 力度 保护 水 环境   五   根据 中国 结算 发布 的   关于 开展 存量 一人 多户 休眠 工作 的 通知   已 启动 对 同一 投资者 开立 的 三户 以上 多开 账户 的 休眠 工作   按 中国 结算 的 文件 要求   自 6 月 23 日后 的 下 一 交易日   下周一   6 月 26 日   起   被 确认 为 休眠 账户 的   将 在 交易系统 中止 交易   六   李军   十三 五   末 上海 金融市场 交易额 或 达 2000 万亿   七   受 A股 纳入 MSCI 新兴 市场 指数   以及 中国 宏观 环境 持续 稳定 的 双重 因素 鼓舞 下   富达 国际 基金 经理 马磊 表示   预计 2017 年 下半年 中国 股市 投资者 情绪 将 有望 转好   中国 股市 未来 十年 增长 将 主要 由 创新 驱动   大盘 回顾   周四 A股 市场 出现 了 早盘 冲高   午市 后 震荡 回落   尾盘 大幅 跳水 的 走势   从 盘面 看   沪 深 300 指数 盘中 创 17 个 月 新高   但 2000 余 只 个股 下跌   市场 分化 相当 明显   至 收盘   上证指数 报 3147   45 点   较前 一 交易日 跌 8   76 点   跌幅 为 0   28   深成指 报 10265   20 点   跌 101   97 点   跌幅 为 0   98   创业板 指 表现 最 弱   报 1798   38 点   跌幅 达到 1   44   两市 个股 普跌   仅 400 余 只 交易 品种 上涨   不 计算 ST 股 和 未 股改 股   两市 涨停 个股 不足 30 只   两市 共 成交 4781 亿元   较前 一 交易日 大增 800 多亿元   数据 显示   昨日 两市 共有 主力 尽 流出 190   57 亿元   较 上 一日 的 96   95 亿元 大增 96   27   两市 61 个 行业 板块 有 57 个 遭遇 主力 抛售   虽然 券商 与 银行 板块 共有 近 13 亿元 主力 介入   但 化工行业 与 医药 制造 就 分别 遭遇 14 亿元 与 12   21 亿元 的 主力 抛售   而 持续 低迷 的 雄安 新区 的 抛售 力度 更是 高达 41   69 亿元   技术 分析   昨日 临近 收盘 的 半个 小时   沪 指 上演 高位 跳水   将 涨幅 全部 回吐   失守 60 日 均线   成交量 明显 放大   留下 长长的 上影线   尽管 跌幅 不深   但 个股 一地 鸡毛   沪 指自 3016 点 以来   大盘 每次 回调 的 相对 低点 位置 都 在 不断 抬升   所以 即使 大盘 冲高 乏力 后 出现 回落   指数 调整 的 空间 也 因 被 封住 而 难以 出现 大跌   总体 来说 市场 震荡 分化 的 格局 短期 依然 难以 打破   短线 来看   沪 指 在 盘中 攻克 60 日 均线 和 半年线 压力 之后   却 在 当日 得而复失   而 创业板 指则 连 上方 均线 压力 都 无法 触及   这样 的 走势   无疑 会 对 投资者 心理 产生 负面影响   而 在 技术 形态 上   在 60 分钟 K 线 级别 已经 形成 了 背离 雏形   一旦 沪 指 跌破 3117 点   就 意味着 背离 成型   如此 即 可能 引发 日线 级别 的 下跌   综合 分析   目前 指数 正 处在 压力 区间   市场 脆弱 的 心态   碎片 化 的 涨停板   主线 模糊   热点 凌乱   赚钱 效应 弱 等 因素 都 是 大盘 突破 的 掣肘 因素   而 昨日 的 尾盘 跳水   主要 有 以下 原因   首先   长期 的 二八 分化   导致 人气 低迷   最近 一段时间 权重股 虽然 整体 走高   但 该 板块 群众 基础 弱   弹性 小 制约 绝对 涨幅   难以 形成 大面积 的 赚钱 效应   与此同时   现在 场内 二八 轮动 非常 频繁   今天 追进 的 资金 明天 就要 吃套   打击 资金 积极性   其次   市场 反弹 到 重要 压力 区   却 仅靠 资金 拉升 指标股 来 抬升 指数   这种 没有 赚钱 效应 的 拉 抬 是 不 可能 持久 的   昨日 招商银行 一度 大涨 7   但 投资者 似乎 并 不买账   跟风盘 极少   由于 目前 A股 一直 是 存量 资金 博弈 的 市场   所以   指标股 吸引 着 资金 加码   那么   就 意味着 中小 市值 品种 面临 着 强大 的 筹码 套现 压力   另外   昨日 万达 股票 债券 莫名 齐跌   午后 复星 医药 盘中 突现   闪崩   令 市场 踩踏 事件 出现   短期 市场 受此 影响   再次 收复 上方 半年线 的 压力 大增   投资 建议   近期 权重 蓝筹 一直 强于 中小 创   但 上涨 始终 缺乏 有效 的 量 能 支持   在 存量 博弈 背景 下   后续 资金 若 无法 跟上   活跃 资金 或会 转战 中小 创   短线 投资者 在 降低 权重 配置 时   可 加大 中小 创中 盘子 小   股性 活跃 的 超跌 品种   大盘 的 纠缠 格局 依然 还 在 进行 中   权重股 虽 整体 走高   但 群众 基础 弱   弹性 小   绝对 涨幅 有所 制约   金融 板块 大涨 促使 沪 指上 摸 3180 点 压力 位 区间   但 能否 真正 有效 突破   还 需要 观察 几日   基于 周四 K 线 组合 形态 偏向 悲观   因此 投资者 当前 宜先 退出 观望   等待 股指 下方 获得 支撑 后 再 寻机 操作   热点 分析   由于 粤港澳 大湾 区 论坛 期间   腾讯 看多 人工智能   百度 也 将 于 7 月 5 日 举办   百度 AI 开发者 大会   以谷歌   亚马逊 为 代表 的 互联网 巨头 一致 看好 人工智能 未来 的 发展   产业 创新 叠加 政策 扶持   人工智能 行业 高 景气 度 有望 维持   市场 在 最近 一个月 内 出现 了 4 次长 上影线   之前 三次 都 形成 了 周线 级别 调整   加之 下周 是 月末 钱荒 效应   值得 股民 做好 应对   自 6 月初 以来   市场 始终 是 以 中小 创 为首 的 反弹 模式   个股 赚钱 效应 保持   而 随着 周三 尾盘 开始   权重股 快速 拉升   带来 了 指数 尾盘 翻红   周四 刷新 高点   但 与此同时 个股 赚钱 效应 却 有 了 明显 的 降温 的   个股 涨少 跌 多   午盘 后 个股 跳水 加剧 这一 现象 必须 要 引起 重视   玉名 认为 这 意味着 上证 50 创新 高   但 并 没有 带来 其余 个股 的 跟随   相反 还 带来 了 大部分 个股 的 跳水   而 受到 政策 红利 的 军工 板块 和 上周   王者 荣耀   引发 的 手游股 类似   都 是 出现 了   一日游   的 走势   没有 延续性 的 热点   更多地 来自 于 事件 刺激 和 超跌 反弹   市场 下周 将 进入 到 一个 比较 敏感 的 时间段   既 是 月末   季末   又 是 半年 末   容易 出现 资金 的 异动   实际上   从 美联储 加息 和 缩表 行为 来看   已经 意味着 紧缩 货币政策 的 开启   而 这 也 在 全球 央行 中 流行   金融市场 很难 再现   大水 漫灌   式 强刺激   中性 偏紧 的 政策 和 流动性 将 成为 一种   常态   从 基本面 来看   玉名 认为 中国 经济 仍 将 是   L   型筑底 走势   这是 一个 阶段   是 一段 较长 的 时间   意味着 没有 高速 增长   也 没有 增速 大幅 下滑   而是 横盘 周期   同时 以 适度 偏紧 的 政策   为 供给 侧 结构性 改革 提供 良好环境   因此   从 基本面 决定 了 股市 只能 处于 震荡 市 周期   技术 上   沪 指 运行 到 60 日 均线 附近   在 权重股 拉升 之下 有 突破 之意   不过 由于 运行 到 前期 肩部 区域   压力 还是 比较 大   这种 单纯 依托 权重股   而 忽略 个股 效应 的 模式 能够 走多远   还是 值得 担忧 的   这是 引发 资金 派发 而 形成 跳水 的 关键因素   尤其 是 个股 的 赚钱 效应 越来越 差   甚至 不 排除 一些 获利盘 和 解套 盘 选择 了 短线 的 离场   伴随 着 高位   资金 追涨 的 压力 也 在 增加   谨慎 观望 气氛 增加   导致 了 成交量 的 止步不前   玉名 认为 目前 股民 需要 对于 个股 做 一个 梳理 了   短线 反弹 较 多 的   且 近期 放量 滞涨 的   就要 有所 警惕 了   要 逐步 兑现 利润   选择 落袋 为 安   重新 等待 机会   而 对于 已经 进入 前期 阻力 区 或 密集 套牢 区 的 个股   应该 及时 考虑 减仓   毕竟 这样 的 品种 很 容易 出现 再度 的 调整   对于 前期 涨幅 不 大   或者 是 下跌 通道 已经 扭转 的 个股   可以 暂时 持有 观望   昨日 回顾   主板 终于 费尽 九牛二虎之力 爬 到 了 3180 点 附近   但是 遗憾 的 是 在 主板 尤其 是 上证 50 和 沪 深 300 不断 地 创新 高 之际   中小 创却 依然 是 忍受着 无厘头 的 煎熬   午后 市场 更是 以 全线 跳水 的 结局 收盘   那么 对于 这样 的 市场 周五 会 怎样   昨日 消息面   央行   债券 通   登记 托管 等 实施细则 会 很快 发布 实施   发改委   抓紧 制定 出台 配气 价格 监管 规则   人 社部   9 月底 前 基本 实现 跨省 异地 就医 住院费用 直接 结算   23 日 成品油 将 迎 年内 第六次 下调   降幅 或 达 270 元   吨   国防 科工 局   推进 军工企业 混改   加快 军工 资产 证券化 进程   广电总局 要求 新浪 微博 等 网站 关停 视听 节目   欧美 股指 延续 涨跌 不一 的 走势   消息 面上   外围 市场 整体 稳健   国内 信息 面则 继续 是 不死不活 的 形式   预计 市场 继续 走 整理 行情   技术 分析   技术 上 看   市场 昨日 走势 在 午后 全线 跳水   主板 创新 高后 回落   创业板 则 是 继续 在 1800 点 附近 做 整理   相比 于 主板 则 显得 较为 弱势   技术 上 看   市场 周五 将 依然 不会 有大 行情   但是 二八 转换 的 格局 将 可能 随时 出现   今日 大盘 下 档 第一 支撑位 在 3130 点   第二 支撑位 在 3100   上 档 第一 压力 位 在 3160 点   第二 压力 位 在 3180 点   今日 走势   欧美 股指 高位 整理   隔夜 信息 面 依然 没有 什么 实质性 的 利好   今天 继续 有 新股申购   在 这样 的 情况 下   预计 大盘 再度 平开 或 小幅 低开 可能性 大   整体 看 今天 指数 出现 调整 的 可能性 大   日线 继续 以小阴   小阳 或 十字星 线 为主   随时 防止 主板 可能 出现 的 回调   今日 操作   就 昨日 市场 的 走势 看   依然 是 面子 行情   更是 将 中小 创 再度 推到 了 一个 极为 尴尬 的 境地   当然 在筑底 的 过程 中 很多 的 不 确定 因素 将会 愈发 明显   因此 建议 大家 操作 继续 在 短期 寻求 涨幅 不大 的 个股 或者 是 底部 放量 的 个股   尤其 是 再 加上 业绩 稳定 的 个股 将 是 最好   逢 低 介入   操作 上 短期 建议 执行 快 进快 出 的 策略   远离 短期 涨幅 过大 的 个股   具体操作 坚持 大涨 卖   大跌 买   不涨 不 跌 选择 观望 的 策略   从 昨日 市场走势 看   又 一次 证明 了 彬 哥 之前 所 让 大家 关注 的 3180 点 主板 可能 回调 的 观点 是 正确 的   而 主板 也 确实 在 3180 点 附近 出现 了 回调   对于 这样 的 回调   彬哥 认为 是 一个 健康 的 事情   也 是 一个 必须 要 出现 的 事情   现在 唯一 不能 确定 的 就是 在 主板 回调 的 时候 中小 创会 不会 出现 企稳   会 不会 出现 让 投资者 操作 的 机会   因此 大家 今天上午 需要 至少 需要 半天 的 时间 去 观察 市场 可能 出现 的 结果   目前 行情 有 一点 可以 确定 的 就是 主板 将会 在 3180 点 附近 出现 调整   因此 大家 万 不可 在 这个 时候 再 去 追涨 主板 的 个股   尤其 是 以 保险 银行 为首 的 上证 50 个股   就 周四 午后 市场 的 走势 看   主板 的 调整 势在必行   因此 大家 要 做好 主板 调整 的 心理准备   当然 还要 做好 市场 全线 调整 的 心理 预期',\n",
       " '原 标题   武汉 警方 一下子 抓 了 808 人   还 都 是 俊男靓女   原来 他们 每天 偷偷摸摸 干 这事   武汉 警方 一下子 抓 了 808 人   还 都 是 俊男靓女   原来 他们 每天 偷偷摸摸 干 这事   大家 还 记得 今年 4 月 光谷 曾 发生 的 一件 大事 吗   当时 微博 和 朋友圈 上 都 传 疯 了   说 是 光谷 国际 广场 大量 白领 被捕   现场 手铐 都 不够 用   结果 经 记者 深入调查 后 发现   这些 被 抓 的 并 不是 网传 的   白领   而是 一个 有 282 名 涉案人员 的 诈骗 团伙   天呐   接近 300 人 的 犯罪团伙   你 以为 这个 数字 已经 够 庞大 了 吗   错   还有 让 你 更 震惊 的   据 武汉市公安局 通报   6 月 9 日   警方 在 武汉三镇 的 10 处 窝点 内   抓获 了 808 名 嫌疑人   而且 令人 大跌眼镜 的 是   他们 当中 大多 都 是 年青人   用   俊男靓女   来 形容 也 不为过   年纪 不 大   外形 不差   那么 到底 是 犯 了 什么 事 呢   其实 说 起来   这 事 估计 绝大多数 人 都 碰到 过   那 就是 网络 诈骗   涉案 电脑 800 余台   手机 2000 余部   银行卡 3000 余张   因为 涉及 的 账户 太 多   涉案 金额 目前 还 没 统计 出来   这是 全国 涉案人 数最多 的 一起 特大 网络 诈骗案   这些 惊人 的 数字 背后   究竟 藏 着 什么样 的 秘密   警方 把 他们 一锅端 了   今年 4 月   武汉 警方 获悉 在 塔子 湖 地区 有 电信 网络 诈骗 活动   经过 2 个 多月 的 秘密 侦查   发现 了 一个 特大 网络 诈骗 犯罪团伙   原来 该 团伙 利用 非法 互联网 金融 平台   实施 推荐 股票   炒 期货 等 诈骗   其 10 处 窝点 散布 在 江岸   洪山   东湖 高新   硚口   江汉 等 5 个区 的 写字楼 内   涉案人员 多达 800 余名   6 月 9 日 上午   武汉 警方 组织 了 1000 余名 警力   分成 14 个 抓捕 组   同时 对 首脑 分子 和 10 处 窝点 实施 了 突击 抓捕 行动   目前   警方 已 依法 刑事拘留 411 人   对 45 人 取保候审   该案 还 在 进一步 调查 中   他们 是 如何 进行 诈骗 的   人数 众多 的 这个 诈骗 组织 是 怎么样 进行 人员 分工   又 是 如何 一步步 引 受害人 上钩 的 呢   2015 年 以来   该 犯罪团伙 以 投资 组建 的 某 集团公司 为 总部   旗下 成立 多家 分公司   子公司   设立 人事部   财务部   行政部 等 机构 部门   分为 经理   分析师   业务 小组长   业务员 等 组织 层级   在 网上 发布 招聘 信息 招揽   培训 业务员   依托 虚构 的 互联网 金融 平台   通过 业务员 散布   有 内幕消息   等 虚假 信息   引诱 受害人 加入 专门 的 QQ 群   微信群   再 由 所谓 的   证券公司 资深 分析师   和   经理   逐个 联系 受害人   引诱 受害人 交易 股票   期货   贵金属   外汇 等 金融 产品   受害人 若 获利 则 按   五五   六四   分成   若 亏损 则 拉入   黑名单   不再 联系   网友 热评   李晓猫 不吃 鱼   在 人 信汇 写字楼 面试 过 一个 这种 工作   一听 不对劲 就 撤 了   说 不 适合 我   我 嘴巴 笨   习惯 就 好 33xxzz   八百多 人   可能 相当 部分 人 都 不大清楚 自己 到底 是 啥 性质 工作 吧   刑法 守望者   要 警惕 了   普法   各种 工作 都 要 预防 法律 风险   要 做 个 明白人   不是 什么 钱 都 可以 拿   尤其 是 从事 金融   保险   银行   财务 的 人员   不 小心 就 触犯 刑法   童颜 永 在   心理医生   盘 在 写字楼 内 的 诈骗 公司   以 高薪 招聘 业务人员 为 诱饵   实行 诈骗 的 顽疾   终于 被 揣 掉 了   你 的 渔船   联系 一下 自己 的 朋友   看 有 多少 个 被 抓 了   The   former   degrees   招聘 平台 和 销售 会上 百分之八十 就是 这种 工作   从 源头 抓起   防止 更多人 受伤   宇宇家 的 小 仙女   恐怖   进 了 一个 星期 发现 不太 对劲   这 尼玛 是 让 我 骗人 啊   赶紧 自己 跑 路 了   z _ 路 漫漫   我 做 过   后来 听说 公司 跑 路 了   睡 不 饱 怎么办 啊 小铭大   我 都 面试 过 这种 工作   还 培训 了 几天   话术 一看 就 的 套路 骗   果断 闪 人   这种 公司 太多 了   遗忘 的 金 叶子   碰到 这样 的 骗子 找 我们 做 视频   最后 被 我 打电话 骂 了 一顿   a 一元复始 c   还有 那些 天天 电话 骚扰 别人 信贷 的   卖房 的   卖 邮票 的   发票 的 社会 生活 中 一不留神 就 会 被 坑   所以 活着 需要 理智   笑 看 世间 丑 2448337651   这 是 在 路上 发骗 广告 搞 高利贷 的 那些 互联网 金融公司 吗   未来 温暖 的 时光 属于 自己   金融 港   街道口 都 是 这些   好多 同学 刚刚 毕业 都 去 做 过   都 是 网上 投 简历   这些 公司 就 猛 联系 你   其实 好多 都 不 知道 这是 骗人 的 吧   有 强迫症 的 天蝎座 怪 咖   吓 到 我 了   冉冉 的 彗星 是 个 宝   早上 还 接到 说 做 期货   霖心 金鱼 And 张蒙   都 不敢 去 找 工作 了   蒋 妈妈 1   5   刚回到 武汉   准备 找份 工作   看 网上 好多 这种 招聘 的   感觉 像 骗人 的   都 不 看 的   看 了 网友 的 评论   小编 只有 一个 感觉   找 工作 时 一定 要 擦亮 双眼   不要 因为 一时 疏忽   而 给 自己 的 生活 抹 上 污点   俗话说   知己知彼 百战不殆   弄清 网络 诈骗 的 常见 手法   才能 避免 上当受骗   下面 就 为 大家 奉上 防骗 攻略   遇到 诈骗 只 需 见招拆招   网络 防骗 攻略   电信 网络 诈骗 犯罪 往往 表现 为   六大 陷阱   1   物美价廉 的 网购 陷阱   2   推销产品 的 便利 陷阱   3   异性 交友 的 情感 陷阱   4   中奖 信息 的 惊喜 陷阱   5   冒充 国家 工作人员 的 恐吓 陷阱   6   钓鱼 网站 和 网上银行 的 迷惑 陷阱   下面 是 网络 诈骗 中 比较 常见 的 几种 类型   一起 学习 如何 防范   让 骗子 无处 遁形   1 虚假 红包 诈骗   临近 节日 时   各大 电商 平台 会以 派 发红包 的 形式   为 促销 活动 预热   有 不法分子 趁机 在 微信 朋友圈   微信 群 等 平台 中   派发 虚假 红包   诱骗 大家 点击   套取 个人信息   或 传播 木马病毒   盗取 银行账号   识骗 方法   慎点 此类 红包 领取 链接   如果 不 小心 点击   应 第一 时间 关闭 手机 网络   修改 网银   支付宝 等 重要 账户 密码   并 通过 安全软件 查杀 木马病毒   2 二维码 诈骗   抢购 高峰期   网页 打开 慢   网银 交易 出现 比较 迟钝 现象   有 不法分子 会 冒充 客服 或 店主   以 单子 出现   调单   卡单   等 说法 为 幌子   故意 说 没有 收到 款项 欺诈 消费者   取得 信任 后 要求 消费者 以 其他 办法 进行 转账   识骗 方法   消费者 要 注意   调单   卡单   激活 订单 等 多 为 诈骗 术语   见 此类 词语 基本 可以 断定 对方 是 骗子   没有 收到 款项 这样 的 问题   是 不会 在 东京   天猫 这样 的 大型 网络 购物 平台 出现 的   3 钓鱼 网站 诈骗   节假日 期间   公众 的 购物 热情高涨   假冒 正规 电商 官方网站   在线 支付 平台 等 的 钓鱼 网站 活动 频繁   消费者 在 忙于 浏览 各色 商品 页面 时   往往 容易 忽略 链接 的 安全性   从而 误入 诈骗 分子 发来 的 虚假 钓鱼 网站   识骗 方法   对 陌生人 发来 的 商品 链接 要 提高警惕   谨慎 打开   如遇 网络 诈骗 应 第一 时间 向 属地 公安机关 报案   并 向 举报中心 举报   4 虚假 客服 诈骗   抢购 高峰期   网页 打开 慢   网银 交易 出现 比较 迟钝 现象   有 不法分子 会 冒充 客服 或 店主   以 单子 出现   调单   卡单   等 说法 为 幌子   故意 说 没有 收到 款项 欺诈 消费者   取得 信任 后 要求 消费者 以 其他 办法 进行 转账   识骗 方法   消费者 要 注意   调单   卡单   激活 订单 等 多 为 诈骗 术语   见 此类 词语 基本 可以 断定 对方 是 骗子   没有 收到 款项 这样 的 问题   是 不会 在 东京   天猫 这样 的 大型 网络 购物 平台 出现 的   5 预购 诈骗   还有 不法分子 会以   提前 购   预售   为 诱饵 向 用户 发送 木马 链接   除了 网购 链接 被 植入 木马   钓鱼 网站   还有 不法分子 会 在   预售   活动 上 做文章   骗取 买家   定金   识骗 方法   慎点 不明 链接   有关 购物 短信 也 不要 轻信   同时 也 请 给 手机 装 上 杀毒软件   提供 安全 的 上网 环境   6 中奖 诈骗   购物 过后   很多 人会 陆陆续续 收到 一些 商家 的 中奖 信息   切记 不要 随意 拨打 中奖 信息 提供 的 电话号码 或 点击 发来 的 网站 链接 地址   很 可能 会 让 手机 或 电脑 感染 上 木马病毒   识骗 方法   收到 中奖 信息 后 留心 一下   看一看 你 所 购买 的 产品 中 有没有 这家 的 产品   然后 最好 能 在 天猫 店里 直接 和 卖家 联系 确认 消息   7 朋友圈 诈骗   由于 缺少 第三方 监管 平台   不法分子 会 在 朋友圈 发布 虚假 低价 购物 信息   骗取 消费者 汇款 购买   识骗 方法   朋友 圈里 的 销售 行为   存在 取证难   查处 难 的 问题   因此 建议 大家 在 朋友圈 买 东西 时   尽可能 选择 正规 第三方 支付 平台 进行 支付   避免 直接 支付   以 确保安全   8 快递 诈骗   不法分子 会 从 非法 渠道 获得 客户 信息   制作 假 的 快递 单   随后 冒充 快递 员 提前 联系 受骗者   把 虚假 货品 送到 消费者 手中   骗取钱财   识骗 方法   签收 包裹 前   务必 按 官方 的 信息 核实 对方 身份   并 确认 是否是 自己 的 包裹   在 取货 之后   一定 记得 把 自己 的 个人信息 从 包裹 上 完全 抹 去   避免 个人信息 泄露   9 退款 诈骗   不法分子 常 以   退款   或   退货   为 由 假扮 网店 客服   要求 消费者 点击 其 提供 的   钓鱼 网站   链接   盗取 持卡人 的 银行 密码 及 动态 验证码   识骗 方法   如果 接到 网上 购物 退款 的 电话 或 短信 等 信息   一定 要 谨慎 对待   切莫 泄露 银行卡 账号   户名   动态 验证码 等 个人信息   同时   提醒 大家   保护 好 自己 账户 信息   遇到 情况 一定 及时 报警   武汉 破 特大 网络 诈骗案 抓 808 人   以   内幕消息   骗人   6 月 12 日   武汉市公安局 向 澎湃 新闻 通报   该局 破获 一起 特大 网络 诈骗案   抓获 包括 卢某   熊某 等 8 名 首脑 分子 在内 的 涉案人员 808 名   查扣 涉案 电脑 800 余台   手机 2000 余部   银行卡 3000 余张   据悉   这是 全国 打击 利用 非法 互联网 金融 平台 实施 诈骗 犯罪 中   查获 涉案人 数最多 的 一起 案件',\n",
       " '6 月 21 日   A股 纳入 MSCI 指数 尘埃落定   但 当天 被 寄予厚望 的 券商 股 并未 扛起 反弹 大旗   22 日   在 222 只 纳入 MSCI 指数 的 A股 股票 中   银行 股 全线 飘红   其中 招商银行 领涨   涨幅 达 6   66   保险 股 和 券商 股 的 表现 也 可圈可点   在 这 222 只 股票 中   金融 板块 的 股票 数量 和 总 市值 占 比均 位居 首位   分析 人士 指出   银行 股 股息 率高   估值 低   收益 稳定   对于 资金量 较大   投资 期限 较长 的 资金 存在 相当 大 的 吸引力   从 国际 经验 来看   纳入 MSCI 指数 后   相关 股市 的 投资者 风格 将 更加 稳健   更加 偏好 业绩 稳定   流动性 好   风险 低 的 优质 蓝筹股   银行 股具 估值 优势   6 月 22 日   A股 金融股 表现 强势   板块 涨幅 达 1   19   据 平安 证券 统计   在 222 只 纳入 MSCI 指数 的 A股 股票 中   金融 板块 市值 占 比达 41   32   其中 银行   证券 和 保险 子 板块 的 市值 占 比 分别 为 27   30   7   75   和 6   24   多家 券商 研究 报告 认为   银行 等 金融股 受到 纳入 MSCI 指数 的 提振   未来 更 多 境外 资金 将 进入 金融股   华泰 证券 表示   在 纳入 MSCI 指数 之后   A股 将 迎来 约 850 亿元 人民币 的 增量 资金   其中   考虑 到 222 只 股票 中   金融股 市值 占 比约 42   并且 金融股 体量 大   流动性 强   估值 低   符合 境外 资金 偏好   有望 迎来 超过 权重 的 资金 比例   预计 金融股 有望 吸引 增量 资金 约 350 亿元 人民币   新富 资本 证券 投资 中心 研究 总监 廖 云龙 认为   银行 股 脱颖而出 的 主要 原因 是 低 估值   市场 预期 银行 股 基本面 改善   同时 市场 整体 风格 偏 保守   偏爱 低 估值   22 日 银行 股 的 大涨 是 市场 风格 的 延续   是 投资者 对 龙头股 和 对 低 估值 的 防御性 选择   东方 财富 choice 统计 的 一季度 末 QFII 重仓股 数据 显示   银行 股是 QFII 关注 的 重点 之一   在 前 五十 大 重仓股 中   北京 银行   南京 银行   宁波 银行   上海银行 榜上有名']"
      ]
     },
     "execution_count": 77,
     "metadata": {},
     "output_type": "execute_result"
    }
   ],
   "source": [
    "news_content[:10]"
   ]
  },
  {
   "cell_type": "code",
   "execution_count": 78,
   "metadata": {},
   "outputs": [],
   "source": [
    "sample_num = 50000\n",
    "sub_samples = news_content[:sample_num]"
   ]
  },
  {
   "cell_type": "code",
   "execution_count": 79,
   "metadata": {},
   "outputs": [],
   "source": [
    "X = vectorized.fit_transform(sub_samples)"
   ]
  },
  {
   "cell_type": "code",
   "execution_count": 80,
   "metadata": {},
   "outputs": [
    {
     "data": {
      "text/plain": [
       "(50000, 10000)"
      ]
     },
     "execution_count": 80,
     "metadata": {},
     "output_type": "execute_result"
    }
   ],
   "source": [
    "X.shape"
   ]
  },
  {
   "cell_type": "code",
   "execution_count": 81,
   "metadata": {},
   "outputs": [
    {
     "data": {
      "text/plain": [
       "{'此外': 6195,\n",
       " '本周': 5892,\n",
       " '12': 35,\n",
       " '小米': 3974,\n",
       " '手机': 4878,\n",
       " '15': 46,\n",
       " '其余': 1844,\n",
       " '暂停': 5738,\n",
       " '更新': 5760,\n",
       " '发布': 2635,\n",
       " '开发': 4405,\n",
       " '影响': 4525,\n",
       " '确保': 7338,\n",
       " '工程师': 4132,\n",
       " '可以': 2734,\n",
       " '集中': 9631,\n",
       " '全部': 1743,\n",
       " '精力': 7662,\n",
       " '进行': 9141,\n",
       " '工作': 4113,\n",
       " '有人': 5808,\n",
       " '猜测': 6880,\n",
       " '主要': 912,\n",
       " '研发': 7319,\n",
       " '之中': 933,\n",
       " '去年': 2558,\n",
       " '一年': 302,\n",
       " '时候': 5628,\n",
       " '当然': 4505,\n",
       " '关于': 1819,\n",
       " '信息': 1546,\n",
       " '我们': 4802,\n",
       " '还是': 9082,\n",
       " '等待': 7607,\n",
       " '作为': 1440,\n",
       " '唯一': 2966,\n",
       " '通过': 9249,\n",
       " '10': 12,\n",
       " '平台': 4255,\n",
       " '认证': 8554,\n",
       " '处理器': 3331,\n",
       " '强调': 4481,\n",
       " '不会': 551,\n",
       " '因为': 3045,\n",
       " '考虑': 7980,\n",
       " '性能': 4642,\n",
       " '核心': 6069,\n",
       " '相反': 7212,\n",
       " '他们': 1242,\n",
       " '联手': 8020,\n",
       " '微软': 4579,\n",
       " '找到': 4949,\n",
       " '一种': 344,\n",
       " '适合': 9193,\n",
       " '兼顾': 1864,\n",
       " '完美': 3783,\n",
       " '方案': 5537,\n",
       " '报道': 5026,\n",
       " '已经': 4156,\n",
       " '拿到': 5092,\n",
       " '一些': 253,\n",
       " '以便': 1259,\n",
       " '更好': 5757,\n",
       " '理解': 6966,\n",
       " '架构': 6022,\n",
       " '资料': 8791,\n",
       " '显示': 5703,\n",
       " '一款': 332,\n",
       " '集成': 9638,\n",
       " '传统': 1355,\n",
       " '节省': 8201,\n",
       " '至少': 8132,\n",
       " '30': 103,\n",
       " '空间': 7498,\n",
       " '按计划': 5124,\n",
       " '今年': 1217,\n",
       " '联想': 8019,\n",
       " '首发': 9825,\n",
       " '电脑': 7067,\n",
       " '预计': 9745,\n",
       " '形态': 4513,\n",
       " '产品': 1135,\n",
       " '只是': 2728,\n",
       " '开始': 4412,\n",
       " '未来': 5886,\n",
       " '也许': 982,\n",
       " '见到': 8475,\n",
       " '三星': 443,\n",
       " '华为': 2417,\n",
       " '澎湃': 6699,\n",
       " '进入': 9123,\n",
       " '此前': 6193,\n",
       " '搭载': 5252,\n",
       " '电池': 7063,\n",
       " '规格': 8495,\n",
       " '至于': 8129,\n",
       " '可能': 2741,\n",
       " '所说': 4870,\n",
       " '设定': 8585,\n",
       " '有关': 5810,\n",
       " '按照': 5122,\n",
       " '目前': 7188,\n",
       " '掌握': 5160,\n",
       " '拥有': 5083,\n",
       " '摄像头': 5256,\n",
       " '惊喜': 4717,\n",
       " '根据': 6078,\n",
       " '京东': 1144,\n",
       " '泄露': 6406,\n",
       " '售价': 2964,\n",
       " '应该': 4344,\n",
       " '某个': 6025,\n",
       " '这是': 9105,\n",
       " '18': 53,\n",
       " '葡萄牙': 8322,\n",
       " '中部': 858,\n",
       " '地区': 3168,\n",
       " '拍摄': 5064,\n",
       " '森林': 6119,\n",
       " '大火': 3485,\n",
       " '汽车': 6355,\n",
       " '新华社': 5489,\n",
       " '记者': 8569,\n",
       " '标题': 6055,\n",
       " '44': 125,\n",
       " '女子': 3625,\n",
       " '深圳': 6576,\n",
       " '网友': 7888,\n",
       " '暴雨': 5748,\n",
       " '交警': 1120,\n",
       " '昨日': 5694,\n",
       " '清晨': 6604,\n",
       " '发现': 2647,\n",
       " '行走': 8392,\n",
       " '快速': 4622,\n",
       " '期间': 5881,\n",
       " '赶紧': 8852,\n",
       " '一路': 365,\n",
       " '那么': 9299,\n",
       " '事发': 1024,\n",
       " '到底': 2154,\n",
       " '发生': 2649,\n",
       " '什么': 1208,\n",
       " '一起': 364,\n",
       " '还原': 9081,\n",
       " '现场': 6927,\n",
       " '大队': 3517,\n",
       " '中队': 863,\n",
       " '女生': 3631,\n",
       " '一位': 259,\n",
       " '高大': 9919,\n",
       " '说话': 8668,\n",
       " '90': 184,\n",
       " '青年': 9672,\n",
       " '介绍': 1224,\n",
       " '16': 49,\n",
       " '早上': 5617,\n",
       " '36': 113,\n",
       " '正在': 6180,\n",
       " '附近': 9550,\n",
       " '接到': 5177,\n",
       " '机动车': 5928,\n",
       " '危险': 2511,\n",
       " '随后': 9602,\n",
       " '寻找': 3932,\n",
       " '大概': 3476,\n",
       " '大道': 3511,\n",
       " '出口': 1998,\n",
       " '方向': 5535,\n",
       " '身上': 8929,\n",
       " '另外': 2722,\n",
       " '一名': 276,\n",
       " '情绪': 4714,\n",
       " '尝试': 3996,\n",
       " '交流': 1115,\n",
       " '离开': 7403,\n",
       " '愿意': 4764,\n",
       " '接受': 5179,\n",
       " '继续': 7832,\n",
       " '缓慢': 7862,\n",
       " '此时': 6197,\n",
       " '路边': 8918,\n",
       " '聚集': 8034,\n",
       " '市民': 4192,\n",
       " '围观': 3065,\n",
       " '为了': 874,\n",
       " '刺激': 2179,\n",
       " '一边': 370,\n",
       " '群众': 7950,\n",
       " '警方': 8538,\n",
       " '提供': 5215,\n",
       " '一份': 257,\n",
       " '视频': 8509,\n",
       " '了解': 1007,\n",
       " '25': 95,\n",
       " '出现': 2021,\n",
       " '监控': 7165,\n",
       " '穿着': 7502,\n",
       " '白色': 7140,\n",
       " '沿着': 6403,\n",
       " '当时': 4502,\n",
       " '正值': 6179,\n",
       " '上班': 495,\n",
       " '高峰期': 9927,\n",
       " '路上': 8911,\n",
       " '纷纷': 7737,\n",
       " '驻足': 9885,\n",
       " '观望': 8485,\n",
       " '不少': 576,\n",
       " '车辆': 8955,\n",
       " '速度': 9253,\n",
       " '脚步': 8077,\n",
       " '依然': 1483,\n",
       " '行进': 8393,\n",
       " '中间': 861,\n",
       " '一辆': 368,\n",
       " '货车': 8755,\n",
       " '镜头': 9454,\n",
       " '但是': 1379,\n",
       " '全身': 1740,\n",
       " '朝着': 5865,\n",
       " '周围': 2907,\n",
       " '没有': 6373,\n",
       " '或者': 4811,\n",
       " '上前': 462,\n",
       " '看到': 7244,\n",
       " '这样': 9107,\n",
       " '情况': 4708,\n",
       " '恐怕': 4678,\n",
       " '大家': 3459,\n",
       " '办法': 2232,\n",
       " '面对': 9693,\n",
       " '这一': 9085,\n",
       " '表示': 8421,\n",
       " '根本': 6079,\n",
       " '不敢': 588,\n",
       " '心里': 4603,\n",
       " '感觉': 4760,\n",
       " '尴尬': 4014,\n",
       " '跟随': 8905,\n",
       " '作出': 1441,\n",
       " '举动': 919,\n",
       " '突然': 7511,\n",
       " '靠近': 9687,\n",
       " '上面': 510,\n",
       " '控制': 5190,\n",
       " '远离': 9146,\n",
       " '衣服': 8404,\n",
       " '只能': 2730,\n",
       " '紧紧': 7691,\n",
       " '一只': 272,\n",
       " '后面': 2867,\n",
       " '耐心': 7989,\n",
       " '安慰': 3766,\n",
       " '听到': 2879,\n",
       " '不断': 589,\n",
       " '重复': 9364,\n",
       " '一句': 271,\n",
       " '要是': 8468,\n",
       " '遭遇': 9288,\n",
       " '不时': 593,\n",
       " '试图': 8626,\n",
       " '大暴雨': 3472,\n",
       " '眼睛': 7270,\n",
       " '瞬间': 7288,\n",
       " '帮助': 4224,\n",
       " '大雨': 3519,\n",
       " '来说': 5995,\n",
       " '回家': 3029,\n",
       " '然后': 6774,\n",
       " '照片': 6781,\n",
       " '旁边': 5546,\n",
       " '场景': 3196,\n",
       " '下来': 525,\n",
       " '带到': 4212,\n",
       " '派出所': 6470,\n",
       " '姑娘': 3669,\n",
       " '什么样': 1209,\n",
       " '事情': 1029,\n",
       " '透露': 9219,\n",
       " '湖北': 6645,\n",
       " '家属': 3883,\n",
       " '反映': 2615,\n",
       " '三天': 437,\n",
       " '陈某': 9557,\n",
       " '老家': 7963,\n",
       " '导致': 3939,\n",
       " '异常': 4441,\n",
       " '产生': 1139,\n",
       " '送往': 9191,\n",
       " '医院': 2382,\n",
       " '治疗': 6400,\n",
       " '大大': 3452,\n",
       " '希望': 4207,\n",
       " '康复': 4363,\n",
       " '其实': 1846,\n",
       " '到来': 2156,\n",
       " '存在': 3707,\n",
       " '年龄': 4296,\n",
       " '限制': 9577,\n",
       " '你们': 1451,\n",
       " '原因': 2542,\n",
       " '这个': 9086,\n",
       " '哥哥': 2953,\n",
       " '一辈子': 369,\n",
       " '自己': 8099,\n",
       " '家人': 3878,\n",
       " '同时': 2831,\n",
       " '感谢': 4761,\n",
       " '聆听': 7996,\n",
       " '心灵': 4598,\n",
       " '点赞': 6745,\n",
       " '警察': 8534,\n",
       " '就是': 4005,\n",
       " '男子': 7080,\n",
       " '20': 64,\n",
       " '50': 132,\n",
       " '上午': 464,\n",
       " '公安局': 1771,\n",
       " '一个': 247,\n",
       " '报警': 5025,\n",
       " '电话': 7072,\n",
       " '声称': 3321,\n",
       " '遭到': 9286,\n",
       " '侵害': 1492,\n",
       " '几个': 1975,\n",
       " '关键词': 1834,\n",
       " '民警': 6287,\n",
       " '紧张': 7688,\n",
       " '起来': 8855,\n",
       " '受到': 2677,\n",
       " 'a股': 198,\n",
       " '纳入': 7730,\n",
       " 'msci': 219,\n",
       " '指数': 5115,\n",
       " '利好': 2136,\n",
       " '消息': 6544,\n",
       " '市场': 4178,\n",
       " '周三': 2901,\n",
       " '再度': 1884,\n",
       " '上演': 494,\n",
       " '行情': 8383,\n",
       " '周四': 2906,\n",
       " '金融股': 9409,\n",
       " '白马股': 7143,\n",
       " '表现': 8420,\n",
       " '尾盘': 4030,\n",
       " '跳水': 8922,\n",
       " '之后': 940,\n",
       " '金融': 9400,\n",
       " '板块': 6001,\n",
       " '状态': 6865,\n",
       " '分析': 2060,\n",
       " '人士': 1172,\n",
       " '认为': 8548,\n",
       " '受益': 2685,\n",
       " '估值': 1374,\n",
       " '资金': 8803,\n",
       " '青睐': 9679,\n",
       " '存量': 3711,\n",
       " '博弈': 2476,\n",
       " '格局': 6082,\n",
       " '风格': 9784,\n",
       " '震荡': 9662,\n",
       " '延续': 4373,\n",
       " '流动性': 6477,\n",
       " '改善': 5333,\n",
       " '经济': 7779,\n",
       " '预期': 9738,\n",
       " '有助于': 5814,\n",
       " '支撑': 5301,\n",
       " '大盘': 3490,\n",
       " '逐步': 9222,\n",
       " '再现': 1887,\n",
       " '未能': 5889,\n",
       " '上行': 501,\n",
       " '态势': 4629,\n",
       " '两市': 710,\n",
       " '成交': 4777,\n",
       " '小幅': 3964,\n",
       " '放量': 5367,\n",
       " '29': 102,\n",
       " '中信': 757,\n",
       " '一级': 352,\n",
       " '行业': 8375,\n",
       " '收盘': 5320,\n",
       " '银行': 9434,\n",
       " '两个': 688,\n",
       " '分别': 2045,\n",
       " '上涨': 490,\n",
       " '80': 171,\n",
       " '二级': 1048,\n",
       " '来看': 5991,\n",
       " '股份制': 8046,\n",
       " '涨幅': 6563,\n",
       " '最高': 5797,\n",
       " '达到': 9021,\n",
       " '22': 91,\n",
       " '82': 175,\n",
       " '信托': 1552,\n",
       " '及其': 2586,\n",
       " '64': 152,\n",
       " '保险': 1536,\n",
       " '34': 109,\n",
       " '证券': 8598,\n",
       " '06': 8,\n",
       " '成分股': 4783,\n",
       " '共有': 1814,\n",
       " '21': 90,\n",
       " '其中': 1841,\n",
       " '最大': 5785,\n",
       " '66': 154,\n",
       " '贵阳': 8783,\n",
       " '65': 153,\n",
       " '超过': 8873,\n",
       " '17': 51,\n",
       " '个股': 749,\n",
       " '中国': 771,\n",
       " '居前': 4042,\n",
       " '两名': 696,\n",
       " '57': 141,\n",
       " '04': 6,\n",
       " '新华': 5488,\n",
       " '券商': 2178,\n",
       " '下跌': 537,\n",
       " '近期': 9073,\n",
       " '宣布': 3868,\n",
       " '2018': 84,\n",
       " '新兴': 5483,\n",
       " '群体': 7951,\n",
       " '团队': 3055,\n",
       " '指出': 5104,\n",
       " '最新': 5790,\n",
       " '包含': 2322,\n",
       " '222': 92,\n",
       " '市值': 4175,\n",
       " '互联互通': 1065,\n",
       " '交易': 1106,\n",
       " '股票': 8051,\n",
       " '以及': 1264,\n",
       " '停牌': 1611,\n",
       " '标的': 6051,\n",
       " '由于': 7033,\n",
       " '很多': 4546,\n",
       " '权重': 5947,\n",
       " '上升': 463,\n",
       " '73': 163,\n",
       " '40': 119,\n",
       " '11': 24,\n",
       " '消费': 6547,\n",
       " '24': 94,\n",
       " '26': 98,\n",
       " '涵盖': 6564,\n",
       " '大部分': 3513,\n",
       " '动态': 2278,\n",
       " '加入': 2243,\n",
       " '增加': 3294,\n",
       " '其他': 1842,\n",
       " '尽管': 4028,\n",
       " '事件': 1018,\n",
       " '短期': 7300,\n",
       " '有所': 5820,\n",
       " '提振': 5224,\n",
       " '中长期': 860,\n",
       " '海外': 6515,\n",
       " '增量': 3308,\n",
       " '升温': 2402,\n",
       " '短期内': 7301,\n",
       " '不能': 606,\n",
       " '有效': 5821,\n",
       " '放大': 5356,\n",
       " '情景': 4713,\n",
       " '难以': 9617,\n",
       " '持续': 5097,\n",
       " '改变': 5332,\n",
       " '并未': 4302,\n",
       " '引起': 4448,\n",
       " '热情': 6755,\n",
       " '成交量': 4778,\n",
       " '较为': 8992,\n",
       " '较大': 8994,\n",
       " '变化': 2693,\n",
       " '成长': 4800,\n",
       " '全天': 1722,\n",
       " '低迷': 1391,\n",
       " '表明': 8417,\n",
       " '很少': 4549,\n",
       " '不同': 567,\n",
       " '之间': 955,\n",
       " '使得': 1457,\n",
       " '突破': 7512,\n",
       " '中期': 831,\n",
       " '依旧': 1479,\n",
       " '维持': 7840,\n",
       " '虽然': 8354,\n",
       " '至今': 8130,\n",
       " '夏普': 3351,\n",
       " '智能手机': 5737,\n",
       " '无法': 5568,\n",
       " '完全': 3776,\n",
       " '2013': 79,\n",
       " '退出': 9186,\n",
       " '月份': 5800,\n",
       " '官方': 3791,\n",
       " '回归': 3031,\n",
       " '预示': 9741,\n",
       " '很快': 4551,\n",
       " '登场': 7127,\n",
       " '登陆': 7132,\n",
       " '怎么样': 4633,\n",
       " '近日': 9072,\n",
       " '型号': 3221,\n",
       " '神秘': 7378,\n",
       " '悄然': 4695,\n",
       " '相关': 7211,\n",
       " '并非': 4305,\n",
       " '定位': 3798,\n",
       " '配备': 9333,\n",
       " '最受': 5782,\n",
       " '芯片': 8212,\n",
       " '之一': 930,\n",
       " '采用': 9343,\n",
       " '14': 43,\n",
       " '工艺': 4135,\n",
       " '设计': 8591,\n",
       " '当前': 4492,\n",
       " '只有': 2729,\n",
       " '上市': 474,\n",
       " '销售': 9440,\n",
       " '改进': 5340,\n",
       " '明显': 5665,\n",
       " '所以': 4859,\n",
       " '放在': 5355,\n",
       " '变成': 2697,\n",
       " '高端': 9945,\n",
       " '不过': 615,\n",
       " '签署': 7621,\n",
       " '协议': 2434,\n",
       " '时间': 5649,\n",
       " '既然': 5582,\n",
       " '测试': 6490,\n",
       " '说明': 8666,\n",
       " '只要': 2731,\n",
       " '时期': 5636,\n",
       " '新品': 5494,\n",
       " '之前': 938,\n",
       " '曝光': 5750,\n",
       " '竞争': 7528,\n",
       " '优势': 1316,\n",
       " '全面': 1746,\n",
       " '推出': 5197,\n",
       " '全球': 1732,\n",
       " '多达': 3421,\n",
       " '28': 101,\n",
       " '媒体': 3694,\n",
       " '沟通': 6369,\n",
       " '会上': 1330,\n",
       " '各位': 2777,\n",
       " '时代': 5626,\n",
       " '成为': 4776,\n",
       " '沙漠': 6365,\n",
       " '有利': 5811,\n",
       " '消化': 6542,\n",
       " '开盘': 4428,\n",
       " '上证': 502,\n",
       " '蓝筹': 8339,\n",
       " '带动': 4213,\n",
       " '一度': 304,\n",
       " '站上': 7526,\n",
       " '60': 145,\n",
       " '120': 36,\n",
       " '均线': 3201,\n",
       " '万达': 420,\n",
       " '电影': 7059,\n",
       " '暴跌': 5747,\n",
       " '拖累': 5070,\n",
       " '绝大多数': 7820,\n",
       " '大幅': 3467,\n",
       " '各大': 2781,\n",
       " '全线': 1737,\n",
       " '不见': 611,\n",
       " '不可': 564,\n",
       " '短线': 7304,\n",
       " '策略': 7612,\n",
       " '题材': 9771,\n",
       " '为主': 873,\n",
       " '区域': 2365,\n",
       " '概念股': 6130,\n",
       " '调整': 8685,\n",
       " '压力': 2531,\n",
       " '仍然': 1225,\n",
       " '突出': 7506,\n",
       " '再次': 1886,\n",
       " '大跌': 3507,\n",
       " '处于': 3323,\n",
       " '底部': 4348,\n",
       " '低位': 1386,\n",
       " '反复': 2606,\n",
       " '夯实': 3563,\n",
       " '蓝筹股': 8340,\n",
       " '承压': 4953,\n",
       " '后期': 2862,\n",
       " '需要': 9658,\n",
       " '接力': 5178,\n",
       " '走向': 8835,\n",
       " '今日': 1221,\n",
       " '要闻': 8471,\n",
       " '央行': 3561,\n",
       " '上海': 486,\n",
       " '总部': 4671,\n",
       " '债券': 1582,\n",
       " '北向': 2345,\n",
       " '境外': 3287,\n",
       " '投资者': 4994,\n",
       " '准入': 1957,\n",
       " '备案': 3339,\n",
       " '业务': 661,\n",
       " '指引': 5110,\n",
       " '我国': 4804,\n",
       " '信用': 1553,\n",
       " '法规': 6428,\n",
       " '标准': 6042,\n",
       " '研究': 7320,\n",
       " '加快': 2252,\n",
       " '推进': 5207,\n",
       " '房地产': 4851,\n",
       " '研究院': 7326,\n",
       " '房贷利率': 4856,\n",
       " '楼市': 6126,\n",
       " '报告': 5018,\n",
       " '许多': 8578,\n",
       " '城市': 3231,\n",
       " '个人': 739,\n",
       " '住房贷款': 1395,\n",
       " '利率': 2143,\n",
       " '程度': 7468,\n",
       " '水污染': 6316,\n",
       " '修正案': 1562,\n",
       " '草案': 8260,\n",
       " '二审': 1038,\n",
       " '更大': 5756,\n",
       " '力度': 2222,\n",
       " '保护': 1524,\n",
       " '环境': 6909,\n",
       " '结算': 7813,\n",
       " '开展': 4415,\n",
       " '一人': 254,\n",
       " '多户': 3404,\n",
       " '通知': 9238,\n",
       " '启动': 2883,\n",
       " '同一': 2821,\n",
       " '以上': 1256,\n",
       " '账户': 8749,\n",
       " '文件': 5442,\n",
       " '要求': 8469,\n",
       " '23': 93,\n",
       " '日后': 5589,\n",
       " '交易日': 1111,\n",
       " '确认': 7343,\n",
       " '十三': 2383,\n",
       " '金融市场': 9404,\n",
       " '交易额': 1113,\n",
       " '2000': 66,\n",
       " '万亿': 393,\n",
       " '宏观': 3785,\n",
       " '稳定': 7479,\n",
       " '双重': 2604,\n",
       " '因素': 3049,\n",
       " '鼓舞': 9994,\n",
       " '国际': 3117,\n",
       " '基金': 3266,\n",
       " '经理': 7789,\n",
       " '2017': 83,\n",
       " '下半年': 516,\n",
       " '股市': 8047,\n",
       " '有望': 5824,\n",
       " '十年': 2392,\n",
       " '增长': 3309,\n",
       " '创新': 2115,\n",
       " '驱动': 9879,\n",
       " '回顾': 3043,\n",
       " '早盘': 5625,\n",
       " '冲高': 1944,\n",
       " '回落': 3039,\n",
       " '走势': 8834,\n",
       " '盘面': 7177,\n",
       " '300': 104,\n",
       " '盘中': 7175,\n",
       " '新高': 5531,\n",
       " '分化': 2047,\n",
       " '相当': 7218,\n",
       " '45': 126,\n",
       " '较前': 8993,\n",
       " '76': 166,\n",
       " '跌幅': 8893,\n",
       " '101': 15,\n",
       " '97': 192,\n",
       " '98': 193,\n",
       " '创业板': 2105,\n",
       " '38': 116,\n",
       " '400': 120,\n",
       " '品种': 2939,\n",
       " '计算': 8545,\n",
       " 'st': 237,\n",
       " '涨停': 6562,\n",
       " '不足': 614,\n",
       " '亿元': 1202,\n",
       " '800': 172,\n",
       " '数据': 5424,\n",
       " '主力': 888,\n",
       " '流出': 6475,\n",
       " '一日': 317,\n",
       " '96': 191,\n",
       " '95': 190,\n",
       " '27': 99,\n",
       " '61': 148,\n",
       " '抛售': 5002,\n",
       " '13': 40,\n",
       " '介入': 1223,\n",
       " '医药': 2381,\n",
       " '制造': 2173,\n",
       " '雄安': 9625,\n",
       " '新区': 5487,\n",
       " '更是': 5761,\n",
       " '高达': 9954,\n",
       " '41': 122,\n",
       " '69': 157,\n",
       " '技术': 4963,\n",
       " '临近': 870,\n",
       " '半个': 2409,\n",
       " '小时': 3969,\n",
       " '高位': 9910,\n",
       " '留下': 7094,\n",
       " '以来': 1268,\n",
       " '每次': 6241,\n",
       " '回调': 3040,\n",
       " '相对': 7216,\n",
       " '位置': 1383,\n",
       " '即使': 2512,\n",
       " '乏力': 962,\n",
       " '总体': 4647,\n",
       " '打破': 4906,\n",
       " '攻克': 5345,\n",
       " '当日': 4501,\n",
       " '上方': 479,\n",
       " '触及': 8526,\n",
       " '无疑': 5570,\n",
       " '心理': 4599,\n",
       " '负面影响': 8729,\n",
       " '分钟': 2077,\n",
       " '级别': 7718,\n",
       " '形成': 4514,\n",
       " '一旦': 318,\n",
       " '跌破': 8894,\n",
       " '意味着': 4737,\n",
       " '如此': 3660,\n",
       " '引发': 4443,\n",
       " '综合': 7845,\n",
       " '处在': 3326,\n",
       " '区间': 2367,\n",
       " '脆弱': 8076,\n",
       " '心态': 4595,\n",
       " '碎片': 7345,\n",
       " '主线': 908,\n",
       " '模糊': 6142,\n",
       " '热点': 6760,\n",
       " '赚钱': 8810,\n",
       " '效应': 5389,\n",
       " '以下': 1257,\n",
       " '首先': 9824,\n",
       " '长期': 9468,\n",
       " '人气': 1193,\n",
       " '最近': 5795,\n",
       " '一段时间': 335,\n",
       " '整体': 5433,\n",
       " '走高': 8847,\n",
       " '基础': 3260,\n",
       " '弹性': 4466,\n",
       " '制约': 2169,\n",
       " '绝对': 7822,\n",
       " '大面积': 3521,\n",
       " '与此同时': 621,\n",
       " '现在': 6926,\n",
       " '非常': 9683,\n",
       " '频繁': 9767,\n",
       " '今天': 1216,\n",
       " '明天': 5661,\n",
       " '就要': 4009,\n",
       " '打击': 4896,\n",
       " '积极性': 7452,\n",
       " '其次': 1847,\n",
       " '反弹': 2612,\n",
       " '重要': 9378,\n",
       " '拉升': 5047,\n",
       " '这种': 9111,\n",
       " '大涨': 3482,\n",
       " '似乎': 1378,\n",
       " '一直': 343,\n",
       " '吸引': 2888,\n",
       " '加码': 2264,\n",
       " '中小': 808,\n",
       " '面临': 9688,\n",
       " '强大': 4475,\n",
       " '午后': 2407,\n",
       " '复星': 3344,\n",
       " '收复': 5315,\n",
       " '投资': 4992,\n",
       " '建议': 4393,\n",
       " '始终': 3666,\n",
       " '缺乏': 7880,\n",
       " '支持': 5297,\n",
       " '背景': 8060,\n",
       " '后续': 2865,\n",
       " '跟上': 8901,\n",
       " '活跃': 6467,\n",
       " '降低': 9564,\n",
       " '配置': 9335,\n",
       " '加大': 2246,\n",
       " '纠缠': 7701,\n",
       " '促使': 1505,\n",
       " '能否': 8071,\n",
       " '真正': 7262,\n",
       " '观察': 8482,\n",
       " '基于': 3244,\n",
       " '组合': 7751,\n",
       " '因此': 3047,\n",
       " '股指': 8048,\n",
       " '下方': 523,\n",
       " '获得': 8282,\n",
       " '操作': 5288,\n",
       " '粤港澳': 7659,\n",
       " '大湾': 3483,\n",
       " '论坛': 8580,\n",
       " '腾讯': 8088,\n",
       " '人工智能': 1178,\n",
       " '百度': 7150,\n",
       " '举办': 918,\n",
       " 'ai': 196,\n",
       " '开发者': 4408,\n",
       " '大会': 3430,\n",
       " '亚马逊': 1093,\n",
       " '代表': 1251,\n",
       " '互联网': 1066,\n",
       " '巨头': 4144,\n",
       " '一致': 358,\n",
       " '看好': 7245,\n",
       " '发展': 2629,\n",
       " '产业': 1126,\n",
       " '叠加': 2704,\n",
       " '政策': 5378,\n",
       " '扶持': 4942,\n",
       " '景气': 5726,\n",
       " '一个月': 249,\n",
       " '三次': 448,\n",
       " '加之': 2239,\n",
       " '下周': 520,\n",
       " '月末': 5804,\n",
       " '值得': 1588,\n",
       " '做好': 1603,\n",
       " '应对': 4339,\n",
       " '月初': 5801,\n",
       " '为首': 881,\n",
       " '模式': 6139,\n",
       " '保持': 1527,\n",
       " '随着': 9606,\n",
       " '带来': 4218,\n",
       " '刷新': 2177,\n",
       " '高点': 9942,\n",
       " '降温': 9568,\n",
       " '加剧': 2245,\n",
       " '现象': 6936,\n",
       " '必须': 4607,\n",
       " '重视': 9381,\n",
       " '红利': 7702,\n",
       " '军工': 1896,\n",
       " '上周': 468,\n",
       " '王者': 6898,\n",
       " '荣耀': 8263,\n",
       " '类似': 7655,\n",
       " '来自': 5992,\n",
       " '比较': 6259,\n",
       " '敏感': 5395,\n",
       " '半年': 2414,\n",
       " '容易': 3894,\n",
       " '实际上': 3835,\n",
       " '美联储': 7944,\n",
       " '加息': 2253,\n",
       " '缩表': 7875,\n",
       " '行为': 8377,\n",
       " '货币政策': 8751,\n",
       " '开启': 4409,\n",
       " '流行': 6482,\n",
       " '很难': 4553,\n",
       " '中性': 821,\n",
       " '偏紧': 1600,\n",
       " '常态': 4237,\n",
       " '基本面': 3257,\n",
       " '阶段': 9522,\n",
       " '一段': 334,\n",
       " '高速': 9956,\n",
       " '增速': 3307,\n",
       " '下滑': 530,\n",
       " '而是': 7987,\n",
       " '周期': 2910,\n",
       " '适度': 9196,\n",
       " '供给': 1475,\n",
       " '结构性': 7809,\n",
       " '改革': 5342,\n",
       " '决定': 1946,\n",
       " '运行': 9062,\n",
       " '之下': 932,\n",
       " '前期': 2194,\n",
       " '单纯': 2448,\n",
       " '依托': 1477,\n",
       " '能够': 8072,\n",
       " '担忧': 5043,\n",
       " '尤其': 3998,\n",
       " '越来越': 8876,\n",
       " '甚至': 6986,\n",
       " '排除': 5168,\n",
       " '选择': 9210,\n",
       " '伴随': 1377,\n",
       " '谨慎': 8709,\n",
       " '气氛': 6296,\n",
       " '对于': 3910,\n",
       " '梳理': 6104,\n",
       " '警惕': 8536,\n",
       " '兑现': 1681,\n",
       " '利润': 2140,\n",
       " '重新': 9372,\n",
       " '机会': 5924,\n",
       " '阻力': 9524,\n",
       " '密集': 3905,\n",
       " '及时': 2587,\n",
       " '减仓': 1964,\n",
       " '毕竟': 6265,\n",
       " '通道': 9250,\n",
       " '扭转': 4938,\n",
       " '暂时': 5740,\n",
       " '持有': 5095,\n",
       " '主板': 903,\n",
       " '终于': 7769,\n",
       " '遗憾': 9283,\n",
       " '之际': 956,\n",
       " '周五': 2903,\n",
       " '怎样': 4634,\n",
       " '登记': 7131,\n",
       " '托管': 4914,\n",
       " '实施细则': 3825,\n",
       " '实施': 3823,\n",
       " '发改委': 2642,\n",
       " '抓紧': 4976,\n",
       " '制定': 2162,\n",
       " '出台': 1999,\n",
       " '价格': 1279,\n",
       " '监管': 7171,\n",
       " '规则': 8492,\n",
       " '社部': 7369,\n",
       " '月底': 5802,\n",
       " '基本': 3254,\n",
       " '实现': 3828,\n",
       " '跨省': 8909,\n",
       " '异地': 4440,\n",
       " '就医': 4004,\n",
       " '直接': 7200,\n",
       " '成品油': 4788,\n",
       " '年内': 4277,\n",
       " '下调': 536,\n",
       " '降幅': 9566,\n",
       " '国防': 3114,\n",
       " '科工': 7421,\n",
       " '混改': 6594,\n",
       " '资产': 8789,\n",
       " '证券化': 8599,\n",
       " '进程': 9139,\n",
       " '广电总局': 4327,\n",
       " '新浪': 5512,\n",
       " '微博': 4576,\n",
       " '网站': 7894,\n",
       " '关停': 1820,\n",
       " '视听': 8503,\n",
       " '节目': 8200,\n",
       " '欧美': 6172,\n",
       " '稳健': 7478,\n",
       " '国内': 3075,\n",
       " '形式': 4512,\n",
       " '整理': 5437,\n",
       " '1800': 55,\n",
       " '相比': 7222,\n",
       " '显得': 5699,\n",
       " '弱势': 4465,\n",
       " '转换': 8971,\n",
       " '随时': 9604,\n",
       " '第一': 7548,\n",
       " '第二': 7576,\n",
       " '实质性': 3832,\n",
       " '低开': 1387,\n",
       " '可能性': 2742,\n",
       " '防止': 9511,\n",
       " '极为': 6002,\n",
       " ...}"
      ]
     },
     "execution_count": 81,
     "metadata": {},
     "output_type": "execute_result"
    }
   ],
   "source": [
    "vectorized.vocabulary_"
   ]
  },
  {
   "cell_type": "code",
   "execution_count": 82,
   "metadata": {},
   "outputs": [
    {
     "data": {
      "text/plain": [
       "(array([0, 0, 0, 0, 0, 0, 0, 0, 0, 0, 0, 0, 0, 0, 0, 0, 0, 0, 0, 0, 0, 0,\n",
       "        0, 0, 0, 0, 0, 0, 0, 0, 0, 0, 0, 0], dtype=int64),\n",
       " array([  35,   46,  302,  912,  933, 1546, 1743, 1819, 1844, 2558, 2635,\n",
       "        2734, 3974, 4113, 4132, 4405, 4505, 4525, 4802, 4878, 5628, 5738,\n",
       "        5760, 5808, 5892, 6195, 6880, 7319, 7338, 7607, 7662, 9082, 9141,\n",
       "        9631], dtype=int64))"
      ]
     },
     "execution_count": 82,
     "metadata": {},
     "output_type": "execute_result"
    }
   ],
   "source": [
    "np.where(X[0].toarray()) # get the positions which values are not zero"
   ]
  },
  {
   "cell_type": "code",
   "execution_count": 83,
   "metadata": {},
   "outputs": [
    {
     "data": {
      "text/plain": [
       "'此外   自 本周   6 月 12 日   起   除 小米 手机 6 等 15 款 机型 外   其余 机型 已 暂停 更新 发布   含 开发 版   体验版 内测   稳定版 暂不受 影响   以 确保 工程师 可以 集中 全部 精力 进行 系统优化 工作   有人 猜测 这 也 是 将 精力 主要 用到 MIUI   9 的 研发 之中   MIUI   8 去年 5 月 发布   距今已有 一年 有余   也 是 时候 更新换代 了   当然   关于 MIUI   9 的 确切 信息   我们 还是 等待 官方消息'"
      ]
     },
     "execution_count": 83,
     "metadata": {},
     "output_type": "execute_result"
    }
   ],
   "source": [
    "news_content[0]"
   ]
  },
  {
   "cell_type": "code",
   "execution_count": 84,
   "metadata": {
    "scrolled": true
   },
   "outputs": [
    {
     "data": {
      "text/plain": [
       "{'此外': 6195,\n",
       " '本周': 5892,\n",
       " '12': 35,\n",
       " '小米': 3974,\n",
       " '手机': 4878,\n",
       " '15': 46,\n",
       " '其余': 1844,\n",
       " '暂停': 5738,\n",
       " '更新': 5760,\n",
       " '发布': 2635,\n",
       " '开发': 4405,\n",
       " '影响': 4525,\n",
       " '确保': 7338,\n",
       " '工程师': 4132,\n",
       " '可以': 2734,\n",
       " '集中': 9631,\n",
       " '全部': 1743,\n",
       " '精力': 7662,\n",
       " '进行': 9141,\n",
       " '工作': 4113,\n",
       " '有人': 5808,\n",
       " '猜测': 6880,\n",
       " '主要': 912,\n",
       " '研发': 7319,\n",
       " '之中': 933,\n",
       " '去年': 2558,\n",
       " '一年': 302,\n",
       " '时候': 5628,\n",
       " '当然': 4505,\n",
       " '关于': 1819,\n",
       " '信息': 1546,\n",
       " '我们': 4802,\n",
       " '还是': 9082,\n",
       " '等待': 7607,\n",
       " '作为': 1440,\n",
       " '唯一': 2966,\n",
       " '通过': 9249,\n",
       " '10': 12,\n",
       " '平台': 4255,\n",
       " '认证': 8554,\n",
       " '处理器': 3331,\n",
       " '强调': 4481,\n",
       " '不会': 551,\n",
       " '因为': 3045,\n",
       " '考虑': 7980,\n",
       " '性能': 4642,\n",
       " '核心': 6069,\n",
       " '相反': 7212,\n",
       " '他们': 1242,\n",
       " '联手': 8020,\n",
       " '微软': 4579,\n",
       " '找到': 4949,\n",
       " '一种': 344,\n",
       " '适合': 9193,\n",
       " '兼顾': 1864,\n",
       " '完美': 3783,\n",
       " '方案': 5537,\n",
       " '报道': 5026,\n",
       " '已经': 4156,\n",
       " '拿到': 5092,\n",
       " '一些': 253,\n",
       " '以便': 1259,\n",
       " '更好': 5757,\n",
       " '理解': 6966,\n",
       " '架构': 6022,\n",
       " '资料': 8791,\n",
       " '显示': 5703,\n",
       " '一款': 332,\n",
       " '集成': 9638,\n",
       " '传统': 1355,\n",
       " '节省': 8201,\n",
       " '至少': 8132,\n",
       " '30': 103,\n",
       " '空间': 7498,\n",
       " '按计划': 5124,\n",
       " '今年': 1217,\n",
       " '联想': 8019,\n",
       " '首发': 9825,\n",
       " '电脑': 7067,\n",
       " '预计': 9745,\n",
       " '形态': 4513,\n",
       " '产品': 1135,\n",
       " '只是': 2728,\n",
       " '开始': 4412,\n",
       " '未来': 5886,\n",
       " '也许': 982,\n",
       " '见到': 8475,\n",
       " '三星': 443,\n",
       " '华为': 2417,\n",
       " '澎湃': 6699,\n",
       " '进入': 9123,\n",
       " '此前': 6193,\n",
       " '搭载': 5252,\n",
       " '电池': 7063,\n",
       " '规格': 8495,\n",
       " '至于': 8129,\n",
       " '可能': 2741,\n",
       " '所说': 4870,\n",
       " '设定': 8585,\n",
       " '有关': 5810,\n",
       " '按照': 5122,\n",
       " '目前': 7188,\n",
       " '掌握': 5160,\n",
       " '拥有': 5083,\n",
       " '摄像头': 5256,\n",
       " '惊喜': 4717,\n",
       " '根据': 6078,\n",
       " '京东': 1144,\n",
       " '泄露': 6406,\n",
       " '售价': 2964,\n",
       " '应该': 4344,\n",
       " '某个': 6025,\n",
       " '这是': 9105,\n",
       " '18': 53,\n",
       " '葡萄牙': 8322,\n",
       " '中部': 858,\n",
       " '地区': 3168,\n",
       " '拍摄': 5064,\n",
       " '森林': 6119,\n",
       " '大火': 3485,\n",
       " '汽车': 6355,\n",
       " '新华社': 5489,\n",
       " '记者': 8569,\n",
       " '标题': 6055,\n",
       " '44': 125,\n",
       " '女子': 3625,\n",
       " '深圳': 6576,\n",
       " '网友': 7888,\n",
       " '暴雨': 5748,\n",
       " '交警': 1120,\n",
       " '昨日': 5694,\n",
       " '清晨': 6604,\n",
       " '发现': 2647,\n",
       " '行走': 8392,\n",
       " '快速': 4622,\n",
       " '期间': 5881,\n",
       " '赶紧': 8852,\n",
       " '一路': 365,\n",
       " '那么': 9299,\n",
       " '事发': 1024,\n",
       " '到底': 2154,\n",
       " '发生': 2649,\n",
       " '什么': 1208,\n",
       " '一起': 364,\n",
       " '还原': 9081,\n",
       " '现场': 6927,\n",
       " '大队': 3517,\n",
       " '中队': 863,\n",
       " '女生': 3631,\n",
       " '一位': 259,\n",
       " '高大': 9919,\n",
       " '说话': 8668,\n",
       " '90': 184,\n",
       " '青年': 9672,\n",
       " '介绍': 1224,\n",
       " '16': 49,\n",
       " '早上': 5617,\n",
       " '36': 113,\n",
       " '正在': 6180,\n",
       " '附近': 9550,\n",
       " '接到': 5177,\n",
       " '机动车': 5928,\n",
       " '危险': 2511,\n",
       " '随后': 9602,\n",
       " '寻找': 3932,\n",
       " '大概': 3476,\n",
       " '大道': 3511,\n",
       " '出口': 1998,\n",
       " '方向': 5535,\n",
       " '身上': 8929,\n",
       " '另外': 2722,\n",
       " '一名': 276,\n",
       " '情绪': 4714,\n",
       " '尝试': 3996,\n",
       " '交流': 1115,\n",
       " '离开': 7403,\n",
       " '愿意': 4764,\n",
       " '接受': 5179,\n",
       " '继续': 7832,\n",
       " '缓慢': 7862,\n",
       " '此时': 6197,\n",
       " '路边': 8918,\n",
       " '聚集': 8034,\n",
       " '市民': 4192,\n",
       " '围观': 3065,\n",
       " '为了': 874,\n",
       " '刺激': 2179,\n",
       " '一边': 370,\n",
       " '群众': 7950,\n",
       " '警方': 8538,\n",
       " '提供': 5215,\n",
       " '一份': 257,\n",
       " '视频': 8509,\n",
       " '了解': 1007,\n",
       " '25': 95,\n",
       " '出现': 2021,\n",
       " '监控': 7165,\n",
       " '穿着': 7502,\n",
       " '白色': 7140,\n",
       " '沿着': 6403,\n",
       " '当时': 4502,\n",
       " '正值': 6179,\n",
       " '上班': 495,\n",
       " '高峰期': 9927,\n",
       " '路上': 8911,\n",
       " '纷纷': 7737,\n",
       " '驻足': 9885,\n",
       " '观望': 8485,\n",
       " '不少': 576,\n",
       " '车辆': 8955,\n",
       " '速度': 9253,\n",
       " '脚步': 8077,\n",
       " '依然': 1483,\n",
       " '行进': 8393,\n",
       " '中间': 861,\n",
       " '一辆': 368,\n",
       " '货车': 8755,\n",
       " '镜头': 9454,\n",
       " '但是': 1379,\n",
       " '全身': 1740,\n",
       " '朝着': 5865,\n",
       " '周围': 2907,\n",
       " '没有': 6373,\n",
       " '或者': 4811,\n",
       " '上前': 462,\n",
       " '看到': 7244,\n",
       " '这样': 9107,\n",
       " '情况': 4708,\n",
       " '恐怕': 4678,\n",
       " '大家': 3459,\n",
       " '办法': 2232,\n",
       " '面对': 9693,\n",
       " '这一': 9085,\n",
       " '表示': 8421,\n",
       " '根本': 6079,\n",
       " '不敢': 588,\n",
       " '心里': 4603,\n",
       " '感觉': 4760,\n",
       " '尴尬': 4014,\n",
       " '跟随': 8905,\n",
       " '作出': 1441,\n",
       " '举动': 919,\n",
       " '突然': 7511,\n",
       " '靠近': 9687,\n",
       " '上面': 510,\n",
       " '控制': 5190,\n",
       " '远离': 9146,\n",
       " '衣服': 8404,\n",
       " '只能': 2730,\n",
       " '紧紧': 7691,\n",
       " '一只': 272,\n",
       " '后面': 2867,\n",
       " '耐心': 7989,\n",
       " '安慰': 3766,\n",
       " '听到': 2879,\n",
       " '不断': 589,\n",
       " '重复': 9364,\n",
       " '一句': 271,\n",
       " '要是': 8468,\n",
       " '遭遇': 9288,\n",
       " '不时': 593,\n",
       " '试图': 8626,\n",
       " '大暴雨': 3472,\n",
       " '眼睛': 7270,\n",
       " '瞬间': 7288,\n",
       " '帮助': 4224,\n",
       " '大雨': 3519,\n",
       " '来说': 5995,\n",
       " '回家': 3029,\n",
       " '然后': 6774,\n",
       " '照片': 6781,\n",
       " '旁边': 5546,\n",
       " '场景': 3196,\n",
       " '下来': 525,\n",
       " '带到': 4212,\n",
       " '派出所': 6470,\n",
       " '姑娘': 3669,\n",
       " '什么样': 1209,\n",
       " '事情': 1029,\n",
       " '透露': 9219,\n",
       " '湖北': 6645,\n",
       " '家属': 3883,\n",
       " '反映': 2615,\n",
       " '三天': 437,\n",
       " '陈某': 9557,\n",
       " '老家': 7963,\n",
       " '导致': 3939,\n",
       " '异常': 4441,\n",
       " '产生': 1139,\n",
       " '送往': 9191,\n",
       " '医院': 2382,\n",
       " '治疗': 6400,\n",
       " '大大': 3452,\n",
       " '希望': 4207,\n",
       " '康复': 4363,\n",
       " '其实': 1846,\n",
       " '到来': 2156,\n",
       " '存在': 3707,\n",
       " '年龄': 4296,\n",
       " '限制': 9577,\n",
       " '你们': 1451,\n",
       " '原因': 2542,\n",
       " '这个': 9086,\n",
       " '哥哥': 2953,\n",
       " '一辈子': 369,\n",
       " '自己': 8099,\n",
       " '家人': 3878,\n",
       " '同时': 2831,\n",
       " '感谢': 4761,\n",
       " '聆听': 7996,\n",
       " '心灵': 4598,\n",
       " '点赞': 6745,\n",
       " '警察': 8534,\n",
       " '就是': 4005,\n",
       " '男子': 7080,\n",
       " '20': 64,\n",
       " '50': 132,\n",
       " '上午': 464,\n",
       " '公安局': 1771,\n",
       " '一个': 247,\n",
       " '报警': 5025,\n",
       " '电话': 7072,\n",
       " '声称': 3321,\n",
       " '遭到': 9286,\n",
       " '侵害': 1492,\n",
       " '几个': 1975,\n",
       " '关键词': 1834,\n",
       " '民警': 6287,\n",
       " '紧张': 7688,\n",
       " '起来': 8855,\n",
       " '受到': 2677,\n",
       " 'a股': 198,\n",
       " '纳入': 7730,\n",
       " 'msci': 219,\n",
       " '指数': 5115,\n",
       " '利好': 2136,\n",
       " '消息': 6544,\n",
       " '市场': 4178,\n",
       " '周三': 2901,\n",
       " '再度': 1884,\n",
       " '上演': 494,\n",
       " '行情': 8383,\n",
       " '周四': 2906,\n",
       " '金融股': 9409,\n",
       " '白马股': 7143,\n",
       " '表现': 8420,\n",
       " '尾盘': 4030,\n",
       " '跳水': 8922,\n",
       " '之后': 940,\n",
       " '金融': 9400,\n",
       " '板块': 6001,\n",
       " '状态': 6865,\n",
       " '分析': 2060,\n",
       " '人士': 1172,\n",
       " '认为': 8548,\n",
       " '受益': 2685,\n",
       " '估值': 1374,\n",
       " '资金': 8803,\n",
       " '青睐': 9679,\n",
       " '存量': 3711,\n",
       " '博弈': 2476,\n",
       " '格局': 6082,\n",
       " '风格': 9784,\n",
       " '震荡': 9662,\n",
       " '延续': 4373,\n",
       " '流动性': 6477,\n",
       " '改善': 5333,\n",
       " '经济': 7779,\n",
       " '预期': 9738,\n",
       " '有助于': 5814,\n",
       " '支撑': 5301,\n",
       " '大盘': 3490,\n",
       " '逐步': 9222,\n",
       " '再现': 1887,\n",
       " '未能': 5889,\n",
       " '上行': 501,\n",
       " '态势': 4629,\n",
       " '两市': 710,\n",
       " '成交': 4777,\n",
       " '小幅': 3964,\n",
       " '放量': 5367,\n",
       " '29': 102,\n",
       " '中信': 757,\n",
       " '一级': 352,\n",
       " '行业': 8375,\n",
       " '收盘': 5320,\n",
       " '银行': 9434,\n",
       " '两个': 688,\n",
       " '分别': 2045,\n",
       " '上涨': 490,\n",
       " '80': 171,\n",
       " '二级': 1048,\n",
       " '来看': 5991,\n",
       " '股份制': 8046,\n",
       " '涨幅': 6563,\n",
       " '最高': 5797,\n",
       " '达到': 9021,\n",
       " '22': 91,\n",
       " '82': 175,\n",
       " '信托': 1552,\n",
       " '及其': 2586,\n",
       " '64': 152,\n",
       " '保险': 1536,\n",
       " '34': 109,\n",
       " '证券': 8598,\n",
       " '06': 8,\n",
       " '成分股': 4783,\n",
       " '共有': 1814,\n",
       " '21': 90,\n",
       " '其中': 1841,\n",
       " '最大': 5785,\n",
       " '66': 154,\n",
       " '贵阳': 8783,\n",
       " '65': 153,\n",
       " '超过': 8873,\n",
       " '17': 51,\n",
       " '个股': 749,\n",
       " '中国': 771,\n",
       " '居前': 4042,\n",
       " '两名': 696,\n",
       " '57': 141,\n",
       " '04': 6,\n",
       " '新华': 5488,\n",
       " '券商': 2178,\n",
       " '下跌': 537,\n",
       " '近期': 9073,\n",
       " '宣布': 3868,\n",
       " '2018': 84,\n",
       " '新兴': 5483,\n",
       " '群体': 7951,\n",
       " '团队': 3055,\n",
       " '指出': 5104,\n",
       " '最新': 5790,\n",
       " '包含': 2322,\n",
       " '222': 92,\n",
       " '市值': 4175,\n",
       " '互联互通': 1065,\n",
       " '交易': 1106,\n",
       " '股票': 8051,\n",
       " '以及': 1264,\n",
       " '停牌': 1611,\n",
       " '标的': 6051,\n",
       " '由于': 7033,\n",
       " '很多': 4546,\n",
       " '权重': 5947,\n",
       " '上升': 463,\n",
       " '73': 163,\n",
       " '40': 119,\n",
       " '11': 24,\n",
       " '消费': 6547,\n",
       " '24': 94,\n",
       " '26': 98,\n",
       " '涵盖': 6564,\n",
       " '大部分': 3513,\n",
       " '动态': 2278,\n",
       " '加入': 2243,\n",
       " '增加': 3294,\n",
       " '其他': 1842,\n",
       " '尽管': 4028,\n",
       " '事件': 1018,\n",
       " '短期': 7300,\n",
       " '有所': 5820,\n",
       " '提振': 5224,\n",
       " '中长期': 860,\n",
       " '海外': 6515,\n",
       " '增量': 3308,\n",
       " '升温': 2402,\n",
       " '短期内': 7301,\n",
       " '不能': 606,\n",
       " '有效': 5821,\n",
       " '放大': 5356,\n",
       " '情景': 4713,\n",
       " '难以': 9617,\n",
       " '持续': 5097,\n",
       " '改变': 5332,\n",
       " '并未': 4302,\n",
       " '引起': 4448,\n",
       " '热情': 6755,\n",
       " '成交量': 4778,\n",
       " '较为': 8992,\n",
       " '较大': 8994,\n",
       " '变化': 2693,\n",
       " '成长': 4800,\n",
       " '全天': 1722,\n",
       " '低迷': 1391,\n",
       " '表明': 8417,\n",
       " '很少': 4549,\n",
       " '不同': 567,\n",
       " '之间': 955,\n",
       " '使得': 1457,\n",
       " '突破': 7512,\n",
       " '中期': 831,\n",
       " '依旧': 1479,\n",
       " '维持': 7840,\n",
       " '虽然': 8354,\n",
       " '至今': 8130,\n",
       " '夏普': 3351,\n",
       " '智能手机': 5737,\n",
       " '无法': 5568,\n",
       " '完全': 3776,\n",
       " '2013': 79,\n",
       " '退出': 9186,\n",
       " '月份': 5800,\n",
       " '官方': 3791,\n",
       " '回归': 3031,\n",
       " '预示': 9741,\n",
       " '很快': 4551,\n",
       " '登场': 7127,\n",
       " '登陆': 7132,\n",
       " '怎么样': 4633,\n",
       " '近日': 9072,\n",
       " '型号': 3221,\n",
       " '神秘': 7378,\n",
       " '悄然': 4695,\n",
       " '相关': 7211,\n",
       " '并非': 4305,\n",
       " '定位': 3798,\n",
       " '配备': 9333,\n",
       " '最受': 5782,\n",
       " '芯片': 8212,\n",
       " '之一': 930,\n",
       " '采用': 9343,\n",
       " '14': 43,\n",
       " '工艺': 4135,\n",
       " '设计': 8591,\n",
       " '当前': 4492,\n",
       " '只有': 2729,\n",
       " '上市': 474,\n",
       " '销售': 9440,\n",
       " '改进': 5340,\n",
       " '明显': 5665,\n",
       " '所以': 4859,\n",
       " '放在': 5355,\n",
       " '变成': 2697,\n",
       " '高端': 9945,\n",
       " '不过': 615,\n",
       " '签署': 7621,\n",
       " '协议': 2434,\n",
       " '时间': 5649,\n",
       " '既然': 5582,\n",
       " '测试': 6490,\n",
       " '说明': 8666,\n",
       " '只要': 2731,\n",
       " '时期': 5636,\n",
       " '新品': 5494,\n",
       " '之前': 938,\n",
       " '曝光': 5750,\n",
       " '竞争': 7528,\n",
       " '优势': 1316,\n",
       " '全面': 1746,\n",
       " '推出': 5197,\n",
       " '全球': 1732,\n",
       " '多达': 3421,\n",
       " '28': 101,\n",
       " '媒体': 3694,\n",
       " '沟通': 6369,\n",
       " '会上': 1330,\n",
       " '各位': 2777,\n",
       " '时代': 5626,\n",
       " '成为': 4776,\n",
       " '沙漠': 6365,\n",
       " '有利': 5811,\n",
       " '消化': 6542,\n",
       " '开盘': 4428,\n",
       " '上证': 502,\n",
       " '蓝筹': 8339,\n",
       " '带动': 4213,\n",
       " '一度': 304,\n",
       " '站上': 7526,\n",
       " '60': 145,\n",
       " '120': 36,\n",
       " '均线': 3201,\n",
       " '万达': 420,\n",
       " '电影': 7059,\n",
       " '暴跌': 5747,\n",
       " '拖累': 5070,\n",
       " '绝大多数': 7820,\n",
       " '大幅': 3467,\n",
       " '各大': 2781,\n",
       " '全线': 1737,\n",
       " '不见': 611,\n",
       " '不可': 564,\n",
       " '短线': 7304,\n",
       " '策略': 7612,\n",
       " '题材': 9771,\n",
       " '为主': 873,\n",
       " '区域': 2365,\n",
       " '概念股': 6130,\n",
       " '调整': 8685,\n",
       " '压力': 2531,\n",
       " '仍然': 1225,\n",
       " '突出': 7506,\n",
       " '再次': 1886,\n",
       " '大跌': 3507,\n",
       " '处于': 3323,\n",
       " '底部': 4348,\n",
       " '低位': 1386,\n",
       " '反复': 2606,\n",
       " '夯实': 3563,\n",
       " '蓝筹股': 8340,\n",
       " '承压': 4953,\n",
       " '后期': 2862,\n",
       " '需要': 9658,\n",
       " '接力': 5178,\n",
       " '走向': 8835,\n",
       " '今日': 1221,\n",
       " '要闻': 8471,\n",
       " '央行': 3561,\n",
       " '上海': 486,\n",
       " '总部': 4671,\n",
       " '债券': 1582,\n",
       " '北向': 2345,\n",
       " '境外': 3287,\n",
       " '投资者': 4994,\n",
       " '准入': 1957,\n",
       " '备案': 3339,\n",
       " '业务': 661,\n",
       " '指引': 5110,\n",
       " '我国': 4804,\n",
       " '信用': 1553,\n",
       " '法规': 6428,\n",
       " '标准': 6042,\n",
       " '研究': 7320,\n",
       " '加快': 2252,\n",
       " '推进': 5207,\n",
       " '房地产': 4851,\n",
       " '研究院': 7326,\n",
       " '房贷利率': 4856,\n",
       " '楼市': 6126,\n",
       " '报告': 5018,\n",
       " '许多': 8578,\n",
       " '城市': 3231,\n",
       " '个人': 739,\n",
       " '住房贷款': 1395,\n",
       " '利率': 2143,\n",
       " '程度': 7468,\n",
       " '水污染': 6316,\n",
       " '修正案': 1562,\n",
       " '草案': 8260,\n",
       " '二审': 1038,\n",
       " '更大': 5756,\n",
       " '力度': 2222,\n",
       " '保护': 1524,\n",
       " '环境': 6909,\n",
       " '结算': 7813,\n",
       " '开展': 4415,\n",
       " '一人': 254,\n",
       " '多户': 3404,\n",
       " '通知': 9238,\n",
       " '启动': 2883,\n",
       " '同一': 2821,\n",
       " '以上': 1256,\n",
       " '账户': 8749,\n",
       " '文件': 5442,\n",
       " '要求': 8469,\n",
       " '23': 93,\n",
       " '日后': 5589,\n",
       " '交易日': 1111,\n",
       " '确认': 7343,\n",
       " '十三': 2383,\n",
       " '金融市场': 9404,\n",
       " '交易额': 1113,\n",
       " '2000': 66,\n",
       " '万亿': 393,\n",
       " '宏观': 3785,\n",
       " '稳定': 7479,\n",
       " '双重': 2604,\n",
       " '因素': 3049,\n",
       " '鼓舞': 9994,\n",
       " '国际': 3117,\n",
       " '基金': 3266,\n",
       " '经理': 7789,\n",
       " '2017': 83,\n",
       " '下半年': 516,\n",
       " '股市': 8047,\n",
       " '有望': 5824,\n",
       " '十年': 2392,\n",
       " '增长': 3309,\n",
       " '创新': 2115,\n",
       " '驱动': 9879,\n",
       " '回顾': 3043,\n",
       " '早盘': 5625,\n",
       " '冲高': 1944,\n",
       " '回落': 3039,\n",
       " '走势': 8834,\n",
       " '盘面': 7177,\n",
       " '300': 104,\n",
       " '盘中': 7175,\n",
       " '新高': 5531,\n",
       " '分化': 2047,\n",
       " '相当': 7218,\n",
       " '45': 126,\n",
       " '较前': 8993,\n",
       " '76': 166,\n",
       " '跌幅': 8893,\n",
       " '101': 15,\n",
       " '97': 192,\n",
       " '98': 193,\n",
       " '创业板': 2105,\n",
       " '38': 116,\n",
       " '400': 120,\n",
       " '品种': 2939,\n",
       " '计算': 8545,\n",
       " 'st': 237,\n",
       " '涨停': 6562,\n",
       " '不足': 614,\n",
       " '亿元': 1202,\n",
       " '800': 172,\n",
       " '数据': 5424,\n",
       " '主力': 888,\n",
       " '流出': 6475,\n",
       " '一日': 317,\n",
       " '96': 191,\n",
       " '95': 190,\n",
       " '27': 99,\n",
       " '61': 148,\n",
       " '抛售': 5002,\n",
       " '13': 40,\n",
       " '介入': 1223,\n",
       " '医药': 2381,\n",
       " '制造': 2173,\n",
       " '雄安': 9625,\n",
       " '新区': 5487,\n",
       " '更是': 5761,\n",
       " '高达': 9954,\n",
       " '41': 122,\n",
       " '69': 157,\n",
       " '技术': 4963,\n",
       " '临近': 870,\n",
       " '半个': 2409,\n",
       " '小时': 3969,\n",
       " '高位': 9910,\n",
       " '留下': 7094,\n",
       " '以来': 1268,\n",
       " '每次': 6241,\n",
       " '回调': 3040,\n",
       " '相对': 7216,\n",
       " '位置': 1383,\n",
       " '即使': 2512,\n",
       " '乏力': 962,\n",
       " '总体': 4647,\n",
       " '打破': 4906,\n",
       " '攻克': 5345,\n",
       " '当日': 4501,\n",
       " '上方': 479,\n",
       " '触及': 8526,\n",
       " '无疑': 5570,\n",
       " '心理': 4599,\n",
       " '负面影响': 8729,\n",
       " '分钟': 2077,\n",
       " '级别': 7718,\n",
       " '形成': 4514,\n",
       " '一旦': 318,\n",
       " '跌破': 8894,\n",
       " '意味着': 4737,\n",
       " '如此': 3660,\n",
       " '引发': 4443,\n",
       " '综合': 7845,\n",
       " '处在': 3326,\n",
       " '区间': 2367,\n",
       " '脆弱': 8076,\n",
       " '心态': 4595,\n",
       " '碎片': 7345,\n",
       " '主线': 908,\n",
       " '模糊': 6142,\n",
       " '热点': 6760,\n",
       " '赚钱': 8810,\n",
       " '效应': 5389,\n",
       " '以下': 1257,\n",
       " '首先': 9824,\n",
       " '长期': 9468,\n",
       " '人气': 1193,\n",
       " '最近': 5795,\n",
       " '一段时间': 335,\n",
       " '整体': 5433,\n",
       " '走高': 8847,\n",
       " '基础': 3260,\n",
       " '弹性': 4466,\n",
       " '制约': 2169,\n",
       " '绝对': 7822,\n",
       " '大面积': 3521,\n",
       " '与此同时': 621,\n",
       " '现在': 6926,\n",
       " '非常': 9683,\n",
       " '频繁': 9767,\n",
       " '今天': 1216,\n",
       " '明天': 5661,\n",
       " '就要': 4009,\n",
       " '打击': 4896,\n",
       " '积极性': 7452,\n",
       " '其次': 1847,\n",
       " '反弹': 2612,\n",
       " '重要': 9378,\n",
       " '拉升': 5047,\n",
       " '这种': 9111,\n",
       " '大涨': 3482,\n",
       " '似乎': 1378,\n",
       " '一直': 343,\n",
       " '吸引': 2888,\n",
       " '加码': 2264,\n",
       " '中小': 808,\n",
       " '面临': 9688,\n",
       " '强大': 4475,\n",
       " '午后': 2407,\n",
       " '复星': 3344,\n",
       " '收复': 5315,\n",
       " '投资': 4992,\n",
       " '建议': 4393,\n",
       " '始终': 3666,\n",
       " '缺乏': 7880,\n",
       " '支持': 5297,\n",
       " '背景': 8060,\n",
       " '后续': 2865,\n",
       " '跟上': 8901,\n",
       " '活跃': 6467,\n",
       " '降低': 9564,\n",
       " '配置': 9335,\n",
       " '加大': 2246,\n",
       " '纠缠': 7701,\n",
       " '促使': 1505,\n",
       " '能否': 8071,\n",
       " '真正': 7262,\n",
       " '观察': 8482,\n",
       " '基于': 3244,\n",
       " '组合': 7751,\n",
       " '因此': 3047,\n",
       " '股指': 8048,\n",
       " '下方': 523,\n",
       " '获得': 8282,\n",
       " '操作': 5288,\n",
       " '粤港澳': 7659,\n",
       " '大湾': 3483,\n",
       " '论坛': 8580,\n",
       " '腾讯': 8088,\n",
       " '人工智能': 1178,\n",
       " '百度': 7150,\n",
       " '举办': 918,\n",
       " 'ai': 196,\n",
       " '开发者': 4408,\n",
       " '大会': 3430,\n",
       " '亚马逊': 1093,\n",
       " '代表': 1251,\n",
       " '互联网': 1066,\n",
       " '巨头': 4144,\n",
       " '一致': 358,\n",
       " '看好': 7245,\n",
       " '发展': 2629,\n",
       " '产业': 1126,\n",
       " '叠加': 2704,\n",
       " '政策': 5378,\n",
       " '扶持': 4942,\n",
       " '景气': 5726,\n",
       " '一个月': 249,\n",
       " '三次': 448,\n",
       " '加之': 2239,\n",
       " '下周': 520,\n",
       " '月末': 5804,\n",
       " '值得': 1588,\n",
       " '做好': 1603,\n",
       " '应对': 4339,\n",
       " '月初': 5801,\n",
       " '为首': 881,\n",
       " '模式': 6139,\n",
       " '保持': 1527,\n",
       " '随着': 9606,\n",
       " '带来': 4218,\n",
       " '刷新': 2177,\n",
       " '高点': 9942,\n",
       " '降温': 9568,\n",
       " '加剧': 2245,\n",
       " '现象': 6936,\n",
       " '必须': 4607,\n",
       " '重视': 9381,\n",
       " '红利': 7702,\n",
       " '军工': 1896,\n",
       " '上周': 468,\n",
       " '王者': 6898,\n",
       " '荣耀': 8263,\n",
       " '类似': 7655,\n",
       " '来自': 5992,\n",
       " '比较': 6259,\n",
       " '敏感': 5395,\n",
       " '半年': 2414,\n",
       " '容易': 3894,\n",
       " '实际上': 3835,\n",
       " '美联储': 7944,\n",
       " '加息': 2253,\n",
       " '缩表': 7875,\n",
       " '行为': 8377,\n",
       " '货币政策': 8751,\n",
       " '开启': 4409,\n",
       " '流行': 6482,\n",
       " '很难': 4553,\n",
       " '中性': 821,\n",
       " '偏紧': 1600,\n",
       " '常态': 4237,\n",
       " '基本面': 3257,\n",
       " '阶段': 9522,\n",
       " '一段': 334,\n",
       " '高速': 9956,\n",
       " '增速': 3307,\n",
       " '下滑': 530,\n",
       " '而是': 7987,\n",
       " '周期': 2910,\n",
       " '适度': 9196,\n",
       " '供给': 1475,\n",
       " '结构性': 7809,\n",
       " '改革': 5342,\n",
       " '决定': 1946,\n",
       " '运行': 9062,\n",
       " '之下': 932,\n",
       " '前期': 2194,\n",
       " '单纯': 2448,\n",
       " '依托': 1477,\n",
       " '能够': 8072,\n",
       " '担忧': 5043,\n",
       " '尤其': 3998,\n",
       " '越来越': 8876,\n",
       " '甚至': 6986,\n",
       " '排除': 5168,\n",
       " '选择': 9210,\n",
       " '伴随': 1377,\n",
       " '谨慎': 8709,\n",
       " '气氛': 6296,\n",
       " '对于': 3910,\n",
       " '梳理': 6104,\n",
       " '警惕': 8536,\n",
       " '兑现': 1681,\n",
       " '利润': 2140,\n",
       " '重新': 9372,\n",
       " '机会': 5924,\n",
       " '阻力': 9524,\n",
       " '密集': 3905,\n",
       " '及时': 2587,\n",
       " '减仓': 1964,\n",
       " '毕竟': 6265,\n",
       " '通道': 9250,\n",
       " '扭转': 4938,\n",
       " '暂时': 5740,\n",
       " '持有': 5095,\n",
       " '主板': 903,\n",
       " '终于': 7769,\n",
       " '遗憾': 9283,\n",
       " '之际': 956,\n",
       " '周五': 2903,\n",
       " '怎样': 4634,\n",
       " '登记': 7131,\n",
       " '托管': 4914,\n",
       " '实施细则': 3825,\n",
       " '实施': 3823,\n",
       " '发改委': 2642,\n",
       " '抓紧': 4976,\n",
       " '制定': 2162,\n",
       " '出台': 1999,\n",
       " '价格': 1279,\n",
       " '监管': 7171,\n",
       " '规则': 8492,\n",
       " '社部': 7369,\n",
       " '月底': 5802,\n",
       " '基本': 3254,\n",
       " '实现': 3828,\n",
       " '跨省': 8909,\n",
       " '异地': 4440,\n",
       " '就医': 4004,\n",
       " '直接': 7200,\n",
       " '成品油': 4788,\n",
       " '年内': 4277,\n",
       " '下调': 536,\n",
       " '降幅': 9566,\n",
       " '国防': 3114,\n",
       " '科工': 7421,\n",
       " '混改': 6594,\n",
       " '资产': 8789,\n",
       " '证券化': 8599,\n",
       " '进程': 9139,\n",
       " '广电总局': 4327,\n",
       " '新浪': 5512,\n",
       " '微博': 4576,\n",
       " '网站': 7894,\n",
       " '关停': 1820,\n",
       " '视听': 8503,\n",
       " '节目': 8200,\n",
       " '欧美': 6172,\n",
       " '稳健': 7478,\n",
       " '国内': 3075,\n",
       " '形式': 4512,\n",
       " '整理': 5437,\n",
       " '1800': 55,\n",
       " '相比': 7222,\n",
       " '显得': 5699,\n",
       " '弱势': 4465,\n",
       " '转换': 8971,\n",
       " '随时': 9604,\n",
       " '第一': 7548,\n",
       " '第二': 7576,\n",
       " '实质性': 3832,\n",
       " '低开': 1387,\n",
       " '可能性': 2742,\n",
       " '防止': 9511,\n",
       " '极为': 6002,\n",
       " ...}"
      ]
     },
     "execution_count": 84,
     "metadata": {},
     "output_type": "execute_result"
    }
   ],
   "source": [
    "vectorized.vocabulary_"
   ]
  },
  {
   "cell_type": "code",
   "execution_count": 85,
   "metadata": {},
   "outputs": [],
   "source": [
    "import random "
   ]
  },
  {
   "cell_type": "code",
   "execution_count": 86,
   "metadata": {},
   "outputs": [],
   "source": [
    "document_id_1, document_id_2 = random.randint(0, 1000), random.randint(0, 1000)"
   ]
  },
  {
   "cell_type": "code",
   "execution_count": 87,
   "metadata": {},
   "outputs": [
    {
     "data": {
      "text/plain": [
       "593"
      ]
     },
     "execution_count": 87,
     "metadata": {},
     "output_type": "execute_result"
    }
   ],
   "source": [
    "document_id_1"
   ]
  },
  {
   "cell_type": "code",
   "execution_count": 88,
   "metadata": {},
   "outputs": [
    {
     "data": {
      "text/plain": [
       "359"
      ]
     },
     "execution_count": 88,
     "metadata": {},
     "output_type": "execute_result"
    }
   ],
   "source": [
    "document_id_2"
   ]
  },
  {
   "cell_type": "code",
   "execution_count": 89,
   "metadata": {},
   "outputs": [
    {
     "data": {
      "text/plain": [
       "'新华社 长春 ６ 月 ２ ３ 日电   记者 刘硕   记者 从 吉林 机场 集团 获悉   ７ 月   ８ 月 暑运 旺季 期间   长春 机场 预计 将 有 １ ０ 家 航空公司 增加 １ ４ ７ ０ 架次 航班   满足 旅客 出行 需求   长春 是 我国 重要 的 夏季 避暑 旅游 目的地 之一   每年 暑运 期间 进出 旅客 较 多   根据 计划   长春 机场 将 与 长沙   兰州   太原   南昌   呼和浩特   银川   烟台   威海   南通   连云港   海拉尔   长白山 和 美属 塞班岛 等 旅游 城市 之间 增开 航班 １ ４ ７ ０ 架次   部分 航班 的 执 飞机 型 也 做出 调整   东方航空 和 韩亚 航空 将 固定 使用 Ａ ３ ３ ０ 宽体 客机 执行 长春   上海浦东   Ｍ Ｕ ５ ６ ９ ８   和 长春   韩国 首尔   Ｏ Ｚ ３ ０ ３   ４   航班   保障 充足 运力   目前   长春 机场 累计 有 ３ ５ 家 航空公司 运营 １ １ ８ 条 航线   通航 ６ ５ 个 城市   今年 新增 徐州 和 南通 等 航点   恢复 银川   太原   常州 等 航点   截至 目前   长春 机场 今年 旅客 吞吐量 超过 ５ １ ５ 万人次   同比 增长 超过 ２ ０   预计 年内 旅客 吞吐量 将 突破 千万人次'"
      ]
     },
     "execution_count": 89,
     "metadata": {},
     "output_type": "execute_result"
    }
   ],
   "source": [
    "news_content[document_id_1]"
   ]
  },
  {
   "cell_type": "code",
   "execution_count": 90,
   "metadata": {},
   "outputs": [
    {
     "data": {
      "text/plain": [
       "'原 标题   外卖 平台 为何 出现   克隆 店   麻辣烫 店 号称   望京 小腰   外卖 平台 上 有 15 家店 自称   望京 小腰   这家   望京 小腰   店铺 只有 5 平方米   同样 是   望京 小腰   店内 出品 和 外卖 平台 订餐 的 口味 却 大相径庭   背后 实际 暗藏   玄机   北京青年报 记者 调查 发现   一些 店铺 以   望京 小腰   的 名义   在 外卖 平台 注册   并 出售 烤串 制品   部分   克隆 店   蜷缩   在 其他 店面 一角   以   店中店   形式 运营   通过 外卖 平台   出货   店内 卫生条件 不容乐观   此外   北青报 记者 体验 发现   部分 外卖 平台 上   店铺 名称 可 自行 填写   客观 上 为   克隆 店   创造 了 机会   知名 老店   望京 小腰   则 回应 称   未 在 外卖 平台 开店   和 外卖 商家 也 不 存在   加盟   关系   一名 工作人员 表示   由于   望京 小腰   商标 被 别人 抢注   导致 其 在 遭遇 类似   克隆 店   时   维权 存在 困境   现象   外卖 平台 上 多家   望京 小腰   味道 遭 食客 吐槽   夏天   喝酒 吃串 成为 不少 人 的 夜宵 首选   外卖 平台 则 提供 了 更 多 便利   但 同样 是   望京 小腰   在 外卖 平台 和 美食 推荐 上 的 口碑 却 两极分化   多位 市民 称   通过 外卖 平台 点餐 的   望京 小腰   吃 起来   不对劲   和 之前 吃 的 完全 不 一样   串儿 老   涩   腥   硬   拿到 这份 锡纸 包装 的   望京 小腰   外卖 烧烤   唐鑫   化名   尝 了 之后 忍不住 抱怨   并 给 了 差评   唐鑫 告诉 北青报 记者   之前 在 望京 吃 过   望京 小腰   烧烤   串儿 新鲜   调料 味道 也 适中   而 外卖 平台 上 标注 是 分店 的 这家 烧烤   肉质 不 新鲜   东西 要么 太咸   太腥   要么 没味儿   感觉 不像 一家 店 的 东西   和 唐鑫 有 同样 疑问 的 买家 不在少数   外卖 平台 上   一家 标注 为   望京 小腰   新 美食街   的 店铺 下   有 买家 直言   没 注意 选错 店 了   怪不得 和 以往 点 的 样子 和 味道 都 不 一样   而 在 另一家   望京 小腰   东单 店   的 店铺 评论 里   有 买家 怀疑 东西 不 新鲜   导致   半夜 狂 拉肚子   而   望京 小腰   团结湖   店 的 评论 区   有 多名 买家 评价 称   有股 臭味   并 疑问   这是 真的 望京 小腰 吗   一时间   外卖 平台 上 的 一些   望京 小腰   遭遇 口碑   滑铁卢   这 与 美食 推荐 上 获得 四星 好评 的   望京 小腰   店   判若 两家   探访   多家 外卖   望京 小腰   招牌 与 实际 名称 不符   北青报 记者 在 饿 了 么   美团 外卖 和 百度 外卖 平台 检索   望京 小腰   发现 有 超过 15 家店 使用   望京 小腰   分店   的 名称   其中   多名 商家 还 使用 了 黑底 黄框 印有   望京 小腰   字样 的 图片   作为 招牌 照片   按照 外卖 平台 上 留下 的   望京 小腰   多家 分店 地址   北青报 记者 随机 进行 探访   在 地址 为 朝阳区 金台里 的 一家   分店   前   北青报 记者 注意 到   店铺 招牌 名称 为 某某 串 吧   望京 小腰   则 和   海鲜 小炒   并列   位于 招牌 名称 下方   字样 较 小   北青报 记者 询问 老板   是否是 正宗 的   望京 小腰   烧烤店   老板 回应 称   自己 多年 前 曾 在 望京 那片 摆过 烧烤 摊   后来 搬到 了 这里   最早 我们 家 就是 有 小串 腰子 的   但 对 是否 正宗 的 问题 避而不谈   北青报 记者 注意 到   这家 店 的 纸质 菜单 上   显示 的 是 某某 串 吧 的 名字   望京 小腰   仅 是 其中 一个 特色菜   随后   北青报 记者 探访 了 团结湖 店 的   望京 小腰   观察 发现   这家 烧烤店 发放 给 食客 的 纸质 菜单 上   写 着   酷爱 烧烤   而 非   望京 小腰   更 蹊跷 的 是   这家 烧烤店 的 实体 菜单 上 没有 名为   望京 小腰   的 菜品   而 外卖 平台 的 菜单 中 却 有   望京 小腰   一串 售价 3 元   5 串折 后价 14   8 元   但 烧烤 店老板 一再强调   自己 家 是 正宗 的   望京 小腰   我们 是 望京 小腰 老店 的 加盟店   烤 的 串 和 调料 都 是从 望京 总店 拿 的   至于 总店 全称 和 具体位置   为何 菜单 上 写 着   酷爱 烧烤   老板 并未 做出 解释   细节   有 外卖   望京 小腰   使用 麻辣烫 店 营业执照   探访 发现   这家 外卖 平台 上 名为   望京 小腰   店   的 店铺   实际上   蜷缩   在 一家 麻辣烫 店铺 的 一角   占地面积 约 5 平方米   呈 倒   L   型   门 在 麻辣烫 店里   开 了 一个 窗口 朝向 马路   窗口 上方 挂 着   望京 小腰   的 招牌   北青报 记者 注意 到   在 外卖 平台   商家   信息 中   这家   望京 小腰   使用 的 是 麻辣烫 店 的 营业执照   展示 的 堂 食 店铺 门头照 也 和 实际 不同   麻辣烫 店老板 介绍   他 和 烧烤店 是 两家 店   我们 租 了 一块 地方 给 他们 做 烧烤   他们   做 烧烤 的   基本上 下午 5 点半 之后 才 会 营业   只 送 外卖   6 月 16 日晚 8 时许   北青报 记者 再次 来到   望京 小腰   店   看到 窗口 外围 聚 了 数名 外卖 平台 的 送 餐员   等待 取餐   烧烤店 内   两名 青年 男子   一人 赤膊   手 拿 多份 订单 配置 菜品   刷油   撒 调料   另一人 背身 在 烧烤 架上 烤制 菜品   食物 烤 好 后   赤膊 男子 用 锡纸 包裹 好   外面 套上 纸袋 和 塑料袋   递给 送 餐员   北青报 记者 询问 老板 可否 堂食   老板 答复 称   可以   但是 要 借用 麻辣烫 店内 桌椅   北青报 记者 观察 发现   这家 占地约 5 平方米 的 狭小 店内   摆放 有 冰柜   微波炉   放着 串 好 的 肉 串   蔬菜 的 多层 架子   地上 油污   纸质 订单   一次性 塑料袋   空瓶 遍布   微波炉   烧烤 架上 也 布满 油渍   而 窗口 外 的 一辆 电动车 后座   放着 一 塑料箱 串好 的 生肉 串   肉串 周围 有蝇 虫 在 飞   疑问   外卖 平台 的   克隆   店铺   如何 通过 审核   据 媒体 此前 报道   获得 众多 明星 食客 和 美食 网站 好评 的   望京 小腰   老店   实际上 已有 20 年 品牌 历史   目前 有 四家 分店   第一家 店 位于 望京   18 日   北青报 记者 以 食客 身份   询问 商家 是否 在 外卖 平台 上 开设 多家 分店   对方 表示   他们 没有 在 外卖 平台 上开 过店   也 不 存在 和 外卖 商家 有   加盟   关系   我们 也 接到 好多 食客 打 来 电话 抱怨   说点 的 外卖 和 堂 食 的 味道 不 一样   觉得 被 骗 了   但 实际上 只是 外卖 商家 用 了 我们 的 名字 和 门店 照片   误导 了 大家   考虑 到 肉质 口感   我们 现在 只有 堂食   没有 外卖   对于 部分 外卖 商家 克隆   望京 小腰   店名   使用 该店 招牌 照片 进行 宣传   相关 负责人 表示   他们 也   没有 办法   我们   现在 只能 算是 口口相传 的 老店   因为   望京 小腰   四个 字 的 商标 已经 被 别人 抢注   所以 我们 也 没有 办法 进行 维权   外卖 店铺 名称 和 实体 店铺 名称 不 一致   平台 上 展示 的 堂 食 照片 和 实体店 不同   外卖 平台 上 出现 的 这些   克隆   店   是 如何 通过 审核 的   近日   北青报 记者 以 商家 身份   致电 几 大 外卖 平台   客服 人员 均 表示   先 在 网站 上 提交 营业执照 和 食品 经营 许可证 资料   通过 机器 审核 后   后期 会 有 区域 销售 经理 与 商家 联系   此前   北青报 记者 曾 在 一 外卖 平台 提交 过 相关 资料   并 成功 注册 店铺   发现   店铺 名称   一项 内容 可以 随意 填写   此外   北青报 记者 近日 致电 多家 克隆   望京 小腰   的 外卖 店铺   多名 商家 回忆 称   在 外卖 平台 上 注册   望京 小腰   分店   不 需要 提交 什么 材料   自己 填就行   平台 和 经理 也 不会 专门 要 你   提供   证明   但 有 客服 人员 表示   后期 会 安排 销售 经理   到 店 查看   具体 查看 提交 的 证照   实体店 与 外卖 平台 上 的 堂 食 照片 是否 一致 等 信息'"
      ]
     },
     "execution_count": 90,
     "metadata": {},
     "output_type": "execute_result"
    }
   ],
   "source": [
    "news_content[document_id_2]"
   ]
  },
  {
   "cell_type": "code",
   "execution_count": 91,
   "metadata": {},
   "outputs": [],
   "source": [
    "vector_of_d_1 = X[document_id_1].toarray()[0]"
   ]
  },
  {
   "cell_type": "code",
   "execution_count": 92,
   "metadata": {},
   "outputs": [
    {
     "data": {
      "text/plain": [
       "(array([ 392,  930,  955, 1217, 1458, 1539, 1601, 1647, 1806, 2028, 2462,\n",
       "        2467, 2817, 2835, 2874, 2919, 3066, 3231, 3294, 3309, 3350, 3548,\n",
       "        3857, 4234, 4277, 4689, 4804, 4837, 4926, 5489, 5497, 5547, 5549,\n",
       "        5605, 5653, 5881, 5931, 6078, 6236, 6667, 6748, 7188, 7193, 7512,\n",
       "        7693, 8161, 8162, 8163, 8167, 8284, 8541, 8569, 8685, 8873, 9060,\n",
       "        9125, 9160, 9242, 9323, 9378, 9429, 9466, 9473, 9636, 9657, 9702,\n",
       "        9745, 9795, 9831], dtype=int64),)"
      ]
     },
     "execution_count": 92,
     "metadata": {},
     "output_type": "execute_result"
    }
   ],
   "source": [
    "np.where(vector_of_d_1) "
   ]
  },
  {
   "cell_type": "code",
   "execution_count": 93,
   "metadata": {},
   "outputs": [],
   "source": [
    "vector_of_d_2 = X[document_id_2].toarray()[0]"
   ]
  },
  {
   "cell_type": "code",
   "execution_count": 94,
   "metadata": {},
   "outputs": [],
   "source": [
    "random_choose = random.randint(0, 1000)"
   ]
  },
  {
   "cell_type": "code",
   "execution_count": 95,
   "metadata": {},
   "outputs": [
    {
     "data": {
      "text/plain": [
       "341"
      ]
     },
     "execution_count": 95,
     "metadata": {},
     "output_type": "execute_result"
    }
   ],
   "source": [
    "random_choose"
   ]
  },
  {
   "cell_type": "code",
   "execution_count": 96,
   "metadata": {},
   "outputs": [
    {
     "data": {
      "text/plain": [
       "'2004 年 的 10 月 24 日   老 特拉福德   曼联 2   0 击败 阿森纳   也 终结 了 对手 49 场 不败 的 纪录   整场 比赛 的 气氛 都 非常 火爆   赛后 的 球员 通道 内   阿森纳 球员 将 一块 披萨 扔 到 了 弗格森 的 身上   英国 媒体 将 这场 比赛 戏称 为 Battle   of   the   Buffet   自助餐 大战   近日   镜报   也 回忆 了 那场 比赛 的 趣事   镜报   文章 摘译   弗格森 爵士 在 他 的 曼联 生涯 中 经历 了 很多 不可思议 的 事情   但是 没有 任何 一件 比 那 一天 被 披萨 攻击 更 疯狂 了   2004 年 10 月 24 日   曼联 和 阿森纳 之间 那场 著名 的   The   Battle   of   the   Buffet   阿森纳 期待 着 击倒 曼联   实现 50 场 不败   一些 阿森纳 球员 甚至 在 外衣 里面 穿着 一件 带有 50 字样 的 T恤   鲁尼说   比赛 的 那 一 整周   阿森纳 都 在 热炒 在 老 特拉福德 达成 50 场 不败 会 有 多么 伟大   那 是 个 巨大 的 错误   这 点燃 了 我们 的 斗志   50 场 不败   在 我们 的 地盘   没门   这 给 比赛 定下 了 火爆 的 基调   无论是 场上 还是 场下   凭借 范尼和鲁尼 的 进球   曼联 2   0 击败 了 阿森纳   比赛 就 已经 非常 火爆 了   但是 真正 有趣 的 事情 发生 在 球员 们 离开 球场 后   他们 在 球员 通道 里 互相 推搡   咒骂 和 喊叫   当 一块 披萨 从 阿森纳 的 更衣室 被 扔 到 走廊 时   一切 都 乱了套 了   阿森纳 左后卫 阿什利   科尔 回忆   披萨 从 我 的 脑袋 上飞 了 过去   击中 了 弗格森   所有人 都 看到 披萨 从 他 的 脸上 滑下来   滚落 到 了 他 的 衣服 上   弗格森 后来 在 自传 中 写道   他们 说 是 法布雷 加斯 干 的   但是 我 至今 仍然 不 知道 罪魁祸首 到底 是 谁   马尔科'"
      ]
     },
     "execution_count": 96,
     "metadata": {},
     "output_type": "execute_result"
    }
   ],
   "source": [
    "news_content[random_choose]"
   ]
  },
  {
   "cell_type": "code",
   "execution_count": 97,
   "metadata": {},
   "outputs": [],
   "source": [
    "from scipy.spatial.distance import cosine"
   ]
  },
  {
   "cell_type": "code",
   "execution_count": 98,
   "metadata": {},
   "outputs": [],
   "source": [
    "def distance(v1, v2): return cosine(v1, v2)"
   ]
  },
  {
   "cell_type": "code",
   "execution_count": 99,
   "metadata": {
    "scrolled": true
   },
   "outputs": [
    {
     "data": {
      "text/plain": [
       "0.0"
      ]
     },
     "execution_count": 99,
     "metadata": {},
     "output_type": "execute_result"
    }
   ],
   "source": [
    "distance([1, 1], [2, 2])"
   ]
  },
  {
   "cell_type": "code",
   "execution_count": 100,
   "metadata": {},
   "outputs": [
    {
     "data": {
      "text/plain": [
       "0.9976830320186671"
      ]
     },
     "execution_count": 100,
     "metadata": {},
     "output_type": "execute_result"
    }
   ],
   "source": [
    "distance(X[random_choose].toarray()[0], X[document_id_1].toarray()[0])# 判断两段文本的相关性"
   ]
  },
  {
   "cell_type": "code",
   "execution_count": 101,
   "metadata": {},
   "outputs": [
    {
     "data": {
      "text/plain": [
       "0.9874527904070562"
      ]
     },
     "execution_count": 101,
     "metadata": {},
     "output_type": "execute_result"
    }
   ],
   "source": [
    "distance(X[random_choose].toarray()[0], X[document_id_2].toarray()[0])"
   ]
  },
  {
   "cell_type": "code",
   "execution_count": 102,
   "metadata": {},
   "outputs": [
    {
     "data": {
      "text/plain": [
       "'点击 图片 进入 下 一页   庭审 现场   李小华   摄   中新网 自贡 6 月 23 日电   刘刚   李小华   叶 卫东   23 日 下午   四川 自贡市 中级 人民法院 集中 公开 宣判 了 4 起 毒品 案件   毒品 总量 约 为 15890 克   涉案 被告人 16 人   其中   判处 无期徒刑 2 人   十年 以上 有期徒刑 5 人   据悉   目前   自贡市 制造 毒品 案件 增长 较 快且 数量 大   仅 今年 上半年   就 破获 3 件 制造 毒品 数量 巨大 的 案件   自贡市 中院 新闻 发言人 在 随后 召开 的 新闻 通气会 上 披露   2016 年 6 月 到 2017 年 5 月   全市 两级 法院 共 审理 毒品 犯罪案件 213 件   涉案 被告人 250 人   同比 上升 11   和 14   其中   贩卖   运输 案件 117 件   涉案 被告人 132 人   制造 毒品 案件 18 件   涉案 被告人 31 人   非法 持有 毒品   容留 他人 吸毒 案件 78 件   涉案 被告人 89 人   点击 图片 进入 下 一页   据介绍   自贡市 毒品 主要 来源于 国外   国内 两条 线路   国外 主要 是 老挝   缅甸   国内 主要 是 广东   云南   此外   近年来 出现 的 新型 毒品 也 造成 了 极大 的 社会 危害'"
      ]
     },
     "execution_count": 102,
     "metadata": {},
     "output_type": "execute_result"
    }
   ],
   "source": [
    "news_content[320]"
   ]
  },
  {
   "cell_type": "code",
   "execution_count": 103,
   "metadata": {},
   "outputs": [
    {
     "data": {
      "text/plain": [
       "'央广网 西安 6 月 19 日 消息   记者 雷恺   陕西省 今年 将 招录 250 名 中央财政 支持 中西部 农村 订单 定向 免费 本科 医学生   其中 临床医学 200 名   中医学 50 名   培养 计划 重点 向 贫困地区   革命 老区 倾斜   据介绍   国家 免费 医学生 只 招收 农村 学生   报考者 须 同时 具备 两个 条件   一是 已 参加 2017 年 陕西省 普通高校 招生 考试 报名   二是 本人 及 父亲 或 母亲 或 法定 监护人 户籍地 须 在 陕西省 农村   本人 具有 当地 连续 3 年 以上 户籍   国家 免费 医学生 录取 后   获得 入学 通知书 前   须 与 培养 高校 和 定向 就业 所在地 的 县级 卫生 计生   人力资源 社会保障 行政部门 签署 统一 制式 的 定向培养 和 就业 协议   承诺 毕业 后 到 有关 基层 医疗卫生 机构 服务 6 年   含 3 年 全科 专业 住院医师 规范化 培训   未 按 入学 前 签署 的 协议 规定 履约 的   退还 已 减免 的 教育 培训 费用   生活 补助 和 以上 费用 50   的 违约金   履约 情况 纳入 医师 诚信 管理   公布 违约 记录   并 记入 人事档案   国家 免费 医学生 毕业 后 拒绝 履约 的   5 年内 不得 应聘 全省 行政 范围 内 的 各级 各类 事业单位   免责 声明   本文 仅 代表 作者 个人观点   与 环球网 无关   其 原创性 以及 文中 陈述 文字 和 内容 未经 本站 证实   对 本文 以及 其中 全部 或者 部分 内容   文字 的 真实性   完整性   及时性 本站 不 作 任何 保证 或 承诺   请 读者 仅作 参考   并 请 自行 核实 相关 内容'"
      ]
     },
     "execution_count": 103,
     "metadata": {},
     "output_type": "execute_result"
    }
   ],
   "source": [
    "news_content[72]"
   ]
  },
  {
   "cell_type": "code",
   "execution_count": 104,
   "metadata": {},
   "outputs": [
    {
     "data": {
      "text/plain": [
       "'央广网 烟台 6 月 19 日 消息   记者 刘颖超   通讯员 蒋毅   牟 辰龙   6 月 17 日 下午   山东 烟台 系山 边防 派出所 民警 来到 荣成市 寻 山镇   将 涉嫌 非法拘禁 的 犯罪 嫌疑人 曲某 抓获   至此   4 名 涉嫌 非法拘禁 的 犯罪 嫌疑人 已 全部 落网   据 了解   家住 龙湖 葡 醍 海湾 小区 的 夏 某于 6 月 15 日 上午 带 儿子 外出 期间   在 其 地下 车库 被 四名 从 威海 荣成 赶来 要账 的 鞠 某 等 四人 截住   鞠某 以夏 某 拖欠 工程款 为 由   要求 与 夏 某 找个 地方 好好 谈谈   但 夏 某 不 认为 自己 拖欠 鞠某 等 人 工程款   且 有 法院 判决   遂 拒 不 配合   鞠某 等 人 情绪 激烈   强行 将 夏 某 拖拽 到 车上   并 对 夏 某 进行 殴打   要求 夏某 配合 他们 找 地方 谈 拖欠 工程款 的 问题   鞠某 等 人 驱车 强行 将 夏 某 带到 了 威海 经济 技术开发区   但 看到 躺 在 车 后排 的 夏 某 一直 处于 迷糊 状态   心中 也 产生 了 担忧   于是 又 驱车 从 威海 将 鞠 某 送回 了 烟台市 牟平区 龙湖 葡 醍 海湾 小区   此时   山东 烟台 系山 边防 派出所 民警 正 对照 监控 逐个 排查 外地 可疑 车辆   看到 鞠某 等 人 驱车 返回   遂 传唤 到 派出所 接受 调查   经 询问   曲某 在 乘车 到达 威海 时 就 已 下车   而 鞠 某 等 人 以为 这次 来 牟平 只是 单纯 要账   没想到 自己 的 行为 却 触犯 了 刑法 有关 规定   他们 对 自己 不 懂法 的 行为 后悔不已   目前   鞠某 等 人 因涉嫌 非法拘禁 罪 被 公安机关 依法 刑事拘留   免责 声明   本文 仅 代表 作者 个人观点   与 环球网 无关   其 原创性 以及 文中 陈述 文字 和 内容 未经 本站 证实   对 本文 以及 其中 全部 或者 部分 内容   文字 的 真实性   完整性   及时性 本站 不 作 任何 保证 或 承诺   请 读者 仅作 参考   并 请 自行 核实 相关 内容'"
      ]
     },
     "execution_count": 104,
     "metadata": {},
     "output_type": "execute_result"
    }
   ],
   "source": [
    "news_content[85]"
   ]
  },
  {
   "cell_type": "code",
   "execution_count": 105,
   "metadata": {
    "scrolled": true
   },
   "outputs": [
    {
     "data": {
      "text/plain": [
       "'原 标题   武汉 警方 一下子 抓 了 808 人   还 都 是 俊男靓女   原来 他们 每天 偷偷摸摸 干 这事   武汉 警方 一下子 抓 了 808 人   还 都 是 俊男靓女   原来 他们 每天 偷偷摸摸 干 这事   大家 还 记得 今年 4 月 光谷 曾 发生 的 一件 大事 吗   当时 微博 和 朋友圈 上 都 传 疯 了   说 是 光谷 国际 广场 大量 白领 被捕   现场 手铐 都 不够 用   结果 经 记者 深入调查 后 发现   这些 被 抓 的 并 不是 网传 的   白领   而是 一个 有 282 名 涉案人员 的 诈骗 团伙   天呐   接近 300 人 的 犯罪团伙   你 以为 这个 数字 已经 够 庞大 了 吗   错   还有 让 你 更 震惊 的   据 武汉市公安局 通报   6 月 9 日   警方 在 武汉三镇 的 10 处 窝点 内   抓获 了 808 名 嫌疑人   而且 令人 大跌眼镜 的 是   他们 当中 大多 都 是 年青人   用   俊男靓女   来 形容 也 不为过   年纪 不 大   外形 不差   那么 到底 是 犯 了 什么 事 呢   其实 说 起来   这 事 估计 绝大多数 人 都 碰到 过   那 就是 网络 诈骗   涉案 电脑 800 余台   手机 2000 余部   银行卡 3000 余张   因为 涉及 的 账户 太 多   涉案 金额 目前 还 没 统计 出来   这是 全国 涉案人 数最多 的 一起 特大 网络 诈骗案   这些 惊人 的 数字 背后   究竟 藏 着 什么样 的 秘密   警方 把 他们 一锅端 了   今年 4 月   武汉 警方 获悉 在 塔子 湖 地区 有 电信 网络 诈骗 活动   经过 2 个 多月 的 秘密 侦查   发现 了 一个 特大 网络 诈骗 犯罪团伙   原来 该 团伙 利用 非法 互联网 金融 平台   实施 推荐 股票   炒 期货 等 诈骗   其 10 处 窝点 散布 在 江岸   洪山   东湖 高新   硚口   江汉 等 5 个区 的 写字楼 内   涉案人员 多达 800 余名   6 月 9 日 上午   武汉 警方 组织 了 1000 余名 警力   分成 14 个 抓捕 组   同时 对 首脑 分子 和 10 处 窝点 实施 了 突击 抓捕 行动   目前   警方 已 依法 刑事拘留 411 人   对 45 人 取保候审   该案 还 在 进一步 调查 中   他们 是 如何 进行 诈骗 的   人数 众多 的 这个 诈骗 组织 是 怎么样 进行 人员 分工   又 是 如何 一步步 引 受害人 上钩 的 呢   2015 年 以来   该 犯罪团伙 以 投资 组建 的 某 集团公司 为 总部   旗下 成立 多家 分公司   子公司   设立 人事部   财务部   行政部 等 机构 部门   分为 经理   分析师   业务 小组长   业务员 等 组织 层级   在 网上 发布 招聘 信息 招揽   培训 业务员   依托 虚构 的 互联网 金融 平台   通过 业务员 散布   有 内幕消息   等 虚假 信息   引诱 受害人 加入 专门 的 QQ 群   微信群   再 由 所谓 的   证券公司 资深 分析师   和   经理   逐个 联系 受害人   引诱 受害人 交易 股票   期货   贵金属   外汇 等 金融 产品   受害人 若 获利 则 按   五五   六四   分成   若 亏损 则 拉入   黑名单   不再 联系   网友 热评   李晓猫 不吃 鱼   在 人 信汇 写字楼 面试 过 一个 这种 工作   一听 不对劲 就 撤 了   说 不 适合 我   我 嘴巴 笨   习惯 就 好 33xxzz   八百多 人   可能 相当 部分 人 都 不大清楚 自己 到底 是 啥 性质 工作 吧   刑法 守望者   要 警惕 了   普法   各种 工作 都 要 预防 法律 风险   要 做 个 明白人   不是 什么 钱 都 可以 拿   尤其 是 从事 金融   保险   银行   财务 的 人员   不 小心 就 触犯 刑法   童颜 永 在   心理医生   盘 在 写字楼 内 的 诈骗 公司   以 高薪 招聘 业务人员 为 诱饵   实行 诈骗 的 顽疾   终于 被 揣 掉 了   你 的 渔船   联系 一下 自己 的 朋友   看 有 多少 个 被 抓 了   The   former   degrees   招聘 平台 和 销售 会上 百分之八十 就是 这种 工作   从 源头 抓起   防止 更多人 受伤   宇宇家 的 小 仙女   恐怖   进 了 一个 星期 发现 不太 对劲   这 尼玛 是 让 我 骗人 啊   赶紧 自己 跑 路 了   z _ 路 漫漫   我 做 过   后来 听说 公司 跑 路 了   睡 不 饱 怎么办 啊 小铭大   我 都 面试 过 这种 工作   还 培训 了 几天   话术 一看 就 的 套路 骗   果断 闪 人   这种 公司 太多 了   遗忘 的 金 叶子   碰到 这样 的 骗子 找 我们 做 视频   最后 被 我 打电话 骂 了 一顿   a 一元复始 c   还有 那些 天天 电话 骚扰 别人 信贷 的   卖房 的   卖 邮票 的   发票 的 社会 生活 中 一不留神 就 会 被 坑   所以 活着 需要 理智   笑 看 世间 丑 2448337651   这 是 在 路上 发骗 广告 搞 高利贷 的 那些 互联网 金融公司 吗   未来 温暖 的 时光 属于 自己   金融 港   街道口 都 是 这些   好多 同学 刚刚 毕业 都 去 做 过   都 是 网上 投 简历   这些 公司 就 猛 联系 你   其实 好多 都 不 知道 这是 骗人 的 吧   有 强迫症 的 天蝎座 怪 咖   吓 到 我 了   冉冉 的 彗星 是 个 宝   早上 还 接到 说 做 期货   霖心 金鱼 And 张蒙   都 不敢 去 找 工作 了   蒋 妈妈 1   5   刚回到 武汉   准备 找份 工作   看 网上 好多 这种 招聘 的   感觉 像 骗人 的   都 不 看 的   看 了 网友 的 评论   小编 只有 一个 感觉   找 工作 时 一定 要 擦亮 双眼   不要 因为 一时 疏忽   而 给 自己 的 生活 抹 上 污点   俗话说   知己知彼 百战不殆   弄清 网络 诈骗 的 常见 手法   才能 避免 上当受骗   下面 就 为 大家 奉上 防骗 攻略   遇到 诈骗 只 需 见招拆招   网络 防骗 攻略   电信 网络 诈骗 犯罪 往往 表现 为   六大 陷阱   1   物美价廉 的 网购 陷阱   2   推销产品 的 便利 陷阱   3   异性 交友 的 情感 陷阱   4   中奖 信息 的 惊喜 陷阱   5   冒充 国家 工作人员 的 恐吓 陷阱   6   钓鱼 网站 和 网上银行 的 迷惑 陷阱   下面 是 网络 诈骗 中 比较 常见 的 几种 类型   一起 学习 如何 防范   让 骗子 无处 遁形   1 虚假 红包 诈骗   临近 节日 时   各大 电商 平台 会以 派 发红包 的 形式   为 促销 活动 预热   有 不法分子 趁机 在 微信 朋友圈   微信 群 等 平台 中   派发 虚假 红包   诱骗 大家 点击   套取 个人信息   或 传播 木马病毒   盗取 银行账号   识骗 方法   慎点 此类 红包 领取 链接   如果 不 小心 点击   应 第一 时间 关闭 手机 网络   修改 网银   支付宝 等 重要 账户 密码   并 通过 安全软件 查杀 木马病毒   2 二维码 诈骗   抢购 高峰期   网页 打开 慢   网银 交易 出现 比较 迟钝 现象   有 不法分子 会 冒充 客服 或 店主   以 单子 出现   调单   卡单   等 说法 为 幌子   故意 说 没有 收到 款项 欺诈 消费者   取得 信任 后 要求 消费者 以 其他 办法 进行 转账   识骗 方法   消费者 要 注意   调单   卡单   激活 订单 等 多 为 诈骗 术语   见 此类 词语 基本 可以 断定 对方 是 骗子   没有 收到 款项 这样 的 问题   是 不会 在 东京   天猫 这样 的 大型 网络 购物 平台 出现 的   3 钓鱼 网站 诈骗   节假日 期间   公众 的 购物 热情高涨   假冒 正规 电商 官方网站   在线 支付 平台 等 的 钓鱼 网站 活动 频繁   消费者 在 忙于 浏览 各色 商品 页面 时   往往 容易 忽略 链接 的 安全性   从而 误入 诈骗 分子 发来 的 虚假 钓鱼 网站   识骗 方法   对 陌生人 发来 的 商品 链接 要 提高警惕   谨慎 打开   如遇 网络 诈骗 应 第一 时间 向 属地 公安机关 报案   并 向 举报中心 举报   4 虚假 客服 诈骗   抢购 高峰期   网页 打开 慢   网银 交易 出现 比较 迟钝 现象   有 不法分子 会 冒充 客服 或 店主   以 单子 出现   调单   卡单   等 说法 为 幌子   故意 说 没有 收到 款项 欺诈 消费者   取得 信任 后 要求 消费者 以 其他 办法 进行 转账   识骗 方法   消费者 要 注意   调单   卡单   激活 订单 等 多 为 诈骗 术语   见 此类 词语 基本 可以 断定 对方 是 骗子   没有 收到 款项 这样 的 问题   是 不会 在 东京   天猫 这样 的 大型 网络 购物 平台 出现 的   5 预购 诈骗   还有 不法分子 会以   提前 购   预售   为 诱饵 向 用户 发送 木马 链接   除了 网购 链接 被 植入 木马   钓鱼 网站   还有 不法分子 会 在   预售   活动 上 做文章   骗取 买家   定金   识骗 方法   慎点 不明 链接   有关 购物 短信 也 不要 轻信   同时 也 请 给 手机 装 上 杀毒软件   提供 安全 的 上网 环境   6 中奖 诈骗   购物 过后   很多 人会 陆陆续续 收到 一些 商家 的 中奖 信息   切记 不要 随意 拨打 中奖 信息 提供 的 电话号码 或 点击 发来 的 网站 链接 地址   很 可能 会 让 手机 或 电脑 感染 上 木马病毒   识骗 方法   收到 中奖 信息 后 留心 一下   看一看 你 所 购买 的 产品 中 有没有 这家 的 产品   然后 最好 能 在 天猫 店里 直接 和 卖家 联系 确认 消息   7 朋友圈 诈骗   由于 缺少 第三方 监管 平台   不法分子 会 在 朋友圈 发布 虚假 低价 购物 信息   骗取 消费者 汇款 购买   识骗 方法   朋友 圈里 的 销售 行为   存在 取证难   查处 难 的 问题   因此 建议 大家 在 朋友圈 买 东西 时   尽可能 选择 正规 第三方 支付 平台 进行 支付   避免 直接 支付   以 确保安全   8 快递 诈骗   不法分子 会 从 非法 渠道 获得 客户 信息   制作 假 的 快递 单   随后 冒充 快递 员 提前 联系 受骗者   把 虚假 货品 送到 消费者 手中   骗取钱财   识骗 方法   签收 包裹 前   务必 按 官方 的 信息 核实 对方 身份   并 确认 是否是 自己 的 包裹   在 取货 之后   一定 记得 把 自己 的 个人信息 从 包裹 上 完全 抹 去   避免 个人信息 泄露   9 退款 诈骗   不法分子 常 以   退款   或   退货   为 由 假扮 网店 客服   要求 消费者 点击 其 提供 的   钓鱼 网站   链接   盗取 持卡人 的 银行 密码 及 动态 验证码   识骗 方法   如果 接到 网上 购物 退款 的 电话 或 短信 等 信息   一定 要 谨慎 对待   切莫 泄露 银行卡 账号   户名   动态 验证码 等 个人信息   同时   提醒 大家   保护 好 自己 账户 信息   遇到 情况 一定 及时 报警   武汉 破 特大 网络 诈骗案 抓 808 人   以   内幕消息   骗人   6 月 12 日   武汉市公安局 向 澎湃 新闻 通报   该局 破获 一起 特大 网络 诈骗案   抓获 包括 卢某   熊某 等 8 名 首脑 分子 在内 的 涉案人员 808 名   查扣 涉案 电脑 800 余台   手机 2000 余部   银行卡 3000 余张   据悉   这是 全国 打击 利用 非法 互联网 金融 平台 实施 诈骗 犯罪 中   查获 涉案人 数最多 的 一起 案件'"
      ]
     },
     "execution_count": 105,
     "metadata": {},
     "output_type": "execute_result"
    }
   ],
   "source": [
    "news_content[8]"
   ]
  },
  {
   "cell_type": "code",
   "execution_count": 106,
   "metadata": {},
   "outputs": [
    {
     "name": "stderr",
     "output_type": "stream",
     "text": [
      "C:\\Users\\Ryan Wu\\Anaconda3\\lib\\site-packages\\scipy\\spatial\\distance.py:698: RuntimeWarning: invalid value encountered in double_scalars\n",
      "  dist = 1.0 - uv / np.sqrt(uu * vv)\n"
     ]
    },
    {
     "data": {
      "text/plain": [
       "[341,\n",
       " 316,\n",
       " 1126,\n",
       " 36,\n",
       " 81,\n",
       " 109,\n",
       " 83,\n",
       " 108,\n",
       " 93,\n",
       " 105,\n",
       " 116,\n",
       " 91,\n",
       " 119,\n",
       " 80,\n",
       " 110,\n",
       " 86,\n",
       " 102,\n",
       " 87,\n",
       " 82,\n",
       " 97,\n",
       " 98,\n",
       " 85,\n",
       " 115,\n",
       " 95,\n",
       " 84,\n",
       " 106,\n",
       " 94,\n",
       " 96,\n",
       " 114,\n",
       " 112,\n",
       " 101,\n",
       " 118,\n",
       " 90,\n",
       " 117,\n",
       " 92,\n",
       " 113,\n",
       " 89,\n",
       " 88,\n",
       " 99,\n",
       " 100,\n",
       " 103,\n",
       " 506,\n",
       " 200,\n",
       " 155,\n",
       " 369,\n",
       " 156,\n",
       " 352,\n",
       " 223,\n",
       " 499,\n",
       " 387,\n",
       " 396,\n",
       " 481,\n",
       " 558,\n",
       " 700,\n",
       " 509,\n",
       " 458,\n",
       " 197,\n",
       " 529,\n",
       " 467,\n",
       " 170,\n",
       " 778,\n",
       " 711,\n",
       " 1069,\n",
       " 180,\n",
       " 513,\n",
       " 354,\n",
       " 377,\n",
       " 976,\n",
       " 975,\n",
       " 983,\n",
       " 977,\n",
       " 972,\n",
       " 973,\n",
       " 967,\n",
       " 963,\n",
       " 979,\n",
       " 974,\n",
       " 996,\n",
       " 984,\n",
       " 981,\n",
       " 993,\n",
       " 989,\n",
       " 987,\n",
       " 992,\n",
       " 986,\n",
       " 965,\n",
       " 994,\n",
       " 985,\n",
       " 971,\n",
       " 968,\n",
       " 999,\n",
       " 998,\n",
       " 988,\n",
       " 982,\n",
       " 978,\n",
       " 991,\n",
       " 980,\n",
       " 962,\n",
       " 960,\n",
       " 961,\n",
       " 964,\n",
       " 966,\n",
       " 969,\n",
       " 970,\n",
       " 990,\n",
       " 995,\n",
       " 997,\n",
       " 1173,\n",
       " 484,\n",
       " 410,\n",
       " 1140,\n",
       " 1110,\n",
       " 162,\n",
       " 510,\n",
       " 520,\n",
       " 1256,\n",
       " 28,\n",
       " 144,\n",
       " 255,\n",
       " 48,\n",
       " 732,\n",
       " 834,\n",
       " 176,\n",
       " 798,\n",
       " 1215,\n",
       " 261,\n",
       " 139,\n",
       " 656,\n",
       " 289,\n",
       " 133,\n",
       " 616,\n",
       " 483,\n",
       " 754,\n",
       " 1252,\n",
       " 938,\n",
       " 1132,\n",
       " 243,\n",
       " 449,\n",
       " 161,\n",
       " 950,\n",
       " 253,\n",
       " 1049,\n",
       " 399,\n",
       " 881,\n",
       " 822,\n",
       " 498,\n",
       " 1200,\n",
       " 1063,\n",
       " 229,\n",
       " 470,\n",
       " 521,\n",
       " 1031,\n",
       " 1225,\n",
       " 574,\n",
       " 43,\n",
       " 77,\n",
       " 564,\n",
       " 257,\n",
       " 525,\n",
       " 703,\n",
       " 911,\n",
       " 686,\n",
       " 1116,\n",
       " 485,\n",
       " 751,\n",
       " 347,\n",
       " 1217,\n",
       " 147,\n",
       " 27,\n",
       " 333,\n",
       " 301,\n",
       " 209,\n",
       " 171,\n",
       " 283,\n",
       " 647,\n",
       " 818,\n",
       " 688,\n",
       " 454,\n",
       " 269,\n",
       " 1085,\n",
       " 643,\n",
       " 560,\n",
       " 673,\n",
       " 349,\n",
       " 759,\n",
       " 300,\n",
       " 371,\n",
       " 49,\n",
       " 361,\n",
       " 526,\n",
       " 531,\n",
       " 642,\n",
       " 175,\n",
       " 866,\n",
       " 198,\n",
       " 725,\n",
       " 644,\n",
       " 54,\n",
       " 166,\n",
       " 452,\n",
       " 492,\n",
       " 1168,\n",
       " 264,\n",
       " 226,\n",
       " 1212,\n",
       " 211,\n",
       " 196,\n",
       " 1125,\n",
       " 795,\n",
       " 617,\n",
       " 1228,\n",
       " 895,\n",
       " 299,\n",
       " 812,\n",
       " 315,\n",
       " 33,\n",
       " 1270,\n",
       " 886,\n",
       " 1021,\n",
       " 1192,\n",
       " 532,\n",
       " 218,\n",
       " 669,\n",
       " 534,\n",
       " 1026,\n",
       " 221,\n",
       " 824,\n",
       " 173,\n",
       " 1272,\n",
       " 856,\n",
       " 251,\n",
       " 1101,\n",
       " 1017,\n",
       " 69,\n",
       " 530,\n",
       " 127,\n",
       " 1121,\n",
       " 312,\n",
       " 140,\n",
       " 1268,\n",
       " 1175,\n",
       " 379,\n",
       " 852,\n",
       " 828,\n",
       " 536,\n",
       " 346,\n",
       " 259,\n",
       " 805,\n",
       " 504,\n",
       " 1260,\n",
       " 52,\n",
       " 418,\n",
       " 462,\n",
       " 624,\n",
       " 228,\n",
       " 907,\n",
       " 237,\n",
       " 538,\n",
       " 1203,\n",
       " 657,\n",
       " 1184,\n",
       " 1218,\n",
       " 614,\n",
       " 709,\n",
       " 821,\n",
       " 1135,\n",
       " 292,\n",
       " 855,\n",
       " 1161,\n",
       " 497,\n",
       " 1159,\n",
       " 495,\n",
       " 1263,\n",
       " 363,\n",
       " 286,\n",
       " 708,\n",
       " 22,\n",
       " 742,\n",
       " 384,\n",
       " 923,\n",
       " 699,\n",
       " 38,\n",
       " 597,\n",
       " 4,\n",
       " 921,\n",
       " 11,\n",
       " 517,\n",
       " 323,\n",
       " 372,\n",
       " 447,\n",
       " 609,\n",
       " 1077,\n",
       " 494,\n",
       " 364,\n",
       " 1112,\n",
       " 665,\n",
       " 535,\n",
       " 777,\n",
       " 500,\n",
       " 34,\n",
       " 1164,\n",
       " 157,\n",
       " 430,\n",
       " 533,\n",
       " 42,\n",
       " 925,\n",
       " 792,\n",
       " 360,\n",
       " 486,\n",
       " 755,\n",
       " 913,\n",
       " 785,\n",
       " 1061,\n",
       " 841,\n",
       " 240,\n",
       " 461,\n",
       " 195,\n",
       " 1230,\n",
       " 65,\n",
       " 21,\n",
       " 185,\n",
       " 7,\n",
       " 1198,\n",
       " 702,\n",
       " 1092,\n",
       " 13,\n",
       " 64,\n",
       " 1056,\n",
       " 1080,\n",
       " 1169,\n",
       " 415,\n",
       " 254,\n",
       " 1214,\n",
       " 1119,\n",
       " 507,\n",
       " 1186,\n",
       " 503,\n",
       " 436,\n",
       " 138,\n",
       " 918,\n",
       " 800,\n",
       " 294,\n",
       " 1117,\n",
       " 46,\n",
       " 321,\n",
       " 698,\n",
       " 819,\n",
       " 782,\n",
       " 1,\n",
       " 611,\n",
       " 478,\n",
       " 1153,\n",
       " 704,\n",
       " 919,\n",
       " 1012,\n",
       " 1022,\n",
       " 146,\n",
       " 491,\n",
       " 1095,\n",
       " 72,\n",
       " 297,\n",
       " 154,\n",
       " 1120,\n",
       " 206,\n",
       " 1020,\n",
       " 694,\n",
       " 172,\n",
       " 1137,\n",
       " 762,\n",
       " 929,\n",
       " 1032,\n",
       " 523,\n",
       " 489,\n",
       " 1179,\n",
       " 207,\n",
       " 692,\n",
       " 738,\n",
       " 15,\n",
       " 227,\n",
       " 429,\n",
       " 61,\n",
       " 271,\n",
       " 26,\n",
       " 1059,\n",
       " 885,\n",
       " 230,\n",
       " 748,\n",
       " 391,\n",
       " 479,\n",
       " 389,\n",
       " 31,\n",
       " 1267,\n",
       " 851,\n",
       " 441,\n",
       " 438,\n",
       " 475,\n",
       " 6,\n",
       " 1111,\n",
       " 645,\n",
       " 129,\n",
       " 246,\n",
       " 233,\n",
       " 955,\n",
       " 883,\n",
       " 663,\n",
       " 188,\n",
       " 1027,\n",
       " 421,\n",
       " 1205,\n",
       " 741,\n",
       " 1071,\n",
       " 1209,\n",
       " 1253,\n",
       " 959,\n",
       " 398,\n",
       " 463,\n",
       " 1073,\n",
       " 1194,\n",
       " 691,\n",
       " 488,\n",
       " 245,\n",
       " 730,\n",
       " 793,\n",
       " 910,\n",
       " 380,\n",
       " 953,\n",
       " 302,\n",
       " 234,\n",
       " 468,\n",
       " 202,\n",
       " 512,\n",
       " 440,\n",
       " 1086,\n",
       " 424,\n",
       " 527,\n",
       " 248,\n",
       " 736,\n",
       " 150,\n",
       " 836,\n",
       " 809,\n",
       " 142,\n",
       " 801,\n",
       " 930,\n",
       " 241,\n",
       " 789,\n",
       " 487,\n",
       " 1043,\n",
       " 1122,\n",
       " 291,\n",
       " 135,\n",
       " 1181,\n",
       " 192,\n",
       " 717,\n",
       " 1167,\n",
       " 336,\n",
       " 713,\n",
       " 400,\n",
       " 465,\n",
       " 1104,\n",
       " 1193,\n",
       " 1202,\n",
       " 190,\n",
       " 1040,\n",
       " 862,\n",
       " 179,\n",
       " 846,\n",
       " 268,\n",
       " 416,\n",
       " 932,\n",
       " 123,\n",
       " 412,\n",
       " 29,\n",
       " 897,\n",
       " 1103,\n",
       " 914,\n",
       " 366,\n",
       " 1070,\n",
       " 528,\n",
       " 745,\n",
       " 508,\n",
       " 459,\n",
       " 1191,\n",
       " 322,\n",
       " 697,\n",
       " 890,\n",
       " 502,\n",
       " 210,\n",
       " 395,\n",
       " 515,\n",
       " 5,\n",
       " 939,\n",
       " 690,\n",
       " 385,\n",
       " 906,\n",
       " 860,\n",
       " 646,\n",
       " 693,\n",
       " 472,\n",
       " 1036,\n",
       " 668,\n",
       " 1156,\n",
       " 660,\n",
       " 634,\n",
       " 35,\n",
       " 420,\n",
       " 18,\n",
       " 37,\n",
       " 837,\n",
       " 850,\n",
       " 238,\n",
       " 278,\n",
       " 807,\n",
       " 784,\n",
       " 588,\n",
       " 8,\n",
       " 592,\n",
       " 1102,\n",
       " 1107,\n",
       " 827,\n",
       " 184,\n",
       " 863,\n",
       " 413,\n",
       " 879,\n",
       " 493,\n",
       " 1076,\n",
       " 1064,\n",
       " 1190,\n",
       " 1219,\n",
       " 1089,\n",
       " 194,\n",
       " 501,\n",
       " 1258,\n",
       " 1016,\n",
       " 428,\n",
       " 892,\n",
       " 181,\n",
       " 623,\n",
       " 868,\n",
       " 249,\n",
       " 902,\n",
       " 780,\n",
       " 774,\n",
       " 20,\n",
       " 650,\n",
       " 50,\n",
       " 676,\n",
       " 124,\n",
       " 456,\n",
       " 1195,\n",
       " 678,\n",
       " 339,\n",
       " 675,\n",
       " 1148,\n",
       " 652,\n",
       " 1211,\n",
       " 727,\n",
       " 1243,\n",
       " 453,\n",
       " 120,\n",
       " 1000,\n",
       " 266,\n",
       " 1035,\n",
       " 466,\n",
       " 580,\n",
       " 307,\n",
       " 303,\n",
       " 935,\n",
       " 480,\n",
       " 126,\n",
       " 168,\n",
       " 667,\n",
       " 880,\n",
       " 1087,\n",
       " 1163,\n",
       " 1232,\n",
       " 414,\n",
       " 626,\n",
       " 685,\n",
       " 450,\n",
       " 260,\n",
       " 554,\n",
       " 898,\n",
       " 915,\n",
       " 1034,\n",
       " 505,\n",
       " 1226,\n",
       " 820,\n",
       " 546,\n",
       " 169,\n",
       " 947,\n",
       " 572,\n",
       " 941,\n",
       " 332,\n",
       " 476,\n",
       " 177,\n",
       " 393,\n",
       " 659,\n",
       " 1206,\n",
       " 1234,\n",
       " 1065,\n",
       " 849,\n",
       " 1257,\n",
       " 205,\n",
       " 769,\n",
       " 1266,\n",
       " 942,\n",
       " 342,\n",
       " 474,\n",
       " 905,\n",
       " 544,\n",
       " 1196,\n",
       " 773,\n",
       " 451,\n",
       " 844,\n",
       " 763,\n",
       " 0,\n",
       " 128,\n",
       " 408,\n",
       " 411,\n",
       " 423,\n",
       " 351,\n",
       " 842,\n",
       " 903,\n",
       " 568,\n",
       " 204,\n",
       " 330,\n",
       " 53,\n",
       " 1106,\n",
       " 1003,\n",
       " 122,\n",
       " 304,\n",
       " 425,\n",
       " 359,\n",
       " 224,\n",
       " 24,\n",
       " 1240,\n",
       " 772,\n",
       " 684,\n",
       " 545,\n",
       " 1166,\n",
       " 632,\n",
       " 909,\n",
       " 164,\n",
       " 1245,\n",
       " 651,\n",
       " 455,\n",
       " 490,\n",
       " 381,\n",
       " 1177,\n",
       " 1241,\n",
       " 148,\n",
       " 231,\n",
       " 1030,\n",
       " 750,\n",
       " 295,\n",
       " 814,\n",
       " 445,\n",
       " 677,\n",
       " 247,\n",
       " 212,\n",
       " 141,\n",
       " 30,\n",
       " 636,\n",
       " 1207,\n",
       " 781,\n",
       " 788,\n",
       " 373,\n",
       " 1067,\n",
       " 1139,\n",
       " 1224,\n",
       " 1255,\n",
       " 1033,\n",
       " 786,\n",
       " 872,\n",
       " 607,\n",
       " 739,\n",
       " 344,\n",
       " 1239,\n",
       " 797,\n",
       " 1236,\n",
       " 1160,\n",
       " 871,\n",
       " 840,\n",
       " 282,\n",
       " 1145,\n",
       " 661,\n",
       " 712,\n",
       " 340,\n",
       " 446,\n",
       " 783,\n",
       " 920,\n",
       " 674,\n",
       " 1259,\n",
       " 149,\n",
       " 152,\n",
       " 23,\n",
       " 225,\n",
       " 374,\n",
       " 908,\n",
       " 542,\n",
       " 174,\n",
       " 220,\n",
       " 186,\n",
       " 649,\n",
       " 242,\n",
       " 622,\n",
       " 744,\n",
       " 1002,\n",
       " 1105,\n",
       " 1197,\n",
       " 791,\n",
       " 876,\n",
       " 670,\n",
       " 272,\n",
       " 901,\n",
       " 723,\n",
       " 1237,\n",
       " 802,\n",
       " 405,\n",
       " 514,\n",
       " 1275,\n",
       " 1045,\n",
       " 571,\n",
       " 1151,\n",
       " 870,\n",
       " 945,\n",
       " 1165,\n",
       " 145,\n",
       " 277,\n",
       " 75,\n",
       " 464,\n",
       " 1038,\n",
       " 130,\n",
       " 590,\n",
       " 600,\n",
       " 1227,\n",
       " 343,\n",
       " 1262,\n",
       " 948,\n",
       " 477,\n",
       " 637,\n",
       " 628,\n",
       " 767,\n",
       " 635,\n",
       " 869,\n",
       " 1082,\n",
       " 326,\n",
       " 1249,\n",
       " 67,\n",
       " 1223,\n",
       " 19,\n",
       " 444,\n",
       " 894,\n",
       " 612,\n",
       " 516,\n",
       " 1046,\n",
       " 1115,\n",
       " 275,\n",
       " 1058,\n",
       " 916,\n",
       " 71,\n",
       " 813,\n",
       " 696,\n",
       " 348,\n",
       " 734,\n",
       " 409,\n",
       " 1129,\n",
       " 40,\n",
       " 460,\n",
       " 1054,\n",
       " 1057,\n",
       " 679,\n",
       " 305,\n",
       " 803,\n",
       " 1138,\n",
       " 551,\n",
       " 236,\n",
       " 864,\n",
       " 1242,\n",
       " 182,\n",
       " 1189,\n",
       " 1088,\n",
       " 443,\n",
       " 952,\n",
       " 796,\n",
       " 832,\n",
       " 496,\n",
       " 522,\n",
       " 318,\n",
       " 1142,\n",
       " 457,\n",
       " 1244,\n",
       " 1097,\n",
       " 252,\n",
       " 1149,\n",
       " 799,\n",
       " 1060,\n",
       " 1053,\n",
       " 1279,\n",
       " 66,\n",
       " 68,\n",
       " 1238,\n",
       " 1098,\n",
       " 1171,\n",
       " 358,\n",
       " 1261,\n",
       " 262,\n",
       " 1278,\n",
       " 153,\n",
       " 936,\n",
       " 1001,\n",
       " 1144,\n",
       " 1265,\n",
       " 310,\n",
       " 743,\n",
       " 831,\n",
       " 189,\n",
       " 1007,\n",
       " 311,\n",
       " 1247,\n",
       " 760,\n",
       " 375,\n",
       " 594,\n",
       " 591,\n",
       " 1133,\n",
       " 899,\n",
       " 437,\n",
       " 1013,\n",
       " 838,\n",
       " 435,\n",
       " 826,\n",
       " 1127,\n",
       " 274,\n",
       " 875,\n",
       " 1154,\n",
       " 309,\n",
       " 1277,\n",
       " 1199,\n",
       " 1029,\n",
       " 431,\n",
       " 1008,\n",
       " 1210,\n",
       " 729,\n",
       " 749,\n",
       " 1041,\n",
       " 1081,\n",
       " 201,\n",
       " 1050,\n",
       " 779,\n",
       " 627,\n",
       " 655,\n",
       " 44,\n",
       " 833,\n",
       " 1136,\n",
       " 718,\n",
       " 167,\n",
       " 1128,\n",
       " 1131,\n",
       " 1025,\n",
       " 1170,\n",
       " 267,\n",
       " 1093,\n",
       " 59,\n",
       " 1274,\n",
       " 1174,\n",
       " 1114,\n",
       " 367,\n",
       " 1213,\n",
       " 771,\n",
       " 56,\n",
       " 1096,\n",
       " 891,\n",
       " 835,\n",
       " 1254,\n",
       " 1083,\n",
       " 701,\n",
       " 541,\n",
       " 334,\n",
       " 715,\n",
       " 357,\n",
       " 281,\n",
       " 1176,\n",
       " 41,\n",
       " 1028,\n",
       " 285,\n",
       " 14,\n",
       " 550,\n",
       " 293,\n",
       " 569,\n",
       " 579,\n",
       " 861,\n",
       " 280,\n",
       " 1055,\n",
       " 12,\n",
       " 473,\n",
       " 825,\n",
       " 76,\n",
       " 1271,\n",
       " 1221,\n",
       " 566,\n",
       " 1158,\n",
       " 1183,\n",
       " 1251,\n",
       " 584,\n",
       " 1229,\n",
       " 949,\n",
       " 1019,\n",
       " 549,\n",
       " 70,\n",
       " 629,\n",
       " 858,\n",
       " 587,\n",
       " 1276,\n",
       " 222,\n",
       " 1187,\n",
       " 73,\n",
       " 547,\n",
       " 638,\n",
       " 922,\n",
       " 276,\n",
       " 270,\n",
       " 1250,\n",
       " 633,\n",
       " 1201,\n",
       " 829,\n",
       " 753,\n",
       " 752,\n",
       " 290,\n",
       " 735,\n",
       " 1208,\n",
       " 244,\n",
       " 62,\n",
       " 1018,\n",
       " 1024,\n",
       " 214,\n",
       " 74,\n",
       " 726,\n",
       " 382,\n",
       " 232,\n",
       " 1235,\n",
       " 199,\n",
       " 163,\n",
       " 433,\n",
       " 933,\n",
       " 689,\n",
       " 733,\n",
       " 1246,\n",
       " 160,\n",
       " 256,\n",
       " 328,\n",
       " 927,\n",
       " 613,\n",
       " 605,\n",
       " 376,\n",
       " 1079,\n",
       " 434,\n",
       " 422,\n",
       " 808,\n",
       " 706,\n",
       " 1216,\n",
       " 1172,\n",
       " 329,\n",
       " 511,\n",
       " 555,\n",
       " 756,\n",
       " 183,\n",
       " 16,\n",
       " 912,\n",
       " 716,\n",
       " 469,\n",
       " 747,\n",
       " 392,\n",
       " 191,\n",
       " 608,\n",
       " 563,\n",
       " 1248,\n",
       " 854,\n",
       " 524,\n",
       " 884,\n",
       " 1130,\n",
       " 658,\n",
       " 518,\n",
       " 1094,\n",
       " 158,\n",
       " 125,\n",
       " 815,\n",
       " 388,\n",
       " 60,\n",
       " 1068,\n",
       " 1072,\n",
       " 165,\n",
       " 724,\n",
       " 273,\n",
       " 776,\n",
       " 1100,\n",
       " 707,\n",
       " 680,\n",
       " 848,\n",
       " 439,\n",
       " 1108,\n",
       " ...]"
      ]
     },
     "execution_count": 106,
     "metadata": {},
     "output_type": "execute_result"
    }
   ],
   "source": [
    "sorted(list(range(10000)), key=lambda i: distance(X[random_choose].toarray()[0], \n",
    "                                      X[i].toarray()[0]))"
   ]
  },
  {
   "cell_type": "code",
   "execution_count": 107,
   "metadata": {},
   "outputs": [
    {
     "data": {
      "text/plain": [
       "18446744073709551616"
      ]
     },
     "execution_count": 107,
     "metadata": {},
     "output_type": "execute_result"
    }
   ],
   "source": [
    "2**64"
   ]
  },
  {
   "cell_type": "code",
   "execution_count": 108,
   "metadata": {},
   "outputs": [
    {
     "data": {
      "text/plain": [
       "'0b10011'"
      ]
     },
     "execution_count": 108,
     "metadata": {},
     "output_type": "execute_result"
    }
   ],
   "source": [
    "bin(19)"
   ]
  },
  {
   "cell_type": "code",
   "execution_count": 109,
   "metadata": {},
   "outputs": [
    {
     "data": {
      "text/plain": [
       "'0b110001'"
      ]
     },
     "execution_count": 109,
     "metadata": {},
     "output_type": "execute_result"
    }
   ],
   "source": [
    "bin(49)"
   ]
  },
  {
   "cell_type": "code",
   "execution_count": 110,
   "metadata": {},
   "outputs": [
    {
     "data": {
      "text/plain": [
       "'0b100110'"
      ]
     },
     "execution_count": 110,
     "metadata": {},
     "output_type": "execute_result"
    }
   ],
   "source": [
    "bin(38)"
   ]
  },
  {
   "cell_type": "code",
   "execution_count": 111,
   "metadata": {},
   "outputs": [
    {
     "data": {
      "text/plain": [
       "'0b100000'"
      ]
     },
     "execution_count": 111,
     "metadata": {},
     "output_type": "execute_result"
    }
   ],
   "source": [
    "bin(49 & 38)"
   ]
  },
  {
   "cell_type": "markdown",
   "metadata": {},
   "source": [
    "## Build Search Engine "
   ]
  },
  {
   "cell_type": "markdown",
   "metadata": {},
   "source": [
    "```\n",
    "Input: Words\n",
    "Output: Documents\n",
    "```"
   ]
  },
  {
   "cell_type": "code",
   "execution_count": 112,
   "metadata": {},
   "outputs": [],
   "source": [
    "def naive_search(keywords):\n",
    "    news_ids = [i for i, n in enumerate(news_content) if all(w in n for w in keywords)]\n",
    "    print(news_ids)\n",
    "    # O(D * w) \n",
    "    return news_ids"
   ]
  },
  {
   "cell_type": "code",
   "execution_count": 113,
   "metadata": {},
   "outputs": [
    {
     "name": "stderr",
     "output_type": "stream",
     "text": [
      "UsageError: Cell magic `%%timeit#这是执行很多次的时间` not found.\n"
     ]
    }
   ],
   "source": [
    "%%timeit#这是执行很多次的时间\n",
    "news_ids = naive_search('美军 司令 航母'.split())"
   ]
  },
  {
   "cell_type": "code",
   "execution_count": 114,
   "metadata": {
    "scrolled": true
   },
   "outputs": [
    {
     "name": "stdout",
     "output_type": "stream",
     "text": [
      "[2844, 21484, 21523, 21784, 21901, 22987, 33522, 33770, 34532, 34887, 37846, 38049, 38096, 45474, 45507, 87483, 88997]\n"
     ]
    }
   ],
   "source": [
    "news_ids = naive_search('美军 司令 航母'.split())"
   ]
  },
  {
   "cell_type": "code",
   "execution_count": 115,
   "metadata": {},
   "outputs": [
    {
     "data": {
      "text/plain": [
       "True"
      ]
     },
     "execution_count": 115,
     "metadata": {},
     "output_type": "execute_result"
    }
   ],
   "source": [
    "'美军' in news_content[2844]"
   ]
  },
  {
   "cell_type": "code",
   "execution_count": 116,
   "metadata": {},
   "outputs": [
    {
     "data": {
      "text/plain": [
       "True"
      ]
     },
     "execution_count": 116,
     "metadata": {},
     "output_type": "execute_result"
    }
   ],
   "source": [
    "'司令' in news_content[2844]"
   ]
  },
  {
   "cell_type": "code",
   "execution_count": 117,
   "metadata": {},
   "outputs": [
    {
     "data": {
      "text/plain": [
       "True"
      ]
     },
     "execution_count": 117,
     "metadata": {},
     "output_type": "execute_result"
    }
   ],
   "source": [
    "'航母' in news_content[2844]"
   ]
  },
  {
   "cell_type": "code",
   "execution_count": 118,
   "metadata": {},
   "outputs": [
    {
     "data": {
      "text/plain": [
       "89611"
      ]
     },
     "execution_count": 118,
     "metadata": {},
     "output_type": "execute_result"
    }
   ],
   "source": [
    "len(news_content)"
   ]
  },
  {
   "cell_type": "markdown",
   "metadata": {},
   "source": [
    "### Input word -> the documents which contain this word"
   ]
  },
  {
   "cell_type": "code",
   "execution_count": 119,
   "metadata": {},
   "outputs": [
    {
     "data": {
      "text/plain": [
       "(50000, 10000)"
      ]
     },
     "execution_count": 119,
     "metadata": {},
     "output_type": "execute_result"
    }
   ],
   "source": [
    "X.shape"
   ]
  },
  {
   "cell_type": "code",
   "execution_count": 120,
   "metadata": {},
   "outputs": [],
   "source": [
    "transposed_x = X.transpose().toarray()"
   ]
  },
  {
   "cell_type": "code",
   "execution_count": 121,
   "metadata": {},
   "outputs": [
    {
     "data": {
      "text/plain": [
       "(10000, 50000)"
      ]
     },
     "execution_count": 121,
     "metadata": {},
     "output_type": "execute_result"
    }
   ],
   "source": [
    "transposed_x.shape"
   ]
  },
  {
   "cell_type": "code",
   "execution_count": 122,
   "metadata": {},
   "outputs": [],
   "source": [
    "word_2_id = vectorized.vocabulary_"
   ]
  },
  {
   "cell_type": "code",
   "execution_count": 123,
   "metadata": {},
   "outputs": [
    {
     "data": {
      "text/plain": [
       "10000"
      ]
     },
     "execution_count": 123,
     "metadata": {},
     "output_type": "execute_result"
    }
   ],
   "source": [
    "len(word_2_id)"
   ]
  },
  {
   "cell_type": "code",
   "execution_count": 124,
   "metadata": {},
   "outputs": [
    {
     "data": {
      "text/plain": [
       "1216"
      ]
     },
     "execution_count": 124,
     "metadata": {},
     "output_type": "execute_result"
    }
   ],
   "source": [
    "word_2_id['今天']"
   ]
  },
  {
   "cell_type": "code",
   "execution_count": 125,
   "metadata": {},
   "outputs": [],
   "source": [
    "id_2_word = {d: w for w, d in word_2_id.items()}"
   ]
  },
  {
   "cell_type": "code",
   "execution_count": 126,
   "metadata": {},
   "outputs": [
    {
     "data": {
      "text/plain": [
       "'此外'"
      ]
     },
     "execution_count": 126,
     "metadata": {},
     "output_type": "execute_result"
    }
   ],
   "source": [
    "id_2_word[6195]"
   ]
  },
  {
   "cell_type": "code",
   "execution_count": 127,
   "metadata": {},
   "outputs": [
    {
     "data": {
      "text/plain": [
       "{0,\n",
       " 24582,\n",
       " 40973,\n",
       " 18,\n",
       " 32788,\n",
       " 32793,\n",
       " 32794,\n",
       " 24604,\n",
       " 29,\n",
       " 30,\n",
       " 31,\n",
       " 32796,\n",
       " 24609,\n",
       " 32800,\n",
       " 32802,\n",
       " 32803,\n",
       " 43,\n",
       " 32825,\n",
       " 70,\n",
       " 24658,\n",
       " 32859,\n",
       " 96,\n",
       " 101,\n",
       " 49253,\n",
       " 49255,\n",
       " 32875,\n",
       " 49264,\n",
       " 24689,\n",
       " 49266,\n",
       " 119,\n",
       " 24718,\n",
       " 150,\n",
       " 24728,\n",
       " 24729,\n",
       " 24731,\n",
       " 49307,\n",
       " 163,\n",
       " 165,\n",
       " 167,\n",
       " 170,\n",
       " 41131,\n",
       " 172,\n",
       " 49329,\n",
       " 178,\n",
       " 187,\n",
       " 190,\n",
       " 32959,\n",
       " 193,\n",
       " 195,\n",
       " 49357,\n",
       " 218,\n",
       " 238,\n",
       " 49393,\n",
       " 49397,\n",
       " 49407,\n",
       " 259,\n",
       " 261,\n",
       " 264,\n",
       " 265,\n",
       " 268,\n",
       " 270,\n",
       " 49425,\n",
       " 16662,\n",
       " 41245,\n",
       " 293,\n",
       " 24877,\n",
       " 303,\n",
       " 49455,\n",
       " 305,\n",
       " 49458,\n",
       " 320,\n",
       " 24897,\n",
       " 323,\n",
       " 326,\n",
       " 16712,\n",
       " 49481,\n",
       " 33110,\n",
       " 16727,\n",
       " 16729,\n",
       " 49498,\n",
       " 33115,\n",
       " 354,\n",
       " 359,\n",
       " 362,\n",
       " 364,\n",
       " 16755,\n",
       " 33143,\n",
       " 378,\n",
       " 33148,\n",
       " 381,\n",
       " 33149,\n",
       " 49535,\n",
       " 386,\n",
       " 41348,\n",
       " 394,\n",
       " 33162,\n",
       " 33165,\n",
       " 33166,\n",
       " 16787,\n",
       " 24983,\n",
       " 49566,\n",
       " 41376,\n",
       " 49572,\n",
       " 16806,\n",
       " 41383,\n",
       " 424,\n",
       " 425,\n",
       " 16808,\n",
       " 16818,\n",
       " 25011,\n",
       " 16822,\n",
       " 442,\n",
       " 25021,\n",
       " 16837,\n",
       " 456,\n",
       " 25035,\n",
       " 41419,\n",
       " 41423,\n",
       " 49617,\n",
       " 16850,\n",
       " 16853,\n",
       " 472,\n",
       " 476,\n",
       " 477,\n",
       " 33244,\n",
       " 41440,\n",
       " 16870,\n",
       " 25068,\n",
       " 49654,\n",
       " 504,\n",
       " 41466,\n",
       " 49658,\n",
       " 49660,\n",
       " 25086,\n",
       " 41470,\n",
       " 512,\n",
       " 25089,\n",
       " 16904,\n",
       " 41484,\n",
       " 527,\n",
       " 33297,\n",
       " 33300,\n",
       " 49685,\n",
       " 535,\n",
       " 539,\n",
       " 543,\n",
       " 544,\n",
       " 33315,\n",
       " 33318,\n",
       " 552,\n",
       " 553,\n",
       " 556,\n",
       " 33324,\n",
       " 25134,\n",
       " 559,\n",
       " 33328,\n",
       " 49711,\n",
       " 25141,\n",
       " 567,\n",
       " 568,\n",
       " 25144,\n",
       " 570,\n",
       " 16955,\n",
       " 16956,\n",
       " 33338,\n",
       " 575,\n",
       " 581,\n",
       " 49735,\n",
       " 49739,\n",
       " 590,\n",
       " 41560,\n",
       " 25182,\n",
       " 608,\n",
       " 33380,\n",
       " 49767,\n",
       " 49770,\n",
       " 49772,\n",
       " 49773,\n",
       " 49775,\n",
       " 626,\n",
       " 41586,\n",
       " 49778,\n",
       " 629,\n",
       " 25205,\n",
       " 631,\n",
       " 25211,\n",
       " 41602,\n",
       " 49795,\n",
       " 646,\n",
       " 650,\n",
       " 25227,\n",
       " 660,\n",
       " 25253,\n",
       " 694,\n",
       " 704,\n",
       " 25280,\n",
       " 709,\n",
       " 41670,\n",
       " 714,\n",
       " 715,\n",
       " 716,\n",
       " 721,\n",
       " 25298,\n",
       " 729,\n",
       " 735,\n",
       " 33504,\n",
       " 33506,\n",
       " 49896,\n",
       " 49897,\n",
       " 749,\n",
       " 25325,\n",
       " 49901,\n",
       " 49903,\n",
       " 753,\n",
       " 25330,\n",
       " 755,\n",
       " 756,\n",
       " 17147,\n",
       " 17148,\n",
       " 49920,\n",
       " 770,\n",
       " 41732,\n",
       " 773,\n",
       " 33541,\n",
       " 49927,\n",
       " 777,\n",
       " 49933,\n",
       " 782,\n",
       " 784,\n",
       " 41744,\n",
       " 25364,\n",
       " 17177,\n",
       " 17182,\n",
       " 810,\n",
       " 25386,\n",
       " 815,\n",
       " 816,\n",
       " 41776,\n",
       " 822,\n",
       " 33590,\n",
       " 831,\n",
       " 25407,\n",
       " 835,\n",
       " 41796,\n",
       " 41797,\n",
       " 25417,\n",
       " 41801,\n",
       " 25428,\n",
       " 41813,\n",
       " 25435,\n",
       " 860,\n",
       " 861,\n",
       " 25439,\n",
       " 33633,\n",
       " 866,\n",
       " 868,\n",
       " 869,\n",
       " 875,\n",
       " 878,\n",
       " 884,\n",
       " 886,\n",
       " 889,\n",
       " 891,\n",
       " 898,\n",
       " 901,\n",
       " 25478,\n",
       " 41862,\n",
       " 41866,\n",
       " 9099,\n",
       " 908,\n",
       " 41869,\n",
       " 33679,\n",
       " 41871,\n",
       " 41873,\n",
       " 41874,\n",
       " 25493,\n",
       " 25494,\n",
       " 17303,\n",
       " 926,\n",
       " 930,\n",
       " 25506,\n",
       " 950,\n",
       " 17338,\n",
       " 33725,\n",
       " 41918,\n",
       " 17343,\n",
       " 33728,\n",
       " 33732,\n",
       " 965,\n",
       " 25541,\n",
       " 17351,\n",
       " 33734,\n",
       " 17353,\n",
       " 17354,\n",
       " 41929,\n",
       " 982,\n",
       " 41945,\n",
       " 1014,\n",
       " 1027,\n",
       " 1028,\n",
       " 1033,\n",
       " 25609,\n",
       " 41993,\n",
       " 33815,\n",
       " 1053,\n",
       " 33821,\n",
       " 1067,\n",
       " 1068,\n",
       " 1072,\n",
       " 33841,\n",
       " 42041,\n",
       " 1082,\n",
       " 1084,\n",
       " 1088,\n",
       " 42050,\n",
       " 25670,\n",
       " 33864,\n",
       " 1104,\n",
       " 25681,\n",
       " 1106,\n",
       " 25683,\n",
       " 42065,\n",
       " 33884,\n",
       " 1123,\n",
       " 42085,\n",
       " 25706,\n",
       " 25713,\n",
       " 1144,\n",
       " 33912,\n",
       " 33913,\n",
       " 1151,\n",
       " 1156,\n",
       " 1158,\n",
       " 1160,\n",
       " 1166,\n",
       " 1168,\n",
       " 1172,\n",
       " 1177,\n",
       " 17568,\n",
       " 17569,\n",
       " 1190,\n",
       " 17575,\n",
       " 1193,\n",
       " 25771,\n",
       " 1196,\n",
       " 25778,\n",
       " 1216,\n",
       " 1219,\n",
       " 42181,\n",
       " 42183,\n",
       " 1228,\n",
       " 33999,\n",
       " 34005,\n",
       " 1247,\n",
       " 34017,\n",
       " 1252,\n",
       " 42212,\n",
       " 34022,\n",
       " 34024,\n",
       " 42217,\n",
       " 1258,\n",
       " 1261,\n",
       " 1263,\n",
       " 25839,\n",
       " 1265,\n",
       " 1271,\n",
       " 42232,\n",
       " 34048,\n",
       " 1286,\n",
       " 1287,\n",
       " 1288,\n",
       " 17670,\n",
       " 17675,\n",
       " 1298,\n",
       " 25880,\n",
       " 25881,\n",
       " 1319,\n",
       " 1324,\n",
       " 1332,\n",
       " 17717,\n",
       " 1336,\n",
       " 1345,\n",
       " 17737,\n",
       " 17749,\n",
       " 1368,\n",
       " 17757,\n",
       " 1384,\n",
       " 1386,\n",
       " 42353,\n",
       " 1395,\n",
       " 17786,\n",
       " 1406,\n",
       " 1418,\n",
       " 42382,\n",
       " 17808,\n",
       " 17815,\n",
       " 17816,\n",
       " 1444,\n",
       " 1453,\n",
       " 1464,\n",
       " 17848,\n",
       " 17850,\n",
       " 42434,\n",
       " 1476,\n",
       " 1480,\n",
       " 1484,\n",
       " 1489,\n",
       " 34259,\n",
       " 1501,\n",
       " 1504,\n",
       " 42471,\n",
       " 1514,\n",
       " 34285,\n",
       " 17918,\n",
       " 1538,\n",
       " 1544,\n",
       " 42507,\n",
       " 34318,\n",
       " 26127,\n",
       " 34320,\n",
       " 17937,\n",
       " 17938,\n",
       " 1556,\n",
       " 34324,\n",
       " 1563,\n",
       " 1566,\n",
       " 1567,\n",
       " 1578,\n",
       " 17962,\n",
       " 1580,\n",
       " 42539,\n",
       " 1590,\n",
       " 26169,\n",
       " 26174,\n",
       " 1599,\n",
       " 1600,\n",
       " 26175,\n",
       " 1605,\n",
       " 1606,\n",
       " 17991,\n",
       " 1611,\n",
       " 1615,\n",
       " 1622,\n",
       " 1623,\n",
       " 1627,\n",
       " 1632,\n",
       " 42599,\n",
       " 18024,\n",
       " 1641,\n",
       " 42603,\n",
       " 42604,\n",
       " 18035,\n",
       " 1656,\n",
       " 18051,\n",
       " 1671,\n",
       " 1677,\n",
       " 34445,\n",
       " 1680,\n",
       " 34449,\n",
       " 34450,\n",
       " 9875,\n",
       " 9876,\n",
       " 9877,\n",
       " 9878,\n",
       " 34456,\n",
       " 9881,\n",
       " 34457,\n",
       " 9883,\n",
       " 1696,\n",
       " 34467,\n",
       " 34468,\n",
       " 1706,\n",
       " 9905,\n",
       " 42674,\n",
       " 1715,\n",
       " 9909,\n",
       " 1720,\n",
       " 1721,\n",
       " 9915,\n",
       " 42684,\n",
       " 26305,\n",
       " 26306,\n",
       " 26309,\n",
       " 9933,\n",
       " 1742,\n",
       " 1745,\n",
       " 1749,\n",
       " 1750,\n",
       " 9941,\n",
       " 18133,\n",
       " 42714,\n",
       " 9948,\n",
       " 42717,\n",
       " 9950,\n",
       " 1760,\n",
       " 9955,\n",
       " 34533,\n",
       " 9958,\n",
       " 1769,\n",
       " 42732,\n",
       " 34546,\n",
       " 1779,\n",
       " 9972,\n",
       " 9976,\n",
       " 9977,\n",
       " 1787,\n",
       " 1788,\n",
       " 1789,\n",
       " 9980,\n",
       " 26368,\n",
       " 1794,\n",
       " 34566,\n",
       " 34567,\n",
       " 42760,\n",
       " 26380,\n",
       " 9997,\n",
       " 1806,\n",
       " 34575,\n",
       " 26384,\n",
       " 42764,\n",
       " 26399,\n",
       " 42788,\n",
       " 34606,\n",
       " 34608,\n",
       " 1850,\n",
       " 34626,\n",
       " 34627,\n",
       " 42823,\n",
       " 34633,\n",
       " 1868,\n",
       " 10061,\n",
       " 10062,\n",
       " 1876,\n",
       " 1895,\n",
       " 34668,\n",
       " 34669,\n",
       " 34670,\n",
       " 1910,\n",
       " 26493,\n",
       " 1919,\n",
       " 1920,\n",
       " 26495,\n",
       " 42880,\n",
       " 42881,\n",
       " 18308,\n",
       " 1926,\n",
       " 18310,\n",
       " 18311,\n",
       " 26502,\n",
       " 26504,\n",
       " 1931,\n",
       " 26505,\n",
       " 26506,\n",
       " 1934,\n",
       " 26507,\n",
       " 34704,\n",
       " 1938,\n",
       " 1939,\n",
       " 34708,\n",
       " 1945,\n",
       " 26524,\n",
       " 34717,\n",
       " 26526,\n",
       " 1951,\n",
       " 1959,\n",
       " 1961,\n",
       " 1969,\n",
       " 1982,\n",
       " 1984,\n",
       " 1988,\n",
       " 26566,\n",
       " 34759,\n",
       " 26573,\n",
       " 26576,\n",
       " 2001,\n",
       " 2009,\n",
       " 2014,\n",
       " 2018,\n",
       " 26597,\n",
       " 42983,\n",
       " 2026,\n",
       " 42989,\n",
       " 2034,\n",
       " 26610,\n",
       " 34803,\n",
       " 2037,\n",
       " 34804,\n",
       " 42998,\n",
       " 26616,\n",
       " 2044,\n",
       " 26622,\n",
       " 26625,\n",
       " 2054,\n",
       " 26636,\n",
       " 18448,\n",
       " 2066,\n",
       " 2071,\n",
       " 2072,\n",
       " 2077,\n",
       " 2078,\n",
       " 26653,\n",
       " 34846,\n",
       " 34848,\n",
       " 34850,\n",
       " 43038,\n",
       " 43047,\n",
       " 26664,\n",
       " 2089,\n",
       " 34858,\n",
       " 34859,\n",
       " 2092,\n",
       " 26670,\n",
       " 2099,\n",
       " 26677,\n",
       " 26678,\n",
       " 2103,\n",
       " 26679,\n",
       " 34874,\n",
       " 43067,\n",
       " 2110,\n",
       " 26687,\n",
       " 2114,\n",
       " 2117,\n",
       " 26699,\n",
       " 34894,\n",
       " 2130,\n",
       " 43090,\n",
       " 18518,\n",
       " 2135,\n",
       " 26711,\n",
       " 2138,\n",
       " 26714,\n",
       " 2140,\n",
       " 43101,\n",
       " 2142,\n",
       " 26719,\n",
       " 43102,\n",
       " 26721,\n",
       " 26722,\n",
       " 43104,\n",
       " 26724,\n",
       " 26727,\n",
       " 43113,\n",
       " 43119,\n",
       " 26737,\n",
       " 43130,\n",
       " 2171,\n",
       " 18562,\n",
       " 18563,\n",
       " 43138,\n",
       " 2181,\n",
       " 43139,\n",
       " 43140,\n",
       " 26760,\n",
       " 18569,\n",
       " 34954,\n",
       " 43141,\n",
       " 43146,\n",
       " 2189,\n",
       " 26767,\n",
       " 34960,\n",
       " 43151,\n",
       " 43153,\n",
       " 43155,\n",
       " 2198,\n",
       " 34967,\n",
       " 18584,\n",
       " 18585,\n",
       " 43161,\n",
       " 43162,\n",
       " 2207,\n",
       " 26788,\n",
       " 34981,\n",
       " 2214,\n",
       " 43176,\n",
       " 2217,\n",
       " 2219,\n",
       " 34994,\n",
       " 2234,\n",
       " 35014,\n",
       " 43207,\n",
       " 43208,\n",
       " 2249,\n",
       " 2258,\n",
       " 2262,\n",
       " 18646,\n",
       " 43228,\n",
       " 26847,\n",
       " 43231,\n",
       " 2278,\n",
       " 26858,\n",
       " 26861,\n",
       " 2289,\n",
       " 2290,\n",
       " 2293,\n",
       " 35076,\n",
       " 35078,\n",
       " 43276,\n",
       " 43278,\n",
       " 2320,\n",
       " 26897,\n",
       " 43280,\n",
       " 43287,\n",
       " 43289,\n",
       " 43293,\n",
       " 43294,\n",
       " 43295,\n",
       " 2341,\n",
       " 2348,\n",
       " 35119,\n",
       " 18736,\n",
       " 2353,\n",
       " 26932,\n",
       " 2358,\n",
       " 35128,\n",
       " 2362,\n",
       " 2364,\n",
       " 26943,\n",
       " 2370,\n",
       " 2372,\n",
       " 35142,\n",
       " 35143,\n",
       " 35148,\n",
       " 2381,\n",
       " 2382,\n",
       " 2385,\n",
       " 18769,\n",
       " 18770,\n",
       " 18771,\n",
       " 35155,\n",
       " 35159,\n",
       " 35160,\n",
       " 18777,\n",
       " 2394,\n",
       " 35162,\n",
       " 26975,\n",
       " 18785,\n",
       " 2402,\n",
       " 18786,\n",
       " 18789,\n",
       " 10598,\n",
       " 2408,\n",
       " 2409,\n",
       " 10607,\n",
       " 2417,\n",
       " 18803,\n",
       " 26996,\n",
       " 10613,\n",
       " 26998,\n",
       " 26999,\n",
       " 2424,\n",
       " 10617,\n",
       " 2427,\n",
       " 18811,\n",
       " 10621,\n",
       " 2431,\n",
       " 10623,\n",
       " 2433,\n",
       " 18816,\n",
       " 43397,\n",
       " 2445,\n",
       " 2446,\n",
       " 18832,\n",
       " 2450,\n",
       " 10642,\n",
       " 18838,\n",
       " 2456,\n",
       " 10649,\n",
       " 27033,\n",
       " 35228,\n",
       " 10657,\n",
       " 2466,\n",
       " 27044,\n",
       " 2469,\n",
       " 10663,\n",
       " 35245,\n",
       " 35253,\n",
       " 43455,\n",
       " 2498,\n",
       " 2499,\n",
       " 2502,\n",
       " 10695,\n",
       " 2509,\n",
       " 43470,\n",
       " 2513,\n",
       " 2514,\n",
       " 10707,\n",
       " 43476,\n",
       " 2517,\n",
       " 18903,\n",
       " 35288,\n",
       " 10714,\n",
       " 18906,\n",
       " 35293,\n",
       " 10718,\n",
       " 35298,\n",
       " 35299,\n",
       " 2532,\n",
       " 2533,\n",
       " 10728,\n",
       " 18921,\n",
       " 10734,\n",
       " 2544,\n",
       " 2545,\n",
       " 10740,\n",
       " 27126,\n",
       " 10743,\n",
       " 43510,\n",
       " 43512,\n",
       " 2554,\n",
       " 2555,\n",
       " 43513,\n",
       " 18943,\n",
       " 27135,\n",
       " 18945,\n",
       " 2562,\n",
       " 10755,\n",
       " 10758,\n",
       " 18951,\n",
       " 10760,\n",
       " 2571,\n",
       " 2573,\n",
       " 2575,\n",
       " 10768,\n",
       " 35344,\n",
       " 18962,\n",
       " 18963,\n",
       " 2582,\n",
       " 2583,\n",
       " 10776,\n",
       " 2585,\n",
       " 10777,\n",
       " 27158,\n",
       " 18975,\n",
       " 10789,\n",
       " 43558,\n",
       " 10795,\n",
       " 18993,\n",
       " 10804,\n",
       " 18996,\n",
       " 35386,\n",
       " 2619,\n",
       " 43580,\n",
       " 43581,\n",
       " 19006,\n",
       " 2625,\n",
       " 43589,\n",
       " 35398,\n",
       " 2631,\n",
       " 35399,\n",
       " 10827,\n",
       " 2637,\n",
       " 35405,\n",
       " 35407,\n",
       " 35409,\n",
       " 19026,\n",
       " 2647,\n",
       " 10842,\n",
       " 2651,\n",
       " 35424,\n",
       " 43624,\n",
       " 19055,\n",
       " 2674,\n",
       " 27250,\n",
       " 2678,\n",
       " 27258,\n",
       " 2697,\n",
       " 2700,\n",
       " 2707,\n",
       " 2708,\n",
       " 2709,\n",
       " 19093,\n",
       " 19095,\n",
       " 2715,\n",
       " 19100,\n",
       " 19107,\n",
       " 2724,\n",
       " 2725,\n",
       " 2728,\n",
       " 2730,\n",
       " 2738,\n",
       " 2739,\n",
       " 10936,\n",
       " 10942,\n",
       " 19149,\n",
       " 2769,\n",
       " 19159,\n",
       " 35544,\n",
       " 35545,\n",
       " 10970,\n",
       " 2779,\n",
       " 42886,\n",
       " 2783,\n",
       " 19170,\n",
       " 2787,\n",
       " 2792,\n",
       " 2801,\n",
       " 19198,\n",
       " 19199,\n",
       " 19200,\n",
       " 19201,\n",
       " 2821,\n",
       " 43786,\n",
       " 35595,\n",
       " 2828,\n",
       " 2831,\n",
       " 2834,\n",
       " 2837,\n",
       " 2838,\n",
       " 2850,\n",
       " 43822,\n",
       " 2867,\n",
       " 2870,\n",
       " 2871,\n",
       " 2883,\n",
       " 2889,\n",
       " 27468,\n",
       " 19285,\n",
       " 2904,\n",
       " 43876,\n",
       " 2919,\n",
       " 2924,\n",
       " 2930,\n",
       " 2932,\n",
       " 2939,\n",
       " 19326,\n",
       " 2946,\n",
       " 43906,\n",
       " 2948,\n",
       " 2950,\n",
       " 2956,\n",
       " 2957,\n",
       " 2959,\n",
       " 2961,\n",
       " 2963,\n",
       " 43925,\n",
       " 2967,\n",
       " 11159,\n",
       " 2969,\n",
       " 19356,\n",
       " 19357,\n",
       " 11167,\n",
       " 2976,\n",
       " 43937,\n",
       " 2980,\n",
       " 2982,\n",
       " 43956,\n",
       " 19387,\n",
       " 3004,\n",
       " 19392,\n",
       " 27585,\n",
       " 19395,\n",
       " 19397,\n",
       " 11207,\n",
       " 27592,\n",
       " 19402,\n",
       " 35786,\n",
       " 3024,\n",
       " 3026,\n",
       " 19422,\n",
       " 3050,\n",
       " 3053,\n",
       " 19437,\n",
       " 35822,\n",
       " 27640,\n",
       " 3072,\n",
       " 19463,\n",
       " 3085,\n",
       " 3088,\n",
       " 44048,\n",
       " 19474,\n",
       " 44051,\n",
       " 3092,\n",
       " 44055,\n",
       " 35869,\n",
       " 11298,\n",
       " 35877,\n",
       " 3114,\n",
       " 3115,\n",
       " 3121,\n",
       " 11313,\n",
       " 3138,\n",
       " 11332,\n",
       " 27716,\n",
       " 3142,\n",
       " 27717,\n",
       " 35908,\n",
       " 35911,\n",
       " 35914,\n",
       " 3151,\n",
       " 3152,\n",
       " 3160,\n",
       " 3161,\n",
       " 3166,\n",
       " 3167,\n",
       " 3171,\n",
       " 3172,\n",
       " 27748,\n",
       " 27751,\n",
       " 3179,\n",
       " ...}"
      ]
     },
     "execution_count": 127,
     "metadata": {},
     "output_type": "execute_result"
    }
   ],
   "source": [
    "set(np.where(transposed_x[6195])[0])# 找到有\"此外“的文章"
   ]
  },
  {
   "cell_type": "code",
   "execution_count": 128,
   "metadata": {},
   "outputs": [
    {
     "data": {
      "text/plain": [
       "True"
      ]
     },
     "execution_count": 128,
     "metadata": {},
     "output_type": "execute_result"
    }
   ],
   "source": [
    "'此外' in news_content[0]"
   ]
  },
  {
   "cell_type": "code",
   "execution_count": 129,
   "metadata": {},
   "outputs": [
    {
     "data": {
      "text/plain": [
       "'美军'"
      ]
     },
     "execution_count": 129,
     "metadata": {},
     "output_type": "execute_result"
    }
   ],
   "source": [
    "'美军'"
   ]
  },
  {
   "cell_type": "code",
   "execution_count": 130,
   "metadata": {},
   "outputs": [
    {
     "data": {
      "text/plain": [
       "7922"
      ]
     },
     "execution_count": 130,
     "metadata": {},
     "output_type": "execute_result"
    }
   ],
   "source": [
    "word_2_id['美军']"
   ]
  },
  {
   "cell_type": "code",
   "execution_count": 131,
   "metadata": {},
   "outputs": [
    {
     "data": {
      "text/plain": [
       "2769"
      ]
     },
     "execution_count": 131,
     "metadata": {},
     "output_type": "execute_result"
    }
   ],
   "source": [
    "word_2_id['司令']"
   ]
  },
  {
   "cell_type": "code",
   "execution_count": 132,
   "metadata": {},
   "outputs": [],
   "source": [
    "usa_force = set(np.where(transposed_x[7922])[0])"
   ]
  },
  {
   "cell_type": "code",
   "execution_count": 133,
   "metadata": {},
   "outputs": [],
   "source": [
    "commander = set(np.where(transposed_x[2769])[0])"
   ]
  },
  {
   "cell_type": "code",
   "execution_count": 134,
   "metadata": {},
   "outputs": [
    {
     "data": {
      "text/plain": [
       "{836,\n",
       " 1218,\n",
       " 1613,\n",
       " 1935,\n",
       " 2844,\n",
       " 3160,\n",
       " 3283,\n",
       " 3309,\n",
       " 3959,\n",
       " 3984,\n",
       " 4244,\n",
       " 4908,\n",
       " 5216,\n",
       " 5236,\n",
       " 6824,\n",
       " 7748,\n",
       " 12832,\n",
       " 18893,\n",
       " 21484,\n",
       " 21523,\n",
       " 22987,\n",
       " 28259,\n",
       " 28414,\n",
       " 28495,\n",
       " 28514,\n",
       " 28523,\n",
       " 28539,\n",
       " 29037,\n",
       " 29633,\n",
       " 29668,\n",
       " 36678,\n",
       " 39638,\n",
       " 39657,\n",
       " 40001,\n",
       " 40025,\n",
       " 41096,\n",
       " 43204,\n",
       " 43702,\n",
       " 44024,\n",
       " 46315,\n",
       " 46828}"
      ]
     },
     "execution_count": 134,
     "metadata": {},
     "output_type": "execute_result"
    }
   ],
   "source": [
    "usa_force & commander"
   ]
  },
  {
   "cell_type": "code",
   "execution_count": 135,
   "metadata": {},
   "outputs": [
    {
     "data": {
      "text/plain": [
       "True"
      ]
     },
     "execution_count": 135,
     "metadata": {},
     "output_type": "execute_result"
    }
   ],
   "source": [
    "('美军' in news_content[44024]) & ('司令' in news_content[44024])"
   ]
  },
  {
   "cell_type": "code",
   "execution_count": 136,
   "metadata": {},
   "outputs": [],
   "source": [
    "from functools import reduce"
   ]
  },
  {
   "cell_type": "code",
   "execution_count": 137,
   "metadata": {},
   "outputs": [],
   "source": [
    "d1, d2, d3 = {1, 2, 3}, {4, 5, 6, 3, 2}, {1, 3, 4}"
   ]
  },
  {
   "cell_type": "code",
   "execution_count": 138,
   "metadata": {},
   "outputs": [],
   "source": [
    "from operator import and_"
   ]
  },
  {
   "cell_type": "code",
   "execution_count": 139,
   "metadata": {},
   "outputs": [
    {
     "data": {
      "text/plain": [
       "{3}"
      ]
     },
     "execution_count": 139,
     "metadata": {},
     "output_type": "execute_result"
    }
   ],
   "source": [
    "reduce(and_, [d1, d2, d3])"
   ]
  },
  {
   "cell_type": "code",
   "execution_count": 167,
   "metadata": {},
   "outputs": [],
   "source": [
    "def search_engine(query):\n",
    "    \"\"\"\n",
    "    @query is the searched words, splited by space\n",
    "    @return is the related documents which ranked by tfidf similarity\n",
    "    \"\"\"\n",
    "    words = query.split()\n",
    "    query_vec = vectorized.transform([' '.join(words)]).toarray()[0]\n",
    "\n",
    "\n",
    "    candidates_ids = [word_2_id[w] for w in words]\n",
    "    \n",
    "    documents_ids = [\n",
    "         set(np.where(transposed_x[_id])[0]) for _id in candidates_ids\n",
    "    ]\n",
    "    \n",
    "    merged_documents = reduce(and_, documents_ids)\n",
    "    # we could know the documents which contain these words\n",
    "    sorted_docuemtns_id = sorted(merged_documents, key=lambda i: distance(query_vec, X[i].toarray()))\n",
    "\n",
    "    return sorted_docuemtns_id"
   ]
  },
  {
   "cell_type": "code",
   "execution_count": 141,
   "metadata": {},
   "outputs": [],
   "source": [
    "words = '小米 华为'.split()"
   ]
  },
  {
   "cell_type": "code",
   "execution_count": 142,
   "metadata": {},
   "outputs": [
    {
     "data": {
      "text/plain": [
       "['小米', '华为']"
      ]
     },
     "execution_count": 142,
     "metadata": {},
     "output_type": "execute_result"
    }
   ],
   "source": [
    "words"
   ]
  },
  {
   "cell_type": "code",
   "execution_count": 143,
   "metadata": {},
   "outputs": [
    {
     "data": {
      "text/plain": [
       "['小米 华为']"
      ]
     },
     "execution_count": 143,
     "metadata": {},
     "output_type": "execute_result"
    }
   ],
   "source": [
    "[' '.join(words)]"
   ]
  },
  {
   "cell_type": "code",
   "execution_count": 146,
   "metadata": {
    "scrolled": false
   },
   "outputs": [
    {
     "data": {
      "text/plain": [
       "(array([2417, 3974], dtype=int64),)"
      ]
     },
     "execution_count": 146,
     "metadata": {},
     "output_type": "execute_result"
    }
   ],
   "source": [
    "np.where(vectorized.transform(['小米 华为']).toarray()[0])"
   ]
  },
  {
   "cell_type": "code",
   "execution_count": 147,
   "metadata": {},
   "outputs": [
    {
     "data": {
      "text/plain": [
       "(array([3974], dtype=int64),)"
      ]
     },
     "execution_count": 147,
     "metadata": {},
     "output_type": "execute_result"
    }
   ],
   "source": [
    "np.where(vectorized.transform(['小米']).toarray()[0])"
   ]
  },
  {
   "cell_type": "code",
   "execution_count": 145,
   "metadata": {
    "scrolled": true
   },
   "outputs": [
    {
     "name": "stdout",
     "output_type": "stream",
     "text": [
      "['小米', '华为']\n",
      "[0. 0. 0. ... 0. 0. 0.]\n"
     ]
    },
    {
     "data": {
      "text/plain": [
       "[5978,\n",
       " 2540,\n",
       " 1,\n",
       " 5185,\n",
       " 1409,\n",
       " 5811,\n",
       " 91,\n",
       " 3227,\n",
       " 5612,\n",
       " 276,\n",
       " 4836,\n",
       " 4730,\n",
       " 465,\n",
       " 41554,\n",
       " 8067,\n",
       " 37420,\n",
       " 37503,\n",
       " 10629,\n",
       " 3430]"
      ]
     },
     "execution_count": 145,
     "metadata": {},
     "output_type": "execute_result"
    }
   ],
   "source": [
    "search_engine('小米 华为')"
   ]
  },
  {
   "cell_type": "code",
   "execution_count": 149,
   "metadata": {
    "scrolled": false
   },
   "outputs": [
    {
     "data": {
      "text/plain": [
       "True"
      ]
     },
     "execution_count": 149,
     "metadata": {},
     "output_type": "execute_result"
    }
   ],
   "source": [
    "'小米' in news_content[5978]"
   ]
  },
  {
   "cell_type": "code",
   "execution_count": 150,
   "metadata": {},
   "outputs": [
    {
     "data": {
      "text/plain": [
       "(array([2253, 6150, 7944], dtype=int64),)"
      ]
     },
     "execution_count": 150,
     "metadata": {},
     "output_type": "execute_result"
    }
   ],
   "source": [
    "np.where(vectorized.transform(['美联储 加息 次数']).toarray()[0])"
   ]
  },
  {
   "cell_type": "code",
   "execution_count": 151,
   "metadata": {},
   "outputs": [
    {
     "data": {
      "text/plain": [
       "7944"
      ]
     },
     "execution_count": 151,
     "metadata": {},
     "output_type": "execute_result"
    }
   ],
   "source": [
    "word_2_id['美联储']"
   ]
  },
  {
   "cell_type": "code",
   "execution_count": 152,
   "metadata": {},
   "outputs": [
    {
     "data": {
      "text/plain": [
       "2253"
      ]
     },
     "execution_count": 152,
     "metadata": {},
     "output_type": "execute_result"
    }
   ],
   "source": [
    "word_2_id['加息']"
   ]
  },
  {
   "cell_type": "code",
   "execution_count": 153,
   "metadata": {},
   "outputs": [
    {
     "data": {
      "text/plain": [
       "6150"
      ]
     },
     "execution_count": 153,
     "metadata": {},
     "output_type": "execute_result"
    }
   ],
   "source": [
    "word_2_id['次数']"
   ]
  },
  {
   "cell_type": "code",
   "execution_count": 154,
   "metadata": {},
   "outputs": [],
   "source": [
    "text = \"\"\"新华社洛杉矶４月８日电（记者黄恒）美国第三舰队８日发布声明说，该舰队下属的“卡尔·文森”航母战斗群当天离开新加坡，改变原定驶往澳大利亚的任务计划，转而北上，前往西太平洋朝鲜半岛附近水域展开行动。\\n　　该舰队网站主页发布的消息说，美军太平洋司令部司令哈里·哈里斯指示“卡尔·文森”航母战斗群向北航行。这一战斗群包括“卡尔·文森”号航空母舰、海军第二航空队、两艘“阿利·伯克”级导弹驱逐舰和一艘“泰孔德罗加”级导弹巡洋舰。\\n　　“卡尔·文森”号航母的母港位于美国加利福尼亚州的圣迭戈，今年１月初前往西太平洋地区执行任务，并参与了日本及韩国的军事演习。\\n　　美国有线电视新闻网援引美国军方官员的话说，“‘卡尔·文森’号此次行动是为了对近期朝鲜的挑衅行为作出回应”。（完）\"\"\""
   ]
  },
  {
   "cell_type": "code",
   "execution_count": 155,
   "metadata": {},
   "outputs": [
    {
     "name": "stdout",
     "output_type": "stream",
     "text": [
      "新华社洛杉矶４月８日电（记者黄恒）美国第三舰队８日发布声明说，该舰队下属的“卡尔·文森”航母战斗群当天离开新加坡，改变原定驶往澳大利亚的任务计划，转而北上，前往西太平洋朝鲜半岛附近水域展开行动。\n",
      "　　该舰队网站主页发布的消息说，美军太平洋司令部司令哈里·哈里斯指示“卡尔·文森”航母战斗群向北航行。这一战斗群包括“卡尔·文森”号航空母舰、海军第二航空队、两艘“阿利·伯克”级导弹驱逐舰和一艘“泰孔德罗加”级导弹巡洋舰。\n",
      "　　“卡尔·文森”号航母的母港位于美国加利福尼亚州的圣迭戈，今年１月初前往西太平洋地区执行任务，并参与了日本及韩国的军事演习。\n",
      "　　美国有线电视新闻网援引美国军方官员的话说，“‘卡尔·文森’号此次行动是为了对近期朝鲜的挑衅行为作出回应”。（完）\n"
     ]
    }
   ],
   "source": [
    "print(text)"
   ]
  },
  {
   "cell_type": "code",
   "execution_count": 156,
   "metadata": {},
   "outputs": [],
   "source": [
    "import re"
   ]
  },
  {
   "cell_type": "code",
   "execution_count": 157,
   "metadata": {},
   "outputs": [],
   "source": [
    "text = \"\"\"美国有线电视新闻网援引美国军方官员的话说\"\"\""
   ]
  },
  {
   "cell_type": "code",
   "execution_count": 158,
   "metadata": {},
   "outputs": [],
   "source": [
    "pat = r'(新闻|官员)'"
   ]
  },
  {
   "cell_type": "code",
   "execution_count": 159,
   "metadata": {},
   "outputs": [
    {
     "data": {
      "text/plain": [
       "'美国有线电视**新闻**网援引美国军方**官员**的话说'"
      ]
     },
     "execution_count": 159,
     "metadata": {},
     "output_type": "execute_result"
    }
   ],
   "source": [
    "re.compile(pat).sub(repl=\"**\\g<1>**\", string=text)"
   ]
  },
  {
   "cell_type": "code",
   "execution_count": 160,
   "metadata": {},
   "outputs": [],
   "source": [
    "def get_query_pat(query):\n",
    "    return re.compile('({})'.format('|'.join(query.split())))"
   ]
  },
  {
   "cell_type": "code",
   "execution_count": 161,
   "metadata": {},
   "outputs": [
    {
     "data": {
      "text/plain": [
       "re.compile(r'(美军|司令|航母)', re.UNICODE)"
      ]
     },
     "execution_count": 161,
     "metadata": {},
     "output_type": "execute_result"
    }
   ],
   "source": [
    "get_query_pat('美军 司令 航母')"
   ]
  },
  {
   "cell_type": "code",
   "execution_count": 162,
   "metadata": {},
   "outputs": [],
   "source": [
    "def highlight_keywords(pat, document):\n",
    "    return pat.sub(repl=\"**\\g<1>**\", string=document) "
   ]
  },
  {
   "cell_type": "code",
   "execution_count": 163,
   "metadata": {},
   "outputs": [
    {
     "data": {
      "text/plain": [
       "'\\u3000\\u3000新华社北京４月１０日电新闻分析：“卡尔·文森”号**航母**缘何成西太平洋军情新主角\\\\n\\u3000\\u3000新华社记者刘莉莉\\\\n\\u3000\\u3000美国海军第三舰队下属的“卡尔·文森”号**航母**打击群即将抵达西太平洋朝鲜半岛附近水域。分析人士认为，美方此次急调**航母**打击群北上，向朝鲜施压意图明显，很可能会加剧朝鲜半岛紧张局势。\\\\n\\u3000\\u3000（小标题）侧重对地攻击\\\\n\\u3000\\u3000据第三舰队网站主页发布的消息，**美军**太平洋**司令**部**司令**哈里·哈里斯指示“卡尔·文森”号**航母**打击群从新加坡向北航行。这一打击群还包括海军第二航空队、两艘“阿利·伯克”级导弹驱逐舰和一艘“泰孔德罗加”级导弹巡洋舰。\\\\n\\u3000\\u3000“卡尔·文森”号是“尼米兹”级核动力**航母**，母港位于美国加利福尼亚州的圣迭戈，今年１月初，“卡尔·文森”号曾前往西太平洋地区执行任务，并参与美日韩三国军事演习。“尼米兹”级**航母**是核动力多用途**航母**，也是美国海军远洋作战群的核心力量。\\\\n\\u3000\\u3000“卡尔·文森”**航母**打击群中，“阿利·伯克”级导弹驱逐舰和“泰孔德罗加”级导弹巡洋舰也不可小视。“阿利·伯克”级导弹驱逐舰是世界上最先配备四面相控阵雷达的驱逐舰，舰队防空是其主要作战任务。“泰孔德罗加”级导弹巡洋舰的武器配备也比较全面，涵盖了反潜、反舰、防空和对地４个种类。\\\\n\\u3000\\u3000据军事专业人士介绍，**航母**打击群与**航母**战斗群其实是两个概念，战斗群侧重于夺取制海权，例如海战；而**航母**打击群更侧重于对地攻击作战。一般而言，打击群的舰艇数量要远少于战斗群。\\\\n\\u3000\\u3000（小标题）配角跻身主角\\\\n\\u3000\\u3000第三舰队是美国海军太平洋舰队两大舰队之一，拥有４个**航母**打击群，分别是以“卡尔·文森”号为核心的第一**航母**打击群、以“约翰·斯坦尼斯”号为核心的第三**航母**打击群、以“西奥多·罗斯福”号为核心的第九**航母**打击群和以“尼米兹”号为核心的第十一**航母**打击群。\\u3000\\\\n\\u3000\\u3000资深军事评论员石宏说，在美国海军力量中，第三舰队原本地位一般，因为其所管辖的国际日期变更线以东的东太平洋比较安稳，所以更多扮演战略预备队的配角角色。只有在负责执行前沿部署和应急反应任务的第七舰队有需要时，第三舰队才会奉令前去换班或增援。但自２０１５年下半年以来，太平洋舰队打破了延续数十年的惯例，大幅提升第三舰队的活跃度，令其开始更多涉足西太平洋地区。\\\\n\\u3000\\u3000“实际上，这是**美军**根据新的‘全球一体化’军事战略而做的调整，目的是优化资源、改变本土与前沿的兵力平衡，缓解目前美国海军兵力不足与战线过长、资源下滑与保持战备之间的尖锐矛盾，”石宏说。\\\\n\\u3000\\u3000正因如此，“卡尔·文森”号**航母**开始忙碌起来。自从今年１月离开母港后，“卡尔·文森”号边走边练，特别是在夏威夷和关岛水域与当地驻扎部队进行了多轮演训。２月１８日，“卡尔·文森”号**航母**进入南海水域进行所谓“巡航”；３月１５日，“卡尔·文森”号抵达韩国釜山，随后在２０日参加了美韩“关键决断”联合军演。４月４日，“卡尔·文森”号抵达新加坡，原本计划南下前往澳大利亚，但随后接到再度北上命令，赶往朝鲜半岛附近海域。\\\\n\\u3000\\u3000（小标题）或在火上浇油\\\\n\\u3000\\u3000一名不愿公开姓名的五角大楼官员告诉美国有线电视新闻网，“卡尔·文森”号**航母**打击群驶向西太平洋的朝鲜半岛水域，“旨在对近期朝鲜的挑衅行为作出回应”。\\\\n\\u3000\\u3000包括“卡尔·文森”号在内的美国海军新近动向引起各方关注。不少人担心，这一行动将给半岛紧张局势火上浇油。俄罗斯议会上院防务和安全委员会主席维克托·奥泽罗夫警告说，美国动作可能会刺激朝鲜方面作出急躁反应。\\\\n\\u3000\\u3000石宏认为，美国急调“卡尔·文森”号**航母**打击群赶赴半岛附近水域，是想通过军事施压，迫使朝鲜放弃进行新一轮核试验的打算。但从以往经验看，美国用不断加码的军事威慑不仅不会让半岛局势降温，反而会刺激朝鲜越发强硬。（完）\\u3000'"
      ]
     },
     "execution_count": 163,
     "metadata": {},
     "output_type": "execute_result"
    }
   ],
   "source": [
    "highlight_keywords(get_query_pat('美军 司令 航母'), content['content'][22987])"
   ]
  },
  {
   "cell_type": "code",
   "execution_count": 164,
   "metadata": {},
   "outputs": [],
   "source": [
    "from IPython.display import display, Markdown"
   ]
  },
  {
   "cell_type": "code",
   "execution_count": 165,
   "metadata": {},
   "outputs": [],
   "source": [
    "def search_engine_with_pretty_print(query):\n",
    "    candidates_ids = search_engine(query)\n",
    "    for i, _id in enumerate(candidates_ids):\n",
    "        title = '## Search Result {}'.format(i)\n",
    "        c = content['content'][_id]\n",
    "        c = highlight_keywords(get_query_pat(query), c)    \n",
    "        \n",
    "        display(Markdown(title + '\\n' + c))"
   ]
  },
  {
   "cell_type": "code",
   "execution_count": null,
   "metadata": {},
   "outputs": [],
   "source": []
  },
  {
   "cell_type": "code",
   "execution_count": 168,
   "metadata": {},
   "outputs": [
    {
     "data": {
      "text/markdown": [
       "## Search Result 0\n",
       "最近，不少人在朋友圈等个人社交媒体上吐槽打车难。人们发现，不仅在早晚高峰，甚至是传统的非高峰时段，都出现了路上扬招成功率越来越低，打车软件不加价或是加价少难以吸引司机接单的情况。而类似的情况，在上海、北京、武汉等地都或多或少地存在。\r\n",
       "对此，一些城市迅游车的驾驶员们表示，历年**春节**前，都会遇到活多车少的情况。对司机而言，能加价赚到钱，何乐而不为呢？\r\n",
       "21日晚8点，滴滴高级产品总监罗文在知乎上发文回应称，根据后台数据显示：今年司机回家早，运力下降。在其晒出有关“滴滴在线司机数据”和“北京订单需求”的两张手绘图表中，虽然隐去了具体数值，但可以明显看出，前一张图表近期呈现了直线下降趋势，标注数据显示下降超过25%。而出行订单数量则同期上涨了3成。\r\n",
       "不过，在线司机变少的情况，仅仅是因为临近**假期**，专车司机纷纷提早回家过年造成的吗？\r\n",
       "相关数据显示，自去年国庆之后，地方版网约车新政陆续出台后，市场上的网约车供给量就呈现出大幅减少的趋势。以上海为例，网约车新政之后，上海合规的网约车数量只有1万辆左右，市场供给大幅减少，打车难开始悄然回潮。\r\n",
       "与此同时，网约车市场过度集中，部分平台一家独大。也让消费者瞬间，难以从补贴优惠的温情脉脉中回过神来，瞬间跌入了加价才能叫到车的冰冷现实中。\r\n",
       "一位Uber中国早期员工指出，滴滴打车软件，自动设置了加价选项，即便第一次加价没被接单，还可以再次加价叫车。司机知道用户可以多次选择加价，就有意不接那些不加价的单子。他知道你叫不到车就会提高小费，就故意等着。于是，这个潜规则的结果，就是乘客反复加价才能叫到车，既浪费了时间，也付了更多的钱。\r\n",
       "对于近日有消费者称打车难、打车贵的问题，23日下午，滴滴出行官方微博发布《致广大用户的一封信》表示，将从即日起，在全国范围内阶段性取消出租车“建议调度费”功能，以减少因为春运期间本身供不应求和价格因素带来的体验问题。\r\n",
       "滴滴方面表示，此举将有可能给部分乘客带来呼叫等待时间的增加，以及打车成功率降低的影响。不过，为了鼓励在**春节**期间坚持出车的司机师傅，仍会保留用户主动给予调度费的功能，**春节**过后会根据用户的反馈再做决策。并强调，所有调度费滴滴分文不取。\r\n"
      ],
      "text/plain": [
       "<IPython.core.display.Markdown object>"
      ]
     },
     "metadata": {},
     "output_type": "display_data"
    },
    {
     "data": {
      "text/markdown": [
       "## Search Result 1\n",
       "\\n新华社上海4月4日新媒体专电题：中国人愿意为旅游投入更多时间和金钱\\n新华社记者陈爱平、许晓青\\n28岁的上海白领林夏今年清明节没有留在家乡，而是提前请了年假，赴印度洋上的岛国斯里兰卡自助游。\\n“一个人全部花费，不超过1万元人民币，约等于一个月的工资，完全可以负担得起。”她说。\\n对于不少中国人来说，旅游已经成为一种“生活必需品”。\\n\\n　　图为在上海市徐汇区的一家旅行社门店，一位市民询问欧洲游情况.（新华社记者陈爱平摄）\\n\\n除了扫墓祭祖、踏青赏花，中国的清明节**假期**也成为出游旺季。国内游、出境游人数都不可小觑。\\n前不久，记者来到上海市黄浦区出入境办证中心大厅。工作人员说，今年以来，前来办理出入境证件的居民络绎不绝。尤其是祖孙三代一起来办理证件的全家出行者增多。除了**春节**七天长假，还有清明、“五一”、端午等三天左右的小长假，这些**假期**到来前的一个月，“突击”办理出入境证件的居民往往会扎堆。\\n中国《2016年国民经济和社会发展统计公报》显示，2016年，全国国内游客44亿人次，比上年增长11.2%；国内居民出境13513万人次，增长5.7%。\\n旅游消费旺盛的趋势在2017年开年后仍然延续：根据中国国家旅游局数据中心综合测算，2017年**春节**期间，全国共接待游客3.44亿人次，同比增长13.8%，实现旅游总收入4233亿元，同比增长15.9%。\\n\\n　　斯里兰卡的”狮子岩“景区.（由林夏提供）\\n\\n远在北欧的瑞典，当地的旅游主管部门也感受到了中国人越来越高涨的出游热情。\\n统计显示，2017年1月，中国游客在瑞典全国的“间夜量”（衡量酒店在一定时间内出租率的计算单位）同比增长74.2%。同期，瑞典首都斯德哥尔摩“总间夜量”增长超过10%，其中中国游客增长幅度最为显著，高达82%。\\n瑞典旅游局中国区首席代表李春梅表示，瑞典冬季旅游市场在中国发展迅速，得益于中国游客对于新鲜目的地和独特旅游体验的旺盛需求。\\n在线旅行社携程旅行网近日发布的《2017中国旅游者意愿调查报告》研判，中国人愿意为旅游投入更多的时间和金钱。\\n报告称：2017年，98%的受访者有出游意愿。其中计划出行频次1－3次的受访者占比72%，计划出行4－6次的受访者占比19%。\\n作为一种“必需品”，旅游正成为中国人消费的重要支出。同是携程这份根据2.5亿会员进行的随机抽样调查及大数据分析报告显示，57%的受访者预计全年旅游花费占年收入的10%以上；19%的受访者甚至愿意将20%的年收入用于旅游。从具体金额来看，73%的受访者表示，全年旅游人均花费将超过1万元。\\n\\n　　超过5成受访者预计全年旅游花费占年收入的１０％以上。（由携程旅行网提供）\\n\\n林夏在接受采访时也证实，自己花费在旅游上的年均消费，大约为2万元。\\n专家分析，随着中国居民收入提升，在旅游方面的支出提升成为居民消费升级的例证。“多花一点钱，可以多体验一点旅行的幸福感”，这成为大部分游客的一项共识。\\n也正是基于上述原因，多家在线旅行社大数据显示，越来越多的中国居民愿意选择更舒适的酒店、体验美食和享受服务；旅游产品亦更加多样化：定制游、自由行等选择空间更大，亲子游、中老年游等满足社会多层次需求的旅游产品在2017年将持续火爆。\\n从出行时间看，携程报告显示，随着带薪休假制度的落实以及中国居民出行观念的改变，利用年假、周末出游的受访者分别占比52.7%及19%。\\n清明节**假期**，仅4月2日当天，上海顾村公园就刷新了接待游客纪录，迎来18.29万人。驴妈妈旅游网分析，今年国内赏樱游人次预计同比增长近7成。\\n驴妈妈旅游网介绍，“赏花”亦是近期出境旅游的热词之一：清明节前后，赴日赏樱游预订人次较去年同期增加了近3成。\\n\\n　　无锡十八湾风景区赏花游人络绎不绝。（由驴妈妈旅游网提供）\\n\\n上海财经大学旅游管理系主任何建民分析，旅游成为中国居民的“必需品”，亦成为中国国民经济的“必需品”，见证着中国正在推进的供给侧改革。\\n中国国家旅游局数据显示，全国旅游直接投资在2016年达到12997亿元，同比增长29.05%。而据联合国世界旅游组织测算，2016年中国旅游业对国民经济综合贡献率达11%、对社会就业综合贡献超过10.26%。\\n此前中国发布的《“十三五”旅游业发展规划》提出，“十三五”时期旅游业对国民经济的综合贡献度达到12%，对餐饮、住宿、民航、铁路客运业的综合贡献率达到85%以上，年均新增旅游就业人数100万人以上。\\n今年3月初公布的《“十三五”全国旅游公共服务规划》，重点部署了未来旅游公共服务发展的16项重点工程。专家认为，这将为中国居民出游提供更好保障。\\n“我计划每年至少到境外旅游一次，这样在下一次更换护照的时候，又会收集到更多各国特色的出入境签证及印章。加上国内游短途游，今后还会花更多钱和时间，去享受旅行。”林夏说。\\n"
      ],
      "text/plain": [
       "<IPython.core.display.Markdown object>"
      ]
     },
     "metadata": {},
     "output_type": "display_data"
    },
    {
     "data": {
      "text/markdown": [
       "## Search Result 2\n",
       "　　新华社北京3月31日电（记者魏梦佳、钟雅）记者31日从北京市公园管理中心获悉，今年清明假日期间，北京市属11家公园及中国园林博物馆将举办25项假日游园活动。其中，各大公园内总面积近1000公顷的主题赏花景区，将掀起市民游客游园赏花热潮。\\n　　目前北京各大公园内一片春意盎然，各类春花正热闹绽放。北京市公园管理中心表示，今年春季，市属11家公园的春花观赏面积达到了园内绿地面积的70%。除了常年定植的四季花木，各园还采用了花期调控、精品盆栽、室内花展等多种技术手段和展示方式，使今春花卉布置总面积增加近10%。\\n　　今年清明**假期**，各园近千公顷的赏花景区将成为市民游客度假的首选。玉渊潭公园的樱花节、陶然亭公园的海棠春花节、中山公园的郁金香展、北京植物园的桃花节等**春节**赏花活动都已展开，各色春花依山傍水，争相吐艳，本周末还将迎来新一轮盛花期。其中，陶然亭公园栽植和展出的海棠达45个品种、3000多株。\\n　　除赏花外，清明诗会、民俗展示、文化展演、主题纪念等多种展示清明文化的活动也将在陶然亭公园、玉渊潭公园、中国园林博物馆等上演。香山公园双清别墅、中山公园孙中山像等13处北京公园爱国主义教育基地也将迎来大批前来缅怀祭扫的游客市民。清明期间，各公园内的祭扫纪念景区将市民及团体提供讲解、举行纪念仪式、牌示导览等服务。（完）\\n"
      ],
      "text/plain": [
       "<IPython.core.display.Markdown object>"
      ]
     },
     "metadata": {},
     "output_type": "display_data"
    },
    {
     "data": {
      "text/markdown": [
       "## Search Result 3\n",
       "即将进入7月，对于城市学生而言，美好的暑假又如期而至了，而对于另一群人——留守儿童而言，迎接他们的却是一个“冷清”的**假期**。离开了学校，没有了老师和同学的陪伴，也没有父母的守护，他们的**假期**是孤单而乏味的。\r\n",
       "记者从清远相关部门获悉，清远农村留守儿童约2.39万名，数量在全省排名第四。留守儿童长期缺乏亲情关爱和有效保护，处境堪忧。为做好农村留守儿童关爱保护工作，促进农村留守儿童健康成长。近年来，清远不断完善制度方案为留守儿童撑起“保护伞”。\r\n",
       "就在今年4月份，清远市政府常务会议审议了《清远市关于加强农村留守儿童关爱保护工作的实施方案》（稿）），提出建立考核机制，强化激励问责。对成效明显的，按照国家有关规定予以激励。对工作不力、措施不实、造成不良影响的，按规定追究相关人员的党纪政纪责任；造成严重后果的将对有关领导进行问责。\r\n",
       "清远市心理学会会长张万英认为，不能让“留守儿童”成为“缺爱儿童”。不能经常和孩子在一起生活的父母，要争取多与孩子保持常态联系；不要让“留守儿童”成为“无助儿童”，政府要完善社区中留守儿童服务的功能，关注学生成长中遇到的生理、心理问题。\r\n",
       "●采写/整理：魏金锋\r\n",
       "“半年难见爹和娘”的无奈\r\n",
       "每年七八月间，都是清远最热的时段。而往日喧闹的校园，一到这时便进入**假期**，一片沉寂。\r\n",
       "“留守儿童真凄凉，半年难见爹和娘，放学回家忙家务，夜里梦中唤爹娘。”是农村留守儿童的真实写照。在粤北山区的清远市农村，“半年难见爹和娘”的儿童实在是太普遍了。为了给家人更好的生活环境，许多青壮年选择了背井离乡。他们像候鸟一样，每年**春节**刚过，便飞向沿海各个城市打工，直到下一个**春节**的到来，半年甚至几年不回家，也是常有的事。\r\n",
       "对于很多父母在外务工的农村留守儿童而言，无论是留在家里，还是到父母身边团聚，怎样度过长达两个月的暑假，都是个难题。\r\n",
       "一位经常在清远参加各种公益活动的志愿者刘小姐说，很多次当他们乘坐的车子进入到村头时，就像突然注入了活力一般，孩子们三三两两飞奔过来，小村瞬间变得生动起来。“孩子们好奇地围着大巴转，因为他们盼望父母会从车上走下来，可惜不是。”\r\n",
       "目前，清远农村留守儿童数量在全省排名第四。留守儿童因为家庭环境的特殊性，在性格方面容易出现孤僻、偏激、冲动、攻击性比较强等缺陷；而亲情的缺乏和监管的缺失，让他们更容易受到外界因素的伤害。\r\n",
       "笔者走访了解到，喜的是，由于父母不在身边，不少留守儿童在艰难的环境中早早学会了生存的技能，变得顽强独立；忧的是，个别留守儿童因为缺乏大人监管，安全隐患重重。\r\n",
       "留守儿童也牵动着政府的心。近年来，清远各地通过政府购买服务等形式，探索和创新解决留守儿童问题的方式和途径，取得一定成效，但依旧任重道远。还需不断健全关爱留守儿童的法律和政策体系，强化父母法定监护责任等途径，缓解留守儿童问题。\r\n",
       "亲情缺失监管缺乏的隐患\r\n",
       "由于外出打工的父母长年累月难得有机会回一趟家，留守儿童缺乏父母的监护和保护，往往容易遭受伤害，比如溺水、烧伤、车祸甚至是性侵等等。\r\n",
       "“其实我们也知道父母长期不在家对孩子的身心健康和学习会带来负面影响，但这是痛苦无奈的选择。”家住清远阳山的何先生夫妇感慨良多。他家有一双儿女，由于家里田地少，经济窘困，在小女儿断奶后，就把孩子留给年迈的父母抚养，夫妇俩到了佛山打工，一干就是9年多，每半年夫妻俩才轮流回家一两天。\r\n",
       "9年过去了，夫妻俩好不容易挣了一些钱，去年回家盖起了新楼，并添置了一批家用电器。可谁知由于他俩长年不在家，两个孩子对父母的感情似乎都很生疏，大儿子经常逃学，小小年纪学会了抽烟饮酒，让这何先生夫妇非常伤心。\r\n",
       "业内人士指出，留守儿童之所以容易出问题，主要还是思想道德教育得不到足够的重视。由于学校师资力量及父母不在身边教育的原因，留守儿童思想道德教育被严重忽视。\r\n",
       "隔代监护人大多忙于务农，无暇教育儿童。而且，隔代监护人由于自身素质限制，教育水平不高、手段不当，不少留守儿童隔代监护人采取暴力手段“教育”儿童，错误的教育方式导致错误的教育成果。\r\n",
       "此外，由于农村师资力量水平的限制，留守儿童在音乐、美术、舞蹈等艺术类学习上机会非常少甚至是基本空白。乡村小学对体育课、心理健康教育课的师资投入极少，留守儿童长期得不到心理生理健康教育上的辅导，导致容易出现沉迷网络、电视及抽烟喝酒等不良习惯。\r\n",
       "让留守儿童的暑假不再孤单\r\n",
       "张万英认为，留守儿童因为家庭环境的特殊性，在性格方面容易出现孤僻、偏激、冲动、攻击性比较强等缺陷；人格上容易出现精神问题，如抑郁症、焦虑、恐惧、人际交往障碍等；在学习方面容易出现学习落后、缺乏动力等；跟家庭关系也会相对紧张，容易跟家里人产生冲突，难以和谐相处。\r\n",
       "农村留守儿童问题需要家庭、学校和社会的共同努力。一是加快新农村建设和小城镇建设，吸引外出农民工返乡就业创业，使留守儿童能够与父母团聚；二是学校要加强对留守儿童的关爱和照顾，可通过及时家访，定时为孩子做心理疏导等方式，多方位关爱留守儿童的身心健康；三是政府要健全关爱留守儿童的法律和政策体系，完善监护制度和国家救助体系，强化父母法定监护责任。\r\n",
       "张万英认为，不要让“留守儿童”成为“缺爱儿童”。不能经常和孩子在一起生活的父母，要争取多与孩子保持常态联系，经常打电话关心孩子，了解他们的心理需要，给予更多的心理关爱，如发现自己孩子出现异常行为，要及时和孩子沟通，避免孩子走上极端的道路。\r\n",
       "业内人士指出，相对于父母在身边的孩子不同，留守儿童的暑假一般只有三个选择，而这三个选择都潜伏着很大的安全隐患。\r\n",
       "一是乘车前往父母所在地，与父母一起度过**假期**，旅途比较危险，尤其是独自前往；二是在家帮助爷爷奶奶干活，小小年纪很容易出现安全事故；三是自由安排，这是最危险的，没有大人看护，孩子极有可能出事。\r\n",
       "该业内人士建议，要给孩子制定好科学作息时间，有大人在家的应该严厉监督，别让孩子养成坏习惯。在制定作息时间时，父母们应该以少量平均的安排学习任务，避免孩子荒废学业。有大人家督可以很好地防止孩子到处乱跑，引发安全事故。“因为暑假不像平时在学校，孩子有同学朋友相伴，长时间的呆在家里，孩子很容易孤单，这需要父母的关怀来开解，不然很容易让孩子的叛逆情绪增长起来，甚至让孩子逐渐自闭。”\r\n",
       "此外，不妨借用智能设备掌握孩子行踪，避免孩子靠近危险地带或出入禁止未成年人进入的场所，把影响孩子成长的一切不安因素拒之千里。\r\n",
       "■聚焦\r\n",
       "超6个月不履行职责或撤销监护资格\r\n",
       "《清远市关于加强农村留守儿童关爱保护工作的实施方案》指出，建立农村留守儿童摸底排查机制。按照属地管理、分级负责的原则，建立县、镇、村（居）委会关爱农村留守儿童三级工作服务网络。\r\n",
       "建立农村留守儿童发现报告机制，民政部门要会同财政、教育、卫计、公安、住建、团委等部门和单位建立社会参与面广、覆盖面大、渠道顺畅和相应快速的留守儿童报告网络，制定留守儿童信息报告激励办法，鼓励社会各界积极参与留守儿童关爱保护工作。\r\n",
       "对实施家庭暴力、虐待或遗弃农村家庭留守儿童的父母或受委托监护人，公安机关应当给予批评教育，必要时给予治安管理处罚，情节恶劣构成犯罪的，依法立案侦查。\r\n",
       "对于监护人将农村留守儿童置于无人监管和照看状态导致其面临危险且经教育不改的，或者拒不履行监护职责6个月以上导致农村留守儿童生活无着的，或者实施家庭暴力、虐待或遗弃农村留守儿童导致其身心健康严重受损的，其近亲属、村（居）委会、县民政部门等有关人员或单位要依法向人民法院申请撤销监护人资格，另行指定监护人。\r\n",
       "方案指出，父母要依法履行对未成年子女的监护职责和抚养义务。外出务工人员要尽量携带未成年子女共同生活或父母一方留家照料，暂不具备条件的应当委托有监护能力的亲属或其他成年人代为监护，不得让未满16周岁的儿童脱离监护单独居住生活。外出务工时，父母要向当地村（居）委会报告外出务工及留守儿童、委托监护人的情况。\r\n",
       "父母或其他监护人不依法履行监护职责，村（居）委会、公安机关和有关部门要及时上门予以劝诫、制止；情节严重或造成严重后果的，公安机关等要依法追究其责任，强化家庭监护主体责任。\r\n",
       "加大教育部门和学校关爱保护力度。各县级政府要完善控辍保学部门协调机制，督促监护人送适龄儿童、少年入学并完成义务教育。教育部门要负责落实免费义务教育和教育资助政策，确保农村留守儿童不因贫困而失学；改善留守儿童教育条件，加强留守儿童教育基础设施建设，优化农村义务教育学校布局。\r\n",
       "■关注\r\n",
       "如何防止留守儿童溺亡悲剧？\r\n",
       "清远是依山傍水的城市，每到夏季，游泳是不少人的至爱。尤其在学生放**假期**间，江河边戏水似乎成了一种不可或缺的乐趣，可惜几乎每年都有学生溺水身亡的事故发生。\r\n",
       "留守儿童的安全一直是个大问题，在上学时有学校的约束还好，可是一旦放假后，父母又不在身边，家里老人又看不住孩子，孩子的身边就像埋藏了无数颗炸弹。而且儿童自救能力较差。不少去玩水的儿童都不会游泳，但在同伴邀约下，冒险下水嬉戏，溺水后，由于同伴大多年纪小、能力有限，一旦遇险，惊慌失措，难以互救，极易发生群体溺亡事故。\r\n",
       "笔者从清远市教育部门获悉，近年来，清远全市因溺水事故死亡学生每年都有10人左右，占所有非正常死亡学生数的大约一半。\r\n",
       "为此，今年5月份召开的清远全市防溺水视频工作会议强调，各地各部门要把预防学生溺水工作纳入当前重要议事日程，抓好辖区内中小学、幼儿园安全管理，加强安全宣传教育；强化周边水域排查，加强隐患整改。对因制度不健全、管理不到位、责任不落实，导致安全责任事故的，将按照有关规定严肃追究相关人员的责任。\r\n",
       "学校还要会同村委会、社区居委会，做好校园及其周边溺水安全隐患的排查，一方面要在校内水池、河道、沟渠等易发生溺水的地方设置警示标志，加强防护设施；另一方面要通过教师、学生家长或社区居委会、村委会摸清学校周边各类江河、池塘、溪流等水域的安全隐患，在校内提前对学生进行安全警示。\r\n",
       "据悉，清远市政府将组织相关人员成立督查组，对各地及相关部门的防溺水工作落实情况进行督查。对发生安全事故的，要按照“四不放过”原则，加强责任追究，对因制度不健全、管理不到位、责任不落实，导致安全责任事故的，要按照有关规定严肃追究相关人员的责任。\r\n"
      ],
      "text/plain": [
       "<IPython.core.display.Markdown object>"
      ]
     },
     "metadata": {},
     "output_type": "display_data"
    },
    {
     "data": {
      "text/markdown": [
       "## Search Result 4\n",
       "中国新闻：\\n\\n*公鉴：关于“新华全媒”新闻服务平台上线的公告\\n\\n*(脱贫攻坚)(6)云南禄劝：苗寨村民易地搬迁过上新生活\\n\\n*新华社摄影部今日重要稿件预告\\n\\n*(图片故事)(10)“挠挠”所长履职记\\n\\n*(新华视点·图片版)(2)港珠澳大桥岛隧工程海底隧道的最终接头对接完成\\n\\n*(法治)(8)中意警方在沪联合巡逻\\n\\n*(时代先锋·图文互动)(5)仰望最亮“星”勿忘造星人——记航天科技集团五院“通信卫星创新团队”\\n\\n*(文化)(8)“民族翰骨”潘天寿诞辰120周年纪念大展在京开幕\\n\\n*(文化)(2)校园里的朗读者\\n\\n*(图文互动)(5)台籍青年教师黄志伟：“我在武汉找到了舞台”——新华旺中“台胞在大陆”联合采访报道之二\\n\\n*(一带一路)(5)一带一路好日子——元旦\\n\\n*(一带一路)(5)一带一路好日子——**春节**\\n\\n*(一带一路)(5)一带一路好日子——泼水节\\n\\n*(一带一路)(4)一带一路好日子——洒红节\\n\\n*(一带一路)(4)一带一路好日子——诺鲁孜节\\n\\n*(社会)(2)铁路青年工地约会觅良缘\\n\\n*(经济)河北宣化发展现代农业助农增收\\n\\n*(经济)(2)河北宣化：打造高端装备制造产业集群\\n\\n*(服务)(3)西安：高速公路收费站开通手机支付业务\\n\\n*(文化)(3)《东京审判——为了世界和平》一书国内首发\\n\\n*(社会)(2)校园倡清风\\n\\n*(社会)(3)重温入团誓词传承“五四”精神\\n\\n*(体育)(2)排球——朱婷回乡与媒体、球迷互动\\n\\n*(社会)(4)扎根农村干事业村官摸索致富路\\n\\n*(体育)(1)自行车——第五届环巴松措国际山地自行车赛落幕\\n\\n*(社会)(4)高铁微客服受旅客欢迎\\n\\n*(时政)张高丽会见阿联酋外交与国际合作部长阿卜杜拉\\n\\n*(新华全媒头条·图文互动)(10)港珠澳大桥全线贯通在即粤港澳大湾区加速起航\\n\\n*(社会)(2)辽宁海警开展清查整治“三无”船舶专项行动\\n\\n*(环境)乌鲁木齐遭遇短时雨雪冰雹天气\\n\\n*(社会)(5)港珠澳大桥工程上的“大国重器”\\n\\n*(体育)(2)足球——足协杯：杭州绿城胜辽宁开新\\n\\n*#(经济)(3)三峡船闸累计货运量突破10亿吨\\n\\n*#(社会)(3)内蒙古大兴安岭北部火场外线合围　明火被扑灭\\n\\n*#(环境)(3)湖北宣恩：“鸽子花”悄然开放\\n\\n*#(社会)(4)山西永济：鹳雀楼前旗袍秀\\n\\n*#(图片故事)(7)苗乡“90后草根乐队”寻梦记\\n\\n\\n国际新闻：\\n\\n*(XHDW)(2)奥地利外长访问利比亚\\n\\n*(国际)(5)德国一快速列车在多特蒙德中央火车站发生出轨事故\\n\\n*(国际)(5)“非洲火人节”收官\\n\\n*(新华视界)(10)在纽约寄兴园体验中国园林之美\\n\\n*(国际)(10)在纽约寄兴园体验中国园林之美\\n\\n*(XHDW)重庆芭蕾舞团参加阿尔及利亚国际现代舞艺术节\\n\\n*(国际)(10)美国各地民众举行劳动节游行\\n\\n*(国际)(3)圣彼得堡举行“五一”劳动节游行\\n\\n*(国际)哈马斯发布新政策文件接受划界建国\\n\\n*(一带一路·好项目)(7)蒙内铁路——肯尼亚的铁路“中国造”\\n\\n*(XHDW)(3)第48届休斯敦国际海洋油气技术大会及设备展开幕\\n\\n*(国际·图文互动)专访：中国的发展将对欧洲未来发展产生重大影响——访匈牙利外交与对外经济部长西亚尔托\\n\\n*(国际·图文互动)(3)走进挪威峡湾深处的“书镇”\\n\\n*(国际)中国海军远航访问编队结束访问离开菲律宾\\n\\n*(XHDW)(5)昂山素季访问欧盟\\n\\n*(国际)(6)科学家丁肇中的日常生活\\n\\n*(国际)(9)韩国举行最后一次总统候选人电视辩论\\n\\n*(国际)(4)以色列庆祝独立日\\n\\n*(新华视界)(5)以色列庆祝独立日\\n\\n*(一带一路·好项目)(11)中国企业承建特拉维夫轻轨项目\\n\\n*(国际)(5)德国一快速列车在多特蒙德中央火车站发生出轨事故\\n\\n*(国际)(5)“非洲火人节”收官\\n\\n*(国际)(10)在纽约寄兴园体验中国园林之美\\n\\n*(国际)(10)美国各地民众举行劳动节游行\\n\\n*(国际)(3)圣彼得堡举行“五一”劳动节游行\\n\\n*(国际)哈马斯发布新政策文件接受划界建国\\n\\n*(一带一路·好项目)(7)蒙内铁路——肯尼亚的铁路“中国造”\\n\\n*(国际·图文互动)专访：中国的发展将对欧洲未来发展产生重大影响——访匈牙利外交与对外经济部长西亚尔托\\n\\n*新华社摄影部2017年05月02日白班发稿目录(国际对内)\\n\\n*(国际·图文互动)(3)走进挪威峡湾深处的“书镇”\\n\\n*(国际)中国海军远航访问编队结束访问离开菲律宾\\n\\n*(国际)(6)科学家丁肇中的日常生活\\n\\n*(国际)(9)韩国举行最后一次总统候选人电视辩论\\n\\n*(国际)(4)以色列庆祝独立日\\n\\n*(一带一路·好项目)(11)中国企业承建特拉维夫轻轨项目\\n\\n\\n体育专线：\\n\\n一、发专线稿件：\\n*(体育)(8)斯诺克——塞尔比夺得世锦赛冠军\\n*(体育)(6)足球——英超联赛：利物浦客场告捷\\n*(体育)(6)篮球——NBA季后赛：火箭胜马刺\\n*(体育)(7)篮球——NBA季后赛：骑士胜猛龙\\n*(体育)(5)排球——朱婷回乡与媒体、球迷互动\\n*(体育)(2)自行车——第五届环巴松措国际山地自行车赛落幕\\n*(体育)(5)足球——在葡萄牙托里什人队训练的中国小球员\\n*(体育)(8)足球——足协杯：呼和浩特小草胜长春亚泰\\n*(体育)(5)足球——足协杯：杭州绿城胜辽宁开新\\n*(体育)(7)足球——足协杯：山东鲁能胜吉林百嘉\\n\\n二、发对外稿件：\\n*(XHDW)(体育)(10)篮球——香港甲一男子篮球联赛赛况\\n\\n\\n图表专线：\\n\\n*公鉴：关于“新华全媒”新闻服务平台上线的公告\\n\\n*（图表）[财经·股市]纽约股市涨跌互现\\n\\n*（图表）[财经·金价]纽约金价1日大幅下跌\\n\\n*（图表）[财经·油价]纽约油价1日下跌\\n\\n*（图表）[突发事件]哥伦比亚一军用飞机坠毁\\n\\n*（图表）[科技]科普：冥想有助集中精力\\n\\n*新华社摄影部2017年05月02日白天发稿目录(图表专线)\\n\\n*（图表）[关注五一]“五一”**假期**全国铁路发送旅客近4900万人次\\n\\n*（图表·漫画）[财经·聚焦]“美化”\\n\\n*（图表·漫画）[财经·聚焦]突击增长\\n\\n*（图表·漫画）[科技]成功破译\\n\\n*（图表）[科技]月掩恒星“轩辕十四”罕见天象5月4日上演\\n\\n*（图表）[经济]美财长说美国经济有望实现3％增长目标\\n\\n*（图表·漫画）[新华视点]签约\\n\\n*（图表·漫画）[解读经济开局季·民生工程]“精神敬老”\\n\\n*（图表）[受权发布]国务院关于修改《大中型水利水电工程建设征地补偿和移民安置条例》的决定\\n\\n*（图表·漫画）[解读经济开局季·民生工程]精神孤独\\n\\n*（图表）[财经·动态]深圳新房均价出现“七连跌”4月成交量环比大涨146%\\n\\n*（图表）[经济]财政部：物流企业大宗商品仓储用地土地使用税享50%优惠\\n\\n\\n外代图片一线：\\n\\n*(外代一线)(9)德国一快速列车在多特蒙德中央火车站发生出轨事故\\n\\n*(外代一线)(10)美国得州一大学校园发生持刀扎人事件\\n\\n*(外代一线)(5)阿联酋与德国讨论地区安全形势\\n\\n*(外代一线)(12)马杜罗宣布将启动制宪大会重新制定宪法\\n\\n*(外代一线)(2)奥地利外长表示将继续支持利比亚民族团结政府\\n\\n*(外代一线)(6)哈马斯发布新政策文件接受划界建国\\n\\n*(外代一线)(7)加拿大多伦多金融区传出爆炸声\\n\\n*新华社摄影部2017年05月02日白班发稿目录(外代图片一线)\\n\\n*(外代一线)(9)摩苏尔战事\\n\\n*(外代一线)(18)特朗普说愿在“合适情况”下与金正恩会面\\n\\n*(外代一线)(2)“朴槿惠案”首次预审在首尔举行　辩方律师否认全部指控\\n\\n*(外代一线)(5)昂山素季访问欧盟\\n\\n*(外代一线)(4)韩国举行最后一次总统候选人电视辩论\\n\\n*(外代一线)(13)以色列庆祝独立日\\n\\n\\n外代图片二线：\\n\\n*(外代二线)印度传统婚嫁日\\n\\n*[1](外代二线)“城市里的农民”\\n\\n*[2](外代二线)“城市里的农民”\\n\\n*[3](外代二线)“城市里的农民”\\n\\n*[4](外代二线)“城市里的农民”\\n\\n*[5](外代二线)“城市里的农民”\\n\\n*[6](外代二线)“城市里的农民”\\n\\n*[7](外代二线)“城市里的农民”\\n\\n*[8](外代二线)“城市里的农民”\\n\\n*[9](外代二线)“城市里的农民”\\n\\n*[6](外代二线)戈马舞蹈节\\n\\n*[1](外代二线)彩色烟雾\\n\\n*[2](外代二线)彩色烟雾\\n\\n*[3](外代二线)彩色烟雾\\n\\n*[4](外代二线)彩色烟雾\\n\\n*[5](外代二线)彩色烟雾\\n\\n*[6](外代二线)彩色烟雾\\n\\n*[7](外代二线)彩色烟雾\\n\\n*[6](外代二线)墨西哥航空航天展闭幕表演\\n\\n*[7](外代二线)墨西哥航空航天展闭幕表演\\n\\n*[8](外代二线)墨西哥航空航天展闭幕表演\\n\\n*[1](外代二线)墨西哥航空航天展闭幕表演\\n\\n*[2](外代二线)墨西哥航空航天展闭幕表演\\n\\n*[3](外代二线)墨西哥航空航天展闭幕表演\\n\\n*[4](外代二线)墨西哥航空航天展闭幕表演\\n\\n*[5](外代二线)墨西哥航空航天展闭幕表演\\n\\n*[10](外代二线)戈马舞蹈节\\n\\n*[3](外代二线)福塔莱萨海滨风光\\n\\n*[4](外代二线)福塔莱萨海滨风光\\n\\n*[1](外代二线)福塔莱萨海滨风光\\n\\n*[2](外代二线)福塔莱萨海滨风光\\n\\n*[1](外代二线)俄罗斯摩托车节表演\\n\\n*[2](外代二线)俄罗斯摩托车节表演\\n\\n*[3](外代二线)俄罗斯摩托车节表演\\n\\n*[4](外代二线)俄罗斯摩托车节表演\\n\\n*[5](外代二线)俄罗斯摩托车节表演\\n\\n*[6](外代二线)俄罗斯摩托车节表演\\n\\n*[7](外代二线)俄罗斯摩托车节表演\\n\\n*[1](外代二线)波兰举行第24届蒸汽机车游行\\n\\n*[2](外代二线)波兰举行第24届蒸汽机车游行\\n\\n*[3](外代二线)波兰举行第24届蒸汽机车游行\\n\\n*[4](外代二线)波兰举行第24届蒸汽机车游行\\n\\n*[5](外代二线)波兰举行第24届蒸汽机车游行\\n\\n*[6](外代二线)波兰举行第24届蒸汽机车游行\\n\\n*[7](外代二线)波兰举行第24届蒸汽机车游行\\n\\n*[8](外代二线)波兰举行第24届蒸汽机车游行\\n\\n*[9](外代二线)波兰举行第24届蒸汽机车游行\\n\\n*[10](外代二线)波兰举行第24届蒸汽机车游行\\n\\n*[11](外代二线)波兰举行第24届蒸汽机车游行\\n\\n*[12](外代二线)波兰举行第24届蒸汽机车游行\\n\\n*[13](外代二线)波兰举行第24届蒸汽机车游行\\n\\n*[14](外代二线)波兰举行第24届蒸汽机车游行\\n\\n*[15](外代二线)波兰举行第24届蒸汽机车游行\\n\\n*[16](外代二线)波兰举行第24届蒸汽机车游行\\n\\n*[17](外代二线)波兰举行第24届蒸汽机车游行\\n\\n*[18](外代二线)波兰举行第24届蒸汽机车游行\\n\\n*[19](外代二线)波兰举行第24届蒸汽机车游行\\n\\n*[20](外代二线)波兰举行第24届蒸汽机车游行\\n\\n*[21](外代二线)波兰举行第24届蒸汽机车游行\\n\\n*[22](外代二线)波兰举行第24届蒸汽机车游行\\n\\n*公鉴：关于“新华全媒”新闻服务平台上线的公告\\n\\n*[2](外代二线)多彩花环\\n\\n*[3](外代二线)多彩花环\\n\\n*[4](外代二线)多彩花环\\n\\n\\n\\n新华社摄影部"
      ],
      "text/plain": [
       "<IPython.core.display.Markdown object>"
      ]
     },
     "metadata": {},
     "output_type": "display_data"
    }
   ],
   "source": [
    "search_engine_with_pretty_print('春节 假期')"
   ]
  },
  {
   "cell_type": "code",
   "execution_count": null,
   "metadata": {},
   "outputs": [],
   "source": []
  },
  {
   "cell_type": "code",
   "execution_count": 234,
   "metadata": {},
   "outputs": [
    {
     "data": {
      "text/plain": [
       "[2189]"
      ]
     },
     "execution_count": 234,
     "metadata": {},
     "output_type": "execute_result"
    }
   ],
   "source": [
    "#%%timeit\n",
    "search_engine('美联储 加息 次数')"
   ]
  },
  {
   "cell_type": "code",
   "execution_count": 235,
   "metadata": {
    "scrolled": true
   },
   "outputs": [
    {
     "data": {
      "text/plain": [
       "'\\u3000\\u30006月15日凌晨，是美联储公布利率决议的时刻，截至发稿，联邦基金利率期货蕴含的加息概率为100%。\\r\\n\\u3000\\u3000但多位分析人士告诉中国证券报记者，目前而言，单纯从加息的角度看，市场已经充分定价，此次会议透露出来的美联储对下半年加息和缩表的态度将成为接下来市场关注焦点。此外，大宗商品近期走势与美元相关性走弱，未来也将更多受国内基本面主导，并趋向震荡偏弱。\\r\\n\\u3000\\u3000市场聚焦美联储\\r\\n\\u3000\\u3000在美联储利率决议公布前夕的紧张气氛中，黄金屏息以待，本周来持续窄幅震荡，截至昨日，COMEX黄金期货主力报收1269.7美元/盎司。与此同时，原油期货震荡区间也明显收窄。而在此前，黄金、原油期货均出现明显跌幅。\\r\\n\\u3000\\u3000南华宏观章睿哲表示，目前美联储加息已被市场充分预期，周四重点关注美联储对下半年几次议息会议的态度，如果态度不够鹰派，那么美元可能还会下行，黄金短期内还会上涨。\\r\\n\\u3000\\u3000如何看待美联储货币政策后续走势？\\r\\n\\u3000\\u3000“当前市场的核心焦点在美联储对下半年加息和缩表的态度。”浙商期货研究中心首席宏观分析师洪清源表示，6月美联储加息基本被市场充分预期，议息会议前市场预期的加息概率就已高达99%。加息本身对市场的冲击并不大。“从当前美国经济基本面看，补库存周期进入尾声，薪资增长放缓，消费后继增长乏力，经济复苏面临一定压力。特朗普政策是当前美国经济最大的不确定因素，其减税和基建刺激计划有利于提振私人部门投资，但从目前推进的情况看并不是很顺畅，8月前税改能否推出则十分关键。同时，市场表现中，本次加息是市场反应最不积极的一次加息，以往每次加息前美债收益率和美元均有所上涨，而近期美债收益率不升反降、美元持续疲弱，体现出市场对美国经济持续复苏的担忧。因此来看，近期美联储难以鹰派，对下半年加息和缩表的预期也有望放缓。”\\r\\n\\u3000\\u3000值得注意的是，国金宏观边泉水团队认为，本次美联储会议将会公布新的点阵图，其对未来缩表相关细节的披露，以及点阵图蕴含的加息次数，将是影响市场的关键变量。当前市场对9月进一步加息预期不高（联邦基金利率期货蕴含的加息概率不超过50%），如果相关信息偏鹰，可能推升美国国债收益率，提振美元指数，打压黄金价格。\\r\\n'"
      ]
     },
     "execution_count": 235,
     "metadata": {},
     "output_type": "execute_result"
    }
   ],
   "source": [
    "content['content'][2189]"
   ]
  },
  {
   "cell_type": "markdown",
   "metadata": {},
   "source": [
    "## Why ?"
   ]
  },
  {
   "cell_type": "markdown",
   "metadata": {},
   "source": [
    "```\n",
    "preprocessing\n",
    "```"
   ]
  },
  {
   "cell_type": "markdown",
   "metadata": {},
   "source": [
    "## PageRank"
   ]
  },
  {
   "cell_type": "markdown",
   "metadata": {},
   "source": [
    "http://sparkandshine.net/webpages-ranking-algorithm-pagerank/"
   ]
  },
  {
   "cell_type": "code",
   "execution_count": 236,
   "metadata": {},
   "outputs": [],
   "source": [
    "import networkx as nx"
   ]
  },
  {
   "cell_type": "code",
   "execution_count": 237,
   "metadata": {},
   "outputs": [],
   "source": [
    "import random"
   ]
  },
  {
   "cell_type": "code",
   "execution_count": 238,
   "metadata": {},
   "outputs": [],
   "source": [
    "from string import ascii_uppercase"
   ]
  },
  {
   "cell_type": "code",
   "execution_count": 239,
   "metadata": {},
   "outputs": [
    {
     "data": {
      "text/plain": [
       "'ABCDEFGHIJKLMNOPQRSTUVWXYZ'"
      ]
     },
     "execution_count": 239,
     "metadata": {},
     "output_type": "execute_result"
    }
   ],
   "source": [
    "ascii_uppercase"
   ]
  },
  {
   "cell_type": "code",
   "execution_count": 240,
   "metadata": {},
   "outputs": [],
   "source": [
    "def genearte_random_website():\n",
    "    return ''.join([random.choice(ascii_uppercase) for _ in range(random.randint(3, 5))]) + '.'  + random.choice(['com', 'cn', 'net'])"
   ]
  },
  {
   "cell_type": "code",
   "execution_count": 241,
   "metadata": {},
   "outputs": [
    {
     "data": {
      "text/plain": [
       "'SIC.cn'"
      ]
     },
     "execution_count": 241,
     "metadata": {},
     "output_type": "execute_result"
    }
   ],
   "source": [
    "genearte_random_website()"
   ]
  },
  {
   "cell_type": "code",
   "execution_count": 242,
   "metadata": {},
   "outputs": [],
   "source": [
    "websites = [genearte_random_website() for _ in range(25)]"
   ]
  },
  {
   "cell_type": "code",
   "execution_count": 243,
   "metadata": {},
   "outputs": [
    {
     "data": {
      "text/plain": [
       "['NHT.cn',\n",
       " 'KXG.cn',\n",
       " 'SZI.cn',\n",
       " 'ZWI.net',\n",
       " 'FGVJ.cn',\n",
       " 'ZJAO.com',\n",
       " 'AMW.cn',\n",
       " 'GNQXZ.com',\n",
       " 'CNC.cn',\n",
       " 'SBBY.cn',\n",
       " 'AHYP.com',\n",
       " 'CNSY.cn',\n",
       " 'NNQDI.com',\n",
       " 'YRYPA.cn',\n",
       " 'CVT.cn',\n",
       " 'EEJ.net',\n",
       " 'PWVPL.net',\n",
       " 'XMC.cn',\n",
       " 'JEFCP.cn',\n",
       " 'YNO.net',\n",
       " 'YNFJE.cn',\n",
       " 'TXMC.cn',\n",
       " 'WFJ.cn',\n",
       " 'ZZG.cn',\n",
       " 'CXFMK.cn']"
      ]
     },
     "execution_count": 243,
     "metadata": {},
     "output_type": "execute_result"
    }
   ],
   "source": [
    "websites"
   ]
  },
  {
   "cell_type": "code",
   "execution_count": 244,
   "metadata": {},
   "outputs": [
    {
     "data": {
      "text/plain": [
       "['TXMC.cn',\n",
       " 'YNFJE.cn',\n",
       " 'CXFMK.cn',\n",
       " 'SBBY.cn',\n",
       " 'WFJ.cn',\n",
       " 'AMW.cn',\n",
       " 'EEJ.net',\n",
       " 'GNQXZ.com',\n",
       " 'JEFCP.cn',\n",
       " 'YRYPA.cn']"
      ]
     },
     "execution_count": 244,
     "metadata": {},
     "output_type": "execute_result"
    }
   ],
   "source": [
    "random.sample(websites, 10)"
   ]
  },
  {
   "cell_type": "code",
   "execution_count": 245,
   "metadata": {},
   "outputs": [],
   "source": [
    "website_connection = {\n",
    "    websites[0]: random.sample(websites, 10),\n",
    "    websites[1]: random.sample(websites, 5),\n",
    "    websites[3]: random.sample(websites, 7),\n",
    "    websites[4]: random.sample(websites, 2),\n",
    "    websites[5]: random.sample(websites, 1),\n",
    "}"
   ]
  },
  {
   "cell_type": "code",
   "execution_count": 246,
   "metadata": {},
   "outputs": [],
   "source": [
    "website_network = nx.graph.Graph(website_connection)"
   ]
  },
  {
   "cell_type": "code",
   "execution_count": null,
   "metadata": {},
   "outputs": [],
   "source": []
  },
  {
   "cell_type": "code",
   "execution_count": 247,
   "metadata": {},
   "outputs": [
    {
     "name": "stderr",
     "output_type": "stream",
     "text": [
      "C:\\Users\\Mr. Wu\\Anaconda3\\lib\\site-packages\\networkx\\drawing\\nx_pylab.py:611: MatplotlibDeprecationWarning: isinstance(..., numbers.Number)\n",
      "  if cb.is_numlike(alpha):\n"
     ]
    },
    {
     "data": {
      "image/png": "[encoded data removed]",
      "text/plain": [
       "<Figure size 864x864 with 1 Axes>"
      ]
     },
     "metadata": {
      "needs_background": "light"
     },
     "output_type": "display_data"
    }
   ],
   "source": [
    "plt.figure(3,figsize=(12,12))\n",
    "nx.draw_networkx(website_network, font_size=10)"
   ]
  },
  {
   "cell_type": "code",
   "execution_count": 248,
   "metadata": {},
   "outputs": [
    {
     "data": {
      "text/plain": [
       "[('NHT.cn', 0.18218098108288006),\n",
       " ('ZWI.net', 0.12731400590634995),\n",
       " ('KXG.cn', 0.09724711962432463),\n",
       " ('EEJ.net', 0.055569523053647506),\n",
       " ('YNO.net', 0.054977837026914916),\n",
       " ('ZJAO.com', 0.05),\n",
       " ('PWVPL.net', 0.05),\n",
       " ('FGVJ.cn', 0.040290470208232315),\n",
       " ('ZZG.cn', 0.040109561550450416),\n",
       " ('SZI.cn', 0.03949214787356115),\n",
       " ('SBBY.cn', 0.03844565065655085),\n",
       " ('XMC.cn', 0.03844565065655085),\n",
       " ('AMW.cn', 0.024032186370364063),\n",
       " ('TXMC.cn', 0.024032186370364063),\n",
       " ('AHYP.com', 0.022985689153353764),\n",
       " ('JEFCP.cn', 0.022985689153353764),\n",
       " ('GNQXZ.com', 0.022985689153353764),\n",
       " ('CVT.cn', 0.022985689153353764),\n",
       " ('CXFMK.cn', 0.022959961503197096),\n",
       " ('NNQDI.com', 0.022959961503197096)]"
      ]
     },
     "execution_count": 248,
     "metadata": {},
     "output_type": "execute_result"
    }
   ],
   "source": [
    "sorted(nx.pagerank(website_network).items(),key=lambda x: x[1], reverse=True)"
   ]
  },
  {
   "cell_type": "code",
   "execution_count": null,
   "metadata": {},
   "outputs": [],
   "source": []
  }
 ],
 "metadata": {
  "kernelspec": {
   "display_name": "Python 3",
   "language": "python",
   "name": "python3"
  },
  "language_info": {
   "codemirror_mode": {
    "name": "ipython",
    "version": 3
   },
   "file_extension": ".py",
   "mimetype": "text/x-python",
   "name": "python",
   "nbconvert_exporter": "python",
   "pygments_lexer": "ipython3",
   "version": "3.7.1"
  }
 },
 "nbformat": 4,
 "nbformat_minor": 2
}
