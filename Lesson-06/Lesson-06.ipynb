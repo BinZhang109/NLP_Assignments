{
 "cells": [
  {
   "cell_type": "markdown",
   "metadata": {},
   "source": [
    "## 1. Summarize the reasons of overfitting and underfitting. Put them in github repository."
   ]
  },
  {
   "cell_type": "markdown",
   "metadata": {},
   "source": [
    "#### 过拟合（overfitting）是所建的机器学习模型或者是深度学习模型在训练样本中表现得过于优越，导致在验证数据集以及测试数据集中表现不佳。\n",
    "#### 原因有可以归结为：参数过多。\n",
    "#### 解决办法：\n",
    "1. 获取更多数据，让模型「看见」尽可能多的「例外情况」，它就会不断修正自己，从而得到更好的结果：\n",
    "    获取数据的方法：\n",
    "        a. 从数据源头获取更多数据\n",
    "        b. ：通过一定规则扩充数据。如在物体分类问题里，物体在图像中的位置、姿态、尺度，整体图片明暗度等都不会影响分类结果。我们就可以通过图像平移、翻转、缩放、切割等手段将数据库成倍扩充；\n",
    "        \n",
    "2. 使用合适的模型\n",
    "    2.1 网络结构 Architecture\n",
    "        减少网络的层数、神经元个数等均可以限制网络的拟合能力；\n",
    "    2.2 训练时间 Early stopping\n",
    "        在初始化网络的时候一般都是初始为较小的权值。训练时间越长，部分网络权值可能越大。如果我们在合适时间停止训练，就可以将网络的能力限制在一定范围内。\n",
    "    2.3 限制权值 Weight-decay，也叫正则化（regularization）\n",
    "    2.4 增加噪声 Noise\n",
    "    \n",
    "3. 结合多种模型\n",
    "    3.1 Bagging\n",
    "    3.2 Boosting\n",
    "    3.3 Dropout\n",
    "    \n",
    "4. 贝叶斯方法\n",
    "\n",
    "\n",
    "\n",
    "#### 欠拟合\n",
    "#### 解决办法：\n",
    " 增加网络复杂度或者在模型中增加多点特征点"
   ]
  },
  {
   "cell_type": "markdown",
   "metadata": {},
   "source": [
    "# 2. install the numpy, scikit-learning, keras, tensorflow"
   ]
  },
  {
   "cell_type": "markdown",
   "metadata": {},
   "source": [
    "# 3. Writing down three sceneries that machine learning has been used now."
   ]
  },
  {
   "cell_type": "markdown",
   "metadata": {},
   "source": [
    "　　银行、零售和电信\n",
    "\n",
    "　　* 潜在客户和合作伙伴\n",
    "\n",
    "　　* 客户满意度指数(基于关系、交易、营销活动等)\n",
    "\n",
    "　　* 欺诈、浪费和滥用索赔\n",
    "\n",
    "　　* 预测信用风险和信誉\n",
    "\n",
    "　　* 营销活动的有效性(比如提议被多少人接受了?被多少人拒绝了?有没有决定性的影响因素?\n",
    "\n",
    "　　* 交叉销售和建议(例如，电商网站告诉你“购买这个产品的消费者同时也购买了那个产品”)\n",
    "\n",
    "　　* 联络中心(帮助客服代表在与客户的通话中获取相关数据)\n",
    "\n",
    "　　医疗保健和生命科学\n",
    "\n",
    "　　* 扫描、筛选和生物识别\n",
    "\n",
    "　　* 基于混合成分的药物\n",
    "\n",
    "　　* 基于症状、患者记录和实验室报告的诊断和补救\n",
    "\n",
    "　　* 根据药物、患者、地理位置、气候条件、过往病史、食物摄入等数据的AECP(不良事件病例处理)情景。\n",
    "\n",
    "　　一般\n",
    "\n",
    "　　* 文字或语音书写识别\n",
    "\n",
    "　　* 调试、故障排除和解决方案向导\n",
    "\n",
    "　　* 过滤垃圾邮件\n",
    "\n",
    "　　* 短信和邮件分类或建议\n",
    "\n",
    "　　* 支持问题并丰富KeDB(知识错误数据库)\n",
    "\n",
    "　　* 朋友和同事推荐\n",
    "\n",
    "　　* 无人驾驶，通过构建人工智能和算法\n",
    "\n",
    "　　* 图像处理\n",
    "\n",
    "　　安全\n",
    "\n",
    "　　* 手写、签名、指纹、虹膜/视网膜识别和验证\n",
    "\n",
    "　　* 人脸识别\n",
    "\n",
    "　　* DNA模式匹配"
   ]
  },
  {
   "cell_type": "markdown",
   "metadata": {},
   "source": [
    "# 4. Come out with three new sceneries with which machine learning may be applied."
   ]
  },
  {
   "cell_type": "markdown",
   "metadata": {},
   "source": [
    "- 智能工厂，智能调控工厂各项参数，使工厂运行效率最佳，自动发现潜在问题\n",
    "- 脑信号获取 + 推荐 + 智能化办公\n",
    "- 通过某种计算方法，使计算机能够计算出逻辑，具有推理能力"
   ]
  },
  {
   "cell_type": "code",
   "execution_count": null,
   "metadata": {},
   "outputs": [],
   "source": []
  }
 ],
 "metadata": {
  "kernelspec": {
   "display_name": "AI",
   "language": "python",
   "name": "ai"
  },
  "language_info": {
   "codemirror_mode": {
    "name": "ipython",
    "version": 3
   },
   "file_extension": ".py",
   "mimetype": "text/x-python",
   "name": "python",
   "nbconvert_exporter": "python",
   "pygments_lexer": "ipython3",
   "version": "3.6.8"
  }
 },
 "nbformat": 4,
 "nbformat_minor": 2
}
