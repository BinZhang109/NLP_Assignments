{
 "cells": [
  {
   "cell_type": "markdown",
   "metadata": {},
   "source": [
    "## Assignment-07 First Step of using machine learning and models."
   ]
  },
  {
   "cell_type": "markdown",
   "metadata": {},
   "source": [
    "![](https://github.com/Computing-Intelligence/jupyters_and_slides/raw/master/entrance-test/images/kkb-ai.png)"
   ]
  },
  {
   "cell_type": "code",
   "execution_count": 1,
   "metadata": {},
   "outputs": [],
   "source": [
    "fname = 'D:\\data\\sqlResult_1558435.csv'"
   ]
  },
  {
   "cell_type": "code",
   "execution_count": 2,
   "metadata": {},
   "outputs": [],
   "source": [
    "import pandas as pd"
   ]
  },
  {
   "cell_type": "code",
   "execution_count": 3,
   "metadata": {},
   "outputs": [],
   "source": [
    "content = pd.read_csv(fname, encoding='gb18030')"
   ]
  },
  {
   "cell_type": "code",
   "execution_count": 4,
   "metadata": {
    "scrolled": true
   },
   "outputs": [
    {
     "data": {
      "text/html": [
       "<div>\n",
       "<style scoped>\n",
       "    .dataframe tbody tr th:only-of-type {\n",
       "        vertical-align: middle;\n",
       "    }\n",
       "\n",
       "    .dataframe tbody tr th {\n",
       "        vertical-align: top;\n",
       "    }\n",
       "\n",
       "    .dataframe thead th {\n",
       "        text-align: right;\n",
       "    }\n",
       "</style>\n",
       "<table border=\"1\" class=\"dataframe\">\n",
       "  <thead>\n",
       "    <tr style=\"text-align: right;\">\n",
       "      <th></th>\n",
       "      <th>id</th>\n",
       "      <th>author</th>\n",
       "      <th>source</th>\n",
       "      <th>content</th>\n",
       "      <th>feature</th>\n",
       "      <th>title</th>\n",
       "      <th>url</th>\n",
       "    </tr>\n",
       "  </thead>\n",
       "  <tbody>\n",
       "    <tr>\n",
       "      <th>0</th>\n",
       "      <td>89617</td>\n",
       "      <td>NaN</td>\n",
       "      <td>快科技@http://www.kkj.cn/</td>\n",
       "      <td>此外，自本周（6月12日）起，除小米手机6等15款机型外，其余机型已暂停更新发布（含开发版/...</td>\n",
       "      <td>{\"type\":\"科技\",\"site\":\"cnbeta\",\"commentNum\":\"37\"...</td>\n",
       "      <td>小米MIUI 9首批机型曝光：共计15款</td>\n",
       "      <td>http://www.cnbeta.com/articles/tech/623597.htm</td>\n",
       "    </tr>\n",
       "    <tr>\n",
       "      <th>1</th>\n",
       "      <td>89616</td>\n",
       "      <td>NaN</td>\n",
       "      <td>快科技@http://www.kkj.cn/</td>\n",
       "      <td>骁龙835作为唯一通过Windows 10桌面平台认证的ARM处理器，高通强调，不会因为只考...</td>\n",
       "      <td>{\"type\":\"科技\",\"site\":\"cnbeta\",\"commentNum\":\"15\"...</td>\n",
       "      <td>骁龙835在Windows 10上的性能表现有望改善</td>\n",
       "      <td>http://www.cnbeta.com/articles/tech/623599.htm</td>\n",
       "    </tr>\n",
       "    <tr>\n",
       "      <th>2</th>\n",
       "      <td>89615</td>\n",
       "      <td>NaN</td>\n",
       "      <td>快科技@http://www.kkj.cn/</td>\n",
       "      <td>此前的一加3T搭载的是3400mAh电池，DashCharge快充规格为5V/4A。\\r\\n...</td>\n",
       "      <td>{\"type\":\"科技\",\"site\":\"cnbeta\",\"commentNum\":\"18\"...</td>\n",
       "      <td>一加手机5细节曝光：3300mAh、充半小时用1天</td>\n",
       "      <td>http://www.cnbeta.com/articles/tech/623601.htm</td>\n",
       "    </tr>\n",
       "    <tr>\n",
       "      <th>3</th>\n",
       "      <td>89614</td>\n",
       "      <td>NaN</td>\n",
       "      <td>新华社</td>\n",
       "      <td>这是6月18日在葡萄牙中部大佩德罗冈地区拍摄的被森林大火烧毁的汽车。新华社记者张立云摄\\r\\n</td>\n",
       "      <td>{\"type\":\"国际新闻\",\"site\":\"环球\",\"commentNum\":\"0\",\"j...</td>\n",
       "      <td>葡森林火灾造成至少62人死亡 政府宣布进入紧急状态（组图）</td>\n",
       "      <td>http://world.huanqiu.com/hot/2017-06/10866126....</td>\n",
       "    </tr>\n",
       "    <tr>\n",
       "      <th>4</th>\n",
       "      <td>89613</td>\n",
       "      <td>胡淑丽_MN7479</td>\n",
       "      <td>深圳大件事</td>\n",
       "      <td>（原标题：44岁女子跑深圳约会网友被拒，暴雨中裸身奔走……）\\r\\n@深圳交警微博称：昨日清...</td>\n",
       "      <td>{\"type\":\"新闻\",\"site\":\"网易热门\",\"commentNum\":\"978\",...</td>\n",
       "      <td>44岁女子约网友被拒暴雨中裸奔 交警为其披衣相随</td>\n",
       "      <td>http://news.163.com/17/0618/00/CN617P3Q0001875...</td>\n",
       "    </tr>\n",
       "  </tbody>\n",
       "</table>\n",
       "</div>"
      ],
      "text/plain": [
       "      id      author                  source  \\\n",
       "0  89617         NaN  快科技@http://www.kkj.cn/   \n",
       "1  89616         NaN  快科技@http://www.kkj.cn/   \n",
       "2  89615         NaN  快科技@http://www.kkj.cn/   \n",
       "3  89614         NaN                     新华社   \n",
       "4  89613  胡淑丽_MN7479                   深圳大件事   \n",
       "\n",
       "                                             content  \\\n",
       "0  此外，自本周（6月12日）起，除小米手机6等15款机型外，其余机型已暂停更新发布（含开发版/...   \n",
       "1  骁龙835作为唯一通过Windows 10桌面平台认证的ARM处理器，高通强调，不会因为只考...   \n",
       "2  此前的一加3T搭载的是3400mAh电池，DashCharge快充规格为5V/4A。\\r\\n...   \n",
       "3    这是6月18日在葡萄牙中部大佩德罗冈地区拍摄的被森林大火烧毁的汽车。新华社记者张立云摄\\r\\n   \n",
       "4  （原标题：44岁女子跑深圳约会网友被拒，暴雨中裸身奔走……）\\r\\n@深圳交警微博称：昨日清...   \n",
       "\n",
       "                                             feature  \\\n",
       "0  {\"type\":\"科技\",\"site\":\"cnbeta\",\"commentNum\":\"37\"...   \n",
       "1  {\"type\":\"科技\",\"site\":\"cnbeta\",\"commentNum\":\"15\"...   \n",
       "2  {\"type\":\"科技\",\"site\":\"cnbeta\",\"commentNum\":\"18\"...   \n",
       "3  {\"type\":\"国际新闻\",\"site\":\"环球\",\"commentNum\":\"0\",\"j...   \n",
       "4  {\"type\":\"新闻\",\"site\":\"网易热门\",\"commentNum\":\"978\",...   \n",
       "\n",
       "                           title  \\\n",
       "0           小米MIUI 9首批机型曝光：共计15款   \n",
       "1     骁龙835在Windows 10上的性能表现有望改善   \n",
       "2      一加手机5细节曝光：3300mAh、充半小时用1天   \n",
       "3  葡森林火灾造成至少62人死亡 政府宣布进入紧急状态（组图）   \n",
       "4       44岁女子约网友被拒暴雨中裸奔 交警为其披衣相随   \n",
       "\n",
       "                                                 url  \n",
       "0     http://www.cnbeta.com/articles/tech/623597.htm  \n",
       "1     http://www.cnbeta.com/articles/tech/623599.htm  \n",
       "2     http://www.cnbeta.com/articles/tech/623601.htm  \n",
       "3  http://world.huanqiu.com/hot/2017-06/10866126....  \n",
       "4  http://news.163.com/17/0618/00/CN617P3Q0001875...  "
      ]
     },
     "execution_count": 4,
     "metadata": {},
     "output_type": "execute_result"
    }
   ],
   "source": [
    "content.head()"
   ]
  },
  {
   "cell_type": "code",
   "execution_count": 5,
   "metadata": {},
   "outputs": [],
   "source": [
    "xinhua_news = content[content['source'] == '新华社']"
   ]
  },
  {
   "cell_type": "code",
   "execution_count": 6,
   "metadata": {},
   "outputs": [
    {
     "data": {
      "text/plain": [
       "0.8778051801676133"
      ]
     },
     "execution_count": 6,
     "metadata": {},
     "output_type": "execute_result"
    }
   ],
   "source": [
    "len(xinhua_news) / len(content)"
   ]
  },
  {
   "cell_type": "markdown",
   "metadata": {},
   "source": [
    "### 任务描述"
   ]
  },
  {
   "cell_type": "markdown",
   "metadata": {},
   "source": [
    "报社等相关的机构，往往会遇到一个问题，就是别人家的机构使用自己的文章但是并没有标明来源。 在本次任务中，我们将解决新华社的文章被抄袭引用的问题。"
   ]
  },
  {
   "cell_type": "markdown",
   "metadata": {},
   "source": [
    "给定的数据集合中，存在一些新闻预料，该预料是来自新华社，但是其来源并不是新华社，请设计技巧学习模型解决该问题。"
   ]
  },
  {
   "cell_type": "markdown",
   "metadata": {},
   "source": [
    "![](https://timgsa.baidu.com/timg?image&quality=80&size=b9999_10000&sec=1566105348906&di=ee9a2de91207767364853d4decc6cca3&imgtype=0&src=http%3A%2F%2Fmmbiz.qpic.cn%2Fmmbiz_png%2FTicO2kbP6Ao5sCsSQDpehZiczLdC6hDCNvoicjcOCEKX2bLxBc9gVOw28zHyFibfIWq9ceRibP6HDTKReGkr6YyTfQQ%2F640%3Fwx_fmt%3Dpng)"
   ]
  },
  {
   "cell_type": "markdown",
   "metadata": {},
   "source": [
    "### Step1: 数据分析"
   ]
  },
  {
   "cell_type": "markdown",
   "metadata": {},
   "source": [
    "请在课程的GitHub中下载数据集，然后使用pandas进行读取。"
   ]
  },
  {
   "cell_type": "code",
   "execution_count": 7,
   "metadata": {},
   "outputs": [],
   "source": [
    "# 上面已实现"
   ]
  },
  {
   "cell_type": "markdown",
   "metadata": {},
   "source": [
    "### Step2: 数据预处理"
   ]
  },
  {
   "cell_type": "markdown",
   "metadata": {},
   "source": [
    "将pandas中的数据，依据是否是新华社的文章，请改变成新的数据dataframe: <content, y>, 其中，content是文章内容，y是0或者1. 你可能要使用到pandas的dataframe操作。https://pandas.pydata.org/pandas-docs/stable/reference/api/pandas.DataFrame.apply.html"
   ]
  },
  {
   "cell_type": "code",
   "execution_count": 7,
   "metadata": {},
   "outputs": [],
   "source": [
    "# it's your time\n",
    "df = pd.DataFrame(content, columns=['content', 'source'])"
   ]
  },
  {
   "cell_type": "code",
   "execution_count": 8,
   "metadata": {
    "scrolled": true
   },
   "outputs": [
    {
     "data": {
      "text/html": [
       "<div>\n",
       "<style scoped>\n",
       "    .dataframe tbody tr th:only-of-type {\n",
       "        vertical-align: middle;\n",
       "    }\n",
       "\n",
       "    .dataframe tbody tr th {\n",
       "        vertical-align: top;\n",
       "    }\n",
       "\n",
       "    .dataframe thead th {\n",
       "        text-align: right;\n",
       "    }\n",
       "</style>\n",
       "<table border=\"1\" class=\"dataframe\">\n",
       "  <thead>\n",
       "    <tr style=\"text-align: right;\">\n",
       "      <th></th>\n",
       "      <th>content</th>\n",
       "      <th>source</th>\n",
       "    </tr>\n",
       "  </thead>\n",
       "  <tbody>\n",
       "    <tr>\n",
       "      <th>0</th>\n",
       "      <td>此外，自本周（6月12日）起，除小米手机6等15款机型外，其余机型已暂停更新发布（含开发版/...</td>\n",
       "      <td>快科技@http://www.kkj.cn/</td>\n",
       "    </tr>\n",
       "    <tr>\n",
       "      <th>1</th>\n",
       "      <td>骁龙835作为唯一通过Windows 10桌面平台认证的ARM处理器，高通强调，不会因为只考...</td>\n",
       "      <td>快科技@http://www.kkj.cn/</td>\n",
       "    </tr>\n",
       "    <tr>\n",
       "      <th>2</th>\n",
       "      <td>此前的一加3T搭载的是3400mAh电池，DashCharge快充规格为5V/4A。\\r\\n...</td>\n",
       "      <td>快科技@http://www.kkj.cn/</td>\n",
       "    </tr>\n",
       "    <tr>\n",
       "      <th>3</th>\n",
       "      <td>这是6月18日在葡萄牙中部大佩德罗冈地区拍摄的被森林大火烧毁的汽车。新华社记者张立云摄\\r\\n</td>\n",
       "      <td>新华社</td>\n",
       "    </tr>\n",
       "    <tr>\n",
       "      <th>4</th>\n",
       "      <td>（原标题：44岁女子跑深圳约会网友被拒，暴雨中裸身奔走……）\\r\\n@深圳交警微博称：昨日清...</td>\n",
       "      <td>深圳大件事</td>\n",
       "    </tr>\n",
       "  </tbody>\n",
       "</table>\n",
       "</div>"
      ],
      "text/plain": [
       "                                             content                  source\n",
       "0  此外，自本周（6月12日）起，除小米手机6等15款机型外，其余机型已暂停更新发布（含开发版/...  快科技@http://www.kkj.cn/\n",
       "1  骁龙835作为唯一通过Windows 10桌面平台认证的ARM处理器，高通强调，不会因为只考...  快科技@http://www.kkj.cn/\n",
       "2  此前的一加3T搭载的是3400mAh电池，DashCharge快充规格为5V/4A。\\r\\n...  快科技@http://www.kkj.cn/\n",
       "3    这是6月18日在葡萄牙中部大佩德罗冈地区拍摄的被森林大火烧毁的汽车。新华社记者张立云摄\\r\\n                     新华社\n",
       "4  （原标题：44岁女子跑深圳约会网友被拒，暴雨中裸身奔走……）\\r\\n@深圳交警微博称：昨日清...                   深圳大件事"
      ]
     },
     "execution_count": 8,
     "metadata": {},
     "output_type": "execute_result"
    }
   ],
   "source": [
    "df.head()"
   ]
  },
  {
   "cell_type": "code",
   "execution_count": 9,
   "metadata": {},
   "outputs": [
    {
     "name": "stdout",
     "output_type": "stream",
     "text": [
      "<class 'pandas.core.frame.DataFrame'>\n",
      "RangeIndex: 89611 entries, 0 to 89610\n",
      "Data columns (total 2 columns):\n",
      "content    87054 non-null object\n",
      "source     89609 non-null object\n",
      "dtypes: object(2)\n",
      "memory usage: 1.4+ MB\n"
     ]
    }
   ],
   "source": [
    "df.info()"
   ]
  },
  {
   "cell_type": "code",
   "execution_count": 10,
   "metadata": {},
   "outputs": [],
   "source": [
    "df = df.dropna()"
   ]
  },
  {
   "cell_type": "code",
   "execution_count": 11,
   "metadata": {},
   "outputs": [
    {
     "name": "stdout",
     "output_type": "stream",
     "text": [
      "<class 'pandas.core.frame.DataFrame'>\n",
      "Int64Index: 87052 entries, 0 to 89610\n",
      "Data columns (total 2 columns):\n",
      "content    87052 non-null object\n",
      "source     87052 non-null object\n",
      "dtypes: object(2)\n",
      "memory usage: 2.0+ MB\n"
     ]
    }
   ],
   "source": [
    "df.info()"
   ]
  },
  {
   "cell_type": "code",
   "execution_count": 12,
   "metadata": {},
   "outputs": [],
   "source": [
    "df.source[df['source'] != '新华社'] = 0\n",
    "df.source[df['source'] == '新华社'] = 1"
   ]
  },
  {
   "cell_type": "code",
   "execution_count": 13,
   "metadata": {
    "scrolled": true
   },
   "outputs": [
    {
     "data": {
      "text/plain": [
       "1    78661\n",
       "0     8391\n",
       "Name: source, dtype: int64"
      ]
     },
     "execution_count": 13,
     "metadata": {},
     "output_type": "execute_result"
    }
   ],
   "source": [
    "df['source'].value_counts()"
   ]
  },
  {
   "cell_type": "code",
   "execution_count": 14,
   "metadata": {
    "scrolled": true
   },
   "outputs": [],
   "source": [
    "df.rename(columns={'source':'y'}, inplace=True) "
   ]
  },
  {
   "cell_type": "code",
   "execution_count": 15,
   "metadata": {},
   "outputs": [
    {
     "data": {
      "text/html": [
       "<div>\n",
       "<style scoped>\n",
       "    .dataframe tbody tr th:only-of-type {\n",
       "        vertical-align: middle;\n",
       "    }\n",
       "\n",
       "    .dataframe tbody tr th {\n",
       "        vertical-align: top;\n",
       "    }\n",
       "\n",
       "    .dataframe thead th {\n",
       "        text-align: right;\n",
       "    }\n",
       "</style>\n",
       "<table border=\"1\" class=\"dataframe\">\n",
       "  <thead>\n",
       "    <tr style=\"text-align: right;\">\n",
       "      <th></th>\n",
       "      <th>content</th>\n",
       "      <th>y</th>\n",
       "    </tr>\n",
       "  </thead>\n",
       "  <tbody>\n",
       "    <tr>\n",
       "      <th>0</th>\n",
       "      <td>此外，自本周（6月12日）起，除小米手机6等15款机型外，其余机型已暂停更新发布（含开发版/...</td>\n",
       "      <td>0</td>\n",
       "    </tr>\n",
       "    <tr>\n",
       "      <th>1</th>\n",
       "      <td>骁龙835作为唯一通过Windows 10桌面平台认证的ARM处理器，高通强调，不会因为只考...</td>\n",
       "      <td>0</td>\n",
       "    </tr>\n",
       "    <tr>\n",
       "      <th>2</th>\n",
       "      <td>此前的一加3T搭载的是3400mAh电池，DashCharge快充规格为5V/4A。\\r\\n...</td>\n",
       "      <td>0</td>\n",
       "    </tr>\n",
       "    <tr>\n",
       "      <th>3</th>\n",
       "      <td>这是6月18日在葡萄牙中部大佩德罗冈地区拍摄的被森林大火烧毁的汽车。新华社记者张立云摄\\r\\n</td>\n",
       "      <td>1</td>\n",
       "    </tr>\n",
       "    <tr>\n",
       "      <th>4</th>\n",
       "      <td>（原标题：44岁女子跑深圳约会网友被拒，暴雨中裸身奔走……）\\r\\n@深圳交警微博称：昨日清...</td>\n",
       "      <td>0</td>\n",
       "    </tr>\n",
       "  </tbody>\n",
       "</table>\n",
       "</div>"
      ],
      "text/plain": [
       "                                             content  y\n",
       "0  此外，自本周（6月12日）起，除小米手机6等15款机型外，其余机型已暂停更新发布（含开发版/...  0\n",
       "1  骁龙835作为唯一通过Windows 10桌面平台认证的ARM处理器，高通强调，不会因为只考...  0\n",
       "2  此前的一加3T搭载的是3400mAh电池，DashCharge快充规格为5V/4A。\\r\\n...  0\n",
       "3    这是6月18日在葡萄牙中部大佩德罗冈地区拍摄的被森林大火烧毁的汽车。新华社记者张立云摄\\r\\n  1\n",
       "4  （原标题：44岁女子跑深圳约会网友被拒，暴雨中裸身奔走……）\\r\\n@深圳交警微博称：昨日清...  0"
      ]
     },
     "execution_count": 15,
     "metadata": {},
     "output_type": "execute_result"
    }
   ],
   "source": [
    "df.head()"
   ]
  },
  {
   "cell_type": "markdown",
   "metadata": {},
   "source": [
    "### Step3: 使用tfidf进行文本向量化"
   ]
  },
  {
   "cell_type": "markdown",
   "metadata": {},
   "source": [
    "参考 https://scikit-learn.org/stable/modules/generated/sklearn.feature_extraction.text.TfidfVectorizer.html 对"
   ]
  },
  {
   "cell_type": "markdown",
   "metadata": {},
   "source": [
    "对文本进行向量化"
   ]
  },
  {
   "cell_type": "code",
   "execution_count": 16,
   "metadata": {},
   "outputs": [],
   "source": [
    "import re\n",
    "def token(string): return re.findall(r'[\\w]+', string)"
   ]
  },
  {
   "cell_type": "code",
   "execution_count": 17,
   "metadata": {},
   "outputs": [],
   "source": [
    "import jieba\n",
    "def cut(string): return ' '.join(jieba.cut(string))"
   ]
  },
  {
   "cell_type": "code",
   "execution_count": 18,
   "metadata": {
    "scrolled": true
   },
   "outputs": [
    {
     "name": "stderr",
     "output_type": "stream",
     "text": [
      "Building prefix dict from the default dictionary ...\n",
      "Loading model from cache C:\\Users\\MR5E8F~1.WU\\AppData\\Local\\Temp\\jieba.cache\n",
      "Loading model cost 1.401 seconds.\n",
      "Prefix dict has been built succesfully.\n"
     ]
    }
   ],
   "source": [
    "corpus = [cut(''.join(token(content))) for content in df['content']]"
   ]
  },
  {
   "cell_type": "code",
   "execution_count": 23,
   "metadata": {},
   "outputs": [],
   "source": [
    "from sklearn.feature_extraction.text import TfidfVectorizer\n",
    "vectorizer = TfidfVectorizer(max_features=1000)\n",
    "X = vectorizer.fit_transform(corpus)"
   ]
  },
  {
   "cell_type": "code",
   "execution_count": 24,
   "metadata": {},
   "outputs": [
    {
     "data": {
      "text/plain": [
       "(87052, 1000)"
      ]
     },
     "execution_count": 24,
     "metadata": {},
     "output_type": "execute_result"
    }
   ],
   "source": [
    "X.shape"
   ]
  },
  {
   "cell_type": "code",
   "execution_count": 25,
   "metadata": {},
   "outputs": [],
   "source": [
    "y = df['y']"
   ]
  },
  {
   "cell_type": "code",
   "execution_count": 26,
   "metadata": {},
   "outputs": [
    {
     "data": {
      "text/plain": [
       "(87052,)"
      ]
     },
     "execution_count": 26,
     "metadata": {},
     "output_type": "execute_result"
    }
   ],
   "source": [
    "y.shape"
   ]
  },
  {
   "cell_type": "markdown",
   "metadata": {},
   "source": [
    "### Step4: 参考scikit-learning的方法，构建你的第一个机器学习模型"
   ]
  },
  {
   "cell_type": "markdown",
   "metadata": {},
   "source": [
    "+ 按照课程讲解的内容，把数据集分割为 traning_data, validation_data, test_data. https://scikit-learn.org/stable/modules/generated/sklearn.model_selection.train_test_split.html"
   ]
  },
  {
   "cell_type": "code",
   "execution_count": 27,
   "metadata": {},
   "outputs": [],
   "source": [
    "from sklearn.model_selection import train_test_split\n",
    "X_train, X_test, y_train, y_test = train_test_split(X, y, test_size=0.2, random_state=42)"
   ]
  },
  {
   "cell_type": "code",
   "execution_count": 28,
   "metadata": {},
   "outputs": [
    {
     "data": {
      "text/plain": [
       "(69641, 1000)"
      ]
     },
     "execution_count": 28,
     "metadata": {},
     "output_type": "execute_result"
    }
   ],
   "source": [
    "X_train.shape"
   ]
  },
  {
   "cell_type": "code",
   "execution_count": 29,
   "metadata": {},
   "outputs": [
    {
     "data": {
      "text/plain": [
       "scipy.sparse.csr.csr_matrix"
      ]
     },
     "execution_count": 29,
     "metadata": {},
     "output_type": "execute_result"
    }
   ],
   "source": [
    "type(X_train)"
   ]
  },
  {
   "cell_type": "code",
   "execution_count": 30,
   "metadata": {
    "scrolled": true
   },
   "outputs": [
    {
     "data": {
      "text/plain": [
       "(69641,)"
      ]
     },
     "execution_count": 30,
     "metadata": {},
     "output_type": "execute_result"
    }
   ],
   "source": [
    "y_train.shape"
   ]
  },
  {
   "cell_type": "code",
   "execution_count": 31,
   "metadata": {},
   "outputs": [],
   "source": [
    "import numpy as np\n",
    "X_tr_arr = X_train.toarray()\n",
    "X_ts_arr = X_test.toarray()\n",
    "y_tr_arr = np.array(y_train, dtype='int')\n",
    "y_ts_arr = np.array(y_test, dtype='int')"
   ]
  },
  {
   "cell_type": "code",
   "execution_count": 32,
   "metadata": {},
   "outputs": [
    {
     "data": {
      "text/plain": [
       "numpy.ndarray"
      ]
     },
     "execution_count": 32,
     "metadata": {},
     "output_type": "execute_result"
    }
   ],
   "source": [
    "type(X_tr_arr)"
   ]
  },
  {
   "cell_type": "code",
   "execution_count": 90,
   "metadata": {
    "scrolled": true
   },
   "outputs": [
    {
     "data": {
      "text/plain": [
       "numpy.ndarray"
      ]
     },
     "execution_count": 90,
     "metadata": {},
     "output_type": "execute_result"
    }
   ],
   "source": [
    "type(y_tr_arr)"
   ]
  },
  {
   "cell_type": "code",
   "execution_count": 91,
   "metadata": {
    "scrolled": true
   },
   "outputs": [
    {
     "data": {
      "text/plain": [
       "dtype('float64')"
      ]
     },
     "execution_count": 91,
     "metadata": {},
     "output_type": "execute_result"
    }
   ],
   "source": [
    "X_tr_arr.dtype"
   ]
  },
  {
   "cell_type": "code",
   "execution_count": 92,
   "metadata": {},
   "outputs": [
    {
     "data": {
      "text/plain": [
       "(69641, 200)"
      ]
     },
     "execution_count": 92,
     "metadata": {},
     "output_type": "execute_result"
    }
   ],
   "source": [
    "X_tr_arr.shape"
   ]
  },
  {
   "cell_type": "code",
   "execution_count": 93,
   "metadata": {
    "scrolled": true
   },
   "outputs": [
    {
     "data": {
      "text/plain": [
       "array([0, 1, 1, ..., 1, 0, 1])"
      ]
     },
     "execution_count": 93,
     "metadata": {},
     "output_type": "execute_result"
    }
   ],
   "source": [
    "y_tr_arr"
   ]
  },
  {
   "cell_type": "code",
   "execution_count": 94,
   "metadata": {},
   "outputs": [
    {
     "data": {
      "text/plain": [
       "(69641,)"
      ]
     },
     "execution_count": 94,
     "metadata": {},
     "output_type": "execute_result"
    }
   ],
   "source": [
    "y_tr_arr.shape"
   ]
  },
  {
   "cell_type": "markdown",
   "metadata": {},
   "source": [
    "+ 参照scikit learning的示例，从构建你的第一个KNN机器学习模型。"
   ]
  },
  {
   "cell_type": "code",
   "execution_count": 95,
   "metadata": {},
   "outputs": [],
   "source": [
    "from sklearn.neighbors import KNeighborsClassifier"
   ]
  },
  {
   "cell_type": "code",
   "execution_count": 96,
   "metadata": {},
   "outputs": [
    {
     "data": {
      "text/plain": [
       "KNeighborsClassifier(algorithm='auto', leaf_size=30, metric='minkowski',\n",
       "                     metric_params=None, n_jobs=None, n_neighbors=5, p=2,\n",
       "                     weights='uniform')"
      ]
     },
     "execution_count": 96,
     "metadata": {},
     "output_type": "execute_result"
    }
   ],
   "source": [
    "knn = KNeighborsClassifier()\n",
    "knn.fit(X_tr_arr, y_tr_arr)"
   ]
  },
  {
   "cell_type": "code",
   "execution_count": 97,
   "metadata": {},
   "outputs": [
    {
     "data": {
      "text/plain": [
       "0.9512069039789779"
      ]
     },
     "execution_count": 97,
     "metadata": {},
     "output_type": "execute_result"
    }
   ],
   "source": [
    "knn.score(X_tr_arr, y_tr_arr)"
   ]
  },
  {
   "cell_type": "code",
   "execution_count": 98,
   "metadata": {},
   "outputs": [],
   "source": [
    "test = vectorizer.transform([cut(''.join(token('这是6月18日在葡萄牙中部大佩德罗冈地区拍摄的被森林大火烧毁的汽车')))]).toarray()"
   ]
  },
  {
   "cell_type": "code",
   "execution_count": 99,
   "metadata": {},
   "outputs": [
    {
     "data": {
      "text/plain": [
       "array([1])"
      ]
     },
     "execution_count": 99,
     "metadata": {},
     "output_type": "execute_result"
    }
   ],
   "source": [
    "knn.predict(test)"
   ]
  },
  {
   "cell_type": "code",
   "execution_count": 101,
   "metadata": {},
   "outputs": [
    {
     "data": {
      "text/plain": [
       "0.930101659870197"
      ]
     },
     "execution_count": 101,
     "metadata": {},
     "output_type": "execute_result"
    }
   ],
   "source": [
    "knn.score(X_ts_arr, y_ts_arr)"
   ]
  },
  {
   "cell_type": "markdown",
   "metadata": {},
   "source": [
    "### Step5: 在traning_data, validation_data, test_data 上观察其相关metric: recall, precision, f1等， 并解释其含义. "
   ]
  },
  {
   "cell_type": "markdown",
   "metadata": {},
   "source": [
    "#### Precision又叫查准率，Recall又叫查全率。这两个指标共同衡量才能评价模型输出结果。\n",
    "\n",
    "- TP: 预测为1(Positive)，实际也为1(Truth-预测对了)\n",
    "- TN: 预测为0(Negative)，实际也为0(Truth-预测对了)\n",
    "- FP: 预测为1(Positive)，实际为0(False-预测错了)\n",
    "- FN: 预测为0(Negative)，实际为1(False-预测错了)\n",
    "- 总的样本个数为：TP+TN+FP+FN。"
   ]
  },
  {
   "cell_type": "markdown",
   "metadata": {},
   "source": [
    "#### Accuracy/Precision/Recall的定义\n",
    "- Accuracy = (预测正确的样本数)/(总样本数)=(TP+TN)/(TP+TN+FP+FN)\n",
    "\n",
    "- Precision = (预测为1且正确预测的样本数)/(所有预测为1的样本数) = TP/(TP+FP)\n",
    "\n",
    "- Recall = (预测为1且正确预测的样本数)/(所有真实情况为1的样本数) = TP/(TP+FN)"
   ]
  },
  {
   "cell_type": "markdown",
   "metadata": {},
   "source": [
    "#### 但由于Precision/Recall是两个值，无法根据两个值来对比模型的好坏。有没有一个值能综合Precision/Recall呢？有，它就是F1。\n",
    "\n",
    "- F1 = 2 * (Precision * Recall) / (Precision + Recall)"
   ]
  },
  {
   "cell_type": "code",
   "execution_count": 152,
   "metadata": {},
   "outputs": [],
   "source": [
    "def get_F1(y_predicts, y_facts):\n",
    "    tp = tn = fp = fn = 0\n",
    "    for (y_predict, y_fact) in zip(y_predicts, y_facts):\n",
    "        if y_predict == 1 and y_fact == 1:\n",
    "            tp += 1\n",
    "        if y_predict == 0 and y_fact == 0:\n",
    "            tn += 1\n",
    "        if y_predict == 1 and y_fact == 0:\n",
    "            fp += 1\n",
    "        if y_predict == 0 and y_fact == 1:\n",
    "            fn += 1\n",
    "    accuracy = (tp + tn) / (tp + tn + fp + fn)\n",
    "    precision = tp / (tp + fp)\n",
    "    recall = tp / (tp + fn)\n",
    "    f1 = 2 * (precision * recall) / (precision + recall) \n",
    "    print('accuracy: %s' % str(accuracy))\n",
    "    print('precision: %s' % str(precision))\n",
    "    print('recall: %s' % str(recall))\n",
    "    print('f1: %s' % str(f1))\n",
    "    return (accuracy, precision, recall, f1)"
   ]
  },
  {
   "cell_type": "markdown",
   "metadata": {},
   "source": [
    "### Step6: 使用 test_data 对其进行新数据的判断"
   ]
  },
  {
   "cell_type": "code",
   "execution_count": 104,
   "metadata": {},
   "outputs": [],
   "source": [
    "y_predicts_train = knn.predict(X_tr_arr)"
   ]
  },
  {
   "cell_type": "code",
   "execution_count": 142,
   "metadata": {},
   "outputs": [
    {
     "name": "stdout",
     "output_type": "stream",
     "text": [
      "accuracy: 0.9512069039789779\n",
      "precision: 0.9644992584497697\n",
      "recall: 0.9821317860265479\n",
      "f1: 0.9732356647763074\n"
     ]
    }
   ],
   "source": [
    "get_F1(y_predicts_train, y_tr_arr)"
   ]
  },
  {
   "cell_type": "code",
   "execution_count": 124,
   "metadata": {
    "scrolled": true
   },
   "outputs": [
    {
     "name": "stdout",
     "output_type": "stream",
     "text": [
      "accuracy: 0.930101659870197\n",
      "precision: 0.9516058892961421\n",
      "recall: 0.9722010662604722\n",
      "f1: 0.9617932376856183\n"
     ]
    }
   ],
   "source": [
    "y_predicts_test = knn.predict(X_ts_arr)\n",
    "get_F1(y_predicts_test, y_ts_arr)"
   ]
  },
  {
   "cell_type": "code",
   "execution_count": 127,
   "metadata": {},
   "outputs": [
    {
     "name": "stdout",
     "output_type": "stream",
     "text": [
      "              precision    recall  f1-score   support\n",
      "\n",
      "           0       0.67      0.53      0.59      1655\n",
      "           1       0.95      0.97      0.96     15756\n",
      "\n",
      "    accuracy                           0.93     17411\n",
      "   macro avg       0.81      0.75      0.78     17411\n",
      "weighted avg       0.92      0.93      0.93     17411\n",
      "\n"
     ]
    }
   ],
   "source": [
    "from sklearn.metrics import classification_report\n",
    "print(classification_report(y_ts_arr, y_predicts_test))"
   ]
  },
  {
   "cell_type": "markdown",
   "metadata": {},
   "source": [
    "### Step7: 调整不同的参数，观察变化"
   ]
  },
  {
   "cell_type": "code",
   "execution_count": 147,
   "metadata": {},
   "outputs": [],
   "source": [
    "vectorizer = TfidfVectorizer(max_features=5)\n",
    "X = vectorizer.fit_transform(corpus)\n",
    "X_train, X_test, y_train, y_test = train_test_split(X, y, test_size=0.2, random_state=42)"
   ]
  },
  {
   "cell_type": "code",
   "execution_count": 148,
   "metadata": {},
   "outputs": [],
   "source": [
    "X_tr_arr = X_train.toarray()\n",
    "X_ts_arr = X_test.toarray()\n",
    "y_tr_arr = np.array(y_train, dtype='int')\n",
    "y_ts_arr = np.array(y_test, dtype='int')"
   ]
  },
  {
   "cell_type": "code",
   "execution_count": 149,
   "metadata": {
    "scrolled": true
   },
   "outputs": [
    {
     "data": {
      "text/plain": [
       "KNeighborsClassifier(algorithm='auto', leaf_size=30, metric='minkowski',\n",
       "                     metric_params=None, n_jobs=None, n_neighbors=5, p=2,\n",
       "                     weights='uniform')"
      ]
     },
     "execution_count": 149,
     "metadata": {},
     "output_type": "execute_result"
    }
   ],
   "source": [
    "knn = KNeighborsClassifier()\n",
    "knn.fit(X_tr_arr, y_tr_arr)"
   ]
  },
  {
   "cell_type": "code",
   "execution_count": 154,
   "metadata": {
    "scrolled": false
   },
   "outputs": [],
   "source": [
    "y_tr_pred = knn.predict(X_tr_arr)"
   ]
  },
  {
   "cell_type": "code",
   "execution_count": 156,
   "metadata": {
    "scrolled": false
   },
   "outputs": [
    {
     "name": "stdout",
     "output_type": "stream",
     "text": [
      "accuracy: 0.9632113266610186\n",
      "precision: 0.9872264836495761\n",
      "recall: 0.9718464351005485\n",
      "f1: 0.9794760874789714\n"
     ]
    }
   ],
   "source": [
    "train_accuracy, train_precision, train_recall, train_f1 = get_F1(y_tr_pred, y_tr_arr)"
   ]
  },
  {
   "cell_type": "code",
   "execution_count": 157,
   "metadata": {},
   "outputs": [
    {
     "data": {
      "text/plain": [
       "0.9632113266610186"
      ]
     },
     "execution_count": 157,
     "metadata": {},
     "output_type": "execute_result"
    }
   ],
   "source": [
    "train_accuracy"
   ]
  },
  {
   "cell_type": "code",
   "execution_count": 187,
   "metadata": {},
   "outputs": [],
   "source": [
    "def get_score_from_varying_parameters(max_features=200, n_neighbors=5, weights='uniform', p=2):\n",
    "    vectorizer = TfidfVectorizer(max_features=max_features)\n",
    "    X = vectorizer.fit_transform(corpus)\n",
    "    X_train, X_test, y_train, y_test = train_test_split(X, y, test_size=0.2, random_state=42)\n",
    "    \n",
    "    X_tr_arr = X_train.toarray()\n",
    "    X_ts_arr = X_test.toarray()\n",
    "    y_tr_arr = np.array(y_train, dtype='int')\n",
    "    y_ts_arr = np.array(y_test, dtype='int')\n",
    "    \n",
    "    knn = KNeighborsClassifier(n_jobs=-1, n_neighbors=n_neighbors, weights=weights, p=p)\n",
    "    knn.fit(X_tr_arr, y_tr_arr)\n",
    "    \n",
    "    y_tr_pred = knn.predict(X_tr_arr)\n",
    "    train_accuracy, train_precision, train_recall, train_f1 = get_F1(y_tr_pred, y_tr_arr)\n",
    "    y_ts_pred = knn.predict(X_ts_arr)\n",
    "    test_accuracy, test_precision, test_recall, test_f1 = get_F1(y_ts_pred, y_ts_arr)\n",
    "    \n",
    "    print('max_features=%s, n_neighbors=%s, weights=%s, p=%s执行完成' % (str(max_features), str(n_neighbors), str(weights), str(p)))\n",
    "    \n",
    "    return train_accuracy, train_precision, train_recall, train_f1, test_accuracy, test_precision, test_recall, test_f1"
   ]
  },
  {
   "cell_type": "code",
   "execution_count": 159,
   "metadata": {
    "collapsed": true
   },
   "outputs": [
    {
     "name": "stdout",
     "output_type": "stream",
     "text": [
      "(69641, 100) (17411, 100) (69641,) (17411,)\n",
      "accuracy: 0.9525423242055686\n",
      "precision: 0.9641021647718424\n",
      "recall: 0.9841030124791352\n",
      "f1: 0.9739999213310782\n",
      "accuracy: 0.9272873470794325\n",
      "precision: 0.948662373049294\n",
      "recall: 0.9722645341457222\n",
      "f1: 0.9603184553660984\n",
      "max_features 100 执行完成\n",
      "(69641, 200) (17411, 200) (69641,) (17411,)\n",
      "accuracy: 0.9512069039789779\n",
      "precision: 0.9644992584497697\n",
      "recall: 0.9821317860265479\n",
      "f1: 0.9732356647763074\n",
      "accuracy: 0.930101659870197\n",
      "precision: 0.9516058892961421\n",
      "recall: 0.9722010662604722\n",
      "f1: 0.9617932376856183\n",
      "max_features 200 执行完成\n",
      "(69641, 300) (17411, 300) (69641,) (17411,)\n",
      "accuracy: 0.9453913642825347\n",
      "precision: 0.9693018676152967\n",
      "recall: 0.9702726333359828\n",
      "f1: 0.9697870075393452\n",
      "accuracy: 0.916259835736029\n",
      "precision: 0.9561056526732168\n",
      "recall: 0.9511297283574511\n",
      "f1: 0.9536111994909323\n",
      "max_features 300 执行完成\n",
      "(69641, 400) (17411, 400) (69641,) (17411,)\n",
      "accuracy: 0.93518186125989\n",
      "precision: 0.9718159634124662\n",
      "recall: 0.9559653445672045\n",
      "f1: 0.9638254904474933\n",
      "accuracy: 0.9043133651140084\n",
      "precision: 0.9585394428534236\n",
      "recall: 0.9346915460776847\n",
      "f1: 0.9464652956298201\n",
      "max_features 400 执行完成\n",
      "(69641, 500) (17411, 500) (69641,) (17411,)\n",
      "accuracy: 0.9316351000129234\n",
      "precision: 0.9737785600208598\n",
      "recall: 0.9498926953342341\n",
      "f1: 0.961687334529682\n",
      "accuracy: 0.8979955200735168\n",
      "precision: 0.9609601688208916\n",
      "recall: 0.9248540238639249\n",
      "f1: 0.9425614489003882\n",
      "max_features 500 执行完成\n",
      "(69641, 600) (17411, 600) (69641,) (17411,)\n",
      "accuracy: 0.9271549805430709\n",
      "precision: 0.975811228855394\n",
      "recall: 0.9427231539623241\n",
      "f1: 0.9589818640490956\n",
      "accuracy: 0.8936878984549997\n",
      "precision: 0.9637782669601761\n",
      "recall: 0.916984006092917\n",
      "f1: 0.9397990047809542\n",
      "max_features 600 执行完成\n",
      "(69641, 700) (17411, 700) (69641,) (17411,)\n",
      "accuracy: 0.9240677187289097\n",
      "precision: 0.9767014710505849\n",
      "recall: 0.9383196884190446\n",
      "f1: 0.9571259465858049\n",
      "accuracy: 0.8895525817012233\n",
      "precision: 0.9652875882946519\n",
      "recall: 0.9107006854531607\n",
      "f1: 0.937199960811208\n",
      "max_features 700 执行完成\n",
      "(69641, 800) (17411, 800) (69641,) (17411,)\n",
      "accuracy: 0.9213394408466277\n",
      "precision: 0.977452235654068\n",
      "recall: 0.9344726174389953\n",
      "f1: 0.9554793407236437\n",
      "accuracy: 0.8851300901728792\n",
      "precision: 0.9660523106111939\n",
      "recall: 0.9048616400101549\n",
      "f1: 0.9344563151340369\n",
      "max_features 800 执行完成\n",
      "(69641, 900) (17411, 900) (69641,) (17411,)\n",
      "accuracy: 0.9185106474634195\n",
      "precision: 0.97809597005948\n",
      "recall: 0.930625546458946\n",
      "f1: 0.9537704570818771\n",
      "accuracy: 0.8795588995462639\n",
      "precision: 0.96640032780168\n",
      "recall: 0.8981340441736482\n",
      "f1: 0.9310174676798578\n",
      "max_features 900 执行完成\n"
     ]
    }
   ],
   "source": [
    "score_list = []\n",
    "for max_features in range(100, 1000, 100):\n",
    "    score_list.append(get_score_from_varying_parameters(max_features=max_features))"
   ]
  },
  {
   "cell_type": "code",
   "execution_count": 175,
   "metadata": {},
   "outputs": [
    {
     "data": {
      "image/png": "[encoded data removed]",
      "text/plain": [
       "<Figure size 720x720 with 1 Axes>"
      ]
     },
     "metadata": {
      "needs_background": "light"
     },
     "output_type": "display_data"
    }
   ],
   "source": [
    "import matplotlib.pyplot as plt\n",
    "max_features = list(range(100, 1000, 100))\n",
    "train_accuracy = np.empty(len(score_list))\n",
    "train_precision = np.empty(len(score_list))\n",
    "train_recall = np.empty(len(score_list))\n",
    "train_f1 = np.empty(len(score_list))\n",
    "\n",
    "test_accuracy = np.empty(len(score_list))\n",
    "test_precision = np.empty(len(score_list))\n",
    "test_recall = np.empty(len(score_list))\n",
    "test_f1 = np.empty(len(score_list))\n",
    " \n",
    "for i,k in enumerate(score_list):\n",
    "    train_accuracy[i] = k[0]\n",
    "    train_precision[i] = k[1]\n",
    "    train_recall[i] = k[2]\n",
    "    train_f1[i] = k[3]\n",
    "\n",
    "    test_accuracy[i] = k[4]\n",
    "    test_precision[i] = k[5]\n",
    "    test_recall[i] = k[6]\n",
    "    test_f1[i] = k[7]\n",
    " \n",
    "plt.figure(figsize=(10,10))\n",
    "plt.title('k-NN Varying max_features of TfidfVectorizer')\n",
    "\n",
    "plt.plot(max_features, train_accuracy, label='train_accuracy')\n",
    "plt.plot(max_features, train_precision, label='train_precision')\n",
    "plt.plot(max_features, train_recall, label='train_recall')\n",
    "plt.plot(max_features, train_f1, label='train_f1')\n",
    "plt.plot(max_features, test_accuracy, '--', label='test_accuracy')\n",
    "plt.plot(max_features, test_precision, '--', label='test_precision')\n",
    "plt.plot(max_features, test_recall, '--', label='test_recall')\n",
    "plt.plot(max_features, test_f1, '--', label='test_f1')\n",
    "\n",
    "plt.legend()\n",
    "plt.xlabel('Number of max_features')\n",
    "plt.ylabel('Accuracy')\n",
    "plt.show()"
   ]
  },
  {
   "cell_type": "markdown",
   "metadata": {},
   "source": [
    "根据上图，选择max_features=200"
   ]
  },
  {
   "cell_type": "code",
   "execution_count": 181,
   "metadata": {},
   "outputs": [
    {
     "name": "stdout",
     "output_type": "stream",
     "text": [
      "accuracy: 0.9993107508507919\n",
      "precision: 0.9999522771741725\n",
      "recall: 0.9992846355615611\n",
      "f1: 0.999618344889002\n",
      "accuracy: 0.934409281488714\n",
      "precision: 0.9596175619574789\n",
      "recall: 0.9682660573749683\n",
      "f1: 0.9639224110696911\n",
      "max_features=200, n_neighbors=1执行完成\n",
      "accuracy: 0.9705058801568042\n",
      "precision: 0.9999671349930161\n",
      "recall: 0.9673793816071854\n",
      "f1: 0.9834033613445378\n",
      "accuracy: 0.9202228476250646\n",
      "precision: 0.9719466526509428\n",
      "recall: 0.9389438943894389\n",
      "f1: 0.9551602802078963\n",
      "max_features=200, n_neighbors=2执行完成\n",
      "accuracy: 0.9640298100257032\n",
      "precision: 0.973651191969887\n",
      "recall: 0.9868849852952866\n",
      "f1: 0.9802234239924209\n",
      "accuracy: 0.9330308425707886\n",
      "precision: 0.9543472845042352\n",
      "recall: 0.9725184056867225\n",
      "f1: 0.9633471645919779\n",
      "max_features=200, n_neighbors=3执行完成\n",
      "accuracy: 0.9545813529386424\n",
      "precision: 0.9797783488596209\n",
      "recall: 0.9697321357602734\n",
      "f1: 0.974729357248432\n",
      "accuracy: 0.9254494285221986\n",
      "precision: 0.9625079974408189\n",
      "recall: 0.9548108657019548\n",
      "f1: 0.9586439813929777\n",
      "max_features=200, n_neighbors=4执行完成\n",
      "accuracy: 0.9512069039789779\n",
      "precision: 0.9644992584497697\n",
      "recall: 0.9821317860265479\n",
      "f1: 0.9732356647763074\n",
      "accuracy: 0.930101659870197\n",
      "precision: 0.9516058892961421\n",
      "recall: 0.9722010662604722\n",
      "f1: 0.9617932376856183\n",
      "max_features=200, n_neighbors=5执行完成\n",
      "accuracy: 0.9478180956620381\n",
      "precision: 0.9705317307844974\n",
      "recall: 0.9717351561879024\n",
      "f1: 0.9711330706659889\n",
      "accuracy: 0.9254494285221986\n",
      "precision: 0.9573001012145749\n",
      "recall: 0.9604595074892105\n",
      "f1: 0.9588772018755545\n",
      "max_features=200, n_neighbors=6执行完成\n",
      "accuracy: 0.9457216294998636\n",
      "precision: 0.9597088963876406\n",
      "recall: 0.9810984818376918\n",
      "f1: 0.9702858220922556\n",
      "accuracy: 0.9279191315834817\n",
      "precision: 0.9490307797114015\n",
      "recall: 0.9725818735719726\n",
      "f1: 0.9606620067078331\n",
      "max_features=200, n_neighbors=7执行完成\n",
      "accuracy: 0.9422466650392728\n",
      "precision: 0.9644429019892414\n",
      "recall: 0.971894126063111\n",
      "f1: 0.9681541774878064\n",
      "accuracy: 0.9251622537476308\n",
      "precision: 0.9545254418516887\n",
      "recall: 0.9631886265549632\n",
      "f1: 0.9588374664350023\n",
      "max_features=200, n_neighbors=8执行完成\n"
     ]
    },
    {
     "data": {
      "image/png": "[encoded data removed]",
      "text/plain": [
       "<Figure size 720x720 with 1 Axes>"
      ]
     },
     "metadata": {
      "needs_background": "light"
     },
     "output_type": "display_data"
    }
   ],
   "source": [
    "import matplotlib.pyplot as plt \n",
    "score_list = []\n",
    "for n_neighbors in range(1,9):\n",
    "    score_list.append(get_score_from_varying_parameters(n_neighbors=n_neighbors))\n",
    "    \n",
    "n_neighbors = list(range(1,9))\n",
    "train_accuracy = np.empty(len(score_list))\n",
    "train_precision = np.empty(len(score_list))\n",
    "train_recall = np.empty(len(score_list))\n",
    "train_f1 = np.empty(len(score_list))\n",
    "\n",
    "test_accuracy = np.empty(len(score_list))\n",
    "test_precision = np.empty(len(score_list))\n",
    "test_recall = np.empty(len(score_list))\n",
    "test_f1 = np.empty(len(score_list))\n",
    " \n",
    "for i,k in enumerate(score_list):\n",
    "    train_accuracy[i] = k[0]\n",
    "    train_precision[i] = k[1]\n",
    "    train_recall[i] = k[2]\n",
    "    train_f1[i] = k[3]\n",
    "\n",
    "    test_accuracy[i] = k[4]\n",
    "    test_precision[i] = k[5]\n",
    "    test_recall[i] = k[6]\n",
    "    test_f1[i] = k[7]\n",
    "\n",
    "\n",
    "plt.figure(figsize=(10,10))\n",
    "plt.title('k-NN Varying number of neighbors')\n",
    "plt.plot(n_neighbors, train_accuracy, label='train_accuracy')\n",
    "plt.plot(n_neighbors, train_precision, label='train_precision')\n",
    "plt.plot(n_neighbors, train_recall, label='train_recall')\n",
    "plt.plot(n_neighbors, train_f1, label='train_f1')\n",
    "plt.plot(n_neighbors, test_accuracy, '--', label='test_accuracy')\n",
    "plt.plot(n_neighbors, test_precision, '--', label='test_precision')\n",
    "plt.plot(n_neighbors, test_recall, '--', label='test_recall')\n",
    "plt.plot(n_neighbors, test_f1, '--', label='test_f1')\n",
    "plt.legend()\n",
    "plt.xlabel('Number of neighbors')\n",
    "plt.ylabel('Accuracy')\n",
    "plt.show()"
   ]
  },
  {
   "cell_type": "markdown",
   "metadata": {},
   "source": [
    "感觉在此测试数据下，k=1,效果最好，因为后面需要查看weights参数的影响，所以选择效果同样不错的k=3吧"
   ]
  },
  {
   "cell_type": "code",
   "execution_count": 186,
   "metadata": {},
   "outputs": [
    {
     "name": "stdout",
     "output_type": "stream",
     "text": [
      "accuracy: 0.9640298100257032\n",
      "precision: 0.973651191969887\n",
      "recall: 0.9868849852952866\n",
      "f1: 0.9802234239924209\n",
      "accuracy: 0.9330308425707886\n",
      "precision: 0.9543472845042352\n",
      "recall: 0.9725184056867225\n",
      "f1: 0.9633471645919779\n",
      "max_features=200, n_neighbors=3, weights=uniform执行完成\n",
      "accuracy: 0.9993107508507919\n",
      "precision: 0.9999522771741725\n",
      "recall: 0.9992846355615611\n",
      "f1: 0.999618344889002\n",
      "accuracy: 0.9373384641893057\n",
      "precision: 0.956313398469102\n",
      "recall: 0.9753109926377254\n",
      "f1: 0.965718774548311\n",
      "max_features=200, n_neighbors=3, weights=distance执行完成\n"
     ]
    },
    {
     "data": {
      "image/png": "[encoded data removed]",
      "text/plain": [
       "<Figure size 720x720 with 1 Axes>"
      ]
     },
     "metadata": {
      "needs_background": "light"
     },
     "output_type": "display_data"
    }
   ],
   "source": [
    "score_list = []\n",
    "for weights in ['uniform', 'distance']:\n",
    "    score_list.append(get_score_from_varying_parameters(weights=weights, n_neighbors=3))\n",
    "    \n",
    "weights = ['uniform', 'distance']\n",
    "train_accuracy = np.empty(len(score_list))\n",
    "train_precision = np.empty(len(score_list))\n",
    "train_recall = np.empty(len(score_list))\n",
    "train_f1 = np.empty(len(score_list))\n",
    "\n",
    "test_accuracy = np.empty(len(score_list))\n",
    "test_precision = np.empty(len(score_list))\n",
    "test_recall = np.empty(len(score_list))\n",
    "test_f1 = np.empty(len(score_list))\n",
    " \n",
    "for i,k in enumerate(score_list):\n",
    "    train_accuracy[i] = k[0]\n",
    "    train_precision[i] = k[1]\n",
    "    train_recall[i] = k[2]\n",
    "    train_f1[i] = k[3]\n",
    "\n",
    "    test_accuracy[i] = k[4]\n",
    "    test_precision[i] = k[5]\n",
    "    test_recall[i] = k[6]\n",
    "    test_f1[i] = k[7]\n",
    "\n",
    "\n",
    "plt.figure(figsize=(10,10))\n",
    "plt.title('k-NN Varying Weights')\n",
    "plt.plot(weights, train_accuracy, label='train_accuracy')\n",
    "plt.plot(weights, train_precision, label='train_precision')\n",
    "plt.plot(weights, train_recall, label='train_recall')\n",
    "plt.plot(weights, train_f1, label='train_f1')\n",
    "plt.plot(weights, test_accuracy, '--', label='test_accuracy')\n",
    "plt.plot(weights, test_precision, '--', label='test_precision')\n",
    "plt.plot(weights, test_recall, '--', label='test_recall')\n",
    "plt.plot(weights, test_f1, '--', label='test_f1')\n",
    "plt.legend()\n",
    "plt.xlabel('Weights')\n",
    "plt.ylabel('Accuracy')\n",
    "plt.show()"
   ]
  },
  {
   "cell_type": "markdown",
   "metadata": {},
   "source": [
    "选择distance"
   ]
  },
  {
   "cell_type": "code",
   "execution_count": 189,
   "metadata": {
    "scrolled": false
   },
   "outputs": [
    {
     "name": "stdout",
     "output_type": "stream",
     "text": [
      "accuracy: 0.9993107508507919\n",
      "precision: 0.9999522771741725\n",
      "recall: 0.9992846355615611\n",
      "f1: 0.999618344889002\n",
      "accuracy: 0.9209120670840273\n",
      "precision: 0.9755274819763212\n",
      "recall: 0.9360878395531861\n",
      "f1: 0.9554008097165992\n",
      "max_features=200, n_neighbors=3, weights=distance, p=1执行完成\n",
      "accuracy: 0.9993107508507919\n",
      "precision: 0.9999522771741725\n",
      "recall: 0.9992846355615611\n",
      "f1: 0.999618344889002\n",
      "accuracy: 0.9373384641893057\n",
      "precision: 0.956313398469102\n",
      "recall: 0.9753109926377254\n",
      "f1: 0.965718774548311\n",
      "max_features=200, n_neighbors=3, weights=distance, p=2执行完成\n"
     ]
    },
    {
     "data": {
      "image/png": "[encoded data removed]",
      "text/plain": [
       "<Figure size 720x720 with 1 Axes>"
      ]
     },
     "metadata": {
      "needs_background": "light"
     },
     "output_type": "display_data"
    }
   ],
   "source": [
    "score_list = []\n",
    "for p in [1, 2]:\n",
    "    score_list.append(get_score_from_varying_parameters(max_features=200, n_neighbors=3, weights='distance', p=p))\n",
    "    \n",
    "p = [1, 2]\n",
    "train_accuracy = np.empty(len(score_list))\n",
    "train_precision = np.empty(len(score_list))\n",
    "train_recall = np.empty(len(score_list))\n",
    "train_f1 = np.empty(len(score_list))\n",
    "\n",
    "test_accuracy = np.empty(len(score_list))\n",
    "test_precision = np.empty(len(score_list))\n",
    "test_recall = np.empty(len(score_list))\n",
    "test_f1 = np.empty(len(score_list))\n",
    " \n",
    "for i,k in enumerate(score_list):\n",
    "    train_accuracy[i] = k[0]\n",
    "    train_precision[i] = k[1]\n",
    "    train_recall[i] = k[2]\n",
    "    train_f1[i] = k[3]\n",
    "\n",
    "    test_accuracy[i] = k[4]\n",
    "    test_precision[i] = k[5]\n",
    "    test_recall[i] = k[6]\n",
    "    test_f1[i] = k[7]\n",
    "\n",
    "\n",
    "plt.figure(figsize=(10,10))\n",
    "plt.title('k-NN Varying p')\n",
    "plt.plot(p, train_accuracy, label='train_accuracy')\n",
    "plt.plot(p, train_precision, label='train_precision')\n",
    "plt.plot(p, train_recall, label='train_recall')\n",
    "plt.plot(p, train_f1, label='train_f1')\n",
    "plt.plot(p, test_accuracy, '--', label='test_accuracy')\n",
    "plt.plot(p, test_precision, '--', label='test_precision')\n",
    "plt.plot(p, test_recall, '--', label='test_recall')\n",
    "plt.plot(p, test_f1, '--', label='test_f1')\n",
    "plt.legend()\n",
    "plt.xlabel('p')\n",
    "plt.ylabel('Accuracy')\n",
    "plt.show()"
   ]
  },
  {
   "cell_type": "markdown",
   "metadata": {},
   "source": [
    "选择p=2"
   ]
  },
  {
   "cell_type": "markdown",
   "metadata": {},
   "source": [
    "##### 最终参数：\n",
    "- max_features=200， n_neighbors=3, p=2, weights='distance'"
   ]
  },
  {
   "cell_type": "code",
   "execution_count": 193,
   "metadata": {},
   "outputs": [
    {
     "data": {
      "text/plain": [
       "KNeighborsClassifier(algorithm='auto', leaf_size=30, metric='minkowski',\n",
       "                     metric_params=None, n_jobs=-1, n_neighbors=3, p=2,\n",
       "                     weights='distance')"
      ]
     },
     "execution_count": 193,
     "metadata": {},
     "output_type": "execute_result"
    }
   ],
   "source": [
    "vectorizer = TfidfVectorizer(max_features=200)\n",
    "X = vectorizer.fit_transform(corpus)\n",
    "X_train, X_test, y_train, y_test = train_test_split(X, y, test_size=0.2, random_state=42)\n",
    "\n",
    "X_tr_arr = X_train.toarray()\n",
    "X_ts_arr = X_test.toarray()\n",
    "y_tr_arr = np.array(y_train, dtype='int')\n",
    "y_ts_arr = np.array(y_test, dtype='int')\n",
    "\n",
    "knn = KNeighborsClassifier(n_jobs=-1, n_neighbors=3, weights='distance', p=2)\n",
    "knn.fit(X_tr_arr, y_tr_arr)"
   ]
  },
  {
   "cell_type": "markdown",
   "metadata": {},
   "source": [
    "### Step8: 不断改变参数，直到性能达到“某个”点。问：“某个”怎么定义？"
   ]
  },
  {
   "cell_type": "markdown",
   "metadata": {},
   "source": [
    "性能与计算复杂度之间的一个最佳的平衡点"
   ]
  },
  {
   "cell_type": "markdown",
   "metadata": {},
   "source": [
    "### Step9: 找出所有预测为 1， 但是实际为 0 的文章。 作为抄袭的候选者。"
   ]
  },
  {
   "cell_type": "code",
   "execution_count": null,
   "metadata": {},
   "outputs": [],
   "source": [
    "y_pred = knn.predict(X.toarray())"
   ]
  },
  {
   "cell_type": "code",
   "execution_count": 356,
   "metadata": {},
   "outputs": [],
   "source": [
    "df_y_pred = pd.DataFrame(y_pred, columns=['y_pred'], dtype='object')"
   ]
  },
  {
   "cell_type": "code",
   "execution_count": 358,
   "metadata": {},
   "outputs": [],
   "source": [
    "df_y_fact = pd.DataFrame(df, columns=['y'])"
   ]
  },
  {
   "cell_type": "code",
   "execution_count": 364,
   "metadata": {
    "scrolled": true
   },
   "outputs": [],
   "source": [
    "df_pred_and_fact = pd.concat([df_y_pred, df_y_fact], axis=1)"
   ]
  },
  {
   "cell_type": "code",
   "execution_count": 377,
   "metadata": {
    "scrolled": true
   },
   "outputs": [
    {
     "name": "stdout",
     "output_type": "stream",
     "text": [
      "<class 'pandas.core.frame.DataFrame'>\n",
      "Int64Index: 89611 entries, 0 to 89610\n",
      "Data columns (total 2 columns):\n",
      "y_pred    87052 non-null object\n",
      "y         87052 non-null object\n",
      "dtypes: object(2)\n",
      "memory usage: 2.1+ MB\n"
     ]
    }
   ],
   "source": [
    "df_pred_and_fact.info()"
   ]
  },
  {
   "cell_type": "code",
   "execution_count": 378,
   "metadata": {},
   "outputs": [
    {
     "data": {
      "text/html": [
       "<div>\n",
       "<style scoped>\n",
       "    .dataframe tbody tr th:only-of-type {\n",
       "        vertical-align: middle;\n",
       "    }\n",
       "\n",
       "    .dataframe tbody tr th {\n",
       "        vertical-align: top;\n",
       "    }\n",
       "\n",
       "    .dataframe thead th {\n",
       "        text-align: right;\n",
       "    }\n",
       "</style>\n",
       "<table border=\"1\" class=\"dataframe\">\n",
       "  <thead>\n",
       "    <tr style=\"text-align: right;\">\n",
       "      <th></th>\n",
       "      <th>y_pred</th>\n",
       "      <th>y</th>\n",
       "    </tr>\n",
       "  </thead>\n",
       "  <tbody>\n",
       "    <tr>\n",
       "      <th>0</th>\n",
       "      <td>0</td>\n",
       "      <td>0</td>\n",
       "    </tr>\n",
       "    <tr>\n",
       "      <th>1</th>\n",
       "      <td>0</td>\n",
       "      <td>0</td>\n",
       "    </tr>\n",
       "    <tr>\n",
       "      <th>2</th>\n",
       "      <td>0</td>\n",
       "      <td>0</td>\n",
       "    </tr>\n",
       "    <tr>\n",
       "      <th>3</th>\n",
       "      <td>1</td>\n",
       "      <td>1</td>\n",
       "    </tr>\n",
       "    <tr>\n",
       "      <th>4</th>\n",
       "      <td>0</td>\n",
       "      <td>0</td>\n",
       "    </tr>\n",
       "  </tbody>\n",
       "</table>\n",
       "</div>"
      ],
      "text/plain": [
       "  y_pred  y\n",
       "0      0  0\n",
       "1      0  0\n",
       "2      0  0\n",
       "3      1  1\n",
       "4      0  0"
      ]
     },
     "execution_count": 378,
     "metadata": {},
     "output_type": "execute_result"
    }
   ],
   "source": [
    "df_pred_and_fact.head()"
   ]
  },
  {
   "cell_type": "code",
   "execution_count": 379,
   "metadata": {
    "scrolled": true
   },
   "outputs": [],
   "source": [
    "candidate = df_pred_and_fact[(df_pred_and_fact.y_pred==1)&(df_pred_and_fact.y==0)].index.tolist()"
   ]
  },
  {
   "cell_type": "code",
   "execution_count": 380,
   "metadata": {
    "scrolled": true
   },
   "outputs": [
    {
     "data": {
      "text/plain": [
       "[24,\n",
       " 75,\n",
       " 102,\n",
       " 111,\n",
       " 114,\n",
       " 124,\n",
       " 135,\n",
       " 140,\n",
       " 147,\n",
       " 150,\n",
       " 151,\n",
       " 156,\n",
       " 158,\n",
       " 161,\n",
       " 221,\n",
       " 226,\n",
       " 237,\n",
       " 239,\n",
       " 253,\n",
       " 256,\n",
       " 265,\n",
       " 271,\n",
       " 273,\n",
       " 277,\n",
       " 297,\n",
       " 300,\n",
       " 303,\n",
       " 309,\n",
       " 310,\n",
       " 323,\n",
       " 330,\n",
       " 353,\n",
       " 356,\n",
       " 369,\n",
       " 383,\n",
       " 399,\n",
       " 400,\n",
       " 419,\n",
       " 422,\n",
       " 433,\n",
       " 446,\n",
       " 452,\n",
       " 473,\n",
       " 474,\n",
       " 476,\n",
       " 477,\n",
       " 484,\n",
       " 499,\n",
       " 501,\n",
       " 510,\n",
       " 512,\n",
       " 524,\n",
       " 525,\n",
       " 541,\n",
       " 561,\n",
       " 563,\n",
       " 582,\n",
       " 590,\n",
       " 628,\n",
       " 632,\n",
       " 642,\n",
       " 649,\n",
       " 655,\n",
       " 662,\n",
       " 669,\n",
       " 674,\n",
       " 677,\n",
       " 680,\n",
       " 689,\n",
       " 695,\n",
       " 701,\n",
       " 702,\n",
       " 708,\n",
       " 713,\n",
       " 720,\n",
       " 730,\n",
       " 756,\n",
       " 758,\n",
       " 773,\n",
       " 784,\n",
       " 792,\n",
       " 803,\n",
       " 808,\n",
       " 814,\n",
       " 821,\n",
       " 822,\n",
       " 831,\n",
       " 867,\n",
       " 883,\n",
       " 885,\n",
       " 902,\n",
       " 906,\n",
       " 907,\n",
       " 928,\n",
       " 929,\n",
       " 932,\n",
       " 935,\n",
       " 936,\n",
       " 938,\n",
       " 941,\n",
       " 944,\n",
       " 945,\n",
       " 952,\n",
       " 956,\n",
       " 957,\n",
       " 963,\n",
       " 970,\n",
       " 988,\n",
       " 996,\n",
       " 1002,\n",
       " 1006,\n",
       " 1008,\n",
       " 1012,\n",
       " 1018,\n",
       " 1022,\n",
       " 1025,\n",
       " 1030,\n",
       " 1032,\n",
       " 1035,\n",
       " 1040,\n",
       " 1045,\n",
       " 1063,\n",
       " 1064,\n",
       " 1070,\n",
       " 1072,\n",
       " 1088,\n",
       " 1110,\n",
       " 1122,\n",
       " 1123,\n",
       " 1138,\n",
       " 1139,\n",
       " 1140,\n",
       " 1147,\n",
       " 1149,\n",
       " 1154,\n",
       " 1165,\n",
       " 1175,\n",
       " 1177,\n",
       " 1179,\n",
       " 1181,\n",
       " 1197,\n",
       " 1199,\n",
       " 1201,\n",
       " 1230,\n",
       " 1260,\n",
       " 1285,\n",
       " 1295,\n",
       " 1318,\n",
       " 1348,\n",
       " 1361,\n",
       " 1380,\n",
       " 1388,\n",
       " 1390,\n",
       " 1402,\n",
       " 1413,\n",
       " 1427,\n",
       " 1437,\n",
       " 1438,\n",
       " 1443,\n",
       " 1447,\n",
       " 1456,\n",
       " 1457,\n",
       " 1480,\n",
       " 1514,\n",
       " 1518,\n",
       " 1534,\n",
       " 1550,\n",
       " 1570,\n",
       " 1576,\n",
       " 1618,\n",
       " 1632,\n",
       " 1638,\n",
       " 1647,\n",
       " 1660,\n",
       " 1664,\n",
       " 1682,\n",
       " 1685,\n",
       " 1697,\n",
       " 1713,\n",
       " 1747,\n",
       " 1757,\n",
       " 1760,\n",
       " 1761,\n",
       " 1764,\n",
       " 1768,\n",
       " 1795,\n",
       " 1798,\n",
       " 1805,\n",
       " 1811,\n",
       " 1830,\n",
       " 1866,\n",
       " 1888,\n",
       " 1897,\n",
       " 1900,\n",
       " 1910,\n",
       " 1928,\n",
       " 1948,\n",
       " 1965,\n",
       " 1967,\n",
       " 1993,\n",
       " 1997,\n",
       " 2038,\n",
       " 2040,\n",
       " 2059,\n",
       " 2065,\n",
       " 2107,\n",
       " 2110,\n",
       " 2113,\n",
       " 2151,\n",
       " 2165,\n",
       " 2167,\n",
       " 2180,\n",
       " 2195,\n",
       " 2212,\n",
       " 2223,\n",
       " 2238,\n",
       " 2244,\n",
       " 2246,\n",
       " 2255,\n",
       " 2271,\n",
       " 2279,\n",
       " 2290,\n",
       " 2307,\n",
       " 2308,\n",
       " 2328,\n",
       " 2329,\n",
       " 2330,\n",
       " 2338,\n",
       " 2351,\n",
       " 2359,\n",
       " 2361,\n",
       " 2373,\n",
       " 2376,\n",
       " 2386,\n",
       " 2394,\n",
       " 2403,\n",
       " 2467,\n",
       " 2502,\n",
       " 2528,\n",
       " 2540,\n",
       " 2550,\n",
       " 2582,\n",
       " 2608,\n",
       " 2615,\n",
       " 2622,\n",
       " 2626,\n",
       " 2633,\n",
       " 2644,\n",
       " 2648,\n",
       " 2679,\n",
       " 2726,\n",
       " 2735,\n",
       " 2740,\n",
       " 2741,\n",
       " 2753,\n",
       " 2762,\n",
       " 2771,\n",
       " 2774,\n",
       " 2783,\n",
       " 2787,\n",
       " 2796,\n",
       " 2798,\n",
       " 2802,\n",
       " 2806,\n",
       " 2815,\n",
       " 2823,\n",
       " 2826,\n",
       " 2851,\n",
       " 2867,\n",
       " 2875,\n",
       " 2891,\n",
       " 2901,\n",
       " 2903,\n",
       " 2913,\n",
       " 2941,\n",
       " 2951,\n",
       " 2954,\n",
       " 2968,\n",
       " 2980,\n",
       " 3007,\n",
       " 3016,\n",
       " 3047,\n",
       " 3050,\n",
       " 3064,\n",
       " 3071,\n",
       " 3074,\n",
       " 3076,\n",
       " 3080,\n",
       " 3096,\n",
       " 3134,\n",
       " 3137,\n",
       " 3149,\n",
       " 3168,\n",
       " 3169,\n",
       " 3175,\n",
       " 3179,\n",
       " 3181,\n",
       " 3186,\n",
       " 3200,\n",
       " 3208,\n",
       " 3214,\n",
       " 3222,\n",
       " 3223,\n",
       " 3227,\n",
       " 3228,\n",
       " 3233,\n",
       " 3235,\n",
       " 3237,\n",
       " 3241,\n",
       " 3259,\n",
       " 3272,\n",
       " 3299,\n",
       " 3300,\n",
       " 3304,\n",
       " 3307,\n",
       " 3308,\n",
       " 3309,\n",
       " 3313,\n",
       " 3337,\n",
       " 3348,\n",
       " 3350,\n",
       " 3354,\n",
       " 3366,\n",
       " 3381,\n",
       " 3394,\n",
       " 3403,\n",
       " 3418,\n",
       " 3425,\n",
       " 3434,\n",
       " 3445,\n",
       " 3450,\n",
       " 3452,\n",
       " 3481,\n",
       " 3493,\n",
       " 3495,\n",
       " 3502,\n",
       " 3506,\n",
       " 3524,\n",
       " 3537,\n",
       " 3548,\n",
       " 3559,\n",
       " 3580,\n",
       " 3586,\n",
       " 3587,\n",
       " 3593,\n",
       " 3598,\n",
       " 3603,\n",
       " 3605,\n",
       " 3607,\n",
       " 3616,\n",
       " 3620,\n",
       " 3669,\n",
       " 3675,\n",
       " 3694,\n",
       " 3704,\n",
       " 3707,\n",
       " 3711,\n",
       " 3716,\n",
       " 3737,\n",
       " 3757,\n",
       " 3785,\n",
       " 3787,\n",
       " 3802,\n",
       " 3831,\n",
       " 3845,\n",
       " 3846,\n",
       " 3864,\n",
       " 3874,\n",
       " 3882,\n",
       " 3883,\n",
       " 3885,\n",
       " 3893,\n",
       " 3913,\n",
       " 3920,\n",
       " 3922,\n",
       " 3924,\n",
       " 3925,\n",
       " 3927,\n",
       " 3943,\n",
       " 3955,\n",
       " 3967,\n",
       " 3977,\n",
       " 3978,\n",
       " 3997,\n",
       " 4001,\n",
       " 4011,\n",
       " 4013,\n",
       " 4046,\n",
       " 4066,\n",
       " 4070,\n",
       " 4103,\n",
       " 4107,\n",
       " 4108,\n",
       " 4116,\n",
       " 4118,\n",
       " 4124,\n",
       " 4157,\n",
       " 4182,\n",
       " 4193,\n",
       " 4195,\n",
       " 4197,\n",
       " 4211,\n",
       " 4242,\n",
       " 4244,\n",
       " 4248,\n",
       " 4346,\n",
       " 4361,\n",
       " 4363,\n",
       " 4366,\n",
       " 4382,\n",
       " 4384,\n",
       " 4402,\n",
       " 4411,\n",
       " 4417,\n",
       " 4472,\n",
       " 4488,\n",
       " 4492,\n",
       " 4497,\n",
       " 4515,\n",
       " 4559,\n",
       " 4563,\n",
       " 4591,\n",
       " 4609,\n",
       " 4613,\n",
       " 4635,\n",
       " 4645,\n",
       " 4653,\n",
       " 4656,\n",
       " 4660,\n",
       " 4663,\n",
       " 4670,\n",
       " 4685,\n",
       " 4690,\n",
       " 4733,\n",
       " 4745,\n",
       " 4831,\n",
       " 4859,\n",
       " 4861,\n",
       " 4875,\n",
       " 4881,\n",
       " 4887,\n",
       " 4931,\n",
       " 4938,\n",
       " 4939,\n",
       " 4998,\n",
       " 5034,\n",
       " 5040,\n",
       " 5047,\n",
       " 5055,\n",
       " 5070,\n",
       " 5086,\n",
       " 5104,\n",
       " 5114,\n",
       " 5157,\n",
       " 5169,\n",
       " 5205,\n",
       " 5216,\n",
       " 5235,\n",
       " 5239,\n",
       " 5245,\n",
       " 5256,\n",
       " 5266,\n",
       " 5285,\n",
       " 5300,\n",
       " 5303,\n",
       " 5305,\n",
       " 5333,\n",
       " 5345,\n",
       " 5346,\n",
       " 5353,\n",
       " 5354,\n",
       " 5372,\n",
       " 5442,\n",
       " 5453,\n",
       " 5466,\n",
       " 5487,\n",
       " 5488,\n",
       " 5491,\n",
       " 5496,\n",
       " 5510,\n",
       " 5512,\n",
       " 5519,\n",
       " 5537,\n",
       " 5541,\n",
       " 5558,\n",
       " 5562,\n",
       " 5578,\n",
       " 5619,\n",
       " 5633,\n",
       " 5641,\n",
       " 5651,\n",
       " 5677,\n",
       " 5687,\n",
       " 5692,\n",
       " 5707,\n",
       " 5708,\n",
       " 5712,\n",
       " 5716,\n",
       " 5719,\n",
       " 5735,\n",
       " 5738,\n",
       " 5743,\n",
       " 5764,\n",
       " 5767,\n",
       " 5771,\n",
       " 5775,\n",
       " 5787,\n",
       " 5799,\n",
       " 5809,\n",
       " 5815,\n",
       " 5817,\n",
       " 5820,\n",
       " 5832,\n",
       " 5836,\n",
       " 5843,\n",
       " 5854,\n",
       " 5864,\n",
       " 5866,\n",
       " 5868,\n",
       " 5881,\n",
       " 5882,\n",
       " 5903,\n",
       " 5907,\n",
       " 5928,\n",
       " 5941,\n",
       " 5953,\n",
       " 5954,\n",
       " 5977,\n",
       " 5982,\n",
       " 5992,\n",
       " 5994,\n",
       " 5995,\n",
       " 6010,\n",
       " 6016,\n",
       " 6067,\n",
       " 6074,\n",
       " 6091,\n",
       " 6095,\n",
       " 6097,\n",
       " 6108,\n",
       " 6113,\n",
       " 6144,\n",
       " 6148,\n",
       " 6151,\n",
       " 6153,\n",
       " 6166,\n",
       " 6184,\n",
       " 6192,\n",
       " 6196,\n",
       " 6211,\n",
       " 6232,\n",
       " 6247,\n",
       " 6264,\n",
       " 6266,\n",
       " 6270,\n",
       " 6271,\n",
       " 6272,\n",
       " 6279,\n",
       " 6280,\n",
       " 6299,\n",
       " 6301,\n",
       " 6312,\n",
       " 6313,\n",
       " 6330,\n",
       " 6342,\n",
       " 6347,\n",
       " 6348,\n",
       " 6350,\n",
       " 6359,\n",
       " 6361,\n",
       " 6366,\n",
       " 6370,\n",
       " 6382,\n",
       " 6386,\n",
       " 6392,\n",
       " 6398,\n",
       " 6399,\n",
       " 6403,\n",
       " 6404,\n",
       " 6414,\n",
       " 6417,\n",
       " 6422,\n",
       " 6424,\n",
       " 6425,\n",
       " 6431,\n",
       " 6451,\n",
       " 6454,\n",
       " 6459,\n",
       " 6468,\n",
       " 6478,\n",
       " 6479,\n",
       " 6491,\n",
       " 6501,\n",
       " 6510,\n",
       " 6528,\n",
       " 6552,\n",
       " 6556,\n",
       " 6568,\n",
       " 6578,\n",
       " 6598,\n",
       " 6606,\n",
       " 6636,\n",
       " 6648,\n",
       " 6649,\n",
       " 6665,\n",
       " 6666,\n",
       " 6672,\n",
       " 6682,\n",
       " 6692,\n",
       " 6700,\n",
       " 6717,\n",
       " 6729,\n",
       " 6730,\n",
       " 6738,\n",
       " 6756,\n",
       " 6757,\n",
       " 6763,\n",
       " 6781,\n",
       " 6790,\n",
       " 6793,\n",
       " 6804,\n",
       " 6814,\n",
       " 6821,\n",
       " 6830,\n",
       " 6835,\n",
       " 6851,\n",
       " 6871,\n",
       " 6881,\n",
       " 6888,\n",
       " 6891,\n",
       " 6904,\n",
       " 6916,\n",
       " 6921,\n",
       " 6925,\n",
       " 6931,\n",
       " 6935,\n",
       " 6936,\n",
       " 6969,\n",
       " 6974,\n",
       " 6989,\n",
       " 6994,\n",
       " 7022,\n",
       " 7031,\n",
       " 7037,\n",
       " 7055,\n",
       " 7064,\n",
       " 7077,\n",
       " 7104,\n",
       " 7119,\n",
       " 7126,\n",
       " 7128,\n",
       " 7149,\n",
       " 7161,\n",
       " 7162,\n",
       " 7167,\n",
       " 7168,\n",
       " 7180,\n",
       " 7182,\n",
       " 7201,\n",
       " 7208,\n",
       " 7215,\n",
       " 7217,\n",
       " 7220,\n",
       " 7225,\n",
       " 7246,\n",
       " 7251,\n",
       " 7255,\n",
       " 7277,\n",
       " 7278,\n",
       " 7290,\n",
       " 7299,\n",
       " 7309,\n",
       " 7319,\n",
       " 7323,\n",
       " 7324,\n",
       " 7329,\n",
       " 7332,\n",
       " 7336,\n",
       " 7339,\n",
       " 7340,\n",
       " 7341,\n",
       " 7356,\n",
       " 7363,\n",
       " 7376,\n",
       " 7378,\n",
       " 7383,\n",
       " 7389,\n",
       " 7409,\n",
       " 7411,\n",
       " 7427,\n",
       " 7441,\n",
       " 7467,\n",
       " 7471,\n",
       " 7479,\n",
       " 7492,\n",
       " 7499,\n",
       " 7519,\n",
       " 7528,\n",
       " 7541,\n",
       " 7554,\n",
       " 7558,\n",
       " 7625,\n",
       " 7652,\n",
       " 7666,\n",
       " 7677,\n",
       " 7679,\n",
       " 7683,\n",
       " 7696,\n",
       " 7698,\n",
       " 7712,\n",
       " 7718,\n",
       " 7720,\n",
       " 7723,\n",
       " 7724,\n",
       " 7730,\n",
       " 7734,\n",
       " 7737,\n",
       " 7752,\n",
       " 7755,\n",
       " 7756,\n",
       " 7757,\n",
       " 7764,\n",
       " 7768,\n",
       " 7776,\n",
       " 7777,\n",
       " 7781,\n",
       " 7783,\n",
       " 7784,\n",
       " 7791,\n",
       " 7804,\n",
       " 7834,\n",
       " 7841,\n",
       " 7845,\n",
       " 7860,\n",
       " 7875,\n",
       " 7877,\n",
       " 7884,\n",
       " 7895,\n",
       " 7949,\n",
       " 7950,\n",
       " 7968,\n",
       " 7969,\n",
       " 7991,\n",
       " 7994,\n",
       " 7995,\n",
       " 7996,\n",
       " 8001,\n",
       " 8051,\n",
       " 8058,\n",
       " 8059,\n",
       " 8060,\n",
       " 8062,\n",
       " 8065,\n",
       " 8068,\n",
       " 8070,\n",
       " 8071,\n",
       " 8072,\n",
       " 8073,\n",
       " 8074,\n",
       " 8075,\n",
       " 8076,\n",
       " 9096,\n",
       " 9097,\n",
       " 9098,\n",
       " 9099,\n",
       " 9101,\n",
       " 9102,\n",
       " 9103,\n",
       " 9104,\n",
       " 9105,\n",
       " 9106,\n",
       " 9109,\n",
       " 9113,\n",
       " 9115,\n",
       " 9116,\n",
       " 9125,\n",
       " 9126,\n",
       " 9127,\n",
       " 9128,\n",
       " 9129,\n",
       " 9130,\n",
       " 9131,\n",
       " 9132,\n",
       " 9133,\n",
       " 9134,\n",
       " 9854,\n",
       " 9855,\n",
       " 9856,\n",
       " 9857,\n",
       " 9858,\n",
       " 9859,\n",
       " 9860,\n",
       " 9861,\n",
       " 9862,\n",
       " 9863,\n",
       " 9864,\n",
       " 9865,\n",
       " 9866,\n",
       " 9867,\n",
       " 9868,\n",
       " 9869,\n",
       " 9870,\n",
       " 9871,\n",
       " 9872,\n",
       " 9873,\n",
       " 9874,\n",
       " 9875,\n",
       " 9876,\n",
       " 9877,\n",
       " 9878,\n",
       " 9879,\n",
       " 9880,\n",
       " 9881,\n",
       " 9882,\n",
       " 9883,\n",
       " 9884,\n",
       " 9885,\n",
       " 9886,\n",
       " 9887,\n",
       " 9888,\n",
       " 9889,\n",
       " 9893,\n",
       " 9894,\n",
       " 9895,\n",
       " 9896,\n",
       " 9898,\n",
       " 9899,\n",
       " 9901,\n",
       " 9907,\n",
       " 9909,\n",
       " 9910,\n",
       " 9911,\n",
       " 9912,\n",
       " 9913,\n",
       " 9915,\n",
       " 9917,\n",
       " 9918,\n",
       " 9919,\n",
       " 9921,\n",
       " 9922,\n",
       " 9923,\n",
       " 9924,\n",
       " 9925,\n",
       " 9926,\n",
       " 9927,\n",
       " 9928,\n",
       " 9929,\n",
       " 9930,\n",
       " 9931,\n",
       " 9932,\n",
       " 9933,\n",
       " 9936,\n",
       " 9937,\n",
       " 9938,\n",
       " 9939,\n",
       " 9940,\n",
       " 9941,\n",
       " 9942,\n",
       " 9943,\n",
       " 9944,\n",
       " 9945,\n",
       " 9946,\n",
       " 9947,\n",
       " 9948,\n",
       " 9949,\n",
       " 9950,\n",
       " 9951,\n",
       " 9952,\n",
       " 9953,\n",
       " 9954,\n",
       " 9955,\n",
       " 9956,\n",
       " 9957,\n",
       " 9958,\n",
       " 9959,\n",
       " 9960,\n",
       " 9961,\n",
       " 9962,\n",
       " 9963,\n",
       " 9964,\n",
       " 9965,\n",
       " 9966,\n",
       " 9967,\n",
       " 9969,\n",
       " 9970,\n",
       " 9971,\n",
       " 9973,\n",
       " 9974,\n",
       " 9975,\n",
       " 9976,\n",
       " 9977,\n",
       " 9978,\n",
       " 9979,\n",
       " 9980,\n",
       " 9981,\n",
       " 9982,\n",
       " 9983,\n",
       " 9984,\n",
       " 9985,\n",
       " 9986,\n",
       " 9987,\n",
       " 9988,\n",
       " 9989,\n",
       " 9990,\n",
       " 9991,\n",
       " 9992,\n",
       " 9993,\n",
       " 9994,\n",
       " 9995,\n",
       " 9996,\n",
       " 9998,\n",
       " 10000,\n",
       " 10001,\n",
       " 10002,\n",
       " 10003,\n",
       " 10004,\n",
       " 10005,\n",
       " 10006,\n",
       " 10007,\n",
       " 10008,\n",
       " 10009,\n",
       " 10010,\n",
       " 10011,\n",
       " 10012,\n",
       " 10013,\n",
       " 10014,\n",
       " 10015,\n",
       " 10016,\n",
       " 10017,\n",
       " 10018,\n",
       " 10019,\n",
       " 10020,\n",
       " 10021,\n",
       " 10022,\n",
       " 10023,\n",
       " 10024,\n",
       " 10025,\n",
       " 10026,\n",
       " 10027,\n",
       " 10028,\n",
       " 10029,\n",
       " 10030,\n",
       " 10031,\n",
       " 10032,\n",
       " 10033,\n",
       " 10034,\n",
       " 10035,\n",
       " 10036,\n",
       " 10037,\n",
       " 10038,\n",
       " 10039,\n",
       " 10040,\n",
       " 10041,\n",
       " 10042,\n",
       " 10043,\n",
       " 10044,\n",
       " 10045,\n",
       " 10046,\n",
       " 10047,\n",
       " 10048,\n",
       " 10049,\n",
       " 10050,\n",
       " 10051,\n",
       " 10052,\n",
       " 10053,\n",
       " 10054,\n",
       " 10055,\n",
       " 10056,\n",
       " 10057,\n",
       " 10058,\n",
       " 10059,\n",
       " 10060,\n",
       " 10061,\n",
       " 10062,\n",
       " 10063,\n",
       " 10064,\n",
       " 10564,\n",
       " 10565,\n",
       " 10566,\n",
       " 10567,\n",
       " 10568,\n",
       " 10569,\n",
       " 10570,\n",
       " 10571,\n",
       " 10572,\n",
       " 10573,\n",
       " 10574,\n",
       " 10575,\n",
       " 10576,\n",
       " 10577,\n",
       " 10578,\n",
       " 10579,\n",
       " 10580,\n",
       " 10581,\n",
       " 10582,\n",
       " 10583,\n",
       " 10584,\n",
       " 10585,\n",
       " 10586,\n",
       " 10587,\n",
       " ...]"
      ]
     },
     "execution_count": 380,
     "metadata": {},
     "output_type": "execute_result"
    }
   ],
   "source": [
    "candidate"
   ]
  },
  {
   "cell_type": "code",
   "execution_count": 381,
   "metadata": {},
   "outputs": [
    {
     "data": {
      "text/plain": [
       "1297"
      ]
     },
     "execution_count": 381,
     "metadata": {},
     "output_type": "execute_result"
    }
   ],
   "source": [
    "len(candidate)"
   ]
  },
  {
   "cell_type": "markdown",
   "metadata": {},
   "source": [
    "### Step10： 总结该过程，什么是数据思维？什么是机器学习思维？"
   ]
  },
  {
   "cell_type": "markdown",
   "metadata": {},
   "source": [
    "### (Optional)使用第4课讲解的 edit distance，在涉嫌抄袭的文章中，找到其重复的文字与被修改过的文字。 "
   ]
  },
  {
   "cell_type": "code",
   "execution_count": 39,
   "metadata": {},
   "outputs": [],
   "source": [
    "from functools import lru_cache"
   ]
  },
  {
   "cell_type": "code",
   "execution_count": 47,
   "metadata": {},
   "outputs": [],
   "source": [
    "def get_edit_distance(string1, string2):    \n",
    "    i = 0\n",
    "    solution = {}\n",
    "    \n",
    "    @lru_cache(maxsize=2**10)\n",
    "    def edit_distance(string1, string2):\n",
    "        i += 1\n",
    "\n",
    "        if len(string1) == 0: return len(string2)\n",
    "        if len(string2) == 0: return len(string1)\n",
    "\n",
    "        tail_s1 = string1[-1]\n",
    "        tail_s2 = string2[-1] \n",
    "\n",
    "\n",
    "        if tail_s1 == tail_s2:\n",
    "            candidates = [(edit_distance(string1[:-1], string2[:-1]) + 0, '')]\n",
    "            # no edits\n",
    "        else:\n",
    "            candidates = [\n",
    "            (edit_distance(string1[:-1], string2) + 1, 'DEL {}'.format(tail_s1)),\n",
    "            # delete tail_s1 for string 1; edit_distance + 1 for each deletion\n",
    "            (edit_distance(string1, string2[:-1]) + 1, 'ADD {}'.format(tail_s2)),\n",
    "            # add tail_s2 to string 1; edit_distance + 1 for each addition\n",
    "            (edit_distance(string1[:-1], string2[:-1]) + 1, \n",
    "                            'SUB {} => {}'.format(tail_s1, tail_s2))\n",
    "        ]\n",
    "\n",
    "\n",
    "        min_distance, operation = min(candidates, key=lambda x: x[0])\n",
    "        # find the minimal edit distance among all possible operations\n",
    "\n",
    "        solution[(string1, string2)] = operation # store solution to dictionary\n",
    "\n",
    "        return min_distance  \n",
    "    \n",
    "    string1 = string1\n",
    "    string2 = string2\n",
    "    min_distance = edit_distance(string1, string2)\n",
    "    return (min_distance, solution)"
   ]
  },
  {
   "cell_type": "code",
   "execution_count": 48,
   "metadata": {
    "scrolled": true
   },
   "outputs": [
    {
     "ename": "UnboundLocalError",
     "evalue": "local variable 'i' referenced before assignment",
     "output_type": "error",
     "traceback": [
      "\u001b[1;31m---------------------------------------------------------------------------\u001b[0m",
      "\u001b[1;31mUnboundLocalError\u001b[0m                         Traceback (most recent call last)",
      "\u001b[1;32m<ipython-input-48-260ceaad53ef>\u001b[0m in \u001b[0;36m<module>\u001b[1;34m\u001b[0m\n\u001b[1;32m----> 1\u001b[1;33m \u001b[0mmin_distance\u001b[0m\u001b[1;33m,\u001b[0m \u001b[0msolution\u001b[0m \u001b[1;33m=\u001b[0m \u001b[0mget_edit_distance\u001b[0m\u001b[1;33m(\u001b[0m\u001b[1;34m'打篮球'\u001b[0m\u001b[1;33m,\u001b[0m \u001b[1;34m'打进NBA'\u001b[0m\u001b[1;33m)\u001b[0m\u001b[1;33m\u001b[0m\u001b[1;33m\u001b[0m\u001b[0m\n\u001b[0m",
      "\u001b[1;32m<ipython-input-47-ea1a1f37af2e>\u001b[0m in \u001b[0;36mget_edit_distance\u001b[1;34m(string1, string2)\u001b[0m\n\u001b[0;32m     37\u001b[0m     \u001b[0mstring1\u001b[0m \u001b[1;33m=\u001b[0m \u001b[0mstring1\u001b[0m\u001b[1;33m\u001b[0m\u001b[1;33m\u001b[0m\u001b[0m\n\u001b[0;32m     38\u001b[0m     \u001b[0mstring2\u001b[0m \u001b[1;33m=\u001b[0m \u001b[0mstring2\u001b[0m\u001b[1;33m\u001b[0m\u001b[1;33m\u001b[0m\u001b[0m\n\u001b[1;32m---> 39\u001b[1;33m     \u001b[0mmin_distance\u001b[0m \u001b[1;33m=\u001b[0m \u001b[0medit_distance\u001b[0m\u001b[1;33m(\u001b[0m\u001b[0mstring1\u001b[0m\u001b[1;33m,\u001b[0m \u001b[0mstring2\u001b[0m\u001b[1;33m)\u001b[0m\u001b[1;33m\u001b[0m\u001b[1;33m\u001b[0m\u001b[0m\n\u001b[0m\u001b[0;32m     40\u001b[0m     \u001b[1;32mreturn\u001b[0m \u001b[1;33m(\u001b[0m\u001b[0mmin_distance\u001b[0m\u001b[1;33m,\u001b[0m \u001b[0msolution\u001b[0m\u001b[1;33m)\u001b[0m\u001b[1;33m\u001b[0m\u001b[1;33m\u001b[0m\u001b[0m\n",
      "\u001b[1;32m<ipython-input-47-ea1a1f37af2e>\u001b[0m in \u001b[0;36medit_distance\u001b[1;34m(string1, string2)\u001b[0m\n\u001b[0;32m      5\u001b[0m     \u001b[1;33m@\u001b[0m\u001b[0mlru_cache\u001b[0m\u001b[1;33m(\u001b[0m\u001b[0mmaxsize\u001b[0m\u001b[1;33m=\u001b[0m\u001b[1;36m2\u001b[0m\u001b[1;33m**\u001b[0m\u001b[1;36m10\u001b[0m\u001b[1;33m)\u001b[0m\u001b[1;33m\u001b[0m\u001b[1;33m\u001b[0m\u001b[0m\n\u001b[0;32m      6\u001b[0m     \u001b[1;32mdef\u001b[0m \u001b[0medit_distance\u001b[0m\u001b[1;33m(\u001b[0m\u001b[0mstring1\u001b[0m\u001b[1;33m,\u001b[0m \u001b[0mstring2\u001b[0m\u001b[1;33m)\u001b[0m\u001b[1;33m:\u001b[0m\u001b[1;33m\u001b[0m\u001b[1;33m\u001b[0m\u001b[0m\n\u001b[1;32m----> 7\u001b[1;33m         \u001b[0mi\u001b[0m \u001b[1;33m+=\u001b[0m \u001b[1;36m1\u001b[0m\u001b[1;33m\u001b[0m\u001b[1;33m\u001b[0m\u001b[0m\n\u001b[0m\u001b[0;32m      8\u001b[0m \u001b[1;33m\u001b[0m\u001b[0m\n\u001b[0;32m      9\u001b[0m         \u001b[1;32mif\u001b[0m \u001b[0mlen\u001b[0m\u001b[1;33m(\u001b[0m\u001b[0mstring1\u001b[0m\u001b[1;33m)\u001b[0m \u001b[1;33m==\u001b[0m \u001b[1;36m0\u001b[0m\u001b[1;33m:\u001b[0m \u001b[1;32mreturn\u001b[0m \u001b[0mlen\u001b[0m\u001b[1;33m(\u001b[0m\u001b[0mstring2\u001b[0m\u001b[1;33m)\u001b[0m\u001b[1;33m\u001b[0m\u001b[1;33m\u001b[0m\u001b[0m\n",
      "\u001b[1;31mUnboundLocalError\u001b[0m: local variable 'i' referenced before assignment"
     ]
    }
   ],
   "source": [
    "min_distance, solution = get_edit_distance('打篮球', '打进NBA')"
   ]
  },
  {
   "cell_type": "code",
   "execution_count": 42,
   "metadata": {},
   "outputs": [
    {
     "ename": "NameError",
     "evalue": "name 'min_distance' is not defined",
     "output_type": "error",
     "traceback": [
      "\u001b[1;31m---------------------------------------------------------------------------\u001b[0m",
      "\u001b[1;31mNameError\u001b[0m                                 Traceback (most recent call last)",
      "\u001b[1;32m<ipython-input-42-842b57aff971>\u001b[0m in \u001b[0;36m<module>\u001b[1;34m\u001b[0m\n\u001b[1;32m----> 1\u001b[1;33m \u001b[0mmin_distance\u001b[0m\u001b[1;33m\u001b[0m\u001b[1;33m\u001b[0m\u001b[0m\n\u001b[0m",
      "\u001b[1;31mNameError\u001b[0m: name 'min_distance' is not defined"
     ]
    }
   ],
   "source": [
    "min_distance"
   ]
  },
  {
   "cell_type": "code",
   "execution_count": 43,
   "metadata": {},
   "outputs": [
    {
     "ename": "NameError",
     "evalue": "name 'solution' is not defined",
     "output_type": "error",
     "traceback": [
      "\u001b[1;31m---------------------------------------------------------------------------\u001b[0m",
      "\u001b[1;31mNameError\u001b[0m                                 Traceback (most recent call last)",
      "\u001b[1;32m<ipython-input-43-bbd0511184f1>\u001b[0m in \u001b[0;36m<module>\u001b[1;34m\u001b[0m\n\u001b[1;32m----> 1\u001b[1;33m \u001b[0msolution\u001b[0m\u001b[1;33m\u001b[0m\u001b[1;33m\u001b[0m\u001b[0m\n\u001b[0m",
      "\u001b[1;31mNameError\u001b[0m: name 'solution' is not defined"
     ]
    }
   ],
   "source": [
    "solution"
   ]
  },
  {
   "cell_type": "code",
   "execution_count": 44,
   "metadata": {},
   "outputs": [],
   "source": [
    "# to parse the solutions, we need to define the exit condition (\"查表\"过程的终止条件)\n",
    "# in this case, the exit condition is\n",
    "# -- if the two strings are exactly the same, we stop editing\n",
    "\n",
    "def stop_edit(string1, string2): return string1 == string2\n",
    "\n",
    "\n",
    "# now we look for solutions in the \"solution\" dictionary\n",
    "\n",
    "def parse_solution(string1, string2, solution_dic):\n",
    "    \n",
    "    parsed_solutions = [] \n",
    "    \n",
    "    while not stop_edit(string1, string2):       \n",
    "        \n",
    "        if string2 == '':\n",
    "            parsed_solutions.append('DEL {}'.format(string1[-1]))\n",
    "            string1 = string1[:-1]\n",
    "            continue\n",
    "            \n",
    "        if string1 == '':\n",
    "            parsed_solutions.append('ADD {}'.format(string2[-1]))\n",
    "            string2 = string2[:-1]\n",
    "            continue\n",
    "        \n",
    "        operation = solution_dic[(string1, string2)] # \"查表\" 过程\n",
    "        if 'SUB' in operation:\n",
    "            string1, string2 = string1[:-1], string2[:-1] \n",
    "            # if substitution, both forward and compare\n",
    "        elif operation == '':\n",
    "            string1, string2 = string1[:-1], string2[:-1]\n",
    "            # if no edits, both forward and compare\n",
    "        elif 'DEL' in operation:\n",
    "            string1, string2 = string1[:-1], string2 \n",
    "            # delete tail of string1 and then compare\n",
    "        elif 'ADD' in operation:\n",
    "            string1, string2 = string1, string2[:-1] \n",
    "            # delete tail of string2 and then compare\n",
    "#         print(string1, string2)\n",
    "        if operation != '':\n",
    "            parsed_solutions.append(operation)\n",
    "    \n",
    "    return parsed_solutions"
   ]
  },
  {
   "cell_type": "code",
   "execution_count": 403,
   "metadata": {},
   "outputs": [],
   "source": [
    "parsed_solutions = parse_solution('打篮球', '打进NBA', solution)"
   ]
  },
  {
   "cell_type": "code",
   "execution_count": 404,
   "metadata": {
    "scrolled": true
   },
   "outputs": [
    {
     "data": {
      "text/plain": [
       "['ADD A', 'ADD B', 'SUB 球 => N', 'SUB 篮 => 进']"
      ]
     },
     "execution_count": 404,
     "metadata": {},
     "output_type": "execute_result"
    }
   ],
   "source": [
    "parsed_solutions"
   ]
  },
  {
   "cell_type": "code",
   "execution_count": 412,
   "metadata": {
    "scrolled": true
   },
   "outputs": [
    {
     "data": {
      "text/plain": [
       "[2, 3]"
      ]
     },
     "execution_count": 412,
     "metadata": {},
     "output_type": "execute_result"
    }
   ],
   "source": [
    "list(set([1, 2, 3]) - set([1]))"
   ]
  },
  {
   "cell_type": "code",
   "execution_count": 413,
   "metadata": {},
   "outputs": [],
   "source": [
    "def get_repetition(string1, parsed_solutions):\n",
    "    string1_list = [word for word in string1]\n",
    "    alter_list = [word[4] for word in parsed_solutions]\n",
    "    repetition_list = list(set(string1_list) - set(alter_list))\n",
    "    return repetition_list"
   ]
  },
  {
   "cell_type": "code",
   "execution_count": 414,
   "metadata": {},
   "outputs": [
    {
     "data": {
      "text/plain": [
       "['打']"
      ]
     },
     "execution_count": 414,
     "metadata": {},
     "output_type": "execute_result"
    }
   ],
   "source": [
    "get_repetition('打篮球', parsed_solutions)"
   ]
  },
  {
   "cell_type": "code",
   "execution_count": 37,
   "metadata": {},
   "outputs": [],
   "source": [
    "def plagiarism_analysis(suspect_id, content):\n",
    "    # 找到最长\n",
    "    content_max = max([len(i) for i in content])\n",
    "    min_edit_distance = content_max\n",
    "    suspect = content[suspect_id]\n",
    "    for i, document in enumerate(content):\n",
    "        if i != suspect_id:\n",
    "            edit_distance = get_edit_distance(suspect, document) \n",
    "            if edit_distance < min_edit_distance:\n",
    "                min_edit_distance = edit_distance + content_max - max(content[suspect_id], document)\n",
    "                source_id = i\n",
    "    return suspect_id, source_id         \n",
    "        "
   ]
  },
  {
   "cell_type": "code",
   "execution_count": 38,
   "metadata": {},
   "outputs": [
    {
     "ename": "NameError",
     "evalue": "name 'get_edit_distance' is not defined",
     "output_type": "error",
     "traceback": [
      "\u001b[1;31m---------------------------------------------------------------------------\u001b[0m",
      "\u001b[1;31mNameError\u001b[0m                                 Traceback (most recent call last)",
      "\u001b[1;32m<ipython-input-38-8c3a849ff5d4>\u001b[0m in \u001b[0;36m<module>\u001b[1;34m\u001b[0m\n\u001b[1;32m----> 1\u001b[1;33m \u001b[0mplagiarism_analysis\u001b[0m\u001b[1;33m(\u001b[0m\u001b[1;36m24\u001b[0m\u001b[1;33m,\u001b[0m \u001b[1;33m[\u001b[0m\u001b[1;34m''\u001b[0m\u001b[1;33m.\u001b[0m\u001b[0mjoin\u001b[0m\u001b[1;33m(\u001b[0m\u001b[0mtoken\u001b[0m\u001b[1;33m(\u001b[0m\u001b[0mcontent\u001b[0m\u001b[1;33m)\u001b[0m\u001b[1;33m)\u001b[0m \u001b[1;32mfor\u001b[0m \u001b[0mcontent\u001b[0m \u001b[1;32min\u001b[0m \u001b[0mdf\u001b[0m\u001b[1;33m[\u001b[0m\u001b[1;34m'content'\u001b[0m\u001b[1;33m]\u001b[0m\u001b[1;33m]\u001b[0m\u001b[1;33m)\u001b[0m\u001b[1;33m\u001b[0m\u001b[1;33m\u001b[0m\u001b[0m\n\u001b[0m",
      "\u001b[1;32m<ipython-input-37-9020965b6cb2>\u001b[0m in \u001b[0;36mplagiarism_analysis\u001b[1;34m(suspect_id, content)\u001b[0m\n\u001b[0;32m      6\u001b[0m     \u001b[1;32mfor\u001b[0m \u001b[0mi\u001b[0m\u001b[1;33m,\u001b[0m \u001b[0mdocument\u001b[0m \u001b[1;32min\u001b[0m \u001b[0menumerate\u001b[0m\u001b[1;33m(\u001b[0m\u001b[0mcontent\u001b[0m\u001b[1;33m)\u001b[0m\u001b[1;33m:\u001b[0m\u001b[1;33m\u001b[0m\u001b[1;33m\u001b[0m\u001b[0m\n\u001b[0;32m      7\u001b[0m         \u001b[1;32mif\u001b[0m \u001b[0mi\u001b[0m \u001b[1;33m!=\u001b[0m \u001b[0msuspect_id\u001b[0m\u001b[1;33m:\u001b[0m\u001b[1;33m\u001b[0m\u001b[1;33m\u001b[0m\u001b[0m\n\u001b[1;32m----> 8\u001b[1;33m             \u001b[0medit_distance\u001b[0m \u001b[1;33m=\u001b[0m \u001b[0mget_edit_distance\u001b[0m\u001b[1;33m(\u001b[0m\u001b[0msuspect\u001b[0m\u001b[1;33m,\u001b[0m \u001b[0mdocument\u001b[0m\u001b[1;33m)\u001b[0m\u001b[1;33m\u001b[0m\u001b[1;33m\u001b[0m\u001b[0m\n\u001b[0m\u001b[0;32m      9\u001b[0m             \u001b[1;32mif\u001b[0m \u001b[0medit_distance\u001b[0m \u001b[1;33m<\u001b[0m \u001b[0mmin_edit_distance\u001b[0m\u001b[1;33m:\u001b[0m\u001b[1;33m\u001b[0m\u001b[1;33m\u001b[0m\u001b[0m\n\u001b[0;32m     10\u001b[0m                 \u001b[0mmin_edit_distance\u001b[0m \u001b[1;33m=\u001b[0m \u001b[0medit_distance\u001b[0m \u001b[1;33m+\u001b[0m \u001b[0mcontent_max\u001b[0m \u001b[1;33m-\u001b[0m \u001b[0mmax\u001b[0m\u001b[1;33m(\u001b[0m\u001b[0mcontent\u001b[0m\u001b[1;33m[\u001b[0m\u001b[0msuspect_id\u001b[0m\u001b[1;33m]\u001b[0m\u001b[1;33m,\u001b[0m \u001b[0mdocument\u001b[0m\u001b[1;33m)\u001b[0m\u001b[1;33m\u001b[0m\u001b[1;33m\u001b[0m\u001b[0m\n",
      "\u001b[1;31mNameError\u001b[0m: name 'get_edit_distance' is not defined"
     ]
    }
   ],
   "source": [
    "plagiarism_analysis(24, [''.join(token(content)) for content in df['content']])"
   ]
  },
  {
   "cell_type": "code",
   "execution_count": null,
   "metadata": {},
   "outputs": [],
   "source": []
  },
  {
   "cell_type": "markdown",
   "metadata": {},
   "source": [
    "### Step11: 利用第8课讲述的新模型，进行操作，感受其中不同的参数、模型对性能的影响。"
   ]
  },
  {
   "cell_type": "markdown",
   "metadata": {},
   "source": [
    "### LogisticRegression"
   ]
  },
  {
   "cell_type": "code",
   "execution_count": 33,
   "metadata": {},
   "outputs": [],
   "source": [
    "from sklearn.linear_model import LogisticRegression"
   ]
  },
  {
   "cell_type": "code",
   "execution_count": 34,
   "metadata": {
    "collapsed": true
   },
   "outputs": [
    {
     "name": "stderr",
     "output_type": "stream",
     "text": [
      "C:\\Users\\Mr. Wu\\Anaconda3\\envs\\AI\\lib\\site-packages\\sklearn\\linear_model\\logistic.py:432: FutureWarning: Default solver will be changed to 'lbfgs' in 0.22. Specify a solver to silence this warning.\n",
      "  FutureWarning)\n"
     ]
    },
    {
     "data": {
      "text/plain": [
       "LogisticRegression(C=1.0, class_weight=None, dual=False, fit_intercept=True,\n",
       "                   intercept_scaling=1, l1_ratio=None, max_iter=100,\n",
       "                   multi_class='warn', n_jobs=None, penalty='l2',\n",
       "                   random_state=None, solver='warn', tol=0.0001, verbose=0,\n",
       "                   warm_start=False)"
      ]
     },
     "execution_count": 34,
     "metadata": {},
     "output_type": "execute_result"
    }
   ],
   "source": [
    "clf = LogisticRegression()\n",
    "clf.fit(X_tr_arr, y_tr_arr)"
   ]
  },
  {
   "cell_type": "code",
   "execution_count": 35,
   "metadata": {},
   "outputs": [
    {
     "data": {
      "text/plain": [
       "0.9777726724484521"
      ]
     },
     "execution_count": 35,
     "metadata": {},
     "output_type": "execute_result"
    }
   ],
   "source": [
    "clf.score(X_ts_arr, y_ts_arr)"
   ]
  },
  {
   "cell_type": "code",
   "execution_count": 36,
   "metadata": {},
   "outputs": [
    {
     "data": {
      "text/plain": [
       "(17411, 1000)"
      ]
     },
     "execution_count": 36,
     "metadata": {},
     "output_type": "execute_result"
    }
   ],
   "source": [
    "X_ts_arr.shape"
   ]
  },
  {
   "cell_type": "code",
   "execution_count": null,
   "metadata": {},
   "outputs": [],
   "source": []
  }
 ],
 "metadata": {
  "kernelspec": {
   "display_name": "AI",
   "language": "python",
   "name": "ai"
  },
  "language_info": {
   "codemirror_mode": {
    "name": "ipython",
    "version": 3
   },
   "file_extension": ".py",
   "mimetype": "text/x-python",
   "name": "python",
   "nbconvert_exporter": "python",
   "pygments_lexer": "ipython3",
   "version": "3.6.8"
  }
 },
 "nbformat": 4,
 "nbformat_minor": 2
}
