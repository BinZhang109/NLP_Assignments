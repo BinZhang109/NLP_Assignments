{
 "cells": [
  {
   "cell_type": "markdown",
   "metadata": {},
   "source": [
    "## Assignment-07 First Step of using machine learning and models."
   ]
  },
  {
   "cell_type": "markdown",
   "metadata": {},
   "source": [
    "![](https://github.com/Computing-Intelligence/jupyters_and_slides/raw/master/entrance-test/images/kkb-ai.png)"
   ]
  },
  {
   "cell_type": "code",
   "execution_count": 1,
   "metadata": {},
   "outputs": [],
   "source": [
    "fname = 'D:\\Github_project\\data\\sqlResult_1558435.csv'"
   ]
  },
  {
   "cell_type": "code",
   "execution_count": 2,
   "metadata": {},
   "outputs": [],
   "source": [
    "import pandas as pd"
   ]
  },
  {
   "cell_type": "code",
   "execution_count": 3,
   "metadata": {},
   "outputs": [],
   "source": [
    "content = pd.read_csv(fname, encoding='gb18030')"
   ]
  },
  {
   "cell_type": "code",
   "execution_count": 4,
   "metadata": {
    "scrolled": true
   },
   "outputs": [
    {
     "data": {
      "text/html": [
       "<div>\n",
       "<style scoped>\n",
       "    .dataframe tbody tr th:only-of-type {\n",
       "        vertical-align: middle;\n",
       "    }\n",
       "\n",
       "    .dataframe tbody tr th {\n",
       "        vertical-align: top;\n",
       "    }\n",
       "\n",
       "    .dataframe thead th {\n",
       "        text-align: right;\n",
       "    }\n",
       "</style>\n",
       "<table border=\"1\" class=\"dataframe\">\n",
       "  <thead>\n",
       "    <tr style=\"text-align: right;\">\n",
       "      <th></th>\n",
       "      <th>id</th>\n",
       "      <th>author</th>\n",
       "      <th>source</th>\n",
       "      <th>content</th>\n",
       "      <th>feature</th>\n",
       "      <th>title</th>\n",
       "      <th>url</th>\n",
       "    </tr>\n",
       "  </thead>\n",
       "  <tbody>\n",
       "    <tr>\n",
       "      <th>0</th>\n",
       "      <td>89617</td>\n",
       "      <td>NaN</td>\n",
       "      <td>快科技@http://www.kkj.cn/</td>\n",
       "      <td>此外，自本周（6月12日）起，除小米手机6等15款机型外，其余机型已暂停更新发布（含开发版/...</td>\n",
       "      <td>{\"type\":\"科技\",\"site\":\"cnbeta\",\"commentNum\":\"37\"...</td>\n",
       "      <td>小米MIUI 9首批机型曝光：共计15款</td>\n",
       "      <td>http://www.cnbeta.com/articles/tech/623597.htm</td>\n",
       "    </tr>\n",
       "    <tr>\n",
       "      <th>1</th>\n",
       "      <td>89616</td>\n",
       "      <td>NaN</td>\n",
       "      <td>快科技@http://www.kkj.cn/</td>\n",
       "      <td>骁龙835作为唯一通过Windows 10桌面平台认证的ARM处理器，高通强调，不会因为只考...</td>\n",
       "      <td>{\"type\":\"科技\",\"site\":\"cnbeta\",\"commentNum\":\"15\"...</td>\n",
       "      <td>骁龙835在Windows 10上的性能表现有望改善</td>\n",
       "      <td>http://www.cnbeta.com/articles/tech/623599.htm</td>\n",
       "    </tr>\n",
       "    <tr>\n",
       "      <th>2</th>\n",
       "      <td>89615</td>\n",
       "      <td>NaN</td>\n",
       "      <td>快科技@http://www.kkj.cn/</td>\n",
       "      <td>此前的一加3T搭载的是3400mAh电池，DashCharge快充规格为5V/4A。\\r\\n...</td>\n",
       "      <td>{\"type\":\"科技\",\"site\":\"cnbeta\",\"commentNum\":\"18\"...</td>\n",
       "      <td>一加手机5细节曝光：3300mAh、充半小时用1天</td>\n",
       "      <td>http://www.cnbeta.com/articles/tech/623601.htm</td>\n",
       "    </tr>\n",
       "    <tr>\n",
       "      <th>3</th>\n",
       "      <td>89614</td>\n",
       "      <td>NaN</td>\n",
       "      <td>新华社</td>\n",
       "      <td>这是6月18日在葡萄牙中部大佩德罗冈地区拍摄的被森林大火烧毁的汽车。新华社记者张立云摄\\r\\n</td>\n",
       "      <td>{\"type\":\"国际新闻\",\"site\":\"环球\",\"commentNum\":\"0\",\"j...</td>\n",
       "      <td>葡森林火灾造成至少62人死亡 政府宣布进入紧急状态（组图）</td>\n",
       "      <td>http://world.huanqiu.com/hot/2017-06/10866126....</td>\n",
       "    </tr>\n",
       "    <tr>\n",
       "      <th>4</th>\n",
       "      <td>89613</td>\n",
       "      <td>胡淑丽_MN7479</td>\n",
       "      <td>深圳大件事</td>\n",
       "      <td>（原标题：44岁女子跑深圳约会网友被拒，暴雨中裸身奔走……）\\r\\n@深圳交警微博称：昨日清...</td>\n",
       "      <td>{\"type\":\"新闻\",\"site\":\"网易热门\",\"commentNum\":\"978\",...</td>\n",
       "      <td>44岁女子约网友被拒暴雨中裸奔 交警为其披衣相随</td>\n",
       "      <td>http://news.163.com/17/0618/00/CN617P3Q0001875...</td>\n",
       "    </tr>\n",
       "  </tbody>\n",
       "</table>\n",
       "</div>"
      ],
      "text/plain": [
       "      id      author                  source  \\\n",
       "0  89617         NaN  快科技@http://www.kkj.cn/   \n",
       "1  89616         NaN  快科技@http://www.kkj.cn/   \n",
       "2  89615         NaN  快科技@http://www.kkj.cn/   \n",
       "3  89614         NaN                     新华社   \n",
       "4  89613  胡淑丽_MN7479                   深圳大件事   \n",
       "\n",
       "                                             content  \\\n",
       "0  此外，自本周（6月12日）起，除小米手机6等15款机型外，其余机型已暂停更新发布（含开发版/...   \n",
       "1  骁龙835作为唯一通过Windows 10桌面平台认证的ARM处理器，高通强调，不会因为只考...   \n",
       "2  此前的一加3T搭载的是3400mAh电池，DashCharge快充规格为5V/4A。\\r\\n...   \n",
       "3    这是6月18日在葡萄牙中部大佩德罗冈地区拍摄的被森林大火烧毁的汽车。新华社记者张立云摄\\r\\n   \n",
       "4  （原标题：44岁女子跑深圳约会网友被拒，暴雨中裸身奔走……）\\r\\n@深圳交警微博称：昨日清...   \n",
       "\n",
       "                                             feature  \\\n",
       "0  {\"type\":\"科技\",\"site\":\"cnbeta\",\"commentNum\":\"37\"...   \n",
       "1  {\"type\":\"科技\",\"site\":\"cnbeta\",\"commentNum\":\"15\"...   \n",
       "2  {\"type\":\"科技\",\"site\":\"cnbeta\",\"commentNum\":\"18\"...   \n",
       "3  {\"type\":\"国际新闻\",\"site\":\"环球\",\"commentNum\":\"0\",\"j...   \n",
       "4  {\"type\":\"新闻\",\"site\":\"网易热门\",\"commentNum\":\"978\",...   \n",
       "\n",
       "                           title  \\\n",
       "0           小米MIUI 9首批机型曝光：共计15款   \n",
       "1     骁龙835在Windows 10上的性能表现有望改善   \n",
       "2      一加手机5细节曝光：3300mAh、充半小时用1天   \n",
       "3  葡森林火灾造成至少62人死亡 政府宣布进入紧急状态（组图）   \n",
       "4       44岁女子约网友被拒暴雨中裸奔 交警为其披衣相随   \n",
       "\n",
       "                                                 url  \n",
       "0     http://www.cnbeta.com/articles/tech/623597.htm  \n",
       "1     http://www.cnbeta.com/articles/tech/623599.htm  \n",
       "2     http://www.cnbeta.com/articles/tech/623601.htm  \n",
       "3  http://world.huanqiu.com/hot/2017-06/10866126....  \n",
       "4  http://news.163.com/17/0618/00/CN617P3Q0001875...  "
      ]
     },
     "execution_count": 4,
     "metadata": {},
     "output_type": "execute_result"
    }
   ],
   "source": [
    "content.head()"
   ]
  },
  {
   "cell_type": "code",
   "execution_count": 5,
   "metadata": {},
   "outputs": [],
   "source": [
    "xinhua_news = content[content['source'] == '新华社']"
   ]
  },
  {
   "cell_type": "code",
   "execution_count": 6,
   "metadata": {},
   "outputs": [
    {
     "data": {
      "text/plain": [
       "0.8778051801676133"
      ]
     },
     "execution_count": 6,
     "metadata": {},
     "output_type": "execute_result"
    }
   ],
   "source": [
    "len(xinhua_news) / len(content)"
   ]
  },
  {
   "cell_type": "markdown",
   "metadata": {},
   "source": [
    "### 任务描述"
   ]
  },
  {
   "cell_type": "markdown",
   "metadata": {},
   "source": [
    "报社等相关的机构，往往会遇到一个问题，就是别人家的机构使用自己的文章但是并没有标明来源。 在本次任务中，我们将解决新华社的文章被抄袭引用的问题。"
   ]
  },
  {
   "cell_type": "markdown",
   "metadata": {},
   "source": [
    "给定的数据集合中，存在一些新闻预料，该预料是来自新华社，但是其来源并不是新华社，请设计技巧学习模型解决该问题。"
   ]
  },
  {
   "cell_type": "markdown",
   "metadata": {},
   "source": [
    "![](https://timgsa.baidu.com/timg?image&quality=80&size=b9999_10000&sec=1566105348906&di=ee9a2de91207767364853d4decc6cca3&imgtype=0&src=http%3A%2F%2Fmmbiz.qpic.cn%2Fmmbiz_png%2FTicO2kbP6Ao5sCsSQDpehZiczLdC6hDCNvoicjcOCEKX2bLxBc9gVOw28zHyFibfIWq9ceRibP6HDTKReGkr6YyTfQQ%2F640%3Fwx_fmt%3Dpng)"
   ]
  },
  {
   "cell_type": "markdown",
   "metadata": {},
   "source": [
    "### Step1: 数据分析"
   ]
  },
  {
   "cell_type": "markdown",
   "metadata": {},
   "source": [
    "请在课程的GitHub中下载数据集，然后使用pandas进行读取。"
   ]
  },
  {
   "cell_type": "code",
   "execution_count": 7,
   "metadata": {},
   "outputs": [],
   "source": [
    "# 上面已实现"
   ]
  },
  {
   "cell_type": "markdown",
   "metadata": {},
   "source": [
    "### Step2: 数据预处理"
   ]
  },
  {
   "cell_type": "markdown",
   "metadata": {},
   "source": [
    "将pandas中的数据，依据是否是新华社的文章，请改变成新的数据dataframe: <content, y>, 其中，content是文章内容，y是0或者1. 你可能要使用到pandas的dataframe操作。https://pandas.pydata.org/pandas-docs/stable/reference/api/pandas.DataFrame.apply.html"
   ]
  },
  {
   "cell_type": "code",
   "execution_count": 8,
   "metadata": {},
   "outputs": [],
   "source": [
    "# it's your time\n",
    "df = pd.DataFrame(content, columns=['content', 'source'])"
   ]
  },
  {
   "cell_type": "code",
   "execution_count": 9,
   "metadata": {
    "scrolled": true
   },
   "outputs": [
    {
     "data": {
      "text/html": [
       "<div>\n",
       "<style scoped>\n",
       "    .dataframe tbody tr th:only-of-type {\n",
       "        vertical-align: middle;\n",
       "    }\n",
       "\n",
       "    .dataframe tbody tr th {\n",
       "        vertical-align: top;\n",
       "    }\n",
       "\n",
       "    .dataframe thead th {\n",
       "        text-align: right;\n",
       "    }\n",
       "</style>\n",
       "<table border=\"1\" class=\"dataframe\">\n",
       "  <thead>\n",
       "    <tr style=\"text-align: right;\">\n",
       "      <th></th>\n",
       "      <th>content</th>\n",
       "      <th>source</th>\n",
       "    </tr>\n",
       "  </thead>\n",
       "  <tbody>\n",
       "    <tr>\n",
       "      <th>0</th>\n",
       "      <td>此外，自本周（6月12日）起，除小米手机6等15款机型外，其余机型已暂停更新发布（含开发版/...</td>\n",
       "      <td>快科技@http://www.kkj.cn/</td>\n",
       "    </tr>\n",
       "    <tr>\n",
       "      <th>1</th>\n",
       "      <td>骁龙835作为唯一通过Windows 10桌面平台认证的ARM处理器，高通强调，不会因为只考...</td>\n",
       "      <td>快科技@http://www.kkj.cn/</td>\n",
       "    </tr>\n",
       "    <tr>\n",
       "      <th>2</th>\n",
       "      <td>此前的一加3T搭载的是3400mAh电池，DashCharge快充规格为5V/4A。\\r\\n...</td>\n",
       "      <td>快科技@http://www.kkj.cn/</td>\n",
       "    </tr>\n",
       "    <tr>\n",
       "      <th>3</th>\n",
       "      <td>这是6月18日在葡萄牙中部大佩德罗冈地区拍摄的被森林大火烧毁的汽车。新华社记者张立云摄\\r\\n</td>\n",
       "      <td>新华社</td>\n",
       "    </tr>\n",
       "    <tr>\n",
       "      <th>4</th>\n",
       "      <td>（原标题：44岁女子跑深圳约会网友被拒，暴雨中裸身奔走……）\\r\\n@深圳交警微博称：昨日清...</td>\n",
       "      <td>深圳大件事</td>\n",
       "    </tr>\n",
       "  </tbody>\n",
       "</table>\n",
       "</div>"
      ],
      "text/plain": [
       "                                             content                  source\n",
       "0  此外，自本周（6月12日）起，除小米手机6等15款机型外，其余机型已暂停更新发布（含开发版/...  快科技@http://www.kkj.cn/\n",
       "1  骁龙835作为唯一通过Windows 10桌面平台认证的ARM处理器，高通强调，不会因为只考...  快科技@http://www.kkj.cn/\n",
       "2  此前的一加3T搭载的是3400mAh电池，DashCharge快充规格为5V/4A。\\r\\n...  快科技@http://www.kkj.cn/\n",
       "3    这是6月18日在葡萄牙中部大佩德罗冈地区拍摄的被森林大火烧毁的汽车。新华社记者张立云摄\\r\\n                     新华社\n",
       "4  （原标题：44岁女子跑深圳约会网友被拒，暴雨中裸身奔走……）\\r\\n@深圳交警微博称：昨日清...                   深圳大件事"
      ]
     },
     "execution_count": 9,
     "metadata": {},
     "output_type": "execute_result"
    }
   ],
   "source": [
    "df.head()"
   ]
  },
  {
   "cell_type": "code",
   "execution_count": 10,
   "metadata": {},
   "outputs": [
    {
     "name": "stdout",
     "output_type": "stream",
     "text": [
      "<class 'pandas.core.frame.DataFrame'>\n",
      "RangeIndex: 89611 entries, 0 to 89610\n",
      "Data columns (total 2 columns):\n",
      "content    87054 non-null object\n",
      "source     89609 non-null object\n",
      "dtypes: object(2)\n",
      "memory usage: 1.4+ MB\n"
     ]
    }
   ],
   "source": [
    "df.info()"
   ]
  },
  {
   "cell_type": "code",
   "execution_count": 11,
   "metadata": {},
   "outputs": [],
   "source": [
    "df = df.dropna()"
   ]
  },
  {
   "cell_type": "code",
   "execution_count": 12,
   "metadata": {},
   "outputs": [
    {
     "name": "stdout",
     "output_type": "stream",
     "text": [
      "<class 'pandas.core.frame.DataFrame'>\n",
      "Int64Index: 87052 entries, 0 to 89610\n",
      "Data columns (total 2 columns):\n",
      "content    87052 non-null object\n",
      "source     87052 non-null object\n",
      "dtypes: object(2)\n",
      "memory usage: 2.0+ MB\n"
     ]
    }
   ],
   "source": [
    "df.info()"
   ]
  },
  {
   "cell_type": "code",
   "execution_count": 13,
   "metadata": {},
   "outputs": [],
   "source": [
    "df.source[df['source'] != '新华社'] = 0\n",
    "df.source[df['source'] == '新华社'] = 1"
   ]
  },
  {
   "cell_type": "code",
   "execution_count": 14,
   "metadata": {
    "scrolled": true
   },
   "outputs": [
    {
     "data": {
      "text/plain": [
       "1    78661\n",
       "0     8391\n",
       "Name: source, dtype: int64"
      ]
     },
     "execution_count": 14,
     "metadata": {},
     "output_type": "execute_result"
    }
   ],
   "source": [
    "df['source'].value_counts()"
   ]
  },
  {
   "cell_type": "code",
   "execution_count": 15,
   "metadata": {
    "scrolled": true
   },
   "outputs": [],
   "source": [
    "df.rename(columns={'source':'y'}, inplace=True) "
   ]
  },
  {
   "cell_type": "code",
   "execution_count": 16,
   "metadata": {},
   "outputs": [
    {
     "data": {
      "text/html": [
       "<div>\n",
       "<style scoped>\n",
       "    .dataframe tbody tr th:only-of-type {\n",
       "        vertical-align: middle;\n",
       "    }\n",
       "\n",
       "    .dataframe tbody tr th {\n",
       "        vertical-align: top;\n",
       "    }\n",
       "\n",
       "    .dataframe thead th {\n",
       "        text-align: right;\n",
       "    }\n",
       "</style>\n",
       "<table border=\"1\" class=\"dataframe\">\n",
       "  <thead>\n",
       "    <tr style=\"text-align: right;\">\n",
       "      <th></th>\n",
       "      <th>content</th>\n",
       "      <th>y</th>\n",
       "    </tr>\n",
       "  </thead>\n",
       "  <tbody>\n",
       "    <tr>\n",
       "      <th>0</th>\n",
       "      <td>此外，自本周（6月12日）起，除小米手机6等15款机型外，其余机型已暂停更新发布（含开发版/...</td>\n",
       "      <td>0</td>\n",
       "    </tr>\n",
       "    <tr>\n",
       "      <th>1</th>\n",
       "      <td>骁龙835作为唯一通过Windows 10桌面平台认证的ARM处理器，高通强调，不会因为只考...</td>\n",
       "      <td>0</td>\n",
       "    </tr>\n",
       "    <tr>\n",
       "      <th>2</th>\n",
       "      <td>此前的一加3T搭载的是3400mAh电池，DashCharge快充规格为5V/4A。\\r\\n...</td>\n",
       "      <td>0</td>\n",
       "    </tr>\n",
       "    <tr>\n",
       "      <th>3</th>\n",
       "      <td>这是6月18日在葡萄牙中部大佩德罗冈地区拍摄的被森林大火烧毁的汽车。新华社记者张立云摄\\r\\n</td>\n",
       "      <td>1</td>\n",
       "    </tr>\n",
       "    <tr>\n",
       "      <th>4</th>\n",
       "      <td>（原标题：44岁女子跑深圳约会网友被拒，暴雨中裸身奔走……）\\r\\n@深圳交警微博称：昨日清...</td>\n",
       "      <td>0</td>\n",
       "    </tr>\n",
       "  </tbody>\n",
       "</table>\n",
       "</div>"
      ],
      "text/plain": [
       "                                             content  y\n",
       "0  此外，自本周（6月12日）起，除小米手机6等15款机型外，其余机型已暂停更新发布（含开发版/...  0\n",
       "1  骁龙835作为唯一通过Windows 10桌面平台认证的ARM处理器，高通强调，不会因为只考...  0\n",
       "2  此前的一加3T搭载的是3400mAh电池，DashCharge快充规格为5V/4A。\\r\\n...  0\n",
       "3    这是6月18日在葡萄牙中部大佩德罗冈地区拍摄的被森林大火烧毁的汽车。新华社记者张立云摄\\r\\n  1\n",
       "4  （原标题：44岁女子跑深圳约会网友被拒，暴雨中裸身奔走……）\\r\\n@深圳交警微博称：昨日清...  0"
      ]
     },
     "execution_count": 16,
     "metadata": {},
     "output_type": "execute_result"
    }
   ],
   "source": [
    "df.head()"
   ]
  },
  {
   "cell_type": "markdown",
   "metadata": {},
   "source": [
    "### Step3: 使用tfidf进行文本向量化"
   ]
  },
  {
   "cell_type": "markdown",
   "metadata": {},
   "source": [
    "参考 https://scikit-learn.org/stable/modules/generated/sklearn.feature_extraction.text.TfidfVectorizer.html 对"
   ]
  },
  {
   "cell_type": "markdown",
   "metadata": {},
   "source": [
    "对文本进行向量化"
   ]
  },
  {
   "cell_type": "code",
   "execution_count": 17,
   "metadata": {},
   "outputs": [],
   "source": [
    "import re\n",
    "def token(string): return re.findall(r'[\\w]+', string)"
   ]
  },
  {
   "cell_type": "code",
   "execution_count": 18,
   "metadata": {},
   "outputs": [],
   "source": [
    "import jieba\n",
    "def cut(string): return ' '.join(jieba.cut(string))"
   ]
  },
  {
   "cell_type": "code",
   "execution_count": 19,
   "metadata": {
    "scrolled": true
   },
   "outputs": [
    {
     "name": "stderr",
     "output_type": "stream",
     "text": [
      "Building prefix dict from the default dictionary ...\n",
      "Loading model from cache C:\\Users\\RYANWU~1\\AppData\\Local\\Temp\\jieba.cache\n",
      "Loading model cost 0.778 seconds.\n",
      "Prefix dict has been built succesfully.\n"
     ]
    }
   ],
   "source": [
    "corpus = [cut(''.join(token(content))) for content in df['content']]"
   ]
  },
  {
   "cell_type": "code",
   "execution_count": null,
   "metadata": {},
   "outputs": [],
   "source": [
    "from sklearn.feature_extraction.text import TfidfVectorizer\n",
    "vectorizer = TfidfVectorizer(max_features=200)\n",
    "X = vectorizer.fit_transform(corpus)"
   ]
  },
  {
   "cell_type": "code",
   "execution_count": null,
   "metadata": {},
   "outputs": [],
   "source": [
    "X.shape"
   ]
  },
  {
   "cell_type": "code",
   "execution_count": 23,
   "metadata": {},
   "outputs": [],
   "source": [
    "y = df['y']"
   ]
  },
  {
   "cell_type": "code",
   "execution_count": 24,
   "metadata": {},
   "outputs": [
    {
     "data": {
      "text/plain": [
       "(87052,)"
      ]
     },
     "execution_count": 24,
     "metadata": {},
     "output_type": "execute_result"
    }
   ],
   "source": [
    "y.shape"
   ]
  },
  {
   "cell_type": "markdown",
   "metadata": {},
   "source": [
    "### Step4: 参考scikit-learning的方法，构建你的第一个机器学习模型"
   ]
  },
  {
   "cell_type": "markdown",
   "metadata": {},
   "source": [
    "+ 按照课程讲解的内容，把数据集分割为 traning_data, validation_data, test_data. https://scikit-learn.org/stable/modules/generated/sklearn.model_selection.train_test_split.html"
   ]
  },
  {
   "cell_type": "code",
   "execution_count": 27,
   "metadata": {},
   "outputs": [
    {
     "ename": "NameError",
     "evalue": "name 'X' is not defined",
     "output_type": "error",
     "traceback": [
      "\u001b[1;31m---------------------------------------------------------------------------\u001b[0m",
      "\u001b[1;31mNameError\u001b[0m                                 Traceback (most recent call last)",
      "\u001b[1;32m<ipython-input-27-c6518bc36238>\u001b[0m in \u001b[0;36m<module>\u001b[1;34m\u001b[0m\n\u001b[0;32m      1\u001b[0m \u001b[1;32mfrom\u001b[0m \u001b[0msklearn\u001b[0m\u001b[1;33m.\u001b[0m\u001b[0mmodel_selection\u001b[0m \u001b[1;32mimport\u001b[0m \u001b[0mtrain_test_split\u001b[0m\u001b[1;33m\u001b[0m\u001b[1;33m\u001b[0m\u001b[0m\n\u001b[1;32m----> 2\u001b[1;33m \u001b[0mX_train\u001b[0m\u001b[1;33m,\u001b[0m \u001b[0mX_test\u001b[0m\u001b[1;33m,\u001b[0m \u001b[0my_train\u001b[0m\u001b[1;33m,\u001b[0m \u001b[0my_test\u001b[0m \u001b[1;33m=\u001b[0m \u001b[0mtrain_test_split\u001b[0m\u001b[1;33m(\u001b[0m\u001b[0mX\u001b[0m\u001b[1;33m,\u001b[0m \u001b[0my\u001b[0m\u001b[1;33m,\u001b[0m \u001b[0mtest_size\u001b[0m\u001b[1;33m=\u001b[0m\u001b[1;36m0.2\u001b[0m\u001b[1;33m,\u001b[0m \u001b[0mrandom_state\u001b[0m\u001b[1;33m=\u001b[0m\u001b[1;36m42\u001b[0m\u001b[1;33m)\u001b[0m\u001b[1;33m\u001b[0m\u001b[1;33m\u001b[0m\u001b[0m\n\u001b[0m",
      "\u001b[1;31mNameError\u001b[0m: name 'X' is not defined"
     ]
    }
   ],
   "source": [
    "from sklearn.model_selection import train_test_split\n",
    "X_train, X_test, y_train, y_test = train_test_split(X, y, test_size=0.2, random_state=42)"
   ]
  },
  {
   "cell_type": "code",
   "execution_count": 28,
   "metadata": {},
   "outputs": [
    {
     "data": {
      "text/plain": [
       "(69641, 1000)"
      ]
     },
     "execution_count": 28,
     "metadata": {},
     "output_type": "execute_result"
    }
   ],
   "source": [
    "X_train.shape"
   ]
  },
  {
   "cell_type": "code",
   "execution_count": 29,
   "metadata": {},
   "outputs": [
    {
     "data": {
      "text/plain": [
       "scipy.sparse.csr.csr_matrix"
      ]
     },
     "execution_count": 29,
     "metadata": {},
     "output_type": "execute_result"
    }
   ],
   "source": [
    "type(X_train)"
   ]
  },
  {
   "cell_type": "code",
   "execution_count": 30,
   "metadata": {
    "scrolled": true
   },
   "outputs": [
    {
     "data": {
      "text/plain": [
       "(69641,)"
      ]
     },
     "execution_count": 30,
     "metadata": {},
     "output_type": "execute_result"
    }
   ],
   "source": [
    "y_train.shape"
   ]
  },
  {
   "cell_type": "code",
   "execution_count": 31,
   "metadata": {},
   "outputs": [],
   "source": [
    "import numpy as np\n",
    "X_tr_arr = X_train.toarray()\n",
    "X_ts_arr = X_test.toarray()\n",
    "y_tr_arr = np.array(y_train, dtype='int')\n",
    "y_ts_arr = np.array(y_test, dtype='int')"
   ]
  },
  {
   "cell_type": "code",
   "execution_count": 32,
   "metadata": {},
   "outputs": [
    {
     "data": {
      "text/plain": [
       "numpy.ndarray"
      ]
     },
     "execution_count": 32,
     "metadata": {},
     "output_type": "execute_result"
    }
   ],
   "source": [
    "type(X_tr_arr)"
   ]
  },
  {
   "cell_type": "code",
   "execution_count": 90,
   "metadata": {
    "scrolled": true
   },
   "outputs": [
    {
     "data": {
      "text/plain": [
       "numpy.ndarray"
      ]
     },
     "execution_count": 90,
     "metadata": {},
     "output_type": "execute_result"
    }
   ],
   "source": [
    "type(y_tr_arr)"
   ]
  },
  {
   "cell_type": "code",
   "execution_count": 91,
   "metadata": {
    "scrolled": true
   },
   "outputs": [
    {
     "data": {
      "text/plain": [
       "dtype('float64')"
      ]
     },
     "execution_count": 91,
     "metadata": {},
     "output_type": "execute_result"
    }
   ],
   "source": [
    "X_tr_arr.dtype"
   ]
  },
  {
   "cell_type": "code",
   "execution_count": 92,
   "metadata": {},
   "outputs": [
    {
     "data": {
      "text/plain": [
       "(69641, 200)"
      ]
     },
     "execution_count": 92,
     "metadata": {},
     "output_type": "execute_result"
    }
   ],
   "source": [
    "X_tr_arr.shape"
   ]
  },
  {
   "cell_type": "code",
   "execution_count": 93,
   "metadata": {
    "scrolled": true
   },
   "outputs": [
    {
     "data": {
      "text/plain": [
       "array([0, 1, 1, ..., 1, 0, 1])"
      ]
     },
     "execution_count": 93,
     "metadata": {},
     "output_type": "execute_result"
    }
   ],
   "source": [
    "y_tr_arr"
   ]
  },
  {
   "cell_type": "code",
   "execution_count": 94,
   "metadata": {},
   "outputs": [
    {
     "data": {
      "text/plain": [
       "(69641,)"
      ]
     },
     "execution_count": 94,
     "metadata": {},
     "output_type": "execute_result"
    }
   ],
   "source": [
    "y_tr_arr.shape"
   ]
  },
  {
   "cell_type": "markdown",
   "metadata": {},
   "source": [
    "+ 参照scikit learning的示例，从构建你的第一个KNN机器学习模型。"
   ]
  },
  {
   "cell_type": "code",
   "execution_count": 95,
   "metadata": {},
   "outputs": [],
   "source": [
    "from sklearn.neighbors import KNeighborsClassifier"
   ]
  },
  {
   "cell_type": "code",
   "execution_count": 96,
   "metadata": {},
   "outputs": [
    {
     "data": {
      "text/plain": [
       "KNeighborsClassifier(algorithm='auto', leaf_size=30, metric='minkowski',\n",
       "                     metric_params=None, n_jobs=None, n_neighbors=5, p=2,\n",
       "                     weights='uniform')"
      ]
     },
     "execution_count": 96,
     "metadata": {},
     "output_type": "execute_result"
    }
   ],
   "source": [
    "knn = KNeighborsClassifier()\n",
    "knn.fit(X_tr_arr, y_tr_arr)"
   ]
  },
  {
   "cell_type": "code",
   "execution_count": 97,
   "metadata": {},
   "outputs": [
    {
     "data": {
      "text/plain": [
       "0.9512069039789779"
      ]
     },
     "execution_count": 97,
     "metadata": {},
     "output_type": "execute_result"
    }
   ],
   "source": [
    "knn.score(X_tr_arr, y_tr_arr)"
   ]
  },
  {
   "cell_type": "code",
   "execution_count": 98,
   "metadata": {},
   "outputs": [],
   "source": [
    "test = vectorizer.transform([cut(''.join(token('这是6月18日在葡萄牙中部大佩德罗冈地区拍摄的被森林大火烧毁的汽车')))]).toarray()"
   ]
  },
  {
   "cell_type": "code",
   "execution_count": 99,
   "metadata": {},
   "outputs": [
    {
     "data": {
      "text/plain": [
       "array([1])"
      ]
     },
     "execution_count": 99,
     "metadata": {},
     "output_type": "execute_result"
    }
   ],
   "source": [
    "knn.predict(test)"
   ]
  },
  {
   "cell_type": "code",
   "execution_count": 101,
   "metadata": {},
   "outputs": [
    {
     "data": {
      "text/plain": [
       "0.930101659870197"
      ]
     },
     "execution_count": 101,
     "metadata": {},
     "output_type": "execute_result"
    }
   ],
   "source": [
    "knn.score(X_ts_arr, y_ts_arr)"
   ]
  },
  {
   "cell_type": "markdown",
   "metadata": {},
   "source": [
    "### Step5: 在traning_data, validation_data, test_data 上观察其相关metric: recall, precision, f1等， 并解释其含义. "
   ]
  },
  {
   "cell_type": "markdown",
   "metadata": {},
   "source": [
    "#### Precision又叫查准率，Recall又叫查全率。这两个指标共同衡量才能评价模型输出结果。\n",
    "\n",
    "- TP: 预测为1(Positive)，实际也为1(Truth-预测对了)\n",
    "- TN: 预测为0(Negative)，实际也为0(Truth-预测对了)\n",
    "- FP: 预测为1(Positive)，实际为0(False-预测错了)\n",
    "- FN: 预测为0(Negative)，实际为1(False-预测错了)\n",
    "- 总的样本个数为：TP+TN+FP+FN。"
   ]
  },
  {
   "cell_type": "markdown",
   "metadata": {},
   "source": [
    "#### Accuracy/Precision/Recall的定义\n",
    "- Accuracy = (预测正确的样本数)/(总样本数)=(TP+TN)/(TP+TN+FP+FN)\n",
    "\n",
    "- Precision = (预测为1且正确预测的样本数)/(所有预测为1的样本数) = TP/(TP+FP)\n",
    "\n",
    "- Recall = (预测为1且正确预测的样本数)/(所有真实情况为1的样本数) = TP/(TP+FN)"
   ]
  },
  {
   "cell_type": "markdown",
   "metadata": {},
   "source": [
    "#### 但由于Precision/Recall是两个值，无法根据两个值来对比模型的好坏。有没有一个值能综合Precision/Recall呢？有，它就是F1。\n",
    "\n",
    "- F1 = 2 * (Precision * Recall) / (Precision + Recall)"
   ]
  },
  {
   "cell_type": "code",
   "execution_count": 20,
   "metadata": {},
   "outputs": [],
   "source": [
    "def get_F1(y_predicts, y_facts):\n",
    "    tp = tn = fp = fn = 0\n",
    "    for (y_predict, y_fact) in zip(y_predicts, y_facts):\n",
    "        if y_predict == 1 and y_fact == 1:\n",
    "            tp += 1\n",
    "        if y_predict == 0 and y_fact == 0:\n",
    "            tn += 1\n",
    "        if y_predict == 1 and y_fact == 0:\n",
    "            fp += 1\n",
    "        if y_predict == 0 and y_fact == 1:\n",
    "            fn += 1\n",
    "    accuracy = (tp + tn) / (tp + tn + fp + fn)\n",
    "    precision = tp / (tp + fp)\n",
    "    recall = tp / (tp + fn)\n",
    "    f1 = 2 * (precision * recall) / (precision + recall) \n",
    "    print('accuracy: %s' % str(accuracy))\n",
    "    print('precision: %s' % str(precision))\n",
    "    print('recall: %s' % str(recall))\n",
    "    print('f1: %s' % str(f1))\n",
    "    return (accuracy, precision, recall, f1)"
   ]
  },
  {
   "cell_type": "markdown",
   "metadata": {},
   "source": [
    "### Step6: 使用 test_data 对其进行新数据的判断"
   ]
  },
  {
   "cell_type": "code",
   "execution_count": 104,
   "metadata": {},
   "outputs": [],
   "source": [
    "y_predicts_train = knn.predict(X_tr_arr)"
   ]
  },
  {
   "cell_type": "code",
   "execution_count": 142,
   "metadata": {},
   "outputs": [
    {
     "name": "stdout",
     "output_type": "stream",
     "text": [
      "accuracy: 0.9512069039789779\n",
      "precision: 0.9644992584497697\n",
      "recall: 0.9821317860265479\n",
      "f1: 0.9732356647763074\n"
     ]
    }
   ],
   "source": [
    "get_F1(y_predicts_train, y_tr_arr)"
   ]
  },
  {
   "cell_type": "code",
   "execution_count": 124,
   "metadata": {
    "scrolled": true
   },
   "outputs": [
    {
     "name": "stdout",
     "output_type": "stream",
     "text": [
      "accuracy: 0.930101659870197\n",
      "precision: 0.9516058892961421\n",
      "recall: 0.9722010662604722\n",
      "f1: 0.9617932376856183\n"
     ]
    }
   ],
   "source": [
    "y_predicts_test = knn.predict(X_ts_arr)\n",
    "get_F1(y_predicts_test, y_ts_arr)"
   ]
  },
  {
   "cell_type": "code",
   "execution_count": 127,
   "metadata": {},
   "outputs": [
    {
     "name": "stdout",
     "output_type": "stream",
     "text": [
      "              precision    recall  f1-score   support\n",
      "\n",
      "           0       0.67      0.53      0.59      1655\n",
      "           1       0.95      0.97      0.96     15756\n",
      "\n",
      "    accuracy                           0.93     17411\n",
      "   macro avg       0.81      0.75      0.78     17411\n",
      "weighted avg       0.92      0.93      0.93     17411\n",
      "\n"
     ]
    }
   ],
   "source": [
    "from sklearn.metrics import classification_report\n",
    "print(classification_report(y_ts_arr, y_predicts_test))"
   ]
  },
  {
   "cell_type": "markdown",
   "metadata": {},
   "source": [
    "### Step7: 调整不同的参数，观察变化"
   ]
  },
  {
   "cell_type": "code",
   "execution_count": 147,
   "metadata": {},
   "outputs": [],
   "source": [
    "vectorizer = TfidfVectorizer(max_features=5)\n",
    "X = vectorizer.fit_transform(corpus)\n",
    "X_train, X_test, y_train, y_test = train_test_split(X, y, test_size=0.2, random_state=42)"
   ]
  },
  {
   "cell_type": "code",
   "execution_count": 148,
   "metadata": {},
   "outputs": [],
   "source": [
    "X_tr_arr = X_train.toarray()\n",
    "X_ts_arr = X_test.toarray()\n",
    "y_tr_arr = np.array(y_train, dtype='int')\n",
    "y_ts_arr = np.array(y_test, dtype='int')"
   ]
  },
  {
   "cell_type": "code",
   "execution_count": 149,
   "metadata": {
    "scrolled": true
   },
   "outputs": [
    {
     "data": {
      "text/plain": [
       "KNeighborsClassifier(algorithm='auto', leaf_size=30, metric='minkowski',\n",
       "                     metric_params=None, n_jobs=None, n_neighbors=5, p=2,\n",
       "                     weights='uniform')"
      ]
     },
     "execution_count": 149,
     "metadata": {},
     "output_type": "execute_result"
    }
   ],
   "source": [
    "knn = KNeighborsClassifier()\n",
    "knn.fit(X_tr_arr, y_tr_arr)"
   ]
  },
  {
   "cell_type": "code",
   "execution_count": 154,
   "metadata": {
    "scrolled": false
   },
   "outputs": [],
   "source": [
    "y_tr_pred = knn.predict(X_tr_arr)"
   ]
  },
  {
   "cell_type": "code",
   "execution_count": 156,
   "metadata": {
    "scrolled": false
   },
   "outputs": [
    {
     "name": "stdout",
     "output_type": "stream",
     "text": [
      "accuracy: 0.9632113266610186\n",
      "precision: 0.9872264836495761\n",
      "recall: 0.9718464351005485\n",
      "f1: 0.9794760874789714\n"
     ]
    }
   ],
   "source": [
    "train_accuracy, train_precision, train_recall, train_f1 = get_F1(y_tr_pred, y_tr_arr)"
   ]
  },
  {
   "cell_type": "code",
   "execution_count": 157,
   "metadata": {},
   "outputs": [
    {
     "data": {
      "text/plain": [
       "0.9632113266610186"
      ]
     },
     "execution_count": 157,
     "metadata": {},
     "output_type": "execute_result"
    }
   ],
   "source": [
    "train_accuracy"
   ]
  },
  {
   "cell_type": "code",
   "execution_count": 187,
   "metadata": {},
   "outputs": [],
   "source": [
    "def get_score_from_varying_parameters(max_features=200, n_neighbors=5, weights='uniform', p=2):\n",
    "    vectorizer = TfidfVectorizer(max_features=max_features)\n",
    "    X = vectorizer.fit_transform(corpus)\n",
    "    X_train, X_test, y_train, y_test = train_test_split(X, y, test_size=0.2, random_state=42)\n",
    "    \n",
    "    X_tr_arr = X_train.toarray()\n",
    "    X_ts_arr = X_test.toarray()\n",
    "    y_tr_arr = np.array(y_train, dtype='int')\n",
    "    y_ts_arr = np.array(y_test, dtype='int')\n",
    "    \n",
    "    knn = KNeighborsClassifier(n_jobs=-1, n_neighbors=n_neighbors, weights=weights, p=p)\n",
    "    knn.fit(X_tr_arr, y_tr_arr)\n",
    "    \n",
    "    y_tr_pred = knn.predict(X_tr_arr)\n",
    "    train_accuracy, train_precision, train_recall, train_f1 = get_F1(y_tr_pred, y_tr_arr)\n",
    "    y_ts_pred = knn.predict(X_ts_arr)\n",
    "    test_accuracy, test_precision, test_recall, test_f1 = get_F1(y_ts_pred, y_ts_arr)\n",
    "    \n",
    "    print('max_features=%s, n_neighbors=%s, weights=%s, p=%s执行完成' % (str(max_features), str(n_neighbors), str(weights), str(p)))\n",
    "    \n",
    "    return train_accuracy, train_precision, train_recall, train_f1, test_accuracy, test_precision, test_recall, test_f1"
   ]
  },
  {
   "cell_type": "code",
   "execution_count": 159,
   "metadata": {},
   "outputs": [
    {
     "name": "stdout",
     "output_type": "stream",
     "text": [
      "(69641, 100) (17411, 100) (69641,) (17411,)\n",
      "accuracy: 0.9525423242055686\n",
      "precision: 0.9641021647718424\n",
      "recall: 0.9841030124791352\n",
      "f1: 0.9739999213310782\n",
      "accuracy: 0.9272873470794325\n",
      "precision: 0.948662373049294\n",
      "recall: 0.9722645341457222\n",
      "f1: 0.9603184553660984\n",
      "max_features 100 执行完成\n",
      "(69641, 200) (17411, 200) (69641,) (17411,)\n",
      "accuracy: 0.9512069039789779\n",
      "precision: 0.9644992584497697\n",
      "recall: 0.9821317860265479\n",
      "f1: 0.9732356647763074\n",
      "accuracy: 0.930101659870197\n",
      "precision: 0.9516058892961421\n",
      "recall: 0.9722010662604722\n",
      "f1: 0.9617932376856183\n",
      "max_features 200 执行完成\n",
      "(69641, 300) (17411, 300) (69641,) (17411,)\n",
      "accuracy: 0.9453913642825347\n",
      "precision: 0.9693018676152967\n",
      "recall: 0.9702726333359828\n",
      "f1: 0.9697870075393452\n",
      "accuracy: 0.916259835736029\n",
      "precision: 0.9561056526732168\n",
      "recall: 0.9511297283574511\n",
      "f1: 0.9536111994909323\n",
      "max_features 300 执行完成\n",
      "(69641, 400) (17411, 400) (69641,) (17411,)\n",
      "accuracy: 0.93518186125989\n",
      "precision: 0.9718159634124662\n",
      "recall: 0.9559653445672045\n",
      "f1: 0.9638254904474933\n",
      "accuracy: 0.9043133651140084\n",
      "precision: 0.9585394428534236\n",
      "recall: 0.9346915460776847\n",
      "f1: 0.9464652956298201\n",
      "max_features 400 执行完成\n",
      "(69641, 500) (17411, 500) (69641,) (17411,)\n",
      "accuracy: 0.9316351000129234\n",
      "precision: 0.9737785600208598\n",
      "recall: 0.9498926953342341\n",
      "f1: 0.961687334529682\n",
      "accuracy: 0.8979955200735168\n",
      "precision: 0.9609601688208916\n",
      "recall: 0.9248540238639249\n",
      "f1: 0.9425614489003882\n",
      "max_features 500 执行完成\n",
      "(69641, 600) (17411, 600) (69641,) (17411,)\n",
      "accuracy: 0.9271549805430709\n",
      "precision: 0.975811228855394\n",
      "recall: 0.9427231539623241\n",
      "f1: 0.9589818640490956\n",
      "accuracy: 0.8936878984549997\n",
      "precision: 0.9637782669601761\n",
      "recall: 0.916984006092917\n",
      "f1: 0.9397990047809542\n",
      "max_features 600 执行完成\n",
      "(69641, 700) (17411, 700) (69641,) (17411,)\n",
      "accuracy: 0.9240677187289097\n",
      "precision: 0.9767014710505849\n",
      "recall: 0.9383196884190446\n",
      "f1: 0.9571259465858049\n",
      "accuracy: 0.8895525817012233\n",
      "precision: 0.9652875882946519\n",
      "recall: 0.9107006854531607\n",
      "f1: 0.937199960811208\n",
      "max_features 700 执行完成\n",
      "(69641, 800) (17411, 800) (69641,) (17411,)\n",
      "accuracy: 0.9213394408466277\n",
      "precision: 0.977452235654068\n",
      "recall: 0.9344726174389953\n",
      "f1: 0.9554793407236437\n",
      "accuracy: 0.8851300901728792\n",
      "precision: 0.9660523106111939\n",
      "recall: 0.9048616400101549\n",
      "f1: 0.9344563151340369\n",
      "max_features 800 执行完成\n",
      "(69641, 900) (17411, 900) (69641,) (17411,)\n",
      "accuracy: 0.9185106474634195\n",
      "precision: 0.97809597005948\n",
      "recall: 0.930625546458946\n",
      "f1: 0.9537704570818771\n",
      "accuracy: 0.8795588995462639\n",
      "precision: 0.96640032780168\n",
      "recall: 0.8981340441736482\n",
      "f1: 0.9310174676798578\n",
      "max_features 900 执行完成\n"
     ]
    }
   ],
   "source": [
    "score_list = []\n",
    "for max_features in range(100, 1000, 100):\n",
    "    score_list.append(get_score_from_varying_parameters(max_features=max_features))"
   ]
  },
  {
   "cell_type": "code",
   "execution_count": 175,
   "metadata": {},
   "outputs": [
    {
     "data": {
      "image/png": "[encoded data removed]",
      "text/plain": [
       "<Figure size 720x720 with 1 Axes>"
      ]
     },
     "metadata": {
      "needs_background": "light"
     },
     "output_type": "display_data"
    }
   ],
   "source": [
    "import matplotlib.pyplot as plt\n",
    "max_features = list(range(100, 1000, 100))\n",
    "train_accuracy = np.empty(len(score_list))\n",
    "train_precision = np.empty(len(score_list))\n",
    "train_recall = np.empty(len(score_list))\n",
    "train_f1 = np.empty(len(score_list))\n",
    "\n",
    "test_accuracy = np.empty(len(score_list))\n",
    "test_precision = np.empty(len(score_list))\n",
    "test_recall = np.empty(len(score_list))\n",
    "test_f1 = np.empty(len(score_list))\n",
    " \n",
    "for i,k in enumerate(score_list):\n",
    "    train_accuracy[i] = k[0]\n",
    "    train_precision[i] = k[1]\n",
    "    train_recall[i] = k[2]\n",
    "    train_f1[i] = k[3]\n",
    "\n",
    "    test_accuracy[i] = k[4]\n",
    "    test_precision[i] = k[5]\n",
    "    test_recall[i] = k[6]\n",
    "    test_f1[i] = k[7]\n",
    " \n",
    "plt.figure(figsize=(10,10))\n",
    "plt.title('k-NN Varying max_features of TfidfVectorizer')\n",
    "\n",
    "plt.plot(max_features, train_accuracy, label='train_accuracy')\n",
    "plt.plot(max_features, train_precision, label='train_precision')\n",
    "plt.plot(max_features, train_recall, label='train_recall')\n",
    "plt.plot(max_features, train_f1, label='train_f1')\n",
    "plt.plot(max_features, test_accuracy, '--', label='test_accuracy')\n",
    "plt.plot(max_features, test_precision, '--', label='test_precision')\n",
    "plt.plot(max_features, test_recall, '--', label='test_recall')\n",
    "plt.plot(max_features, test_f1, '--', label='test_f1')\n",
    "\n",
    "plt.legend()\n",
    "plt.xlabel('Number of max_features')\n",
    "plt.ylabel('Accuracy')\n",
    "plt.show()"
   ]
  },
  {
   "cell_type": "markdown",
   "metadata": {},
   "source": [
    "根据上图，选择max_features=200"
   ]
  },
  {
   "cell_type": "code",
   "execution_count": 181,
   "metadata": {
    "scrolled": false
   },
   "outputs": [
    {
     "name": "stdout",
     "output_type": "stream",
     "text": [
      "accuracy: 0.9993107508507919\n",
      "precision: 0.9999522771741725\n",
      "recall: 0.9992846355615611\n",
      "f1: 0.999618344889002\n",
      "accuracy: 0.934409281488714\n",
      "precision: 0.9596175619574789\n",
      "recall: 0.9682660573749683\n",
      "f1: 0.9639224110696911\n",
      "max_features=200, n_neighbors=1执行完成\n",
      "accuracy: 0.9705058801568042\n",
      "precision: 0.9999671349930161\n",
      "recall: 0.9673793816071854\n",
      "f1: 0.9834033613445378\n",
      "accuracy: 0.9202228476250646\n",
      "precision: 0.9719466526509428\n",
      "recall: 0.9389438943894389\n",
      "f1: 0.9551602802078963\n",
      "max_features=200, n_neighbors=2执行完成\n",
      "accuracy: 0.9640298100257032\n",
      "precision: 0.973651191969887\n",
      "recall: 0.9868849852952866\n",
      "f1: 0.9802234239924209\n",
      "accuracy: 0.9330308425707886\n",
      "precision: 0.9543472845042352\n",
      "recall: 0.9725184056867225\n",
      "f1: 0.9633471645919779\n",
      "max_features=200, n_neighbors=3执行完成\n",
      "accuracy: 0.9545813529386424\n",
      "precision: 0.9797783488596209\n",
      "recall: 0.9697321357602734\n",
      "f1: 0.974729357248432\n",
      "accuracy: 0.9254494285221986\n",
      "precision: 0.9625079974408189\n",
      "recall: 0.9548108657019548\n",
      "f1: 0.9586439813929777\n",
      "max_features=200, n_neighbors=4执行完成\n",
      "accuracy: 0.9512069039789779\n",
      "precision: 0.9644992584497697\n",
      "recall: 0.9821317860265479\n",
      "f1: 0.9732356647763074\n",
      "accuracy: 0.930101659870197\n",
      "precision: 0.9516058892961421\n",
      "recall: 0.9722010662604722\n",
      "f1: 0.9617932376856183\n",
      "max_features=200, n_neighbors=5执行完成\n",
      "accuracy: 0.9478180956620381\n",
      "precision: 0.9705317307844974\n",
      "recall: 0.9717351561879024\n",
      "f1: 0.9711330706659889\n",
      "accuracy: 0.9254494285221986\n",
      "precision: 0.9573001012145749\n",
      "recall: 0.9604595074892105\n",
      "f1: 0.9588772018755545\n",
      "max_features=200, n_neighbors=6执行完成\n",
      "accuracy: 0.9457216294998636\n",
      "precision: 0.9597088963876406\n",
      "recall: 0.9810984818376918\n",
      "f1: 0.9702858220922556\n",
      "accuracy: 0.9279191315834817\n",
      "precision: 0.9490307797114015\n",
      "recall: 0.9725818735719726\n",
      "f1: 0.9606620067078331\n",
      "max_features=200, n_neighbors=7执行完成\n",
      "accuracy: 0.9422466650392728\n",
      "precision: 0.9644429019892414\n",
      "recall: 0.971894126063111\n",
      "f1: 0.9681541774878064\n",
      "accuracy: 0.9251622537476308\n",
      "precision: 0.9545254418516887\n",
      "recall: 0.9631886265549632\n",
      "f1: 0.9588374664350023\n",
      "max_features=200, n_neighbors=8执行完成\n"
     ]
    },
    {
     "data": {
      "image/png": "[encoded data removed]",
      "text/plain": [
       "<Figure size 720x720 with 1 Axes>"
      ]
     },
     "metadata": {
      "needs_background": "light"
     },
     "output_type": "display_data"
    }
   ],
   "source": [
    "import matplotlib.pyplot as plt \n",
    "score_list = []\n",
    "for n_neighbors in range(1,9):\n",
    "    score_list.append(get_score_from_varying_parameters(n_neighbors=n_neighbors))\n",
    "    \n",
    "n_neighbors = list(range(1,9))\n",
    "train_accuracy = np.empty(len(score_list))\n",
    "train_precision = np.empty(len(score_list))\n",
    "train_recall = np.empty(len(score_list))\n",
    "train_f1 = np.empty(len(score_list))\n",
    "\n",
    "test_accuracy = np.empty(len(score_list))\n",
    "test_precision = np.empty(len(score_list))\n",
    "test_recall = np.empty(len(score_list))\n",
    "test_f1 = np.empty(len(score_list))\n",
    " \n",
    "for i,k in enumerate(score_list):\n",
    "    train_accuracy[i] = k[0]\n",
    "    train_precision[i] = k[1]\n",
    "    train_recall[i] = k[2]\n",
    "    train_f1[i] = k[3]\n",
    "\n",
    "    test_accuracy[i] = k[4]\n",
    "    test_precision[i] = k[5]\n",
    "    test_recall[i] = k[6]\n",
    "    test_f1[i] = k[7]\n",
    "\n",
    "\n",
    "plt.figure(figsize=(10,10))\n",
    "plt.title('k-NN Varying number of neighbors')\n",
    "plt.plot(n_neighbors, train_accuracy, label='train_accuracy')\n",
    "plt.plot(n_neighbors, train_precision, label='train_precision')\n",
    "plt.plot(n_neighbors, train_recall, label='train_recall')\n",
    "plt.plot(n_neighbors, train_f1, label='train_f1')\n",
    "plt.plot(n_neighbors, test_accuracy, '--', label='test_accuracy')\n",
    "plt.plot(n_neighbors, test_precision, '--', label='test_precision')\n",
    "plt.plot(n_neighbors, test_recall, '--', label='test_recall')\n",
    "plt.plot(n_neighbors, test_f1, '--', label='test_f1')\n",
    "plt.legend()\n",
    "plt.xlabel('Number of neighbors')\n",
    "plt.ylabel('Accuracy')\n",
    "plt.show()"
   ]
  },
  {
   "cell_type": "markdown",
   "metadata": {},
   "source": [
    "感觉在此测试数据下，k=1,效果最好，因为后面需要查看weights参数的影响，所以选择效果同样不错的k=3吧"
   ]
  },
  {
   "cell_type": "code",
   "execution_count": 186,
   "metadata": {},
   "outputs": [
    {
     "name": "stdout",
     "output_type": "stream",
     "text": [
      "accuracy: 0.9640298100257032\n",
      "precision: 0.973651191969887\n",
      "recall: 0.9868849852952866\n",
      "f1: 0.9802234239924209\n",
      "accuracy: 0.9330308425707886\n",
      "precision: 0.9543472845042352\n",
      "recall: 0.9725184056867225\n",
      "f1: 0.9633471645919779\n",
      "max_features=200, n_neighbors=3, weights=uniform执行完成\n",
      "accuracy: 0.9993107508507919\n",
      "precision: 0.9999522771741725\n",
      "recall: 0.9992846355615611\n",
      "f1: 0.999618344889002\n",
      "accuracy: 0.9373384641893057\n",
      "precision: 0.956313398469102\n",
      "recall: 0.9753109926377254\n",
      "f1: 0.965718774548311\n",
      "max_features=200, n_neighbors=3, weights=distance执行完成\n"
     ]
    },
    {
     "data": {
      "image/png": "[encoded data removed]",
      "text/plain": [
       "<Figure size 720x720 with 1 Axes>"
      ]
     },
     "metadata": {
      "needs_background": "light"
     },
     "output_type": "display_data"
    }
   ],
   "source": [
    "score_list = []\n",
    "for weights in ['uniform', 'distance']:\n",
    "    score_list.append(get_score_from_varying_parameters(weights=weights, n_neighbors=3))\n",
    "    \n",
    "weights = ['uniform', 'distance']\n",
    "train_accuracy = np.empty(len(score_list))\n",
    "train_precision = np.empty(len(score_list))\n",
    "train_recall = np.empty(len(score_list))\n",
    "train_f1 = np.empty(len(score_list))\n",
    "\n",
    "test_accuracy = np.empty(len(score_list))\n",
    "test_precision = np.empty(len(score_list))\n",
    "test_recall = np.empty(len(score_list))\n",
    "test_f1 = np.empty(len(score_list))\n",
    " \n",
    "for i,k in enumerate(score_list):\n",
    "    train_accuracy[i] = k[0]\n",
    "    train_precision[i] = k[1]\n",
    "    train_recall[i] = k[2]\n",
    "    train_f1[i] = k[3]\n",
    "\n",
    "    test_accuracy[i] = k[4]\n",
    "    test_precision[i] = k[5]\n",
    "    test_recall[i] = k[6]\n",
    "    test_f1[i] = k[7]\n",
    "\n",
    "\n",
    "plt.figure(figsize=(10,10))\n",
    "plt.title('k-NN Varying Weights')\n",
    "plt.plot(weights, train_accuracy, label='train_accuracy')\n",
    "plt.plot(weights, train_precision, label='train_precision')\n",
    "plt.plot(weights, train_recall, label='train_recall')\n",
    "plt.plot(weights, train_f1, label='train_f1')\n",
    "plt.plot(weights, test_accuracy, '--', label='test_accuracy')\n",
    "plt.plot(weights, test_precision, '--', label='test_precision')\n",
    "plt.plot(weights, test_recall, '--', label='test_recall')\n",
    "plt.plot(weights, test_f1, '--', label='test_f1')\n",
    "plt.legend()\n",
    "plt.xlabel('Weights')\n",
    "plt.ylabel('Accuracy')\n",
    "plt.show()"
   ]
  },
  {
   "cell_type": "markdown",
   "metadata": {},
   "source": [
    "选择distance"
   ]
  },
  {
   "cell_type": "code",
   "execution_count": 189,
   "metadata": {
    "scrolled": false
   },
   "outputs": [
    {
     "name": "stdout",
     "output_type": "stream",
     "text": [
      "accuracy: 0.9993107508507919\n",
      "precision: 0.9999522771741725\n",
      "recall: 0.9992846355615611\n",
      "f1: 0.999618344889002\n",
      "accuracy: 0.9209120670840273\n",
      "precision: 0.9755274819763212\n",
      "recall: 0.9360878395531861\n",
      "f1: 0.9554008097165992\n",
      "max_features=200, n_neighbors=3, weights=distance, p=1执行完成\n",
      "accuracy: 0.9993107508507919\n",
      "precision: 0.9999522771741725\n",
      "recall: 0.9992846355615611\n",
      "f1: 0.999618344889002\n",
      "accuracy: 0.9373384641893057\n",
      "precision: 0.956313398469102\n",
      "recall: 0.9753109926377254\n",
      "f1: 0.965718774548311\n",
      "max_features=200, n_neighbors=3, weights=distance, p=2执行完成\n"
     ]
    },
    {
     "data": {
      "image/png": "[encoded data removed]",
      "text/plain": [
       "<Figure size 720x720 with 1 Axes>"
      ]
     },
     "metadata": {
      "needs_background": "light"
     },
     "output_type": "display_data"
    }
   ],
   "source": [
    "score_list = []\n",
    "for p in [1, 2]:\n",
    "    score_list.append(get_score_from_varying_parameters(max_features=200, n_neighbors=3, weights='distance', p=p))\n",
    "    \n",
    "p = [1, 2]\n",
    "train_accuracy = np.empty(len(score_list))\n",
    "train_precision = np.empty(len(score_list))\n",
    "train_recall = np.empty(len(score_list))\n",
    "train_f1 = np.empty(len(score_list))\n",
    "\n",
    "test_accuracy = np.empty(len(score_list))\n",
    "test_precision = np.empty(len(score_list))\n",
    "test_recall = np.empty(len(score_list))\n",
    "test_f1 = np.empty(len(score_list))\n",
    " \n",
    "for i,k in enumerate(score_list):\n",
    "    train_accuracy[i] = k[0]\n",
    "    train_precision[i] = k[1]\n",
    "    train_recall[i] = k[2]\n",
    "    train_f1[i] = k[3]\n",
    "\n",
    "    test_accuracy[i] = k[4]\n",
    "    test_precision[i] = k[5]\n",
    "    test_recall[i] = k[6]\n",
    "    test_f1[i] = k[7]\n",
    "\n",
    "\n",
    "plt.figure(figsize=(10,10))\n",
    "plt.title('k-NN Varying p')\n",
    "plt.plot(p, train_accuracy, label='train_accuracy')\n",
    "plt.plot(p, train_precision, label='train_precision')\n",
    "plt.plot(p, train_recall, label='train_recall')\n",
    "plt.plot(p, train_f1, label='train_f1')\n",
    "plt.plot(p, test_accuracy, '--', label='test_accuracy')\n",
    "plt.plot(p, test_precision, '--', label='test_precision')\n",
    "plt.plot(p, test_recall, '--', label='test_recall')\n",
    "plt.plot(p, test_f1, '--', label='test_f1')\n",
    "plt.legend()\n",
    "plt.xlabel('p')\n",
    "plt.ylabel('Accuracy')\n",
    "plt.show()"
   ]
  },
  {
   "cell_type": "markdown",
   "metadata": {},
   "source": [
    "选择p=2"
   ]
  },
  {
   "cell_type": "markdown",
   "metadata": {},
   "source": [
    "##### 最终参数：\n",
    "- max_features=200， n_neighbors=3, p=2, weights='distance'"
   ]
  },
  {
   "cell_type": "code",
   "execution_count": 82,
   "metadata": {},
   "outputs": [
    {
     "ename": "ValueError",
     "evalue": "Found input variables with inconsistent numbers of samples: [87052, 2]",
     "output_type": "error",
     "traceback": [
      "\u001b[1;31m---------------------------------------------------------------------------\u001b[0m",
      "\u001b[1;31mValueError\u001b[0m                                Traceback (most recent call last)",
      "\u001b[1;32m<ipython-input-82-2030e9f85842>\u001b[0m in \u001b[0;36m<module>\u001b[1;34m\u001b[0m\n\u001b[0;32m      1\u001b[0m \u001b[0mvectorizer\u001b[0m \u001b[1;33m=\u001b[0m \u001b[0mTfidfVectorizer\u001b[0m\u001b[1;33m(\u001b[0m\u001b[0mmax_features\u001b[0m\u001b[1;33m=\u001b[0m\u001b[1;36m200\u001b[0m\u001b[1;33m)\u001b[0m\u001b[1;33m\u001b[0m\u001b[1;33m\u001b[0m\u001b[0m\n\u001b[0;32m      2\u001b[0m \u001b[0mX\u001b[0m \u001b[1;33m=\u001b[0m \u001b[0mvectorizer\u001b[0m\u001b[1;33m.\u001b[0m\u001b[0mfit_transform\u001b[0m\u001b[1;33m(\u001b[0m\u001b[0mcorpus\u001b[0m\u001b[1;33m)\u001b[0m\u001b[1;33m\u001b[0m\u001b[1;33m\u001b[0m\u001b[0m\n\u001b[1;32m----> 3\u001b[1;33m \u001b[0mX_train\u001b[0m\u001b[1;33m,\u001b[0m \u001b[0mX_test\u001b[0m\u001b[1;33m,\u001b[0m \u001b[0my_train\u001b[0m\u001b[1;33m,\u001b[0m \u001b[0my_test\u001b[0m \u001b[1;33m=\u001b[0m \u001b[0mtrain_test_split\u001b[0m\u001b[1;33m(\u001b[0m\u001b[0mX\u001b[0m\u001b[1;33m,\u001b[0m \u001b[0my\u001b[0m\u001b[1;33m,\u001b[0m \u001b[0mtest_size\u001b[0m\u001b[1;33m=\u001b[0m\u001b[1;36m0.2\u001b[0m\u001b[1;33m,\u001b[0m \u001b[0mrandom_state\u001b[0m\u001b[1;33m=\u001b[0m\u001b[1;36m42\u001b[0m\u001b[1;33m)\u001b[0m\u001b[1;33m\u001b[0m\u001b[1;33m\u001b[0m\u001b[0m\n\u001b[0m\u001b[0;32m      4\u001b[0m \u001b[1;33m\u001b[0m\u001b[0m\n\u001b[0;32m      5\u001b[0m \u001b[0mX_tr_arr\u001b[0m \u001b[1;33m=\u001b[0m \u001b[0mX_train\u001b[0m\u001b[1;33m.\u001b[0m\u001b[0mtoarray\u001b[0m\u001b[1;33m(\u001b[0m\u001b[1;33m)\u001b[0m\u001b[1;33m\u001b[0m\u001b[1;33m\u001b[0m\u001b[0m\n",
      "\u001b[1;32m~\\Anaconda3\\lib\\site-packages\\sklearn\\model_selection\\_split.py\u001b[0m in \u001b[0;36mtrain_test_split\u001b[1;34m(*arrays, **options)\u001b[0m\n\u001b[0;32m   2182\u001b[0m         \u001b[0mtest_size\u001b[0m \u001b[1;33m=\u001b[0m \u001b[1;36m0.25\u001b[0m\u001b[1;33m\u001b[0m\u001b[1;33m\u001b[0m\u001b[0m\n\u001b[0;32m   2183\u001b[0m \u001b[1;33m\u001b[0m\u001b[0m\n\u001b[1;32m-> 2184\u001b[1;33m     \u001b[0marrays\u001b[0m \u001b[1;33m=\u001b[0m \u001b[0mindexable\u001b[0m\u001b[1;33m(\u001b[0m\u001b[1;33m*\u001b[0m\u001b[0marrays\u001b[0m\u001b[1;33m)\u001b[0m\u001b[1;33m\u001b[0m\u001b[1;33m\u001b[0m\u001b[0m\n\u001b[0m\u001b[0;32m   2185\u001b[0m \u001b[1;33m\u001b[0m\u001b[0m\n\u001b[0;32m   2186\u001b[0m     \u001b[1;32mif\u001b[0m \u001b[0mshuffle\u001b[0m \u001b[1;32mis\u001b[0m \u001b[1;32mFalse\u001b[0m\u001b[1;33m:\u001b[0m\u001b[1;33m\u001b[0m\u001b[1;33m\u001b[0m\u001b[0m\n",
      "\u001b[1;32m~\\Anaconda3\\lib\\site-packages\\sklearn\\utils\\validation.py\u001b[0m in \u001b[0;36mindexable\u001b[1;34m(*iterables)\u001b[0m\n\u001b[0;32m    258\u001b[0m         \u001b[1;32melse\u001b[0m\u001b[1;33m:\u001b[0m\u001b[1;33m\u001b[0m\u001b[1;33m\u001b[0m\u001b[0m\n\u001b[0;32m    259\u001b[0m             \u001b[0mresult\u001b[0m\u001b[1;33m.\u001b[0m\u001b[0mappend\u001b[0m\u001b[1;33m(\u001b[0m\u001b[0mnp\u001b[0m\u001b[1;33m.\u001b[0m\u001b[0marray\u001b[0m\u001b[1;33m(\u001b[0m\u001b[0mX\u001b[0m\u001b[1;33m)\u001b[0m\u001b[1;33m)\u001b[0m\u001b[1;33m\u001b[0m\u001b[1;33m\u001b[0m\u001b[0m\n\u001b[1;32m--> 260\u001b[1;33m     \u001b[0mcheck_consistent_length\u001b[0m\u001b[1;33m(\u001b[0m\u001b[1;33m*\u001b[0m\u001b[0mresult\u001b[0m\u001b[1;33m)\u001b[0m\u001b[1;33m\u001b[0m\u001b[1;33m\u001b[0m\u001b[0m\n\u001b[0m\u001b[0;32m    261\u001b[0m     \u001b[1;32mreturn\u001b[0m \u001b[0mresult\u001b[0m\u001b[1;33m\u001b[0m\u001b[1;33m\u001b[0m\u001b[0m\n\u001b[0;32m    262\u001b[0m \u001b[1;33m\u001b[0m\u001b[0m\n",
      "\u001b[1;32m~\\Anaconda3\\lib\\site-packages\\sklearn\\utils\\validation.py\u001b[0m in \u001b[0;36mcheck_consistent_length\u001b[1;34m(*arrays)\u001b[0m\n\u001b[0;32m    233\u001b[0m     \u001b[1;32mif\u001b[0m \u001b[0mlen\u001b[0m\u001b[1;33m(\u001b[0m\u001b[0muniques\u001b[0m\u001b[1;33m)\u001b[0m \u001b[1;33m>\u001b[0m \u001b[1;36m1\u001b[0m\u001b[1;33m:\u001b[0m\u001b[1;33m\u001b[0m\u001b[1;33m\u001b[0m\u001b[0m\n\u001b[0;32m    234\u001b[0m         raise ValueError(\"Found input variables with inconsistent numbers of\"\n\u001b[1;32m--> 235\u001b[1;33m                          \" samples: %r\" % [int(l) for l in lengths])\n\u001b[0m\u001b[0;32m    236\u001b[0m \u001b[1;33m\u001b[0m\u001b[0m\n\u001b[0;32m    237\u001b[0m \u001b[1;33m\u001b[0m\u001b[0m\n",
      "\u001b[1;31mValueError\u001b[0m: Found input variables with inconsistent numbers of samples: [87052, 2]"
     ]
    }
   ],
   "source": [
    "vectorizer = TfidfVectorizer(max_features=200)\n",
    "X = vectorizer.fit_transform(corpus)\n",
    "X_train, X_test, y_train, y_test = train_test_split(X, y, test_size=0.2, random_state=42)\n",
    "\n",
    "X_tr_arr = X_train.toarray()\n",
    "X_ts_arr = X_test.toarray()\n",
    "y_tr_arr = np.array(y_train, dtype='int')\n",
    "y_ts_arr = np.array(y_test, dtype='int')\n",
    "\n",
    "knn = KNeighborsClassifier(n_jobs=-1, n_neighbors=3, weights='distance', p=2)\n",
    "knn.fit(X_tr_arr, y_tr_arr)"
   ]
  },
  {
   "cell_type": "markdown",
   "metadata": {},
   "source": [
    "### Step8: 不断改变参数，直到性能达到“某个”点。问：“某个”怎么定义？"
   ]
  },
  {
   "cell_type": "markdown",
   "metadata": {},
   "source": [
    "性能与计算复杂度之间的一个最佳的平衡点"
   ]
  },
  {
   "cell_type": "markdown",
   "metadata": {},
   "source": [
    "### Step9: 找出所有预测为 1， 但是实际为 0 的文章。 作为抄袭的候选者。"
   ]
  },
  {
   "cell_type": "code",
   "execution_count": null,
   "metadata": {},
   "outputs": [],
   "source": [
    "y_pred = knn.predict(X.toarray())"
   ]
  },
  {
   "cell_type": "code",
   "execution_count": null,
   "metadata": {},
   "outputs": [],
   "source": [
    "df_y_pred = pd.DataFrame(y_pred, columns=['y_pred'], dtype='object')"
   ]
  },
  {
   "cell_type": "code",
   "execution_count": null,
   "metadata": {},
   "outputs": [],
   "source": [
    "df_y_fact = pd.DataFrame(df, columns=['y'])"
   ]
  },
  {
   "cell_type": "code",
   "execution_count": null,
   "metadata": {
    "scrolled": true
   },
   "outputs": [],
   "source": [
    "df_pred_and_fact = pd.concat([df_y_pred, df_y_fact], axis=1)"
   ]
  },
  {
   "cell_type": "code",
   "execution_count": null,
   "metadata": {
    "scrolled": true
   },
   "outputs": [],
   "source": [
    "df_pred_and_fact.info()"
   ]
  },
  {
   "cell_type": "code",
   "execution_count": null,
   "metadata": {},
   "outputs": [],
   "source": [
    "df_pred_and_fact.head()"
   ]
  },
  {
   "cell_type": "code",
   "execution_count": null,
   "metadata": {
    "scrolled": true
   },
   "outputs": [],
   "source": [
    "candidate_knn = df_pred_and_fact[(df_pred_and_fact.y_pred==1)&(df_pred_and_fact.y==0)].index.tolist()"
   ]
  },
  {
   "cell_type": "code",
   "execution_count": 79,
   "metadata": {
    "scrolled": true
   },
   "outputs": [
    {
     "ename": "NameError",
     "evalue": "name 'candidate_knn' is not defined",
     "output_type": "error",
     "traceback": [
      "\u001b[1;31m---------------------------------------------------------------------------\u001b[0m",
      "\u001b[1;31mNameError\u001b[0m                                 Traceback (most recent call last)",
      "\u001b[1;32m<ipython-input-79-9289827f36a5>\u001b[0m in \u001b[0;36m<module>\u001b[1;34m\u001b[0m\n\u001b[1;32m----> 1\u001b[1;33m \u001b[0mcandidate_knn\u001b[0m\u001b[1;33m\u001b[0m\u001b[1;33m\u001b[0m\u001b[0m\n\u001b[0m",
      "\u001b[1;31mNameError\u001b[0m: name 'candidate_knn' is not defined"
     ]
    }
   ],
   "source": [
    "candidate_knn"
   ]
  },
  {
   "cell_type": "code",
   "execution_count": 381,
   "metadata": {},
   "outputs": [
    {
     "data": {
      "text/plain": [
       "1297"
      ]
     },
     "execution_count": 381,
     "metadata": {},
     "output_type": "execute_result"
    }
   ],
   "source": [
    "len(candidate_knn)"
   ]
  },
  {
   "cell_type": "markdown",
   "metadata": {},
   "source": [
    "### Step10： 总结该过程，什么是数据思维？什么是机器学习思维？"
   ]
  },
  {
   "cell_type": "markdown",
   "metadata": {},
   "source": [
    "#### 数据思维\n",
    "- 样本到全量思维\n",
    "    以前我们进行数据分析时通常是用样本数据进行研究，样本是指从总体数据中按随机抽取的原则采集的部分数据，所以至今样本思维还是很常见的。究其本质我们很容易发现样本分析是因为传统的手段很难进行大规模的全量分析，因为成本会很高并且效率低下。\n",
    "    而到了大数据时代，很多信息已经实时数据化、联网化，加上新的大数据技术可以快速高效的处理海量数据。我们花费更低的成本、更低的代价很容易就能做到全量分析。样本分析是以点带面、以偏概全的思维，而全量分析真正反映了全部数据的客观事实。\n",
    "- 精准到模糊\n",
    "    传统数据分析的时候由于数据量小，分析人员可以对数据做精准分析，甚至细化到单条记录。并且出现异常的时候，还能对单条数据做异常原因等深究工作。但等到了大数据时代，随着数据的爆发，已经很难让分析人员能够关注更多细节。精准性思维是建立在少量数据的基础上，基于精准得出的规律，在海量数据面前也会产生变异甚至突变。所以在大数据时代我们分析更强调大概率事件，也即所谓的模糊性。这不是说我们要抛弃严谨的精准思维，而是说我们应该增加大数据下的模糊思维。\n",
    "- 因果到关联\n",
    "    我们每个人开始上学的时候，语文课上学的句式中就有一个因为什么所以什么，典型的因果关系。从小的数学课上，学了大量的公式，通过公式的推理和证明，也是一直在强调因果关系。至此我们每个人在看到问题和现象的时候，总是不断问自己因为什么。所以可见因果思维在我们每个人脑中已经形成了很深的烙印。但学习数据挖掘的人都知道一个“啤酒与尿布”的故事。故事的内容是这样，沃尔玛的工作人员在按周期统计产品的销售信息时发现一个奇怪的现象：每逢周末，某一连锁超市啤酒和尿片的销量都很大。为了搞清楚这个原因，他们派出工作人员进行调查。通过观察和走访后了解到，在美国有孩子的家庭中，太太经常嘱咐丈夫下班后要为孩子买尿片，而丈夫们在买完尿片以后又顺手带回了假期看球赛时自己爱喝的啤酒，因此啤酒和尿片销量一起增长。搞清原因后，沃尔玛的工作人员打破常规，尝试将啤酒和尿片摆在一起，结果使得啤酒和尿片的销量双双激增，为商家带来了大量的利润。通过这个故事我们可以看出本来商品中尿布与啤酒两个风马牛不相及的东西，关联在一起销量增加了。数据挖掘中一个算法叫关联规则分析，就是来挖掘数据关联的特征。通过数据的挖掘我们能够看到数据的关联现象，但我们不一定知道他的因果关系。因为关联关系体现了数据思维视角看现象，而因果关系体现了从业务视角看现象。\n",
    "###### 摘自：https://zhuanlan.zhihu.com/p/23971154"
   ]
  },
  {
   "cell_type": "markdown",
   "metadata": {},
   "source": [
    "#### 机器学习思维\n",
    "- 通过大数据，算法得出一个相应的模型，由x得到y，利用模型预测test_x"
   ]
  },
  {
   "cell_type": "markdown",
   "metadata": {},
   "source": [
    "### (Optional)使用第4课讲解的 edit distance，在涉嫌抄袭的文章中，找到其重复的文字与被修改过的文字。 "
   ]
  },
  {
   "cell_type": "code",
   "execution_count": 39,
   "metadata": {},
   "outputs": [],
   "source": [
    "from functools import lru_cache"
   ]
  },
  {
   "cell_type": "code",
   "execution_count": 53,
   "metadata": {},
   "outputs": [],
   "source": [
    "def get_edit_distance(string1, string2):    \n",
    "    i = 0\n",
    "    solution = {}\n",
    "    \n",
    "    @lru_cache(maxsize=2**10)\n",
    "    def edit_distance(string1, string2):\n",
    "        nonlocal i\n",
    "        i += 1\n",
    "\n",
    "        if len(string1) == 0: return len(string2)\n",
    "        if len(string2) == 0: return len(string1)\n",
    "\n",
    "        tail_s1 = string1[-1]\n",
    "        tail_s2 = string2[-1] \n",
    "\n",
    "\n",
    "        if tail_s1 == tail_s2:\n",
    "            candidates = [(edit_distance(string1[:-1], string2[:-1]) + 0, '')]\n",
    "            # no edits\n",
    "        else:\n",
    "            candidates = [\n",
    "            (edit_distance(string1[:-1], string2) + 1, 'DEL {}'.format(tail_s1)),\n",
    "            # delete tail_s1 for string 1; edit_distance + 1 for each deletion\n",
    "            (edit_distance(string1, string2[:-1]) + 1, 'ADD {}'.format(tail_s2)),\n",
    "            # add tail_s2 to string 1; edit_distance + 1 for each addition\n",
    "            (edit_distance(string1[:-1], string2[:-1]) + 1, \n",
    "                            'SUB {} => {}'.format(tail_s1, tail_s2))\n",
    "        ]\n",
    "\n",
    "\n",
    "        min_distance, operation = min(candidates, key=lambda x: x[0])\n",
    "        # find the minimal edit distance among all possible operations\n",
    "\n",
    "        solution[(string1, string2)] = operation # store solution to dictionary\n",
    "\n",
    "        return min_distance  \n",
    "    \n",
    "    string1 = string1\n",
    "    string2 = string2\n",
    "    min_distance = edit_distance(string1, string2)\n",
    "    return (min_distance, solution)"
   ]
  },
  {
   "cell_type": "code",
   "execution_count": 54,
   "metadata": {
    "scrolled": true
   },
   "outputs": [],
   "source": [
    "min_distance, solution = get_edit_distance('打篮球', '打进NBA')"
   ]
  },
  {
   "cell_type": "code",
   "execution_count": 55,
   "metadata": {},
   "outputs": [
    {
     "data": {
      "text/plain": [
       "4"
      ]
     },
     "execution_count": 55,
     "metadata": {},
     "output_type": "execute_result"
    }
   ],
   "source": [
    "min_distance"
   ]
  },
  {
   "cell_type": "code",
   "execution_count": 56,
   "metadata": {},
   "outputs": [
    {
     "data": {
      "text/plain": [
       "{('打', '打'): '',\n",
       " ('打', '打进'): 'ADD 进',\n",
       " ('打', '打进N'): 'ADD N',\n",
       " ('打', '打进NB'): 'ADD B',\n",
       " ('打', '打进NBA'): 'ADD A',\n",
       " ('打篮', '打'): 'DEL 篮',\n",
       " ('打篮', '打进'): 'SUB 篮 => 进',\n",
       " ('打篮', '打进N'): 'ADD N',\n",
       " ('打篮', '打进NB'): 'ADD B',\n",
       " ('打篮', '打进NBA'): 'ADD A',\n",
       " ('打篮球', '打'): 'DEL 球',\n",
       " ('打篮球', '打进'): 'DEL 球',\n",
       " ('打篮球', '打进N'): 'SUB 球 => N',\n",
       " ('打篮球', '打进NB'): 'ADD B',\n",
       " ('打篮球', '打进NBA'): 'ADD A'}"
      ]
     },
     "execution_count": 56,
     "metadata": {},
     "output_type": "execute_result"
    }
   ],
   "source": [
    "solution"
   ]
  },
  {
   "cell_type": "code",
   "execution_count": 57,
   "metadata": {},
   "outputs": [],
   "source": [
    "# to parse the solutions, we need to define the exit condition (\"查表\"过程的终止条件)\n",
    "# in this case, the exit condition is\n",
    "# -- if the two strings are exactly the same, we stop editing\n",
    "\n",
    "def stop_edit(string1, string2): return string1 == string2\n",
    "\n",
    "\n",
    "# now we look for solutions in the \"solution\" dictionary\n",
    "\n",
    "def parse_solution(string1, string2, solution_dic):\n",
    "    \n",
    "    parsed_solutions = [] \n",
    "    \n",
    "    while not stop_edit(string1, string2):       \n",
    "        \n",
    "        if string2 == '':\n",
    "            parsed_solutions.append('DEL {}'.format(string1[-1]))\n",
    "            string1 = string1[:-1]\n",
    "            continue\n",
    "            \n",
    "        if string1 == '':\n",
    "            parsed_solutions.append('ADD {}'.format(string2[-1]))\n",
    "            string2 = string2[:-1]\n",
    "            continue\n",
    "        \n",
    "        operation = solution_dic[(string1, string2)] # \"查表\" 过程\n",
    "        if 'SUB' in operation:\n",
    "            string1, string2 = string1[:-1], string2[:-1] \n",
    "            # if substitution, both forward and compare\n",
    "        elif operation == '':\n",
    "            string1, string2 = string1[:-1], string2[:-1]\n",
    "            # if no edits, both forward and compare\n",
    "        elif 'DEL' in operation:\n",
    "            string1, string2 = string1[:-1], string2 \n",
    "            # delete tail of string1 and then compare\n",
    "        elif 'ADD' in operation:\n",
    "            string1, string2 = string1, string2[:-1] \n",
    "            # delete tail of string2 and then compare\n",
    "#         print(string1, string2)\n",
    "        if operation != '':\n",
    "            parsed_solutions.append(operation)\n",
    "    \n",
    "    return parsed_solutions"
   ]
  },
  {
   "cell_type": "code",
   "execution_count": 58,
   "metadata": {},
   "outputs": [],
   "source": [
    "parsed_solutions = parse_solution('打篮球', '打进NBA', solution)"
   ]
  },
  {
   "cell_type": "code",
   "execution_count": 59,
   "metadata": {
    "scrolled": true
   },
   "outputs": [
    {
     "data": {
      "text/plain": [
       "['ADD A', 'ADD B', 'SUB 球 => N', 'SUB 篮 => 进']"
      ]
     },
     "execution_count": 59,
     "metadata": {},
     "output_type": "execute_result"
    }
   ],
   "source": [
    "parsed_solutions"
   ]
  },
  {
   "cell_type": "code",
   "execution_count": 60,
   "metadata": {
    "scrolled": true
   },
   "outputs": [
    {
     "data": {
      "text/plain": [
       "[2, 3]"
      ]
     },
     "execution_count": 60,
     "metadata": {},
     "output_type": "execute_result"
    }
   ],
   "source": [
    "list(set([1, 2, 3]) - set([1]))"
   ]
  },
  {
   "cell_type": "code",
   "execution_count": 61,
   "metadata": {},
   "outputs": [],
   "source": [
    "def get_repetition(string1, parsed_solutions):\n",
    "    string1_list = [word for word in string1]\n",
    "    alter_list = [word[4] for word in parsed_solutions]\n",
    "    repetition_list = list(set(string1_list) - set(alter_list))\n",
    "    return repetition_list"
   ]
  },
  {
   "cell_type": "code",
   "execution_count": 62,
   "metadata": {},
   "outputs": [
    {
     "data": {
      "text/plain": [
       "['打']"
      ]
     },
     "execution_count": 62,
     "metadata": {},
     "output_type": "execute_result"
    }
   ],
   "source": [
    "get_repetition('打篮球', parsed_solutions)"
   ]
  },
  {
   "cell_type": "code",
   "execution_count": 69,
   "metadata": {},
   "outputs": [],
   "source": [
    "def plagiarism_analysis(suspect_id, content):\n",
    "    # 找到最长\n",
    "    content_max = max([len(i) for i in content])\n",
    "    min_edit_distance = content_max\n",
    "    suspect = content[suspect_id]\n",
    "    for i, document in enumerate(content):\n",
    "        if i != suspect_id:\n",
    "            edit_distance, solution = get_edit_distance(suspect, document) \n",
    "            edit_distance_modified = edit_distance + content_max - max(len(content[suspect_id]), len(document))\n",
    "            if edit_distance < min_edit_distance:\n",
    "                min_edit_distance = edit_distance_modified\n",
    "                source_id = i\n",
    "    return source_id, solution         \n",
    "        "
   ]
  },
  {
   "cell_type": "code",
   "execution_count": null,
   "metadata": {},
   "outputs": [],
   "source": [
    "source_id, solution = plagiarism_analysis(24, [''.join(token(content)) for content in df['content']])"
   ]
  },
  {
   "cell_type": "markdown",
   "metadata": {},
   "source": [
    "#### 太慢，利用tfidf定位原文章"
   ]
  },
  {
   "cell_type": "markdown",
   "metadata": {},
   "source": [
    "### Step11: 利用第8课讲述的新模型，进行操作，感受其中不同的参数、模型对性能的影响。"
   ]
  },
  {
   "cell_type": "markdown",
   "metadata": {},
   "source": [
    "### LogisticRegression"
   ]
  },
  {
   "cell_type": "code",
   "execution_count": 21,
   "metadata": {},
   "outputs": [],
   "source": [
    "from sklearn.linear_model import LogisticRegression\n",
    "from sklearn.feature_extraction.text import TfidfVectorizer\n",
    "from sklearn.model_selection import train_test_split\n",
    "import numpy as np"
   ]
  },
  {
   "cell_type": "code",
   "execution_count": 38,
   "metadata": {},
   "outputs": [],
   "source": [
    "def get_score_from_varying_parameters(max_features, class_weight):\n",
    "    vectorizer = TfidfVectorizer(max_features=max_features)\n",
    "    X = vectorizer.fit_transform(corpus)\n",
    "    X_train, X_test, y_train, y_test = train_test_split(X, y, test_size=0.2, random_state=42)\n",
    "    \n",
    "    X_tr_arr = X_train.toarray()\n",
    "    X_ts_arr = X_test.toarray()\n",
    "    y_tr_arr = np.array(y_train, dtype='int')\n",
    "    y_ts_arr = np.array(y_test, dtype='int')\n",
    "    \n",
    "    clf = LogisticRegression(n_jobs=-1)\n",
    "    clf.fit(X_tr_arr, y_tr_arr)\n",
    "    \n",
    "    y_tr_pred = clf.predict(X_tr_arr)\n",
    "    train_accuracy, train_precision, train_recall, train_f1 = get_F1(y_tr_pred, y_tr_arr)\n",
    "    y_ts_pred = clf.predict(X_ts_arr)\n",
    "    test_accuracy, test_precision, test_recall, test_f1 = get_F1(y_ts_pred, y_ts_arr)\n",
    "    \n",
    "    print('max_features=%s 执行完成' % (str(max_features)))\n",
    "    \n",
    "    return train_accuracy, train_precision, train_recall, train_f1, test_accuracy, test_precision, test_recall, test_f1"
   ]
  },
  {
   "cell_type": "code",
   "execution_count": 41,
   "metadata": {
    "scrolled": true
   },
   "outputs": [
    {
     "name": "stderr",
     "output_type": "stream",
     "text": [
      "C:\\Users\\Ryan Wu\\Anaconda3\\lib\\site-packages\\sklearn\\linear_model\\logistic.py:433: FutureWarning: Default solver will be changed to 'lbfgs' in 0.22. Specify a solver to silence this warning.\n",
      "  FutureWarning)\n",
      "C:\\Users\\Ryan Wu\\Anaconda3\\lib\\site-packages\\sklearn\\linear_model\\logistic.py:1297: UserWarning: 'n_jobs' > 1 does not have any effect when 'solver' is set to 'liblinear'. Got 'n_jobs' = 6.\n",
      "  \" = {}.\".format(effective_n_jobs(self.n_jobs)))\n"
     ]
    },
    {
     "name": "stdout",
     "output_type": "stream",
     "text": [
      "accuracy: 0.9813902729713818\n",
      "precision: 0.9840354488458698\n",
      "recall: 0.9955488434941578\n",
      "f1: 0.9897586648333412\n",
      "accuracy: 0.9777726724484521\n",
      "precision: 0.9813341684935797\n",
      "recall: 0.9943513582127443\n",
      "f1: 0.9877998802055421\n",
      "max_features=1000\n"
     ]
    },
    {
     "name": "stderr",
     "output_type": "stream",
     "text": [
      "C:\\Users\\Ryan Wu\\Anaconda3\\lib\\site-packages\\sklearn\\linear_model\\logistic.py:433: FutureWarning: Default solver will be changed to 'lbfgs' in 0.22. Specify a solver to silence this warning.\n",
      "  FutureWarning)\n",
      "C:\\Users\\Ryan Wu\\Anaconda3\\lib\\site-packages\\sklearn\\linear_model\\logistic.py:1297: UserWarning: 'n_jobs' > 1 does not have any effect when 'solver' is set to 'liblinear'. Got 'n_jobs' = 6.\n",
      "  \" = {}.\".format(effective_n_jobs(self.n_jobs)))\n"
     ]
    },
    {
     "name": "stdout",
     "output_type": "stream",
     "text": [
      "accuracy: 0.9816774601168852\n",
      "precision: 0.9832358429908887\n",
      "recall: 0.996709323583181\n",
      "f1: 0.98992673992674\n",
      "accuracy: 0.97805984722302\n",
      "precision: 0.9803774528183977\n",
      "recall: 0.9956841838029957\n",
      "f1: 0.9879715347314063\n",
      "max_features=2000\n"
     ]
    },
    {
     "name": "stderr",
     "output_type": "stream",
     "text": [
      "C:\\Users\\Ryan Wu\\Anaconda3\\lib\\site-packages\\sklearn\\linear_model\\logistic.py:433: FutureWarning: Default solver will be changed to 'lbfgs' in 0.22. Specify a solver to silence this warning.\n",
      "  FutureWarning)\n",
      "C:\\Users\\Ryan Wu\\Anaconda3\\lib\\site-packages\\sklearn\\linear_model\\logistic.py:1297: UserWarning: 'n_jobs' > 1 does not have any effect when 'solver' is set to 'liblinear'. Got 'n_jobs' = 6.\n",
      "  \" = {}.\".format(effective_n_jobs(self.n_jobs)))\n"
     ]
    },
    {
     "name": "stdout",
     "output_type": "stream",
     "text": [
      "accuracy: 0.9818784911187375\n",
      "precision: 0.9830274726135811\n",
      "recall: 0.9971544392337652\n",
      "f1: 0.9900405637893207\n",
      "accuracy: 0.9770834529894894\n",
      "precision: 0.9786199588605622\n",
      "recall: 0.9964457984259965\n",
      "f1: 0.9874524356111827\n",
      "max_features=3000\n"
     ]
    },
    {
     "name": "stderr",
     "output_type": "stream",
     "text": [
      "C:\\Users\\Ryan Wu\\Anaconda3\\lib\\site-packages\\sklearn\\linear_model\\logistic.py:433: FutureWarning: Default solver will be changed to 'lbfgs' in 0.22. Specify a solver to silence this warning.\n",
      "  FutureWarning)\n",
      "C:\\Users\\Ryan Wu\\Anaconda3\\lib\\site-packages\\sklearn\\linear_model\\logistic.py:1297: UserWarning: 'n_jobs' > 1 does not have any effect when 'solver' is set to 'liblinear'. Got 'n_jobs' = 6.\n",
      "  \" = {}.\".format(effective_n_jobs(self.n_jobs)))\n"
     ]
    },
    {
     "name": "stdout",
     "output_type": "stream",
     "text": [
      "accuracy: 0.9824528654097443\n",
      "precision: 0.9832500274204415\n",
      "recall: 0.9975677609093077\n",
      "f1: 0.9903571484936005\n",
      "accuracy: 0.9765665383952674\n",
      "precision: 0.9779521674140508\n",
      "recall: 0.9965727341964966\n",
      "f1: 0.9871746510750661\n",
      "max_features=4000\n"
     ]
    },
    {
     "name": "stderr",
     "output_type": "stream",
     "text": [
      "C:\\Users\\Ryan Wu\\Anaconda3\\lib\\site-packages\\sklearn\\linear_model\\logistic.py:433: FutureWarning: Default solver will be changed to 'lbfgs' in 0.22. Specify a solver to silence this warning.\n",
      "  FutureWarning)\n",
      "C:\\Users\\Ryan Wu\\Anaconda3\\lib\\site-packages\\sklearn\\linear_model\\logistic.py:1297: UserWarning: 'n_jobs' > 1 does not have any effect when 'solver' is set to 'liblinear'. Got 'n_jobs' = 6.\n",
      "  \" = {}.\".format(effective_n_jobs(self.n_jobs)))\n"
     ]
    },
    {
     "name": "stdout",
     "output_type": "stream",
     "text": [
      "accuracy: 0.9827113338406973\n",
      "precision: 0.983345606091466\n",
      "recall: 0.9977585247595581\n",
      "f1: 0.9904996370293219\n",
      "accuracy: 0.9764516684854403\n",
      "precision: 0.9778303649271392\n",
      "recall: 0.9965727341964966\n",
      "f1: 0.9871125919406551\n",
      "max_features=5000\n"
     ]
    },
    {
     "name": "stderr",
     "output_type": "stream",
     "text": [
      "C:\\Users\\Ryan Wu\\Anaconda3\\lib\\site-packages\\sklearn\\linear_model\\logistic.py:433: FutureWarning: Default solver will be changed to 'lbfgs' in 0.22. Specify a solver to silence this warning.\n",
      "  FutureWarning)\n",
      "C:\\Users\\Ryan Wu\\Anaconda3\\lib\\site-packages\\sklearn\\linear_model\\logistic.py:1297: UserWarning: 'n_jobs' > 1 does not have any effect when 'solver' is set to 'liblinear'. Got 'n_jobs' = 6.\n",
      "  \" = {}.\".format(effective_n_jobs(self.n_jobs)))\n"
     ]
    },
    {
     "name": "stdout",
     "output_type": "stream",
     "text": [
      "accuracy: 0.9830846771298517\n",
      "precision: 0.9836553680284581\n",
      "recall: 0.9978539066846832\n",
      "f1: 0.9907037674205715\n",
      "accuracy: 0.9759347538912182\n",
      "precision: 0.9771638354800573\n",
      "recall: 0.9966996699669967\n",
      "f1: 0.9868350771357652\n",
      "max_features=6000\n"
     ]
    },
    {
     "name": "stderr",
     "output_type": "stream",
     "text": [
      "C:\\Users\\Ryan Wu\\Anaconda3\\lib\\site-packages\\sklearn\\linear_model\\logistic.py:433: FutureWarning: Default solver will be changed to 'lbfgs' in 0.22. Specify a solver to silence this warning.\n",
      "  FutureWarning)\n",
      "C:\\Users\\Ryan Wu\\Anaconda3\\lib\\site-packages\\sklearn\\linear_model\\logistic.py:1297: UserWarning: 'n_jobs' > 1 does not have any effect when 'solver' is set to 'liblinear'. Got 'n_jobs' = 6.\n",
      "  \" = {}.\".format(effective_n_jobs(self.n_jobs)))\n"
     ]
    },
    {
     "name": "stdout",
     "output_type": "stream",
     "text": [
      "accuracy: 0.9829985209862007\n",
      "precision: 0.9835022795995425\n",
      "recall: 0.9979174946347668\n",
      "f1: 0.990657450367705\n",
      "accuracy: 0.9759921888461317\n",
      "precision: 0.9771058852805773\n",
      "recall: 0.9968266057374968\n",
      "f1: 0.9868677348413445\n",
      "max_features=7000\n"
     ]
    },
    {
     "name": "stderr",
     "output_type": "stream",
     "text": [
      "C:\\Users\\Ryan Wu\\Anaconda3\\lib\\site-packages\\sklearn\\linear_model\\logistic.py:433: FutureWarning: Default solver will be changed to 'lbfgs' in 0.22. Specify a solver to silence this warning.\n",
      "  FutureWarning)\n",
      "C:\\Users\\Ryan Wu\\Anaconda3\\lib\\site-packages\\sklearn\\linear_model\\logistic.py:1297: UserWarning: 'n_jobs' > 1 does not have any effect when 'solver' is set to 'liblinear'. Got 'n_jobs' = 6.\n",
      "  \" = {}.\".format(effective_n_jobs(self.n_jobs)))\n"
     ]
    },
    {
     "name": "stdout",
     "output_type": "stream",
     "text": [
      "accuracy: 0.9830990364871268\n",
      "precision: 0.9834132130438868\n",
      "recall: 0.998124155472538\n",
      "f1: 0.9907140772064915\n",
      "accuracy: 0.9752455344322555\n",
      "precision: 0.9764347447615495\n",
      "recall: 0.9966996699669967\n",
      "f1: 0.9864631426866421\n",
      "max_features=8000\n"
     ]
    },
    {
     "name": "stderr",
     "output_type": "stream",
     "text": [
      "C:\\Users\\Ryan Wu\\Anaconda3\\lib\\site-packages\\sklearn\\linear_model\\logistic.py:433: FutureWarning: Default solver will be changed to 'lbfgs' in 0.22. Specify a solver to silence this warning.\n",
      "  FutureWarning)\n",
      "C:\\Users\\Ryan Wu\\Anaconda3\\lib\\site-packages\\sklearn\\linear_model\\logistic.py:1297: UserWarning: 'n_jobs' > 1 does not have any effect when 'solver' is set to 'liblinear'. Got 'n_jobs' = 6.\n",
      "  \" = {}.\".format(effective_n_jobs(self.n_jobs)))\n"
     ]
    },
    {
     "name": "stdout",
     "output_type": "stream",
     "text": [
      "accuracy: 0.9833575049180798\n",
      "precision: 0.9835541772389813\n",
      "recall: 0.9982672283602257\n",
      "f1: 0.9908560879204108\n",
      "accuracy: 0.9751306645224284\n",
      "precision: 0.9763133354056575\n",
      "recall: 0.9966996699669967\n",
      "f1: 0.986401180867435\n",
      "max_features=9000\n"
     ]
    }
   ],
   "source": [
    "score_list = []\n",
    "for max_features in range(1000, 10000, 1000):\n",
    "    score_list.append(get_score_from_varying_parameters(max_features=max_features))"
   ]
  },
  {
   "cell_type": "code",
   "execution_count": 44,
   "metadata": {
    "scrolled": false
   },
   "outputs": [
    {
     "data": {
      "image/png": "[encoded data removed]",
      "text/plain": [
       "<Figure size 720x720 with 1 Axes>"
      ]
     },
     "metadata": {
      "needs_background": "light"
     },
     "output_type": "display_data"
    }
   ],
   "source": [
    "import matplotlib.pyplot as plt\n",
    "max_features = range(1000, 10000, 1000)\n",
    "train_accuracy = np.empty(len(score_list))\n",
    "train_precision = np.empty(len(score_list))\n",
    "train_recall = np.empty(len(score_list))\n",
    "train_f1 = np.empty(len(score_list))\n",
    "\n",
    "test_accuracy = np.empty(len(score_list))\n",
    "test_precision = np.empty(len(score_list))\n",
    "test_recall = np.empty(len(score_list))\n",
    "test_f1 = np.empty(len(score_list))\n",
    " \n",
    "for i,k in enumerate(score_list):\n",
    "    train_accuracy[i] = k[0]\n",
    "    train_precision[i] = k[1]\n",
    "    train_recall[i] = k[2]\n",
    "    train_f1[i] = k[3]\n",
    "\n",
    "    test_accuracy[i] = k[4]\n",
    "    test_precision[i] = k[5]\n",
    "    test_recall[i] = k[6]\n",
    "    test_f1[i] = k[7]\n",
    " \n",
    "plt.figure(figsize=(10,10))\n",
    "plt.title('LogisticRegression Varying max_features of TfidfVectorizer')\n",
    "\n",
    "plt.plot(max_features, train_accuracy, label='train_accuracy')\n",
    "plt.plot(max_features, train_precision, label='train_precision')\n",
    "plt.plot(max_features, train_recall, label='train_recall')\n",
    "plt.plot(max_features, train_f1, label='train_f1')\n",
    "plt.plot(max_features, test_accuracy, '--', label='test_accuracy')\n",
    "plt.plot(max_features, test_precision, '--', label='test_precision')\n",
    "plt.plot(max_features, test_recall, '--', label='test_recall')\n",
    "plt.plot(max_features, test_f1, '--', label='test_f1')\n",
    "\n",
    "plt.legend()\n",
    "plt.xlabel('Number of max_features')\n",
    "plt.ylabel('Accuracy')\n",
    "plt.show()"
   ]
  },
  {
   "cell_type": "markdown",
   "metadata": {},
   "source": [
    "#### 选2000"
   ]
  },
  {
   "cell_type": "code",
   "execution_count": 45,
   "metadata": {},
   "outputs": [],
   "source": [
    "vectorizer = TfidfVectorizer(max_features=2000)\n",
    "X = vectorizer.fit_transform(corpus)\n",
    "X_train, X_test, y_train, y_test = train_test_split(X, y, test_size=0.2, random_state=42)\n",
    "\n",
    "X_tr_arr = X_train.toarray()\n",
    "X_ts_arr = X_test.toarray()\n",
    "y_tr_arr = np.array(y_train, dtype='int')\n",
    "y_ts_arr = np.array(y_test, dtype='int')"
   ]
  },
  {
   "cell_type": "code",
   "execution_count": 54,
   "metadata": {},
   "outputs": [],
   "source": [
    "# 去掉max_features,节约时间\n",
    "def get_score_from_varying_parameters(class_weight):   \n",
    "    clf = LogisticRegression(n_jobs=-1, class_weight=class_weight)\n",
    "    clf.fit(X_tr_arr, y_tr_arr)\n",
    "    \n",
    "    y_tr_pred = clf.predict(X_tr_arr)\n",
    "    train_accuracy, train_precision, train_recall, train_f1 = get_F1(y_tr_pred, y_tr_arr)\n",
    "    y_ts_pred = clf.predict(X_ts_arr)\n",
    "    test_accuracy, test_precision, test_recall, test_f1 = get_F1(y_ts_pred, y_ts_arr)\n",
    "    \n",
    "    print('max_features=2000, class_wight=%s 执行完成' % (str(class_weight)))\n",
    "    \n",
    "    return train_accuracy, train_precision, train_recall, train_f1, test_accuracy, test_precision, test_recall, test_f1"
   ]
  },
  {
   "cell_type": "code",
   "execution_count": 57,
   "metadata": {
    "scrolled": false
   },
   "outputs": [
    {
     "name": "stderr",
     "output_type": "stream",
     "text": [
      "C:\\Users\\Ryan Wu\\Anaconda3\\lib\\site-packages\\sklearn\\linear_model\\logistic.py:433: FutureWarning: Default solver will be changed to 'lbfgs' in 0.22. Specify a solver to silence this warning.\n",
      "  FutureWarning)\n",
      "C:\\Users\\Ryan Wu\\Anaconda3\\lib\\site-packages\\sklearn\\linear_model\\logistic.py:1297: UserWarning: 'n_jobs' > 1 does not have any effect when 'solver' is set to 'liblinear'. Got 'n_jobs' = 6.\n",
      "  \" = {}.\".format(effective_n_jobs(self.n_jobs)))\n"
     ]
    },
    {
     "name": "stdout",
     "output_type": "stream",
     "text": [
      "accuracy: 0.9289211814879166\n",
      "precision: 0.998109153416416\n",
      "recall: 0.9230585803990143\n",
      "f1: 0.9591179385530229\n",
      "accuracy: 0.9279765665383952\n",
      "precision: 0.9976664378860672\n",
      "recall: 0.9225691799949226\n",
      "f1: 0.9586493437974015\n",
      "max_features=2000, class_wight={0: 0.9, 1: 0.1} 执行完成\n"
     ]
    },
    {
     "name": "stderr",
     "output_type": "stream",
     "text": [
      "C:\\Users\\Ryan Wu\\Anaconda3\\lib\\site-packages\\sklearn\\linear_model\\logistic.py:433: FutureWarning: Default solver will be changed to 'lbfgs' in 0.22. Specify a solver to silence this warning.\n",
      "  FutureWarning)\n",
      "C:\\Users\\Ryan Wu\\Anaconda3\\lib\\site-packages\\sklearn\\linear_model\\logistic.py:1297: UserWarning: 'n_jobs' > 1 does not have any effect when 'solver' is set to 'liblinear'. Got 'n_jobs' = 6.\n",
      "  \" = {}.\".format(effective_n_jobs(self.n_jobs)))\n"
     ]
    },
    {
     "name": "stdout",
     "output_type": "stream",
     "text": [
      "accuracy: 0.9709653795896096\n",
      "precision: 0.9947343615413369\n",
      "recall: 0.9730069151895716\n",
      "f1: 0.9837506830820663\n",
      "accuracy: 0.9670323358796163\n",
      "precision: 0.9934347373894956\n",
      "recall: 0.9699796902767199\n",
      "f1: 0.9815671162491971\n",
      "max_features=2000, class_wight={0: 0.8, 1: 0.2} 执行完成\n"
     ]
    },
    {
     "name": "stderr",
     "output_type": "stream",
     "text": [
      "C:\\Users\\Ryan Wu\\Anaconda3\\lib\\site-packages\\sklearn\\linear_model\\logistic.py:433: FutureWarning: Default solver will be changed to 'lbfgs' in 0.22. Specify a solver to silence this warning.\n",
      "  FutureWarning)\n",
      "C:\\Users\\Ryan Wu\\Anaconda3\\lib\\site-packages\\sklearn\\linear_model\\logistic.py:1297: UserWarning: 'n_jobs' > 1 does not have any effect when 'solver' is set to 'liblinear'. Got 'n_jobs' = 6.\n",
      "  \" = {}.\".format(effective_n_jobs(self.n_jobs)))\n"
     ]
    },
    {
     "name": "stdout",
     "output_type": "stream",
     "text": [
      "accuracy: 0.9790640570928045\n",
      "precision: 0.989001894029827\n",
      "recall: 0.9878070105714967\n",
      "f1: 0.9884040911766109\n",
      "accuracy: 0.9746711848831199\n",
      "precision: 0.986592107771494\n",
      "recall: 0.9854023863924855\n",
      "f1: 0.9859968881973772\n",
      "max_features=2000, class_wight={0: 0.7, 1: 0.3} 执行完成\n"
     ]
    },
    {
     "name": "stderr",
     "output_type": "stream",
     "text": [
      "C:\\Users\\Ryan Wu\\Anaconda3\\lib\\site-packages\\sklearn\\linear_model\\logistic.py:433: FutureWarning: Default solver will be changed to 'lbfgs' in 0.22. Specify a solver to silence this warning.\n",
      "  FutureWarning)\n",
      "C:\\Users\\Ryan Wu\\Anaconda3\\lib\\site-packages\\sklearn\\linear_model\\logistic.py:1297: UserWarning: 'n_jobs' > 1 does not have any effect when 'solver' is set to 'liblinear'. Got 'n_jobs' = 6.\n",
      "  \" = {}.\".format(effective_n_jobs(self.n_jobs)))\n"
     ]
    },
    {
     "name": "stdout",
     "output_type": "stream",
     "text": [
      "accuracy: 0.9778291523671401\n",
      "precision: 0.9800654054984431\n",
      "recall: 0.9957078133693665\n",
      "f1: 0.9878246881259167\n",
      "accuracy: 0.9741542702888978\n",
      "precision: 0.9770602169305573\n",
      "recall: 0.9947956334094948\n",
      "f1: 0.9858481665513553\n",
      "max_features=2000, class_wight={0: 0.6, 1: 0.5} 执行完成\n"
     ]
    },
    {
     "name": "stderr",
     "output_type": "stream",
     "text": [
      "C:\\Users\\Ryan Wu\\Anaconda3\\lib\\site-packages\\sklearn\\linear_model\\logistic.py:433: FutureWarning: Default solver will be changed to 'lbfgs' in 0.22. Specify a solver to silence this warning.\n",
      "  FutureWarning)\n",
      "C:\\Users\\Ryan Wu\\Anaconda3\\lib\\site-packages\\sklearn\\linear_model\\logistic.py:1297: UserWarning: 'n_jobs' > 1 does not have any effect when 'solver' is set to 'liblinear'. Got 'n_jobs' = 6.\n",
      "  \" = {}.\".format(effective_n_jobs(self.n_jobs)))\n"
     ]
    },
    {
     "name": "stdout",
     "output_type": "stream",
     "text": [
      "accuracy: 0.9739521259028446\n",
      "precision: 0.97496540249724\n",
      "recall: 0.9967570145457436\n",
      "f1: 0.9857407873223494\n",
      "accuracy: 0.9701338234449486\n",
      "precision: 0.9717612088184295\n",
      "recall: 0.9959380553439959\n",
      "f1: 0.9837011033099298\n",
      "max_features=2000, class_wight={0: 0.5, 1: 0.5} 执行完成\n"
     ]
    },
    {
     "name": "stderr",
     "output_type": "stream",
     "text": [
      "C:\\Users\\Ryan Wu\\Anaconda3\\lib\\site-packages\\sklearn\\linear_model\\logistic.py:433: FutureWarning: Default solver will be changed to 'lbfgs' in 0.22. Specify a solver to silence this warning.\n",
      "  FutureWarning)\n",
      "C:\\Users\\Ryan Wu\\Anaconda3\\lib\\site-packages\\sklearn\\linear_model\\logistic.py:1297: UserWarning: 'n_jobs' > 1 does not have any effect when 'solver' is set to 'liblinear'. Got 'n_jobs' = 6.\n",
      "  \" = {}.\".format(effective_n_jobs(self.n_jobs)))\n"
     ]
    },
    {
     "name": "stdout",
     "output_type": "stream",
     "text": [
      "accuracy: 0.9636277480219986\n",
      "precision: 0.9990576331713124\n",
      "recall: 0.9606390588983388\n",
      "f1: 0.9794717605011711\n",
      "accuracy: 0.9599678364252484\n",
      "precision: 0.997752363323858\n",
      "recall: 0.9579207920792079\n",
      "f1: 0.9774309490658291\n",
      "max_features=2000, class_wight=balanced 执行完成\n"
     ]
    },
    {
     "data": {
      "image/png": "[encoded data removed]",
      "text/plain": [
       "<Figure size 720x720 with 1 Axes>"
      ]
     },
     "metadata": {
      "needs_background": "light"
     },
     "output_type": "display_data"
    }
   ],
   "source": [
    "score_list = []\n",
    "class_weights = [{0: 0.9, 1: 0.1}, {0: 0.8, 1: 0.2}, {0: 0.7, 1: 0.3}, {0: 0.6, 1: 0.5}, {0:0.5, 1: 0.5}, 'balanced']\n",
    "for i, class_weight in enumerate(class_weights):\n",
    "    score_list.append(get_score_from_varying_parameters(class_weight=class_weight))\n",
    "    class_weights[i] = str(class_weight)\n",
    "    \n",
    "train_accuracy = np.empty(len(score_list))\n",
    "train_precision = np.empty(len(score_list))\n",
    "train_recall = np.empty(len(score_list))\n",
    "train_f1 = np.empty(len(score_list))\n",
    "\n",
    "test_accuracy = np.empty(len(score_list))\n",
    "test_precision = np.empty(len(score_list))\n",
    "test_recall = np.empty(len(score_list))\n",
    "test_f1 = np.empty(len(score_list))\n",
    " \n",
    "for i,k in enumerate(score_list):\n",
    "    train_accuracy[i] = k[0]\n",
    "    train_precision[i] = k[1]\n",
    "    train_recall[i] = k[2]\n",
    "    train_f1[i] = k[3]\n",
    "\n",
    "    test_accuracy[i] = k[4]\n",
    "    test_precision[i] = k[5]\n",
    "    test_recall[i] = k[6]\n",
    "    test_f1[i] = k[7]\n",
    "\n",
    "\n",
    "plt.figure(figsize=(10,10))\n",
    "plt.title('LogisticRegression Varying class-weight')\n",
    "plt.plot(class_weights, train_accuracy, label='train_accuracy')\n",
    "plt.plot(class_weights, train_precision, label='train_precision')\n",
    "plt.plot(class_weights, train_recall, label='train_recall')\n",
    "plt.plot(class_weights, train_f1, label='train_f1')\n",
    "plt.plot(class_weights, test_accuracy, '--', label='test_accuracy')\n",
    "plt.plot(class_weights, test_precision, '--', label='test_precision')\n",
    "plt.plot(class_weights, test_recall, '--', label='test_recall')\n",
    "plt.plot(class_weights, test_f1, '--', label='test_f1')\n",
    "plt.legend()\n",
    "plt.xlabel('class-weight')\n",
    "plt.ylabel('Accuracy')\n",
    "plt.show()"
   ]
  },
  {
   "cell_type": "markdown",
   "metadata": {},
   "source": [
    "- 根据acc和f1选择{0: 0.7, 1: 0.3}"
   ]
  },
  {
   "cell_type": "code",
   "execution_count": 58,
   "metadata": {},
   "outputs": [
    {
     "name": "stderr",
     "output_type": "stream",
     "text": [
      "C:\\Users\\Ryan Wu\\Anaconda3\\lib\\site-packages\\sklearn\\linear_model\\logistic.py:433: FutureWarning: Default solver will be changed to 'lbfgs' in 0.22. Specify a solver to silence this warning.\n",
      "  FutureWarning)\n",
      "C:\\Users\\Ryan Wu\\Anaconda3\\lib\\site-packages\\sklearn\\linear_model\\logistic.py:1297: UserWarning: 'n_jobs' > 1 does not have any effect when 'solver' is set to 'liblinear'. Got 'n_jobs' = 6.\n",
      "  \" = {}.\".format(effective_n_jobs(self.n_jobs)))\n"
     ]
    },
    {
     "data": {
      "text/plain": [
       "LogisticRegression(C=1.0, class_weight={0: 0.7, 1: 0.3}, dual=False,\n",
       "          fit_intercept=True, intercept_scaling=1, max_iter=100,\n",
       "          multi_class='warn', n_jobs=-1, penalty='l2', random_state=None,\n",
       "          solver='warn', tol=0.0001, verbose=0, warm_start=False)"
      ]
     },
     "execution_count": 58,
     "metadata": {},
     "output_type": "execute_result"
    }
   ],
   "source": [
    "clf = LogisticRegression(n_jobs=-1, class_weight={0: 0.7, 1: 0.3})\n",
    "clf.fit(X_tr_arr, y_tr_arr)"
   ]
  },
  {
   "cell_type": "code",
   "execution_count": 59,
   "metadata": {},
   "outputs": [],
   "source": [
    "y_pred = clf.predict(X.toarray())"
   ]
  },
  {
   "cell_type": "code",
   "execution_count": 60,
   "metadata": {},
   "outputs": [],
   "source": [
    "df_y_pred = pd.DataFrame(y_pred, columns=['y_pred'], dtype='object')"
   ]
  },
  {
   "cell_type": "code",
   "execution_count": 61,
   "metadata": {},
   "outputs": [],
   "source": [
    "df_y_fact = pd.DataFrame(df, columns=['y'])"
   ]
  },
  {
   "cell_type": "code",
   "execution_count": 62,
   "metadata": {},
   "outputs": [],
   "source": [
    "df_pred_and_fact = pd.concat([df_y_pred, df_y_fact], axis=1)"
   ]
  },
  {
   "cell_type": "code",
   "execution_count": 63,
   "metadata": {},
   "outputs": [
    {
     "name": "stdout",
     "output_type": "stream",
     "text": [
      "<class 'pandas.core.frame.DataFrame'>\n",
      "Int64Index: 89611 entries, 0 to 89610\n",
      "Data columns (total 2 columns):\n",
      "y_pred    87052 non-null object\n",
      "y         87052 non-null object\n",
      "dtypes: object(2)\n",
      "memory usage: 2.1+ MB\n"
     ]
    }
   ],
   "source": [
    "df_pred_and_fact.info()"
   ]
  },
  {
   "cell_type": "code",
   "execution_count": 64,
   "metadata": {},
   "outputs": [
    {
     "data": {
      "text/html": [
       "<div>\n",
       "<style scoped>\n",
       "    .dataframe tbody tr th:only-of-type {\n",
       "        vertical-align: middle;\n",
       "    }\n",
       "\n",
       "    .dataframe tbody tr th {\n",
       "        vertical-align: top;\n",
       "    }\n",
       "\n",
       "    .dataframe thead th {\n",
       "        text-align: right;\n",
       "    }\n",
       "</style>\n",
       "<table border=\"1\" class=\"dataframe\">\n",
       "  <thead>\n",
       "    <tr style=\"text-align: right;\">\n",
       "      <th></th>\n",
       "      <th>y_pred</th>\n",
       "      <th>y</th>\n",
       "    </tr>\n",
       "  </thead>\n",
       "  <tbody>\n",
       "    <tr>\n",
       "      <th>0</th>\n",
       "      <td>0</td>\n",
       "      <td>0</td>\n",
       "    </tr>\n",
       "    <tr>\n",
       "      <th>1</th>\n",
       "      <td>0</td>\n",
       "      <td>0</td>\n",
       "    </tr>\n",
       "    <tr>\n",
       "      <th>2</th>\n",
       "      <td>0</td>\n",
       "      <td>0</td>\n",
       "    </tr>\n",
       "    <tr>\n",
       "      <th>3</th>\n",
       "      <td>1</td>\n",
       "      <td>1</td>\n",
       "    </tr>\n",
       "    <tr>\n",
       "      <th>4</th>\n",
       "      <td>0</td>\n",
       "      <td>0</td>\n",
       "    </tr>\n",
       "  </tbody>\n",
       "</table>\n",
       "</div>"
      ],
      "text/plain": [
       "  y_pred  y\n",
       "0      0  0\n",
       "1      0  0\n",
       "2      0  0\n",
       "3      1  1\n",
       "4      0  0"
      ]
     },
     "execution_count": 64,
     "metadata": {},
     "output_type": "execute_result"
    }
   ],
   "source": [
    "df_pred_and_fact.head()"
   ]
  },
  {
   "cell_type": "code",
   "execution_count": 68,
   "metadata": {
    "collapsed": true
   },
   "outputs": [
    {
     "ename": "MemoryError",
     "evalue": "",
     "output_type": "error",
     "traceback": [
      "\u001b[1;31m---------------------------------------------------------------------------\u001b[0m",
      "\u001b[1;31mMemoryError\u001b[0m                               Traceback (most recent call last)",
      "\u001b[1;32m<ipython-input-68-ff62754a41fa>\u001b[0m in \u001b[0;36m<module>\u001b[1;34m\u001b[0m\n\u001b[1;32m----> 1\u001b[1;33m \u001b[0mcandidate\u001b[0m \u001b[1;33m=\u001b[0m \u001b[0mdf_pred_and_fact\u001b[0m\u001b[1;33m[\u001b[0m\u001b[1;33m(\u001b[0m\u001b[0mdf_pred_and_fact\u001b[0m\u001b[1;33m.\u001b[0m\u001b[0my_pred\u001b[0m\u001b[1;33m==\u001b[0m\u001b[1;36m1\u001b[0m\u001b[1;33m)\u001b[0m\u001b[1;33m&\u001b[0m\u001b[1;33m(\u001b[0m\u001b[0mdf_pred_and_fact\u001b[0m\u001b[1;33m==\u001b[0m\u001b[1;36m0\u001b[0m\u001b[1;33m)\u001b[0m\u001b[1;33m]\u001b[0m\u001b[1;31m#.index.tolist()\u001b[0m\u001b[1;33m\u001b[0m\u001b[1;33m\u001b[0m\u001b[0m\n\u001b[0m",
      "\u001b[1;32m~\\Anaconda3\\lib\\site-packages\\pandas\\core\\ops.py\u001b[0m in \u001b[0;36mf\u001b[1;34m(self, other, axis, level, fill_value)\u001b[0m\n\u001b[0;32m   1552\u001b[0m             return _combine_series_frame(self, other, na_op,\n\u001b[0;32m   1553\u001b[0m                                          \u001b[0mfill_value\u001b[0m\u001b[1;33m=\u001b[0m\u001b[0mfill_value\u001b[0m\u001b[1;33m,\u001b[0m \u001b[0maxis\u001b[0m\u001b[1;33m=\u001b[0m\u001b[0maxis\u001b[0m\u001b[1;33m,\u001b[0m\u001b[1;33m\u001b[0m\u001b[1;33m\u001b[0m\u001b[0m\n\u001b[1;32m-> 1554\u001b[1;33m                                          level=level, try_cast=True)\n\u001b[0m\u001b[0;32m   1555\u001b[0m         \u001b[1;32melse\u001b[0m\u001b[1;33m:\u001b[0m\u001b[1;33m\u001b[0m\u001b[1;33m\u001b[0m\u001b[0m\n\u001b[0;32m   1556\u001b[0m             \u001b[1;32mif\u001b[0m \u001b[0mfill_value\u001b[0m \u001b[1;32mis\u001b[0m \u001b[1;32mnot\u001b[0m \u001b[1;32mNone\u001b[0m\u001b[1;33m:\u001b[0m\u001b[1;33m\u001b[0m\u001b[1;33m\u001b[0m\u001b[0m\n",
      "\u001b[1;32m~\\Anaconda3\\lib\\site-packages\\pandas\\core\\ops.py\u001b[0m in \u001b[0;36m_combine_series_frame\u001b[1;34m(self, other, func, fill_value, axis, level, try_cast)\u001b[0m\n\u001b[0;32m   1425\u001b[0m         \u001b[1;32melse\u001b[0m\u001b[1;33m:\u001b[0m\u001b[1;33m\u001b[0m\u001b[1;33m\u001b[0m\u001b[0m\n\u001b[0;32m   1426\u001b[0m             return self._combine_match_columns(other, func, level=level,\n\u001b[1;32m-> 1427\u001b[1;33m                                                try_cast=try_cast)\n\u001b[0m\u001b[0;32m   1428\u001b[0m     \u001b[1;32melse\u001b[0m\u001b[1;33m:\u001b[0m\u001b[1;33m\u001b[0m\u001b[1;33m\u001b[0m\u001b[0m\n\u001b[0;32m   1429\u001b[0m         \u001b[1;32mif\u001b[0m \u001b[1;32mnot\u001b[0m \u001b[0mlen\u001b[0m\u001b[1;33m(\u001b[0m\u001b[0mother\u001b[0m\u001b[1;33m)\u001b[0m\u001b[1;33m:\u001b[0m\u001b[1;33m\u001b[0m\u001b[1;33m\u001b[0m\u001b[0m\n",
      "\u001b[1;32m~\\Anaconda3\\lib\\site-packages\\pandas\\core\\frame.py\u001b[0m in \u001b[0;36m_combine_match_columns\u001b[1;34m(self, other, func, level, try_cast)\u001b[0m\n\u001b[0;32m   4767\u001b[0m     \u001b[1;32mdef\u001b[0m \u001b[0m_combine_match_columns\u001b[0m\u001b[1;33m(\u001b[0m\u001b[0mself\u001b[0m\u001b[1;33m,\u001b[0m \u001b[0mother\u001b[0m\u001b[1;33m,\u001b[0m \u001b[0mfunc\u001b[0m\u001b[1;33m,\u001b[0m \u001b[0mlevel\u001b[0m\u001b[1;33m=\u001b[0m\u001b[1;32mNone\u001b[0m\u001b[1;33m,\u001b[0m \u001b[0mtry_cast\u001b[0m\u001b[1;33m=\u001b[0m\u001b[1;32mTrue\u001b[0m\u001b[1;33m)\u001b[0m\u001b[1;33m:\u001b[0m\u001b[1;33m\u001b[0m\u001b[1;33m\u001b[0m\u001b[0m\n\u001b[0;32m   4768\u001b[0m         left, right = self.align(other, join='outer', axis=1, level=level,\n\u001b[1;32m-> 4769\u001b[1;33m                                  copy=False)\n\u001b[0m\u001b[0;32m   4770\u001b[0m \u001b[1;33m\u001b[0m\u001b[0m\n\u001b[0;32m   4771\u001b[0m         new_data = left._data.eval(func=func, other=right,\n",
      "\u001b[1;32m~\\Anaconda3\\lib\\site-packages\\pandas\\core\\frame.py\u001b[0m in \u001b[0;36malign\u001b[1;34m(self, other, join, axis, level, copy, fill_value, method, limit, fill_axis, broadcast_axis)\u001b[0m\n\u001b[0;32m   3548\u001b[0m                                             \u001b[0mmethod\u001b[0m\u001b[1;33m=\u001b[0m\u001b[0mmethod\u001b[0m\u001b[1;33m,\u001b[0m \u001b[0mlimit\u001b[0m\u001b[1;33m=\u001b[0m\u001b[0mlimit\u001b[0m\u001b[1;33m,\u001b[0m\u001b[1;33m\u001b[0m\u001b[1;33m\u001b[0m\u001b[0m\n\u001b[0;32m   3549\u001b[0m                                             \u001b[0mfill_axis\u001b[0m\u001b[1;33m=\u001b[0m\u001b[0mfill_axis\u001b[0m\u001b[1;33m,\u001b[0m\u001b[1;33m\u001b[0m\u001b[1;33m\u001b[0m\u001b[0m\n\u001b[1;32m-> 3550\u001b[1;33m                                             broadcast_axis=broadcast_axis)\n\u001b[0m\u001b[0;32m   3551\u001b[0m \u001b[1;33m\u001b[0m\u001b[0m\n\u001b[0;32m   3552\u001b[0m     \u001b[1;33m@\u001b[0m\u001b[0mAppender\u001b[0m\u001b[1;33m(\u001b[0m\u001b[0m_shared_docs\u001b[0m\u001b[1;33m[\u001b[0m\u001b[1;34m'reindex'\u001b[0m\u001b[1;33m]\u001b[0m \u001b[1;33m%\u001b[0m \u001b[0m_shared_doc_kwargs\u001b[0m\u001b[1;33m)\u001b[0m\u001b[1;33m\u001b[0m\u001b[1;33m\u001b[0m\u001b[0m\n",
      "\u001b[1;32m~\\Anaconda3\\lib\\site-packages\\pandas\\core\\generic.py\u001b[0m in \u001b[0;36malign\u001b[1;34m(self, other, join, axis, level, copy, fill_value, method, limit, fill_axis, broadcast_axis)\u001b[0m\n\u001b[0;32m   7370\u001b[0m                                       \u001b[0mcopy\u001b[0m\u001b[1;33m=\u001b[0m\u001b[0mcopy\u001b[0m\u001b[1;33m,\u001b[0m \u001b[0mfill_value\u001b[0m\u001b[1;33m=\u001b[0m\u001b[0mfill_value\u001b[0m\u001b[1;33m,\u001b[0m\u001b[1;33m\u001b[0m\u001b[1;33m\u001b[0m\u001b[0m\n\u001b[0;32m   7371\u001b[0m                                       \u001b[0mmethod\u001b[0m\u001b[1;33m=\u001b[0m\u001b[0mmethod\u001b[0m\u001b[1;33m,\u001b[0m \u001b[0mlimit\u001b[0m\u001b[1;33m=\u001b[0m\u001b[0mlimit\u001b[0m\u001b[1;33m,\u001b[0m\u001b[1;33m\u001b[0m\u001b[1;33m\u001b[0m\u001b[0m\n\u001b[1;32m-> 7372\u001b[1;33m                                       fill_axis=fill_axis)\n\u001b[0m\u001b[0;32m   7373\u001b[0m         \u001b[1;32melse\u001b[0m\u001b[1;33m:\u001b[0m  \u001b[1;31m# pragma: no cover\u001b[0m\u001b[1;33m\u001b[0m\u001b[1;33m\u001b[0m\u001b[0m\n\u001b[0;32m   7374\u001b[0m             \u001b[1;32mraise\u001b[0m \u001b[0mTypeError\u001b[0m\u001b[1;33m(\u001b[0m\u001b[1;34m'unsupported type: %s'\u001b[0m \u001b[1;33m%\u001b[0m \u001b[0mtype\u001b[0m\u001b[1;33m(\u001b[0m\u001b[0mother\u001b[0m\u001b[1;33m)\u001b[0m\u001b[1;33m)\u001b[0m\u001b[1;33m\u001b[0m\u001b[1;33m\u001b[0m\u001b[0m\n",
      "\u001b[1;32m~\\Anaconda3\\lib\\site-packages\\pandas\\core\\generic.py\u001b[0m in \u001b[0;36m_align_series\u001b[1;34m(self, other, join, axis, level, copy, fill_value, method, limit, fill_axis)\u001b[0m\n\u001b[0;32m   7467\u001b[0m \u001b[1;33m\u001b[0m\u001b[0m\n\u001b[0;32m   7468\u001b[0m                 \u001b[1;32mif\u001b[0m \u001b[0mlidx\u001b[0m \u001b[1;32mis\u001b[0m \u001b[1;32mnot\u001b[0m \u001b[1;32mNone\u001b[0m\u001b[1;33m:\u001b[0m\u001b[1;33m\u001b[0m\u001b[1;33m\u001b[0m\u001b[0m\n\u001b[1;32m-> 7469\u001b[1;33m                     \u001b[0mfdata\u001b[0m \u001b[1;33m=\u001b[0m \u001b[0mfdata\u001b[0m\u001b[1;33m.\u001b[0m\u001b[0mreindex_indexer\u001b[0m\u001b[1;33m(\u001b[0m\u001b[0mjoin_index\u001b[0m\u001b[1;33m,\u001b[0m \u001b[0mlidx\u001b[0m\u001b[1;33m,\u001b[0m \u001b[0maxis\u001b[0m\u001b[1;33m=\u001b[0m\u001b[1;36m0\u001b[0m\u001b[1;33m)\u001b[0m\u001b[1;33m\u001b[0m\u001b[1;33m\u001b[0m\u001b[0m\n\u001b[0m\u001b[0;32m   7470\u001b[0m             \u001b[1;32melse\u001b[0m\u001b[1;33m:\u001b[0m\u001b[1;33m\u001b[0m\u001b[1;33m\u001b[0m\u001b[0m\n\u001b[0;32m   7471\u001b[0m                 \u001b[1;32mraise\u001b[0m \u001b[0mValueError\u001b[0m\u001b[1;33m(\u001b[0m\u001b[1;34m'Must specify axis=0 or 1'\u001b[0m\u001b[1;33m)\u001b[0m\u001b[1;33m\u001b[0m\u001b[1;33m\u001b[0m\u001b[0m\n",
      "\u001b[1;32m~\\Anaconda3\\lib\\site-packages\\pandas\\core\\internals.py\u001b[0m in \u001b[0;36mreindex_indexer\u001b[1;34m(self, new_axis, indexer, axis, fill_value, allow_dups, copy)\u001b[0m\n\u001b[0;32m   4419\u001b[0m         \u001b[1;32mif\u001b[0m \u001b[0maxis\u001b[0m \u001b[1;33m==\u001b[0m \u001b[1;36m0\u001b[0m\u001b[1;33m:\u001b[0m\u001b[1;33m\u001b[0m\u001b[1;33m\u001b[0m\u001b[0m\n\u001b[0;32m   4420\u001b[0m             new_blocks = self._slice_take_blocks_ax0(indexer,\n\u001b[1;32m-> 4421\u001b[1;33m                                                      fill_tuple=(fill_value,))\n\u001b[0m\u001b[0;32m   4422\u001b[0m         \u001b[1;32melse\u001b[0m\u001b[1;33m:\u001b[0m\u001b[1;33m\u001b[0m\u001b[1;33m\u001b[0m\u001b[0m\n\u001b[0;32m   4423\u001b[0m             new_blocks = [blk.take_nd(indexer, axis=axis, fill_tuple=(\n",
      "\u001b[1;32m~\\Anaconda3\\lib\\site-packages\\pandas\\core\\internals.py\u001b[0m in \u001b[0;36m_slice_take_blocks_ax0\u001b[1;34m(self, slice_or_indexer, fill_tuple)\u001b[0m\n\u001b[0;32m   4482\u001b[0m \u001b[1;33m\u001b[0m\u001b[0m\n\u001b[0;32m   4483\u001b[0m                 blocks.append(self._make_na_block(placement=mgr_locs,\n\u001b[1;32m-> 4484\u001b[1;33m                                                   fill_value=fill_value))\n\u001b[0m\u001b[0;32m   4485\u001b[0m             \u001b[1;32melse\u001b[0m\u001b[1;33m:\u001b[0m\u001b[1;33m\u001b[0m\u001b[1;33m\u001b[0m\u001b[0m\n\u001b[0;32m   4486\u001b[0m                 \u001b[0mblk\u001b[0m \u001b[1;33m=\u001b[0m \u001b[0mself\u001b[0m\u001b[1;33m.\u001b[0m\u001b[0mblocks\u001b[0m\u001b[1;33m[\u001b[0m\u001b[0mblkno\u001b[0m\u001b[1;33m]\u001b[0m\u001b[1;33m\u001b[0m\u001b[1;33m\u001b[0m\u001b[0m\n",
      "\u001b[1;32m~\\Anaconda3\\lib\\site-packages\\pandas\\core\\internals.py\u001b[0m in \u001b[0;36m_make_na_block\u001b[1;34m(self, placement, fill_value)\u001b[0m\n\u001b[0;32m   4512\u001b[0m \u001b[1;33m\u001b[0m\u001b[0m\n\u001b[0;32m   4513\u001b[0m         \u001b[0mdtype\u001b[0m\u001b[1;33m,\u001b[0m \u001b[0mfill_value\u001b[0m \u001b[1;33m=\u001b[0m \u001b[0minfer_dtype_from_scalar\u001b[0m\u001b[1;33m(\u001b[0m\u001b[0mfill_value\u001b[0m\u001b[1;33m)\u001b[0m\u001b[1;33m\u001b[0m\u001b[1;33m\u001b[0m\u001b[0m\n\u001b[1;32m-> 4514\u001b[1;33m         \u001b[0mblock_values\u001b[0m \u001b[1;33m=\u001b[0m \u001b[0mnp\u001b[0m\u001b[1;33m.\u001b[0m\u001b[0mempty\u001b[0m\u001b[1;33m(\u001b[0m\u001b[0mblock_shape\u001b[0m\u001b[1;33m,\u001b[0m \u001b[0mdtype\u001b[0m\u001b[1;33m=\u001b[0m\u001b[0mdtype\u001b[0m\u001b[1;33m)\u001b[0m\u001b[1;33m\u001b[0m\u001b[1;33m\u001b[0m\u001b[0m\n\u001b[0m\u001b[0;32m   4515\u001b[0m         \u001b[0mblock_values\u001b[0m\u001b[1;33m.\u001b[0m\u001b[0mfill\u001b[0m\u001b[1;33m(\u001b[0m\u001b[0mfill_value\u001b[0m\u001b[1;33m)\u001b[0m\u001b[1;33m\u001b[0m\u001b[1;33m\u001b[0m\u001b[0m\n\u001b[0;32m   4516\u001b[0m         \u001b[1;32mreturn\u001b[0m \u001b[0mmake_block\u001b[0m\u001b[1;33m(\u001b[0m\u001b[0mblock_values\u001b[0m\u001b[1;33m,\u001b[0m \u001b[0mplacement\u001b[0m\u001b[1;33m=\u001b[0m\u001b[0mplacement\u001b[0m\u001b[1;33m)\u001b[0m\u001b[1;33m\u001b[0m\u001b[1;33m\u001b[0m\u001b[0m\n",
      "\u001b[1;31mMemoryError\u001b[0m: "
     ]
    }
   ],
   "source": [
    "candidate = df_pred_and_fact[(df_pred_and_fact.y_pred==1)&(df_pred_and_fact==0)].index.tolist()"
   ]
  },
  {
   "cell_type": "code",
   "execution_count": 80,
   "metadata": {
    "scrolled": false
   },
   "outputs": [],
   "source": [
    "candidate_LogisticRegression = []\n",
    "for i, y in enumerate(zip(df_pred_and_fact['y_pred'], df_pred_and_fact['y'])):\n",
    "    if y[0] == 1 and y[1] == 0:\n",
    "        candidate.append(i)"
   ]
  },
  {
   "cell_type": "code",
   "execution_count": 81,
   "metadata": {},
   "outputs": [
    {
     "data": {
      "text/plain": [
       "[]"
      ]
     },
     "execution_count": 81,
     "metadata": {},
     "output_type": "execute_result"
    }
   ],
   "source": [
    "candidate_LogisticRegression"
   ]
  },
  {
   "cell_type": "code",
   "execution_count": 74,
   "metadata": {
    "collapsed": true
   },
   "outputs": [
    {
     "data": {
      "text/plain": [
       "1425"
      ]
     },
     "execution_count": 74,
     "metadata": {},
     "output_type": "execute_result"
    }
   ],
   "source": [
    "len(candidate_LogisticRegression)"
   ]
  },
  {
   "cell_type": "markdown",
   "metadata": {},
   "source": [
    "### SVM"
   ]
  },
  {
   "cell_type": "code",
   "execution_count": 22,
   "metadata": {},
   "outputs": [],
   "source": [
    "from sklearn.svm import SVC"
   ]
  },
  {
   "cell_type": "code",
   "execution_count": 23,
   "metadata": {},
   "outputs": [],
   "source": [
    "y = df['y']"
   ]
  },
  {
   "cell_type": "code",
   "execution_count": 24,
   "metadata": {},
   "outputs": [],
   "source": [
    "def get_score_from_varying_parameters(max_features):\n",
    "    vectorizer = TfidfVectorizer(max_features=max_features)\n",
    "    X = vectorizer.fit_transform(corpus)\n",
    "    X_train, X_test, y_train, y_test = train_test_split(X, y, test_size=0.2, random_state=42)\n",
    "    \n",
    "    X_tr_arr = X_train.toarray()\n",
    "    X_ts_arr = X_test.toarray()\n",
    "    y_tr_arr = np.array(y_train, dtype='int')\n",
    "    y_ts_arr = np.array(y_test, dtype='int')\n",
    "    \n",
    "    clf = SVC(gamma='auto')\n",
    "    clf.fit(X_tr_arr, y_tr_arr)\n",
    "    \n",
    "    y_tr_pred = clf.predict(X_tr_arr)\n",
    "    train_accuracy, train_precision, train_recall, train_f1 = get_F1(y_tr_pred, y_tr_arr)\n",
    "    y_ts_pred = clf.predict(X_ts_arr)\n",
    "    test_accuracy, test_precision, test_recall, test_f1 = get_F1(y_ts_pred, y_ts_arr)\n",
    "    \n",
    "    print('max_features=%s 执行完成' % (str(max_features)))\n",
    "    \n",
    "    return train_accuracy, train_precision, train_recall, train_f1, test_accuracy, test_precision, test_recall, test_f1"
   ]
  },
  {
   "cell_type": "code",
   "execution_count": 25,
   "metadata": {
    "scrolled": false
   },
   "outputs": [
    {
     "name": "stdout",
     "output_type": "stream",
     "text": [
      "accuracy: 0.9408394480263064\n",
      "precision: 0.9423184000240779\n",
      "recall: 0.9954375645815118\n",
      "f1: 0.9681499118711152\n",
      "accuracy: 0.9418183906725633\n",
      "precision: 0.943131950706342\n",
      "recall: 0.9957476516882457\n",
      "f1: 0.9687258806458584\n",
      "max_features=100 执行完成\n",
      "accuracy: 0.905242601341164\n",
      "precision: 0.9050674800725159\n",
      "recall: 0.9999841030124791\n",
      "f1: 0.950161245251384\n",
      "accuracy: 0.9067830681752915\n",
      "precision: 0.9066114275850164\n",
      "recall: 1.0\n",
      "f1: 0.9510185604345858\n",
      "max_features=200 执行完成\n",
      "accuracy: 0.903275369394466\n",
      "precision: 0.903275369394466\n",
      "recall: 1.0\n",
      "f1: 0.949179907352919\n",
      "accuracy: 0.9049451496180575\n",
      "precision: 0.9049451496180575\n",
      "recall: 1.0\n",
      "f1: 0.9501010040100099\n",
      "max_features=300 执行完成\n",
      "accuracy: 0.903275369394466\n",
      "precision: 0.903275369394466\n",
      "recall: 1.0\n",
      "f1: 0.949179907352919\n",
      "accuracy: 0.9049451496180575\n",
      "precision: 0.9049451496180575\n",
      "recall: 1.0\n",
      "f1: 0.9501010040100099\n",
      "max_features=400 执行完成\n",
      "accuracy: 0.903275369394466\n",
      "precision: 0.903275369394466\n",
      "recall: 1.0\n",
      "f1: 0.949179907352919\n",
      "accuracy: 0.9049451496180575\n",
      "precision: 0.9049451496180575\n",
      "recall: 1.0\n",
      "f1: 0.9501010040100099\n",
      "max_features=500 执行完成\n",
      "accuracy: 0.903275369394466\n",
      "precision: 0.903275369394466\n",
      "recall: 1.0\n",
      "f1: 0.949179907352919\n",
      "accuracy: 0.9049451496180575\n",
      "precision: 0.9049451496180575\n",
      "recall: 1.0\n",
      "f1: 0.9501010040100099\n",
      "max_features=600 执行完成\n",
      "accuracy: 0.903275369394466\n",
      "precision: 0.903275369394466\n",
      "recall: 1.0\n",
      "f1: 0.949179907352919\n",
      "accuracy: 0.9049451496180575\n",
      "precision: 0.9049451496180575\n",
      "recall: 1.0\n",
      "f1: 0.9501010040100099\n",
      "max_features=700 执行完成\n",
      "accuracy: 0.903275369394466\n",
      "precision: 0.903275369394466\n",
      "recall: 1.0\n",
      "f1: 0.949179907352919\n",
      "accuracy: 0.9049451496180575\n",
      "precision: 0.9049451496180575\n",
      "recall: 1.0\n",
      "f1: 0.9501010040100099\n",
      "max_features=800 执行完成\n",
      "accuracy: 0.903275369394466\n",
      "precision: 0.903275369394466\n",
      "recall: 1.0\n",
      "f1: 0.949179907352919\n",
      "accuracy: 0.9049451496180575\n",
      "precision: 0.9049451496180575\n",
      "recall: 1.0\n",
      "f1: 0.9501010040100099\n",
      "max_features=900 执行完成\n"
     ]
    }
   ],
   "source": [
    "score_list = []\n",
    "for max_features in range(100, 1000, 100):\n",
    "    score_list.append(get_score_from_varying_parameters(max_features=max_features))"
   ]
  },
  {
   "cell_type": "code",
   "execution_count": 27,
   "metadata": {},
   "outputs": [
    {
     "data": {
      "image/png": "[encoded data removed]",
      "text/plain": [
       "<Figure size 720x720 with 1 Axes>"
      ]
     },
     "metadata": {
      "needs_background": "light"
     },
     "output_type": "display_data"
    }
   ],
   "source": [
    "import matplotlib.pyplot as plt\n",
    "max_features = range(100, 1000, 100)\n",
    "train_accuracy = np.empty(len(score_list))\n",
    "train_precision = np.empty(len(score_list))\n",
    "train_recall = np.empty(len(score_list))\n",
    "train_f1 = np.empty(len(score_list))\n",
    "\n",
    "test_accuracy = np.empty(len(score_list))\n",
    "test_precision = np.empty(len(score_list))\n",
    "test_recall = np.empty(len(score_list))\n",
    "test_f1 = np.empty(len(score_list))\n",
    " \n",
    "for i,k in enumerate(score_list):\n",
    "    train_accuracy[i] = k[0]\n",
    "    train_precision[i] = k[1]\n",
    "    train_recall[i] = k[2]\n",
    "    train_f1[i] = k[3]\n",
    "\n",
    "    test_accuracy[i] = k[4]\n",
    "    test_precision[i] = k[5]\n",
    "    test_recall[i] = k[6]\n",
    "    test_f1[i] = k[7]\n",
    " \n",
    "plt.figure(figsize=(10,10))\n",
    "plt.title('SVM Varying max_features of TfidfVectorizer')\n",
    "\n",
    "plt.plot(max_features, train_accuracy, label='train_accuracy')\n",
    "plt.plot(max_features, train_precision, label='train_precision')\n",
    "plt.plot(max_features, train_recall, label='train_recall')\n",
    "plt.plot(max_features, train_f1, label='train_f1')\n",
    "plt.plot(max_features, test_accuracy, '--', label='test_accuracy')\n",
    "plt.plot(max_features, test_precision, '--', label='test_precision')\n",
    "plt.plot(max_features, test_recall, '--', label='test_recall')\n",
    "plt.plot(max_features, test_f1, '--', label='test_f1')\n",
    "\n",
    "plt.legend()\n",
    "plt.xlabel('Number of max_features')\n",
    "plt.ylabel('Accuracy')\n",
    "plt.show()"
   ]
  },
  {
   "cell_type": "code",
   "execution_count": 32,
   "metadata": {},
   "outputs": [],
   "source": [
    "vectorizer = TfidfVectorizer(max_features=1000)\n",
    "X = vectorizer.fit_transform(corpus)\n",
    "X_train, X_test, y_train, y_test = train_test_split(X, y, test_size=0.2, random_state=42)\n",
    "\n",
    "X_tr_arr = X_train.toarray()\n",
    "X_ts_arr = X_test.toarray()\n",
    "y_tr_arr = np.array(y_train, dtype='int')\n",
    "y_ts_arr = np.array(y_test, dtype='int')"
   ]
  },
  {
   "cell_type": "code",
   "execution_count": 45,
   "metadata": {},
   "outputs": [],
   "source": [
    "def get_score_from_varying_parameters(C, class_weight, kernel):    \n",
    "    clf = SVC(gamma='auto', C=C, class_weight=class_weight, kernel = kernel)\n",
    "    clf.fit(X_tr_arr, y_tr_arr)\n",
    "    \n",
    "    y_tr_pred = clf.predict(X_tr_arr)\n",
    "    train_accuracy, train_precision, train_recall, train_f1 = get_F1(y_tr_pred, y_tr_arr)\n",
    "    y_ts_pred = clf.predict(X_ts_arr)\n",
    "    test_accuracy, test_precision, test_recall, test_f1 = get_F1(y_ts_pred, y_ts_arr)\n",
    "    \n",
    "    print('max_features=1000, C=%s, class_weight=%s, kernel=%s 执行完成' % (str(C), str(class_weight), str(kernel)))\n",
    "    \n",
    "    return train_accuracy, train_precision, train_recall, train_f1, test_accuracy, test_precision, test_recall, test_f1"
   ]
  },
  {
   "cell_type": "code",
   "execution_count": 36,
   "metadata": {
    "scrolled": true
   },
   "outputs": [
    {
     "name": "stdout",
     "output_type": "stream",
     "text": [
      "accuracy: 0.903275369394466\n",
      "precision: 0.903275369394466\n",
      "recall: 1.0\n",
      "f1: 0.949179907352919\n",
      "accuracy: 0.9049451496180575\n",
      "precision: 0.9049451496180575\n",
      "recall: 1.0\n",
      "f1: 0.9501010040100099\n",
      "max_features=100, C=1 执行完成\n",
      "accuracy: 0.9139730905644663\n",
      "precision: 0.9131507883504166\n",
      "recall: 0.9998569271123122\n",
      "f1: 0.9545389010722172\n",
      "accuracy: 0.9142496123140543\n",
      "precision: 0.9138761534443736\n",
      "recall: 0.9994287890327495\n",
      "f1: 0.9547397459605298\n",
      "max_features=100, C=10 执行完成\n",
      "accuracy: 0.9780589020835427\n",
      "precision: 0.9804913181668728\n",
      "recall: 0.9955170495191161\n",
      "f1: 0.9879470553899065\n",
      "accuracy: 0.9759921888461317\n",
      "precision: 0.9793125\n",
      "recall: 0.9944782939832445\n",
      "f1: 0.986837133140194\n",
      "max_features=100, C=100 执行完成\n",
      "accuracy: 0.9909679642739191\n",
      "precision: 0.994065752729119\n",
      "recall: 0.9959462681821795\n",
      "f1: 0.995005121933788\n",
      "accuracy: 0.9882258342427201\n",
      "precision: 0.9927752075543443\n",
      "recall: 0.9942244224422442\n",
      "f1: 0.9934992865070555\n",
      "max_features=100, C=1000 执行完成\n",
      "accuracy: 0.9921741502850332\n",
      "precision: 0.9951249722107537\n",
      "recall: 0.9962165169700342\n",
      "f1: 0.9956704454277521\n",
      "accuracy: 0.989546838205732\n",
      "precision: 0.9938483003551497\n",
      "recall: 0.9946052297537447\n",
      "f1: 0.9942266209871844\n",
      "max_features=100, C=2000 执行完成\n",
      "accuracy: 0.9927198058614897\n",
      "precision: 0.9953637547235719\n",
      "recall: 0.9965821476830141\n",
      "f1: 0.9959725785823795\n",
      "accuracy: 0.9894894032508185\n",
      "precision: 0.9938479101921736\n",
      "recall: 0.9945417618684945\n",
      "f1: 0.9941947149700219\n",
      "max_features=100, C=3000 执行完成\n"
     ]
    }
   ],
   "source": [
    "score_list = []\n",
    "for C in [1, 10, 100, 1000, 2000, 3000]:\n",
    "    score_list.append(get_score_from_varying_parameters(C=C))"
   ]
  },
  {
   "cell_type": "code",
   "execution_count": 37,
   "metadata": {},
   "outputs": [
    {
     "data": {
      "image/png": "[encoded data removed]",
      "text/plain": [
       "<Figure size 720x720 with 1 Axes>"
      ]
     },
     "metadata": {
      "needs_background": "light"
     },
     "output_type": "display_data"
    }
   ],
   "source": [
    "C = [1, 10, 100, 1000, 2000, 3000]\n",
    "train_accuracy = np.empty(len(score_list))\n",
    "train_precision = np.empty(len(score_list))\n",
    "train_recall = np.empty(len(score_list))\n",
    "train_f1 = np.empty(len(score_list))\n",
    "\n",
    "test_accuracy = np.empty(len(score_list))\n",
    "test_precision = np.empty(len(score_list))\n",
    "test_recall = np.empty(len(score_list))\n",
    "test_f1 = np.empty(len(score_list))\n",
    " \n",
    "for i,k in enumerate(score_list):\n",
    "    train_accuracy[i] = k[0]\n",
    "    train_precision[i] = k[1]\n",
    "    train_recall[i] = k[2]\n",
    "    train_f1[i] = k[3]\n",
    "\n",
    "    test_accuracy[i] = k[4]\n",
    "    test_precision[i] = k[5]\n",
    "    test_recall[i] = k[6]\n",
    "    test_f1[i] = k[7]\n",
    " \n",
    "plt.figure(figsize=(10,10))\n",
    "plt.title('SVM Varying C')\n",
    "\n",
    "plt.plot(C, train_accuracy, label='train_accuracy')\n",
    "plt.plot(C, train_precision, label='train_precision')\n",
    "plt.plot(C, train_recall, label='train_recall')\n",
    "plt.plot(C, train_f1, label='train_f1')\n",
    "plt.plot(C, test_accuracy, '--', label='test_accuracy')\n",
    "plt.plot(C, test_precision, '--', label='test_precision')\n",
    "plt.plot(C, test_recall, '--', label='test_recall')\n",
    "plt.plot(C, test_f1, '--', label='test_f1')\n",
    "\n",
    "plt.legend()\n",
    "plt.xlabel('Number of C')\n",
    "plt.ylabel('Accuracy')\n",
    "plt.show()"
   ]
  },
  {
   "cell_type": "markdown",
   "metadata": {},
   "source": [
    "c = 1000"
   ]
  },
  {
   "cell_type": "code",
   "execution_count": 42,
   "metadata": {},
   "outputs": [
    {
     "name": "stdout",
     "output_type": "stream",
     "text": [
      "accuracy: 0.9660975574733275\n",
      "precision: 0.9983537468721191\n",
      "recall: 0.9640569112153247\n",
      "f1: 0.9809056280277235\n",
      "accuracy: 0.9654815920969502\n",
      "precision: 0.9978973651356856\n",
      "recall: 0.9638867732927139\n",
      "f1: 0.9805972558514932\n",
      "max_features=1000, C=1000, class_weight={0: 0.9, 1: 0.1} 执行完成\n",
      "accuracy: 0.982682615126147\n",
      "precision: 0.9973078845130817\n",
      "recall: 0.9834830299658215\n",
      "f1: 0.9903472122172597\n",
      "accuracy: 0.9799552007351674\n",
      "precision: 0.9963915200721696\n",
      "recall: 0.9814039096217314\n",
      "f1: 0.9888409272581935\n",
      "max_features=1000, C=1000, class_weight={0: 0.8, 1: 0.2} 执行完成\n",
      "accuracy: 0.9878376243879324\n",
      "precision: 0.9960830082496642\n",
      "recall: 0.9904300135124394\n",
      "f1: 0.9932484675535858\n",
      "accuracy: 0.9858135661363506\n",
      "precision: 0.9952736795043751\n",
      "recall: 0.989020055851739\n",
      "f1: 0.9921370133384267\n",
      "max_features=1000, C=1000, class_weight={0: 0.7, 1: 0.3} 执行完成\n",
      "accuracy: 0.9894171536882009\n",
      "precision: 0.9936789276411918\n",
      "recall: 0.9946109212304268\n",
      "f1: 0.9941447060038611\n",
      "accuracy: 0.9871345700993625\n",
      "precision: 0.9928915968519929\n",
      "recall: 0.9928915968519929\n",
      "f1: 0.9928915968519929\n",
      "max_features=1000, C=1000, class_weight={0: 0.6, 1: 0.5} 执行完成\n",
      "accuracy: 0.9890581697563217\n",
      "precision: 0.992643211618652\n",
      "recall: 0.9952626977187823\n",
      "f1: 0.9939512288054867\n",
      "accuracy: 0.9868473953247947\n",
      "precision: 0.9916408080552214\n",
      "recall: 0.9938436151307438\n",
      "f1: 0.9927409896345136\n",
      "max_features=1000, C=1000, class_weight={0: 0.5, 1: 0.5} 执行完成\n",
      "accuracy: 0.9793512442383079\n",
      "precision: 0.9985724250928735\n",
      "recall: 0.9785390668468326\n",
      "f1: 0.9884542505700613\n",
      "accuracy: 0.9764516684854403\n",
      "precision: 0.9974714730290456\n",
      "recall: 0.9764534145722265\n",
      "f1: 0.9868505452212957\n",
      "max_features=1000, C=1000, class_weight=balanced 执行完成\n"
     ]
    }
   ],
   "source": [
    "score_list = []\n",
    "class_weight = [{0: 0.9, 1: 0.1}, {0: 0.8, 1: 0.2}, {0: 0.7, 1: 0.3}, {0: 0.6, 1: 0.5}, {0:0.5, 1: 0.5}, 'balanced']\n",
    "for w in class_weights:\n",
    "    score_list.append(get_score_from_varying_parameters(C=1000, class_weight=w))"
   ]
  },
  {
   "cell_type": "code",
   "execution_count": 44,
   "metadata": {},
   "outputs": [
    {
     "data": {
      "image/png": "[encoded data removed]",
      "text/plain": [
       "<Figure size 720x720 with 1 Axes>"
      ]
     },
     "metadata": {
      "needs_background": "light"
     },
     "output_type": "display_data"
    }
   ],
   "source": [
    "\n",
    "class_weight = [str(w) for w in class_weight]\n",
    "train_accuracy = np.empty(len(score_list))\n",
    "train_precision = np.empty(len(score_list))\n",
    "train_recall = np.empty(len(score_list))\n",
    "train_f1 = np.empty(len(score_list))\n",
    "\n",
    "test_accuracy = np.empty(len(score_list))\n",
    "test_precision = np.empty(len(score_list))\n",
    "test_recall = np.empty(len(score_list))\n",
    "test_f1 = np.empty(len(score_list))\n",
    " \n",
    "for i,k in enumerate(score_list):\n",
    "    train_accuracy[i] = k[0]\n",
    "    train_precision[i] = k[1]\n",
    "    train_recall[i] = k[2]\n",
    "    train_f1[i] = k[3]\n",
    "\n",
    "    test_accuracy[i] = k[4]\n",
    "    test_precision[i] = k[5]\n",
    "    test_recall[i] = k[6]\n",
    "    test_f1[i] = k[7]\n",
    " \n",
    "plt.figure(figsize=(10,10))\n",
    "plt.title('SVM Varying class_weight')\n",
    "\n",
    "plt.plot(class_weight, train_accuracy, label='train_accuracy')\n",
    "plt.plot(class_weight, train_precision, label='train_precision')\n",
    "plt.plot(class_weight, train_recall, label='train_recall')\n",
    "plt.plot(class_weight, train_f1, label='train_f1')\n",
    "plt.plot(class_weight, test_accuracy, '--', label='test_accuracy')\n",
    "plt.plot(class_weight, test_precision, '--', label='test_precision')\n",
    "plt.plot(class_weight, test_recall, '--', label='test_recall')\n",
    "plt.plot(class_weight, test_f1, '--', label='test_f1')\n",
    "\n",
    "plt.legend()\n",
    "plt.xlabel('Number of class_weight')\n",
    "plt.ylabel('Accuracy')\n",
    "plt.show()"
   ]
  },
  {
   "cell_type": "markdown",
   "metadata": {},
   "source": [
    "class_weight = {0:0.5,1:0.5}"
   ]
  },
  {
   "cell_type": "code",
   "execution_count": 46,
   "metadata": {
    "scrolled": false
   },
   "outputs": [
    {
     "name": "stdout",
     "output_type": "stream",
     "text": [
      "accuracy: 0.9948737094527649\n",
      "precision: 0.9968227743534346\n",
      "recall: 0.9975041729592242\n",
      "f1: 0.9971633572501252\n",
      "accuracy: 0.9916719315375337\n",
      "precision: 0.9948019017432647\n",
      "recall: 0.996001523229246\n",
      "f1: 0.9954013510513463\n",
      "max_features=1000, C=1000, class_weight={0: 0.5, 1: 0.5}, kernel=linear 执行完成\n",
      "accuracy: 0.903275369394466\n",
      "precision: 0.903275369394466\n",
      "recall: 1.0\n",
      "f1: 0.949179907352919\n",
      "accuracy: 0.9049451496180575\n",
      "precision: 0.9049451496180575\n",
      "recall: 1.0\n",
      "f1: 0.9501010040100099\n",
      "max_features=1000, C=1000, class_weight={0: 0.5, 1: 0.5}, kernel=poly 执行完成\n",
      "accuracy: 0.9890581697563217\n",
      "precision: 0.992643211618652\n",
      "recall: 0.9952626977187823\n",
      "f1: 0.9939512288054867\n",
      "accuracy: 0.9868473953247947\n",
      "precision: 0.9916408080552214\n",
      "recall: 0.9938436151307438\n",
      "f1: 0.9927409896345136\n",
      "max_features=1000, C=1000, class_weight={0: 0.5, 1: 0.5}, kernel=rbf 执行完成\n",
      "accuracy: 0.9864304073749659\n",
      "precision: 0.989988295954196\n",
      "recall: 0.9950401398934902\n",
      "f1: 0.9925077895204192\n",
      "accuracy: 0.9842053873987708\n",
      "precision: 0.9882672049454362\n",
      "recall: 0.9943513582127443\n",
      "f1: 0.9912999462178493\n",
      "max_features=1000, C=1000, class_weight={0: 0.5, 1: 0.5}, kernel=sigmoid 执行完成\n"
     ]
    },
    {
     "ename": "ValueError",
     "evalue": "X.shape[0] should be equal to X.shape[1]",
     "output_type": "error",
     "traceback": [
      "\u001b[1;31m---------------------------------------------------------------------------\u001b[0m",
      "\u001b[1;31mValueError\u001b[0m                                Traceback (most recent call last)",
      "\u001b[1;32m<ipython-input-46-34a11e0a8713>\u001b[0m in \u001b[0;36m<module>\u001b[1;34m\u001b[0m\n\u001b[0;32m      2\u001b[0m \u001b[0mkernel\u001b[0m \u001b[1;33m=\u001b[0m \u001b[1;33m[\u001b[0m\u001b[1;34m'linear'\u001b[0m\u001b[1;33m,\u001b[0m \u001b[1;34m'poly'\u001b[0m\u001b[1;33m,\u001b[0m \u001b[1;34m'rbf'\u001b[0m\u001b[1;33m,\u001b[0m \u001b[1;34m'sigmoid'\u001b[0m\u001b[1;33m,\u001b[0m \u001b[1;34m'precomputed'\u001b[0m\u001b[1;33m]\u001b[0m\u001b[1;33m\u001b[0m\u001b[1;33m\u001b[0m\u001b[0m\n\u001b[0;32m      3\u001b[0m \u001b[1;32mfor\u001b[0m \u001b[0mk\u001b[0m \u001b[1;32min\u001b[0m \u001b[0mkernel\u001b[0m\u001b[1;33m:\u001b[0m\u001b[1;33m\u001b[0m\u001b[1;33m\u001b[0m\u001b[0m\n\u001b[1;32m----> 4\u001b[1;33m     \u001b[0mscore_list\u001b[0m\u001b[1;33m.\u001b[0m\u001b[0mappend\u001b[0m\u001b[1;33m(\u001b[0m\u001b[0mget_score_from_varying_parameters\u001b[0m\u001b[1;33m(\u001b[0m\u001b[0mC\u001b[0m\u001b[1;33m=\u001b[0m\u001b[1;36m1000\u001b[0m\u001b[1;33m,\u001b[0m \u001b[0mclass_weight\u001b[0m\u001b[1;33m=\u001b[0m\u001b[1;33m{\u001b[0m\u001b[1;36m0\u001b[0m\u001b[1;33m:\u001b[0m\u001b[1;36m0.5\u001b[0m\u001b[1;33m,\u001b[0m\u001b[1;36m1\u001b[0m\u001b[1;33m:\u001b[0m\u001b[1;36m0.5\u001b[0m\u001b[1;33m}\u001b[0m\u001b[1;33m,\u001b[0m \u001b[0mkernel\u001b[0m\u001b[1;33m=\u001b[0m\u001b[0mk\u001b[0m\u001b[1;33m)\u001b[0m\u001b[1;33m)\u001b[0m\u001b[1;33m\u001b[0m\u001b[1;33m\u001b[0m\u001b[0m\n\u001b[0m",
      "\u001b[1;32m<ipython-input-45-6dc9035f7803>\u001b[0m in \u001b[0;36mget_score_from_varying_parameters\u001b[1;34m(C, class_weight, kernel)\u001b[0m\n\u001b[0;32m      1\u001b[0m \u001b[1;32mdef\u001b[0m \u001b[0mget_score_from_varying_parameters\u001b[0m\u001b[1;33m(\u001b[0m\u001b[0mC\u001b[0m\u001b[1;33m,\u001b[0m \u001b[0mclass_weight\u001b[0m\u001b[1;33m,\u001b[0m \u001b[0mkernel\u001b[0m\u001b[1;33m)\u001b[0m\u001b[1;33m:\u001b[0m\u001b[1;33m\u001b[0m\u001b[1;33m\u001b[0m\u001b[0m\n\u001b[0;32m      2\u001b[0m     \u001b[0mclf\u001b[0m \u001b[1;33m=\u001b[0m \u001b[0mSVC\u001b[0m\u001b[1;33m(\u001b[0m\u001b[0mgamma\u001b[0m\u001b[1;33m=\u001b[0m\u001b[1;34m'auto'\u001b[0m\u001b[1;33m,\u001b[0m \u001b[0mC\u001b[0m\u001b[1;33m=\u001b[0m\u001b[0mC\u001b[0m\u001b[1;33m,\u001b[0m \u001b[0mclass_weight\u001b[0m\u001b[1;33m=\u001b[0m\u001b[0mclass_weight\u001b[0m\u001b[1;33m,\u001b[0m \u001b[0mkernel\u001b[0m \u001b[1;33m=\u001b[0m \u001b[0mkernel\u001b[0m\u001b[1;33m)\u001b[0m\u001b[1;33m\u001b[0m\u001b[1;33m\u001b[0m\u001b[0m\n\u001b[1;32m----> 3\u001b[1;33m     \u001b[0mclf\u001b[0m\u001b[1;33m.\u001b[0m\u001b[0mfit\u001b[0m\u001b[1;33m(\u001b[0m\u001b[0mX_tr_arr\u001b[0m\u001b[1;33m,\u001b[0m \u001b[0my_tr_arr\u001b[0m\u001b[1;33m)\u001b[0m\u001b[1;33m\u001b[0m\u001b[1;33m\u001b[0m\u001b[0m\n\u001b[0m\u001b[0;32m      4\u001b[0m \u001b[1;33m\u001b[0m\u001b[0m\n\u001b[0;32m      5\u001b[0m     \u001b[0my_tr_pred\u001b[0m \u001b[1;33m=\u001b[0m \u001b[0mclf\u001b[0m\u001b[1;33m.\u001b[0m\u001b[0mpredict\u001b[0m\u001b[1;33m(\u001b[0m\u001b[0mX_tr_arr\u001b[0m\u001b[1;33m)\u001b[0m\u001b[1;33m\u001b[0m\u001b[1;33m\u001b[0m\u001b[0m\n",
      "\u001b[1;32m~\\Anaconda3\\lib\\site-packages\\sklearn\\svm\\base.py\u001b[0m in \u001b[0;36mfit\u001b[1;34m(self, X, y, sample_weight)\u001b[0m\n\u001b[0;32m    162\u001b[0m \u001b[1;33m\u001b[0m\u001b[0m\n\u001b[0;32m    163\u001b[0m         \u001b[1;32mif\u001b[0m \u001b[0mself\u001b[0m\u001b[1;33m.\u001b[0m\u001b[0mkernel\u001b[0m \u001b[1;33m==\u001b[0m \u001b[1;34m\"precomputed\"\u001b[0m \u001b[1;32mand\u001b[0m \u001b[0mX\u001b[0m\u001b[1;33m.\u001b[0m\u001b[0mshape\u001b[0m\u001b[1;33m[\u001b[0m\u001b[1;36m0\u001b[0m\u001b[1;33m]\u001b[0m \u001b[1;33m!=\u001b[0m \u001b[0mX\u001b[0m\u001b[1;33m.\u001b[0m\u001b[0mshape\u001b[0m\u001b[1;33m[\u001b[0m\u001b[1;36m1\u001b[0m\u001b[1;33m]\u001b[0m\u001b[1;33m:\u001b[0m\u001b[1;33m\u001b[0m\u001b[1;33m\u001b[0m\u001b[0m\n\u001b[1;32m--> 164\u001b[1;33m             \u001b[1;32mraise\u001b[0m \u001b[0mValueError\u001b[0m\u001b[1;33m(\u001b[0m\u001b[1;34m\"X.shape[0] should be equal to X.shape[1]\"\u001b[0m\u001b[1;33m)\u001b[0m\u001b[1;33m\u001b[0m\u001b[1;33m\u001b[0m\u001b[0m\n\u001b[0m\u001b[0;32m    165\u001b[0m \u001b[1;33m\u001b[0m\u001b[0m\n\u001b[0;32m    166\u001b[0m         \u001b[1;32mif\u001b[0m \u001b[0msample_weight\u001b[0m\u001b[1;33m.\u001b[0m\u001b[0mshape\u001b[0m\u001b[1;33m[\u001b[0m\u001b[1;36m0\u001b[0m\u001b[1;33m]\u001b[0m \u001b[1;33m>\u001b[0m \u001b[1;36m0\u001b[0m \u001b[1;32mand\u001b[0m \u001b[0msample_weight\u001b[0m\u001b[1;33m.\u001b[0m\u001b[0mshape\u001b[0m\u001b[1;33m[\u001b[0m\u001b[1;36m0\u001b[0m\u001b[1;33m]\u001b[0m \u001b[1;33m!=\u001b[0m \u001b[0mX\u001b[0m\u001b[1;33m.\u001b[0m\u001b[0mshape\u001b[0m\u001b[1;33m[\u001b[0m\u001b[1;36m0\u001b[0m\u001b[1;33m]\u001b[0m\u001b[1;33m:\u001b[0m\u001b[1;33m\u001b[0m\u001b[1;33m\u001b[0m\u001b[0m\n",
      "\u001b[1;31mValueError\u001b[0m: X.shape[0] should be equal to X.shape[1]"
     ]
    }
   ],
   "source": [
    "score_list = []\n",
    "kernel = ['linear', 'poly', 'rbf', 'sigmoid', 'precomputed']\n",
    "for k in kernel:\n",
    "    score_list.append(get_score_from_varying_parameters(C=1000, class_weight={0:0.5,1:0.5}, kernel=k))"
   ]
  },
  {
   "cell_type": "code",
   "execution_count": 47,
   "metadata": {},
   "outputs": [
    {
     "data": {
      "text/plain": [
       "[(0.9948737094527649,\n",
       "  0.9968227743534346,\n",
       "  0.9975041729592242,\n",
       "  0.9971633572501252,\n",
       "  0.9916719315375337,\n",
       "  0.9948019017432647,\n",
       "  0.996001523229246,\n",
       "  0.9954013510513463),\n",
       " (0.903275369394466,\n",
       "  0.903275369394466,\n",
       "  1.0,\n",
       "  0.949179907352919,\n",
       "  0.9049451496180575,\n",
       "  0.9049451496180575,\n",
       "  1.0,\n",
       "  0.9501010040100099),\n",
       " (0.9890581697563217,\n",
       "  0.992643211618652,\n",
       "  0.9952626977187823,\n",
       "  0.9939512288054867,\n",
       "  0.9868473953247947,\n",
       "  0.9916408080552214,\n",
       "  0.9938436151307438,\n",
       "  0.9927409896345136),\n",
       " (0.9864304073749659,\n",
       "  0.989988295954196,\n",
       "  0.9950401398934902,\n",
       "  0.9925077895204192,\n",
       "  0.9842053873987708,\n",
       "  0.9882672049454362,\n",
       "  0.9943513582127443,\n",
       "  0.9912999462178493)]"
      ]
     },
     "execution_count": 47,
     "metadata": {},
     "output_type": "execute_result"
    }
   ],
   "source": [
    "score_list"
   ]
  },
  {
   "cell_type": "code",
   "execution_count": 48,
   "metadata": {},
   "outputs": [
    {
     "data": {
      "image/png": "[encoded data removed]",
      "text/plain": [
       "<Figure size 720x720 with 1 Axes>"
      ]
     },
     "metadata": {
      "needs_background": "light"
     },
     "output_type": "display_data"
    }
   ],
   "source": [
    "kernel = ['linear', 'poly', 'rbf', 'sigmoid']\n",
    "train_accuracy = np.empty(len(score_list))\n",
    "train_precision = np.empty(len(score_list))\n",
    "train_recall = np.empty(len(score_list))\n",
    "train_f1 = np.empty(len(score_list))\n",
    "\n",
    "test_accuracy = np.empty(len(score_list))\n",
    "test_precision = np.empty(len(score_list))\n",
    "test_recall = np.empty(len(score_list))\n",
    "test_f1 = np.empty(len(score_list))\n",
    " \n",
    "for i,k in enumerate(score_list):\n",
    "    train_accuracy[i] = k[0]\n",
    "    train_precision[i] = k[1]\n",
    "    train_recall[i] = k[2]\n",
    "    train_f1[i] = k[3]\n",
    "\n",
    "    test_accuracy[i] = k[4]\n",
    "    test_precision[i] = k[5]\n",
    "    test_recall[i] = k[6]\n",
    "    test_f1[i] = k[7]\n",
    " \n",
    "plt.figure(figsize=(10,10))\n",
    "plt.title('SVM Varying kernel')\n",
    "\n",
    "plt.plot(kernel, train_accuracy, label='train_accuracy')\n",
    "plt.plot(kernel, train_precision, label='train_precision')\n",
    "plt.plot(kernel, train_recall, label='train_recall')\n",
    "plt.plot(kernel, train_f1, label='train_f1')\n",
    "plt.plot(kernel, test_accuracy, '--', label='test_accuracy')\n",
    "plt.plot(kernel, test_precision, '--', label='test_precision')\n",
    "plt.plot(kernel, test_recall, '--', label='test_recall')\n",
    "plt.plot(kernel, test_f1, '--', label='test_f1')\n",
    "\n",
    "plt.legend()\n",
    "plt.xlabel('Number of kernel')\n",
    "plt.ylabel('Accuracy')\n",
    "plt.show()"
   ]
  },
  {
   "cell_type": "markdown",
   "metadata": {},
   "source": [
    "关于kernel的视频https://www.bilibili.com/video/av31552048?from=search&seid=14349243184812002653"
   ]
  },
  {
   "cell_type": "markdown",
   "metadata": {},
   "source": [
    "最终参数：max_features=1000, C=1000, class_weight={0: 0.5, 1: 0.5}, kernel='linear'"
   ]
  },
  {
   "cell_type": "code",
   "execution_count": 51,
   "metadata": {},
   "outputs": [
    {
     "data": {
      "text/plain": [
       "SVC(C=1000, cache_size=200, class_weight={0: 0.5, 1: 0.5}, coef0=0.0,\n",
       "  decision_function_shape='ovr', degree=3, gamma='auto', kernel='linear',\n",
       "  max_iter=-1, probability=False, random_state=None, shrinking=True,\n",
       "  tol=0.001, verbose=False)"
      ]
     },
     "execution_count": 51,
     "metadata": {},
     "output_type": "execute_result"
    }
   ],
   "source": [
    "clf = SVC(gamma='auto', C=1000, class_weight={0: 0.5, 1: 0.5}, kernel='linear')\n",
    "clf.fit(X_tr_arr, y_tr_arr)"
   ]
  },
  {
   "cell_type": "code",
   "execution_count": 52,
   "metadata": {},
   "outputs": [],
   "source": [
    "y_pred = clf.predict(X.toarray())"
   ]
  },
  {
   "cell_type": "code",
   "execution_count": 58,
   "metadata": {},
   "outputs": [],
   "source": [
    "df_y_pred = pd.DataFrame(y_pred, columns=['y_pred'], dtype='object')\n",
    "df_y_fact = pd.DataFrame(df, columns=['y'])\n",
    "df_pred_and_fact = pd.concat([df_y_pred, df_y_fact], axis=1)\n",
    "candidate_svm = []\n",
    "for i, y in enumerate(zip(df_pred_and_fact['y_pred'], df_pred_and_fact['y'])):\n",
    "    if y[0] == 1 and y[1] == 0:\n",
    "        candidate_svm.append(i)"
   ]
  },
  {
   "cell_type": "code",
   "execution_count": 59,
   "metadata": {
    "collapsed": true
   },
   "outputs": [
    {
     "data": {
      "text/plain": [
       "[51,\n",
       " 63,\n",
       " 111,\n",
       " 212,\n",
       " 217,\n",
       " 280,\n",
       " 303,\n",
       " 310,\n",
       " 327,\n",
       " 328,\n",
       " 329,\n",
       " 333,\n",
       " 353,\n",
       " 363,\n",
       " 374,\n",
       " 386,\n",
       " 422,\n",
       " 423,\n",
       " 443,\n",
       " 444,\n",
       " 446,\n",
       " 471,\n",
       " 514,\n",
       " 524,\n",
       " 539,\n",
       " 550,\n",
       " 552,\n",
       " 554,\n",
       " 555,\n",
       " 557,\n",
       " 563,\n",
       " 565,\n",
       " 567,\n",
       " 568,\n",
       " 571,\n",
       " 577,\n",
       " 579,\n",
       " 581,\n",
       " 584,\n",
       " 587,\n",
       " 591,\n",
       " 594,\n",
       " 597,\n",
       " 598,\n",
       " 601,\n",
       " 616,\n",
       " 617,\n",
       " 625,\n",
       " 627,\n",
       " 649,\n",
       " 653,\n",
       " 669,\n",
       " 670,\n",
       " 676,\n",
       " 677,\n",
       " 680,\n",
       " 687,\n",
       " 704,\n",
       " 716,\n",
       " 729,\n",
       " 773,\n",
       " 808,\n",
       " 814,\n",
       " 818,\n",
       " 907,\n",
       " 929,\n",
       " 932,\n",
       " 935,\n",
       " 938,\n",
       " 939,\n",
       " 941,\n",
       " 944,\n",
       " 949,\n",
       " 956,\n",
       " 962,\n",
       " 978,\n",
       " 992,\n",
       " 993,\n",
       " 999,\n",
       " 1002,\n",
       " 1008,\n",
       " 1012,\n",
       " 1030,\n",
       " 1063,\n",
       " 1100,\n",
       " 1138,\n",
       " 1140,\n",
       " 1147,\n",
       " 1149,\n",
       " 1177,\n",
       " 1179,\n",
       " 1183,\n",
       " 1201,\n",
       " 1327,\n",
       " 1413,\n",
       " 1491,\n",
       " 1500,\n",
       " 1514,\n",
       " 1553,\n",
       " 1630,\n",
       " 1660,\n",
       " 1664,\n",
       " 1682,\n",
       " 1711,\n",
       " 1713,\n",
       " 1757,\n",
       " 1760,\n",
       " 1813,\n",
       " 1862,\n",
       " 1977,\n",
       " 2112,\n",
       " 2144,\n",
       " 2157,\n",
       " 2162,\n",
       " 2228,\n",
       " 2232,\n",
       " 2279,\n",
       " 2337,\n",
       " 2344,\n",
       " 2373,\n",
       " 2395,\n",
       " 2443,\n",
       " 2540,\n",
       " 2541,\n",
       " 2622,\n",
       " 2626,\n",
       " 2750,\n",
       " 2753,\n",
       " 2768,\n",
       " 2774,\n",
       " 2796,\n",
       " 2798,\n",
       " 2802,\n",
       " 2806,\n",
       " 2823,\n",
       " 2826,\n",
       " 2901,\n",
       " 2918,\n",
       " 2974,\n",
       " 2979,\n",
       " 3022,\n",
       " 3025,\n",
       " 3074,\n",
       " 3117,\n",
       " 3170,\n",
       " 3198,\n",
       " 3217,\n",
       " 3223,\n",
       " 3228,\n",
       " 3245,\n",
       " 3248,\n",
       " 3289,\n",
       " 3291,\n",
       " 3295,\n",
       " 3403,\n",
       " 3415,\n",
       " 3423,\n",
       " 3445,\n",
       " 3450,\n",
       " 3481,\n",
       " 3513,\n",
       " 3531,\n",
       " 3557,\n",
       " 3605,\n",
       " 3669,\n",
       " 3675,\n",
       " 3704,\n",
       " 3707,\n",
       " 3754,\n",
       " 3785,\n",
       " 3822,\n",
       " 3831,\n",
       " 3846,\n",
       " 3864,\n",
       " 3882,\n",
       " 3883,\n",
       " 3886,\n",
       " 3893,\n",
       " 3920,\n",
       " 3922,\n",
       " 3924,\n",
       " 3925,\n",
       " 3927,\n",
       " 3943,\n",
       " 4001,\n",
       " 4011,\n",
       " 4046,\n",
       " 4107,\n",
       " 4124,\n",
       " 4199,\n",
       " 4211,\n",
       " 4391,\n",
       " 4495,\n",
       " 4515,\n",
       " 4537,\n",
       " 4538,\n",
       " 4604,\n",
       " 4653,\n",
       " 4671,\n",
       " 4691,\n",
       " 4697,\n",
       " 4844,\n",
       " 4861,\n",
       " 4885,\n",
       " 4887,\n",
       " 4931,\n",
       " 4989,\n",
       " 5111,\n",
       " 5155,\n",
       " 5188,\n",
       " 5205,\n",
       " 5235,\n",
       " 5239,\n",
       " 5285,\n",
       " 5297,\n",
       " 5305,\n",
       " 5333,\n",
       " 5360,\n",
       " 5365,\n",
       " 5422,\n",
       " 5453,\n",
       " 5487,\n",
       " 5578,\n",
       " 5650,\n",
       " 5664,\n",
       " 5669,\n",
       " 5687,\n",
       " 5708,\n",
       " 5726,\n",
       " 5731,\n",
       " 5738,\n",
       " 5808,\n",
       " 5817,\n",
       " 5868,\n",
       " 5875,\n",
       " 5891,\n",
       " 5983,\n",
       " 5997,\n",
       " 6056,\n",
       " 6125,\n",
       " 6131,\n",
       " 6256,\n",
       " 6271,\n",
       " 6276,\n",
       " 6278,\n",
       " 6279,\n",
       " 6283,\n",
       " 6284,\n",
       " 6291,\n",
       " 6292,\n",
       " 6297,\n",
       " 6304,\n",
       " 6307,\n",
       " 6311,\n",
       " 6312,\n",
       " 6316,\n",
       " 6330,\n",
       " 6338,\n",
       " 6351,\n",
       " 6399,\n",
       " 6414,\n",
       " 6436,\n",
       " 6443,\n",
       " 6465,\n",
       " 6491,\n",
       " 6514,\n",
       " 6532,\n",
       " 6539,\n",
       " 6542,\n",
       " 6551,\n",
       " 6554,\n",
       " 6568,\n",
       " 6583,\n",
       " 6678,\n",
       " 6752,\n",
       " 6763,\n",
       " 6878,\n",
       " 6919,\n",
       " 6969,\n",
       " 6979,\n",
       " 6994,\n",
       " 7012,\n",
       " 7034,\n",
       " 7042,\n",
       " 7057,\n",
       " 7068,\n",
       " 7104,\n",
       " 7119,\n",
       " 7123,\n",
       " 7144,\n",
       " 7253,\n",
       " 7341,\n",
       " 7365,\n",
       " 7376,\n",
       " 7378,\n",
       " 7389,\n",
       " 7401,\n",
       " 7427,\n",
       " 7436,\n",
       " 7489,\n",
       " 7497,\n",
       " 7515,\n",
       " 7540,\n",
       " 7545,\n",
       " 7552,\n",
       " 7567,\n",
       " 7570,\n",
       " 7575,\n",
       " 7596,\n",
       " 7606,\n",
       " 7612,\n",
       " 7627,\n",
       " 7634,\n",
       " 7639,\n",
       " 7644,\n",
       " 7649,\n",
       " 7659,\n",
       " 7664,\n",
       " 7665,\n",
       " 7677,\n",
       " 7712,\n",
       " 7724,\n",
       " 7734,\n",
       " 7752,\n",
       " 7753,\n",
       " 7755,\n",
       " 7756,\n",
       " 7764,\n",
       " 7768,\n",
       " 7777,\n",
       " 7784,\n",
       " 7791,\n",
       " 7804,\n",
       " 7810,\n",
       " 7819,\n",
       " 7838,\n",
       " 7849,\n",
       " 7859,\n",
       " 7870,\n",
       " 7877,\n",
       " 7920,\n",
       " 7933,\n",
       " 7935,\n",
       " 7937,\n",
       " 7980,\n",
       " 7993,\n",
       " 7994,\n",
       " 7995,\n",
       " 7996,\n",
       " 7999,\n",
       " 8001,\n",
       " 8058,\n",
       " 8059,\n",
       " 8060,\n",
       " 8065,\n",
       " 8068,\n",
       " 8070,\n",
       " 8071,\n",
       " 8072,\n",
       " 8073,\n",
       " 8074,\n",
       " 8076,\n",
       " 9096,\n",
       " 9097,\n",
       " 9098,\n",
       " 9099,\n",
       " 9101,\n",
       " 9102,\n",
       " 9103,\n",
       " 9104,\n",
       " 9105,\n",
       " 9106,\n",
       " 9109,\n",
       " 9113,\n",
       " 9115,\n",
       " 9116,\n",
       " 9125,\n",
       " 9126,\n",
       " 9127,\n",
       " 9128,\n",
       " 9129,\n",
       " 9130,\n",
       " 9131,\n",
       " 9132,\n",
       " 9133,\n",
       " 9134,\n",
       " 9854,\n",
       " 9855,\n",
       " 9856,\n",
       " 9857,\n",
       " 9858,\n",
       " 9859,\n",
       " 9860,\n",
       " 9861,\n",
       " 9862,\n",
       " 9863,\n",
       " 9864,\n",
       " 9865,\n",
       " 9866,\n",
       " 9867,\n",
       " 9868,\n",
       " 9869,\n",
       " 9870,\n",
       " 9871,\n",
       " 9872,\n",
       " 9873,\n",
       " 9874,\n",
       " 9875,\n",
       " 9876,\n",
       " 9877,\n",
       " 9878,\n",
       " 9879,\n",
       " 9880,\n",
       " 9881,\n",
       " 9882,\n",
       " 9883,\n",
       " 9884,\n",
       " 9885,\n",
       " 9886,\n",
       " 9887,\n",
       " 9888,\n",
       " 9889,\n",
       " 9893,\n",
       " 9894,\n",
       " 9895,\n",
       " 9896,\n",
       " 9898,\n",
       " 9899,\n",
       " 9901,\n",
       " 9907,\n",
       " 9909,\n",
       " 9910,\n",
       " 9911,\n",
       " 9912,\n",
       " 9913,\n",
       " 9915,\n",
       " 9917,\n",
       " 9918,\n",
       " 9919,\n",
       " 9920,\n",
       " 9921,\n",
       " 9922,\n",
       " 9923,\n",
       " 9924,\n",
       " 9925,\n",
       " 9926,\n",
       " 9927,\n",
       " 9928,\n",
       " 9929,\n",
       " 9930,\n",
       " 9931,\n",
       " 9932,\n",
       " 9933,\n",
       " 9936,\n",
       " 9937,\n",
       " 9938,\n",
       " 9939,\n",
       " 9940,\n",
       " 9941,\n",
       " 9942,\n",
       " 9943,\n",
       " 9944,\n",
       " 9945,\n",
       " 9946,\n",
       " 9947,\n",
       " 9948,\n",
       " 9949,\n",
       " 9950,\n",
       " 9951,\n",
       " 9952,\n",
       " 9953,\n",
       " 9954,\n",
       " 9955,\n",
       " 9956,\n",
       " 9957,\n",
       " 9958,\n",
       " 9959,\n",
       " 9960,\n",
       " 9961,\n",
       " 9962,\n",
       " 9963,\n",
       " 9964,\n",
       " 9965,\n",
       " 9966,\n",
       " 9967,\n",
       " 9969,\n",
       " 9970,\n",
       " 9971,\n",
       " 9973,\n",
       " 9974,\n",
       " 9975,\n",
       " 9976,\n",
       " 9977,\n",
       " 9978,\n",
       " 9979,\n",
       " 9980,\n",
       " 9981,\n",
       " 9982,\n",
       " 9983,\n",
       " 9984,\n",
       " 9985,\n",
       " 9986,\n",
       " 9987,\n",
       " 9988,\n",
       " 9989,\n",
       " 9990,\n",
       " 9991,\n",
       " 9992,\n",
       " 9993,\n",
       " 9994,\n",
       " 9995,\n",
       " 9996,\n",
       " 9998,\n",
       " 10000,\n",
       " 10001,\n",
       " 10002,\n",
       " 10003,\n",
       " 10004,\n",
       " 10005,\n",
       " 10006,\n",
       " 10007,\n",
       " 10008,\n",
       " 10009,\n",
       " 10010,\n",
       " 10011,\n",
       " 10012,\n",
       " 10013,\n",
       " 10014,\n",
       " 10015,\n",
       " 10016,\n",
       " 10017,\n",
       " 10018,\n",
       " 10019,\n",
       " 10020,\n",
       " 10021,\n",
       " 10022,\n",
       " 10023,\n",
       " 10024,\n",
       " 10025,\n",
       " 10026,\n",
       " 10027,\n",
       " 10028,\n",
       " 10029,\n",
       " 10030,\n",
       " 10031,\n",
       " 10032,\n",
       " 10033,\n",
       " 10034,\n",
       " 10035,\n",
       " 10036,\n",
       " 10037,\n",
       " 10038,\n",
       " 10039,\n",
       " 10040,\n",
       " 10041,\n",
       " 10042,\n",
       " 10043,\n",
       " 10044,\n",
       " 10045,\n",
       " 10046,\n",
       " 10047,\n",
       " 10048,\n",
       " 10049,\n",
       " 10050,\n",
       " 10051,\n",
       " 10052,\n",
       " 10053,\n",
       " 10054,\n",
       " 10055,\n",
       " 10056,\n",
       " 10057,\n",
       " 10058,\n",
       " 10059,\n",
       " 10060,\n",
       " 10061,\n",
       " 10062,\n",
       " 10063,\n",
       " 10064,\n",
       " 10564,\n",
       " 10565,\n",
       " 10566,\n",
       " 10567,\n",
       " 10568,\n",
       " 10569,\n",
       " 10570,\n",
       " 10571,\n",
       " 10572,\n",
       " 10573,\n",
       " 10574,\n",
       " 10575,\n",
       " 10576,\n",
       " 10577,\n",
       " 10578,\n",
       " 10579,\n",
       " 10580,\n",
       " 10581,\n",
       " 10582,\n",
       " 10583,\n",
       " 10584,\n",
       " 10585,\n",
       " 10586,\n",
       " 10587,\n",
       " 10588,\n",
       " 10589,\n",
       " 10590,\n",
       " 10591,\n",
       " 10592,\n",
       " 10593,\n",
       " 10594,\n",
       " 10595,\n",
       " 10596,\n",
       " 10597,\n",
       " 10598,\n",
       " 10599,\n",
       " 10600,\n",
       " 10601,\n",
       " 10602,\n",
       " 10603,\n",
       " 10604,\n",
       " 10605,\n",
       " 10606,\n",
       " 10607,\n",
       " 10608,\n",
       " 10609,\n",
       " 10610,\n",
       " 10611,\n",
       " 10612,\n",
       " 10613,\n",
       " 10614,\n",
       " 10615,\n",
       " 10616,\n",
       " 10617,\n",
       " 10618,\n",
       " 10619,\n",
       " 10620,\n",
       " 10621,\n",
       " 10622,\n",
       " 10623,\n",
       " 10624,\n",
       " 10625,\n",
       " 10626,\n",
       " 10627,\n",
       " 10628,\n",
       " 10629,\n",
       " 10630,\n",
       " 10631,\n",
       " 10632,\n",
       " 10633,\n",
       " 10634,\n",
       " 10635,\n",
       " 10636,\n",
       " 10637,\n",
       " 10638,\n",
       " 10639,\n",
       " 10640,\n",
       " 10641,\n",
       " 10642,\n",
       " 10643,\n",
       " 10644,\n",
       " 10645,\n",
       " 10646,\n",
       " 10647,\n",
       " 10648,\n",
       " 10649,\n",
       " 10650,\n",
       " 10651,\n",
       " 10652,\n",
       " 10653,\n",
       " 10654,\n",
       " 10655,\n",
       " 10656,\n",
       " 10657,\n",
       " 10658,\n",
       " 10659,\n",
       " 10660,\n",
       " 10661,\n",
       " 10662,\n",
       " 10663,\n",
       " 10664,\n",
       " 10665,\n",
       " 10666,\n",
       " 10667,\n",
       " 10668,\n",
       " 10669,\n",
       " 10670,\n",
       " 10671,\n",
       " 10672,\n",
       " 10673,\n",
       " 10674,\n",
       " 10675,\n",
       " 10676,\n",
       " 10677,\n",
       " 10678,\n",
       " 10679,\n",
       " 10680,\n",
       " 10681,\n",
       " 10682,\n",
       " 10683,\n",
       " 10684,\n",
       " 10685,\n",
       " 10686,\n",
       " 10687,\n",
       " 10688,\n",
       " 10689,\n",
       " 10690,\n",
       " 10691,\n",
       " 10692,\n",
       " 10693,\n",
       " 10694,\n",
       " 10695,\n",
       " 10697,\n",
       " 10698,\n",
       " 10699,\n",
       " 10700,\n",
       " 10701,\n",
       " 10702,\n",
       " 10703,\n",
       " 10704,\n",
       " 10705,\n",
       " 10706,\n",
       " 10707,\n",
       " 10708,\n",
       " 10709,\n",
       " 10710,\n",
       " 10711,\n",
       " 10712,\n",
       " 10713,\n",
       " 10714,\n",
       " 10715,\n",
       " 10716,\n",
       " 10717,\n",
       " 10718,\n",
       " 10719,\n",
       " 10720,\n",
       " 10721,\n",
       " 10722,\n",
       " 10723,\n",
       " 10724,\n",
       " 10725,\n",
       " 10726,\n",
       " 10727,\n",
       " 10728,\n",
       " 10729,\n",
       " 10730,\n",
       " 10731,\n",
       " 10732,\n",
       " 10733,\n",
       " 10734,\n",
       " 10735,\n",
       " 10736,\n",
       " 10737,\n",
       " 10738,\n",
       " 10739,\n",
       " 10740,\n",
       " 10741,\n",
       " 10742,\n",
       " 10743,\n",
       " 10745,\n",
       " 10746,\n",
       " 10747,\n",
       " 10748,\n",
       " 10750,\n",
       " 10751,\n",
       " 10752,\n",
       " 10753,\n",
       " 10754,\n",
       " 10755,\n",
       " 10756,\n",
       " 10757,\n",
       " 10758,\n",
       " 10759,\n",
       " 10760,\n",
       " 10761,\n",
       " 10762,\n",
       " 10763,\n",
       " 10764,\n",
       " 10765,\n",
       " 10766,\n",
       " 10767,\n",
       " 10768,\n",
       " 10769,\n",
       " 10770,\n",
       " 10771,\n",
       " 10772,\n",
       " 10773,\n",
       " 10774,\n",
       " 10775,\n",
       " 10777,\n",
       " 10778,\n",
       " 10779,\n",
       " 10780,\n",
       " 10781,\n",
       " 10782,\n",
       " 10783,\n",
       " 10784,\n",
       " 10785,\n",
       " 10786,\n",
       " 10787,\n",
       " 10788,\n",
       " 10789,\n",
       " 10790,\n",
       " 10791,\n",
       " 10793,\n",
       " 10794,\n",
       " 10795,\n",
       " 10796,\n",
       " 10797,\n",
       " 10798,\n",
       " 10799,\n",
       " 10800,\n",
       " 10801,\n",
       " 10802,\n",
       " 10803,\n",
       " 10804,\n",
       " 10805,\n",
       " 10806,\n",
       " 10807,\n",
       " 10808,\n",
       " 10809,\n",
       " 10810,\n",
       " 10811,\n",
       " 10812,\n",
       " 10813,\n",
       " 10814,\n",
       " 10815,\n",
       " 10816,\n",
       " 10817,\n",
       " 10818,\n",
       " 10819,\n",
       " 10820,\n",
       " 10821,\n",
       " 10822,\n",
       " 10823,\n",
       " 10824,\n",
       " 10825,\n",
       " 10826,\n",
       " 10827,\n",
       " 10828,\n",
       " 10829,\n",
       " 10830,\n",
       " 10831,\n",
       " 10832,\n",
       " 10833,\n",
       " 10834,\n",
       " 10835,\n",
       " 10836,\n",
       " 10837,\n",
       " 10838,\n",
       " 10839,\n",
       " 10840,\n",
       " 10841,\n",
       " 10842,\n",
       " 10843,\n",
       " 10844,\n",
       " 10933,\n",
       " 10934,\n",
       " 10935,\n",
       " 10936,\n",
       " 10937,\n",
       " 10938,\n",
       " 10939,\n",
       " 10940,\n",
       " 10941,\n",
       " 10942,\n",
       " 10943,\n",
       " 10944,\n",
       " 10945,\n",
       " 10946,\n",
       " 10947,\n",
       " 10948,\n",
       " 10949,\n",
       " 10950,\n",
       " 10951,\n",
       " 10952,\n",
       " 10953,\n",
       " 10954,\n",
       " 10955,\n",
       " 10956,\n",
       " 10957,\n",
       " 10958,\n",
       " 10959,\n",
       " 10960,\n",
       " 10961,\n",
       " 10962,\n",
       " 10963,\n",
       " 10964,\n",
       " 10965,\n",
       " 10966,\n",
       " 10967,\n",
       " 10968,\n",
       " 10969,\n",
       " 10970,\n",
       " 10971,\n",
       " 10972,\n",
       " 10973,\n",
       " 10974,\n",
       " 10975,\n",
       " 10977,\n",
       " 10978]"
      ]
     },
     "execution_count": 59,
     "metadata": {},
     "output_type": "execute_result"
    }
   ],
   "source": [
    "candidate_svm"
   ]
  },
  {
   "cell_type": "code",
   "execution_count": 22,
   "metadata": {},
   "outputs": [],
   "source": [
    "import timeit"
   ]
  },
  {
   "cell_type": "code",
   "execution_count": 23,
   "metadata": {},
   "outputs": [],
   "source": [
    "def clock(func):\n",
    "    def clocked(*args, **kwargs):\n",
    "        t0 = timeit.default_timer()\n",
    "#Define a default timer, in a platform-specific manner. On Windows, time.clock() has microsecond granularity, but time.time()’s granularity is 1/60th of a second. On Unix, time.clock() has 1/100th of a second granularity, and time.time() is much more precise. On either platform, default_timer() measures wall clock time, not the CPU time. This means that other processes running on the same computer may interfere with the timing.\n",
    "        result = func(*args, **kwargs)\n",
    "        elapsed = timeit.default_timer() - t0\n",
    "        name = func.__name__\n",
    "        arg_str = ', '.join(repr(arg) for arg in args)\n",
    "#         print(elapsed,'s')\n",
    "        print('[%0.8fs] %s(%s) -> %r' % (elapsed, name, arg_str, result))\n",
    "        return result\n",
    "    return clocked"
   ]
  },
  {
   "cell_type": "code",
   "execution_count": 24,
   "metadata": {},
   "outputs": [],
   "source": [
    "@clock\n",
    "def test():\n",
    "    print('here')"
   ]
  },
  {
   "cell_type": "code",
   "execution_count": 70,
   "metadata": {},
   "outputs": [
    {
     "name": "stdout",
     "output_type": "stream",
     "text": [
      "here\n",
      "[0.00002407s] test() -> None\n"
     ]
    }
   ],
   "source": [
    "test()"
   ]
  },
  {
   "cell_type": "code",
   "execution_count": 24,
   "metadata": {},
   "outputs": [],
   "source": [
    "from sklearn.naive_bayes import GaussianNB"
   ]
  },
  {
   "cell_type": "code",
   "execution_count": 25,
   "metadata": {},
   "outputs": [],
   "source": [
    "@clock\n",
    "def get_score_from_varying_parameters(max_features):\n",
    "    vectorizer = TfidfVectorizer(max_features=max_features)\n",
    "    X = vectorizer.fit_transform(corpus)\n",
    "    y = df['y']\n",
    "    X_train, X_test, y_train, y_test = train_test_split(X, y, test_size=0.2, random_state=42)\n",
    "    \n",
    "    X_tr_arr = X_train.toarray()\n",
    "    X_ts_arr = X_test.toarray()\n",
    "    y_tr_arr = np.array(y_train, dtype='int')\n",
    "    y_ts_arr = np.array(y_test, dtype='int')\n",
    "    \n",
    "    gnb = GaussianNB()\n",
    "    gnb.fit(X_tr_arr, y_tr_arr)\n",
    "    \n",
    "    y_tr_pred = gnb.predict(X_tr_arr)\n",
    "    train_accuracy, train_precision, train_recall, train_f1 = get_F1(y_tr_pred, y_tr_arr)\n",
    "    y_ts_pred = gnb.predict(X_ts_arr)\n",
    "    test_accuracy, test_precision, test_recall, test_f1 = get_F1(y_ts_pred, y_ts_arr)\n",
    "    \n",
    "    print('max_features=%s 执行完成' % (str(max_features)))\n",
    "    \n",
    "    return train_accuracy, train_precision, train_recall, train_f1, test_accuracy, test_precision, test_recall, test_f1"
   ]
  },
  {
   "cell_type": "code",
   "execution_count": 26,
   "metadata": {},
   "outputs": [
    {
     "name": "stdout",
     "output_type": "stream",
     "text": [
      "accuracy: 0.8450625350009333\n",
      "precision: 0.9941965217061468\n",
      "recall: 0.8333359828312534\n",
      "f1: 0.9066867303168672\n",
      "accuracy: 0.8474527597495836\n",
      "precision: 0.9940413335344698\n",
      "recall: 0.8364432597105864\n",
      "f1: 0.9084579857999586\n",
      "max_features=1000 执行完成\n",
      "[13.81561721s] get_score_from_varying_parameters() -> (0.8450625350009333, 0.9941965217061468, 0.8333359828312534, 0.9066867303168672, 0.8474527597495836, 0.9940413335344698, 0.8364432597105864, 0.9084579857999586)\n",
      "accuracy: 0.8607573125026924\n",
      "precision: 0.9938372438372438\n",
      "recall: 0.8511247118671011\n",
      "f1: 0.9169613879445437\n",
      "accuracy: 0.8638217218999483\n",
      "precision: 0.9932925480946414\n",
      "recall: 0.8552932216298553\n",
      "f1: 0.9191419704668691\n",
      "max_features=2000 执行完成\n",
      "[17.91391959s] get_score_from_varying_parameters() -> (0.8607573125026924, 0.9938372438372438, 0.8511247118671011, 0.9169613879445437, 0.8638217218999483, 0.9932925480946414, 0.8552932216298553, 0.9191419704668691)\n",
      "accuracy: 0.8671615858474174\n",
      "precision: 0.9948170281835621\n",
      "recall: 0.8574040219378428\n",
      "f1: 0.921013311020227\n",
      "accuracy: 0.8692780426167366\n",
      "precision: 0.9933391889913629\n",
      "recall: 0.8613226707286114\n",
      "f1: 0.9226324019307908\n",
      "max_features=3000 执行完成\n",
      "[25.37552731s] get_score_from_varying_parameters() -> (0.8671615858474174, 0.9948170281835621, 0.8574040219378428, 0.921013311020227, 0.8692780426167366, 0.9933391889913629, 0.8613226707286114, 0.9226324019307908)\n",
      "accuracy: 0.8733073907611896\n",
      "precision: 0.9956013342619405\n",
      "recall: 0.8635561561084174\n",
      "f1: 0.9248895434462445\n",
      "accuracy: 0.8757107575670553\n",
      "precision: 0.9931785195936139\n",
      "recall: 0.8686214775323686\n",
      "f1: 0.9267334777898157\n",
      "max_features=4000 执行完成\n",
      "[262.86006633s] get_score_from_varying_parameters() -> (0.8733073907611896, 0.9956013342619405, 0.8635561561084174, 0.9248895434462445, 0.8757107575670553, 0.9931785195936139, 0.8686214775323686, 0.9267334777898157)\n"
     ]
    }
   ],
   "source": [
    "score_list = []\n",
    "max_features = range(1000, 5000, 1000)\n",
    "for m in max_features:\n",
    "    score_list.append(get_score_from_varying_parameters(max_features=m))"
   ]
  },
  {
   "cell_type": "code",
   "execution_count": 29,
   "metadata": {},
   "outputs": [
    {
     "data": {
      "image/png": "[encoded data removed]",
      "text/plain": [
       "<Figure size 720x720 with 1 Axes>"
      ]
     },
     "metadata": {
      "needs_background": "light"
     },
     "output_type": "display_data"
    }
   ],
   "source": [
    "import matplotlib.pyplot as plt\n",
    "train_accuracy = np.empty(len(score_list))\n",
    "train_precision = np.empty(len(score_list))\n",
    "train_recall = np.empty(len(score_list))\n",
    "train_f1 = np.empty(len(score_list))\n",
    "\n",
    "test_accuracy = np.empty(len(score_list))\n",
    "test_precision = np.empty(len(score_list))\n",
    "test_recall = np.empty(len(score_list))\n",
    "test_f1 = np.empty(len(score_list))\n",
    " \n",
    "for i,k in enumerate(score_list):\n",
    "    train_accuracy[i] = k[0]\n",
    "    train_precision[i] = k[1]\n",
    "    train_recall[i] = k[2]\n",
    "    train_f1[i] = k[3]\n",
    "\n",
    "    test_accuracy[i] = k[4]\n",
    "    test_precision[i] = k[5]\n",
    "    test_recall[i] = k[6]\n",
    "    test_f1[i] = k[7]\n",
    " \n",
    "plt.figure(figsize=(10,10))\n",
    "plt.title('Bayes Varying max_features of TfidfVectorizer')\n",
    "\n",
    "plt.plot(max_features, train_accuracy, label='train_accuracy')\n",
    "plt.plot(max_features, train_precision, label='train_precision')\n",
    "plt.plot(max_features, train_recall, label='train_recall')\n",
    "plt.plot(max_features, train_f1, label='train_f1')\n",
    "plt.plot(max_features, test_accuracy, '--', label='test_accuracy')\n",
    "plt.plot(max_features, test_precision, '--', label='test_precision')\n",
    "plt.plot(max_features, test_recall, '--', label='test_recall')\n",
    "plt.plot(max_features, test_f1, '--', label='test_f1')\n",
    "\n",
    "plt.legend()\n",
    "plt.xlabel('Number of max_features')\n",
    "plt.ylabel('Accuracy')\n",
    "plt.show()"
   ]
  },
  {
   "cell_type": "code",
   "execution_count": null,
   "metadata": {},
   "outputs": [],
   "source": []
  }
 ],
 "metadata": {
  "kernelspec": {
   "display_name": "ai",
   "language": "python",
   "name": "ai"
  },
  "language_info": {
   "codemirror_mode": {
    "name": "ipython",
    "version": 3
   },
   "file_extension": ".py",
   "mimetype": "text/x-python",
   "name": "python",
   "nbconvert_exporter": "python",
   "pygments_lexer": "ipython3",
   "version": "3.7.1"
  }
 },
 "nbformat": 4,
 "nbformat_minor": 2
}
