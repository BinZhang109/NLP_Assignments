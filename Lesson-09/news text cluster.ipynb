{
 "cells": [
  {
   "cell_type": "code",
   "execution_count": 2,
   "metadata": {},
   "outputs": [],
   "source": [
    "import pymysql\n",
    "import pickle\n",
    "\n",
    "conn = pymysql.connect(host='rm-8vbwj6507z6465505ro.mysql.zhangbei.rds.aliyuncs.com', port=3306, user='root', passwd='AI@2019@ai', db='stu_db')\n",
    "cur = conn.cursor(cursor=pymysql.cursors.DictCursor)\n",
    "cur.execute('select * from news_chinese')\n",
    "news = cur.fetchall()\n",
    "\n",
    "with open(r'news.pk', 'wb') as f:\n",
    "    pickle.dump(news, f)"
   ]
  },
  {
   "cell_type": "code",
   "execution_count": 4,
   "metadata": {},
   "outputs": [],
   "source": [
    "import pandas as pd\n",
    "data = pd.DataFrame(news)"
   ]
  },
  {
   "cell_type": "code",
   "execution_count": 5,
   "metadata": {
    "scrolled": true
   },
   "outputs": [
    {
     "name": "stdout",
     "output_type": "stream",
     "text": [
      "<class 'pandas.core.frame.DataFrame'>\n",
      "RangeIndex: 89611 entries, 0 to 89610\n",
      "Data columns (total 7 columns):\n",
      "author     89611 non-null object\n",
      "content    89611 non-null object\n",
      "feature    89611 non-null object\n",
      "id         89611 non-null int64\n",
      "source     89611 non-null object\n",
      "title      89611 non-null object\n",
      "url        89611 non-null object\n",
      "dtypes: int64(1), object(6)\n",
      "memory usage: 4.8+ MB\n"
     ]
    }
   ],
   "source": [
    "data.info()"
   ]
  },
  {
   "cell_type": "code",
   "execution_count": 6,
   "metadata": {},
   "outputs": [
    {
     "data": {
      "text/html": [
       "<div>\n",
       "<style scoped>\n",
       "    .dataframe tbody tr th:only-of-type {\n",
       "        vertical-align: middle;\n",
       "    }\n",
       "\n",
       "    .dataframe tbody tr th {\n",
       "        vertical-align: top;\n",
       "    }\n",
       "\n",
       "    .dataframe thead th {\n",
       "        text-align: right;\n",
       "    }\n",
       "</style>\n",
       "<table border=\"1\" class=\"dataframe\">\n",
       "  <thead>\n",
       "    <tr style=\"text-align: right;\">\n",
       "      <th></th>\n",
       "      <th>author</th>\n",
       "      <th>content</th>\n",
       "      <th>feature</th>\n",
       "      <th>id</th>\n",
       "      <th>source</th>\n",
       "      <th>title</th>\n",
       "      <th>url</th>\n",
       "    </tr>\n",
       "  </thead>\n",
       "  <tbody>\n",
       "    <tr>\n",
       "      <th>0</th>\n",
       "      <td>王子江 张寒</td>\n",
       "      <td>新华社德国杜塞尔多夫６月６日电题：乒乓女球迷　\\n　　新华社记者王子江、张寒\\n　　熊老...</td>\n",
       "      <td>{\"type\":\"体育\",\"site\":\"新华社\",\"url\":\"http://home.x...</td>\n",
       "      <td>1</td>\n",
       "      <td>新华社</td>\n",
       "      <td>（体育）题：乒乓女球迷</td>\n",
       "      <td>http://home.xinhua-news.com/gdsd</td>\n",
       "    </tr>\n",
       "    <tr>\n",
       "      <th>1</th>\n",
       "      <td>夏文辉</td>\n",
       "      <td>\\n\\n2017年5月25日，在美国马萨诸塞州剑桥市，哈佛大学毕业生在毕业典礼上欢呼。（新华...</td>\n",
       "      <td>{\"type\":\"其它\",\"site\":\"新华社\",\"url\":\"http://home.x...</td>\n",
       "      <td>2</td>\n",
       "      <td>新华社</td>\n",
       "      <td>哈佛大学为何取消这些新生入选资格？</td>\n",
       "      <td>http://home.xinhua-news.com/gdsd</td>\n",
       "    </tr>\n",
       "    <tr>\n",
       "      <th>2</th>\n",
       "      <td>张旌</td>\n",
       "      <td>\\n\\n2017年5月29日，在法国巴黎郊外的凡尔赛宫，法国总统马克龙出席新闻发布会。（新华...</td>\n",
       "      <td>{\"type\":\"其它\",\"site\":\"新华社\",\"url\":\"http://home.x...</td>\n",
       "      <td>3</td>\n",
       "      <td>新华社</td>\n",
       "      <td>法国议会选举　马克龙有望获“压倒性胜利”</td>\n",
       "      <td>http://home.xinhua-news.com/gdsd</td>\n",
       "    </tr>\n",
       "    <tr>\n",
       "      <th>3</th>\n",
       "      <td>王衡</td>\n",
       "      <td>新华社兰州6月3日电（王衡、徐丹）记者从甘肃省交通运输厅获悉，甘肃近日集中开建高速公路、普通...</td>\n",
       "      <td>{\"type\":\"宏观经济\",\"site\":\"新华社\",\"url\":\"http://home...</td>\n",
       "      <td>4</td>\n",
       "      <td>新华社</td>\n",
       "      <td>（经济）甘肃集中开工35个重点交通建设项目</td>\n",
       "      <td>http://home.xinhua-news.com/gdsd</td>\n",
       "    </tr>\n",
       "    <tr>\n",
       "      <th>4</th>\n",
       "      <td>邹峥</td>\n",
       "      <td>新华社照片，多伦多，2017年6月7日\\n（体育）（2）冰球——国家女子冰球队海外选秀在多伦...</td>\n",
       "      <td>{\"type\":\"冰球\",\"site\":\"新华社\",\"url\":\"http://home.x...</td>\n",
       "      <td>5</td>\n",
       "      <td>新华社</td>\n",
       "      <td>（体育）（2）冰球——国家女子冰球队海外选秀在多伦多展开</td>\n",
       "      <td>http://home.xinhua-news.com/gdsd</td>\n",
       "    </tr>\n",
       "  </tbody>\n",
       "</table>\n",
       "</div>"
      ],
      "text/plain": [
       "   author                                            content  \\\n",
       "0  王子江 张寒  　　新华社德国杜塞尔多夫６月６日电题：乒乓女球迷　\\n　　新华社记者王子江、张寒\\n　　熊老...   \n",
       "1     夏文辉  \\n\\n2017年5月25日，在美国马萨诸塞州剑桥市，哈佛大学毕业生在毕业典礼上欢呼。（新华...   \n",
       "2      张旌  \\n\\n2017年5月29日，在法国巴黎郊外的凡尔赛宫，法国总统马克龙出席新闻发布会。（新华...   \n",
       "3      王衡  新华社兰州6月3日电（王衡、徐丹）记者从甘肃省交通运输厅获悉，甘肃近日集中开建高速公路、普通...   \n",
       "4      邹峥  新华社照片，多伦多，2017年6月7日\\n（体育）（2）冰球——国家女子冰球队海外选秀在多伦...   \n",
       "\n",
       "                                             feature  id source  \\\n",
       "0  {\"type\":\"体育\",\"site\":\"新华社\",\"url\":\"http://home.x...   1    新华社   \n",
       "1  {\"type\":\"其它\",\"site\":\"新华社\",\"url\":\"http://home.x...   2    新华社   \n",
       "2  {\"type\":\"其它\",\"site\":\"新华社\",\"url\":\"http://home.x...   3    新华社   \n",
       "3  {\"type\":\"宏观经济\",\"site\":\"新华社\",\"url\":\"http://home...   4    新华社   \n",
       "4  {\"type\":\"冰球\",\"site\":\"新华社\",\"url\":\"http://home.x...   5    新华社   \n",
       "\n",
       "                          title                               url  \n",
       "0                  （体育）题：乒乓女球迷　  http://home.xinhua-news.com/gdsd  \n",
       "1             哈佛大学为何取消这些新生入选资格？  http://home.xinhua-news.com/gdsd  \n",
       "2          法国议会选举　马克龙有望获“压倒性胜利”  http://home.xinhua-news.com/gdsd  \n",
       "3         （经济）甘肃集中开工35个重点交通建设项目  http://home.xinhua-news.com/gdsd  \n",
       "4  （体育）（2）冰球——国家女子冰球队海外选秀在多伦多展开  http://home.xinhua-news.com/gdsd  "
      ]
     },
     "execution_count": 6,
     "metadata": {},
     "output_type": "execute_result"
    }
   ],
   "source": [
    "data.head()"
   ]
  },
  {
   "cell_type": "code",
   "execution_count": 9,
   "metadata": {},
   "outputs": [],
   "source": [
    "data = data.drop_duplicates(subset=['content'])"
   ]
  },
  {
   "cell_type": "code",
   "execution_count": 10,
   "metadata": {
    "scrolled": true
   },
   "outputs": [
    {
     "name": "stdout",
     "output_type": "stream",
     "text": [
      "<class 'pandas.core.frame.DataFrame'>\n",
      "Int64Index: 74918 entries, 0 to 89610\n",
      "Data columns (total 7 columns):\n",
      "author     74918 non-null object\n",
      "content    74918 non-null object\n",
      "feature    74918 non-null object\n",
      "id         74918 non-null int64\n",
      "source     74918 non-null object\n",
      "title      74918 non-null object\n",
      "url        74918 non-null object\n",
      "dtypes: int64(1), object(6)\n",
      "memory usage: 4.6+ MB\n"
     ]
    }
   ],
   "source": [
    "data.info()"
   ]
  },
  {
   "cell_type": "code",
   "execution_count": 12,
   "metadata": {},
   "outputs": [],
   "source": [
    "def cut(string):\n",
    "    import jieba\n",
    "    return ' '.join(jieba.cut(string))\n",
    "\n",
    "def token(string):\n",
    "    import re\n",
    "    return re.findall(r'[\\w]+', string)"
   ]
  },
  {
   "cell_type": "code",
   "execution_count": 20,
   "metadata": {
    "collapsed": true
   },
   "outputs": [
    {
     "name": "stderr",
     "output_type": "stream",
     "text": [
      "Building prefix dict from the default dictionary ...\n",
      "Loading model from cache C:\\Users\\RYANWU~1\\AppData\\Local\\Temp\\jieba.cache\n",
      "Loading model cost 0.657 seconds.\n",
      "Prefix dict has been built succesfully.\n"
     ]
    }
   ],
   "source": [
    "news_content = [cut(''.join(token(feature + title + content)))for content, feature, title in zip(data['content'], data['feature'], data['title'])]"
   ]
  },
  {
   "cell_type": "code",
   "execution_count": 24,
   "metadata": {},
   "outputs": [
    {
     "data": {
      "text/plain": [
       "'type 体育 site 新华社 urlhttphomexinhuanewscomgdsdetailxhsnew2203534pageflaginitimageOrVedioTypeGdsIdsite _ signxinhuakeywords 乒乓球 summary 新华社 德国 杜塞尔多夫 ６ 月 ６ 日电 题 乒乓 女球迷 新华社 记者 王子江 张寒熊 老师 离开 上海 前 特意 花 一千多元 买 了 一只 张继科 代言 的 球拍 准备 在 世界 锦标赛 期间 他 体育 题 乒乓 女球迷 新华社 德国 杜塞尔多夫 ６ 月 ６ 日电 题 乒乓 女球迷 n 新华社 记者 王子江 张寒 n 熊 老师 离开 上海 前 特意 花 一千多元 买 了 一只 张继科 代言 的 球拍 准备 在 世界 锦标赛 期间 他 赢 了 比赛 后能 在 球拍 上 签个 名 但 没想到 张继科 在 ３ ２ 强赛 中 输给 了 韩国 的 李尚洙 n 拍子 算是 白 拿 过来 了 熊 老师 摇头 就算 是 信仰 充值 了 n 信仰 充值 是 乒乓球 粉丝 圈 非常 流行 的 词汇 简单 来说 就是 为 自己 喜欢 的 明星 或 球队 花钱 n 熊 老师 是 这位 ２ ２ 岁 的 成都 姑娘 的 艺名 艺名 这一 称呼 也 是 她们 自己 形容 的 熊 老师 的 真实 身份 是 上海 一所 名牌大学 会计专业 的 大四 学生 其他同学 正在 抓紧 毕业 找 工作 她 一个 人溜到 德国 观看 世乒赛 尽管 带 着 张继科 的 球拍 但 熊 老师 并 不是 张 的 铁粉 她 并 不 喜欢 张继科输 了 比赛 之后 一堆 科迷 在 赛场 外 抱头痛哭 的 场景 而 显得 比较 理智 但是 因为 科迷 数量 众多 让 她 这种 散户 也 有些 说不出 的 羡慕 n 他们 竟然 连续 两天 买断 了 一面 看 台上 所有 的 门票 为的是 挂 起 带有 张继科 名字 的 旗子 两天 就要 花 ４ ５ 万 人民币 熊 老师 直喊 过分 n 熊 老师 与 其他 １ ０ 名 中国队 女球迷 挤 在 一套 三居室 里 厨房 的 柜子 里 塞 了 很多 方便面 至少 三个 人挤 在 一个 房间 里 条件 的确 差 了 点 但 住宿费 平摊 下来 每天 只有 大约 ２ ０ ０ 元 人民币 这样 让 大家 心里 平衡 了 很多 n 房间 里 的 所有人 都 是 在 网上 认识 的 大家 也 并 不全 知道 对方 真实 的 姓名 和 身份 我们 都 用 艺名 来自 广州 的 茶茶 说 茶茶 已经 工作 了 几年 这次 也 是 利用 假期 出来 的 n 所有人 都 是 提前 大约 半年 从 国际乒联 的 官 网上 买 了 比赛 的 通票 可以 观看 全程 所有 的 比赛 票价 大约 两千块 人民币 ５ 月底 ６ 月初 并 不是 旅游 旺季 机票 也 不是 太贵 这 让 她们 都 很 庆幸 n 里面 最 幸运 的 应该 是 井井 她 这次 来 的 身份 是 一家 时尚 媒体 的 记者 她 申请 到 了 记者证 每天 背着 一个 大 相机 在 场地 里边 拍照 边 看球 她 提前 大约 一个 星期 就 来到 了 德国 比赛 开始 前 她 去 附近 几个 城市 玩 了 玩 这 一趟 世乒赛 之 旅 非常 充实 n 十几个 人中 最 不 像 球迷 的 是 一位 来自 香港 的 女 大学生 看上去 文静 内向 其他人 都 叫 她 香港 妹 香港 妹 与 熊 老师 一样 都 是 学 的 会计专业 她 告诉 父母 这次 出来 是 到 德国 看 朋友 住宿 和 球票 的 花费 都 是 平时 做 家教 挣 的 父母 支援 了 机票 钱 从 香港 到 杜塞尔多夫 往返 只有 三千多元 人民币 让 其他 内地 球迷 非常 羡慕 n 香港 妹 以前 并 不 懂 乒乓球 去年 里 约 奥运会 时 一家人 边 吃饭 边 看电视 正好 电视直播 乒乓球 比赛 从此 她 就 成 了 中国队 的 球迷 n 香港 妹 更让人 羡慕 的 还是 来 德国 不用 签证 不过 熊 老师 也 欣慰 地说 这次 有 了 德国 的 签证 以后 去 日本 看 比赛 签证 就 容易 多 了 n 这些 女孩子 大部分 都 是 第一次 出国 以前 都 是 在 国内 看 比赛 熊 老师 自称 这 几年 甚至 到 过 一些 非常 奇葩 的 赛场 去年 一个 比赛 在 东北 某 城市 举行 由于 赛场 过于 偏僻 她 在 手机 上点 了 外卖 最后 却 被 强制 退单 她 饿着肚子 看 完 了 比赛 n 女球迷 们 每天 早出晚归 看 完 比赛 回来 有时候 近 半夜 回来 之后 还要 互相 交流 当天 的 看球 感想 十几个 女孩子 叽叽喳喳 吵得 楼上 一个 德国 老太太 下来 敲门 让 她们 保持 安静 但 她们 聊着 聊着 仍然 不 自觉 嗓门 就 大 起来 n 世乒赛 闭幕 那天 晚上 她们 在 餐馆 里 吃 了 顿 散伙饭 中国队 拿 了 ４ 个 冠军 但 每个 人 的 心情 不 一样 因为 她们 支持 的 偶像 并 不 完全相同 好几 人 支持 刘诗雯 但 她 在 女单 半决赛 就 输 了 小伙伴 们 一起 丧 了 很 久 井井 在 朋友 圈里 说 n 告别 的 那天 大家 不约而同 在 朋友 圈里 晒 了 聚餐 的 照片 伤感 地 告别 n 走 了 杜塞尔多夫 井井 说 n 在 这 呆 了 一个 星期 要 走 了 还是 有点 不 舍得 都还没 好好 看看 这个 城市 再见 啦 杜塞 茶茶 说 n 熊 老师 最后 一条 朋友圈 发 的 是 丁宁 和 刘诗雯 赢得 女双 冠军 的 照片 n 懂事 之前 情动 以后 长 不过 一天 留不住 算不出 流年 她 写道 完 n'"
      ]
     },
     "execution_count": 24,
     "metadata": {},
     "output_type": "execute_result"
    }
   ],
   "source": [
    "news_content[0]"
   ]
  },
  {
   "cell_type": "code",
   "execution_count": 32,
   "metadata": {},
   "outputs": [],
   "source": [
    "from sklearn.feature_extraction.text import TfidfVectorizer\n",
    "vectorized = TfidfVectorizer()\n",
    "X = vectorized.fit_transform(news_content)"
   ]
  },
  {
   "cell_type": "code",
   "execution_count": 28,
   "metadata": {
    "scrolled": true
   },
   "outputs": [
    {
     "data": {
      "image/png": "[encoded data removed]",
      "text/plain": [
       "<Figure size 432x288 with 1 Axes>"
      ]
     },
     "metadata": {
      "needs_background": "light"
     },
     "output_type": "display_data"
    }
   ],
   "source": [
    "from sklearn.cluster import KMeans\n",
    "import numpy as np\n",
    "import matplotlib.pyplot as plt\n",
    "SSE = []  # 存放每次结果的误差平方和\n",
    "for k in range(8,14):\n",
    "    estimator = KMeans(n_clusters=k)  # 构造聚类器\n",
    "    estimator.fit(X)\n",
    "    SSE.append(estimator.inertia_)# estimator.inertia_代表聚类中心均值向量的总和\n",
    "x = range(8,14)\n",
    "plt.xlabel('k')\n",
    "plt.ylabel('SSE')\n",
    "plt.plot(x,SSE,'o-')\n",
    "plt.show()"
   ]
  },
  {
   "cell_type": "code",
   "execution_count": 33,
   "metadata": {},
   "outputs": [
    {
     "data": {
      "image/png": "[encoded data removed]",
      "text/plain": [
       "<Figure size 432x288 with 1 Axes>"
      ]
     },
     "metadata": {
      "needs_background": "light"
     },
     "output_type": "display_data"
    }
   ],
   "source": [
    "for k in range(14,20):\n",
    "    estimator = KMeans(n_clusters=k)  # 构造聚类器\n",
    "    estimator.fit(X)\n",
    "    SSE.append(estimator.inertia_)\n",
    "x = range(8,20)\n",
    "plt.xlabel('k')\n",
    "plt.ylabel('SSE')\n",
    "plt.plot(x,SSE,'o-')\n",
    "plt.show()"
   ]
  },
  {
   "cell_type": "code",
   "execution_count": 34,
   "metadata": {},
   "outputs": [
    {
     "data": {
      "image/png": "[encoded data removed]",
      "text/plain": [
       "<Figure size 432x288 with 1 Axes>"
      ]
     },
     "metadata": {
      "needs_background": "light"
     },
     "output_type": "display_data"
    }
   ],
   "source": [
    "for k in range(20,30):\n",
    "    estimator = KMeans(n_clusters=k)  # 构造聚类器\n",
    "    estimator.fit(X)\n",
    "    SSE.append(estimator.inertia_)\n",
    "x = range(8,30)\n",
    "plt.xlabel('k')\n",
    "plt.ylabel('SSE')\n",
    "plt.plot(x,SSE,'o-')\n",
    "plt.show()"
   ]
  },
  {
   "cell_type": "code",
   "execution_count": 35,
   "metadata": {},
   "outputs": [
    {
     "data": {
      "image/png": "[encoded data removed]",
      "text/plain": [
       "<Figure size 432x288 with 1 Axes>"
      ]
     },
     "metadata": {
      "needs_background": "light"
     },
     "output_type": "display_data"
    }
   ],
   "source": [
    "for k in range(30,40):\n",
    "    estimator = KMeans(n_clusters=k)  # 构造聚类器\n",
    "    estimator.fit(X)\n",
    "    SSE.append(estimator.inertia_)\n",
    "x = range(8,40)\n",
    "plt.xlabel('k')\n",
    "plt.ylabel('SSE')\n",
    "plt.plot(x,SSE,'o-')\n",
    "plt.show()"
   ]
  },
  {
   "cell_type": "code",
   "execution_count": 41,
   "metadata": {},
   "outputs": [],
   "source": [
    "vectorized = TfidfVectorizer()\n",
    "X = vectorized.fit_transform(['我们 热爱 篮球', '我们 不放弃 篮球'])"
   ]
  },
  {
   "cell_type": "code",
   "execution_count": 42,
   "metadata": {},
   "outputs": [
    {
     "data": {
      "text/plain": [
       "['不放弃', '我们', '热爱', '篮球']"
      ]
     },
     "execution_count": 42,
     "metadata": {},
     "output_type": "execute_result"
    }
   ],
   "source": [
    "vectorized.get_feature_names()"
   ]
  },
  {
   "cell_type": "code",
   "execution_count": 43,
   "metadata": {},
   "outputs": [
    {
     "data": {
      "text/plain": [
       "array([[0.        , 0.50154891, 0.70490949, 0.50154891],\n",
       "       [0.70490949, 0.50154891, 0.        , 0.50154891]])"
      ]
     },
     "execution_count": 43,
     "metadata": {},
     "output_type": "execute_result"
    }
   ],
   "source": [
    "X.toarray()"
   ]
  },
  {
   "cell_type": "code",
   "execution_count": 45,
   "metadata": {},
   "outputs": [
    {
     "data": {
      "text/plain": [
       "{'我们': 1, '热爱': 2, '篮球': 3, '不放弃': 0}"
      ]
     },
     "execution_count": 45,
     "metadata": {},
     "output_type": "execute_result"
    }
   ],
   "source": [
    "vectorized.vocabulary_"
   ]
  },
  {
   "cell_type": "code",
   "execution_count": null,
   "metadata": {},
   "outputs": [],
   "source": []
  }
 ],
 "metadata": {
  "kernelspec": {
   "display_name": "ai",
   "language": "python",
   "name": "ai"
  },
  "language_info": {
   "codemirror_mode": {
    "name": "ipython",
    "version": 3
   },
   "file_extension": ".py",
   "mimetype": "text/x-python",
   "name": "python",
   "nbconvert_exporter": "python",
   "pygments_lexer": "ipython3",
   "version": "3.6.8"
  }
 },
 "nbformat": 4,
 "nbformat_minor": 2
}
