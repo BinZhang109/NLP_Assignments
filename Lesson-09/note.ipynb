{
 "cells": [
  {
   "cell_type": "markdown",
   "metadata": {},
   "source": [
    "# k-means\n",
    "## 优点：\n",
    "- 简单有效\n",
    "\n",
    "## 缺点：\n",
    "- 1.向量化\n",
    "- 2.时间\n",
    "- 3.随机性\n",
    "- 4.对于特殊得数据分布无法处理"
   ]
  },
  {
   "cell_type": "markdown",
   "metadata": {},
   "source": [
    "## 如何优化：\n",
    "复杂度 O(NKDM)\n",
    "- N - topn 建堆\n",
    "- D - 降维\n",
    "- 如何取第一个点(想法：取中心点，中心点外随机对称分布）"
   ]
  },
  {
   "cell_type": "markdown",
   "metadata": {},
   "source": [
    "embedding cluster?"
   ]
  },
  {
   "cell_type": "markdown",
   "metadata": {},
   "source": [
    "## 为什么近几年神经网络火了\n",
    "- 数据量增加\n",
    "- GPU"
   ]
  },
  {
   "cell_type": "code",
   "execution_count": null,
   "metadata": {},
   "outputs": [],
   "source": []
  }
 ],
 "metadata": {
  "kernelspec": {
   "display_name": "AI",
   "language": "python",
   "name": "ai"
  },
  "language_info": {
   "codemirror_mode": {
    "name": "ipython",
    "version": 3
   },
   "file_extension": ".py",
   "mimetype": "text/x-python",
   "name": "python",
   "nbconvert_exporter": "python",
   "pygments_lexer": "ipython3",
   "version": "3.6.8"
  }
 },
 "nbformat": 4,
 "nbformat_minor": 2
}
