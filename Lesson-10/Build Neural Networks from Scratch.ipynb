{
 "cells": [
  {
   "cell_type": "code",
   "execution_count": 188,
   "metadata": {},
   "outputs": [],
   "source": [
    "# 构建基类\n",
    "class Node:\n",
    "    \"\"\"\n",
    "    Each node in neural networks will have these attributes and methods\n",
    "    \"\"\"\n",
    "    def __init__(self, inputs=[]):\n",
    "        \"\"\"\n",
    "        if the node is the operator of \"ax + b\", the inputs will be x node , and the outputs \n",
    "        of this is its successors. \n",
    "        \n",
    "        and the value is *ax + b*\n",
    "        \"\"\"\n",
    "        self.inputs = inputs\n",
    "        self.value = None\n",
    "        self.outputs = []\n",
    "        self.gradients = {}\n",
    "        \n",
    "        for node in self.inputs:\n",
    "            node.outputs.append(self)# build a connection relationship\n",
    "            \n",
    "    def forward(self):\n",
    "        \"\"\"Forward propogation\n",
    "        \n",
    "        compute the output value based on input nodes and store the value \n",
    "        into *self.value*\n",
    "        \"\"\"\n",
    "        raise NotImplemented\n",
    "        \n",
    "    def backward(self):\n",
    "        \"\"\" Back propogation\n",
    "        \n",
    "        compute the gradient of each input node and store the value \n",
    "        into \"self.gredients\"\n",
    "        \"\"\"\n",
    "        raise NotImplemented"
   ]
  },
  {
   "cell_type": "code",
   "execution_count": 189,
   "metadata": {},
   "outputs": [],
   "source": [
    "class Input(Node):\n",
    "    def __init__(self, name=''):\n",
    "        Node.__init__(self, inputs=[])\n",
    "        self.name = name\n",
    "        \n",
    "    def forward(self, value=None):\n",
    "        if value is not None:\n",
    "            self.value = value\n",
    "            \n",
    "    def backward(self):\n",
    "        self.gradients = {}\n",
    "        \n",
    "        for n in self.outputs:\n",
    "            grad_cost = n.gradients[self]\n",
    "            self.gradients[self] = grad_cost\n",
    "    \n",
    "    def __repr__(self):\n",
    "        return 'Input Node:{}'.format(self.name)"
   ]
  },
  {
   "cell_type": "code",
   "execution_count": 190,
   "metadata": {},
   "outputs": [],
   "source": [
    "class Linear(Node):\n",
    "    def __init__(self, nodes, weights, bias):\n",
    "        self.w_node = weights\n",
    "        self.x_node = nodes\n",
    "        self.b_node = bias\n",
    "        Node.__init__(self, inputs=[nodes, weights, bias])\n",
    "        \n",
    "    def forward(self):\n",
    "        \"\"\"compute the wx + b using numpy\"\"\"\n",
    "        self.value = np.dot(self.x_node.value, self.w_node.value) + self.b_node.value\n",
    "        \n",
    "    def backward(self):\n",
    "        for node in self.outputs:\n",
    "            grad_cost = node.gradients[self]\n",
    "            \n",
    "            self.gradients[self.w_node] = np.dot(self.x_node.value.T, grad_cost)\n",
    "            self.gradients[self.b_node] = np.sum(grad_cost * 1, axis=0, keepdims=False)\n",
    "            self.gradients[self.x_node] = np.dot(grad_cost, self.w_node.value.T)"
   ]
  },
  {
   "cell_type": "code",
   "execution_count": 191,
   "metadata": {},
   "outputs": [],
   "source": [
    "class Sigmoid(Node):\n",
    "    def __init__(self, node):\n",
    "        Node.__init__(self, [node])\n",
    "        self.x_node = node\n",
    "        \n",
    "    def _sigmoid(self, x):\n",
    "        return 1. / (1 + np.exp(-1 * x))\n",
    "    \n",
    "    def forward(self):\n",
    "        self.value = self._sigmoid(self.x_node.value)\n",
    "        \n",
    "    def backward(self):\n",
    "        y = self.value\n",
    "        \n",
    "        self.partial = y * (1 - y)\n",
    "        \n",
    "        for n in self.outputs:\n",
    "            grad_cost = n.gradients[self]\n",
    "            self.gradients[self.x_node] = grad_cost * self.partial"
   ]
  },
  {
   "cell_type": "code",
   "execution_count": 192,
   "metadata": {},
   "outputs": [],
   "source": [
    "class MSE(Node):\n",
    "    def __init__(self, y_true, y_hat):\n",
    "        self.y_true_node = y_true\n",
    "        self.y_hat_node = y_hat\n",
    "        Node.__init__(self, inputs=[y_true, y_hat])\n",
    "        \n",
    "    def forward(self):\n",
    "        y_true_flatten = self.y_true_node.value.reshape(-1, 1)\n",
    "        y_hat_flatten = self.y_hat_node.value.reshape(-1, 1)\n",
    "        \n",
    "        self.diff = y_true_flatten - y_hat_flatten\n",
    "        \n",
    "        self.value = np.mean(self.diff ** 2)\n",
    "        \n",
    "    def backward(self):\n",
    "        n = self.y_hat_node.value.shape[0]\n",
    "        \n",
    "        self.gradients[self.y_true_node] = (2 / n) * self.diff\n",
    "        self.gradients[self.y_hat_node] = (-2 / n) * self.diff"
   ]
  },
  {
   "cell_type": "code",
   "execution_count": 193,
   "metadata": {},
   "outputs": [],
   "source": [
    "def training_one_batch(topological_sorted_graph):\n",
    "    # graph 是经过拓扑排序之后的 一个list\n",
    "    for node in topological_sorted_graph:\n",
    "        node.forward()\n",
    "        \n",
    "    for node in topological_sorted_graph[::-1]:\n",
    "        node.backward()"
   ]
  },
  {
   "cell_type": "code",
   "execution_count": 194,
   "metadata": {},
   "outputs": [],
   "source": [
    "def topological_sort(data_with_value):\n",
    "    feed_dict = data_with_value\n",
    "    input_nodes = [n for n in feed_dict.keys()]\n",
    "    \n",
    "    G = {}\n",
    "    nodes = [n for n in input_nodes]\n",
    "    while len(nodes) > 0:\n",
    "        n = nodes.pop(0)\n",
    "        if n not in G:\n",
    "            G[n] = {'in': set(), 'out': set()}\n",
    "        for m in n.outputs:\n",
    "            if m not in G:\n",
    "                G[m] = {'in': set(), 'out': set()}\n",
    "            G[n]['out'].add(m)\n",
    "            G[m]['in'].add(n)\n",
    "            nodes.append(m)\n",
    "            \n",
    "    L = []\n",
    "    S = set(input_nodes)\n",
    "    while len(S) > 0:\n",
    "        n = S.pop()\n",
    "        \n",
    "        if isinstance(n, Input):\n",
    "            n.value = feed_dict[n]\n",
    "            ## if n is Input Node, set n'value as \n",
    "            ## feed_dict[n]\n",
    "            ## else, n's value is caculate as its\n",
    "            ## inbounds\n",
    "            \n",
    "        L.append(n)\n",
    "        for m in n.outputs:\n",
    "            G[n]['out'].remove(m)\n",
    "            G[m]['in'].remove(n)\n",
    "            # if no other incoming edges add to S\n",
    "            if len(G[m]['in']) == 0:\n",
    "                S.add(m)\n",
    "    return L"
   ]
  },
  {
   "cell_type": "code",
   "execution_count": 195,
   "metadata": {},
   "outputs": [],
   "source": [
    "def sgd_update(trainable_nodes, learning_rate=1e-2):\n",
    "    for t in trainable_nodes:\n",
    "        t.value += -1 * learning_rate * t.gradients[t]"
   ]
  },
  {
   "cell_type": "code",
   "execution_count": 196,
   "metadata": {},
   "outputs": [],
   "source": [
    "from sklearn.datasets import load_boston\n",
    "import numpy as np"
   ]
  },
  {
   "cell_type": "code",
   "execution_count": 197,
   "metadata": {},
   "outputs": [],
   "source": [
    "data = load_boston()"
   ]
  },
  {
   "cell_type": "code",
   "execution_count": 198,
   "metadata": {},
   "outputs": [],
   "source": [
    "X_ = data['data']"
   ]
  },
  {
   "cell_type": "code",
   "execution_count": 199,
   "metadata": {},
   "outputs": [],
   "source": [
    "y_ = data['target']"
   ]
  },
  {
   "cell_type": "code",
   "execution_count": 200,
   "metadata": {},
   "outputs": [
    {
     "data": {
      "text/plain": [
       "array([6.320e-03, 1.800e+01, 2.310e+00, 0.000e+00, 5.380e-01, 6.575e+00,\n",
       "       6.520e+01, 4.090e+00, 1.000e+00, 2.960e+02, 1.530e+01, 3.969e+02,\n",
       "       4.980e+00])"
      ]
     },
     "execution_count": 200,
     "metadata": {},
     "output_type": "execute_result"
    }
   ],
   "source": [
    "X_[0]"
   ]
  },
  {
   "cell_type": "code",
   "execution_count": 201,
   "metadata": {},
   "outputs": [
    {
     "data": {
      "text/plain": [
       "24.0"
      ]
     },
     "execution_count": 201,
     "metadata": {},
     "output_type": "execute_result"
    }
   ],
   "source": [
    "y_[0]"
   ]
  },
  {
   "cell_type": "code",
   "execution_count": 202,
   "metadata": {},
   "outputs": [],
   "source": [
    "X_ = (X_ - np.mean(X_, axis=0)) / np.std(X_, axis=0)"
   ]
  },
  {
   "cell_type": "code",
   "execution_count": 203,
   "metadata": {},
   "outputs": [
    {
     "data": {
      "text/plain": [
       "array([-0.41978194,  0.28482986, -1.2879095 , -0.27259857, -0.14421743,\n",
       "        0.41367189, -0.12001342,  0.1402136 , -0.98284286, -0.66660821,\n",
       "       -1.45900038,  0.44105193, -1.0755623 ])"
      ]
     },
     "execution_count": 203,
     "metadata": {},
     "output_type": "execute_result"
    }
   ],
   "source": [
    "X_[0]"
   ]
  },
  {
   "cell_type": "code",
   "execution_count": 204,
   "metadata": {},
   "outputs": [],
   "source": [
    "n_features = X_.shape[1]"
   ]
  },
  {
   "cell_type": "code",
   "execution_count": 205,
   "metadata": {},
   "outputs": [
    {
     "data": {
      "text/plain": [
       "13"
      ]
     },
     "execution_count": 205,
     "metadata": {},
     "output_type": "execute_result"
    }
   ],
   "source": [
    "n_features"
   ]
  },
  {
   "cell_type": "code",
   "execution_count": 206,
   "metadata": {},
   "outputs": [],
   "source": [
    "n_hidden = 10"
   ]
  },
  {
   "cell_type": "code",
   "execution_count": 207,
   "metadata": {},
   "outputs": [],
   "source": [
    "W1_, b1_ = np.random.randn(n_features, n_hidden), np.zeros(n_hidden)"
   ]
  },
  {
   "cell_type": "code",
   "execution_count": 208,
   "metadata": {},
   "outputs": [],
   "source": [
    "W2_, b2_ = np.random.randn(n_hidden, 1), np.zeros(1)"
   ]
  },
  {
   "cell_type": "markdown",
   "metadata": {},
   "source": [
    "## Build a graph connection "
   ]
  },
  {
   "cell_type": "markdown",
   "metadata": {},
   "source": [
    "### 1st. Build Nodes in this graph"
   ]
  },
  {
   "cell_type": "code",
   "execution_count": 209,
   "metadata": {},
   "outputs": [],
   "source": [
    "X, y = Input(name='X'), Input(name='y')  # tensorflow -> placeholder\n",
    "W1, b1 = Input(name='W1'), Input(name='b1')\n",
    "W2, b2 = Input(name='W2'), Input(name='b2')"
   ]
  },
  {
   "cell_type": "markdown",
   "metadata": {},
   "source": [
    "### 2nd build connection relationship"
   ]
  },
  {
   "cell_type": "code",
   "execution_count": 210,
   "metadata": {},
   "outputs": [],
   "source": [
    "linear_output = Linear(X, W1, b1)\n",
    "sigmoid_output = Sigmoid(linear_output)\n",
    "yhat = Linear(sigmoid_output, W2, b2)\n",
    "loss = MSE(y, yhat)"
   ]
  },
  {
   "cell_type": "code",
   "execution_count": 211,
   "metadata": {},
   "outputs": [],
   "source": [
    "input_node_with_value = {  # -> feed_dict \n",
    "    X: X_, \n",
    "    y: y_, \n",
    "    W1: W1_, \n",
    "    W2: W2_, \n",
    "    b1: b1_, \n",
    "    b2: b2_\n",
    "}"
   ]
  },
  {
   "cell_type": "code",
   "execution_count": 212,
   "metadata": {},
   "outputs": [],
   "source": [
    "graph = topological_sort(input_node_with_value)"
   ]
  },
  {
   "cell_type": "code",
   "execution_count": 213,
   "metadata": {},
   "outputs": [
    {
     "data": {
      "text/plain": [
       "[Input Node:y,\n",
       " Input Node:b1,\n",
       " Input Node:b2,\n",
       " Input Node:X,\n",
       " Input Node:W2,\n",
       " Input Node:W1,\n",
       " <__main__.Linear at 0x2831ecbf9b0>,\n",
       " <__main__.Sigmoid at 0x2831ecbfeb8>,\n",
       " <__main__.Linear at 0x2831ecbf8d0>,\n",
       " <__main__.MSE at 0x2831ecbfd30>]"
      ]
     },
     "execution_count": 213,
     "metadata": {},
     "output_type": "execute_result"
    }
   ],
   "source": [
    "graph"
   ]
  },
  {
   "cell_type": "code",
   "execution_count": 214,
   "metadata": {},
   "outputs": [],
   "source": [
    "from sklearn.utils import resample"
   ]
  },
  {
   "cell_type": "code",
   "execution_count": 215,
   "metadata": {},
   "outputs": [],
   "source": [
    "def run(dictionary):\n",
    "    return topological_sort(dictionary)"
   ]
  },
  {
   "cell_type": "code",
   "execution_count": 216,
   "metadata": {},
   "outputs": [
    {
     "name": "stdout",
     "output_type": "stream",
     "text": [
      "Epoch: 1, loss = 668.450\n",
      "Epoch: 101, loss = 44.847\n",
      "Epoch: 201, loss = 20.437\n",
      "Epoch: 301, loss = 22.616\n",
      "Epoch: 401, loss = 15.613\n",
      "Epoch: 501, loss = 11.454\n",
      "Epoch: 601, loss = 15.164\n",
      "Epoch: 701, loss = 16.672\n",
      "Epoch: 801, loss = 11.193\n",
      "Epoch: 901, loss = 11.996\n",
      "Epoch: 1001, loss = 12.728\n",
      "Epoch: 1101, loss = 14.035\n",
      "Epoch: 1201, loss = 15.115\n",
      "Epoch: 1301, loss = 10.058\n",
      "Epoch: 1401, loss = 8.856\n",
      "Epoch: 1501, loss = 10.586\n",
      "Epoch: 1601, loss = 10.157\n",
      "Epoch: 1701, loss = 9.834\n",
      "Epoch: 1801, loss = 9.461\n",
      "Epoch: 1901, loss = 8.108\n",
      "Epoch: 2001, loss = 8.884\n",
      "Epoch: 2101, loss = 8.083\n",
      "Epoch: 2201, loss = 8.365\n",
      "Epoch: 2301, loss = 9.077\n",
      "Epoch: 2401, loss = 8.105\n",
      "Epoch: 2501, loss = 8.787\n",
      "Epoch: 2601, loss = 9.120\n",
      "Epoch: 2701, loss = 8.057\n",
      "Epoch: 2801, loss = 7.317\n",
      "Epoch: 2901, loss = 7.237\n",
      "Epoch: 3001, loss = 6.551\n",
      "Epoch: 3101, loss = 6.748\n",
      "Epoch: 3201, loss = 8.296\n",
      "Epoch: 3301, loss = 7.897\n",
      "Epoch: 3401, loss = 8.342\n",
      "Epoch: 3501, loss = 5.706\n",
      "Epoch: 3601, loss = 9.272\n",
      "Epoch: 3701, loss = 7.227\n",
      "Epoch: 3801, loss = 6.296\n",
      "Epoch: 3901, loss = 5.704\n",
      "Epoch: 4001, loss = 6.134\n",
      "Epoch: 4101, loss = 5.800\n",
      "Epoch: 4201, loss = 6.942\n",
      "Epoch: 4301, loss = 5.255\n",
      "Epoch: 4401, loss = 7.052\n",
      "Epoch: 4501, loss = 6.456\n",
      "Epoch: 4601, loss = 6.169\n",
      "Epoch: 4701, loss = 6.732\n",
      "Epoch: 4801, loss = 5.949\n",
      "Epoch: 4901, loss = 6.220\n"
     ]
    }
   ],
   "source": [
    "losses = []\n",
    "epochs = 5000\n",
    "\n",
    "batch_size = 64\n",
    "\n",
    "steps_per_epoch = X_.shape[0] // batch_size\n",
    "\n",
    "\n",
    "for i in range(epochs):\n",
    "    loss = 0\n",
    "    \n",
    "    for batch in range(steps_per_epoch):\n",
    "        #indices = np.random.choice(range(X_.shape[0]), size=10, replace=True)\n",
    "        #X_batch = X_[indices]\n",
    "        #y_batch = y_[indices]\n",
    "        X_batch, y_batch = resample(X_, y_, n_samples=batch_size)\n",
    "        \n",
    "        X.value = X_batch\n",
    "        y.value = y_batch\n",
    "        \n",
    "        input_node_with_value = {  # -> feed_dict \n",
    "            X: X_batch, \n",
    "            y: y_batch, \n",
    "            W1: W1.value, \n",
    "            W2: W2.value, \n",
    "            b1: b1.value, \n",
    "            b2: b2.value,\n",
    "        }\n",
    "        \n",
    "        graph = topological_sort(input_node_with_value)\n",
    "        \n",
    "        training_one_batch(graph)\n",
    "        \n",
    "        learning_rate = 1e-3\n",
    "        \n",
    "        sgd_update(trainable_nodes=[W1, W2, b1, b2], learning_rate=learning_rate)\n",
    "        \n",
    "        loss += graph[-1].value\n",
    "        \n",
    "    if i % 100 == 0:\n",
    "        print('Epoch: {}, loss = {:.3f}'.format(i+1, loss/steps_per_epoch))\n",
    "        losses.append(loss)"
   ]
  },
  {
   "cell_type": "code",
   "execution_count": 218,
   "metadata": {},
   "outputs": [],
   "source": [
    "%matplotlib inline"
   ]
  },
  {
   "cell_type": "code",
   "execution_count": 219,
   "metadata": {
    "scrolled": true
   },
   "outputs": [
    {
     "data": {
      "text/plain": [
       "[<matplotlib.lines.Line2D at 0x2832c82dc50>]"
      ]
     },
     "execution_count": 219,
     "metadata": {},
     "output_type": "execute_result"
    },
    {
     "data": {
      "image/png": "[encoded data removed]",
      "text/plain": [
       "<Figure size 432x288 with 1 Axes>"
      ]
     },
     "metadata": {
      "needs_background": "light"
     },
     "output_type": "display_data"
    }
   ],
   "source": [
    "import matplotlib.pyplot as plt\n",
    "plt.plot(losses)"
   ]
  },
  {
   "cell_type": "code",
   "execution_count": 224,
   "metadata": {},
   "outputs": [
    {
     "data": {
      "text/plain": [
       "array([[-0.13663421,  0.22374368, -0.33617098, -0.03418939,  1.05173538,\n",
       "        -1.38007919, -1.19023532, -0.16728608,  0.019904  , -0.51419388],\n",
       "       [-0.24766903,  0.80978349, -1.06273972,  0.52459828,  1.98224274,\n",
       "        -0.82018162, -0.41542235,  0.34599292,  0.98012782,  0.51702072],\n",
       "       [ 0.71540421, -1.59658653, -0.9189312 , -0.40673101,  2.87572519,\n",
       "         0.30537921,  0.30775515,  2.03854972,  0.58171353, -0.56083485],\n",
       "       [ 3.42576995, -0.401666  , -0.39993371,  0.27509009, -0.53201043,\n",
       "        -0.46826939, -0.2046355 , -0.6678955 , -0.43618789,  0.05451637],\n",
       "       [ 1.12589467, -0.29403547, -1.28242167, -1.54586614,  0.82954922,\n",
       "         1.54551572, -0.88025035, -3.74961279, -0.27512808, -0.56071938],\n",
       "       [ 2.21681268, -0.54859361, -1.85471471, -0.57183995,  2.39950762,\n",
       "         1.2947656 ,  2.26461197,  1.17092426, -1.13953917, -0.15384113],\n",
       "       [-1.6373109 ,  0.82653768, -0.99279924,  0.52112135, -0.5306854 ,\n",
       "        -2.03088939,  0.92337756, -0.74094807,  1.85028996,  1.71082315],\n",
       "       [ 0.25876333, -3.41505783, -0.52646248, -3.7728035 ,  0.16952586,\n",
       "         1.75113149,  0.85739738, -0.40545154,  0.18308151, -0.70996606],\n",
       "       [-0.75106401, -1.18178216,  0.12477272,  1.86886631,  2.06494634,\n",
       "        -0.1070747 ,  3.15687145, -1.11958606,  0.55810121, -0.08187488],\n",
       "       [-1.16313208,  0.05777421,  0.52320333, -0.52204278,  1.88270824,\n",
       "        -1.63162611,  0.75688357, -0.9798211 , -0.86900793, -1.24244041],\n",
       "       [-0.76524641,  0.18030032, -1.51256213, -1.18319933,  0.21593846,\n",
       "        -0.88026356,  0.19658109, -0.6828285 , -0.32892556,  1.29661533],\n",
       "       [ 0.88916906, -0.23838305,  1.15966637,  0.48059365, -0.95935932,\n",
       "         0.70635673, -0.03963437,  0.23868615, -0.35814382, -0.05542014],\n",
       "       [ 1.26571441, -3.34100185, -2.89137182, -3.31876123,  0.84465707,\n",
       "         2.08515521, -2.7051212 ,  2.91040165,  0.1450648 , -2.0730832 ]])"
      ]
     },
     "execution_count": 224,
     "metadata": {},
     "output_type": "execute_result"
    }
   ],
   "source": [
    "W1.value"
   ]
  },
  {
   "cell_type": "code",
   "execution_count": 225,
   "metadata": {},
   "outputs": [
    {
     "data": {
      "text/plain": [
       "array([[ 6.49983529],\n",
       "       [ 6.23461913],\n",
       "       [ 5.60559568],\n",
       "       [10.38018383],\n",
       "       [ 4.65651678],\n",
       "       [ 4.8145799 ],\n",
       "       [ 8.46787127],\n",
       "       [ 5.33829821],\n",
       "       [-1.71652782],\n",
       "       [ 3.14143251]])"
      ]
     },
     "execution_count": 225,
     "metadata": {},
     "output_type": "execute_result"
    }
   ],
   "source": [
    "W2.value"
   ]
  },
  {
   "cell_type": "code",
   "execution_count": 226,
   "metadata": {},
   "outputs": [
    {
     "data": {
      "text/plain": [
       "array([-0.41733926, -0.48772236, -0.59338101, -0.27259857, -0.74026221,\n",
       "        0.19427445,  0.36716642,  0.55715988, -0.8678825 , -0.98732948,\n",
       "       -0.30309415,  0.44105193, -0.49243937])"
      ]
     },
     "execution_count": 226,
     "metadata": {},
     "output_type": "execute_result"
    }
   ],
   "source": [
    "X_[1]"
   ]
  },
  {
   "cell_type": "code",
   "execution_count": 227,
   "metadata": {},
   "outputs": [],
   "source": [
    "def _sigmoid(x):\n",
    "    return 1. / (1 + np.exp(-1 * x))"
   ]
  },
  {
   "cell_type": "code",
   "execution_count": 228,
   "metadata": {},
   "outputs": [
    {
     "data": {
      "text/plain": [
       "array([23.89075963])"
      ]
     },
     "execution_count": 228,
     "metadata": {},
     "output_type": "execute_result"
    }
   ],
   "source": [
    "np.dot(_sigmoid(np.dot(X_[1], W1.value) + b1.value), W2.value) + b2.value"
   ]
  },
  {
   "cell_type": "code",
   "execution_count": 229,
   "metadata": {},
   "outputs": [
    {
     "data": {
      "text/plain": [
       "21.6"
      ]
     },
     "execution_count": 229,
     "metadata": {},
     "output_type": "execute_result"
    }
   ],
   "source": [
    "y_[1]"
   ]
  }
 ],
 "metadata": {
  "kernelspec": {
   "display_name": "ai",
   "language": "python",
   "name": "ai"
  },
  "language_info": {
   "codemirror_mode": {
    "name": "ipython",
    "version": 3
   },
   "file_extension": ".py",
   "mimetype": "text/x-python",
   "name": "python",
   "nbconvert_exporter": "python",
   "pygments_lexer": "ipython3",
   "version": "3.6.8"
  }
 },
 "nbformat": 4,
 "nbformat_minor": 2
}
