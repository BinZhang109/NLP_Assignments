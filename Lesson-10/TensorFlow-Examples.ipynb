{
 "cells": [
  {
   "cell_type": "markdown",
   "metadata": {},
   "source": [
    "https://github.com/aymericdamien/TensorFlow-Examples"
   ]
  },
  {
   "cell_type": "markdown",
   "metadata": {},
   "source": [
    "## 1. Introduction"
   ]
  },
  {
   "cell_type": "markdown",
   "metadata": {},
   "source": [
    "### Hell World"
   ]
  },
  {
   "cell_type": "code",
   "execution_count": 1,
   "metadata": {},
   "outputs": [],
   "source": [
    "import tensorflow as tf\n",
    "# Simple hello world using TensorFlow\n",
    "\n",
    "# Create a Constant op\n",
    "# The op is added as a node to the default graph.\n",
    "#\n",
    "# The value returned by the constructor represents the output\n",
    "# of the Constant op.\n",
    "\n",
    "hello = tf.constant('Hello, TensorFlow!')"
   ]
  },
  {
   "cell_type": "code",
   "execution_count": 2,
   "metadata": {},
   "outputs": [],
   "source": [
    "# Start tf session\n",
    "sess = tf.Session()"
   ]
  },
  {
   "cell_type": "code",
   "execution_count": 3,
   "metadata": {},
   "outputs": [
    {
     "name": "stdout",
     "output_type": "stream",
     "text": [
      "b'Hello, TensorFlow!'\n"
     ]
    }
   ],
   "source": [
    "# Run graph\n",
    "print(sess.run(hello))"
   ]
  },
  {
   "cell_type": "markdown",
   "metadata": {},
   "source": [
    "### Basic Operations "
   ]
  },
  {
   "cell_type": "code",
   "execution_count": 4,
   "metadata": {},
   "outputs": [],
   "source": [
    "# Basic constant operations\n",
    "# The value returned by the constructor represents the output\n",
    "# of the Constant op.\n",
    "a = tf.constant(2)\n",
    "b = tf.constant(3)"
   ]
  },
  {
   "cell_type": "code",
   "execution_count": 9,
   "metadata": {},
   "outputs": [
    {
     "name": "stdout",
     "output_type": "stream",
     "text": [
      "a: 2 b: 3\n",
      "Addition with constants: 5\n",
      "Multiplication with constants: 6\n"
     ]
    }
   ],
   "source": [
    "# Launch the default graph.\n",
    "with tf.Session() as sess:\n",
    "    print(\"a: %i\" % sess.run(a), \"b: %i\" % sess.run(b))\n",
    "    print(\"Addition with constants: %i\" % sess.run(a+b))\n",
    "    print(\"Multiplication with constants: %i\" % sess.run(a*b))"
   ]
  },
  {
   "cell_type": "code",
   "execution_count": 10,
   "metadata": {},
   "outputs": [],
   "source": [
    "# Basic Operations with variable as graph input\n",
    "# The value returned by the constructor represents the output\n",
    "# of the Variable op. (define as input when running session)\n",
    "# tf Graph input\n",
    "a = tf.placeholder(tf.int16)\n",
    "b = tf.placeholder(tf.int16)"
   ]
  },
  {
   "cell_type": "code",
   "execution_count": 11,
   "metadata": {},
   "outputs": [],
   "source": [
    "# Define some operations\n",
    "add = tf.add(a, b)\n",
    "mul = tf.multiply(a, b)"
   ]
  },
  {
   "cell_type": "code",
   "execution_count": 14,
   "metadata": {},
   "outputs": [
    {
     "name": "stdout",
     "output_type": "stream",
     "text": [
      "Addition with variables: 5\n",
      "Multiplication with variables: 6\n"
     ]
    }
   ],
   "source": [
    "# Launch the default graph.\n",
    "with tf.Session() as sess:\n",
    "    # Run every operation with variable input\n",
    "    print(\"Addition with variables: %i\" % sess.run(add, feed_dict={a: 2, b: 3}))\n",
    "    print(\"Multiplication with variables: %i\" % sess.run(mul, feed_dict={a: 2, b: 3}))"
   ]
  },
  {
   "cell_type": "code",
   "execution_count": 15,
   "metadata": {},
   "outputs": [],
   "source": [
    "# ----------------\n",
    "# More in details:\n",
    "# Matrix Multiplication from TensorFlow official tutorial\n",
    "\n",
    "# Create a Constant op that produces a 1x2 matrix.  The op is\n",
    "# added as a node to the default graph.\n",
    "#\n",
    "# The value returned by the constructor represents the output\n",
    "# of the Constant op.\n",
    "matrix1 = tf.constant([[3., 3.]])"
   ]
  },
  {
   "cell_type": "code",
   "execution_count": 16,
   "metadata": {},
   "outputs": [],
   "source": [
    "# Create another Constant that produces a 2x1 matrix.\n",
    "matrix2 = tf.constant([[2.],[2.]])"
   ]
  },
  {
   "cell_type": "code",
   "execution_count": 17,
   "metadata": {},
   "outputs": [],
   "source": [
    "# Create a Matmul op that takes 'matrix1' and 'matrix2' as inputs.\n",
    "# The returned value, 'product', represents the result of the matrix\n",
    "# multiplication.\n",
    "product = tf.matmul(matrix1, matrix2)"
   ]
  },
  {
   "cell_type": "code",
   "execution_count": 20,
   "metadata": {},
   "outputs": [
    {
     "name": "stdout",
     "output_type": "stream",
     "text": [
      "[[12.]]\n"
     ]
    }
   ],
   "source": [
    "# To run the matmul op we call the session 'run()' method, passing 'product'\n",
    "# which represents the output of the matmul op.  This indicates to the call\n",
    "# that we want to get the output of the matmul op back.\n",
    "#\n",
    "# All inputs needed by the op are run automatically by the session.  They\n",
    "# typically are run in parallel.\n",
    "#\n",
    "# The call 'run(product)' thus causes the execution of threes ops in the\n",
    "# graph: the two constants and matmul.\n",
    "#\n",
    "# The output of the op is returned in 'result' as a numpy `ndarray` object.\n",
    "with tf.Session() as sess:\n",
    "    result = sess.run(product)\n",
    "    print(result)"
   ]
  },
  {
   "cell_type": "markdown",
   "metadata": {},
   "source": [
    "### TensorFlow Eager API basics"
   ]
  },
  {
   "cell_type": "code",
   "execution_count": 1,
   "metadata": {},
   "outputs": [],
   "source": [
    "import numpy as np\n",
    "import tensorflow as tf"
   ]
  },
  {
   "cell_type": "code",
   "execution_count": 2,
   "metadata": {},
   "outputs": [
    {
     "name": "stdout",
     "output_type": "stream",
     "text": [
      "Setting Eager mode...\n",
      "WARNING:tensorflow:\n",
      "The TensorFlow contrib module will not be included in TensorFlow 2.0.\n",
      "For more information, please see:\n",
      "  * https://github.com/tensorflow/community/blob/master/rfcs/20180907-contrib-sunset.md\n",
      "  * https://github.com/tensorflow/addons\n",
      "  * https://github.com/tensorflow/io (for I/O related ops)\n",
      "If you depend on functionality not listed there, please file an issue.\n",
      "\n"
     ]
    }
   ],
   "source": [
    "# Set Eager API\n",
    "print(\"Setting Eager mode...\")\n",
    "tf.enable_eager_execution()\n",
    "tfe = tf.contrib.eager"
   ]
  },
  {
   "cell_type": "code",
   "execution_count": 3,
   "metadata": {},
   "outputs": [
    {
     "name": "stdout",
     "output_type": "stream",
     "text": [
      "Define constant tensors\n",
      "a = 2\n",
      "b = 3\n"
     ]
    }
   ],
   "source": [
    "# Define constant tensors\n",
    "print(\"Define constant tensors\")\n",
    "a = tf.constant(2)\n",
    "print(\"a = %i\" % a)\n",
    "b = tf.constant(3)\n",
    "print(\"b = %i\" % b)"
   ]
  },
  {
   "cell_type": "code",
   "execution_count": 4,
   "metadata": {},
   "outputs": [
    {
     "name": "stdout",
     "output_type": "stream",
     "text": [
      "Running operations, without tf.Session\n",
      "a + b = 5\n",
      "a * b = 6\n"
     ]
    }
   ],
   "source": [
    "# Run the operation without the need for tf.Session\n",
    "print(\"Running operations, without tf.Session\")\n",
    "c = a + b\n",
    "print(\"a + b = %i\" % c)\n",
    "d = a * b\n",
    "print(\"a * b = %i\" % d)"
   ]
  },
  {
   "cell_type": "code",
   "execution_count": 5,
   "metadata": {},
   "outputs": [
    {
     "name": "stdout",
     "output_type": "stream",
     "text": [
      "Mixing operations with Tensors and Numpy Arrays\n",
      "Tensor:\n",
      " a = tf.Tensor(\n",
      "[[2. 1.]\n",
      " [1. 0.]], shape=(2, 2), dtype=float32)\n",
      "NumpyArray:\n",
      " b = [[3. 0.]\n",
      " [5. 1.]]\n"
     ]
    }
   ],
   "source": [
    "# Full compatibility with Numpy\n",
    "print(\"Mixing operations with Tensors and Numpy Arrays\")\n",
    "\n",
    "# Define constant tensors\n",
    "a = tf.constant([[2., 1.],\n",
    "                 [1., 0.]], dtype=tf.float32)\n",
    "print(\"Tensor:\\n a = %s\" % a)\n",
    "b = np.array([[3., 0.],\n",
    "              [5., 1.]], dtype=np.float32)\n",
    "print(\"NumpyArray:\\n b = %s\" % b)"
   ]
  },
  {
   "cell_type": "code",
   "execution_count": 6,
   "metadata": {},
   "outputs": [
    {
     "name": "stdout",
     "output_type": "stream",
     "text": [
      "Running operations, without tf.Session\n",
      "a + b = tf.Tensor(\n",
      "[[5. 1.]\n",
      " [6. 1.]], shape=(2, 2), dtype=float32)\n",
      "a * b = tf.Tensor(\n",
      "[[11.  1.]\n",
      " [ 3.  0.]], shape=(2, 2), dtype=float32)\n"
     ]
    }
   ],
   "source": [
    "# Run the operation without the need for tf.Session\n",
    "print(\"Running operations, without tf.Session\")\n",
    "\n",
    "c = a + b\n",
    "print(\"a + b = %s\" % c)\n",
    "\n",
    "d = tf.matmul(a, b)\n",
    "print(\"a * b = %s\" % d)"
   ]
  },
  {
   "cell_type": "code",
   "execution_count": 7,
   "metadata": {},
   "outputs": [
    {
     "name": "stdout",
     "output_type": "stream",
     "text": [
      "Iterate through Tensor 'a':\n",
      "tf.Tensor(2.0, shape=(), dtype=float32)\n",
      "tf.Tensor(1.0, shape=(), dtype=float32)\n",
      "tf.Tensor(1.0, shape=(), dtype=float32)\n",
      "tf.Tensor(0.0, shape=(), dtype=float32)\n"
     ]
    }
   ],
   "source": [
    "print(\"Iterate through Tensor 'a':\")\n",
    "for i in range(a.shape[0]):\n",
    "    for j in range(a.shape[1]):\n",
    "        print(a[i][j])"
   ]
  },
  {
   "cell_type": "markdown",
   "metadata": {},
   "source": [
    "## 2. Basic Models"
   ]
  },
  {
   "cell_type": "markdown",
   "metadata": {},
   "source": [
    "### Linear Regression"
   ]
  },
  {
   "cell_type": "code",
   "execution_count": 1,
   "metadata": {},
   "outputs": [],
   "source": [
    "import numpy\n",
    "import matplotlib.pyplot as plt\n",
    "import tensorflow as tf\n",
    "rng = numpy.random"
   ]
  },
  {
   "cell_type": "code",
   "execution_count": 2,
   "metadata": {},
   "outputs": [],
   "source": [
    "# Parameters\n",
    "learning_rate = 0.01\n",
    "training_epochs = 1000\n",
    "display_step = 50"
   ]
  },
  {
   "cell_type": "code",
   "execution_count": 3,
   "metadata": {},
   "outputs": [],
   "source": [
    "# Training Data\n",
    "train_X = numpy.asarray([3.3,4.4,5.5,6.71,6.93,4.168,9.779,6.182,7.59,2.167,\n",
    "                         7.042,10.791,5.313,7.997,5.654,9.27,3.1])\n",
    "train_Y = numpy.asarray([1.7,2.76,2.09,3.19,1.694,1.573,3.366,2.596,2.53,1.221,\n",
    "                         2.827,3.465,1.65,2.904,2.42,2.94,1.3])\n",
    "n_samples = train_X.shape[0]"
   ]
  },
  {
   "cell_type": "code",
   "execution_count": 4,
   "metadata": {},
   "outputs": [],
   "source": [
    "# tf Graph Input\n",
    "X = tf.placeholder(\"float\")\n",
    "Y = tf.placeholder(\"float\")\n",
    "\n",
    "# Set model weights\n",
    "W = tf.Variable(rng.randn(), name=\"weight\")\n",
    "b = tf.Variable(rng.randn(), name=\"bias\")"
   ]
  },
  {
   "cell_type": "code",
   "execution_count": 5,
   "metadata": {},
   "outputs": [],
   "source": [
    "# Construct a linear model\n",
    "pred = tf.add(tf.multiply(X, W), b)"
   ]
  },
  {
   "cell_type": "code",
   "execution_count": 6,
   "metadata": {},
   "outputs": [
    {
     "name": "stdout",
     "output_type": "stream",
     "text": [
      "WARNING:tensorflow:From C:\\Users\\Ryan Wu\\Anaconda3\\envs\\ai\\lib\\site-packages\\tensorflow\\python\\ops\\math_grad.py:1205: add_dispatch_support.<locals>.wrapper (from tensorflow.python.ops.array_ops) is deprecated and will be removed in a future version.\n",
      "Instructions for updating:\n",
      "Use tf.where in 2.0, which has the same broadcast rule as np.where\n"
     ]
    }
   ],
   "source": [
    "# Mean squared error\n",
    "cost = tf.reduce_sum(tf.pow(pred-Y, 2))/(2*n_samples)\n",
    "# Gradient descent\n",
    "optimizer = tf.train.GradientDescentOptimizer(learning_rate).minimize(cost)"
   ]
  },
  {
   "cell_type": "code",
   "execution_count": 7,
   "metadata": {},
   "outputs": [],
   "source": [
    "# Initialize the variables (i.e. assign their default value)\n",
    "init = tf.global_variables_initializer()"
   ]
  },
  {
   "cell_type": "code",
   "execution_count": 9,
   "metadata": {},
   "outputs": [
    {
     "name": "stdout",
     "output_type": "stream",
     "text": [
      "Epoch: 0050 cost= 0.106208548 W= 0.34528488 b= 0.113070354\n",
      "Epoch: 0100 cost= 0.102828495 W= 0.33959362 b= 0.15401246\n",
      "Epoch: 0150 cost= 0.099838980 W= 0.33424088 b= 0.19251956\n",
      "Epoch: 0200 cost= 0.097194940 W= 0.3292066 b= 0.22873661\n",
      "Epoch: 0250 cost= 0.094856493 W= 0.3244716 b= 0.26279962\n",
      "Epoch: 0300 cost= 0.092788309 W= 0.32001814 b= 0.29483697\n",
      "Epoch: 0350 cost= 0.090959176 W= 0.31582972 b= 0.32496876\n",
      "Epoch: 0400 cost= 0.089341559 W= 0.31189027 b= 0.35330805\n",
      "Epoch: 0450 cost= 0.087910898 W= 0.3081852 b= 0.37996247\n",
      "Epoch: 0500 cost= 0.086645663 W= 0.30470034 b= 0.4050318\n",
      "Epoch: 0550 cost= 0.085526802 W= 0.30142298 b= 0.4286092\n",
      "Epoch: 0600 cost= 0.084537305 W= 0.29834047 b= 0.45078474\n",
      "Epoch: 0650 cost= 0.083662257 W= 0.29544124 b= 0.47164178\n",
      "Epoch: 0700 cost= 0.082888469 W= 0.2927144 b= 0.49125788\n",
      "Epoch: 0750 cost= 0.082204200 W= 0.29014996 b= 0.5097074\n",
      "Epoch: 0800 cost= 0.081599116 W= 0.28773782 b= 0.5270596\n",
      "Epoch: 0850 cost= 0.081064075 W= 0.28546917 b= 0.54338\n",
      "Epoch: 0900 cost= 0.080590963 W= 0.2833355 b= 0.55873\n",
      "Epoch: 0950 cost= 0.080172613 W= 0.2813285 b= 0.57316774\n",
      "Epoch: 1000 cost= 0.079802744 W= 0.27944106 b= 0.5867459\n",
      "Optimization Finished!\n",
      "Training cost= 0.079802744 W= 0.27944106 b= 0.5867459 \n",
      "\n"
     ]
    },
    {
     "data": {
      "image/png": "[encoded data removed]",
      "text/plain": [
       "<Figure size 432x288 with 1 Axes>"
      ]
     },
     "metadata": {
      "needs_background": "light"
     },
     "output_type": "display_data"
    }
   ],
   "source": [
    "# Start training\n",
    "with tf.Session() as sess:\n",
    "    sess.run(init)\n",
    "\n",
    "    # Fit all training data\n",
    "    for epoch in range(training_epochs):\n",
    "        for (x, y) in zip(train_X, train_Y):\n",
    "            sess.run(optimizer, feed_dict={X: x, Y: y})\n",
    "\n",
    "        #Display logs per epoch step\n",
    "        if (epoch+1) % display_step == 0:\n",
    "            c = sess.run(cost, feed_dict={X: train_X, Y:train_Y})\n",
    "            print(\"Epoch:\", '%04d' % (epoch+1), \"cost=\", \"{:.9f}\".format(c), \\\n",
    "                \"W=\", sess.run(W), \"b=\", sess.run(b))\n",
    "\n",
    "    print(\"Optimization Finished!\")\n",
    "    training_cost = sess.run(cost, feed_dict={X: train_X, Y: train_Y})\n",
    "    print(\"Training cost=\", training_cost, \"W=\", sess.run(W), \"b=\", sess.run(b), '\\n')\n",
    "\n",
    "    #Graphic display\n",
    "    plt.plot(train_X, train_Y, 'ro', label='Original data')\n",
    "    plt.plot(train_X, sess.run(W) * train_X + sess.run(b), label='Fitted line')\n",
    "    plt.legend()\n",
    "    plt.show()"
   ]
  },
  {
   "cell_type": "markdown",
   "metadata": {},
   "source": [
    "## Linear Regression (eager api)"
   ]
  },
  {
   "cell_type": "code",
   "execution_count": 1,
   "metadata": {},
   "outputs": [],
   "source": [
    "import matplotlib.pyplot as plt\n",
    "import numpy as np\n",
    "import tensorflow as tf"
   ]
  },
  {
   "cell_type": "code",
   "execution_count": 2,
   "metadata": {},
   "outputs": [
    {
     "name": "stdout",
     "output_type": "stream",
     "text": [
      "WARNING:tensorflow:\n",
      "The TensorFlow contrib module will not be included in TensorFlow 2.0.\n",
      "For more information, please see:\n",
      "  * https://github.com/tensorflow/community/blob/master/rfcs/20180907-contrib-sunset.md\n",
      "  * https://github.com/tensorflow/addons\n",
      "  * https://github.com/tensorflow/io (for I/O related ops)\n",
      "If you depend on functionality not listed there, please file an issue.\n",
      "\n"
     ]
    }
   ],
   "source": [
    "# Set Eager API\n",
    "tf.enable_eager_execution()\n",
    "tfe = tf.contrib.eager"
   ]
  },
  {
   "cell_type": "code",
   "execution_count": 3,
   "metadata": {},
   "outputs": [],
   "source": [
    "# Training Data\n",
    "train_X = [3.3, 4.4, 5.5, 6.71, 6.93, 4.168, 9.779, 6.182, 7.59, 2.167,\n",
    "           7.042, 10.791, 5.313, 7.997, 5.654, 9.27, 3.1]\n",
    "train_Y = [1.7, 2.76, 2.09, 3.19, 1.694, 1.573, 3.366, 2.596, 2.53, 1.221,\n",
    "           2.827, 3.465, 1.65, 2.904, 2.42, 2.94, 1.3]\n",
    "n_samples = len(train_X)\n",
    "\n",
    "# Parameters\n",
    "learning_rate = 0.01\n",
    "display_step = 100\n",
    "num_steps = 1000"
   ]
  },
  {
   "cell_type": "code",
   "execution_count": 4,
   "metadata": {},
   "outputs": [],
   "source": [
    "# Weight and Bias\n",
    "W = tfe.Variable(np.random.randn())\n",
    "b = tfe.Variable(np.random.randn())\n",
    "\n",
    "# Linear regression (Wx + b)\n",
    "def linear_regression(inputs):\n",
    "    return inputs * W + b\n",
    "\n",
    "# Mean square error\n",
    "def mean_square_fn(model_fn, inputs, labels):\n",
    "    return tf.reduce_sum(tf.pow(model_fn(inputs) - labels, 2)) / (2 * n_samples)"
   ]
  },
  {
   "cell_type": "code",
   "execution_count": 5,
   "metadata": {},
   "outputs": [],
   "source": [
    "# SGD Optimizer\n",
    "optimizer = tf.train.GradientDescentOptimizer(learning_rate=learning_rate)\n",
    "\n",
    "# Compute gradients\n",
    "grad = tfe.implicit_gradients(mean_square_fn)"
   ]
  },
  {
   "cell_type": "code",
   "execution_count": 6,
   "metadata": {
    "scrolled": false
   },
   "outputs": [
    {
     "name": "stdout",
     "output_type": "stream",
     "text": [
      "Initial cost= 22.056007385 W= -0.6179227 b= -0.094497114\n",
      "WARNING:tensorflow:From C:\\Users\\Ryan Wu\\Anaconda3\\envs\\ai\\lib\\site-packages\\tensorflow\\python\\ops\\math_grad.py:1205: add_dispatch_support.<locals>.wrapper (from tensorflow.python.ops.array_ops) is deprecated and will be removed in a future version.\n",
      "Instructions for updating:\n",
      "Use tf.where in 2.0, which has the same broadcast rule as np.where\n",
      "Epoch: 0001 cost= 6.711404800 W= -0.17721999 b= -0.031399384\n",
      "Epoch: 0100 cost= 0.104648262 W= 0.3460262 b= 0.12960956\n",
      "Epoch: 0200 cost= 0.098670289 W= 0.33523065 b= 0.20614527\n",
      "Epoch: 0300 cost= 0.093981504 W= 0.32566977 b= 0.27392757\n",
      "Epoch: 0400 cost= 0.090303950 W= 0.31720236 b= 0.33395764\n",
      "Epoch: 0500 cost= 0.087419450 W= 0.30970338 b= 0.3871221\n",
      "Epoch: 0600 cost= 0.085157029 W= 0.30306205 b= 0.43420607\n",
      "Epoch: 0700 cost= 0.083382547 W= 0.2971803 b= 0.47590506\n",
      "Epoch: 0800 cost= 0.081990749 W= 0.29197127 b= 0.5128348\n",
      "Epoch: 0900 cost= 0.080899082 W= 0.28735802 b= 0.54554075\n",
      "Epoch: 1000 cost= 0.080042869 W= 0.28327236 b= 0.57450616\n"
     ]
    },
    {
     "data": {
      "image/png": "[encoded data removed]",
      "text/plain": [
       "<Figure size 432x288 with 1 Axes>"
      ]
     },
     "metadata": {
      "needs_background": "light"
     },
     "output_type": "display_data"
    }
   ],
   "source": [
    "# Initial cost, before optimizing\n",
    "print(\"Initial cost= {:.9f}\".format(\n",
    "    mean_square_fn(linear_regression, train_X, train_Y)),\n",
    "    \"W=\", W.numpy(), \"b=\", b.numpy())\n",
    "\n",
    "# Training\n",
    "for step in range(num_steps):\n",
    "\n",
    "    optimizer.apply_gradients(grad(linear_regression, train_X, train_Y))\n",
    "\n",
    "    if (step + 1) % display_step == 0 or step == 0:\n",
    "        print(\"Epoch:\", '%04d' % (step + 1), \"cost=\",\n",
    "              \"{:.9f}\".format(mean_square_fn(linear_regression, train_X, train_Y)),\n",
    "              \"W=\", W.numpy(), \"b=\", b.numpy())\n",
    "\n",
    "# Graphic display\n",
    "plt.plot(train_X, train_Y, 'ro', label='Original data')\n",
    "plt.plot(train_X, np.array(W * train_X + b), label='Fitted line')\n",
    "plt.legend()\n",
    "plt.show()"
   ]
  },
  {
   "cell_type": "markdown",
   "metadata": {},
   "source": [
    "## Nearest Neighbor"
   ]
  },
  {
   "cell_type": "code",
   "execution_count": 6,
   "metadata": {
    "scrolled": true
   },
   "outputs": [
    {
     "name": "stdout",
     "output_type": "stream",
     "text": [
      "Extracting /tmp/data/train-images-idx3-ubyte.gz\n",
      "Extracting /tmp/data/train-labels-idx1-ubyte.gz\n",
      "Extracting /tmp/data/t10k-images-idx3-ubyte.gz\n",
      "Extracting /tmp/data/t10k-labels-idx1-ubyte.gz\n"
     ]
    }
   ],
   "source": [
    "import numpy as np\n",
    "import tensorflow as tf\n",
    "\n",
    "# Import MINST data\n",
    "from tensorflow.examples.tutorials.mnist import input_data\n",
    "mnist = input_data.read_data_sets(\"/tmp/data/\", one_hot=True)"
   ]
  },
  {
   "cell_type": "code",
   "execution_count": 16,
   "metadata": {},
   "outputs": [],
   "source": [
    "?tf.argmin"
   ]
  },
  {
   "cell_type": "code",
   "execution_count": 7,
   "metadata": {},
   "outputs": [],
   "source": [
    "# In this example, we limit mnist data\n",
    "Xtr, Ytr = mnist.train.next_batch(5000) #5000 for training (nn candidates)\n",
    "Xte, Yte = mnist.test.next_batch(200) #200 for testing\n",
    "\n",
    "# tf Graph Input\n",
    "xtr = tf.placeholder(\"float\", [None, 784])\n",
    "# tf.placeholder(dtype, shape=None, name=None)\n",
    "# 784是图片的像素28 * 28\n",
    "xte = tf.placeholder(\"float\", [784])\n",
    "\n",
    "# Nearest Neighbor calculation using L1 Distance\n",
    "# Calculate L1 Distance\n",
    "# 按行求和\n",
    "distance = tf.reduce_sum(tf.abs(tf.add(xtr, tf.negative(xte))), reduction_indices=1)\n",
    "# Prediction: Get min distance index (Nearest neighbor)\n",
    "pred = tf.argmin(distance, 0)# 返回矩阵横列或者纵列的最小值的坐标，取决于第二个参数 \n",
    "\n",
    "accuracy = 0.\n",
    "\n",
    "# Initialize the variables (i.e. assign their default value)\n",
    "init = tf.global_variables_initializer()"
   ]
  },
  {
   "cell_type": "code",
   "execution_count": 8,
   "metadata": {
    "scrolled": false
   },
   "outputs": [
    {
     "name": "stdout",
     "output_type": "stream",
     "text": [
      "Test 0 Prediction: 8 True Class: 8\n",
      "Test 1 Prediction: 7 True Class: 7\n",
      "Test 2 Prediction: 0 True Class: 0\n",
      "Test 3 Prediction: 0 True Class: 0\n",
      "Test 4 Prediction: 0 True Class: 0\n",
      "Test 5 Prediction: 3 True Class: 3\n",
      "Test 6 Prediction: 0 True Class: 8\n",
      "Test 7 Prediction: 7 True Class: 7\n",
      "Test 8 Prediction: 7 True Class: 7\n",
      "Test 9 Prediction: 7 True Class: 7\n",
      "Test 10 Prediction: 0 True Class: 0\n",
      "Test 11 Prediction: 0 True Class: 0\n",
      "Test 12 Prediction: 2 True Class: 2\n",
      "Test 13 Prediction: 4 True Class: 4\n",
      "Test 14 Prediction: 8 True Class: 8\n",
      "Test 15 Prediction: 4 True Class: 4\n",
      "Test 16 Prediction: 5 True Class: 5\n",
      "Test 17 Prediction: 9 True Class: 4\n",
      "Test 18 Prediction: 6 True Class: 6\n",
      "Test 19 Prediction: 7 True Class: 7\n",
      "Test 20 Prediction: 6 True Class: 6\n",
      "Test 21 Prediction: 1 True Class: 1\n",
      "Test 22 Prediction: 0 True Class: 0\n",
      "Test 23 Prediction: 8 True Class: 8\n",
      "Test 24 Prediction: 9 True Class: 9\n",
      "Test 25 Prediction: 5 True Class: 5\n",
      "Test 26 Prediction: 0 True Class: 0\n",
      "Test 27 Prediction: 4 True Class: 4\n",
      "Test 28 Prediction: 2 True Class: 2\n",
      "Test 29 Prediction: 1 True Class: 3\n",
      "Test 30 Prediction: 0 True Class: 0\n",
      "Test 31 Prediction: 6 True Class: 6\n",
      "Test 32 Prediction: 9 True Class: 9\n",
      "Test 33 Prediction: 1 True Class: 1\n",
      "Test 34 Prediction: 7 True Class: 7\n",
      "Test 35 Prediction: 2 True Class: 2\n",
      "Test 36 Prediction: 1 True Class: 1\n",
      "Test 37 Prediction: 5 True Class: 5\n",
      "Test 38 Prediction: 3 True Class: 3\n",
      "Test 39 Prediction: 4 True Class: 4\n",
      "Test 40 Prediction: 3 True Class: 3\n",
      "Test 41 Prediction: 9 True Class: 9\n",
      "Test 42 Prediction: 6 True Class: 6\n",
      "Test 43 Prediction: 5 True Class: 5\n",
      "Test 44 Prediction: 5 True Class: 5\n",
      "Test 45 Prediction: 3 True Class: 8\n",
      "Test 46 Prediction: 9 True Class: 9\n",
      "Test 47 Prediction: 8 True Class: 8\n",
      "Test 48 Prediction: 4 True Class: 8\n",
      "Test 49 Prediction: 1 True Class: 1\n",
      "Test 50 Prediction: 8 True Class: 8\n",
      "Test 51 Prediction: 0 True Class: 0\n",
      "Test 52 Prediction: 8 True Class: 8\n",
      "Test 53 Prediction: 4 True Class: 4\n",
      "Test 54 Prediction: 9 True Class: 9\n",
      "Test 55 Prediction: 0 True Class: 0\n",
      "Test 56 Prediction: 4 True Class: 4\n",
      "Test 57 Prediction: 7 True Class: 7\n",
      "Test 58 Prediction: 3 True Class: 3\n",
      "Test 59 Prediction: 5 True Class: 5\n",
      "Test 60 Prediction: 6 True Class: 6\n",
      "Test 61 Prediction: 5 True Class: 5\n",
      "Test 62 Prediction: 3 True Class: 3\n",
      "Test 63 Prediction: 7 True Class: 7\n",
      "Test 64 Prediction: 9 True Class: 5\n",
      "Test 65 Prediction: 5 True Class: 8\n",
      "Test 66 Prediction: 3 True Class: 3\n",
      "Test 67 Prediction: 7 True Class: 7\n",
      "Test 68 Prediction: 2 True Class: 2\n",
      "Test 69 Prediction: 7 True Class: 7\n",
      "Test 70 Prediction: 8 True Class: 8\n",
      "Test 71 Prediction: 5 True Class: 5\n",
      "Test 72 Prediction: 3 True Class: 3\n",
      "Test 73 Prediction: 2 True Class: 3\n",
      "Test 74 Prediction: 1 True Class: 1\n",
      "Test 75 Prediction: 1 True Class: 1\n",
      "Test 76 Prediction: 2 True Class: 2\n",
      "Test 77 Prediction: 7 True Class: 7\n",
      "Test 78 Prediction: 8 True Class: 8\n",
      "Test 79 Prediction: 8 True Class: 8\n",
      "Test 80 Prediction: 0 True Class: 0\n",
      "Test 81 Prediction: 7 True Class: 7\n",
      "Test 82 Prediction: 0 True Class: 0\n",
      "Test 83 Prediction: 7 True Class: 7\n",
      "Test 84 Prediction: 9 True Class: 8\n",
      "Test 85 Prediction: 4 True Class: 4\n",
      "Test 86 Prediction: 9 True Class: 9\n",
      "Test 87 Prediction: 0 True Class: 0\n",
      "Test 88 Prediction: 9 True Class: 9\n",
      "Test 89 Prediction: 2 True Class: 2\n",
      "Test 90 Prediction: 9 True Class: 9\n",
      "Test 91 Prediction: 9 True Class: 9\n",
      "Test 92 Prediction: 2 True Class: 2\n",
      "Test 93 Prediction: 2 True Class: 2\n",
      "Test 94 Prediction: 1 True Class: 1\n",
      "Test 95 Prediction: 3 True Class: 3\n",
      "Test 96 Prediction: 8 True Class: 8\n",
      "Test 97 Prediction: 0 True Class: 0\n",
      "Test 98 Prediction: 6 True Class: 6\n",
      "Test 99 Prediction: 5 True Class: 5\n",
      "Test 100 Prediction: 3 True Class: 5\n",
      "Test 101 Prediction: 4 True Class: 4\n",
      "Test 102 Prediction: 0 True Class: 0\n",
      "Test 103 Prediction: 3 True Class: 3\n",
      "Test 104 Prediction: 6 True Class: 6\n",
      "Test 105 Prediction: 3 True Class: 2\n",
      "Test 106 Prediction: 7 True Class: 7\n",
      "Test 107 Prediction: 9 True Class: 9\n",
      "Test 108 Prediction: 7 True Class: 7\n",
      "Test 109 Prediction: 9 True Class: 9\n",
      "Test 110 Prediction: 2 True Class: 2\n",
      "Test 111 Prediction: 1 True Class: 1\n",
      "Test 112 Prediction: 0 True Class: 0\n",
      "Test 113 Prediction: 1 True Class: 1\n",
      "Test 114 Prediction: 5 True Class: 5\n",
      "Test 115 Prediction: 8 True Class: 8\n",
      "Test 116 Prediction: 3 True Class: 3\n",
      "Test 117 Prediction: 0 True Class: 0\n",
      "Test 118 Prediction: 7 True Class: 7\n",
      "Test 119 Prediction: 1 True Class: 1\n",
      "Test 120 Prediction: 1 True Class: 1\n",
      "Test 121 Prediction: 9 True Class: 9\n",
      "Test 122 Prediction: 8 True Class: 8\n",
      "Test 123 Prediction: 2 True Class: 2\n",
      "Test 124 Prediction: 0 True Class: 0\n",
      "Test 125 Prediction: 0 True Class: 0\n",
      "Test 126 Prediction: 8 True Class: 8\n",
      "Test 127 Prediction: 2 True Class: 2\n",
      "Test 128 Prediction: 7 True Class: 7\n",
      "Test 129 Prediction: 6 True Class: 6\n",
      "Test 130 Prediction: 8 True Class: 8\n",
      "Test 131 Prediction: 6 True Class: 6\n",
      "Test 132 Prediction: 5 True Class: 5\n",
      "Test 133 Prediction: 2 True Class: 2\n",
      "Test 134 Prediction: 0 True Class: 0\n",
      "Test 135 Prediction: 1 True Class: 1\n",
      "Test 136 Prediction: 7 True Class: 7\n",
      "Test 137 Prediction: 8 True Class: 8\n",
      "Test 138 Prediction: 0 True Class: 0\n",
      "Test 139 Prediction: 1 True Class: 3\n",
      "Test 140 Prediction: 7 True Class: 7\n",
      "Test 141 Prediction: 3 True Class: 3\n",
      "Test 142 Prediction: 1 True Class: 1\n",
      "Test 143 Prediction: 3 True Class: 3\n",
      "Test 144 Prediction: 4 True Class: 4\n",
      "Test 145 Prediction: 3 True Class: 3\n",
      "Test 146 Prediction: 2 True Class: 2\n",
      "Test 147 Prediction: 8 True Class: 8\n",
      "Test 148 Prediction: 2 True Class: 2\n",
      "Test 149 Prediction: 6 True Class: 6\n",
      "Test 150 Prediction: 2 True Class: 2\n",
      "Test 151 Prediction: 1 True Class: 1\n",
      "Test 152 Prediction: 4 True Class: 4\n",
      "Test 153 Prediction: 5 True Class: 5\n",
      "Test 154 Prediction: 2 True Class: 2\n",
      "Test 155 Prediction: 7 True Class: 7\n",
      "Test 156 Prediction: 4 True Class: 4\n",
      "Test 157 Prediction: 2 True Class: 2\n",
      "Test 158 Prediction: 5 True Class: 5\n",
      "Test 159 Prediction: 2 True Class: 2\n",
      "Test 160 Prediction: 0 True Class: 0\n",
      "Test 161 Prediction: 0 True Class: 0\n",
      "Test 162 Prediction: 1 True Class: 1\n",
      "Test 163 Prediction: 4 True Class: 9\n",
      "Test 164 Prediction: 1 True Class: 1\n",
      "Test 165 Prediction: 2 True Class: 2\n",
      "Test 166 Prediction: 6 True Class: 6\n",
      "Test 167 Prediction: 2 True Class: 1\n",
      "Test 168 Prediction: 2 True Class: 2\n",
      "Test 169 Prediction: 2 True Class: 2\n",
      "Test 170 Prediction: 2 True Class: 2\n",
      "Test 171 Prediction: 1 True Class: 1\n",
      "Test 172 Prediction: 9 True Class: 9\n",
      "Test 173 Prediction: 0 True Class: 0\n",
      "Test 174 Prediction: 3 True Class: 3\n",
      "Test 175 Prediction: 7 True Class: 7\n",
      "Test 176 Prediction: 3 True Class: 3\n",
      "Test 177 Prediction: 9 True Class: 9\n",
      "Test 178 Prediction: 0 True Class: 0\n",
      "Test 179 Prediction: 2 True Class: 2\n",
      "Test 180 Prediction: 3 True Class: 3\n",
      "Test 181 Prediction: 2 True Class: 2\n",
      "Test 182 Prediction: 0 True Class: 0\n",
      "Test 183 Prediction: 2 True Class: 2\n",
      "Test 184 Prediction: 8 True Class: 8\n",
      "Test 185 Prediction: 2 True Class: 2\n",
      "Test 186 Prediction: 5 True Class: 5\n",
      "Test 187 Prediction: 8 True Class: 8\n",
      "Test 188 Prediction: 8 True Class: 8\n",
      "Test 189 Prediction: 4 True Class: 4\n",
      "Test 190 Prediction: 3 True Class: 3\n",
      "Test 191 Prediction: 3 True Class: 3\n",
      "Test 192 Prediction: 2 True Class: 2\n",
      "Test 193 Prediction: 4 True Class: 4\n",
      "Test 194 Prediction: 0 True Class: 0\n",
      "Test 195 Prediction: 8 True Class: 8\n",
      "Test 196 Prediction: 0 True Class: 0\n",
      "Test 197 Prediction: 8 True Class: 8\n",
      "Test 198 Prediction: 5 True Class: 5\n",
      "Test 199 Prediction: 6 True Class: 6\n",
      "Done!\n",
      "Accuracy: 0.9300000000000007\n"
     ]
    }
   ],
   "source": [
    "\n",
    "# Start training\n",
    "with tf.Session() as sess:\n",
    "    sess.run(init)\n",
    "\n",
    "    # loop over test data\n",
    "    for i in range(len(Xte)):\n",
    "        # Get nearest neighbor\n",
    "        nn_index = sess.run(pred, feed_dict={xtr: Xtr, xte: Xte[i, :]})\n",
    "        # Get nearest neighbor class label and compare it to its true label\n",
    "        print(\"Test\", i, \"Prediction:\", np.argmax(Ytr[nn_index]), \\\n",
    "            \"True Class:\", np.argmax(Yte[i]))\n",
    "        # Calculate accuracy\n",
    "        if np.argmax(Ytr[nn_index]) == np.argmax(Yte[i]):\n",
    "            accuracy += 1./len(Xte)\n",
    "    print(\"Done!\")\n",
    "    print(\"Accuracy:\", accuracy)"
   ]
  },
  {
   "cell_type": "code",
   "execution_count": null,
   "metadata": {},
   "outputs": [],
   "source": []
  }
 ],
 "metadata": {
  "kernelspec": {
   "display_name": "ai",
   "language": "python",
   "name": "ai"
  },
  "language_info": {
   "codemirror_mode": {
    "name": "ipython",
    "version": 3
   },
   "file_extension": ".py",
   "mimetype": "text/x-python",
   "name": "python",
   "nbconvert_exporter": "python",
   "pygments_lexer": "ipython3",
   "version": "3.6.8"
  }
 },
 "nbformat": 4,
 "nbformat_minor": 2
}
