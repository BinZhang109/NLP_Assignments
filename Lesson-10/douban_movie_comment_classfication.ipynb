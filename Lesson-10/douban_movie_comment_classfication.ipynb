{
 "cells": [
  {
   "cell_type": "code",
   "execution_count": 1,
   "metadata": {},
   "outputs": [],
   "source": [
    "import pandas as pd"
   ]
  },
  {
   "cell_type": "code",
   "execution_count": 2,
   "metadata": {},
   "outputs": [
    {
     "name": "stderr",
     "output_type": "stream",
     "text": [
      "C:\\Users\\Mr. Wu\\Anaconda3\\envs\\AI\\lib\\site-packages\\IPython\\core\\interactiveshell.py:3058: DtypeWarning: Columns (0,4) have mixed types. Specify dtype option on import or set low_memory=False.\n",
      "  interactivity=interactivity, compiler=compiler, result=result)\n"
     ]
    }
   ],
   "source": [
    "content = pd.read_csv('D:\\Github_project\\datasource\\movie_comments.csv')"
   ]
  },
  {
   "cell_type": "code",
   "execution_count": 3,
   "metadata": {},
   "outputs": [
    {
     "data": {
      "text/html": [
       "<div>\n",
       "<style scoped>\n",
       "    .dataframe tbody tr th:only-of-type {\n",
       "        vertical-align: middle;\n",
       "    }\n",
       "\n",
       "    .dataframe tbody tr th {\n",
       "        vertical-align: top;\n",
       "    }\n",
       "\n",
       "    .dataframe thead th {\n",
       "        text-align: right;\n",
       "    }\n",
       "</style>\n",
       "<table border=\"1\" class=\"dataframe\">\n",
       "  <thead>\n",
       "    <tr style=\"text-align: right;\">\n",
       "      <th></th>\n",
       "      <th>id</th>\n",
       "      <th>link</th>\n",
       "      <th>name</th>\n",
       "      <th>comment</th>\n",
       "      <th>star</th>\n",
       "    </tr>\n",
       "  </thead>\n",
       "  <tbody>\n",
       "    <tr>\n",
       "      <th>0</th>\n",
       "      <td>1</td>\n",
       "      <td>https://movie.douban.com/subject/26363254/</td>\n",
       "      <td>战狼2</td>\n",
       "      <td>吴京意淫到了脑残的地步，看了恶心想吐</td>\n",
       "      <td>1</td>\n",
       "    </tr>\n",
       "    <tr>\n",
       "      <th>1</th>\n",
       "      <td>2</td>\n",
       "      <td>https://movie.douban.com/subject/26363254/</td>\n",
       "      <td>战狼2</td>\n",
       "      <td>首映礼看的。太恐怖了这个电影，不讲道理的，完全就是吴京在实现他这个小粉红的英雄梦。各种装备轮...</td>\n",
       "      <td>2</td>\n",
       "    </tr>\n",
       "    <tr>\n",
       "      <th>2</th>\n",
       "      <td>3</td>\n",
       "      <td>https://movie.douban.com/subject/26363254/</td>\n",
       "      <td>战狼2</td>\n",
       "      <td>吴京的炒作水平不输冯小刚，但小刚至少不会用主旋律来炒作…吴京让人看了不舒服，为了主旋律而主旋...</td>\n",
       "      <td>2</td>\n",
       "    </tr>\n",
       "    <tr>\n",
       "      <th>3</th>\n",
       "      <td>4</td>\n",
       "      <td>https://movie.douban.com/subject/26363254/</td>\n",
       "      <td>战狼2</td>\n",
       "      <td>凭良心说，好看到不像《战狼1》的续集，完虐《湄公河行动》。</td>\n",
       "      <td>4</td>\n",
       "    </tr>\n",
       "    <tr>\n",
       "      <th>4</th>\n",
       "      <td>5</td>\n",
       "      <td>https://movie.douban.com/subject/26363254/</td>\n",
       "      <td>战狼2</td>\n",
       "      <td>中二得很</td>\n",
       "      <td>1</td>\n",
       "    </tr>\n",
       "  </tbody>\n",
       "</table>\n",
       "</div>"
      ],
      "text/plain": [
       "  id                                        link name  \\\n",
       "0  1  https://movie.douban.com/subject/26363254/  战狼2   \n",
       "1  2  https://movie.douban.com/subject/26363254/  战狼2   \n",
       "2  3  https://movie.douban.com/subject/26363254/  战狼2   \n",
       "3  4  https://movie.douban.com/subject/26363254/  战狼2   \n",
       "4  5  https://movie.douban.com/subject/26363254/  战狼2   \n",
       "\n",
       "                                             comment star  \n",
       "0                                 吴京意淫到了脑残的地步，看了恶心想吐    1  \n",
       "1  首映礼看的。太恐怖了这个电影，不讲道理的，完全就是吴京在实现他这个小粉红的英雄梦。各种装备轮...    2  \n",
       "2  吴京的炒作水平不输冯小刚，但小刚至少不会用主旋律来炒作…吴京让人看了不舒服，为了主旋律而主旋...    2  \n",
       "3                      凭良心说，好看到不像《战狼1》的续集，完虐《湄公河行动》。    4  \n",
       "4                                               中二得很    1  "
      ]
     },
     "execution_count": 3,
     "metadata": {},
     "output_type": "execute_result"
    }
   ],
   "source": [
    "content.head()"
   ]
  },
  {
   "cell_type": "code",
   "execution_count": 4,
   "metadata": {},
   "outputs": [
    {
     "name": "stdout",
     "output_type": "stream",
     "text": [
      "<class 'pandas.core.frame.DataFrame'>\n",
      "RangeIndex: 261497 entries, 0 to 261496\n",
      "Data columns (total 5 columns):\n",
      "id         261497 non-null object\n",
      "link       261497 non-null object\n",
      "name       261497 non-null object\n",
      "comment    261495 non-null object\n",
      "star       261497 non-null object\n",
      "dtypes: object(5)\n",
      "memory usage: 10.0+ MB\n"
     ]
    }
   ],
   "source": [
    "content.info()"
   ]
  },
  {
   "cell_type": "code",
   "execution_count": 7,
   "metadata": {},
   "outputs": [],
   "source": [
    "content.dropna(subset=['comment'], inplace=True)"
   ]
  },
  {
   "cell_type": "code",
   "execution_count": 8,
   "metadata": {},
   "outputs": [
    {
     "name": "stdout",
     "output_type": "stream",
     "text": [
      "<class 'pandas.core.frame.DataFrame'>\n",
      "Int64Index: 261495 entries, 0 to 261496\n",
      "Data columns (total 5 columns):\n",
      "id         261495 non-null object\n",
      "link       261495 non-null object\n",
      "name       261495 non-null object\n",
      "comment    261495 non-null object\n",
      "star       261495 non-null object\n",
      "dtypes: object(5)\n",
      "memory usage: 12.0+ MB\n"
     ]
    }
   ],
   "source": [
    "content.info()"
   ]
  },
  {
   "cell_type": "code",
   "execution_count": 10,
   "metadata": {},
   "outputs": [],
   "source": [
    "content.drop_duplicates(subset=['comment'], inplace=True)"
   ]
  },
  {
   "cell_type": "code",
   "execution_count": 11,
   "metadata": {},
   "outputs": [
    {
     "name": "stdout",
     "output_type": "stream",
     "text": [
      "<class 'pandas.core.frame.DataFrame'>\n",
      "Int64Index: 213970 entries, 0 to 261496\n",
      "Data columns (total 5 columns):\n",
      "id         213970 non-null object\n",
      "link       213970 non-null object\n",
      "name       213970 non-null object\n",
      "comment    213970 non-null object\n",
      "star       213970 non-null object\n",
      "dtypes: object(5)\n",
      "memory usage: 9.8+ MB\n"
     ]
    }
   ],
   "source": [
    "content.info()"
   ]
  },
  {
   "cell_type": "code",
   "execution_count": 14,
   "metadata": {
    "scrolled": true
   },
   "outputs": [
    {
     "data": {
      "text/plain": [
       "{1, '1', 2, '2', 3, '3', 4, '4', 5, '5', 'star'}"
      ]
     },
     "execution_count": 14,
     "metadata": {},
     "output_type": "execute_result"
    }
   ],
   "source": [
    "set(content.star)"
   ]
  },
  {
   "cell_type": "code",
   "execution_count": 35,
   "metadata": {},
   "outputs": [],
   "source": [
    "content.drop(content[content.star=='star'].index, inplace=True)"
   ]
  },
  {
   "cell_type": "code",
   "execution_count": 36,
   "metadata": {},
   "outputs": [
    {
     "name": "stdout",
     "output_type": "stream",
     "text": [
      "<class 'pandas.core.frame.DataFrame'>\n",
      "Int64Index: 213969 entries, 0 to 261496\n",
      "Data columns (total 5 columns):\n",
      "id         213969 non-null object\n",
      "link       213969 non-null object\n",
      "name       213969 non-null object\n",
      "comment    213969 non-null object\n",
      "star       213969 non-null object\n",
      "dtypes: object(5)\n",
      "memory usage: 9.8+ MB\n"
     ]
    }
   ],
   "source": [
    "content.info()"
   ]
  },
  {
   "cell_type": "code",
   "execution_count": 37,
   "metadata": {},
   "outputs": [
    {
     "data": {
      "text/plain": [
       "{1, '1', 2, '2', 3, '3', 4, '4', 5, '5'}"
      ]
     },
     "execution_count": 37,
     "metadata": {},
     "output_type": "execute_result"
    }
   ],
   "source": [
    "set(content.star)"
   ]
  },
  {
   "cell_type": "code",
   "execution_count": 42,
   "metadata": {},
   "outputs": [],
   "source": [
    "y = [int(star) for star in content.star]"
   ]
  },
  {
   "cell_type": "code",
   "execution_count": 48,
   "metadata": {},
   "outputs": [],
   "source": [
    "comments = content.comment"
   ]
  },
  {
   "cell_type": "code",
   "execution_count": 49,
   "metadata": {},
   "outputs": [
    {
     "data": {
      "text/plain": [
       "(213969, 213969)"
      ]
     },
     "execution_count": 49,
     "metadata": {},
     "output_type": "execute_result"
    }
   ],
   "source": [
    "len(y), len(comments)"
   ]
  },
  {
   "cell_type": "markdown",
   "metadata": {},
   "source": [
    "## 词向量相加构建句向量"
   ]
  },
  {
   "cell_type": "code",
   "execution_count": 46,
   "metadata": {},
   "outputs": [],
   "source": [
    "import jieba\n",
    "def cut(string): return ' '.join(jieba.cut(string))"
   ]
  },
  {
   "cell_type": "code",
   "execution_count": 47,
   "metadata": {},
   "outputs": [],
   "source": [
    "import re\n",
    "def token(string):\n",
    "    return re.findall(r'[\\d|\\w]+', string)"
   ]
  },
  {
   "cell_type": "code",
   "execution_count": 50,
   "metadata": {},
   "outputs": [
    {
     "name": "stderr",
     "output_type": "stream",
     "text": [
      "Building prefix dict from the default dictionary ...\n",
      "Loading model from cache C:\\Users\\MR5E8F~1.WU\\AppData\\Local\\Temp\\jieba.cache\n",
      "Loading model cost 0.692 seconds.\n",
      "Prefix dict has been built succesfully.\n"
     ]
    }
   ],
   "source": [
    "comments_cut = [cut(''.join(token(comment))) for comment in comments]"
   ]
  },
  {
   "cell_type": "code",
   "execution_count": 56,
   "metadata": {},
   "outputs": [
    {
     "data": {
      "text/plain": [
       "['吴京', '意淫', '到', '了', '脑残', '的', '地步', '看', '了', '恶心', '想', '吐']"
      ]
     },
     "execution_count": 56,
     "metadata": {},
     "output_type": "execute_result"
    }
   ],
   "source": [
    "comments_cut[0].split()"
   ]
  },
  {
   "cell_type": "code",
   "execution_count": 52,
   "metadata": {},
   "outputs": [],
   "source": [
    "# 采用之前维基百科+新闻语料训练的词向量\n",
    "from gensim.models.word2vec import Word2Vec\n",
    "word2vec = Word2Vec.load(r'D:\\data\\词向量\\news_word2vec.w2v').wv"
   ]
  },
  {
   "cell_type": "code",
   "execution_count": 53,
   "metadata": {},
   "outputs": [
    {
     "data": {
      "text/plain": [
       "616395"
      ]
     },
     "execution_count": 53,
     "metadata": {},
     "output_type": "execute_result"
    }
   ],
   "source": [
    "len(word2vec.vocab)"
   ]
  },
  {
   "cell_type": "code",
   "execution_count": 228,
   "metadata": {
    "scrolled": true
   },
   "outputs": [
    {
     "name": "stderr",
     "output_type": "stream",
     "text": [
      "C:\\Users\\Mr. Wu\\Anaconda3\\envs\\AI\\lib\\site-packages\\ipykernel_launcher.py:1: DeprecationWarning: Call to deprecated `wv` (Attribute will be removed in 4.0.0, use self instead).\n",
      "  \"\"\"Entry point for launching an IPython kernel.\n"
     ]
    },
    {
     "data": {
      "text/plain": [
       "(500,)"
      ]
     },
     "execution_count": 228,
     "metadata": {},
     "output_type": "execute_result"
    }
   ],
   "source": [
    "word2vec.wv['中二'].shape"
   ]
  },
  {
   "cell_type": "code",
   "execution_count": 58,
   "metadata": {},
   "outputs": [],
   "source": [
    "import numpy as np"
   ]
  },
  {
   "cell_type": "code",
   "execution_count": 61,
   "metadata": {},
   "outputs": [
    {
     "name": "stderr",
     "output_type": "stream",
     "text": [
      "C:\\Users\\Mr. Wu\\Anaconda3\\envs\\AI\\lib\\site-packages\\ipykernel_launcher.py:1: DeprecationWarning: Call to deprecated `wv` (Attribute will be removed in 4.0.0, use self instead).\n",
      "  \"\"\"Entry point for launching an IPython kernel.\n"
     ]
    },
    {
     "data": {
      "text/plain": [
       "array([-7.95719549e-02, -4.24825326e-02,  2.70094007e-01,  1.38634205e-01,\n",
       "       -2.96377502e-02,  3.17214847e-01,  5.31497896e-02,  1.26277715e-01,\n",
       "       -2.05842584e-01, -9.87186730e-02, -2.63402075e-01,  2.61688739e-01,\n",
       "       -4.55370583e-02,  8.46239328e-02,  1.08510956e-01, -1.87950924e-01,\n",
       "       -6.67531043e-02, -1.02038436e-01, -1.93582535e-01, -8.47953707e-02,\n",
       "       -7.18587562e-02, -1.66893914e-01, -2.29579598e-01, -1.80757731e-01,\n",
       "        1.79548845e-01, -4.78791565e-01,  1.99398011e-01,  1.26052245e-01,\n",
       "       -1.04663223e-02,  2.04870999e-01, -2.63776690e-01,  8.65484774e-02,\n",
       "       -2.86032945e-01, -1.58476189e-01, -9.96201113e-02,  1.33266076e-01,\n",
       "        4.24914174e-02, -2.03523323e-01, -1.70807675e-01,  1.08841553e-01,\n",
       "        1.08417183e-01, -6.56085610e-02, -1.85379051e-02, -2.12886985e-02,\n",
       "       -2.03031823e-02, -1.11257158e-01,  1.10350400e-02,  1.33790402e-02,\n",
       "        1.19024202e-01,  4.82032448e-03, -2.68275052e-01, -2.60885298e-01,\n",
       "       -3.09341192e-01,  2.41937459e-01, -6.69734776e-02,  5.15906811e-02,\n",
       "       -1.67823154e-02,  3.09074402e-01, -3.99242751e-02,  1.10377871e-01,\n",
       "        2.34266847e-01,  1.04409251e-02, -2.31580110e-03, -1.12594850e-01,\n",
       "       -1.32991567e-01, -5.43432049e-02, -2.51218118e-03, -9.44898203e-02,\n",
       "       -1.76081449e-01,  2.37126067e-01,  4.67329994e-02, -7.37833008e-02,\n",
       "       -3.68130028e-01, -1.41930699e-01,  2.60612834e-02,  3.31879526e-01,\n",
       "        1.23964466e-01, -2.16269761e-01,  1.02989234e-01, -6.96466565e-02,\n",
       "       -1.52631178e-02,  2.14253113e-01,  1.17446966e-01, -1.91399962e-01,\n",
       "        1.38363898e-01, -1.66173533e-01,  5.31146787e-02,  7.51574859e-02,\n",
       "       -6.48673922e-02, -1.89189449e-01, -2.72139478e-02,  2.44413555e-01,\n",
       "       -1.42084420e-01, -9.21503603e-02,  9.26272720e-02,  3.58687229e-02,\n",
       "        2.34312072e-01,  1.78872850e-02,  3.80306691e-02, -2.36499488e-01,\n",
       "       -9.44549292e-02,  1.87503800e-01, -3.60134542e-01,  1.02157861e-01,\n",
       "       -2.79042691e-01,  2.32570067e-01,  1.61759868e-01, -3.02576888e-02,\n",
       "       -9.04635638e-02,  1.16106145e-01,  1.80474743e-01, -1.99871242e-01,\n",
       "        4.36502928e-03, -2.28200316e-01, -2.40199268e-01,  2.92062640e-01,\n",
       "        2.41316512e-01,  1.77503482e-01,  2.41673276e-01,  9.50724185e-02,\n",
       "       -8.02642107e-02,  1.56532079e-01,  5.93959168e-02,  1.41106039e-01,\n",
       "        2.90692061e-01,  7.49419183e-02, -1.62017971e-01, -2.47731000e-01,\n",
       "       -2.12445423e-01,  1.75011054e-01, -4.09172196e-03,  7.92454332e-02,\n",
       "       -1.78740484e-05,  3.57379392e-03, -7.22271875e-02,  5.59150018e-02,\n",
       "       -1.68222681e-01,  1.09612986e-01,  2.76373684e-01, -3.99397202e-02,\n",
       "        1.50329992e-01,  7.76259303e-02,  1.37433618e-01, -1.95599392e-01,\n",
       "       -1.88357532e-01,  3.09732676e-01, -1.96974874e-02,  1.22164391e-01,\n",
       "       -7.12801442e-02,  8.35372284e-02,  4.35942337e-02,  1.50697365e-01,\n",
       "        2.74977181e-02, -2.66572996e-03, -1.37720123e-01, -2.23374426e-01,\n",
       "        5.09580337e-02,  5.11749268e-01, -1.75717957e-02,  7.22247958e-02,\n",
       "       -5.48743531e-02, -4.76250462e-02,  2.19603211e-01, -1.20155610e-01,\n",
       "       -3.54722023e-01, -2.66971856e-01,  1.06587254e-01,  1.20986395e-01,\n",
       "        1.12064354e-01,  3.09353396e-02,  5.11819482e-01,  6.96362630e-02,\n",
       "        7.60461539e-02,  2.21057951e-01,  1.33181186e-02, -3.77682373e-02,\n",
       "       -1.65770248e-01,  6.70290142e-02, -9.89775546e-03,  1.22968897e-01,\n",
       "        2.71819960e-02,  2.65185475e-01, -4.12225425e-02,  1.92126453e-01,\n",
       "        1.94160044e-01, -1.26325667e-01, -1.03349052e-03,  8.41215700e-02,\n",
       "        4.36045527e-02, -1.89959107e-03, -1.60239905e-01,  8.16360563e-02,\n",
       "       -2.57189989e-01,  6.23658113e-02,  6.99614957e-02,  3.04642636e-02,\n",
       "        1.42100707e-01, -6.24533817e-02, -8.17573369e-02, -2.71123409e-01,\n",
       "        4.14242387e-01,  2.38521304e-02,  1.05856560e-01,  1.62649155e-01,\n",
       "        1.51052713e-01,  9.64166075e-02,  1.46149084e-01,  7.48348609e-02,\n",
       "       -2.32600197e-01, -7.61299059e-02,  1.99981220e-02, -1.94761649e-01,\n",
       "       -2.49577373e-01,  2.58521345e-02, -1.46070972e-01, -1.49763793e-01,\n",
       "        6.05274774e-02, -1.80910110e-01, -1.45796746e-01, -4.89024408e-02,\n",
       "        5.76523580e-02,  2.16110259e-01, -6.13061013e-03, -4.59268354e-02,\n",
       "        1.00227669e-01, -1.28954500e-01,  6.92066550e-03,  1.60275981e-01,\n",
       "       -1.12524055e-01,  2.38937642e-02,  1.11766294e-01, -3.99793349e-02,\n",
       "       -1.31146787e-02,  7.99637288e-02, -1.77101523e-01,  1.00733876e-01,\n",
       "       -5.66925444e-02,  7.84007460e-02,  1.17649511e-01,  1.11864254e-01,\n",
       "        3.42386395e-01, -5.95367625e-02,  6.67098239e-02, -6.21254519e-02,\n",
       "       -6.37618219e-03,  7.43972883e-02,  2.55314440e-01, -6.80793962e-03,\n",
       "       -1.47637993e-01,  3.10385346e-01, -1.72205284e-01, -5.63893802e-02,\n",
       "       -1.66744933e-01, -3.51413339e-02,  9.60649550e-03,  1.85607761e-01,\n",
       "        1.36426240e-01, -1.03137225e-01, -9.33409110e-02,  8.72199982e-02,\n",
       "       -8.91541317e-02,  6.57908022e-02,  1.80226356e-01, -1.85594801e-03,\n",
       "       -1.26259014e-01, -1.04907546e-02,  1.28967002e-01, -2.61113439e-02,\n",
       "       -1.57435387e-02, -1.99411765e-01,  8.98333080e-03,  2.02740446e-01,\n",
       "        1.09145440e-01,  1.46509334e-01, -2.67394304e-01,  1.86330035e-01,\n",
       "        1.22843012e-01, -1.38688669e-01,  7.22471923e-02, -2.14019626e-01,\n",
       "        2.34565511e-01,  1.28279284e-01, -8.71950239e-02, -2.18894511e-01,\n",
       "       -8.01673010e-02, -4.75978777e-02,  7.50426203e-02, -2.60137487e-02,\n",
       "       -5.15038610e-01, -5.00750402e-03,  8.56154263e-02, -2.48243749e-01,\n",
       "       -1.29120171e-01, -2.76249945e-01, -6.31470382e-02, -1.22320376e-01,\n",
       "       -1.39785320e-01, -2.70489931e-01, -8.70277956e-02,  4.23907042e-02,\n",
       "        3.95360067e-02,  1.11564443e-01, -1.79255113e-01,  5.99961318e-02,\n",
       "        7.82460868e-02,  1.45573139e-01,  2.03931198e-01,  7.98962936e-02,\n",
       "        7.89611880e-03,  1.95374876e-01, -1.21306121e-01,  1.63430348e-02,\n",
       "       -2.56267898e-02,  6.85143098e-02,  1.92903548e-01, -6.37359247e-02,\n",
       "       -2.87489146e-01,  2.73474544e-01,  1.85960010e-01, -6.26361892e-02,\n",
       "        1.51900858e-01, -2.57552341e-02, -5.87477051e-02, -1.26107933e-03,\n",
       "       -5.43470234e-02, -3.31904888e-02, -3.83594818e-02, -9.34522226e-02,\n",
       "        6.96612149e-02, -1.65264547e-01, -1.09779052e-01, -4.67120595e-02,\n",
       "       -1.59544289e-01, -3.05958182e-01, -1.23921230e-01,  3.30422252e-01,\n",
       "       -1.76258728e-01, -1.68396384e-01, -5.52144796e-02,  3.75366248e-02,\n",
       "        1.10412136e-01, -2.36333981e-01,  1.30516542e-02,  1.30332649e-01,\n",
       "        5.47925495e-02, -3.06832138e-02,  2.36317813e-01,  2.13377178e-01,\n",
       "        2.67439112e-02, -1.26715556e-01, -3.43030989e-02, -6.46902621e-02,\n",
       "        9.90376920e-02,  2.66390089e-02, -4.79903854e-02, -8.68116915e-02,\n",
       "        1.41912103e-01, -1.34533539e-01,  2.80020475e-01, -8.41614157e-02,\n",
       "        1.19832717e-01, -1.73027515e-01, -1.93594433e-02, -1.12282135e-01,\n",
       "        1.49220034e-01, -2.08324239e-01,  4.42335397e-01, -7.18099177e-02,\n",
       "       -4.17717583e-02, -4.83788699e-01, -8.42761323e-02,  2.74362177e-01,\n",
       "        4.09419760e-02, -1.70532271e-01,  1.25088155e-01, -2.47730806e-01,\n",
       "        1.34482369e-01, -3.41676682e-01,  3.00210323e-02,  1.32349879e-01,\n",
       "       -3.20571780e-01, -1.28504068e-01,  1.37590572e-01,  9.74106118e-02,\n",
       "       -9.87380743e-02,  3.28136086e-01,  1.45543188e-01, -7.22002098e-03,\n",
       "       -1.01319350e-01,  3.74535359e-02, -6.75375164e-02,  3.06245923e-01,\n",
       "       -4.28310961e-01,  5.58941113e-03,  9.24827307e-02, -5.13381362e-02,\n",
       "        8.88634697e-02, -7.34576164e-03, -2.22015709e-01,  1.44432530e-01,\n",
       "        3.07603385e-02, -3.49261314e-02,  8.41484815e-02, -2.42503673e-01,\n",
       "        1.85342625e-01, -2.43416741e-01,  2.24220436e-02,  4.50606868e-02,\n",
       "        2.97828972e-01,  2.14071497e-01,  5.56139164e-02, -1.52793065e-01,\n",
       "       -2.24836752e-01, -1.01081021e-01,  3.39855373e-01, -3.34739745e-01,\n",
       "        1.21516794e-01,  1.01397149e-02, -5.51865660e-02, -1.07740559e-01,\n",
       "        7.14499457e-03, -1.23948403e-01,  1.13577031e-01, -1.14039563e-01,\n",
       "        4.61570248e-02,  3.57192084e-02, -3.80254537e-02,  4.55860943e-02,\n",
       "       -4.27575642e-03,  2.11879089e-01, -1.67257875e-01, -2.79709194e-02,\n",
       "        3.84067744e-01, -3.66667092e-01,  2.48213083e-01, -1.47475749e-01,\n",
       "       -4.44003731e-01,  2.26287786e-02, -1.65251255e-01, -9.58074331e-02,\n",
       "        2.65870988e-01, -3.10038894e-01,  1.23737368e-03, -8.99325386e-02,\n",
       "       -2.10433796e-01,  9.26623344e-02,  5.53733371e-02,  6.01955019e-02,\n",
       "       -8.47305208e-02, -7.04191774e-02,  4.52692956e-02, -3.22000384e-02,\n",
       "       -2.16573775e-02, -1.31658614e-01,  2.52480600e-02,  4.90488946e-01,\n",
       "       -5.59819266e-02,  1.22826874e-01, -4.72468883e-02, -3.19488831e-02,\n",
       "       -6.82688206e-02,  1.36503801e-01,  3.98912914e-02,  2.53264960e-02,\n",
       "        1.00662177e-02, -2.50452071e-01, -2.10051492e-01,  8.44344050e-02,\n",
       "        2.74521679e-01,  2.98890114e-01,  3.01746326e-03,  8.48901495e-02,\n",
       "        3.24430019e-01,  1.42480031e-01, -1.82099760e-01,  1.13439068e-01,\n",
       "       -2.72612661e-01, -4.23461162e-02,  2.27098018e-01, -5.24143167e-02,\n",
       "       -3.48076969e-01,  7.48758763e-02,  1.13027230e-01, -2.59508342e-01,\n",
       "       -3.67130071e-01,  3.22084427e-02, -2.62428690e-02, -1.27357140e-01,\n",
       "       -2.55831718e-01,  3.57560739e-02,  4.60748762e-01, -1.73766509e-01,\n",
       "        2.25105993e-02,  1.47602841e-01,  6.57018647e-02, -2.50335068e-01,\n",
       "       -1.95186943e-01,  1.15629077e-01, -3.41359198e-01,  2.21991733e-01])"
      ]
     },
     "execution_count": 61,
     "metadata": {},
     "output_type": "execute_result"
    }
   ],
   "source": [
    "np.zeros(500, None) + word2vec.wv['中二']"
   ]
  },
  {
   "cell_type": "code",
   "execution_count": 178,
   "metadata": {},
   "outputs": [],
   "source": [
    "def sentence2vec(sentences):\n",
    "    sentence_vecs = []\n",
    "    for sentence in sentences:\n",
    "        s = 0\n",
    "        sentence_vec = np.zeros(500, None)\n",
    "        words = sentence.split()\n",
    "        for word in words:\n",
    "            if word in word2vec.vocab:\n",
    "                sentence_vec += word2vec.wv[word]\n",
    "                s += 1\n",
    "            else:\n",
    "                continue\n",
    "        if s != 0:\n",
    "            sentence_vec = sentence_vec / s\n",
    "        else:\n",
    "            sentence_vec = np.zeros(500, None)\n",
    "        sentence_vecs.append(sentence_vec)\n",
    "    return sentence_vecs "
   ]
  },
  {
   "cell_type": "code",
   "execution_count": 179,
   "metadata": {},
   "outputs": [
    {
     "name": "stderr",
     "output_type": "stream",
     "text": [
      "C:\\Users\\Mr. Wu\\Anaconda3\\envs\\AI\\lib\\site-packages\\ipykernel_launcher.py:9: DeprecationWarning: Call to deprecated `wv` (Attribute will be removed in 4.0.0, use self instead).\n",
      "  if __name__ == '__main__':\n"
     ]
    }
   ],
   "source": [
    "sentence_vecs = sentence2vec(comments_cut)"
   ]
  },
  {
   "cell_type": "code",
   "execution_count": 180,
   "metadata": {
    "scrolled": true
   },
   "outputs": [
    {
     "data": {
      "text/plain": [
       "(500,)"
      ]
     },
     "execution_count": 180,
     "metadata": {},
     "output_type": "execute_result"
    }
   ],
   "source": [
    "sentence_vecs[0].shape"
   ]
  },
  {
   "cell_type": "code",
   "execution_count": 181,
   "metadata": {
    "scrolled": false
   },
   "outputs": [
    {
     "data": {
      "text/plain": [
       "(213969, 213969)"
      ]
     },
     "execution_count": 181,
     "metadata": {},
     "output_type": "execute_result"
    }
   ],
   "source": [
    "len(sentence_vecs), len(y)"
   ]
  },
  {
   "cell_type": "code",
   "execution_count": 182,
   "metadata": {},
   "outputs": [],
   "source": [
    "from sklearn.model_selection import train_test_split\n",
    "X_train, X_test, y_train, y_test = train_test_split(sentence_vecs, y, test_size=0.2, random_state=42)"
   ]
  },
  {
   "cell_type": "code",
   "execution_count": 183,
   "metadata": {
    "scrolled": true
   },
   "outputs": [
    {
     "data": {
      "text/plain": [
       "(171175, 42794, 171175, 42794)"
      ]
     },
     "execution_count": 183,
     "metadata": {},
     "output_type": "execute_result"
    }
   ],
   "source": [
    "len(X_train), len(X_test), len(y_train), len(y_test)"
   ]
  },
  {
   "cell_type": "code",
   "execution_count": 184,
   "metadata": {},
   "outputs": [],
   "source": [
    "import numpy as np\n",
    "X_tr_arr = np.array(X_train, dtype='float32')\n",
    "X_ts_arr = np.array(X_test, dtype='float32')\n",
    "y_tr_arr = np.array(y_train)\n",
    "y_ts_arr = np.array(y_test)"
   ]
  },
  {
   "cell_type": "code",
   "execution_count": 186,
   "metadata": {},
   "outputs": [
    {
     "name": "stderr",
     "output_type": "stream",
     "text": [
      "C:\\Users\\Mr. Wu\\Anaconda3\\envs\\AI\\lib\\site-packages\\sklearn\\linear_model\\logistic.py:432: FutureWarning: Default solver will be changed to 'lbfgs' in 0.22. Specify a solver to silence this warning.\n",
      "  FutureWarning)\n",
      "C:\\Users\\Mr. Wu\\Anaconda3\\envs\\AI\\lib\\site-packages\\sklearn\\linear_model\\logistic.py:469: FutureWarning: Default multi_class will be changed to 'auto' in 0.22. Specify the multi_class option to silence this warning.\n",
      "  \"this warning.\", FutureWarning)\n"
     ]
    }
   ],
   "source": [
    "from sklearn.linear_model import LogisticRegression\n",
    "clf = LogisticRegression().fit(X_tr_arr, y_tr_arr)"
   ]
  },
  {
   "cell_type": "code",
   "execution_count": 187,
   "metadata": {},
   "outputs": [
    {
     "data": {
      "text/plain": [
       "0.4035460785745582"
      ]
     },
     "execution_count": 187,
     "metadata": {},
     "output_type": "execute_result"
    }
   ],
   "source": [
    "clf.score(X_tr_arr, y_tr_arr)"
   ]
  },
  {
   "cell_type": "code",
   "execution_count": 188,
   "metadata": {},
   "outputs": [
    {
     "data": {
      "text/plain": [
       "0.3979062485395149"
      ]
     },
     "execution_count": 188,
     "metadata": {},
     "output_type": "execute_result"
    }
   ],
   "source": [
    "clf.score(X_ts_arr, y_ts_arr)"
   ]
  },
  {
   "cell_type": "code",
   "execution_count": 189,
   "metadata": {
    "scrolled": true
   },
   "outputs": [
    {
     "data": {
      "text/plain": [
       "(171175, 500)"
      ]
     },
     "execution_count": 189,
     "metadata": {},
     "output_type": "execute_result"
    }
   ],
   "source": [
    "X_tr_arr.shape"
   ]
  },
  {
   "cell_type": "code",
   "execution_count": 190,
   "metadata": {},
   "outputs": [
    {
     "data": {
      "text/plain": [
       "(171175,)"
      ]
     },
     "execution_count": 190,
     "metadata": {},
     "output_type": "execute_result"
    }
   ],
   "source": [
    "y_tr_arr.shape"
   ]
  },
  {
   "cell_type": "code",
   "execution_count": 191,
   "metadata": {
    "scrolled": true
   },
   "outputs": [
    {
     "data": {
      "text/plain": [
       "2"
      ]
     },
     "execution_count": 191,
     "metadata": {},
     "output_type": "execute_result"
    }
   ],
   "source": [
    "y_tr_arr[0]"
   ]
  },
  {
   "cell_type": "code",
   "execution_count": 192,
   "metadata": {},
   "outputs": [],
   "source": [
    "num_labels = 6\n",
    "\n",
    "def reformat(labels):\n",
    "  # Map 1 to [0.0, 1.0, 0.0 ...], 2 to [0.0, 0.0, 1.0 ...]\n",
    "  labels = (np.arange(num_labels) == labels[:,None]).astype(np.float32)\n",
    "  return labels"
   ]
  },
  {
   "cell_type": "code",
   "execution_count": 193,
   "metadata": {},
   "outputs": [
    {
     "name": "stdout",
     "output_type": "stream",
     "text": [
      "Training set (171175, 500) (171175, 6)\n",
      "Test set (42794, 500) (42794, 6)\n"
     ]
    }
   ],
   "source": [
    "y_tr_arr = reformat(y_tr_arr)\n",
    "y_ts_arr = reformat(y_ts_arr)\n",
    "print('Training set', X_tr_arr.shape, y_tr_arr.shape)\n",
    "print('Test set', X_ts_arr.shape, y_ts_arr.shape)"
   ]
  },
  {
   "cell_type": "code",
   "execution_count": 194,
   "metadata": {},
   "outputs": [
    {
     "data": {
      "text/plain": [
       "array([0., 0., 1., 0., 0., 0.], dtype=float32)"
      ]
     },
     "execution_count": 194,
     "metadata": {},
     "output_type": "execute_result"
    }
   ],
   "source": [
    "y_tr_arr[0]"
   ]
  },
  {
   "cell_type": "code",
   "execution_count": 195,
   "metadata": {
    "scrolled": false
   },
   "outputs": [
    {
     "data": {
      "text/plain": [
       "(500,)"
      ]
     },
     "execution_count": 195,
     "metadata": {},
     "output_type": "execute_result"
    }
   ],
   "source": [
    "X_tr_arr[0].shape"
   ]
  },
  {
   "cell_type": "code",
   "execution_count": 197,
   "metadata": {},
   "outputs": [],
   "source": [
    "import tensorflow as tf"
   ]
  },
  {
   "cell_type": "code",
   "execution_count": 198,
   "metadata": {},
   "outputs": [],
   "source": [
    "def accuracy(predictions, labels):\n",
    "  return (100.0 * np.sum(np.argmax(predictions, 1) == np.argmax(labels, 1))\n",
    "          / predictions.shape[0])"
   ]
  },
  {
   "cell_type": "code",
   "execution_count": 199,
   "metadata": {
    "scrolled": false
   },
   "outputs": [],
   "source": [
    "batch_size = 128\n",
    "hiden_layer_node_num = 1024\n",
    "beta = 0.01\n",
    "\n",
    "graph = tf.Graph()\n",
    "with graph.as_default():\n",
    "\n",
    "  # Input data. For the training data, we use a placeholder that will be fed\n",
    "  # at run time with a training minibatch.\n",
    "  tf_train_dataset = tf.placeholder(tf.float32,\n",
    "                                    shape=(batch_size, 500))\n",
    "  tf_train_labels = tf.placeholder(tf.float32, shape=(batch_size, num_labels))\n",
    "  tf_test_dataset = tf.constant(X_ts_arr)\n",
    "  \n",
    "  # Variables.\n",
    "  weights1 = tf.Variable(\n",
    "    tf.truncated_normal([500, hiden_layer_node_num]))\n",
    "  biases1 = tf.Variable(tf.zeros([hiden_layer_node_num]))\n",
    "    \n",
    "  # input layer output (batch_size, hiden_layer_node_num)\n",
    "  weights2 = tf.Variable(tf.truncated_normal([hiden_layer_node_num, num_labels]))\n",
    "  biases2 = tf.Variable(tf.zeros([num_labels]))\n",
    "\n",
    "  \n",
    "  # Training computation.\n",
    "  logits = tf.matmul(tf.nn.relu(tf.matmul(tf_train_dataset, weights1) + biases1), weights2) + biases2\n",
    "  loss = tf.reduce_mean(\n",
    "    tf.nn.softmax_cross_entropy_with_logits(labels=tf_train_labels, logits=logits))\n",
    "  regularizers = tf.nn.l2_loss(weights1) + tf.nn.l2_loss(weights2)\n",
    "  loss = tf.reduce_mean(loss + beta * regularizers)\n",
    "  \n",
    "  # Optimizer.\n",
    "  optimizer = tf.train.GradientDescentOptimizer(0.5).minimize(loss)\n",
    "  \n",
    "  # Predictions for the training, validation, and test data.\n",
    "  train_prediction = tf.nn.softmax(logits)\n",
    "  test_prediction = tf.nn.softmax(tf.matmul(tf.nn.relu(tf.matmul(tf_test_dataset, weights1) + biases1), weights2) + biases2)"
   ]
  },
  {
   "cell_type": "code",
   "execution_count": 201,
   "metadata": {},
   "outputs": [
    {
     "name": "stdout",
     "output_type": "stream",
     "text": [
      "Initialized\n",
      "Minibatch loss at step 0: 2122.481445\n",
      "Minibatch accuracy: 13.3%\n",
      "Minibatch loss at step 500: 14.768649\n",
      "Minibatch accuracy: 33.6%\n",
      "Minibatch loss at step 1000: 1.568838\n",
      "Minibatch accuracy: 30.5%\n",
      "Minibatch loss at step 1500: 1.486290\n",
      "Minibatch accuracy: 34.4%\n",
      "Minibatch loss at step 2000: 1.550818\n",
      "Minibatch accuracy: 21.9%\n",
      "Minibatch loss at step 2500: 1.462917\n",
      "Minibatch accuracy: 33.6%\n",
      "Minibatch loss at step 3000: 1.509313\n",
      "Minibatch accuracy: 32.0%\n",
      "Test accuracy: 36.4%\n"
     ]
    }
   ],
   "source": [
    "num_steps = 3001\n",
    "\n",
    "with tf.Session(graph=graph) as session:\n",
    "  tf.global_variables_initializer().run()\n",
    "  print(\"Initialized\")\n",
    "  for step in range(num_steps):\n",
    "    # Pick an offset within the training data, which has been randomized.\n",
    "    # Note: we could use better randomization across epochs.\n",
    "    offset = (step * batch_size) % (y_tr_arr.shape[0] - batch_size)\n",
    "    # Generate a minibatch.\n",
    "    batch_data = X_tr_arr[offset:(offset + batch_size), :]\n",
    "    batch_labels = y_tr_arr[offset:(offset + batch_size), :]\n",
    "    # Prepare a dictionary telling the session where to feed the minibatch.\n",
    "    # The key of the dictionary is the placeholder node of the graph to be fed,\n",
    "    # and the value is the numpy array to feed to it.\n",
    "    feed_dict = {tf_train_dataset : batch_data, tf_train_labels : batch_labels}\n",
    "    _, l, predictions = session.run(\n",
    "      [optimizer, loss, train_prediction], feed_dict=feed_dict)\n",
    "    if (step % 500 == 0):\n",
    "      print(\"Minibatch loss at step %d: %f\" % (step, l))\n",
    "      print(\"Minibatch accuracy: %.1f%%\" % accuracy(predictions, batch_labels))\n",
    "  print(\"Test accuracy: %.1f%%\" % accuracy(test_prediction.eval(), y_ts_arr))"
   ]
  },
  {
   "cell_type": "markdown",
   "metadata": {},
   "source": [
    "## 以上效果不佳，试试情感分类工具snownlp"
   ]
  },
  {
   "cell_type": "code",
   "execution_count": 204,
   "metadata": {},
   "outputs": [],
   "source": [
    "from snownlp import SnowNLP"
   ]
  },
  {
   "cell_type": "code",
   "execution_count": 205,
   "metadata": {},
   "outputs": [],
   "source": [
    "s = SnowNLP(u'这个东西真赞。但是我不喜欢')"
   ]
  },
  {
   "cell_type": "code",
   "execution_count": 206,
   "metadata": {},
   "outputs": [
    {
     "data": {
      "text/plain": [
       "0.9269068736444782"
      ]
     },
     "execution_count": 206,
     "metadata": {},
     "output_type": "execute_result"
    }
   ],
   "source": [
    "s.sentiments"
   ]
  },
  {
   "cell_type": "code",
   "execution_count": 209,
   "metadata": {},
   "outputs": [],
   "source": [
    "s = SnowNLP(u'恶心')"
   ]
  },
  {
   "cell_type": "code",
   "execution_count": 210,
   "metadata": {},
   "outputs": [
    {
     "data": {
      "text/plain": [
       "0.12413793103448256"
      ]
     },
     "execution_count": 210,
     "metadata": {},
     "output_type": "execute_result"
    }
   ],
   "source": [
    "s.sentiments"
   ]
  },
  {
   "cell_type": "code",
   "execution_count": 211,
   "metadata": {},
   "outputs": [
    {
     "data": {
      "text/plain": [
       "'吴京意淫到了脑残的地步，看了恶心想吐'"
      ]
     },
     "execution_count": 211,
     "metadata": {},
     "output_type": "execute_result"
    }
   ],
   "source": [
    "comments[0]"
   ]
  },
  {
   "cell_type": "code",
   "execution_count": 212,
   "metadata": {},
   "outputs": [
    {
     "data": {
      "text/plain": [
       "0.0323066138237218"
      ]
     },
     "execution_count": 212,
     "metadata": {},
     "output_type": "execute_result"
    }
   ],
   "source": [
    "SnowNLP(comments[0]).sentiments"
   ]
  },
  {
   "cell_type": "code",
   "execution_count": 213,
   "metadata": {},
   "outputs": [],
   "source": [
    "sentiments = [SnowNLP(comment).sentiments for comment in comments]"
   ]
  },
  {
   "cell_type": "code",
   "execution_count": 214,
   "metadata": {},
   "outputs": [
    {
     "data": {
      "text/plain": [
       "0.0323066138237218"
      ]
     },
     "execution_count": 214,
     "metadata": {},
     "output_type": "execute_result"
    }
   ],
   "source": [
    "sentiments[0]"
   ]
  },
  {
   "cell_type": "code",
   "execution_count": 215,
   "metadata": {},
   "outputs": [],
   "source": [
    "from sklearn.model_selection import train_test_split\n",
    "X_train, X_test, y_train, y_test = train_test_split(sentiments, y, test_size=0.2, random_state=42)"
   ]
  },
  {
   "cell_type": "code",
   "execution_count": 216,
   "metadata": {},
   "outputs": [],
   "source": [
    "import numpy as np\n",
    "X_tr_arr = np.array(X_train, dtype='float32')\n",
    "X_ts_arr = np.array(X_test, dtype='float32')\n",
    "y_tr_arr = np.array(y_train)\n",
    "y_ts_arr = np.array(y_test)"
   ]
  },
  {
   "cell_type": "code",
   "execution_count": 220,
   "metadata": {},
   "outputs": [
    {
     "data": {
      "text/plain": [
       "((171175,), (171175,), (42794,), (42794,))"
      ]
     },
     "execution_count": 220,
     "metadata": {},
     "output_type": "execute_result"
    }
   ],
   "source": [
    "X_tr_arr.shape, y_tr_arr.shape, X_ts_arr.shape, y_ts_arr.shape"
   ]
  },
  {
   "cell_type": "code",
   "execution_count": 221,
   "metadata": {},
   "outputs": [
    {
     "data": {
      "text/plain": [
       "0.99956065"
      ]
     },
     "execution_count": 221,
     "metadata": {},
     "output_type": "execute_result"
    }
   ],
   "source": [
    "X_tr_arr[0]"
   ]
  },
  {
   "cell_type": "code",
   "execution_count": 222,
   "metadata": {},
   "outputs": [
    {
     "data": {
      "text/plain": [
       "2"
      ]
     },
     "execution_count": 222,
     "metadata": {},
     "output_type": "execute_result"
    }
   ],
   "source": [
    "y_tr_arr[0]"
   ]
  },
  {
   "cell_type": "code",
   "execution_count": 223,
   "metadata": {},
   "outputs": [
    {
     "name": "stderr",
     "output_type": "stream",
     "text": [
      "C:\\Users\\Mr. Wu\\Anaconda3\\envs\\AI\\lib\\site-packages\\sklearn\\linear_model\\logistic.py:432: FutureWarning: Default solver will be changed to 'lbfgs' in 0.22. Specify a solver to silence this warning.\n",
      "  FutureWarning)\n",
      "C:\\Users\\Mr. Wu\\Anaconda3\\envs\\AI\\lib\\site-packages\\sklearn\\linear_model\\logistic.py:469: FutureWarning: Default multi_class will be changed to 'auto' in 0.22. Specify the multi_class option to silence this warning.\n",
      "  \"this warning.\", FutureWarning)\n"
     ]
    }
   ],
   "source": [
    "from sklearn.linear_model import LogisticRegression\n",
    "clf = LogisticRegression().fit(X_tr_arr.reshape(-1, 1), y_tr_arr)"
   ]
  },
  {
   "cell_type": "code",
   "execution_count": 225,
   "metadata": {},
   "outputs": [
    {
     "data": {
      "text/plain": [
       "0.33087191470717103"
      ]
     },
     "execution_count": 225,
     "metadata": {},
     "output_type": "execute_result"
    }
   ],
   "source": [
    "clf.score(X_tr_arr.reshape(-1, 1), y_tr_arr)"
   ]
  },
  {
   "cell_type": "code",
   "execution_count": 226,
   "metadata": {},
   "outputs": [
    {
     "data": {
      "text/plain": [
       "0.32983595831191287"
      ]
     },
     "execution_count": 226,
     "metadata": {},
     "output_type": "execute_result"
    }
   ],
   "source": [
    "clf.score(X_ts_arr.reshape(-1, 1), y_ts_arr)"
   ]
  },
  {
   "cell_type": "code",
   "execution_count": null,
   "metadata": {},
   "outputs": [],
   "source": []
  }
 ],
 "metadata": {
  "kernelspec": {
   "display_name": "AI",
   "language": "python",
   "name": "ai"
  },
  "language_info": {
   "codemirror_mode": {
    "name": "ipython",
    "version": 3
   },
   "file_extension": ".py",
   "mimetype": "text/x-python",
   "name": "python",
   "nbconvert_exporter": "python",
   "pygments_lexer": "ipython3",
   "version": "3.6.8"
  }
 },
 "nbformat": 4,
 "nbformat_minor": 2
}
