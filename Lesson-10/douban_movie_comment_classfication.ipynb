{
 "cells": [
  {
   "cell_type": "code",
   "execution_count": 2,
   "metadata": {},
   "outputs": [],
   "source": [
    "import pandas as pd"
   ]
  },
  {
   "cell_type": "code",
   "execution_count": 3,
   "metadata": {},
   "outputs": [
    {
     "name": "stderr",
     "output_type": "stream",
     "text": [
      "C:\\Users\\Ryan Wu\\Anaconda3\\envs\\ai\\lib\\site-packages\\IPython\\core\\interactiveshell.py:3058: DtypeWarning: Columns (0,4) have mixed types. Specify dtype option on import or set low_memory=False.\n",
      "  interactivity=interactivity, compiler=compiler, result=result)\n"
     ]
    }
   ],
   "source": [
    "content = pd.read_csv('D:\\Github_project\\data\\movie_comments.csv')"
   ]
  },
  {
   "cell_type": "code",
   "execution_count": 4,
   "metadata": {},
   "outputs": [
    {
     "data": {
      "text/html": [
       "<div>\n",
       "<style scoped>\n",
       "    .dataframe tbody tr th:only-of-type {\n",
       "        vertical-align: middle;\n",
       "    }\n",
       "\n",
       "    .dataframe tbody tr th {\n",
       "        vertical-align: top;\n",
       "    }\n",
       "\n",
       "    .dataframe thead th {\n",
       "        text-align: right;\n",
       "    }\n",
       "</style>\n",
       "<table border=\"1\" class=\"dataframe\">\n",
       "  <thead>\n",
       "    <tr style=\"text-align: right;\">\n",
       "      <th></th>\n",
       "      <th>id</th>\n",
       "      <th>link</th>\n",
       "      <th>name</th>\n",
       "      <th>comment</th>\n",
       "      <th>star</th>\n",
       "    </tr>\n",
       "  </thead>\n",
       "  <tbody>\n",
       "    <tr>\n",
       "      <th>0</th>\n",
       "      <td>1</td>\n",
       "      <td>https://movie.douban.com/subject/26363254/</td>\n",
       "      <td>战狼2</td>\n",
       "      <td>吴京意淫到了脑残的地步，看了恶心想吐</td>\n",
       "      <td>1</td>\n",
       "    </tr>\n",
       "    <tr>\n",
       "      <th>1</th>\n",
       "      <td>2</td>\n",
       "      <td>https://movie.douban.com/subject/26363254/</td>\n",
       "      <td>战狼2</td>\n",
       "      <td>首映礼看的。太恐怖了这个电影，不讲道理的，完全就是吴京在实现他这个小粉红的英雄梦。各种装备轮...</td>\n",
       "      <td>2</td>\n",
       "    </tr>\n",
       "    <tr>\n",
       "      <th>2</th>\n",
       "      <td>3</td>\n",
       "      <td>https://movie.douban.com/subject/26363254/</td>\n",
       "      <td>战狼2</td>\n",
       "      <td>吴京的炒作水平不输冯小刚，但小刚至少不会用主旋律来炒作…吴京让人看了不舒服，为了主旋律而主旋...</td>\n",
       "      <td>2</td>\n",
       "    </tr>\n",
       "    <tr>\n",
       "      <th>3</th>\n",
       "      <td>4</td>\n",
       "      <td>https://movie.douban.com/subject/26363254/</td>\n",
       "      <td>战狼2</td>\n",
       "      <td>凭良心说，好看到不像《战狼1》的续集，完虐《湄公河行动》。</td>\n",
       "      <td>4</td>\n",
       "    </tr>\n",
       "    <tr>\n",
       "      <th>4</th>\n",
       "      <td>5</td>\n",
       "      <td>https://movie.douban.com/subject/26363254/</td>\n",
       "      <td>战狼2</td>\n",
       "      <td>中二得很</td>\n",
       "      <td>1</td>\n",
       "    </tr>\n",
       "  </tbody>\n",
       "</table>\n",
       "</div>"
      ],
      "text/plain": [
       "  id                                        link name  \\\n",
       "0  1  https://movie.douban.com/subject/26363254/  战狼2   \n",
       "1  2  https://movie.douban.com/subject/26363254/  战狼2   \n",
       "2  3  https://movie.douban.com/subject/26363254/  战狼2   \n",
       "3  4  https://movie.douban.com/subject/26363254/  战狼2   \n",
       "4  5  https://movie.douban.com/subject/26363254/  战狼2   \n",
       "\n",
       "                                             comment star  \n",
       "0                                 吴京意淫到了脑残的地步，看了恶心想吐    1  \n",
       "1  首映礼看的。太恐怖了这个电影，不讲道理的，完全就是吴京在实现他这个小粉红的英雄梦。各种装备轮...    2  \n",
       "2  吴京的炒作水平不输冯小刚，但小刚至少不会用主旋律来炒作…吴京让人看了不舒服，为了主旋律而主旋...    2  \n",
       "3                      凭良心说，好看到不像《战狼1》的续集，完虐《湄公河行动》。    4  \n",
       "4                                               中二得很    1  "
      ]
     },
     "execution_count": 4,
     "metadata": {},
     "output_type": "execute_result"
    }
   ],
   "source": [
    "content.head()"
   ]
  },
  {
   "cell_type": "code",
   "execution_count": 5,
   "metadata": {},
   "outputs": [
    {
     "name": "stdout",
     "output_type": "stream",
     "text": [
      "<class 'pandas.core.frame.DataFrame'>\n",
      "RangeIndex: 261497 entries, 0 to 261496\n",
      "Data columns (total 5 columns):\n",
      "id         261497 non-null object\n",
      "link       261497 non-null object\n",
      "name       261497 non-null object\n",
      "comment    261495 non-null object\n",
      "star       261497 non-null object\n",
      "dtypes: object(5)\n",
      "memory usage: 10.0+ MB\n"
     ]
    }
   ],
   "source": [
    "content.info()"
   ]
  },
  {
   "cell_type": "code",
   "execution_count": 6,
   "metadata": {},
   "outputs": [],
   "source": [
    "content.dropna(subset=['comment'], inplace=True)"
   ]
  },
  {
   "cell_type": "code",
   "execution_count": 7,
   "metadata": {},
   "outputs": [
    {
     "name": "stdout",
     "output_type": "stream",
     "text": [
      "<class 'pandas.core.frame.DataFrame'>\n",
      "Int64Index: 261495 entries, 0 to 261496\n",
      "Data columns (total 5 columns):\n",
      "id         261495 non-null object\n",
      "link       261495 non-null object\n",
      "name       261495 non-null object\n",
      "comment    261495 non-null object\n",
      "star       261495 non-null object\n",
      "dtypes: object(5)\n",
      "memory usage: 12.0+ MB\n"
     ]
    }
   ],
   "source": [
    "content.info()"
   ]
  },
  {
   "cell_type": "code",
   "execution_count": 8,
   "metadata": {},
   "outputs": [],
   "source": [
    "content.drop_duplicates(subset=['comment'], inplace=True)"
   ]
  },
  {
   "cell_type": "code",
   "execution_count": 9,
   "metadata": {},
   "outputs": [
    {
     "name": "stdout",
     "output_type": "stream",
     "text": [
      "<class 'pandas.core.frame.DataFrame'>\n",
      "Int64Index: 213970 entries, 0 to 261496\n",
      "Data columns (total 5 columns):\n",
      "id         213970 non-null object\n",
      "link       213970 non-null object\n",
      "name       213970 non-null object\n",
      "comment    213970 non-null object\n",
      "star       213970 non-null object\n",
      "dtypes: object(5)\n",
      "memory usage: 9.8+ MB\n"
     ]
    }
   ],
   "source": [
    "content.info()"
   ]
  },
  {
   "cell_type": "code",
   "execution_count": 10,
   "metadata": {
    "scrolled": true
   },
   "outputs": [
    {
     "data": {
      "text/plain": [
       "{1, '1', 2, '2', 3, '3', 4, '4', 5, '5', 'star'}"
      ]
     },
     "execution_count": 10,
     "metadata": {},
     "output_type": "execute_result"
    }
   ],
   "source": [
    "set(content.star)"
   ]
  },
  {
   "cell_type": "code",
   "execution_count": 11,
   "metadata": {},
   "outputs": [],
   "source": [
    "content.drop(content[content.star=='star'].index, inplace=True)"
   ]
  },
  {
   "cell_type": "code",
   "execution_count": 12,
   "metadata": {},
   "outputs": [
    {
     "name": "stdout",
     "output_type": "stream",
     "text": [
      "<class 'pandas.core.frame.DataFrame'>\n",
      "Int64Index: 213969 entries, 0 to 261496\n",
      "Data columns (total 5 columns):\n",
      "id         213969 non-null object\n",
      "link       213969 non-null object\n",
      "name       213969 non-null object\n",
      "comment    213969 non-null object\n",
      "star       213969 non-null object\n",
      "dtypes: object(5)\n",
      "memory usage: 9.8+ MB\n"
     ]
    }
   ],
   "source": [
    "content.info()"
   ]
  },
  {
   "cell_type": "code",
   "execution_count": 13,
   "metadata": {},
   "outputs": [
    {
     "data": {
      "text/plain": [
       "{1, '1', 2, '2', 3, '3', 4, '4', 5, '5'}"
      ]
     },
     "execution_count": 13,
     "metadata": {},
     "output_type": "execute_result"
    }
   ],
   "source": [
    "set(content.star)"
   ]
  },
  {
   "cell_type": "code",
   "execution_count": 14,
   "metadata": {},
   "outputs": [],
   "source": [
    "y = [int(star) for star in content.star]"
   ]
  },
  {
   "cell_type": "code",
   "execution_count": 15,
   "metadata": {},
   "outputs": [],
   "source": [
    "comments = content.comment"
   ]
  },
  {
   "cell_type": "code",
   "execution_count": 16,
   "metadata": {},
   "outputs": [
    {
     "data": {
      "text/plain": [
       "(213969, 213969)"
      ]
     },
     "execution_count": 16,
     "metadata": {},
     "output_type": "execute_result"
    }
   ],
   "source": [
    "len(y), len(comments)"
   ]
  },
  {
   "cell_type": "markdown",
   "metadata": {},
   "source": [
    "## 词向量相加构建句向量"
   ]
  },
  {
   "cell_type": "code",
   "execution_count": 22,
   "metadata": {},
   "outputs": [],
   "source": [
    "import jieba\n",
    "def cut(string): return ' '.join(jieba.cut(string))"
   ]
  },
  {
   "cell_type": "code",
   "execution_count": 19,
   "metadata": {},
   "outputs": [],
   "source": [
    "import re\n",
    "def token(string):\n",
    "    return re.findall(r'[\\d|\\w]+', string)"
   ]
  },
  {
   "cell_type": "code",
   "execution_count": 20,
   "metadata": {},
   "outputs": [
    {
     "name": "stderr",
     "output_type": "stream",
     "text": [
      "Building prefix dict from the default dictionary ...\n",
      "Loading model from cache C:\\Users\\RYANWU~1\\AppData\\Local\\Temp\\jieba.cache\n",
      "Loading model cost 0.809 seconds.\n",
      "Prefix dict has been built succesfully.\n"
     ]
    }
   ],
   "source": [
    "comments_cut = [cut(''.join(token(comment))) for comment in comments]"
   ]
  },
  {
   "cell_type": "code",
   "execution_count": 21,
   "metadata": {},
   "outputs": [
    {
     "data": {
      "text/plain": [
       "['吴京', '意淫', '到', '了', '脑残', '的', '地步', '看', '了', '恶心', '想', '吐']"
      ]
     },
     "execution_count": 21,
     "metadata": {},
     "output_type": "execute_result"
    }
   ],
   "source": [
    "comments_cut[0].split()"
   ]
  },
  {
   "cell_type": "code",
   "execution_count": 23,
   "metadata": {},
   "outputs": [],
   "source": [
    "# 采用之前维基百科+新闻语料训练的词向量\n",
    "from gensim.models.word2vec import Word2Vec\n",
    "word2vec = Word2Vec.load(r'D:\\Github_project\\common-data\\词向量\\news_word2vec.w2v').wv"
   ]
  },
  {
   "cell_type": "code",
   "execution_count": 24,
   "metadata": {},
   "outputs": [
    {
     "data": {
      "text/plain": [
       "616395"
      ]
     },
     "execution_count": 24,
     "metadata": {},
     "output_type": "execute_result"
    }
   ],
   "source": [
    "len(word2vec.vocab)"
   ]
  },
  {
   "cell_type": "code",
   "execution_count": 25,
   "metadata": {
    "scrolled": true
   },
   "outputs": [
    {
     "name": "stderr",
     "output_type": "stream",
     "text": [
      "C:\\Users\\Ryan Wu\\Anaconda3\\envs\\ai\\lib\\site-packages\\ipykernel_launcher.py:1: DeprecationWarning: Call to deprecated `wv` (Attribute will be removed in 4.0.0, use self instead).\n",
      "  \"\"\"Entry point for launching an IPython kernel.\n"
     ]
    },
    {
     "data": {
      "text/plain": [
       "(500,)"
      ]
     },
     "execution_count": 25,
     "metadata": {},
     "output_type": "execute_result"
    }
   ],
   "source": [
    "word2vec.wv['中二'].shape"
   ]
  },
  {
   "cell_type": "code",
   "execution_count": 26,
   "metadata": {},
   "outputs": [],
   "source": [
    "import numpy as np"
   ]
  },
  {
   "cell_type": "code",
   "execution_count": 27,
   "metadata": {},
   "outputs": [
    {
     "name": "stderr",
     "output_type": "stream",
     "text": [
      "C:\\Users\\Ryan Wu\\Anaconda3\\envs\\ai\\lib\\site-packages\\ipykernel_launcher.py:1: DeprecationWarning: Call to deprecated `wv` (Attribute will be removed in 4.0.0, use self instead).\n",
      "  \"\"\"Entry point for launching an IPython kernel.\n"
     ]
    },
    {
     "data": {
      "text/plain": [
       "array([-2.34566391e-01,  2.79686805e-02,  4.15266939e-02, -1.78346932e-01,\n",
       "        1.02283709e-01,  9.09975618e-02, -8.90697166e-02, -9.23506841e-02,\n",
       "       -1.94960028e-01,  2.81524897e-01, -2.67716378e-01,  3.56442302e-01,\n",
       "       -1.56728461e-01,  1.41186714e-01, -4.05162051e-02, -3.29683810e-01,\n",
       "        1.43675506e-01,  2.80216038e-02,  8.96399096e-02, -1.10607661e-01,\n",
       "       -5.41270664e-03, -2.17700794e-01, -1.87995419e-01, -6.25246391e-02,\n",
       "        3.53753656e-01,  1.66690182e-02,  1.82034761e-01,  1.33014679e-01,\n",
       "       -1.18101671e-01, -1.40211239e-01,  2.02820256e-01, -3.42190489e-02,\n",
       "       -1.96076140e-01, -2.19466701e-01,  9.41848755e-02, -7.00309873e-02,\n",
       "       -1.09779820e-01, -1.05037972e-01, -2.15431079e-01,  2.40143076e-01,\n",
       "       -2.14520514e-01, -3.69605832e-02,  9.37635377e-02,  1.88759536e-01,\n",
       "        3.43713313e-01, -1.39666110e-01,  6.32417575e-02, -3.31544608e-01,\n",
       "       -3.61580737e-02, -1.49203002e-01,  1.72923356e-02, -4.85782363e-02,\n",
       "        2.10080639e-01,  1.73718810e-01, -7.65178874e-02, -1.23988111e-02,\n",
       "       -2.97433645e-01,  9.15666148e-02,  6.93079233e-02, -2.09979131e-03,\n",
       "        1.42797038e-01,  6.16450561e-03, -3.05126339e-01,  2.17682853e-01,\n",
       "       -1.94364280e-01, -2.28253491e-02,  1.93165451e-01,  3.53029251e-01,\n",
       "       -5.04827917e-01,  1.20705878e-02,  2.13978440e-02, -1.98508054e-01,\n",
       "       -9.18700621e-02, -4.56245840e-01, -7.42848366e-02,  8.09857324e-02,\n",
       "        2.04450041e-01, -1.95136085e-01, -2.16274336e-01, -7.65029714e-02,\n",
       "        6.76734895e-02,  4.44254190e-01,  1.32556453e-01, -4.95452434e-02,\n",
       "       -4.46643978e-02,  1.25138596e-01,  9.81590971e-02,  7.51057416e-02,\n",
       "        2.14367062e-02,  2.02820763e-01,  1.67439565e-01, -3.48275527e-02,\n",
       "       -4.65181582e-02, -3.83334726e-01,  3.07861328e-01,  1.41356664e-04,\n",
       "       -1.05877612e-02, -2.93581575e-01,  7.40599632e-02, -8.93863812e-02,\n",
       "        1.10821448e-01,  2.99251944e-01, -8.17696229e-02,  1.07653514e-01,\n",
       "       -4.36448961e-01,  4.33180958e-01,  9.31080282e-02,  1.00722881e-02,\n",
       "       -2.44505584e-01,  1.26053020e-01,  3.08698136e-02, -4.66575958e-02,\n",
       "       -1.59951434e-01, -3.50746885e-02, -2.67618418e-01,  5.27938129e-03,\n",
       "        4.59665954e-01, -1.76894362e-03,  2.59472579e-01, -4.07533273e-02,\n",
       "       -3.89112771e-01,  2.45527282e-01, -6.12333752e-02,  4.53594625e-01,\n",
       "        3.49852324e-01,  1.92871064e-01,  1.17920034e-01, -2.16657162e-01,\n",
       "       -3.11634749e-01,  9.40337181e-02, -1.65413365e-01,  4.87064332e-01,\n",
       "       -1.89034268e-01, -1.42325193e-01,  4.98131253e-02,  5.40502071e-02,\n",
       "       -1.70407370e-01, -8.63367096e-02, -7.73279220e-02, -2.19365042e-02,\n",
       "        9.15738568e-02,  1.53212368e-01, -1.35377631e-01, -3.13775122e-01,\n",
       "       -3.75796147e-02,  2.17792451e-01, -1.52451783e-01, -5.07033605e-04,\n",
       "        1.30235806e-01,  2.98271388e-01,  3.24870497e-01,  1.25308543e-01,\n",
       "       -2.14170981e-02,  1.00151878e-02, -5.21343462e-02,  3.84329483e-02,\n",
       "        8.82761851e-02,  5.99926174e-01,  1.58856675e-01,  1.42602727e-01,\n",
       "        3.92323695e-02, -5.19848876e-02,  1.83013752e-01,  1.17212474e-01,\n",
       "       -3.69636007e-02, -1.85882583e-01, -2.63155694e-03,  2.16480479e-01,\n",
       "        5.59776388e-02, -1.95418317e-02,  1.80433959e-01,  1.99153274e-01,\n",
       "        1.56415015e-01,  5.61213680e-02, -6.35124277e-04, -1.05985515e-01,\n",
       "       -1.67094376e-02, -4.96828631e-02,  8.62722173e-02,  1.80972293e-01,\n",
       "       -3.03196013e-01, -6.52916059e-02,  7.17900917e-02,  2.59445995e-01,\n",
       "        1.61953092e-01, -1.96382269e-01, -3.25061768e-01, -1.57336995e-01,\n",
       "       -1.23521775e-01, -2.56855488e-02,  8.96114949e-03,  2.82175988e-01,\n",
       "       -1.12291433e-01, -2.22335249e-01, -5.67854717e-02, -7.92326900e-05,\n",
       "       -5.57894036e-02, -3.18986416e-01, -6.84710667e-02, -1.11153990e-01,\n",
       "        1.38132527e-01, -7.98783824e-02,  1.31589547e-02, -5.28586954e-02,\n",
       "       -1.12797543e-01, -3.07160057e-02, -1.87839251e-02, -1.83694556e-01,\n",
       "       -7.86933452e-02, -8.50439351e-03, -4.21789326e-02,  1.87831640e-01,\n",
       "        5.29417098e-02,  4.25850712e-02, -4.44578677e-01,  1.86674640e-01,\n",
       "        2.72846758e-01,  2.90683907e-04, -1.98305354e-01, -2.66341358e-01,\n",
       "        2.17759367e-02,  2.95321792e-02,  1.73599869e-01,  2.65104584e-02,\n",
       "       -1.43438019e-02, -1.26518995e-01,  5.02150692e-02,  7.46248066e-02,\n",
       "        4.84299734e-02,  3.80760401e-01, -5.29301912e-02,  1.02955803e-01,\n",
       "       -1.74151614e-01, -1.22358799e-01,  2.12279007e-01, -1.56327054e-01,\n",
       "       -1.44786090e-01, -4.95186448e-02, -1.49656102e-01,  5.68802133e-02,\n",
       "        5.98645099e-02, -2.73510575e-01,  2.18421295e-01, -1.05988838e-01,\n",
       "       -2.43553713e-01,  1.98243499e-01,  3.82736683e-01,  2.29329690e-01,\n",
       "       -3.31028908e-01,  1.46890551e-01, -2.76678920e-01, -2.38871679e-01,\n",
       "       -4.38713767e-02, -1.36018008e-01, -3.24888229e-01,  1.40075371e-01,\n",
       "        1.45046636e-01, -1.98807389e-01,  1.00694941e-02, -2.69313872e-01,\n",
       "        1.45222113e-01,  4.17365134e-01,  2.27261689e-02, -2.56968420e-02,\n",
       "        4.48097855e-01,  2.71129996e-01, -3.42412233e-01,  5.73128834e-03,\n",
       "        6.58615679e-02,  3.69892665e-03,  8.50820094e-02,  2.06268519e-01,\n",
       "        1.45645514e-01,  1.20162237e-02, -4.85895239e-02, -4.15096544e-02,\n",
       "        4.84896936e-02, -2.81329334e-01,  3.92261922e-01,  2.02456072e-01,\n",
       "        3.80444884e-01,  6.17957652e-01,  2.18323648e-01, -4.67418671e-01,\n",
       "       -1.88159451e-01,  2.18083449e-02, -1.05423413e-01,  2.00973660e-01,\n",
       "        1.75373152e-01,  2.56007880e-01,  1.45521596e-01, -4.79993690e-03,\n",
       "       -2.73901701e-01,  1.84036553e-01, -1.43269971e-01, -7.88653046e-02,\n",
       "       -5.03338575e-02,  1.06457351e-02,  1.60871074e-01,  3.57132368e-02,\n",
       "       -3.64945322e-01,  1.84012681e-01, -3.76631200e-01,  9.78727825e-03,\n",
       "        3.60415578e-01, -1.58641562e-01,  2.05005065e-01,  1.21341050e-02,\n",
       "        8.56080372e-03,  5.87021947e-01, -3.08706820e-01, -1.04545839e-01,\n",
       "       -4.10544127e-03, -7.12169632e-02,  2.19285905e-01,  1.35718852e-01,\n",
       "       -4.11899477e-01,  3.01067531e-01,  6.17518499e-02,  2.61253148e-01,\n",
       "        8.31748918e-02, -1.23054631e-01, -1.22791091e-02,  3.51856425e-02,\n",
       "       -1.02803402e-01, -2.13258445e-01, -2.14233696e-01, -1.01239914e-02,\n",
       "        5.98601475e-02, -5.85025251e-02,  1.62625268e-01, -2.00495556e-01,\n",
       "        2.46733308e-01,  3.25762667e-02,  2.18874142e-01,  1.96246639e-01,\n",
       "        3.46627757e-02, -2.31570564e-02,  2.39248425e-01, -1.62265986e-01,\n",
       "       -3.34232301e-02, -5.25414646e-01,  3.20202224e-02,  1.96464032e-01,\n",
       "        7.21818767e-03, -7.85344616e-02, -7.53967836e-02, -1.55477613e-01,\n",
       "        3.77031751e-02, -1.78947330e-01,  1.18282974e-01, -5.95749021e-02,\n",
       "       -1.56447008e-01, -1.65458888e-01,  7.74892420e-02, -3.29069644e-01,\n",
       "        2.83632725e-01, -1.43402815e-02,  2.49999255e-01, -7.58519694e-02,\n",
       "       -3.53124142e-02, -1.89507797e-01, -1.58308759e-01, -1.14292040e-01,\n",
       "       -1.57656357e-01, -3.28772426e-01,  2.75952727e-01,  1.13101177e-01,\n",
       "        1.96804285e-01, -4.47839111e-01, -9.02542546e-02,  5.68613708e-01,\n",
       "       -1.01325192e-01,  3.27892117e-02, -1.23264998e-01, -2.43478149e-01,\n",
       "        1.90026909e-01,  1.67184770e-01,  1.93548664e-01,  1.19479217e-01,\n",
       "       -1.21081054e-01,  2.53245860e-01,  2.14421395e-02,  7.92756081e-02,\n",
       "        1.47873729e-01,  9.12430696e-03, -1.93013430e-01, -7.09521621e-02,\n",
       "       -1.53427050e-02,  3.84192556e-01, -2.56408840e-01,  7.78420866e-02,\n",
       "        2.51858160e-02, -6.14042394e-03, -2.25675151e-01, -4.13776860e-02,\n",
       "        4.06853706e-02, -3.96425039e-01, -2.74151772e-01, -5.55338599e-02,\n",
       "        5.15250601e-02,  1.15460806e-01, -1.74045935e-02, -1.90620810e-01,\n",
       "        2.40352899e-01,  1.12855127e-02, -1.52222633e-01,  8.54814053e-02,\n",
       "        1.59815431e-01,  3.14875722e-01, -4.11992669e-02, -2.73757517e-01,\n",
       "       -3.50146949e-01, -3.55051190e-01,  1.46807969e-01, -2.42565408e-01,\n",
       "       -2.68763036e-01,  5.95240667e-02, -8.93791616e-02, -1.43548936e-01,\n",
       "        1.17382035e-01, -2.39742175e-01, -7.11434260e-02,  2.85921365e-01,\n",
       "        2.70584255e-01, -1.45273909e-01, -1.50072753e-01,  2.38502361e-02,\n",
       "        3.26315373e-01,  1.62424147e-01, -2.24869788e-01, -1.49908483e-01,\n",
       "        1.08727157e-01, -3.07196230e-01,  1.57661721e-01, -3.12079117e-02,\n",
       "       -3.20898920e-01,  1.08063318e-01, -1.14470154e-01, -3.99739034e-02,\n",
       "        5.06878756e-02,  1.46329701e-02,  1.94373161e-01, -1.50958717e-01,\n",
       "       -2.72972226e-01,  1.19210042e-01, -2.14425832e-01, -2.33135559e-02,\n",
       "       -2.55770758e-02, -1.24003720e-02, -1.16939712e-02, -1.91093296e-01,\n",
       "       -2.21589640e-01,  2.65432715e-01, -1.06739275e-01,  2.73199767e-01,\n",
       "        1.37009695e-01,  1.85736790e-01,  1.45821944e-01, -3.59686208e-03,\n",
       "        1.77894384e-01,  1.31982088e-01, -1.94530919e-01, -1.48488775e-01,\n",
       "       -2.20973611e-01, -2.11316228e-01,  2.11024322e-02,  4.37641181e-02,\n",
       "        3.19353819e-01,  1.89225003e-01, -1.04042903e-01, -1.20829701e-01,\n",
       "        1.94638699e-01,  1.40928878e-02, -9.27638113e-02, -3.38804238e-02,\n",
       "       -3.39843869e-01,  2.55207978e-02, -6.01928905e-02,  2.20932782e-01,\n",
       "       -7.95788318e-02, -3.39089960e-01,  8.60174447e-02, -9.49221775e-02,\n",
       "       -3.16800117e-01,  1.94177963e-02,  2.53316432e-01,  1.03434548e-01,\n",
       "        1.05144240e-01,  3.59781921e-01, -8.04896206e-02, -4.68558073e-01,\n",
       "       -1.72131151e-01,  1.61785632e-01,  3.18480223e-01,  3.27687971e-02,\n",
       "       -1.69227093e-01,  3.42539668e-01, -1.75582930e-01,  4.67025816e-01])"
      ]
     },
     "execution_count": 27,
     "metadata": {},
     "output_type": "execute_result"
    }
   ],
   "source": [
    "np.zeros(500, None) + word2vec.wv['中二']"
   ]
  },
  {
   "cell_type": "code",
   "execution_count": 28,
   "metadata": {},
   "outputs": [],
   "source": [
    "def sentence2vec(sentences):\n",
    "    sentence_vecs = []\n",
    "    for sentence in sentences:\n",
    "        s = 0\n",
    "        sentence_vec = np.zeros(500, None)\n",
    "        words = sentence.split()\n",
    "        for word in words:\n",
    "            if word in word2vec.vocab:\n",
    "                sentence_vec += word2vec.wv[word]\n",
    "                s += 1\n",
    "            else:\n",
    "                continue\n",
    "        if s != 0:\n",
    "            sentence_vec = sentence_vec / s\n",
    "        else:\n",
    "            sentence_vec = np.zeros(500, None)\n",
    "        sentence_vecs.append(sentence_vec)\n",
    "    return sentence_vecs "
   ]
  },
  {
   "cell_type": "code",
   "execution_count": 29,
   "metadata": {},
   "outputs": [
    {
     "name": "stderr",
     "output_type": "stream",
     "text": [
      "C:\\Users\\Ryan Wu\\Anaconda3\\envs\\ai\\lib\\site-packages\\ipykernel_launcher.py:9: DeprecationWarning: Call to deprecated `wv` (Attribute will be removed in 4.0.0, use self instead).\n",
      "  if __name__ == '__main__':\n"
     ]
    }
   ],
   "source": [
    "sentence_vecs = sentence2vec(comments_cut)"
   ]
  },
  {
   "cell_type": "code",
   "execution_count": 30,
   "metadata": {
    "scrolled": true
   },
   "outputs": [
    {
     "data": {
      "text/plain": [
       "(500,)"
      ]
     },
     "execution_count": 30,
     "metadata": {},
     "output_type": "execute_result"
    }
   ],
   "source": [
    "sentence_vecs[0].shape"
   ]
  },
  {
   "cell_type": "code",
   "execution_count": 31,
   "metadata": {
    "scrolled": false
   },
   "outputs": [
    {
     "data": {
      "text/plain": [
       "(213969, 213969)"
      ]
     },
     "execution_count": 31,
     "metadata": {},
     "output_type": "execute_result"
    }
   ],
   "source": [
    "len(sentence_vecs), len(y)"
   ]
  },
  {
   "cell_type": "code",
   "execution_count": 32,
   "metadata": {},
   "outputs": [],
   "source": [
    "from sklearn.model_selection import train_test_split\n",
    "X_train, X_test, y_train, y_test = train_test_split(sentence_vecs, y, test_size=0.2, random_state=42)"
   ]
  },
  {
   "cell_type": "code",
   "execution_count": 33,
   "metadata": {
    "scrolled": true
   },
   "outputs": [
    {
     "data": {
      "text/plain": [
       "(171175, 42794, 171175, 42794)"
      ]
     },
     "execution_count": 33,
     "metadata": {},
     "output_type": "execute_result"
    }
   ],
   "source": [
    "len(X_train), len(X_test), len(y_train), len(y_test)"
   ]
  },
  {
   "cell_type": "code",
   "execution_count": 34,
   "metadata": {},
   "outputs": [],
   "source": [
    "import numpy as np\n",
    "X_tr_arr = np.array(X_train, dtype='float32')\n",
    "X_ts_arr = np.array(X_test, dtype='float32')\n",
    "y_tr_arr = np.array(y_train)\n",
    "y_ts_arr = np.array(y_test)"
   ]
  },
  {
   "cell_type": "code",
   "execution_count": 35,
   "metadata": {},
   "outputs": [
    {
     "name": "stderr",
     "output_type": "stream",
     "text": [
      "C:\\Users\\Ryan Wu\\Anaconda3\\envs\\ai\\lib\\site-packages\\sklearn\\linear_model\\logistic.py:432: FutureWarning: Default solver will be changed to 'lbfgs' in 0.22. Specify a solver to silence this warning.\n",
      "  FutureWarning)\n",
      "C:\\Users\\Ryan Wu\\Anaconda3\\envs\\ai\\lib\\site-packages\\sklearn\\linear_model\\logistic.py:469: FutureWarning: Default multi_class will be changed to 'auto' in 0.22. Specify the multi_class option to silence this warning.\n",
      "  \"this warning.\", FutureWarning)\n"
     ]
    }
   ],
   "source": [
    "from sklearn.linear_model import LogisticRegression\n",
    "clf = LogisticRegression().fit(X_tr_arr, y_tr_arr)"
   ]
  },
  {
   "cell_type": "code",
   "execution_count": 36,
   "metadata": {},
   "outputs": [
    {
     "data": {
      "text/plain": [
       "0.401992113334307"
      ]
     },
     "execution_count": 36,
     "metadata": {},
     "output_type": "execute_result"
    }
   ],
   "source": [
    "clf.score(X_tr_arr, y_tr_arr)"
   ]
  },
  {
   "cell_type": "code",
   "execution_count": 37,
   "metadata": {},
   "outputs": [
    {
     "data": {
      "text/plain": [
       "0.39881759125111"
      ]
     },
     "execution_count": 37,
     "metadata": {},
     "output_type": "execute_result"
    }
   ],
   "source": [
    "clf.score(X_ts_arr, y_ts_arr)"
   ]
  },
  {
   "cell_type": "code",
   "execution_count": 38,
   "metadata": {
    "scrolled": true
   },
   "outputs": [
    {
     "data": {
      "text/plain": [
       "(171175, 500)"
      ]
     },
     "execution_count": 38,
     "metadata": {},
     "output_type": "execute_result"
    }
   ],
   "source": [
    "X_tr_arr.shape"
   ]
  },
  {
   "cell_type": "code",
   "execution_count": 39,
   "metadata": {},
   "outputs": [
    {
     "data": {
      "text/plain": [
       "(171175,)"
      ]
     },
     "execution_count": 39,
     "metadata": {},
     "output_type": "execute_result"
    }
   ],
   "source": [
    "y_tr_arr.shape"
   ]
  },
  {
   "cell_type": "code",
   "execution_count": 40,
   "metadata": {
    "scrolled": true
   },
   "outputs": [
    {
     "data": {
      "text/plain": [
       "2"
      ]
     },
     "execution_count": 40,
     "metadata": {},
     "output_type": "execute_result"
    }
   ],
   "source": [
    "y_tr_arr[0]"
   ]
  },
  {
   "cell_type": "code",
   "execution_count": 41,
   "metadata": {},
   "outputs": [],
   "source": [
    "num_labels = 6\n",
    "\n",
    "def reformat(labels):\n",
    "  # Map 1 to [0.0, 1.0, 0.0 ...], 2 to [0.0, 0.0, 1.0 ...]\n",
    "  labels = (np.arange(num_labels) == labels[:,None]).astype(np.float32)\n",
    "  return labels"
   ]
  },
  {
   "cell_type": "code",
   "execution_count": 42,
   "metadata": {},
   "outputs": [
    {
     "name": "stdout",
     "output_type": "stream",
     "text": [
      "Training set (171175, 500) (171175, 6)\n",
      "Test set (42794, 500) (42794, 6)\n"
     ]
    }
   ],
   "source": [
    "y_tr_arr = reformat(y_tr_arr)\n",
    "y_ts_arr = reformat(y_ts_arr)\n",
    "print('Training set', X_tr_arr.shape, y_tr_arr.shape)\n",
    "print('Test set', X_ts_arr.shape, y_ts_arr.shape)"
   ]
  },
  {
   "cell_type": "code",
   "execution_count": 43,
   "metadata": {},
   "outputs": [
    {
     "data": {
      "text/plain": [
       "array([0., 0., 1., 0., 0., 0.], dtype=float32)"
      ]
     },
     "execution_count": 43,
     "metadata": {},
     "output_type": "execute_result"
    }
   ],
   "source": [
    "y_tr_arr[0]"
   ]
  },
  {
   "cell_type": "code",
   "execution_count": 44,
   "metadata": {
    "scrolled": false
   },
   "outputs": [
    {
     "data": {
      "text/plain": [
       "(500,)"
      ]
     },
     "execution_count": 44,
     "metadata": {},
     "output_type": "execute_result"
    }
   ],
   "source": [
    "X_tr_arr[0].shape"
   ]
  },
  {
   "cell_type": "code",
   "execution_count": 45,
   "metadata": {},
   "outputs": [],
   "source": [
    "import tensorflow as tf"
   ]
  },
  {
   "cell_type": "code",
   "execution_count": 46,
   "metadata": {},
   "outputs": [],
   "source": [
    "def accuracy(predictions, labels):\n",
    "  return (100.0 * np.sum(np.argmax(predictions, 1) == np.argmax(labels, 1))\n",
    "          / predictions.shape[0])"
   ]
  },
  {
   "cell_type": "code",
   "execution_count": 58,
   "metadata": {
    "scrolled": false
   },
   "outputs": [],
   "source": [
    "batch_size = 100\n",
    "hiden_layer_node_num = 1024\n",
    "beta = 0.01\n",
    "\n",
    "graph = tf.Graph()\n",
    "with graph.as_default():\n",
    "\n",
    "  # Input data. For the training data, we use a placeholder that will be fed\n",
    "  # at run time with a training minibatch.\n",
    "  tf_train_dataset = tf.placeholder(tf.float32,\n",
    "                                    shape=(batch_size, 500))\n",
    "  tf_train_labels = tf.placeholder(tf.float32, shape=(batch_size, num_labels))\n",
    "  tf_test_dataset = tf.constant(X_ts_arr)\n",
    "  \n",
    "  # Variables.\n",
    "  weights1 = tf.Variable(\n",
    "    tf.truncated_normal([500, hiden_layer_node_num], stddev=0.04))\n",
    "  biases1 = tf.Variable(tf.zeros([hiden_layer_node_num]))\n",
    "    \n",
    "  # input layer output (batch_size, hiden_layer_node_num)\n",
    "  weights2 = tf.Variable(tf.truncated_normal([hiden_layer_node_num, num_labels], stddev=0.04))\n",
    "  biases2 = tf.Variable(tf.zeros([num_labels]))\n",
    "\n",
    "  \n",
    "  # Training computation.\n",
    "  logits = tf.matmul(tf.nn.relu(tf.matmul(tf_train_dataset, weights1) + biases1), weights2) + biases2\n",
    "  loss = tf.reduce_mean(\n",
    "    tf.nn.softmax_cross_entropy_with_logits(labels=tf_train_labels, logits=logits))\n",
    "  regularizers = tf.nn.l2_loss(weights1) + tf.nn.l2_loss(weights2)\n",
    "  loss = tf.reduce_mean(loss + beta * regularizers)\n",
    "  \n",
    "  # Optimizer.\n",
    "  optimizer = tf.train.GradientDescentOptimizer(0.5).minimize(loss)\n",
    "  \n",
    "  # Predictions for the training, validation, and test data.\n",
    "  train_prediction = tf.nn.softmax(logits)\n",
    "  test_prediction = tf.nn.softmax(tf.matmul(tf.nn.relu(tf.matmul(tf_test_dataset, weights1) + biases1), weights2) + biases2)"
   ]
  },
  {
   "cell_type": "code",
   "execution_count": 59,
   "metadata": {},
   "outputs": [
    {
     "name": "stdout",
     "output_type": "stream",
     "text": [
      "Initialized\n",
      "Minibatch loss at step 0: 5.017567\n",
      "Minibatch accuracy: 12.0%\n",
      "Minibatch loss at step 500: 1.567699\n",
      "Minibatch accuracy: 30.0%\n",
      "Minibatch loss at step 1000: 1.472009\n",
      "Minibatch accuracy: 36.0%\n",
      "Minibatch loss at step 1500: 1.574567\n",
      "Minibatch accuracy: 31.0%\n",
      "Minibatch loss at step 2000: 1.499942\n",
      "Minibatch accuracy: 35.0%\n",
      "Minibatch loss at step 2500: 1.455968\n",
      "Minibatch accuracy: 33.0%\n",
      "Minibatch loss at step 3000: 1.469914\n",
      "Minibatch accuracy: 41.0%\n",
      "Test accuracy: 34.8%\n"
     ]
    }
   ],
   "source": [
    "num_steps = 3001\n",
    "\n",
    "with tf.Session(graph=graph) as session:\n",
    "  tf.global_variables_initializer().run()\n",
    "  print(\"Initialized\")\n",
    "  for step in range(num_steps):\n",
    "    # Pick an offset within the training data, which has been randomized.\n",
    "    # Note: we could use better randomization across epochs.\n",
    "    offset = (step * batch_size) % (y_tr_arr.shape[0] - batch_size)\n",
    "    # Generate a minibatch.\n",
    "    batch_data = X_tr_arr[offset:(offset + batch_size), :]\n",
    "    batch_labels = y_tr_arr[offset:(offset + batch_size), :]\n",
    "    # Prepare a dictionary telling the session where to feed the minibatch.\n",
    "    # The key of the dictionary is the placeholder node of the graph to be fed,\n",
    "    # and the value is the numpy array to feed to it.\n",
    "    feed_dict = {tf_train_dataset : batch_data, tf_train_labels : batch_labels}\n",
    "    _, l, predictions = session.run(\n",
    "      [optimizer, loss, train_prediction], feed_dict=feed_dict)\n",
    "    if (step % 500 == 0):\n",
    "      print(\"Minibatch loss at step %d: %f\" % (step, l))\n",
    "      print(\"Minibatch accuracy: %.1f%%\" % accuracy(predictions, batch_labels))\n",
    "  print(\"Test accuracy: %.1f%%\" % accuracy(test_prediction.eval(), y_ts_arr))"
   ]
  },
  {
   "cell_type": "markdown",
   "metadata": {},
   "source": [
    "## 以上效果不佳，试试情感分类工具snownlp"
   ]
  },
  {
   "cell_type": "code",
   "execution_count": 204,
   "metadata": {},
   "outputs": [],
   "source": [
    "from snownlp import SnowNLP"
   ]
  },
  {
   "cell_type": "code",
   "execution_count": 205,
   "metadata": {},
   "outputs": [],
   "source": [
    "s = SnowNLP(u'这个东西真赞。但是我不喜欢')"
   ]
  },
  {
   "cell_type": "code",
   "execution_count": 206,
   "metadata": {},
   "outputs": [
    {
     "data": {
      "text/plain": [
       "0.9269068736444782"
      ]
     },
     "execution_count": 206,
     "metadata": {},
     "output_type": "execute_result"
    }
   ],
   "source": [
    "s.sentiments"
   ]
  },
  {
   "cell_type": "code",
   "execution_count": 209,
   "metadata": {},
   "outputs": [],
   "source": [
    "s = SnowNLP(u'恶心')"
   ]
  },
  {
   "cell_type": "code",
   "execution_count": 210,
   "metadata": {},
   "outputs": [
    {
     "data": {
      "text/plain": [
       "0.12413793103448256"
      ]
     },
     "execution_count": 210,
     "metadata": {},
     "output_type": "execute_result"
    }
   ],
   "source": [
    "s.sentiments"
   ]
  },
  {
   "cell_type": "code",
   "execution_count": 211,
   "metadata": {},
   "outputs": [
    {
     "data": {
      "text/plain": [
       "'吴京意淫到了脑残的地步，看了恶心想吐'"
      ]
     },
     "execution_count": 211,
     "metadata": {},
     "output_type": "execute_result"
    }
   ],
   "source": [
    "comments[0]"
   ]
  },
  {
   "cell_type": "code",
   "execution_count": 212,
   "metadata": {},
   "outputs": [
    {
     "data": {
      "text/plain": [
       "0.0323066138237218"
      ]
     },
     "execution_count": 212,
     "metadata": {},
     "output_type": "execute_result"
    }
   ],
   "source": [
    "SnowNLP(comments[0]).sentiments"
   ]
  },
  {
   "cell_type": "code",
   "execution_count": 213,
   "metadata": {},
   "outputs": [],
   "source": [
    "sentiments = [SnowNLP(comment).sentiments for comment in comments]"
   ]
  },
  {
   "cell_type": "code",
   "execution_count": 214,
   "metadata": {},
   "outputs": [
    {
     "data": {
      "text/plain": [
       "0.0323066138237218"
      ]
     },
     "execution_count": 214,
     "metadata": {},
     "output_type": "execute_result"
    }
   ],
   "source": [
    "sentiments[0]"
   ]
  },
  {
   "cell_type": "code",
   "execution_count": 215,
   "metadata": {},
   "outputs": [],
   "source": [
    "from sklearn.model_selection import train_test_split\n",
    "X_train, X_test, y_train, y_test = train_test_split(sentiments, y, test_size=0.2, random_state=42)"
   ]
  },
  {
   "cell_type": "code",
   "execution_count": 216,
   "metadata": {},
   "outputs": [],
   "source": [
    "import numpy as np\n",
    "X_tr_arr = np.array(X_train, dtype='float32')\n",
    "X_ts_arr = np.array(X_test, dtype='float32')\n",
    "y_tr_arr = np.array(y_train)\n",
    "y_ts_arr = np.array(y_test)"
   ]
  },
  {
   "cell_type": "code",
   "execution_count": 220,
   "metadata": {},
   "outputs": [
    {
     "data": {
      "text/plain": [
       "((171175,), (171175,), (42794,), (42794,))"
      ]
     },
     "execution_count": 220,
     "metadata": {},
     "output_type": "execute_result"
    }
   ],
   "source": [
    "X_tr_arr.shape, y_tr_arr.shape, X_ts_arr.shape, y_ts_arr.shape"
   ]
  },
  {
   "cell_type": "code",
   "execution_count": 221,
   "metadata": {},
   "outputs": [
    {
     "data": {
      "text/plain": [
       "0.99956065"
      ]
     },
     "execution_count": 221,
     "metadata": {},
     "output_type": "execute_result"
    }
   ],
   "source": [
    "X_tr_arr[0]"
   ]
  },
  {
   "cell_type": "code",
   "execution_count": 222,
   "metadata": {},
   "outputs": [
    {
     "data": {
      "text/plain": [
       "2"
      ]
     },
     "execution_count": 222,
     "metadata": {},
     "output_type": "execute_result"
    }
   ],
   "source": [
    "y_tr_arr[0]"
   ]
  },
  {
   "cell_type": "code",
   "execution_count": 223,
   "metadata": {},
   "outputs": [
    {
     "name": "stderr",
     "output_type": "stream",
     "text": [
      "C:\\Users\\Mr. Wu\\Anaconda3\\envs\\AI\\lib\\site-packages\\sklearn\\linear_model\\logistic.py:432: FutureWarning: Default solver will be changed to 'lbfgs' in 0.22. Specify a solver to silence this warning.\n",
      "  FutureWarning)\n",
      "C:\\Users\\Mr. Wu\\Anaconda3\\envs\\AI\\lib\\site-packages\\sklearn\\linear_model\\logistic.py:469: FutureWarning: Default multi_class will be changed to 'auto' in 0.22. Specify the multi_class option to silence this warning.\n",
      "  \"this warning.\", FutureWarning)\n"
     ]
    }
   ],
   "source": [
    "from sklearn.linear_model import LogisticRegression\n",
    "clf = LogisticRegression().fit(X_tr_arr.reshape(-1, 1), y_tr_arr)"
   ]
  },
  {
   "cell_type": "code",
   "execution_count": 225,
   "metadata": {},
   "outputs": [
    {
     "data": {
      "text/plain": [
       "0.33087191470717103"
      ]
     },
     "execution_count": 225,
     "metadata": {},
     "output_type": "execute_result"
    }
   ],
   "source": [
    "clf.score(X_tr_arr.reshape(-1, 1), y_tr_arr)"
   ]
  },
  {
   "cell_type": "code",
   "execution_count": 226,
   "metadata": {
    "scrolled": true
   },
   "outputs": [
    {
     "data": {
      "text/plain": [
       "0.32983595831191287"
      ]
     },
     "execution_count": 226,
     "metadata": {},
     "output_type": "execute_result"
    }
   ],
   "source": [
    "clf.score(X_ts_arr.reshape(-1, 1), y_ts_arr)"
   ]
  },
  {
   "cell_type": "markdown",
   "metadata": {},
   "source": [
    "## fasttext"
   ]
  },
  {
   "cell_type": "code",
   "execution_count": 1,
   "metadata": {
    "scrolled": false
   },
   "outputs": [],
   "source": [
    "import fasttext"
   ]
  },
  {
   "cell_type": "code",
   "execution_count": null,
   "metadata": {},
   "outputs": [],
   "source": [
    "from sklearn.model_selection import train_test_split\n",
    "X_train, X_test, y_train, y_test = train_test_split(comments, y, test_size=0.2, random_state=42)"
   ]
  },
  {
   "cell_type": "code",
   "execution_count": null,
   "metadata": {},
   "outputs": [],
   "source": [
    "len(X_train), len(X_test), len(y_train), len(y_test)"
   ]
  },
  {
   "cell_type": "code",
   "execution_count": 67,
   "metadata": {},
   "outputs": [],
   "source": [
    "with open('comments_with_label.txt', 'w', encoding='utf-8') as f:\n",
    "    for comment, label in zip(X_train, y_train):\n",
    "        label = str('__label__' + str(label))\n",
    "        comment = cut(comment)\n",
    "        f.write(label + ' , ' + comment)\n",
    "        f.write('\\n')"
   ]
  },
  {
   "cell_type": "code",
   "execution_count": 80,
   "metadata": {},
   "outputs": [],
   "source": [
    "model = fasttext.train_supervised(input=\"comments_with_label.txt\", lr=0.1, epoch=50, wordNgrams=3)"
   ]
  },
  {
   "cell_type": "code",
   "execution_count": 72,
   "metadata": {},
   "outputs": [],
   "source": [
    "with open('comments_test.txt', 'w', encoding='utf-8') as f:\n",
    "     for comment, label in zip(X_test, y_test):\n",
    "        label = str('__label__' + str(label))\n",
    "        comment = cut(comment)\n",
    "        f.write(label + ' , ' + comment)\n",
    "        f.write('\\n')"
   ]
  },
  {
   "cell_type": "code",
   "execution_count": 81,
   "metadata": {
    "scrolled": true
   },
   "outputs": [
    {
     "data": {
      "text/plain": [
       "(42794, 0.4331448333878581, 0.4331448333878581)"
      ]
     },
     "execution_count": 81,
     "metadata": {},
     "output_type": "execute_result"
    }
   ],
   "source": [
    "model.test('comments_test.txt')"
   ]
  },
  {
   "cell_type": "code",
   "execution_count": null,
   "metadata": {},
   "outputs": [],
   "source": []
  }
 ],
 "metadata": {
  "kernelspec": {
   "display_name": "ai",
   "language": "python",
   "name": "ai"
  },
  "language_info": {
   "codemirror_mode": {
    "name": "ipython",
    "version": 3
   },
   "file_extension": ".py",
   "mimetype": "text/x-python",
   "name": "python",
   "nbconvert_exporter": "python",
   "pygments_lexer": "ipython3",
   "version": "3.6.8"
  }
 },
 "nbformat": 4,
 "nbformat_minor": 2
}
